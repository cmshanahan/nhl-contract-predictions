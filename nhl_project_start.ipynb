{
 "cells": [
  {
   "cell_type": "code",
   "execution_count": 1,
   "metadata": {},
   "outputs": [],
   "source": [
    "import numpy as np\n",
    "import pandas as pd\n",
    "import matplotlib.pyplot as plt\n",
    "\n",
    "%matplotlib inline"
   ]
  },
  {
   "cell_type": "code",
   "execution_count": 2,
   "metadata": {},
   "outputs": [],
   "source": [
    "import requests\n",
    "from bs4 import BeautifulSoup"
   ]
  },
  {
   "cell_type": "code",
   "execution_count": 3,
   "metadata": {},
   "outputs": [],
   "source": [
    "import ast"
   ]
  },
  {
   "cell_type": "code",
   "execution_count": 4,
   "metadata": {},
   "outputs": [],
   "source": [
    "import json\n",
    "from collections import defaultdict"
   ]
  },
  {
   "cell_type": "code",
   "execution_count": 5,
   "metadata": {},
   "outputs": [
    {
     "data": {
      "text/plain": [
       "bs4.BeautifulSoup"
      ]
     },
     "execution_count": 5,
     "metadata": {},
     "output_type": "execute_result"
    }
   ],
   "source": [
    "teams = requests.get('https://statsapi.web.nhl.com/api/v1/teams/')\n",
    "soup = BeautifulSoup(teams.content, 'html.parser')\n",
    "type(soup)"
   ]
  },
  {
   "cell_type": "code",
   "execution_count": 6,
   "metadata": {},
   "outputs": [],
   "source": [
    "j = json.loads(teams.content)"
   ]
  },
  {
   "cell_type": "code",
   "execution_count": 7,
   "metadata": {},
   "outputs": [],
   "source": [
    "active_team_ids = []\n",
    "team_name_ids = defaultdict(str)\n",
    "team_info = defaultdict(dict)\n",
    "for i in j['teams']:\n",
    "    _id = i['id']\n",
    "    active_team_ids.append(_id)\n",
    "    team_name_ids[_id] = i['name']\n",
    "    team_info[_id] = i"
   ]
  },
  {
   "cell_type": "code",
   "execution_count": 8,
   "metadata": {},
   "outputs": [
    {
     "data": {
      "text/plain": [
       "31"
      ]
     },
     "execution_count": 8,
     "metadata": {},
     "output_type": "execute_result"
    }
   ],
   "source": [
    "len(active_team_ids)"
   ]
  },
  {
   "cell_type": "code",
   "execution_count": 9,
   "metadata": {},
   "outputs": [],
   "source": [
    "# roster = requests.get('https://statsapi.web.nhl.com/api/v1/teams/1?expand=team.roster')\n",
    "# r = json.loads(roster.content)\n",
    "# roster = r['teams'][0]['roster']['roster']\n",
    "# roster[0]['person']\n",
    "\n",
    "rosters = defaultdict(list)\n",
    "for teamid in active_team_ids:\n",
    "    bstring = requests.get('https://statsapi.web.nhl.com/api/v1/teams/{}?expand=team.roster'\n",
    "                          .format(teamid))\n",
    "    r = json.loads(bstring.content)\n",
    "    rosters[teamid] = r['teams'][0]['roster']['roster']"
   ]
  },
  {
   "cell_type": "code",
   "execution_count": 10,
   "metadata": {},
   "outputs": [
    {
     "data": {
      "text/plain": [
       "8475791"
      ]
     },
     "execution_count": 10,
     "metadata": {},
     "output_type": "execute_result"
    }
   ],
   "source": [
    "rosters[1][0]['person']['id']"
   ]
  },
  {
   "cell_type": "code",
   "execution_count": 11,
   "metadata": {},
   "outputs": [
    {
     "data": {
      "text/plain": [
       "[{'person': {'id': 8475791,\n",
       "   'fullName': 'Taylor Hall',\n",
       "   'link': '/api/v1/people/8475791'},\n",
       "  'jerseyNumber': '9',\n",
       "  'position': {'code': 'L',\n",
       "   'name': 'Left Wing',\n",
       "   'type': 'Forward',\n",
       "   'abbreviation': 'LW'}},\n",
       " {'person': {'id': 8471226,\n",
       "   'fullName': 'Drew Stafford',\n",
       "   'link': '/api/v1/people/8471226'},\n",
       "  'jerseyNumber': '18',\n",
       "  'position': {'code': 'R',\n",
       "   'name': 'Right Wing',\n",
       "   'type': 'Forward',\n",
       "   'abbreviation': 'RW'}},\n",
       " {'person': {'id': 8471233,\n",
       "   'fullName': 'Travis Zajac',\n",
       "   'link': '/api/v1/people/8471233'},\n",
       "  'jerseyNumber': '19',\n",
       "  'position': {'code': 'C',\n",
       "   'name': 'Center',\n",
       "   'type': 'Forward',\n",
       "   'abbreviation': 'C'}},\n",
       " {'person': {'id': 8471239,\n",
       "   'fullName': 'Cory Schneider',\n",
       "   'link': '/api/v1/people/8471239'},\n",
       "  'jerseyNumber': '35',\n",
       "  'position': {'code': 'G',\n",
       "   'name': 'Goalie',\n",
       "   'type': 'Goalie',\n",
       "   'abbreviation': 'G'}},\n",
       " {'person': {'id': 8472382,\n",
       "   'fullName': 'Andy Greene',\n",
       "   'link': '/api/v1/people/8472382'},\n",
       "  'jerseyNumber': '6',\n",
       "  'position': {'code': 'D',\n",
       "   'name': 'Defenseman',\n",
       "   'type': 'Defenseman',\n",
       "   'abbreviation': 'D'}},\n",
       " {'person': {'id': 8475151,\n",
       "   'fullName': 'Kyle Palmieri',\n",
       "   'link': '/api/v1/people/8475151'},\n",
       "  'jerseyNumber': '21',\n",
       "  'position': {'code': 'R',\n",
       "   'name': 'Right Wing',\n",
       "   'type': 'Forward',\n",
       "   'abbreviation': 'RW'}},\n",
       " {'person': {'id': 8475222,\n",
       "   'fullName': 'Sami Vatanen',\n",
       "   'link': '/api/v1/people/8475222'},\n",
       "  'jerseyNumber': '45',\n",
       "  'position': {'code': 'D',\n",
       "   'name': 'Defenseman',\n",
       "   'type': 'Defenseman',\n",
       "   'abbreviation': 'D'}},\n",
       " {'person': {'id': 8475844,\n",
       "   'fullName': 'Kenny Agostino',\n",
       "   'link': '/api/v1/people/8475844'},\n",
       "  'jerseyNumber': '17',\n",
       "  'position': {'code': 'L',\n",
       "   'name': 'Left Wing',\n",
       "   'type': 'Forward',\n",
       "   'abbreviation': 'LW'}},\n",
       " {'person': {'id': 8476399,\n",
       "   'fullName': 'Blake Coleman',\n",
       "   'link': '/api/v1/people/8476399'},\n",
       "  'jerseyNumber': '20',\n",
       "  'position': {'code': 'C',\n",
       "   'name': 'Center',\n",
       "   'type': 'Forward',\n",
       "   'abbreviation': 'C'}},\n",
       " {'person': {'id': 8476474,\n",
       "   'fullName': 'Stefan Noesen',\n",
       "   'link': '/api/v1/people/8476474'},\n",
       "  'jerseyNumber': '23',\n",
       "  'position': {'code': 'R',\n",
       "   'name': 'Right Wing',\n",
       "   'type': 'Forward',\n",
       "   'abbreviation': 'RW'}},\n",
       " {'person': {'id': 8476545,\n",
       "   'fullName': 'Kurtis Gabriel',\n",
       "   'link': '/api/v1/people/8476545'},\n",
       "  'jerseyNumber': '39',\n",
       "  'position': {'code': 'R',\n",
       "   'name': 'Right Wing',\n",
       "   'type': 'Forward',\n",
       "   'abbreviation': 'RW'}},\n",
       " {'person': {'id': 8476923,\n",
       "   'fullName': 'Damon Severson',\n",
       "   'link': '/api/v1/people/8476923'},\n",
       "  'jerseyNumber': '28',\n",
       "  'position': {'code': 'D',\n",
       "   'name': 'Defenseman',\n",
       "   'type': 'Defenseman',\n",
       "   'abbreviation': 'D'}},\n",
       " {'person': {'id': 8476941,\n",
       "   'fullName': 'Connor Carrick',\n",
       "   'link': '/api/v1/people/8476941'},\n",
       "  'jerseyNumber': '5',\n",
       "  'position': {'code': 'D',\n",
       "   'name': 'Defenseman',\n",
       "   'type': 'Defenseman',\n",
       "   'abbreviation': 'D'}},\n",
       " {'person': {'id': 8477355,\n",
       "   'fullName': 'Will Butcher',\n",
       "   'link': '/api/v1/people/8477355'},\n",
       "  'jerseyNumber': '8',\n",
       "  'position': {'code': 'D',\n",
       "   'name': 'Defenseman',\n",
       "   'type': 'Defenseman',\n",
       "   'abbreviation': 'D'}},\n",
       " {'person': {'id': 8477425,\n",
       "   'fullName': 'Miles Wood',\n",
       "   'link': '/api/v1/people/8477425'},\n",
       "  'jerseyNumber': '44',\n",
       "  'position': {'code': 'L',\n",
       "   'name': 'Left Wing',\n",
       "   'type': 'Forward',\n",
       "   'abbreviation': 'LW'}},\n",
       " {'person': {'id': 8477463,\n",
       "   'fullName': 'Steven Santini',\n",
       "   'link': '/api/v1/people/8477463'},\n",
       "  'jerseyNumber': '16',\n",
       "  'position': {'code': 'D',\n",
       "   'name': 'Defenseman',\n",
       "   'type': 'Defenseman',\n",
       "   'abbreviation': 'D'}},\n",
       " {'person': {'id': 8477509,\n",
       "   'fullName': 'Mirco Mueller',\n",
       "   'link': '/api/v1/people/8477509'},\n",
       "  'jerseyNumber': '25',\n",
       "  'position': {'code': 'D',\n",
       "   'name': 'Defenseman',\n",
       "   'type': 'Defenseman',\n",
       "   'abbreviation': 'D'}},\n",
       " {'person': {'id': 8478401,\n",
       "   'fullName': 'Pavel Zacha',\n",
       "   'link': '/api/v1/people/8478401'},\n",
       "  'jerseyNumber': '37',\n",
       "  'position': {'code': 'C',\n",
       "   'name': 'Center',\n",
       "   'type': 'Forward',\n",
       "   'abbreviation': 'C'}},\n",
       " {'person': {'id': 8478406,\n",
       "   'fullName': 'Mackenzie Blackwood',\n",
       "   'link': '/api/v1/people/8478406'},\n",
       "  'jerseyNumber': '29',\n",
       "  'position': {'code': 'G',\n",
       "   'name': 'Goalie',\n",
       "   'type': 'Goalie',\n",
       "   'abbreviation': 'G'}},\n",
       " {'person': {'id': 8479291,\n",
       "   'fullName': 'Kevin Rooney',\n",
       "   'link': '/api/v1/people/8479291'},\n",
       "  'jerseyNumber': '58',\n",
       "  'position': {'code': 'C',\n",
       "   'name': 'Center',\n",
       "   'type': 'Forward',\n",
       "   'abbreviation': 'C'}},\n",
       " {'person': {'id': 8479407,\n",
       "   'fullName': 'Jesper Bratt',\n",
       "   'link': '/api/v1/people/8479407'},\n",
       "  'jerseyNumber': '63',\n",
       "  'position': {'code': 'L',\n",
       "   'name': 'Left Wing',\n",
       "   'type': 'Forward',\n",
       "   'abbreviation': 'LW'}},\n",
       " {'person': {'id': 8479414,\n",
       "   'fullName': 'Nathan Bastian',\n",
       "   'link': '/api/v1/people/8479414'},\n",
       "  'jerseyNumber': '42',\n",
       "  'position': {'code': 'R',\n",
       "   'name': 'Right Wing',\n",
       "   'type': 'Forward',\n",
       "   'abbreviation': 'RW'}},\n",
       " {'person': {'id': 8479415,\n",
       "   'fullName': 'Michael McLeod',\n",
       "   'link': '/api/v1/people/8479415'},\n",
       "  'jerseyNumber': '41',\n",
       "  'position': {'code': 'C',\n",
       "   'name': 'Center',\n",
       "   'type': 'Forward',\n",
       "   'abbreviation': 'C'}},\n",
       " {'person': {'id': 8480002,\n",
       "   'fullName': 'Nico Hischier',\n",
       "   'link': '/api/v1/people/8480002'},\n",
       "  'jerseyNumber': '13',\n",
       "  'position': {'code': 'C',\n",
       "   'name': 'Center',\n",
       "   'type': 'Forward',\n",
       "   'abbreviation': 'C'}},\n",
       " {'person': {'id': 8480948,\n",
       "   'fullName': 'Egor Yakovlev',\n",
       "   'link': '/api/v1/people/8480948'},\n",
       "  'jerseyNumber': '74',\n",
       "  'position': {'code': 'D',\n",
       "   'name': 'Defenseman',\n",
       "   'type': 'Defenseman',\n",
       "   'abbreviation': 'D'}}]"
      ]
     },
     "execution_count": 11,
     "metadata": {},
     "output_type": "execute_result"
    }
   ],
   "source": [
    "stats\n",
    "for p in "
   ]
  },
  {
   "cell_type": "code",
   "execution_count": 11,
   "metadata": {},
   "outputs": [],
   "source": [
    "#rasmus dahlin - 8480839"
   ]
  },
  {
   "cell_type": "code",
   "execution_count": 12,
   "metadata": {},
   "outputs": [
    {
     "data": {
      "text/plain": [
       "[{'type': {'displayName': 'statsSingleSeason'},\n",
       "  'splits': [{'season': '20182019',\n",
       "    'stat': {'timeOnIce': '649:40',\n",
       "     'assists': 26,\n",
       "     'goals': 11,\n",
       "     'pim': 16,\n",
       "     'shots': 113,\n",
       "     'games': 33,\n",
       "     'hits': 22,\n",
       "     'powerPlayGoals': 1,\n",
       "     'powerPlayPoints': 12,\n",
       "     'powerPlayTimeOnIce': '112:11',\n",
       "     'evenTimeOnIce': '536:05',\n",
       "     'penaltyMinutes': '16',\n",
       "     'faceOffPct': 44.82,\n",
       "     'shotPct': 9.7,\n",
       "     'gameWinningGoals': 3,\n",
       "     'overTimeGoals': 0,\n",
       "     'shortHandedGoals': 0,\n",
       "     'shortHandedPoints': 0,\n",
       "     'shortHandedTimeOnIce': '01:24',\n",
       "     'blocked': 29,\n",
       "     'plusMinus': -6,\n",
       "     'points': 37,\n",
       "     'shifts': 727,\n",
       "     'timeOnIcePerGame': '19:41',\n",
       "     'evenTimeOnIcePerGame': '16:14',\n",
       "     'shortHandedTimeOnIcePerGame': '00:02',\n",
       "     'powerPlayTimeOnIcePerGame': '03:23'}}]}]"
      ]
     },
     "execution_count": 12,
     "metadata": {},
     "output_type": "execute_result"
    }
   ],
   "source": [
    "ps = requests.get('https://statsapi.web.nhl.com/api/v1/people/{}/stats?stats=statsSingleSeason&Season=20182019'.format(8475791))\n",
    "ps = json.loads(ps.content)['stats']\n",
    "ps"
   ]
  },
  {
   "cell_type": "code",
   "execution_count": 13,
   "metadata": {},
   "outputs": [
    {
     "data": {
      "text/plain": [
       "{\n",
       "  \"copyright\" : \"NHL and the NHL Shield are registered trademarks of the National Hockey League. NHL and NHL team marks are the property of the NHL and its teams. Â© NHL 2019. All Rights Reserved.\",\n",
       "  \"people\" : [ {\n",
       "    \"id\" : 8444849,\n",
       "    \"fullName\" : \"N.E. Pierson\",\n",
       "    \"link\" : \"/api/v1/people/8444849\",\n",
       "    \"firstName\" : \"N.E.\",\n",
       "    \"lastName\" : \"Pierson\",\n",
       "    \"primaryNumber\" : \"4\",\n",
       "    \"birthDate\" : \"1916-10-08\",\n",
       "    \"birthCity\" : \"Toronto\",\n",
       "    \"birthStateProvince\" : \"ON\",\n",
       "    \"birthCountry\" : \"CAN\",\n",
       "    \"nationality\" : \"CAN\",\n",
       "    \"height\" : \"6' 1\\\"\",\n",
       "    \"weight\" : 195,\n",
       "    \"active\" : false,\n",
       "    \"rookie\" : false,\n",
       "    \"shootsCatches\" : \"L\",\n",
       "    \"rosterStatus\" : \"N\",\n",
       "    \"primaryPosition\" : {\n",
       "      \"code\" : \"D\",\n",
       "      \"name\" : \"Defenseman\",\n",
       "      \"type\" : \"Defenseman\",\n",
       "      \"abbreviation\" : \"D\"\n",
       "    }\n",
       "  } ]\n",
       "}"
      ]
     },
     "execution_count": 13,
     "metadata": {},
     "output_type": "execute_result"
    }
   ],
   "source": [
    "#lowest player id I can find\n",
    "ddddd = requests.get('https://statsapi.web.nhl.com/api/v1/people/8444849')\n",
    "soddup = BeautifulSoup(ddddd.content, 'html.parser')\n",
    "soddup"
   ]
  },
  {
   "cell_type": "code",
   "execution_count": 14,
   "metadata": {},
   "outputs": [
    {
     "data": {
      "text/plain": [
       "{\n",
       "  \"copyright\" : \"NHL and the NHL Shield are registered trademarks of the National Hockey League. NHL and NHL team marks are the property of the NHL and its teams. Â© NHL 2019. All Rights Reserved.\",\n",
       "  \"people\" : [ {\n",
       "    \"id\" : 8480907,\n",
       "    \"fullName\" : \"Kayle Hayton\",\n",
       "    \"link\" : \"/api/v1/people/8480907\",\n",
       "    \"firstName\" : \"Kayle\",\n",
       "    \"lastName\" : \"Hayton\",\n",
       "    \"birthDate\" : \"1994-05-12\",\n",
       "    \"birthCity\" : \"Denver\",\n",
       "    \"birthStateProvince\" : \"CO\",\n",
       "    \"birthCountry\" : \"USA\",\n",
       "    \"nationality\" : \"USA\",\n",
       "    \"height\" : \"6' 0\\\"\",\n",
       "    \"weight\" : 161,\n",
       "    \"active\" : false,\n",
       "    \"rookie\" : true,\n",
       "    \"shootsCatches\" : \"L\",\n",
       "    \"rosterStatus\" : \"N\",\n",
       "    \"primaryPosition\" : {\n",
       "      \"code\" : \"G\",\n",
       "      \"name\" : \"Goalie\",\n",
       "      \"type\" : \"Goalie\",\n",
       "      \"abbreviation\" : \"G\"\n",
       "    }\n",
       "  } ]\n",
       "}"
      ]
     },
     "execution_count": 14,
     "metadata": {},
     "output_type": "execute_result"
    }
   ],
   "source": [
    "#highest player id I can find\n",
    "ddddd = requests.get('https://statsapi.web.nhl.com/api/v1/people/8480907')\n",
    "soddup = BeautifulSoup(ddddd.content, 'html.parser')\n",
    "soddup"
   ]
  },
  {
   "cell_type": "code",
   "execution_count": 15,
   "metadata": {},
   "outputs": [
    {
     "data": {
      "text/plain": [
       "{\n",
       "  \"copyright\" : \"NHL and the NHL Shield are registered trademarks of the National Hockey League. NHL and NHL team marks are the property of the NHL and its teams. Â© NHL 2019. All Rights Reserved.\",\n",
       "  \"people\" : [ {\n",
       "    \"id\" : 8480812,\n",
       "    \"fullName\" : \"Eric Florchuk\",\n",
       "    \"link\" : \"/api/v1/people/8480812\",\n",
       "    \"firstName\" : \"Eric\",\n",
       "    \"lastName\" : \"Florchuk\",\n",
       "    \"primaryNumber\" : \"58\",\n",
       "    \"birthDate\" : \"2000-01-10\",\n",
       "    \"currentAge\" : 19,\n",
       "    \"birthCity\" : \"Edmonton\",\n",
       "    \"birthStateProvince\" : \"AB\",\n",
       "    \"birthCountry\" : \"CAN\",\n",
       "    \"nationality\" : \"CAN\",\n",
       "    \"height\" : \"6' 2\\\"\",\n",
       "    \"weight\" : 175,\n",
       "    \"active\" : true,\n",
       "    \"alternateCaptain\" : false,\n",
       "    \"captain\" : false,\n",
       "    \"rookie\" : true,\n",
       "    \"shootsCatches\" : \"L\",\n",
       "    \"rosterStatus\" : \"N\",\n",
       "    \"currentTeam\" : {\n",
       "      \"id\" : 15,\n",
       "      \"name\" : \"Washington Capitals\",\n",
       "      \"link\" : \"/api/v1/teams/15\"\n",
       "    },\n",
       "    \"primaryPosition\" : {\n",
       "      \"code\" : \"C\",\n",
       "      \"name\" : \"Center\",\n",
       "      \"type\" : \"Forward\",\n",
       "      \"abbreviation\" : \"C\"\n",
       "    }\n",
       "  } ]\n",
       "}"
      ]
     },
     "execution_count": 15,
     "metadata": {},
     "output_type": "execute_result"
    }
   ],
   "source": [
    "#most recently drafted player (mr. irrelevant in 2018 draft)\n",
    "ddddd = requests.get('https://statsapi.web.nhl.com/api/v1/people/8480812')\n",
    "soddup = BeautifulSoup(ddddd.content, 'html.parser')\n",
    "soddup"
   ]
  },
  {
   "cell_type": "code",
   "execution_count": null,
   "metadata": {},
   "outputs": [],
   "source": []
  }
 ],
 "metadata": {
  "kernelspec": {
   "display_name": "Python 3",
   "language": "python",
   "name": "python3"
  },
  "language_info": {
   "codemirror_mode": {
    "name": "ipython",
    "version": 3
   },
   "file_extension": ".py",
   "mimetype": "text/x-python",
   "name": "python",
   "nbconvert_exporter": "python",
   "pygments_lexer": "ipython3",
   "version": "3.6.5"
  }
 },
 "nbformat": 4,
 "nbformat_minor": 2
}
