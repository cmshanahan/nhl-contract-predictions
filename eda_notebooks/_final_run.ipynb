{
 "cells": [
  {
   "cell_type": "code",
   "execution_count": 1,
   "metadata": {},
   "outputs": [
    {
     "name": "stderr",
     "output_type": "stream",
     "text": [
      "/Users/colinshanahan/anaconda3/lib/python3.6/importlib/_bootstrap.py:219: RuntimeWarning: numpy.dtype size changed, may indicate binary incompatibility. Expected 96, got 88\n",
      "  return f(*args, **kwds)\n",
      "/Users/colinshanahan/anaconda3/lib/python3.6/importlib/_bootstrap.py:219: RuntimeWarning: numpy.ufunc size changed, may indicate binary incompatibility. Expected 216, got 192\n",
      "  return f(*args, **kwds)\n",
      "/Users/colinshanahan/anaconda3/lib/python3.6/importlib/_bootstrap.py:219: RuntimeWarning: numpy.dtype size changed, may indicate binary incompatibility. Expected 96, got 88\n",
      "  return f(*args, **kwds)\n",
      "/Users/colinshanahan/anaconda3/lib/python3.6/importlib/_bootstrap.py:219: RuntimeWarning: numpy.ufunc size changed, may indicate binary incompatibility. Expected 216, got 192\n",
      "  return f(*args, **kwds)\n"
     ]
    }
   ],
   "source": [
    "import numpy as np\n",
    "import pandas as pd\n",
    "from sklearn.model_selection import train_test_split\n",
    "from sklearn.preprocessing import StandardScaler, Imputer\n",
    "from sklearn.ensemble import GradientBoostingRegressor\n",
    "from collections import defaultdict\n"
   ]
  },
  {
   "cell_type": "code",
   "execution_count": 2,
   "metadata": {},
   "outputs": [],
   "source": [
    "import os\n",
    "import sys\n",
    "\n",
    "module_path = os.path.abspath(os.path.join('..'))\n",
    "if module_path not in sys.path:\n",
    "    sys.path.append(module_path)"
   ]
  },
  {
   "cell_type": "code",
   "execution_count": 3,
   "metadata": {},
   "outputs": [],
   "source": [
    "import warnings\n",
    "warnings.simplefilter('ignore')"
   ]
  },
  {
   "cell_type": "code",
   "execution_count": 4,
   "metadata": {},
   "outputs": [],
   "source": [
    "from importlib import reload\n",
    "from data_cleaning import data_cleaning as dc\n",
    "from models import contract_regressor as cr"
   ]
  },
  {
   "cell_type": "code",
   "execution_count": 178,
   "metadata": {},
   "outputs": [
    {
     "data": {
      "text/plain": [
       "<module 'data_cleaning.data_cleaning' from '/Users/colinshanahan/galvanize/nhl-contract-predictions/data_cleaning/data_cleaning.py'>"
      ]
     },
     "execution_count": 178,
     "metadata": {},
     "output_type": "execute_result"
    }
   ],
   "source": [
    "reload(dc)"
   ]
  },
  {
   "cell_type": "code",
   "execution_count": 67,
   "metadata": {},
   "outputs": [],
   "source": [
    "def clean_FA():\n",
    "    df = pd.read_csv('../data/free_agents_2019.csv')\n",
    "    df['signing_status'] = df['ufa_status'].apply(lambda x: 1 if 'UFA' else 0)\n",
    "    df = df[(df.position != 'G') & (df.position != 27) & (df.position != 30)]\n",
    "    df['forward'] = (df.position != 'D').replace([True, False], [1, 0])\n",
    "    df['Season_Player'] = '2018 ' + df['Player']\n",
    "    df.set_index(df['Season_Player'], inplace=True)\n",
    "    df.drop('Season_Player', axis=1, inplace=True)\n",
    "    fa = df[['Player', 'age', 'forward', 'signing_status']]\n",
    "    fa['signing_year'] = 2019\n",
    "    return fa"
   ]
  },
  {
   "cell_type": "code",
   "execution_count": 102,
   "metadata": {},
   "outputs": [
    {
     "data": {
      "text/html": [
       "<div>\n",
       "<style scoped>\n",
       "    .dataframe tbody tr th:only-of-type {\n",
       "        vertical-align: middle;\n",
       "    }\n",
       "\n",
       "    .dataframe tbody tr th {\n",
       "        vertical-align: top;\n",
       "    }\n",
       "\n",
       "    .dataframe thead th {\n",
       "        text-align: right;\n",
       "    }\n",
       "</style>\n",
       "<table border=\"1\" class=\"dataframe\">\n",
       "  <thead>\n",
       "    <tr style=\"text-align: right;\">\n",
       "      <th></th>\n",
       "      <th>Player</th>\n",
       "      <th>signing_age</th>\n",
       "      <th>forward</th>\n",
       "      <th>signing_status</th>\n",
       "      <th>signing_year</th>\n",
       "    </tr>\n",
       "    <tr>\n",
       "      <th>Season_Player</th>\n",
       "      <th></th>\n",
       "      <th></th>\n",
       "      <th></th>\n",
       "      <th></th>\n",
       "      <th></th>\n",
       "    </tr>\n",
       "  </thead>\n",
       "  <tbody>\n",
       "    <tr>\n",
       "      <th>2018 Dysin Mayo</th>\n",
       "      <td>Dysin Mayo</td>\n",
       "      <td>22</td>\n",
       "      <td>0</td>\n",
       "      <td>1</td>\n",
       "      <td>2019</td>\n",
       "    </tr>\n",
       "    <tr>\n",
       "      <th>2018 Alex Gallant</th>\n",
       "      <td>Alex Gallant</td>\n",
       "      <td>26</td>\n",
       "      <td>1</td>\n",
       "      <td>1</td>\n",
       "      <td>2019</td>\n",
       "    </tr>\n",
       "    <tr>\n",
       "      <th>2018 Julius Honka</th>\n",
       "      <td>Julius Honka</td>\n",
       "      <td>23</td>\n",
       "      <td>0</td>\n",
       "      <td>1</td>\n",
       "      <td>2019</td>\n",
       "    </tr>\n",
       "    <tr>\n",
       "      <th>2018 Chase Lang</th>\n",
       "      <td>Chase Lang</td>\n",
       "      <td>22</td>\n",
       "      <td>1</td>\n",
       "      <td>1</td>\n",
       "      <td>2019</td>\n",
       "    </tr>\n",
       "    <tr>\n",
       "      <th>2018 Michael Downing</th>\n",
       "      <td>Michael Downing</td>\n",
       "      <td>23</td>\n",
       "      <td>0</td>\n",
       "      <td>1</td>\n",
       "      <td>2019</td>\n",
       "    </tr>\n",
       "  </tbody>\n",
       "</table>\n",
       "</div>"
      ],
      "text/plain": [
       "                               Player  signing_age  forward  signing_status  \\\n",
       "Season_Player                                                                 \n",
       "2018 Dysin Mayo            Dysin Mayo           22        0               1   \n",
       "2018 Alex Gallant        Alex Gallant           26        1               1   \n",
       "2018 Julius Honka        Julius Honka           23        0               1   \n",
       "2018 Chase Lang            Chase Lang           22        1               1   \n",
       "2018 Michael Downing  Michael Downing           23        0               1   \n",
       "\n",
       "                      signing_year  \n",
       "Season_Player                       \n",
       "2018 Dysin Mayo               2019  \n",
       "2018 Alex Gallant             2019  \n",
       "2018 Julius Honka             2019  \n",
       "2018 Chase Lang               2019  \n",
       "2018 Michael Downing          2019  "
      ]
     },
     "execution_count": 102,
     "metadata": {},
     "output_type": "execute_result"
    }
   ],
   "source": [
    "df = dc.clean_FA()\n",
    "df.sample(5)"
   ]
  },
  {
   "cell_type": "code",
   "execution_count": 103,
   "metadata": {},
   "outputs": [
    {
     "data": {
      "text/plain": [
       "(540, 5)"
      ]
     },
     "execution_count": 103,
     "metadata": {},
     "output_type": "execute_result"
    }
   ],
   "source": [
    "df.shape"
   ]
  },
  {
   "cell_type": "code",
   "execution_count": 105,
   "metadata": {},
   "outputs": [
    {
     "data": {
      "text/plain": [
       "539"
      ]
     },
     "execution_count": 105,
     "metadata": {},
     "output_type": "execute_result"
    }
   ],
   "source": [
    "len(df.Player.unique())"
   ]
  },
  {
   "cell_type": "code",
   "execution_count": 126,
   "metadata": {},
   "outputs": [],
   "source": [
    "st = dc.clean_features_data(sql=False, new_fas=True)"
   ]
  },
  {
   "cell_type": "code",
   "execution_count": 116,
   "metadata": {},
   "outputs": [
    {
     "data": {
      "text/html": [
       "<div>\n",
       "<style scoped>\n",
       "    .dataframe tbody tr th:only-of-type {\n",
       "        vertical-align: middle;\n",
       "    }\n",
       "\n",
       "    .dataframe tbody tr th {\n",
       "        vertical-align: top;\n",
       "    }\n",
       "\n",
       "    .dataframe thead th {\n",
       "        text-align: right;\n",
       "    }\n",
       "</style>\n",
       "<table border=\"1\" class=\"dataframe\">\n",
       "  <thead>\n",
       "    <tr style=\"text-align: right;\">\n",
       "      <th></th>\n",
       "      <th>Player</th>\n",
       "      <th>signing_age</th>\n",
       "      <th>forward</th>\n",
       "      <th>signing_status</th>\n",
       "      <th>signing_year</th>\n",
       "      <th>GP</th>\n",
       "      <th>TOI</th>\n",
       "      <th>Goals</th>\n",
       "      <th>Total Assists</th>\n",
       "      <th>First Assists</th>\n",
       "      <th>...</th>\n",
       "      <th>mean Shots/60</th>\n",
       "      <th>Hits/60</th>\n",
       "      <th>mean Hits/60</th>\n",
       "      <th>PIM/60</th>\n",
       "      <th>mean PIM/60</th>\n",
       "      <th>Penalties Drawn/60</th>\n",
       "      <th>mean Penalties Drawn/60</th>\n",
       "      <th>mean Faceoffs pct</th>\n",
       "      <th>Goalness</th>\n",
       "      <th>mean Goalness</th>\n",
       "    </tr>\n",
       "    <tr>\n",
       "      <th>Season_Player</th>\n",
       "      <th></th>\n",
       "      <th></th>\n",
       "      <th></th>\n",
       "      <th></th>\n",
       "      <th></th>\n",
       "      <th></th>\n",
       "      <th></th>\n",
       "      <th></th>\n",
       "      <th></th>\n",
       "      <th></th>\n",
       "      <th></th>\n",
       "      <th></th>\n",
       "      <th></th>\n",
       "      <th></th>\n",
       "      <th></th>\n",
       "      <th></th>\n",
       "      <th></th>\n",
       "      <th></th>\n",
       "      <th></th>\n",
       "      <th></th>\n",
       "      <th></th>\n",
       "    </tr>\n",
       "  </thead>\n",
       "  <tbody>\n",
       "    <tr>\n",
       "      <th>2018 Mitchell Marner</th>\n",
       "      <td>Mitchell Marner</td>\n",
       "      <td>21</td>\n",
       "      <td>1</td>\n",
       "      <td>1</td>\n",
       "      <td>2019</td>\n",
       "      <td>82.0</td>\n",
       "      <td>1625.433333</td>\n",
       "      <td>26.0</td>\n",
       "      <td>68.0</td>\n",
       "      <td>52.0</td>\n",
       "      <td>...</td>\n",
       "      <td>8.485720</td>\n",
       "      <td>1.070484</td>\n",
       "      <td>1.421323</td>\n",
       "      <td>0.812091</td>\n",
       "      <td>1.210235</td>\n",
       "      <td>0.738265</td>\n",
       "      <td>0.830278</td>\n",
       "      <td>0.986111</td>\n",
       "      <td>0.273684</td>\n",
       "      <td>0.297778</td>\n",
       "    </tr>\n",
       "    <tr>\n",
       "      <th>2018 Brayden Point</th>\n",
       "      <td>Brayden Point</td>\n",
       "      <td>23</td>\n",
       "      <td>1</td>\n",
       "      <td>1</td>\n",
       "      <td>2019</td>\n",
       "      <td>79.0</td>\n",
       "      <td>1494.600000</td>\n",
       "      <td>41.0</td>\n",
       "      <td>51.0</td>\n",
       "      <td>28.0</td>\n",
       "      <td>...</td>\n",
       "      <td>7.464184</td>\n",
       "      <td>1.244480</td>\n",
       "      <td>1.349457</td>\n",
       "      <td>1.124047</td>\n",
       "      <td>0.927752</td>\n",
       "      <td>0.923324</td>\n",
       "      <td>0.815297</td>\n",
       "      <td>0.923423</td>\n",
       "      <td>0.440860</td>\n",
       "      <td>0.457286</td>\n",
       "    </tr>\n",
       "    <tr>\n",
       "      <th>2018 Mikko Rantanen</th>\n",
       "      <td>Mikko Rantanen</td>\n",
       "      <td>22</td>\n",
       "      <td>1</td>\n",
       "      <td>1</td>\n",
       "      <td>2019</td>\n",
       "      <td>74.0</td>\n",
       "      <td>1542.300000</td>\n",
       "      <td>31.0</td>\n",
       "      <td>56.0</td>\n",
       "      <td>34.0</td>\n",
       "      <td>...</td>\n",
       "      <td>6.822104</td>\n",
       "      <td>2.295273</td>\n",
       "      <td>1.624311</td>\n",
       "      <td>2.100759</td>\n",
       "      <td>1.488951</td>\n",
       "      <td>1.050379</td>\n",
       "      <td>0.974586</td>\n",
       "      <td>0.990654</td>\n",
       "      <td>0.352273</td>\n",
       "      <td>0.380952</td>\n",
       "    </tr>\n",
       "    <tr>\n",
       "      <th>2018 Artemi Panarin</th>\n",
       "      <td>Artemi Panarin</td>\n",
       "      <td>27</td>\n",
       "      <td>1</td>\n",
       "      <td>1</td>\n",
       "      <td>2019</td>\n",
       "      <td>79.0</td>\n",
       "      <td>1568.666667</td>\n",
       "      <td>28.0</td>\n",
       "      <td>59.0</td>\n",
       "      <td>44.0</td>\n",
       "      <td>...</td>\n",
       "      <td>7.881760</td>\n",
       "      <td>0.535487</td>\n",
       "      <td>0.650558</td>\n",
       "      <td>0.879728</td>\n",
       "      <td>0.850730</td>\n",
       "      <td>0.841479</td>\n",
       "      <td>0.850730</td>\n",
       "      <td>0.166667</td>\n",
       "      <td>0.318182</td>\n",
       "      <td>0.352459</td>\n",
       "    </tr>\n",
       "    <tr>\n",
       "      <th>2018 Sebastian Aho</th>\n",
       "      <td>Sebastian Aho</td>\n",
       "      <td>21</td>\n",
       "      <td>1</td>\n",
       "      <td>1</td>\n",
       "      <td>2019</td>\n",
       "      <td>82.0</td>\n",
       "      <td>1652.366667</td>\n",
       "      <td>30.0</td>\n",
       "      <td>53.0</td>\n",
       "      <td>29.0</td>\n",
       "      <td>...</td>\n",
       "      <td>8.223319</td>\n",
       "      <td>2.360251</td>\n",
       "      <td>2.465235</td>\n",
       "      <td>0.944100</td>\n",
       "      <td>0.986094</td>\n",
       "      <td>0.980412</td>\n",
       "      <td>0.898050</td>\n",
       "      <td>0.928571</td>\n",
       "      <td>0.357143</td>\n",
       "      <td>0.392157</td>\n",
       "    </tr>\n",
       "    <tr>\n",
       "      <th>2018 Sebastian Aho</th>\n",
       "      <td>Sebastian Aho</td>\n",
       "      <td>21</td>\n",
       "      <td>1</td>\n",
       "      <td>1</td>\n",
       "      <td>2019</td>\n",
       "      <td>82.0</td>\n",
       "      <td>1652.366667</td>\n",
       "      <td>30.0</td>\n",
       "      <td>53.0</td>\n",
       "      <td>29.0</td>\n",
       "      <td>...</td>\n",
       "      <td>8.223319</td>\n",
       "      <td>2.360251</td>\n",
       "      <td>2.465235</td>\n",
       "      <td>0.944100</td>\n",
       "      <td>0.986094</td>\n",
       "      <td>0.980412</td>\n",
       "      <td>0.898050</td>\n",
       "      <td>0.928571</td>\n",
       "      <td>0.357143</td>\n",
       "      <td>0.392157</td>\n",
       "    </tr>\n",
       "  </tbody>\n",
       "</table>\n",
       "<p>6 rows × 203 columns</p>\n",
       "</div>"
      ],
      "text/plain": [
       "                               Player  signing_age  forward  signing_status  \\\n",
       "Season_Player                                                                 \n",
       "2018 Mitchell Marner  Mitchell Marner           21        1               1   \n",
       "2018 Brayden Point      Brayden Point           23        1               1   \n",
       "2018 Mikko Rantanen    Mikko Rantanen           22        1               1   \n",
       "2018 Artemi Panarin    Artemi Panarin           27        1               1   \n",
       "2018 Sebastian Aho      Sebastian Aho           21        1               1   \n",
       "2018 Sebastian Aho      Sebastian Aho           21        1               1   \n",
       "\n",
       "                      signing_year    GP          TOI  Goals  Total Assists  \\\n",
       "Season_Player                                                                 \n",
       "2018 Mitchell Marner          2019  82.0  1625.433333   26.0           68.0   \n",
       "2018 Brayden Point            2019  79.0  1494.600000   41.0           51.0   \n",
       "2018 Mikko Rantanen           2019  74.0  1542.300000   31.0           56.0   \n",
       "2018 Artemi Panarin           2019  79.0  1568.666667   28.0           59.0   \n",
       "2018 Sebastian Aho            2019  82.0  1652.366667   30.0           53.0   \n",
       "2018 Sebastian Aho            2019  82.0  1652.366667   30.0           53.0   \n",
       "\n",
       "                      First Assists      ...        mean Shots/60   Hits/60  \\\n",
       "Season_Player                            ...                                  \n",
       "2018 Mitchell Marner           52.0      ...             8.485720  1.070484   \n",
       "2018 Brayden Point             28.0      ...             7.464184  1.244480   \n",
       "2018 Mikko Rantanen            34.0      ...             6.822104  2.295273   \n",
       "2018 Artemi Panarin            44.0      ...             7.881760  0.535487   \n",
       "2018 Sebastian Aho             29.0      ...             8.223319  2.360251   \n",
       "2018 Sebastian Aho             29.0      ...             8.223319  2.360251   \n",
       "\n",
       "                      mean Hits/60    PIM/60  mean PIM/60  Penalties Drawn/60  \\\n",
       "Season_Player                                                                   \n",
       "2018 Mitchell Marner      1.421323  0.812091     1.210235            0.738265   \n",
       "2018 Brayden Point        1.349457  1.124047     0.927752            0.923324   \n",
       "2018 Mikko Rantanen       1.624311  2.100759     1.488951            1.050379   \n",
       "2018 Artemi Panarin       0.650558  0.879728     0.850730            0.841479   \n",
       "2018 Sebastian Aho        2.465235  0.944100     0.986094            0.980412   \n",
       "2018 Sebastian Aho        2.465235  0.944100     0.986094            0.980412   \n",
       "\n",
       "                      mean Penalties Drawn/60  mean Faceoffs pct  Goalness  \\\n",
       "Season_Player                                                                \n",
       "2018 Mitchell Marner                 0.830278           0.986111  0.273684   \n",
       "2018 Brayden Point                   0.815297           0.923423  0.440860   \n",
       "2018 Mikko Rantanen                  0.974586           0.990654  0.352273   \n",
       "2018 Artemi Panarin                  0.850730           0.166667  0.318182   \n",
       "2018 Sebastian Aho                   0.898050           0.928571  0.357143   \n",
       "2018 Sebastian Aho                   0.898050           0.928571  0.357143   \n",
       "\n",
       "                      mean Goalness  \n",
       "Season_Player                        \n",
       "2018 Mitchell Marner       0.297778  \n",
       "2018 Brayden Point         0.457286  \n",
       "2018 Mikko Rantanen        0.380952  \n",
       "2018 Artemi Panarin        0.352459  \n",
       "2018 Sebastian Aho         0.392157  \n",
       "2018 Sebastian Aho         0.392157  \n",
       "\n",
       "[6 rows x 203 columns]"
      ]
     },
     "execution_count": 116,
     "metadata": {},
     "output_type": "execute_result"
    }
   ],
   "source": [
    "st.head(6)"
   ]
  },
  {
   "cell_type": "code",
   "execution_count": 100,
   "metadata": {},
   "outputs": [
    {
     "data": {
      "text/plain": [
       "['forward',\n",
       " 'signing_age',\n",
       " 'signing_status',\n",
       " 'GP',\n",
       " 'TOI',\n",
       " 'Goals',\n",
       " 'Total Assists',\n",
       " 'First Assists',\n",
       " 'Second Assists',\n",
       " 'Total Points',\n",
       " 'Shots',\n",
       " 'iCF',\n",
       " 'iFF',\n",
       " 'iSCF',\n",
       " 'iHDCF',\n",
       " 'Rush Attempts',\n",
       " 'Rebounds Created',\n",
       " 'PIM',\n",
       " 'Total Penalties',\n",
       " 'Minor',\n",
       " 'Major',\n",
       " 'Misconduct',\n",
       " 'Penalties Drawn',\n",
       " 'Giveaways',\n",
       " 'Takeaways',\n",
       " 'Hits',\n",
       " 'Hits Taken',\n",
       " 'Shots Blocked',\n",
       " 'Faceoffs Won',\n",
       " 'Faceoffs Lost',\n",
       " 'sum GP',\n",
       " 'sum TOI',\n",
       " 'sum Goals',\n",
       " 'sum Total Assists',\n",
       " 'sum First Assists',\n",
       " 'sum Second Assists',\n",
       " 'sum Total Points',\n",
       " 'sum Shots',\n",
       " 'sum iCF',\n",
       " 'sum iFF',\n",
       " 'sum iSCF',\n",
       " 'sum iHDCF',\n",
       " 'sum Rush Attempts',\n",
       " 'sum Rebounds Created',\n",
       " 'sum PIM',\n",
       " 'sum Total Penalties',\n",
       " 'sum Minor',\n",
       " 'sum Major',\n",
       " 'sum Misconduct',\n",
       " 'sum Penalties Drawn',\n",
       " 'sum Giveaways',\n",
       " 'sum Takeaways',\n",
       " 'sum Hits',\n",
       " 'sum Hits Taken',\n",
       " 'sum Shots Blocked',\n",
       " 'sum Faceoffs Won',\n",
       " 'sum Faceoffs Lost',\n",
       " 'mean GP',\n",
       " 'mean TOI',\n",
       " 'mean Goals',\n",
       " 'mean Total Assists',\n",
       " 'mean First Assists',\n",
       " 'mean Second Assists',\n",
       " 'mean Total Points',\n",
       " 'mean Shots',\n",
       " 'mean iCF',\n",
       " 'mean iFF',\n",
       " 'mean iSCF',\n",
       " 'mean iHDCF',\n",
       " 'mean Rush Attempts',\n",
       " 'mean Rebounds Created',\n",
       " 'mean PIM',\n",
       " 'mean Total Penalties',\n",
       " 'mean Minor',\n",
       " 'mean Major',\n",
       " 'mean Misconduct',\n",
       " 'mean Penalties Drawn',\n",
       " 'mean Giveaways',\n",
       " 'mean Takeaways',\n",
       " 'mean Hits',\n",
       " 'mean Hits Taken',\n",
       " 'mean Shots Blocked',\n",
       " 'mean Faceoffs Won',\n",
       " 'mean Faceoffs Lost',\n",
       " 'mean SH%',\n",
       " 'mean Faceoffs %',\n",
       " 'TOI/GP',\n",
       " 'CF/60 Rel',\n",
       " 'CA/60 Rel',\n",
       " 'CF% Rel',\n",
       " 'FF/60 Rel',\n",
       " 'FA/60 Rel',\n",
       " 'FF% Rel',\n",
       " 'SF/60 Rel',\n",
       " 'SA/60 Rel',\n",
       " 'SF% Rel',\n",
       " 'GF/60 Rel',\n",
       " 'GA/60 Rel',\n",
       " 'GF% Rel',\n",
       " 'SCF/60 Rel',\n",
       " 'SCA/60 Rel',\n",
       " 'SCF% Rel',\n",
       " 'HDCF/60 Rel',\n",
       " 'HDCA/60 Rel',\n",
       " 'HDCF% Rel',\n",
       " 'HDGF/60 Rel',\n",
       " 'HDGA/60 Rel',\n",
       " 'HDGF% Rel',\n",
       " 'MDCF/60 Rel',\n",
       " 'MDCA/60 Rel',\n",
       " 'MDCF% Rel',\n",
       " 'MDGF/60 Rel',\n",
       " 'MDGA/60 Rel',\n",
       " 'MDGF% Rel',\n",
       " 'LDCF/60 Rel',\n",
       " 'LDCA/60 Rel',\n",
       " 'LDCF% Rel',\n",
       " 'LDGF/60 Rel',\n",
       " 'LDGA/60 Rel',\n",
       " 'LDGF% Rel',\n",
       " 'On-Ice SH%',\n",
       " 'On-Ice SV%',\n",
       " 'PDO',\n",
       " 'Off. Zone Starts/60',\n",
       " 'Neu. Zone Starts/60',\n",
       " 'Def. Zone Starts/60',\n",
       " 'On The Fly Starts/60',\n",
       " 'Off. Zone Start %',\n",
       " 'Off Zone Faceoffs/60',\n",
       " 'Neu. Zone Faceoffs/60',\n",
       " 'Def. Zone Faceoffs/60',\n",
       " 'Off Zone Faceoff %',\n",
       " '3yr TOI/GP',\n",
       " '3yr CF/60 Rel',\n",
       " '3yr CA/60 Rel',\n",
       " '3yr CF% Rel',\n",
       " '3yr FF/60 Rel',\n",
       " '3yr FA/60 Rel',\n",
       " '3yr FF% Rel',\n",
       " '3yr SF/60 Rel',\n",
       " '3yr SA/60 Rel',\n",
       " '3yr SF% Rel',\n",
       " '3yr GF/60 Rel',\n",
       " '3yr GA/60 Rel',\n",
       " '3yr GF% Rel',\n",
       " '3yr SCF/60 Rel',\n",
       " '3yr SCA/60 Rel',\n",
       " '3yr SCF% Rel',\n",
       " '3yr HDCF/60 Rel',\n",
       " '3yr HDCA/60 Rel',\n",
       " '3yr HDCF% Rel',\n",
       " '3yr HDGF/60 Rel',\n",
       " '3yr HDGA/60 Rel',\n",
       " '3yr HDGF% Rel',\n",
       " '3yr MDCF/60 Rel',\n",
       " '3yr MDCA/60 Rel',\n",
       " '3yr MDCF% Rel',\n",
       " '3yr MDGF/60 Rel',\n",
       " '3yr MDGA/60 Rel',\n",
       " '3yr MDGF% Rel',\n",
       " '3yr LDCF/60 Rel',\n",
       " '3yr LDCA/60 Rel',\n",
       " '3yr LDCF% Rel',\n",
       " '3yr LDGF/60 Rel',\n",
       " '3yr LDGA/60 Rel',\n",
       " '3yr LDGF% Rel',\n",
       " '3yr On-Ice SH%',\n",
       " '3yr On-Ice SV%',\n",
       " '3yr PDO',\n",
       " '3yr Off. Zone Starts/60',\n",
       " '3yr Neu. Zone Starts/60',\n",
       " '3yr Def. Zone Starts/60',\n",
       " '3yr On The Fly Starts/60',\n",
       " '3yr Off. Zone Start %',\n",
       " '3yr Off. Zone Faceoffs/60',\n",
       " '3yr Neu. Zone Faceoffs/60',\n",
       " '3yr Def. Zone Faceoffs/60',\n",
       " '3yr Off. Zone Faceoff %',\n",
       " '3yr Season_Player',\n",
       " 'IPP',\n",
       " 'Giveaways/60',\n",
       " 'mean Giveaways/60',\n",
       " 'Takeaways/60',\n",
       " 'mean Takeaways/60',\n",
       " 'Shots Blocked/60',\n",
       " 'mean Shots Blocked/60',\n",
       " 'mean Total Points/60',\n",
       " 'Total Points/60',\n",
       " 'Goals/60',\n",
       " 'mean Goals/60',\n",
       " 'Shots/60',\n",
       " 'mean Shots/60',\n",
       " 'Hits/60',\n",
       " 'mean Hits/60',\n",
       " 'PIM/60',\n",
       " 'mean PIM/60',\n",
       " 'Penalties Drawn/60',\n",
       " 'mean Penalties Drawn/60',\n",
       " 'mean Faceoffs pct',\n",
       " 'Goalness',\n",
       " 'mean Goalness']"
      ]
     },
     "execution_count": 100,
     "metadata": {},
     "output_type": "execute_result"
    }
   ],
   "source": [
    "xcols = ['forward', 'signing_age', 'signing_status'] + list(st.columns)[-198:]\n",
    "xcols"
   ]
  },
  {
   "cell_type": "code",
   "execution_count": 94,
   "metadata": {},
   "outputs": [
    {
     "data": {
      "text/plain": [
       "['Player',\n",
       " 'signing_age',\n",
       " 'forward',\n",
       " 'signing_status',\n",
       " 'signing_year',\n",
       " 'GP',\n",
       " 'TOI',\n",
       " 'Goals',\n",
       " 'Total Assists',\n",
       " 'First Assists',\n",
       " 'Second Assists',\n",
       " 'Total Points',\n",
       " 'Shots',\n",
       " 'iCF',\n",
       " 'iFF',\n",
       " 'iSCF',\n",
       " 'iHDCF',\n",
       " 'Rush Attempts',\n",
       " 'Rebounds Created',\n",
       " 'PIM',\n",
       " 'Total Penalties',\n",
       " 'Minor',\n",
       " 'Major',\n",
       " 'Misconduct',\n",
       " 'Penalties Drawn',\n",
       " 'Giveaways',\n",
       " 'Takeaways',\n",
       " 'Hits',\n",
       " 'Hits Taken',\n",
       " 'Shots Blocked',\n",
       " 'Faceoffs Won',\n",
       " 'Faceoffs Lost',\n",
       " 'sum GP',\n",
       " 'sum TOI',\n",
       " 'sum Goals',\n",
       " 'sum Total Assists',\n",
       " 'sum First Assists',\n",
       " 'sum Second Assists',\n",
       " 'sum Total Points',\n",
       " 'sum Shots',\n",
       " 'sum iCF',\n",
       " 'sum iFF',\n",
       " 'sum iSCF',\n",
       " 'sum iHDCF',\n",
       " 'sum Rush Attempts',\n",
       " 'sum Rebounds Created',\n",
       " 'sum PIM',\n",
       " 'sum Total Penalties',\n",
       " 'sum Minor',\n",
       " 'sum Major',\n",
       " 'sum Misconduct',\n",
       " 'sum Penalties Drawn',\n",
       " 'sum Giveaways',\n",
       " 'sum Takeaways',\n",
       " 'sum Hits',\n",
       " 'sum Hits Taken',\n",
       " 'sum Shots Blocked',\n",
       " 'sum Faceoffs Won',\n",
       " 'sum Faceoffs Lost',\n",
       " 'mean GP',\n",
       " 'mean TOI',\n",
       " 'mean Goals',\n",
       " 'mean Total Assists',\n",
       " 'mean First Assists',\n",
       " 'mean Second Assists',\n",
       " 'mean Total Points',\n",
       " 'mean Shots',\n",
       " 'mean iCF',\n",
       " 'mean iFF',\n",
       " 'mean iSCF',\n",
       " 'mean iHDCF',\n",
       " 'mean Rush Attempts',\n",
       " 'mean Rebounds Created',\n",
       " 'mean PIM',\n",
       " 'mean Total Penalties',\n",
       " 'mean Minor',\n",
       " 'mean Major',\n",
       " 'mean Misconduct',\n",
       " 'mean Penalties Drawn',\n",
       " 'mean Giveaways',\n",
       " 'mean Takeaways',\n",
       " 'mean Hits',\n",
       " 'mean Hits Taken',\n",
       " 'mean Shots Blocked',\n",
       " 'mean Faceoffs Won',\n",
       " 'mean Faceoffs Lost',\n",
       " 'mean SH%',\n",
       " 'mean Faceoffs %',\n",
       " 'TOI/GP',\n",
       " 'CF/60 Rel',\n",
       " 'CA/60 Rel',\n",
       " 'CF% Rel',\n",
       " 'FF/60 Rel',\n",
       " 'FA/60 Rel',\n",
       " 'FF% Rel',\n",
       " 'SF/60 Rel',\n",
       " 'SA/60 Rel',\n",
       " 'SF% Rel',\n",
       " 'GF/60 Rel',\n",
       " 'GA/60 Rel',\n",
       " 'GF% Rel',\n",
       " 'SCF/60 Rel',\n",
       " 'SCA/60 Rel',\n",
       " 'SCF% Rel',\n",
       " 'HDCF/60 Rel',\n",
       " 'HDCA/60 Rel',\n",
       " 'HDCF% Rel',\n",
       " 'HDGF/60 Rel',\n",
       " 'HDGA/60 Rel',\n",
       " 'HDGF% Rel',\n",
       " 'MDCF/60 Rel',\n",
       " 'MDCA/60 Rel',\n",
       " 'MDCF% Rel',\n",
       " 'MDGF/60 Rel',\n",
       " 'MDGA/60 Rel',\n",
       " 'MDGF% Rel',\n",
       " 'LDCF/60 Rel',\n",
       " 'LDCA/60 Rel',\n",
       " 'LDCF% Rel',\n",
       " 'LDGF/60 Rel',\n",
       " 'LDGA/60 Rel',\n",
       " 'LDGF% Rel',\n",
       " 'On-Ice SH%',\n",
       " 'On-Ice SV%',\n",
       " 'PDO',\n",
       " 'Off. Zone Starts/60',\n",
       " 'Neu. Zone Starts/60',\n",
       " 'Def. Zone Starts/60',\n",
       " 'On The Fly Starts/60',\n",
       " 'Off. Zone Start %',\n",
       " 'Off Zone Faceoffs/60',\n",
       " 'Neu. Zone Faceoffs/60',\n",
       " 'Def. Zone Faceoffs/60',\n",
       " 'Off Zone Faceoff %',\n",
       " '3yr TOI/GP',\n",
       " '3yr CF/60 Rel',\n",
       " '3yr CA/60 Rel',\n",
       " '3yr CF% Rel',\n",
       " '3yr FF/60 Rel',\n",
       " '3yr FA/60 Rel',\n",
       " '3yr FF% Rel',\n",
       " '3yr SF/60 Rel',\n",
       " '3yr SA/60 Rel',\n",
       " '3yr SF% Rel',\n",
       " '3yr GF/60 Rel',\n",
       " '3yr GA/60 Rel',\n",
       " '3yr GF% Rel',\n",
       " '3yr SCF/60 Rel',\n",
       " '3yr SCA/60 Rel',\n",
       " '3yr SCF% Rel',\n",
       " '3yr HDCF/60 Rel',\n",
       " '3yr HDCA/60 Rel',\n",
       " '3yr HDCF% Rel',\n",
       " '3yr HDGF/60 Rel',\n",
       " '3yr HDGA/60 Rel',\n",
       " '3yr HDGF% Rel',\n",
       " '3yr MDCF/60 Rel',\n",
       " '3yr MDCA/60 Rel',\n",
       " '3yr MDCF% Rel',\n",
       " '3yr MDGF/60 Rel',\n",
       " '3yr MDGA/60 Rel',\n",
       " '3yr MDGF% Rel',\n",
       " '3yr LDCF/60 Rel',\n",
       " '3yr LDCA/60 Rel',\n",
       " '3yr LDCF% Rel',\n",
       " '3yr LDGF/60 Rel',\n",
       " '3yr LDGA/60 Rel',\n",
       " '3yr LDGF% Rel',\n",
       " '3yr On-Ice SH%',\n",
       " '3yr On-Ice SV%',\n",
       " '3yr PDO',\n",
       " '3yr Off. Zone Starts/60',\n",
       " '3yr Neu. Zone Starts/60',\n",
       " '3yr Def. Zone Starts/60',\n",
       " '3yr On The Fly Starts/60',\n",
       " '3yr Off. Zone Start %',\n",
       " '3yr Off. Zone Faceoffs/60',\n",
       " '3yr Neu. Zone Faceoffs/60',\n",
       " '3yr Def. Zone Faceoffs/60',\n",
       " '3yr Off. Zone Faceoff %',\n",
       " '3yr Season_Player',\n",
       " 'IPP',\n",
       " 'Giveaways/60',\n",
       " 'mean Giveaways/60',\n",
       " 'Takeaways/60',\n",
       " 'mean Takeaways/60',\n",
       " 'Shots Blocked/60',\n",
       " 'mean Shots Blocked/60',\n",
       " 'mean Total Points/60',\n",
       " 'Total Points/60',\n",
       " 'Goals/60',\n",
       " 'mean Goals/60',\n",
       " 'Shots/60',\n",
       " 'mean Shots/60',\n",
       " 'Hits/60',\n",
       " 'mean Hits/60',\n",
       " 'PIM/60',\n",
       " 'mean PIM/60',\n",
       " 'Penalties Drawn/60',\n",
       " 'mean Penalties Drawn/60',\n",
       " 'mean Faceoffs pct',\n",
       " 'Goalness',\n",
       " 'mean Goalness']"
      ]
     },
     "execution_count": 94,
     "metadata": {},
     "output_type": "execute_result"
    }
   ],
   "source": [
    "list(st.columns)"
   ]
  },
  {
   "cell_type": "code",
   "execution_count": 123,
   "metadata": {},
   "outputs": [
    {
     "data": {
      "text/plain": [
       "(246, 203)"
      ]
     },
     "execution_count": 123,
     "metadata": {},
     "output_type": "execute_result"
    }
   ],
   "source": [
    "st.shape"
   ]
  },
  {
   "cell_type": "code",
   "execution_count": 124,
   "metadata": {},
   "outputs": [
    {
     "data": {
      "text/plain": [
       "(245, 203)"
      ]
     },
     "execution_count": 124,
     "metadata": {},
     "output_type": "execute_result"
    }
   ],
   "source": [
    "st.drop_duplicates(subset = ['Player', 'signing_age'], inplace=True)\n",
    "st.shape"
   ]
  },
  {
   "cell_type": "code",
   "execution_count": 113,
   "metadata": {},
   "outputs": [
    {
     "data": {
      "text/plain": [
       "245"
      ]
     },
     "execution_count": 113,
     "metadata": {},
     "output_type": "execute_result"
    }
   ],
   "source": [
    "len(st.Player.unique())"
   ]
  },
  {
   "cell_type": "code",
   "execution_count": 179,
   "metadata": {},
   "outputs": [],
   "source": [
    "modst = dc.clean_features_data(sql=False, new_fas=False)"
   ]
  },
  {
   "cell_type": "code",
   "execution_count": 180,
   "metadata": {},
   "outputs": [
    {
     "data": {
      "text/plain": [
       "(1753, 224)"
      ]
     },
     "execution_count": 180,
     "metadata": {},
     "output_type": "execute_result"
    }
   ],
   "source": [
    "modst.shape"
   ]
  },
  {
   "cell_type": "code",
   "execution_count": 144,
   "metadata": {},
   "outputs": [],
   "source": [
    "df = pd.read_csv('../data/up_all_pst.csv')\n",
    "dfsummable = df.drop(['SH%', 'Faceoffs %', 'IPP'], axis=1)\n",
    "\n",
    "summable_stats = ['GP', 'TOI', 'Goals',\n",
    "            'Total Assists', 'First Assists', 'Second Assists', 'Total Points',\n",
    "           'Shots', 'iCF', 'iFF', 'iSCF', 'iHDCF', 'Rush Attempts',\n",
    "           'Rebounds Created', 'PIM', 'Total Penalties', 'Minor', 'Major',\n",
    "           'Misconduct', 'Penalties Drawn', 'Giveaways', 'Takeaways', 'Hits',\n",
    "           'Hits Taken', 'Shots Blocked', 'Faceoffs Won', 'Faceoffs Lost']\n",
    "\n",
    "\n",
    "#read in on_ice relative stats per season and over 3 year window\n",
    "oirel = pd.read_csv('../data/up_all_oirel.csv')\n",
    "woirel = pd.read_csv('../data/up_all_woirel.csv')\n",
    "\n",
    "\n",
    "#fix column labeling\n",
    "oirel['Season'] = oirel['Unnamed: 0.1']\n",
    "oirel.drop(['Unnamed: 0', 'Unnamed: 0.1'], axis=1, inplace=True)\n",
    "woirel['Season'] = woirel['Unnamed: 0.1']\n",
    "woirel.drop(['Unnamed: 0', 'Unnamed: 0.1'], axis=1, inplace=True)\n",
    "\n",
    "\n",
    "#set indices to be season/player combo\n",
    "oirel['Season_Player'] = oirel.Season.apply(str)\n",
    "oirel.Season_Player = oirel.Season_Player + ' ' + oirel.Player\n",
    "woirel['Season_Player'] = woirel.Season.apply(str)\n",
    "woirel.Season_Player = woirel.Season_Player + ' ' + woirel.Player\n",
    "oirel.set_index(oirel.Season_Player, inplace=True)\n",
    "woirel.set_index(woirel.Season_Player, inplace=True)"
   ]
  },
  {
   "cell_type": "code",
   "execution_count": 145,
   "metadata": {},
   "outputs": [],
   "source": [
    "contracts = dc.clean_contracts_data()"
   ]
  },
  {
   "cell_type": "code",
   "execution_count": 146,
   "metadata": {},
   "outputs": [
    {
     "data": {
      "text/plain": [
       "(1762, 27)"
      ]
     },
     "execution_count": 146,
     "metadata": {},
     "output_type": "execute_result"
    }
   ],
   "source": [
    "contracts.shape"
   ]
  },
  {
   "cell_type": "code",
   "execution_count": 149,
   "metadata": {},
   "outputs": [
    {
     "data": {
      "text/plain": [
       "935"
      ]
     },
     "execution_count": 149,
     "metadata": {},
     "output_type": "execute_result"
    }
   ],
   "source": [
    "len(contracts.Player.unique())"
   ]
  },
  {
   "cell_type": "code",
   "execution_count": 150,
   "metadata": {},
   "outputs": [
    {
     "data": {
      "text/plain": [
       "1762"
      ]
     },
     "execution_count": 150,
     "metadata": {},
     "output_type": "execute_result"
    }
   ],
   "source": [
    "len(contracts.contract_id.unique())"
   ]
  },
  {
   "cell_type": "code",
   "execution_count": 147,
   "metadata": {},
   "outputs": [],
   "source": [
    "#set up default dictionaries to hold individual player stats\n",
    "allstats = defaultdict(pd.DataFrame)\n",
    "allsumstats = defaultdict(pd.DataFrame)\n",
    "allmeanstats = defaultdict(pd.DataFrame)"
   ]
  },
  {
   "cell_type": "code",
   "execution_count": 148,
   "metadata": {},
   "outputs": [],
   "source": [
    "#Give each player it's own data frame of stats all linked together in a dictionary with\n",
    "#player names as keys\n",
    "#Take season total stats and aggregate them over a 3 year window\n",
    "for player in contracts['Player'].unique():\n",
    "    allstats[player] = dfsummable[df.Player == player]\n",
    "    allstats[player].sort_values(by='Season', inplace=True)\n",
    "    allstats[player]['Season_index'] = pd.date_range(end='2019',\n",
    "                                               periods = allstats[player].shape[0],\n",
    "                                               freq='Y')\n",
    "    allstats[player].set_index(allstats[player].Season_index, inplace=True)\n",
    "    allsumstats[player] = (allstats[player][summable_stats].rolling(window=3, min_periods=1)\n",
    "                  .agg(np.sum))\n",
    "    allmeanstats[player] = (allstats[player][summable_stats].rolling(window=3, min_periods=1)\n",
    "              .agg(np.mean))\n",
    "    allmeanstats[player]['SH%'] = allsumstats[player]['Shots'] / allsumstats[player]['Goals']\n",
    "    allmeanstats[player]['Faceoffs %'] = allsumstats[player]['Faceoffs Won'] / (\n",
    "    allsumstats[player]['Faceoffs Won'] + allsumstats[player]['Faceoffs Lost'])"
   ]
  },
  {
   "cell_type": "code",
   "execution_count": 151,
   "metadata": {},
   "outputs": [],
   "source": [
    "scols, mcols = [], []\n",
    "#Relabeling sum and mean columns for clarity, arbitrarily using Pavelski for convenience,\n",
    "#could be any player\n",
    "for i in allsumstats['Joe Pavelski'].columns:\n",
    "    scols.append('sum '+i)\n",
    "for i in allmeanstats['Joe Pavelski'].columns:\n",
    "    mcols.append('mean '+i)\n",
    "for p in allstats:\n",
    "    allsumstats[p].columns = scols\n",
    "    allmeanstats[p].columns = mcols\n",
    "    allstats[p] = pd.concat([allstats[p], allsumstats[p], allmeanstats[p]], axis=1)"
   ]
  },
  {
   "cell_type": "code",
   "execution_count": 152,
   "metadata": {},
   "outputs": [
    {
     "data": {
      "text/plain": [
       "935"
      ]
     },
     "execution_count": 152,
     "metadata": {},
     "output_type": "execute_result"
    }
   ],
   "source": [
    "len(allstats)"
   ]
  },
  {
   "cell_type": "code",
   "execution_count": 158,
   "metadata": {},
   "outputs": [
    {
     "data": {
      "text/plain": [
       "((6, 27), (6, 29))"
      ]
     },
     "execution_count": 158,
     "metadata": {},
     "output_type": "execute_result"
    }
   ],
   "source": [
    "allsumstats['Tomas Hertl'].shape, allmeanstats['Tomas Hertl'].shape"
   ]
  },
  {
   "cell_type": "code",
   "execution_count": 153,
   "metadata": {},
   "outputs": [],
   "source": [
    "#get a combined dataframe with all relevant player/contract years\n",
    "players = list(allstats.keys())\n",
    "allallstats = pd.DataFrame()\n",
    "\n",
    "for p in players:\n",
    "    allallstats = pd.concat([allallstats, allstats[p].set_index(allstats[p].Season_Player)])\n"
   ]
  },
  {
   "cell_type": "code",
   "execution_count": 154,
   "metadata": {},
   "outputs": [
    {
     "data": {
      "text/plain": [
       "(5673, 89)"
      ]
     },
     "execution_count": 154,
     "metadata": {},
     "output_type": "execute_result"
    }
   ],
   "source": [
    "allallstats.shape"
   ]
  },
  {
   "cell_type": "code",
   "execution_count": 159,
   "metadata": {},
   "outputs": [],
   "source": [
    "#drop duplicate column names\n",
    "m_oirel = oirel.drop(['Player', 'Team', 'Position', 'GP', 'TOI', 'Season'], axis=1)\n",
    "m_woirel = woirel.drop(['Player', 'Team', 'Position', 'GP', 'TOI', 'Season'], axis=1)"
   ]
  },
  {
   "cell_type": "code",
   "execution_count": 160,
   "metadata": {},
   "outputs": [],
   "source": [
    "#relabel 3yr window columns for clarity\n",
    "wcols = []\n",
    "for i in m_woirel.columns:\n",
    "    wcols.append('3yr ' + i)\n",
    "m_woirel.columns = wcols"
   ]
  },
  {
   "cell_type": "code",
   "execution_count": 161,
   "metadata": {},
   "outputs": [],
   "source": [
    "#merge on ice relative stats to the other stats\n",
    "allallstats = pd.merge(allallstats, m_oirel, on = 'Season_Player')\n",
    "allallstats = pd.merge(allallstats, m_woirel, on = 'Season_Player')"
   ]
  },
  {
   "cell_type": "code",
   "execution_count": 162,
   "metadata": {},
   "outputs": [
    {
     "data": {
      "text/plain": [
       "(5307, 182)"
      ]
     },
     "execution_count": 162,
     "metadata": {},
     "output_type": "execute_result"
    }
   ],
   "source": [
    "allallstats.shape"
   ]
  },
  {
   "cell_type": "code",
   "execution_count": 167,
   "metadata": {},
   "outputs": [],
   "source": [
    "#remove contracts signed before 2010 (lack of stats)\n",
    "table = contracts[contracts.signing_year > 2009]#.set_index('contract_id')\n"
   ]
  },
  {
   "cell_type": "code",
   "execution_count": 168,
   "metadata": {},
   "outputs": [
    {
     "data": {
      "text/plain": [
       "(1753, 27)"
      ]
     },
     "execution_count": 168,
     "metadata": {},
     "output_type": "execute_result"
    }
   ],
   "source": [
    "table.shape"
   ]
  },
  {
   "cell_type": "code",
   "execution_count": 169,
   "metadata": {},
   "outputs": [],
   "source": [
    "#add column to line up contract years and stats years\n",
    "table['year_match'] = table.signing_year - 1\n",
    "\n",
    "#merge contracts and stats into a single table\n",
    "table = pd.merge(table, allallstats,\n",
    "            how = 'left', left_on = ['Player', 'year_match'],\n",
    "            right_on = ['Player', 'Season'])\n",
    "#drop rows that had missing seasons / indexing issues leading to NaNs\n",
    "#1700 rows down to 1440 ---- \n",
    "#table.dropna(inplace=True)"
   ]
  },
  {
   "cell_type": "code",
   "execution_count": 175,
   "metadata": {},
   "outputs": [
    {
     "name": "stdout",
     "output_type": "stream",
     "text": [
      "<class 'pandas.core.frame.DataFrame'>\n",
      "Int64Index: 564 entries, 4 to 1703\n",
      "Columns: 209 entries, player_id to 3yr Season_Player\n",
      "dtypes: bool(1), datetime64[ns](2), float64(148), int64(12), object(46)\n",
      "memory usage: 921.5+ KB\n"
     ]
    }
   ],
   "source": [
    "table.info()"
   ]
  },
  {
   "cell_type": "code",
   "execution_count": 447,
   "metadata": {},
   "outputs": [],
   "source": [
    "modst = dc.clean_features_data(sql=False, new_fas=False)"
   ]
  },
  {
   "cell_type": "code",
   "execution_count": 462,
   "metadata": {},
   "outputs": [
    {
     "data": {
      "text/plain": [
       "<module 'data_cleaning.data_cleaning' from '/Users/colinshanahan/galvanize/nhl-contract-predictions/data_cleaning/data_cleaning.py'>"
      ]
     },
     "execution_count": 462,
     "metadata": {},
     "output_type": "execute_result"
    }
   ],
   "source": [
    "reload(cr)\n",
    "reload(dc)"
   ]
  },
  {
   "cell_type": "code",
   "execution_count": 477,
   "metadata": {},
   "outputs": [],
   "source": [
    "con_reg = cr.ContractRegressor()"
   ]
  },
  {
   "cell_type": "code",
   "execution_count": 478,
   "metadata": {},
   "outputs": [
    {
     "data": {
      "text/plain": [
       "((1464, 197), (1464, 2))"
      ]
     },
     "execution_count": 478,
     "metadata": {},
     "output_type": "execute_result"
    }
   ],
   "source": [
    "X = con_reg.pick_cols(modst)\n",
    "y = modst[['cap_pct', 'length']]\n",
    "X.shape, y.shape"
   ]
  },
  {
   "cell_type": "code",
   "execution_count": 479,
   "metadata": {},
   "outputs": [],
   "source": [
    "X, y = con_reg.drop_duplicate_rows(X), con_reg.drop_duplicate_rows(y)"
   ]
  },
  {
   "cell_type": "code",
   "execution_count": 480,
   "metadata": {},
   "outputs": [],
   "source": [
    "X = con_reg.impute(X)"
   ]
  },
  {
   "cell_type": "code",
   "execution_count": 481,
   "metadata": {},
   "outputs": [],
   "source": [
    "split = (\n",
    "    train_test_split(X, y['cap_pct'], y['length'], \n",
    "                     test_size = 0.15))\n",
    "\n",
    "X_train, X_test, yp_train, yp_test, yl_train, yl_test = split"
   ]
  },
  {
   "cell_type": "code",
   "execution_count": 482,
   "metadata": {},
   "outputs": [],
   "source": [
    "con_reg.fit(X_train, yp_train, yl_train)"
   ]
  },
  {
   "cell_type": "code",
   "execution_count": 483,
   "metadata": {},
   "outputs": [
    {
     "name": "stdout",
     "output_type": "stream",
     "text": [
      "RMSE pick mean cap_pct: 3.06%\n",
      "    translates to 2019 Cap Hit of: $2539800.0\n",
      "RMSE pick mean length: 2.0 years\n",
      "\n",
      "RMSE Cap_pct: 0.99%\n",
      "    translates to 2019 Cap Hit of: $821700.0\n",
      "RMSE Length: 1.2 years\n"
     ]
    },
    {
     "data": {
      "text/plain": [
       "(0.99, 821700.0, 1.2)"
      ]
     },
     "execution_count": 483,
     "metadata": {},
     "output_type": "execute_result"
    }
   ],
   "source": [
    "con_reg.predict_global_mean(yp_train, yp_test, yl_train, yl_test)\n",
    "print()\n",
    "preds = con_reg.predict(X_test)\n",
    "con_reg.score(X_test, yp_test, yl_test)"
   ]
  },
  {
   "cell_type": "code",
   "execution_count": null,
   "metadata": {},
   "outputs": [],
   "source": []
  },
  {
   "cell_type": "code",
   "execution_count": 456,
   "metadata": {},
   "outputs": [],
   "source": [
    "modst_newonly = dc.clean_features_data(sql=False, new_fas=False)"
   ]
  },
  {
   "cell_type": "code",
   "execution_count": 489,
   "metadata": {},
   "outputs": [],
   "source": [
    "con_reg_newonly = cr.ContractRegressor()\n",
    "Xn = con_reg_newonly.pick_cols(modst_newonly)\n",
    "yn = modst_newonly[['cap_pct', 'length']]\n",
    "Xn, yn = con_reg_newonly.drop_duplicate_rows(Xn), con_reg_newonly.drop_duplicate_rows(yn)\n",
    "Xn = con_reg.impute(Xn)"
   ]
  },
  {
   "cell_type": "code",
   "execution_count": 490,
   "metadata": {},
   "outputs": [],
   "source": [
    "split = (\n",
    "    train_test_split(Xn, yn['cap_pct'], yn['length'], \n",
    "                     test_size = 0.15))\n",
    "\n",
    "X_train, X_test, yp_train, yp_test, yl_train, yl_test = split"
   ]
  },
  {
   "cell_type": "code",
   "execution_count": 491,
   "metadata": {},
   "outputs": [],
   "source": [
    "con_reg_newonly.fit(X_train, yp_train, yl_train)"
   ]
  },
  {
   "cell_type": "code",
   "execution_count": 492,
   "metadata": {},
   "outputs": [
    {
     "name": "stdout",
     "output_type": "stream",
     "text": [
      "RMSE pick mean cap_pct: 2.73%\n",
      "    translates to 2019 Cap Hit of: $2265900.0\n",
      "RMSE pick mean length: 1.6 years\n",
      "\n",
      "RMSE Cap_pct: 0.83%\n",
      "    translates to 2019 Cap Hit of: $688900.0\n",
      "RMSE Length: 1.0 years\n"
     ]
    },
    {
     "data": {
      "text/plain": [
       "(0.83, 688900.0, 1.0)"
      ]
     },
     "execution_count": 492,
     "metadata": {},
     "output_type": "execute_result"
    }
   ],
   "source": [
    "con_reg_newonly.predict_global_mean(yp_train, yp_test, yl_train, yl_test)\n",
    "print()\n",
    "preds = con_reg_newonly.predict(X_test)\n",
    "con_reg_newonly.score(X_test, yp_test, yl_test)"
   ]
  },
  {
   "cell_type": "code",
   "execution_count": 493,
   "metadata": {},
   "outputs": [
    {
     "data": {
      "text/plain": [
       "((1460, 197), (1460, 2))"
      ]
     },
     "execution_count": 493,
     "metadata": {},
     "output_type": "execute_result"
    }
   ],
   "source": [
    "X.shape, y.shape"
   ]
  },
  {
   "cell_type": "code",
   "execution_count": null,
   "metadata": {},
   "outputs": [],
   "source": []
  }
 ],
 "metadata": {
  "kernelspec": {
   "display_name": "Python 3",
   "language": "python",
   "name": "python3"
  },
  "language_info": {
   "codemirror_mode": {
    "name": "ipython",
    "version": 3
   },
   "file_extension": ".py",
   "mimetype": "text/x-python",
   "name": "python",
   "nbconvert_exporter": "python",
   "pygments_lexer": "ipython3",
   "version": "3.6.5"
  }
 },
 "nbformat": 4,
 "nbformat_minor": 2
}
