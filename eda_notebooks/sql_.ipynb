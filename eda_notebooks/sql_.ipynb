{
 "cells": [
  {
   "cell_type": "code",
   "execution_count": 1,
   "metadata": {},
   "outputs": [],
   "source": [
    "import numpy as np\n",
    "import pandas as pd\n",
    "import matplotlib.pyplot as plt\n",
    "\n",
    "%matplotlib inline"
   ]
  },
  {
   "cell_type": "code",
   "execution_count": 2,
   "metadata": {},
   "outputs": [],
   "source": [
    "import psycopg2 as pg2"
   ]
  },
  {
   "cell_type": "code",
   "execution_count": 3,
   "metadata": {},
   "outputs": [],
   "source": [
    "conn = pg2.connect(dbname='nhl', user='postgres', host='localhost', port='5435')\n",
    "cur = conn.cursor()"
   ]
  },
  {
   "cell_type": "code",
   "execution_count": 4,
   "metadata": {},
   "outputs": [],
   "source": [
    "query = '''\n",
    "SELECT * \n",
    "FROM contracts \n",
    "LIMIT 5;\n",
    "'''"
   ]
  },
  {
   "cell_type": "code",
   "execution_count": 9,
   "metadata": {},
   "outputs": [],
   "source": [
    "cur.execute(query)"
   ]
  },
  {
   "cell_type": "code",
   "execution_count": 10,
   "metadata": {},
   "outputs": [
    {
     "name": "stdout",
     "output_type": "stream",
     "text": [
      "(4124, 103, 'Roberto Luongo', 'Goaltender', 12, 5333333, 63999996, 9.39, datetime.date(2009, 9, 2), 2009, 30, None, 'UFA', 'UFA')\n",
      "(2837, 155, 'Ryan Miller', 'Goaltender', 3, 6000000, 18000000, 8.7, datetime.date(2014, 7, 1), 2014, 33, 'Vancouver Canucks', 'UFA', 'UFA')\n",
      "(2832, 155, 'Ryan Miller', 'Goaltender', 2, 2000000, 4000000, 2.67, datetime.date(2017, 7, 1), 2017, 36, 'Anaheim Ducks', 'UFA', 'UFA')\n",
      "(4078, 156, 'Craig Anderson', 'Goaltender', 3, 4200000, 12600000, 6.09, datetime.date(2014, 8, 25), 2014, 33, None, 'UFA', 'UFA')\n",
      "(4079, 156, 'Craig Anderson', 'Goaltender', 2, 4750000, 9500000, 6.33, datetime.date(2017, 9, 29), 2017, 36, None, 'UFA', 'UFA')\n"
     ]
    }
   ],
   "source": [
    "for row in cur:\n",
    "    print(row)"
   ]
  },
  {
   "cell_type": "code",
   "execution_count": 6,
   "metadata": {},
   "outputs": [],
   "source": [
    "results = list(cur)"
   ]
  },
  {
   "cell_type": "code",
   "execution_count": 7,
   "metadata": {},
   "outputs": [
    {
     "data": {
      "text/plain": [
       "[(4124,\n",
       "  103,\n",
       "  'Roberto Luongo',\n",
       "  'Goaltender',\n",
       "  12,\n",
       "  5333333,\n",
       "  63999996,\n",
       "  9.39,\n",
       "  datetime.date(2009, 9, 2),\n",
       "  2009,\n",
       "  30,\n",
       "  None,\n",
       "  'UFA',\n",
       "  'UFA'),\n",
       " (2837,\n",
       "  155,\n",
       "  'Ryan Miller',\n",
       "  'Goaltender',\n",
       "  3,\n",
       "  6000000,\n",
       "  18000000,\n",
       "  8.7,\n",
       "  datetime.date(2014, 7, 1),\n",
       "  2014,\n",
       "  33,\n",
       "  'Vancouver Canucks',\n",
       "  'UFA',\n",
       "  'UFA'),\n",
       " (2832,\n",
       "  155,\n",
       "  'Ryan Miller',\n",
       "  'Goaltender',\n",
       "  2,\n",
       "  2000000,\n",
       "  4000000,\n",
       "  2.67,\n",
       "  datetime.date(2017, 7, 1),\n",
       "  2017,\n",
       "  36,\n",
       "  'Anaheim Ducks',\n",
       "  'UFA',\n",
       "  'UFA'),\n",
       " (4078,\n",
       "  156,\n",
       "  'Craig Anderson',\n",
       "  'Goaltender',\n",
       "  3,\n",
       "  4200000,\n",
       "  12600000,\n",
       "  6.09,\n",
       "  datetime.date(2014, 8, 25),\n",
       "  2014,\n",
       "  33,\n",
       "  None,\n",
       "  'UFA',\n",
       "  'UFA'),\n",
       " (4079,\n",
       "  156,\n",
       "  'Craig Anderson',\n",
       "  'Goaltender',\n",
       "  2,\n",
       "  4750000,\n",
       "  9500000,\n",
       "  6.33,\n",
       "  datetime.date(2017, 9, 29),\n",
       "  2017,\n",
       "  36,\n",
       "  None,\n",
       "  'UFA',\n",
       "  'UFA')]"
      ]
     },
     "execution_count": 7,
     "metadata": {},
     "output_type": "execute_result"
    }
   ],
   "source": [
    "results"
   ]
  },
  {
   "cell_type": "code",
   "execution_count": null,
   "metadata": {},
   "outputs": [],
   "source": []
  }
 ],
 "metadata": {
  "kernelspec": {
   "display_name": "Python 3",
   "language": "python",
   "name": "python3"
  },
  "language_info": {
   "codemirror_mode": {
    "name": "ipython",
    "version": 3
   },
   "file_extension": ".py",
   "mimetype": "text/x-python",
   "name": "python",
   "nbconvert_exporter": "python",
   "pygments_lexer": "ipython3",
   "version": "3.6.5"
  }
 },
 "nbformat": 4,
 "nbformat_minor": 2
}
