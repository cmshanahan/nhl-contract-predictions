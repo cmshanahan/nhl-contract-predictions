{
 "cells": [
  {
   "cell_type": "code",
   "execution_count": 1,
   "metadata": {},
   "outputs": [],
   "source": [
    "import numpy as np\n",
    "import pandas as pd\n",
    "import matplotlib.pyplot as plt\n",
    "import seaborn as sns\n",
    "\n",
    "%matplotlib inline"
   ]
  },
  {
   "cell_type": "code",
   "execution_count": 524,
   "metadata": {},
   "outputs": [],
   "source": [
    "import warnings\n",
    "warnings.simplefilter('ignore')"
   ]
  },
  {
   "cell_type": "code",
   "execution_count": 140,
   "metadata": {},
   "outputs": [],
   "source": [
    "from sklearn.cluster import KMeans\n",
    "from collections import defaultdict\n",
    "from sklearn.model_selection import train_test_split\n",
    "from sklearn.linear_model import LinearRegression\n",
    "from sklearn.neighbors import KNeighborsRegressor, RadiusNeighborsRegressor\n",
    "from sklearn.ensemble import RandomForestRegressor, GradientBoostingRegressor, AdaBoostRegressor\n",
    "import statsmodels.api as sm\n",
    "from sklearn.preprocessing import StandardScaler\n",
    "from scipy.spatial.distance import euclidean, cosine\n",
    "from collections import defaultdict\n",
    "import random\n",
    "import operator"
   ]
  },
  {
   "cell_type": "code",
   "execution_count": 3,
   "metadata": {},
   "outputs": [],
   "source": [
    "import os\n",
    "import sys\n",
    "\n",
    "module_path = os.path.abspath(os.path.join('..'))\n",
    "if module_path not in sys.path:\n",
    "    sys.path.append(module_path)"
   ]
  },
  {
   "cell_type": "code",
   "execution_count": 4,
   "metadata": {},
   "outputs": [],
   "source": [
    "from importlib import reload\n",
    "from data_cleaning import data_cleaning as dc\n",
    "from models import clustering as cl"
   ]
  },
  {
   "cell_type": "code",
   "execution_count": 60,
   "metadata": {},
   "outputs": [],
   "source": [
    "def rmse(yhat, y):\n",
    "    ''' Return root mean squared error of a set of predictions '''\n",
    "    return np.sqrt(((yhat - y)**2).mean())"
   ]
  },
  {
   "cell_type": "code",
   "execution_count": 8,
   "metadata": {},
   "outputs": [],
   "source": [
    "contracts = dc.clean_contracts_data()"
   ]
  },
  {
   "cell_type": "code",
   "execution_count": 9,
   "metadata": {},
   "outputs": [
    {
     "data": {
      "text/plain": [
       "(1762, 28)"
      ]
     },
     "execution_count": 9,
     "metadata": {},
     "output_type": "execute_result"
    }
   ],
   "source": [
    "contracts.shape"
   ]
  },
  {
   "cell_type": "code",
   "execution_count": 10,
   "metadata": {},
   "outputs": [],
   "source": [
    "df = pd.read_csv('../data/thur_data.csv')"
   ]
  },
  {
   "cell_type": "code",
   "execution_count": 11,
   "metadata": {},
   "outputs": [
    {
     "data": {
      "text/plain": [
       "(1170, 209)"
      ]
     },
     "execution_count": 11,
     "metadata": {},
     "output_type": "execute_result"
    }
   ],
   "source": [
    "df.shape"
   ]
  },
  {
   "cell_type": "code",
   "execution_count": 12,
   "metadata": {},
   "outputs": [],
   "source": [
    "df.drop('Position', axis=1, inplace=True)\n",
    "df.set_index(df['Season_Player'], inplace=True)"
   ]
  },
  {
   "cell_type": "code",
   "execution_count": 15,
   "metadata": {},
   "outputs": [],
   "source": [
    "#extra feature engineering\n",
    "df['Giveaways/60'] = (df['Giveaways'] / df['TOI']) * 60\n",
    "df['mean Giveaways/60'] = (df['sum Giveaways'] / df['sum TOI']) * 60\n",
    "df['Takeaways/60'] = (df['Takeaways'] / df['TOI']) * 60\n",
    "df['mean Takeaways/60'] = (df['sum Takeaways'] / df['sum TOI']) * 60\n",
    "df['Shots Blocked/60'] = (df['Shots Blocked']/df['TOI']) * 60\n",
    "df['mean Shots Blocked/60'] = (df['sum Shots Blocked'] / df['sum TOI']) * 60\n",
    "df['mean Total Points/60'] = (df['sum Total Points']/df['sum TOI']) * 60\n",
    "df['Total Points/60'] = (df['Total Points']/df['TOI']) * 60\n",
    "df['Goals/60'] = (df['Goals']/df['TOI']) * 60\n",
    "df['mean Goals/60'] = (df['sum Goals']/df['sum TOI']) * 60\n",
    "df['Shots/60'] = (df['Shots']/df['TOI']) * 60\n",
    "df['mean Shots/60'] = (df['sum Shots']/df['sum TOI']) * 60\n",
    "df['Hits/60'] = (df['Hits']/df['TOI']) * 60\n",
    "df['mean Hits/60'] = (df['sum Hits']/df['sum TOI']) * 60\n",
    "df['PIM/60'] = (df['PIM']/df['TOI']) * 60\n",
    "df['mean PIM/60'] = (df['sum PIM']/df['sum TOI']) * 60\n",
    "df['Penalties Drawn/60'] = (df['Penalties Drawn']/df['TOI']) * 60\n",
    "df['mean Penalties Drawn/60'] = (df['sum Penalties Drawn']/df['sum TOI']) * 60\n",
    "df['mean Faceoffs pct'] = (df['sum Faceoffs Won'] / df['sum Faceoffs Lost'])"
   ]
  },
  {
   "cell_type": "code",
   "execution_count": 16,
   "metadata": {},
   "outputs": [
    {
     "data": {
      "text/plain": [
       "(1170, 227)"
      ]
     },
     "execution_count": 16,
     "metadata": {},
     "output_type": "execute_result"
    }
   ],
   "source": [
    "df.shape"
   ]
  },
  {
   "cell_type": "code",
   "execution_count": 43,
   "metadata": {},
   "outputs": [],
   "source": [
    "to_save = df.drop(['player_id', 'first_name', 'last_name', 'birthdate', 'team_id', \n",
    "                 'team_name', 'active', 'signing_date', 'signing_team', 'contract_level', \n",
    "                   'contract_type', 'contract_end', 'ufa_year', '3yr Season_Player', \n",
    "                   'skater', 'forward', 'expiry_status', 'season', 'year_match'\n",
    "], axis = 1)"
   ]
  },
  {
   "cell_type": "code",
   "execution_count": 44,
   "metadata": {},
   "outputs": [
    {
     "data": {
      "text/plain": [
       "(1170, 208)"
      ]
     },
     "execution_count": 44,
     "metadata": {},
     "output_type": "execute_result"
    }
   ],
   "source": [
    "to_save.shape"
   ]
  },
  {
   "cell_type": "code",
   "execution_count": 78,
   "metadata": {},
   "outputs": [],
   "source": [
    "to_save.rename({'3yr Off.\\xa0Zone Starts/60': '3yr Off. Zone Starts/60',\n",
    " '3yr Neu.\\xa0Zone Starts/60': '3yr Neu. Zone Starts/60',\n",
    " '3yr Def.\\xa0Zone Starts/60': '3yr Def. Zone Starts/60',\n",
    " '3yr On\\xa0The\\xa0Fly Starts/60': '3yr On The Fly Starts/60',\n",
    " '3yr Off.\\xa0Zone Start %': '3yr Off. Zone Start %',\n",
    " '3yr Off.\\xa0Zone Faceoffs/60': '3yr Off. Zone Faceoffs/60',\n",
    " '3yr Neu.\\xa0Zone Faceoffs/60': '3yr Neu. Zone Faceoffs/60',\n",
    " '3yr Def.\\xa0Zone Faceoffs/60': '3yr Def. Zone Faceoffs/60',\n",
    " '3yr Off.\\xa0Zone Faceoff %': '3yr Off. Zone Faceoff %'}, axis = 1, inplace=True)"
   ]
  },
  {
   "cell_type": "code",
   "execution_count": 79,
   "metadata": {},
   "outputs": [],
   "source": [
    "to_save.to_csv('../data/data_for_model.csv')"
   ]
  },
  {
   "cell_type": "code",
   "execution_count": 399,
   "metadata": {},
   "outputs": [],
   "source": [
    "test = pd.read_csv('../data/data_for_model.csv', index_col='Season_Player')"
   ]
  },
  {
   "cell_type": "code",
   "execution_count": 81,
   "metadata": {},
   "outputs": [
    {
     "data": {
      "text/html": [
       "<div>\n",
       "<style scoped>\n",
       "    .dataframe tbody tr th:only-of-type {\n",
       "        vertical-align: middle;\n",
       "    }\n",
       "\n",
       "    .dataframe tbody tr th {\n",
       "        vertical-align: top;\n",
       "    }\n",
       "\n",
       "    .dataframe thead th {\n",
       "        text-align: right;\n",
       "    }\n",
       "</style>\n",
       "<table border=\"1\" class=\"dataframe\">\n",
       "  <thead>\n",
       "    <tr style=\"text-align: right;\">\n",
       "      <th></th>\n",
       "      <th>position</th>\n",
       "      <th>cap_hit</th>\n",
       "      <th>length</th>\n",
       "      <th>total_value</th>\n",
       "      <th>Player</th>\n",
       "      <th>signing_year</th>\n",
       "      <th>signing_age</th>\n",
       "      <th>signing_year_cap</th>\n",
       "      <th>cap_pct</th>\n",
       "      <th>signing_status</th>\n",
       "      <th>...</th>\n",
       "      <th>mean Goals/60</th>\n",
       "      <th>Shots/60</th>\n",
       "      <th>mean Shots/60</th>\n",
       "      <th>Hits/60</th>\n",
       "      <th>mean Hits/60</th>\n",
       "      <th>PIM/60</th>\n",
       "      <th>mean PIM/60</th>\n",
       "      <th>Penalties Drawn/60</th>\n",
       "      <th>mean Penalties Drawn/60</th>\n",
       "      <th>mean Faceoffs pct</th>\n",
       "    </tr>\n",
       "    <tr>\n",
       "      <th>Season_Player</th>\n",
       "      <th></th>\n",
       "      <th></th>\n",
       "      <th></th>\n",
       "      <th></th>\n",
       "      <th></th>\n",
       "      <th></th>\n",
       "      <th></th>\n",
       "      <th></th>\n",
       "      <th></th>\n",
       "      <th></th>\n",
       "      <th></th>\n",
       "      <th></th>\n",
       "      <th></th>\n",
       "      <th></th>\n",
       "      <th></th>\n",
       "      <th></th>\n",
       "      <th></th>\n",
       "      <th></th>\n",
       "      <th></th>\n",
       "      <th></th>\n",
       "      <th></th>\n",
       "    </tr>\n",
       "  </thead>\n",
       "  <tbody>\n",
       "    <tr>\n",
       "      <th>2014 Francois Beauchemin</th>\n",
       "      <td>Defense</td>\n",
       "      <td>4500000</td>\n",
       "      <td>3</td>\n",
       "      <td>13500000</td>\n",
       "      <td>Francois Beauchemin</td>\n",
       "      <td>2015</td>\n",
       "      <td>35.0</td>\n",
       "      <td>71400000</td>\n",
       "      <td>6.30</td>\n",
       "      <td>UFA</td>\n",
       "      <td>...</td>\n",
       "      <td>0.300126</td>\n",
       "      <td>4.535147</td>\n",
       "      <td>4.058853</td>\n",
       "      <td>4.329004</td>\n",
       "      <td>4.258938</td>\n",
       "      <td>1.978973</td>\n",
       "      <td>1.529216</td>\n",
       "      <td>0.206143</td>\n",
       "      <td>0.271543</td>\n",
       "      <td>inf</td>\n",
       "    </tr>\n",
       "    <tr>\n",
       "      <th>2016 Francois Beauchemin</th>\n",
       "      <td>Defense</td>\n",
       "      <td>1000000</td>\n",
       "      <td>1</td>\n",
       "      <td>1700000</td>\n",
       "      <td>Francois Beauchemin</td>\n",
       "      <td>2017</td>\n",
       "      <td>37.0</td>\n",
       "      <td>75000000</td>\n",
       "      <td>1.33</td>\n",
       "      <td>UFA</td>\n",
       "      <td>...</td>\n",
       "      <td>0.274045</td>\n",
       "      <td>4.544490</td>\n",
       "      <td>4.213435</td>\n",
       "      <td>2.513240</td>\n",
       "      <td>2.923142</td>\n",
       "      <td>1.101694</td>\n",
       "      <td>1.347386</td>\n",
       "      <td>0.240996</td>\n",
       "      <td>0.228370</td>\n",
       "      <td>inf</td>\n",
       "    </tr>\n",
       "    <tr>\n",
       "      <th>2015 Brent Burns</th>\n",
       "      <td>Defense</td>\n",
       "      <td>8000000</td>\n",
       "      <td>8</td>\n",
       "      <td>64000000</td>\n",
       "      <td>Brent Burns</td>\n",
       "      <td>2016</td>\n",
       "      <td>31.0</td>\n",
       "      <td>73000000</td>\n",
       "      <td>10.96</td>\n",
       "      <td>UFA</td>\n",
       "      <td>...</td>\n",
       "      <td>0.754954</td>\n",
       "      <td>9.986562</td>\n",
       "      <td>9.642827</td>\n",
       "      <td>2.857345</td>\n",
       "      <td>4.506849</td>\n",
       "      <td>1.499399</td>\n",
       "      <td>1.738683</td>\n",
       "      <td>0.480939</td>\n",
       "      <td>0.571935</td>\n",
       "      <td>0.885714</td>\n",
       "    </tr>\n",
       "    <tr>\n",
       "      <th>2017 Zdeno Chara</th>\n",
       "      <td>Defense</td>\n",
       "      <td>5000000</td>\n",
       "      <td>1</td>\n",
       "      <td>5000000</td>\n",
       "      <td>Zdeno Chara</td>\n",
       "      <td>2018</td>\n",
       "      <td>41.0</td>\n",
       "      <td>79500000</td>\n",
       "      <td>6.29</td>\n",
       "      <td>UFA</td>\n",
       "      <td>...</td>\n",
       "      <td>0.291608</td>\n",
       "      <td>5.167619</td>\n",
       "      <td>4.912471</td>\n",
       "      <td>5.059960</td>\n",
       "      <td>4.542353</td>\n",
       "      <td>2.153174</td>\n",
       "      <td>2.130981</td>\n",
       "      <td>0.502407</td>\n",
       "      <td>0.616863</td>\n",
       "      <td>0.000000</td>\n",
       "    </tr>\n",
       "    <tr>\n",
       "      <th>2015 Jason Chimera</th>\n",
       "      <td>Left Wing</td>\n",
       "      <td>2250000</td>\n",
       "      <td>2</td>\n",
       "      <td>4500000</td>\n",
       "      <td>Jason Chimera</td>\n",
       "      <td>2016</td>\n",
       "      <td>37.0</td>\n",
       "      <td>73000000</td>\n",
       "      <td>3.08</td>\n",
       "      <td>UFA</td>\n",
       "      <td>...</td>\n",
       "      <td>0.738436</td>\n",
       "      <td>8.592631</td>\n",
       "      <td>7.525010</td>\n",
       "      <td>5.363885</td>\n",
       "      <td>6.593175</td>\n",
       "      <td>1.145684</td>\n",
       "      <td>1.916416</td>\n",
       "      <td>0.624919</td>\n",
       "      <td>0.843926</td>\n",
       "      <td>0.872549</td>\n",
       "    </tr>\n",
       "  </tbody>\n",
       "</table>\n",
       "<p>5 rows × 208 columns</p>\n",
       "</div>"
      ],
      "text/plain": [
       "                           position  cap_hit  length  total_value  \\\n",
       "Season_Player                                                       \n",
       "2014 Francois Beauchemin    Defense  4500000       3     13500000   \n",
       "2016 Francois Beauchemin    Defense  1000000       1      1700000   \n",
       "2015 Brent Burns            Defense  8000000       8     64000000   \n",
       "2017 Zdeno Chara            Defense  5000000       1      5000000   \n",
       "2015 Jason Chimera        Left Wing  2250000       2      4500000   \n",
       "\n",
       "                                       Player  signing_year  signing_age  \\\n",
       "Season_Player                                                              \n",
       "2014 Francois Beauchemin  Francois Beauchemin          2015         35.0   \n",
       "2016 Francois Beauchemin  Francois Beauchemin          2017         37.0   \n",
       "2015 Brent Burns                  Brent Burns          2016         31.0   \n",
       "2017 Zdeno Chara                  Zdeno Chara          2018         41.0   \n",
       "2015 Jason Chimera              Jason Chimera          2016         37.0   \n",
       "\n",
       "                          signing_year_cap  cap_pct signing_status  \\\n",
       "Season_Player                                                        \n",
       "2014 Francois Beauchemin          71400000     6.30            UFA   \n",
       "2016 Francois Beauchemin          75000000     1.33            UFA   \n",
       "2015 Brent Burns                  73000000    10.96            UFA   \n",
       "2017 Zdeno Chara                  79500000     6.29            UFA   \n",
       "2015 Jason Chimera                73000000     3.08            UFA   \n",
       "\n",
       "                                ...         mean Goals/60  Shots/60  \\\n",
       "Season_Player                   ...                                   \n",
       "2014 Francois Beauchemin        ...              0.300126  4.535147   \n",
       "2016 Francois Beauchemin        ...              0.274045  4.544490   \n",
       "2015 Brent Burns                ...              0.754954  9.986562   \n",
       "2017 Zdeno Chara                ...              0.291608  5.167619   \n",
       "2015 Jason Chimera              ...              0.738436  8.592631   \n",
       "\n",
       "                          mean Shots/60   Hits/60  mean Hits/60    PIM/60  \\\n",
       "Season_Player                                                               \n",
       "2014 Francois Beauchemin       4.058853  4.329004      4.258938  1.978973   \n",
       "2016 Francois Beauchemin       4.213435  2.513240      2.923142  1.101694   \n",
       "2015 Brent Burns               9.642827  2.857345      4.506849  1.499399   \n",
       "2017 Zdeno Chara               4.912471  5.059960      4.542353  2.153174   \n",
       "2015 Jason Chimera             7.525010  5.363885      6.593175  1.145684   \n",
       "\n",
       "                          mean PIM/60  Penalties Drawn/60  \\\n",
       "Season_Player                                               \n",
       "2014 Francois Beauchemin     1.529216            0.206143   \n",
       "2016 Francois Beauchemin     1.347386            0.240996   \n",
       "2015 Brent Burns             1.738683            0.480939   \n",
       "2017 Zdeno Chara             2.130981            0.502407   \n",
       "2015 Jason Chimera           1.916416            0.624919   \n",
       "\n",
       "                          mean Penalties Drawn/60  mean Faceoffs pct  \n",
       "Season_Player                                                         \n",
       "2014 Francois Beauchemin                 0.271543                inf  \n",
       "2016 Francois Beauchemin                 0.228370                inf  \n",
       "2015 Brent Burns                         0.571935           0.885714  \n",
       "2017 Zdeno Chara                         0.616863           0.000000  \n",
       "2015 Jason Chimera                       0.843926           0.872549  \n",
       "\n",
       "[5 rows x 208 columns]"
      ]
     },
     "execution_count": 81,
     "metadata": {},
     "output_type": "execute_result"
    }
   ],
   "source": [
    "test.head()"
   ]
  },
  {
   "cell_type": "code",
   "execution_count": 400,
   "metadata": {},
   "outputs": [],
   "source": [
    "df = test.drop([\n",
    "    'Player', 'Season_Player.1'\n",
    "], axis=1)"
   ]
  },
  {
   "cell_type": "code",
   "execution_count": 401,
   "metadata": {},
   "outputs": [
    {
     "data": {
      "text/plain": [
       "(1170, 206)"
      ]
     },
     "execution_count": 401,
     "metadata": {},
     "output_type": "execute_result"
    }
   ],
   "source": [
    "df.shape"
   ]
  },
  {
   "cell_type": "code",
   "execution_count": 84,
   "metadata": {},
   "outputs": [
    {
     "data": {
      "text/plain": [
       "Index(['position', 'cap_hit', 'length', 'total_value', 'signing_year',\n",
       "       'signing_age', 'signing_year_cap', 'cap_pct', 'signing_status',\n",
       "       'Season', 'GP', 'TOI', 'Goals', 'Total Assists', 'First Assists',\n",
       "       'Second Assists', 'Total Points', 'Shots', 'iCF', 'iFF'],\n",
       "      dtype='object')"
      ]
     },
     "execution_count": 84,
     "metadata": {},
     "output_type": "execute_result"
    }
   ],
   "source": [
    "df.columns[:20]"
   ]
  },
  {
   "cell_type": "code",
   "execution_count": 402,
   "metadata": {},
   "outputs": [],
   "source": [
    "#specify target column labels\n",
    "target_labels = [\n",
    "    'cap_hit', 'cap_pct', 'length', 'total_value'\n",
    "]"
   ]
  },
  {
   "cell_type": "code",
   "execution_count": 403,
   "metadata": {},
   "outputs": [
    {
     "data": {
      "text/plain": [
       "((762, 206), (408, 206))"
      ]
     },
     "execution_count": 403,
     "metadata": {},
     "output_type": "execute_result"
    }
   ],
   "source": [
    "#split into forwards and defense\n",
    "forwards = df[df.position != 'Defense']\n",
    "defense = df[df.position == 'Defense']\n",
    "forwards.shape, defense.shape"
   ]
  },
  {
   "cell_type": "code",
   "execution_count": 404,
   "metadata": {},
   "outputs": [
    {
     "name": "stderr",
     "output_type": "stream",
     "text": [
      "/Users/colinshanahan/anaconda3/lib/python3.6/site-packages/pandas/core/frame.py:3694: SettingWithCopyWarning: \n",
      "A value is trying to be set on a copy of a slice from a DataFrame\n",
      "\n",
      "See the caveats in the documentation: http://pandas.pydata.org/pandas-docs/stable/indexing.html#indexing-view-versus-copy\n",
      "  errors=errors)\n"
     ]
    }
   ],
   "source": [
    "#drop columns that aren't targets or potential features\n",
    "forwards.drop(['position', 'Season'], axis=1, inplace=True)\n",
    "defense.drop(['position', 'Season'], axis=1, inplace=True)"
   ]
  },
  {
   "cell_type": "code",
   "execution_count": 223,
   "metadata": {},
   "outputs": [
    {
     "name": "stderr",
     "output_type": "stream",
     "text": [
      "/Users/colinshanahan/anaconda3/lib/python3.6/site-packages/ipykernel_launcher.py:11: SettingWithCopyWarning: \n",
      "A value is trying to be set on a copy of a slice from a DataFrame.\n",
      "Try using .loc[row_indexer,col_indexer] = value instead\n",
      "\n",
      "See the caveats in the documentation: http://pandas.pydata.org/pandas-docs/stable/indexing.html#indexing-view-versus-copy\n",
      "  # This is added back by InteractiveShellApp.init_path()\n",
      "/Users/colinshanahan/anaconda3/lib/python3.6/site-packages/ipykernel_launcher.py:12: SettingWithCopyWarning: \n",
      "A value is trying to be set on a copy of a slice from a DataFrame.\n",
      "Try using .loc[row_indexer,col_indexer] = value instead\n",
      "\n",
      "See the caveats in the documentation: http://pandas.pydata.org/pandas-docs/stable/indexing.html#indexing-view-versus-copy\n",
      "  if sys.path[0] == '':\n"
     ]
    }
   ],
   "source": [
    "#defense clustering\n",
    "Xd = defense[['mean Total Points', 'mean Total Points/60', 'TOI/GP', '3yr CF/60 Rel', '3yr CA/60 Rel',\n",
    "              '3yr Off. Zone Starts/60', '3yr Def. Zone Starts/60', 'mean Shots Blocked/60']]\n",
    "yd = defense[['length', 'cap_hit', 'cap_pct']]\n",
    "\n",
    "ss = StandardScaler()\n",
    "Xds = ss.fit_transform(Xd)\n",
    "dkm = KMeans(n_clusters = 3)\n",
    "dclus = dkm.fit_transform(Xds)\n",
    "#create a cluster feature column\n",
    "Xd['cluster'] = dkm.labels_\n",
    "defense['cluster'] = dkm.labels_\n",
    "\n",
    "dclusts = []\n",
    "dcmeans = []\n",
    "for i in range(dkm.n_clusters):\n",
    "    dclusts.append(Xd[dkm.labels_ == i].drop('cluster', axis=1))\n",
    "    dcmeans.append(dclusts[i].mean(axis=0))"
   ]
  },
  {
   "cell_type": "code",
   "execution_count": 224,
   "metadata": {},
   "outputs": [
    {
     "name": "stderr",
     "output_type": "stream",
     "text": [
      "/Users/colinshanahan/anaconda3/lib/python3.6/site-packages/ipykernel_launcher.py:11: SettingWithCopyWarning: \n",
      "A value is trying to be set on a copy of a slice from a DataFrame.\n",
      "Try using .loc[row_indexer,col_indexer] = value instead\n",
      "\n",
      "See the caveats in the documentation: http://pandas.pydata.org/pandas-docs/stable/indexing.html#indexing-view-versus-copy\n",
      "  # This is added back by InteractiveShellApp.init_path()\n",
      "/Users/colinshanahan/anaconda3/lib/python3.6/site-packages/ipykernel_launcher.py:12: SettingWithCopyWarning: \n",
      "A value is trying to be set on a copy of a slice from a DataFrame.\n",
      "Try using .loc[row_indexer,col_indexer] = value instead\n",
      "\n",
      "See the caveats in the documentation: http://pandas.pydata.org/pandas-docs/stable/indexing.html#indexing-view-versus-copy\n",
      "  if sys.path[0] == '':\n"
     ]
    }
   ],
   "source": [
    "#forward clustering\n",
    "Xf = forwards[['mean Total Points', 'mean Total Points/60', 'mean Goals/60', '3yr CF/60 Rel', '3yr CA/60 Rel',\n",
    "              '3yr Off. Zone Starts/60', '3yr Def. Zone Starts/60', 'mean Shots Blocked/60', 'TOI/GP']]\n",
    "yf = forwards[['length', 'cap_hit', 'cap_pct']]\n",
    "\n",
    "ss = StandardScaler()\n",
    "Xfs = ss.fit_transform(Xf)\n",
    "\n",
    "fkm = KMeans(n_clusters = 4)\n",
    "fclus = fkm.fit_transform(Xfs)\n",
    "Xf['cluster'] = fkm.labels_\n",
    "forwards['cluster'] = fkm.labels_\n",
    "\n",
    "fclusts = []\n",
    "fcmeans = []\n",
    "for i in range(fkm.n_clusters):\n",
    "    fclusts.append(Xf[fkm.labels_ == i].drop('cluster', axis=1))\n",
    "    fcmeans.append(fclusts[i].mean(axis=0))"
   ]
  },
  {
   "cell_type": "code",
   "execution_count": 408,
   "metadata": {},
   "outputs": [
    {
     "data": {
      "text/plain": [
       "['cap_hit',\n",
       " 'length',\n",
       " 'total_value',\n",
       " 'signing_year',\n",
       " 'signing_age',\n",
       " 'signing_year_cap',\n",
       " 'cap_pct',\n",
       " 'signing_status',\n",
       " 'GP',\n",
       " 'TOI',\n",
       " 'Goals',\n",
       " 'Total Assists',\n",
       " 'First Assists',\n",
       " 'Second Assists',\n",
       " 'Total Points',\n",
       " 'Shots',\n",
       " 'iCF',\n",
       " 'iFF',\n",
       " 'iSCF',\n",
       " 'iHDCF',\n",
       " 'Rush Attempts',\n",
       " 'Rebounds Created',\n",
       " 'PIM',\n",
       " 'Total Penalties',\n",
       " 'Minor',\n",
       " 'Major',\n",
       " 'Misconduct',\n",
       " 'Penalties Drawn',\n",
       " 'Giveaways',\n",
       " 'Takeaways',\n",
       " 'Hits',\n",
       " 'Hits Taken',\n",
       " 'Shots Blocked',\n",
       " 'Faceoffs Won',\n",
       " 'Faceoffs Lost',\n",
       " 'Season_index',\n",
       " 'sum GP',\n",
       " 'sum TOI',\n",
       " 'sum Goals',\n",
       " 'sum Total Assists',\n",
       " 'sum First Assists',\n",
       " 'sum Second Assists',\n",
       " 'sum Total Points',\n",
       " 'sum Shots',\n",
       " 'sum iCF',\n",
       " 'sum iFF',\n",
       " 'sum iSCF',\n",
       " 'sum iHDCF',\n",
       " 'sum Rush Attempts',\n",
       " 'sum Rebounds Created',\n",
       " 'sum PIM',\n",
       " 'sum Total Penalties',\n",
       " 'sum Minor',\n",
       " 'sum Major',\n",
       " 'sum Misconduct',\n",
       " 'sum Penalties Drawn',\n",
       " 'sum Giveaways',\n",
       " 'sum Takeaways',\n",
       " 'sum Hits',\n",
       " 'sum Hits Taken',\n",
       " 'sum Shots Blocked',\n",
       " 'sum Faceoffs Won',\n",
       " 'sum Faceoffs Lost',\n",
       " 'mean GP',\n",
       " 'mean TOI',\n",
       " 'mean Goals',\n",
       " 'mean Total Assists',\n",
       " 'mean First Assists',\n",
       " 'mean Second Assists',\n",
       " 'mean Total Points',\n",
       " 'mean Shots',\n",
       " 'mean iCF',\n",
       " 'mean iFF',\n",
       " 'mean iSCF',\n",
       " 'mean iHDCF',\n",
       " 'mean Rush Attempts',\n",
       " 'mean Rebounds Created',\n",
       " 'mean PIM',\n",
       " 'mean Total Penalties',\n",
       " 'mean Minor',\n",
       " 'mean Major',\n",
       " 'mean Misconduct',\n",
       " 'mean Penalties Drawn',\n",
       " 'mean Giveaways',\n",
       " 'mean Takeaways',\n",
       " 'mean Hits',\n",
       " 'mean Hits Taken',\n",
       " 'mean Shots Blocked',\n",
       " 'mean Faceoffs Won',\n",
       " 'mean Faceoffs Lost',\n",
       " 'mean SH%',\n",
       " 'mean Faceoffs %',\n",
       " 'TOI/GP',\n",
       " 'CF/60 Rel',\n",
       " 'CA/60 Rel',\n",
       " 'CF% Rel',\n",
       " 'FF/60 Rel',\n",
       " 'FA/60 Rel',\n",
       " 'FF% Rel',\n",
       " 'SF/60 Rel',\n",
       " 'SA/60 Rel',\n",
       " 'SF% Rel',\n",
       " 'GF/60 Rel',\n",
       " 'GA/60 Rel',\n",
       " 'GF% Rel',\n",
       " 'SCF/60 Rel',\n",
       " 'SCA/60 Rel',\n",
       " 'SCF% Rel',\n",
       " 'HDCF/60 Rel',\n",
       " 'HDCA/60 Rel',\n",
       " 'HDCF% Rel',\n",
       " 'HDGF/60 Rel',\n",
       " 'HDGA/60 Rel',\n",
       " 'HDGF% Rel',\n",
       " 'MDCF/60 Rel',\n",
       " 'MDCA/60 Rel',\n",
       " 'MDCF% Rel',\n",
       " 'MDGF/60 Rel',\n",
       " 'MDGA/60 Rel',\n",
       " 'MDGF% Rel',\n",
       " 'LDCF/60 Rel',\n",
       " 'LDCA/60 Rel',\n",
       " 'LDCF% Rel',\n",
       " 'LDGF/60 Rel',\n",
       " 'LDGA/60 Rel',\n",
       " 'LDGF% Rel',\n",
       " 'On-Ice SH%',\n",
       " 'On-Ice SV%',\n",
       " 'PDO',\n",
       " 'Off. Zone Starts/60',\n",
       " 'Neu. Zone Starts/60',\n",
       " 'Def. Zone Starts/60',\n",
       " 'On The Fly Starts/60',\n",
       " 'Off. Zone Start %',\n",
       " 'Off. Zone Faceoffs/60',\n",
       " 'Neu. Zone Faceoffs/60',\n",
       " 'Def. Zone Faceoffs/60',\n",
       " 'Off. Zone Faceoff %',\n",
       " '3yr TOI/GP',\n",
       " '3yr CF/60 Rel',\n",
       " '3yr CA/60 Rel',\n",
       " '3yr CF% Rel',\n",
       " '3yr FF/60 Rel',\n",
       " '3yr FA/60 Rel',\n",
       " '3yr FF% Rel',\n",
       " '3yr SF/60 Rel',\n",
       " '3yr SA/60 Rel',\n",
       " '3yr SF% Rel',\n",
       " '3yr GF/60 Rel',\n",
       " '3yr GA/60 Rel',\n",
       " '3yr GF% Rel',\n",
       " '3yr SCF/60 Rel',\n",
       " '3yr SCA/60 Rel',\n",
       " '3yr SCF% Rel',\n",
       " '3yr HDCF/60 Rel',\n",
       " '3yr HDCA/60 Rel',\n",
       " '3yr HDCF% Rel',\n",
       " '3yr HDGF/60 Rel',\n",
       " '3yr HDGA/60 Rel',\n",
       " '3yr HDGF% Rel',\n",
       " '3yr MDCF/60 Rel',\n",
       " '3yr MDCA/60 Rel',\n",
       " '3yr MDCF% Rel',\n",
       " '3yr MDGF/60 Rel',\n",
       " '3yr MDGA/60 Rel',\n",
       " '3yr MDGF% Rel',\n",
       " '3yr LDCF/60 Rel',\n",
       " '3yr LDCA/60 Rel',\n",
       " '3yr LDCF% Rel',\n",
       " '3yr LDGF/60 Rel',\n",
       " '3yr LDGA/60 Rel',\n",
       " '3yr LDGF% Rel',\n",
       " '3yr On-Ice SH%',\n",
       " '3yr On-Ice SV%',\n",
       " '3yr PDO',\n",
       " '3yr Off. Zone Starts/60',\n",
       " '3yr Neu. Zone Starts/60',\n",
       " '3yr Def. Zone Starts/60',\n",
       " '3yr On The Fly Starts/60',\n",
       " '3yr Off. Zone Start %',\n",
       " '3yr Off. Zone Faceoffs/60',\n",
       " '3yr Neu. Zone Faceoffs/60',\n",
       " '3yr Def. Zone Faceoffs/60',\n",
       " '3yr Off. Zone Faceoff %',\n",
       " 'IPP',\n",
       " 'Giveaways/60',\n",
       " 'mean Giveaways/60',\n",
       " 'Takeaways/60',\n",
       " 'mean Takeaways/60',\n",
       " 'Shots Blocked/60',\n",
       " 'mean Shots Blocked/60',\n",
       " 'mean Total Points/60',\n",
       " 'Total Points/60',\n",
       " 'Goals/60',\n",
       " 'mean Goals/60',\n",
       " 'Shots/60',\n",
       " 'mean Shots/60',\n",
       " 'Hits/60',\n",
       " 'mean Hits/60',\n",
       " 'PIM/60',\n",
       " 'mean PIM/60',\n",
       " 'Penalties Drawn/60',\n",
       " 'mean Penalties Drawn/60',\n",
       " 'mean Faceoffs pct']"
      ]
     },
     "execution_count": 408,
     "metadata": {},
     "output_type": "execute_result"
    }
   ],
   "source": [
    "list(forwards.columns)"
   ]
  },
  {
   "cell_type": "code",
   "execution_count": 405,
   "metadata": {},
   "outputs": [
    {
     "name": "stderr",
     "output_type": "stream",
     "text": [
      "/Users/colinshanahan/anaconda3/lib/python3.6/site-packages/pandas/core/generic.py:5886: SettingWithCopyWarning: \n",
      "A value is trying to be set on a copy of a slice from a DataFrame\n",
      "\n",
      "See the caveats in the documentation: http://pandas.pydata.org/pandas-docs/stable/indexing.html#indexing-view-versus-copy\n",
      "  self._update_inplace(new_data)\n"
     ]
    }
   ],
   "source": [
    "forwards['Off. Zone Start %'].replace(['-'], [int(0)], inplace=True)\n",
    "forwards['3yr Off. Zone Start %'].replace(['-'], [int(0)], inplace=True)\n",
    "defense['Off. Zone Start %'].replace(['-'], [int(0)], inplace=True)\n",
    "defense['3yr Off. Zone Start %'].replace(['-'], [int(0)], inplace=True)"
   ]
  },
  {
   "cell_type": "code",
   "execution_count": null,
   "metadata": {},
   "outputs": [],
   "source": []
  },
  {
   "cell_type": "code",
   "execution_count": 313,
   "metadata": {},
   "outputs": [
    {
     "data": {
      "text/plain": [
       "<module 'models.clustering' from '/Users/colinshanahan/galvanize/nhl-contract-predictions/models/clustering.py'>"
      ]
     },
     "execution_count": 313,
     "metadata": {},
     "output_type": "execute_result"
    }
   ],
   "source": [
    "reload(cl)"
   ]
  },
  {
   "cell_type": "code",
   "execution_count": 406,
   "metadata": {},
   "outputs": [
    {
     "name": "stderr",
     "output_type": "stream",
     "text": [
      "/Users/colinshanahan/anaconda3/lib/python3.6/site-packages/pandas/core/generic.py:4401: SettingWithCopyWarning: \n",
      "A value is trying to be set on a copy of a slice from a DataFrame.\n",
      "Try using .loc[row_indexer,col_indexer] = value instead\n",
      "\n",
      "See the caveats in the documentation: http://pandas.pydata.org/pandas-docs/stable/indexing.html#indexing-view-versus-copy\n",
      "  self[name] = value\n"
     ]
    }
   ],
   "source": [
    "forwards.signing_status = forwards.signing_status.apply(lambda x: 1 if 'UFA' else 0)\n",
    "defense.signing_status = defense.signing_status.apply(lambda x: 1 if 'UFA' else 0)"
   ]
  },
  {
   "cell_type": "code",
   "execution_count": 418,
   "metadata": {},
   "outputs": [
    {
     "name": "stderr",
     "output_type": "stream",
     "text": [
      "/Users/colinshanahan/anaconda3/lib/python3.6/site-packages/ipykernel_launcher.py:2: SettingWithCopyWarning: \n",
      "A value is trying to be set on a copy of a slice from a DataFrame.\n",
      "Try using .loc[row_indexer,col_indexer] = value instead\n",
      "\n",
      "See the caveats in the documentation: http://pandas.pydata.org/pandas-docs/stable/indexing.html#indexing-view-versus-copy\n",
      "  \n",
      "/Users/colinshanahan/anaconda3/lib/python3.6/site-packages/pandas/core/indexing.py:543: SettingWithCopyWarning: \n",
      "A value is trying to be set on a copy of a slice from a DataFrame.\n",
      "Try using .loc[row_indexer,col_indexer] = value instead\n",
      "\n",
      "See the caveats in the documentation: http://pandas.pydata.org/pandas-docs/stable/indexing.html#indexing-view-versus-copy\n",
      "  self.obj[item] = s\n",
      "/Users/colinshanahan/anaconda3/lib/python3.6/site-packages/ipykernel_launcher.py:3: SettingWithCopyWarning: \n",
      "A value is trying to be set on a copy of a slice from a DataFrame.\n",
      "Try using .loc[row_indexer,col_indexer] = value instead\n",
      "\n",
      "See the caveats in the documentation: http://pandas.pydata.org/pandas-docs/stable/indexing.html#indexing-view-versus-copy\n",
      "  This is separate from the ipykernel package so we can avoid doing imports until\n"
     ]
    },
    {
     "data": {
      "image/png": "[encoded data removed]",
      "text/plain": [
       "<Figure size 432x288 with 1 Axes>"
      ]
     },
     "metadata": {},
     "output_type": "display_data"
    },
    {
     "data": {
      "image/png": "[encoded data removed]",
      "text/plain": [
       "<Figure size 432x288 with 1 Axes>"
      ]
     },
     "metadata": {},
     "output_type": "display_data"
    }
   ],
   "source": [
    "imp = Imputer(missing_values='NaN', strategy='mean', axis=0)\n",
    "forwards[['Off. Zone Start %', '3yr Off. Zone Start %']] = imp.fit_transform(forwards[['Off. Zone Start %', '3yr Off. Zone Start %']])\n",
    "defense[['Off. Zone Start %', '3yr Off. Zone Start %']] = imp.fit_transform(defense[['Off. Zone Start %', '3yr Off. Zone Start %']])\n",
    "\n",
    "Xf = forwards[['mean Total Points/60', 'mean Goals/60',\n",
    "              '3yr Off. Zone Start %', 'TOI/GP']]\n",
    "Xd = defense[['mean Total Points/60', 'mean Goals/60',\n",
    "              '3yr Off. Zone Start %', 'TOI/GP']]\n",
    "\n",
    "\n",
    "\n",
    "cl.plot_k_sse(Xf.values , 2, 10)\n",
    "cl.plot_k_sse(Xd.values, 2, 10)"
   ]
  },
  {
   "cell_type": "code",
   "execution_count": 452,
   "metadata": {},
   "outputs": [
    {
     "name": "stderr",
     "output_type": "stream",
     "text": [
      "/Users/colinshanahan/anaconda3/lib/python3.6/site-packages/ipykernel_launcher.py:10: SettingWithCopyWarning: \n",
      "A value is trying to be set on a copy of a slice from a DataFrame.\n",
      "Try using .loc[row_indexer,col_indexer] = value instead\n",
      "\n",
      "See the caveats in the documentation: http://pandas.pydata.org/pandas-docs/stable/indexing.html#indexing-view-versus-copy\n",
      "  # Remove the CWD from sys.path while we load stuff.\n",
      "/Users/colinshanahan/anaconda3/lib/python3.6/site-packages/ipykernel_launcher.py:11: SettingWithCopyWarning: \n",
      "A value is trying to be set on a copy of a slice from a DataFrame.\n",
      "Try using .loc[row_indexer,col_indexer] = value instead\n",
      "\n",
      "See the caveats in the documentation: http://pandas.pydata.org/pandas-docs/stable/indexing.html#indexing-view-versus-copy\n",
      "  # This is added back by InteractiveShellApp.init_path()\n"
     ]
    }
   ],
   "source": [
    "#defense clustering\n",
    "Xd = defense[['mean Total Points/60', '3yr Off. Zone Start %', 'TOI/GP']]\n",
    "yd = defense[['length', 'cap_hit', 'cap_pct', 'signing_year']]\n",
    "\n",
    "ss = StandardScaler()\n",
    "Xds = ss.fit_transform(Xd)\n",
    "dkm = KMeans(n_clusters = 3)\n",
    "dclus = dkm.fit_transform(Xds)\n",
    "#create a cluster feature column\n",
    "Xd['cluster'] = dkm.labels_\n",
    "defense['cluster'] = dkm.labels_\n",
    "\n",
    "dclusts = []\n",
    "dcmeans = []\n",
    "for i in range(dkm.n_clusters):\n",
    "    dclusts.append(Xd[dkm.labels_ == i].drop('cluster', axis=1))\n",
    "    dcmeans.append(dclusts[i].mean(axis=0))"
   ]
  },
  {
   "cell_type": "code",
   "execution_count": 451,
   "metadata": {},
   "outputs": [
    {
     "name": "stderr",
     "output_type": "stream",
     "text": [
      "/Users/colinshanahan/anaconda3/lib/python3.6/site-packages/ipykernel_launcher.py:10: SettingWithCopyWarning: \n",
      "A value is trying to be set on a copy of a slice from a DataFrame.\n",
      "Try using .loc[row_indexer,col_indexer] = value instead\n",
      "\n",
      "See the caveats in the documentation: http://pandas.pydata.org/pandas-docs/stable/indexing.html#indexing-view-versus-copy\n",
      "  # Remove the CWD from sys.path while we load stuff.\n",
      "/Users/colinshanahan/anaconda3/lib/python3.6/site-packages/ipykernel_launcher.py:11: SettingWithCopyWarning: \n",
      "A value is trying to be set on a copy of a slice from a DataFrame.\n",
      "Try using .loc[row_indexer,col_indexer] = value instead\n",
      "\n",
      "See the caveats in the documentation: http://pandas.pydata.org/pandas-docs/stable/indexing.html#indexing-view-versus-copy\n",
      "  # This is added back by InteractiveShellApp.init_path()\n"
     ]
    }
   ],
   "source": [
    "#forward clustering\n",
    "Xf = forwards[['mean Total Points/60', '3yr Off. Zone Start %', 'TOI/GP']]\n",
    "yf = forwards[['length', 'cap_hit', 'cap_pct', 'signing_year']]\n",
    "\n",
    "ss = StandardScaler()\n",
    "Xfs = ss.fit_transform(Xf)\n",
    "\n",
    "fkm = KMeans(n_clusters = 4)\n",
    "fclus = fkm.fit_transform(Xfs)\n",
    "Xf['cluster'] = fkm.labels_\n",
    "forwards['cluster'] = fkm.labels_\n",
    "\n",
    "fclusts = []\n",
    "fcmeans = []\n",
    "for i in range(fkm.n_clusters):\n",
    "    fclusts.append(Xf[fkm.labels_ == i].drop('cluster', axis=1))\n",
    "    fcmeans.append(fclusts[i].mean(axis=0))"
   ]
  },
  {
   "cell_type": "code",
   "execution_count": 453,
   "metadata": {},
   "outputs": [
    {
     "data": {
      "image/png": "[encoded data removed]",
      "text/plain": [
       "<Figure size 720x432 with 1 Axes>"
      ]
     },
     "metadata": {},
     "output_type": "display_data"
    }
   ],
   "source": [
    "#plot forward clusters\n",
    "w = 0.22\n",
    "idx = fcmeans[0].index\n",
    "\n",
    "xx = np.arange(len(idx))\n",
    "\n",
    "fig = plt.figure(figsize=(10,6))\n",
    "ax = fig.add_subplot(111)\n",
    "\n",
    "#for i in fcmeans:\n",
    "ax.bar(x = xx - 2*w, height = fcmeans[0], width = w, label = 'Cluster 0')\n",
    "ax.bar(x = xx - w, height = fcmeans[1], width = w, label = 'Cluster 1')\n",
    "ax.bar(x = xx, height = fcmeans[2], width = w, label = 'Cluster 2')\n",
    "ax.bar(x = xx + w, height = fcmeans[3], width = w, label = 'Cluster 3')\n",
    "\n",
    "ax.set_xticks(xx + w/3)\n",
    "ax.set_xticklabels(idx, rotation = 60)\n",
    "\n",
    "\n",
    "ax.legend()\n",
    "\n",
    "ax.set_title('Mean stats of forward clusters')\n",
    "plt.show()"
   ]
  },
  {
   "cell_type": "code",
   "execution_count": 454,
   "metadata": {},
   "outputs": [
    {
     "name": "stdout",
     "output_type": "stream",
     "text": [
      "(209, 3)\n",
      "(205, 3)\n",
      "(130, 3)\n",
      "(218, 3)\n"
     ]
    }
   ],
   "source": [
    "for i in fclusts:\n",
    "    print(i.shape)"
   ]
  },
  {
   "cell_type": "code",
   "execution_count": 455,
   "metadata": {},
   "outputs": [
    {
     "data": {
      "image/png": "[encoded data removed]",
      "text/plain": [
       "<Figure size 720x432 with 1 Axes>"
      ]
     },
     "metadata": {},
     "output_type": "display_data"
    }
   ],
   "source": [
    "#plot the defensive clusters\n",
    "w = 0.3\n",
    "idx = dcmeans[0].index\n",
    "\n",
    "xx = np.arange(len(idx))\n",
    "\n",
    "fig = plt.figure(figsize=(10,6))\n",
    "ax = fig.add_subplot(111)\n",
    "\n",
    "ax.bar(x = xx - w, height = dcmeans[0], width = w, label = 'Cluster 0')\n",
    "ax.bar(x = xx, height = dcmeans[1], width = w, label = 'Cluster 1')\n",
    "ax.bar(x = xx + w, height = dcmeans[2], width = w, label = 'Cluster 2')\n",
    "#ax.bar(x = xx + w, height = dcmeans[3], width = w, label = 'Cluster 3')\n",
    "ax.set_xticks(xx + w/3)\n",
    "ax.set_xticklabels(idx, rotation = 60)\n",
    "\n",
    "\n",
    "ax.legend()\n",
    "\n",
    "ax.set_title('Mean stats of defense clusters')\n",
    "plt.show()"
   ]
  },
  {
   "cell_type": "code",
   "execution_count": 456,
   "metadata": {},
   "outputs": [
    {
     "name": "stdout",
     "output_type": "stream",
     "text": [
      "(161, 3)\n",
      "(166, 3)\n",
      "(81, 3)\n"
     ]
    }
   ],
   "source": [
    "for i in dclusts:\n",
    "    print(i.shape)"
   ]
  },
  {
   "cell_type": "code",
   "execution_count": 457,
   "metadata": {},
   "outputs": [
    {
     "data": {
      "image/png": "[encoded data removed]",
      "text/plain": [
       "<Figure size 432x288 with 1 Axes>"
      ]
     },
     "metadata": {},
     "output_type": "display_data"
    }
   ],
   "source": [
    "xax = '3yr Off. Zone Start %'\n",
    "yax = 'TOI/GP'\n",
    "alpha=a\n",
    "\n",
    "plt.scatter(forwards[forwards.cluster == 0][xax], \n",
    "            forwards[forwards.cluster == 0][yax], \n",
    "            color = 'b', label = 'FC_0', alpha=a)\n",
    "plt.scatter(forwards[forwards.cluster == 1][xax], \n",
    "            forwards[forwards.cluster == 1][yax], \n",
    "            color = 'orange', label = 'FC_1', alpha=a)\n",
    "plt.scatter(forwards[forwards.cluster == 2][xax], \n",
    "            forwards[forwards.cluster == 2][yax], \n",
    "            color = 'g', label = 'FC_2', alpha=a)\n",
    "plt.scatter(forwards[forwards.cluster == 3][xax], \n",
    "            forwards[forwards.cluster == 3][yax], \n",
    "            color = 'r', label = 'FC_3', alpha=a)\n",
    "\n",
    "plt.legend()\n",
    "plt.xlabel(xax)\n",
    "plt.ylabel(yax)\n",
    "plt.title('Forwards: ' + yax + ' vs. ' + xax)\n",
    "\n",
    "plt.show()"
   ]
  },
  {
   "cell_type": "code",
   "execution_count": 458,
   "metadata": {},
   "outputs": [
    {
     "data": {
      "image/png": "[encoded data removed]",
      "text/plain": [
       "<Figure size 432x288 with 1 Axes>"
      ]
     },
     "metadata": {},
     "output_type": "display_data"
    }
   ],
   "source": [
    "xax = '3yr Off. Zone Start %'\n",
    "yax = 'TOI/GP'\n",
    "a = 0.5\n",
    "\n",
    "plt.scatter(defense[defense.cluster == 0][xax], \n",
    "            defense[defense.cluster == 0][yax], \n",
    "            color = 'b', label = 'DC_0', alpha=a)\n",
    "plt.scatter(defense[defense.cluster == 1][xax], \n",
    "            defense[defense.cluster == 1][yax], \n",
    "            color = 'orange', label = 'DC_1', alpha=a)\n",
    "plt.scatter(defense[defense.cluster == 2][xax], \n",
    "            defense[defense.cluster == 2][yax], \n",
    "            color = 'g', label = 'DC_2', alpha=a)\n",
    "\n",
    "\n",
    "plt.legend()\n",
    "plt.xlabel(xax)\n",
    "plt.ylabel(yax)\n",
    "plt.title('Defense: ' + yax + ' vs. ' + xax)\n",
    "\n",
    "plt.show()"
   ]
  },
  {
   "cell_type": "code",
   "execution_count": 534,
   "metadata": {},
   "outputs": [],
   "source": [
    "from mpl_toolkits.mplot3d import Axes3D"
   ]
  },
  {
   "cell_type": "code",
   "execution_count": 544,
   "metadata": {},
   "outputs": [
    {
     "data": {
      "image/png": "[encoded data removed]",
      "text/plain": [
       "<Figure size 432x288 with 1 Axes>"
      ]
     },
     "metadata": {},
     "output_type": "display_data"
    }
   ],
   "source": [
    "xax = '3yr Off. Zone Start %'\n",
    "yax = 'TOI/GP'\n",
    "zax = 'mean Total Points/60'\n",
    "a=0.4\n",
    "\n",
    "fig = plt.figure()\n",
    "ax = fig.add_subplot(111, projection = '3d')\n",
    "\n",
    "ax.scatter(forwards[forwards.cluster == 0][xax], \n",
    "            forwards[forwards.cluster == 0][yax], \n",
    "           zs = forwards[forwards.cluster == 0][zax], \n",
    "          color = 'b', label = 'FC_0', alpha=a)\n",
    "ax.scatter(forwards[forwards.cluster == 1][xax], \n",
    "            forwards[forwards.cluster == 1][yax], \n",
    "           zs = forwards[forwards.cluster == 1][zax], \n",
    "          color = 'orange', label = 'FC_1', alpha=a)\n",
    "ax.scatter(forwards[forwards.cluster == 2][xax], \n",
    "            forwards[forwards.cluster == 2][yax], \n",
    "           zs = forwards[forwards.cluster == 2][zax], \n",
    "          color = 'g', label = 'FC_2', alpha=a)\n",
    "ax.scatter(forwards[forwards.cluster == 3][xax], \n",
    "            forwards[forwards.cluster == 3][yax], \n",
    "           zs = forwards[forwards.cluster == 3][zax], \n",
    "          color = 'r', label = 'FC_3', alpha=a)\n",
    "\n",
    "ax.set_xlabel(xax)\n",
    "ax.set_ylabel(yax)\n",
    "ax.set_zlabel(zax)\n",
    "ax.set_title('Forward clusters')\n",
    "\n",
    "plt.legend()\n",
    "plt.show()"
   ]
  },
  {
   "cell_type": "code",
   "execution_count": 543,
   "metadata": {},
   "outputs": [
    {
     "data": {
      "image/png": "[encoded data removed]",
      "text/plain": [
       "<Figure size 432x288 with 1 Axes>"
      ]
     },
     "metadata": {},
     "output_type": "display_data"
    }
   ],
   "source": [
    "xax = '3yr Off. Zone Start %'\n",
    "yax = 'TOI/GP'\n",
    "zax = 'mean Total Points/60'\n",
    "a=0.4\n",
    "\n",
    "fig = plt.figure()\n",
    "ax = fig.add_subplot(111, projection = '3d')\n",
    "\n",
    "ax.scatter(defense[defense.cluster == 0][xax], \n",
    "            defense[defense.cluster == 0][yax], \n",
    "           zs = defense[defense.cluster == 0][zax], \n",
    "          color = 'b', label = 'FC_0', alpha=a)\n",
    "ax.scatter(defense[defense.cluster == 1][xax], \n",
    "            defense[defense.cluster == 1][yax], \n",
    "           zs = defense[defense.cluster == 1][zax], \n",
    "          color = 'orange', label = 'FC_1', alpha=a)\n",
    "ax.scatter(defense[defense.cluster == 2][xax], \n",
    "            defense[defense.cluster == 2][yax], \n",
    "           zs = defense[defense.cluster == 2][zax], \n",
    "          color = 'g', label = 'FC_2', alpha=a)\n",
    "\n",
    "\n",
    "ax.set_xlabel(xax)\n",
    "ax.set_ylabel(yax)\n",
    "ax.set_zlabel(zax)\n",
    "ax.set_title('Defense clusters')\n",
    "\n",
    "plt.legend()\n",
    "plt.show()"
   ]
  },
  {
   "cell_type": "code",
   "execution_count": 459,
   "metadata": {},
   "outputs": [
    {
     "name": "stdout",
     "output_type": "stream",
     "text": [
      "RMSE for forwards cluster 0 mean: $2211918.0\n",
      "Mean cap hit for forwards cluster 0: $4354967\n",
      "\n",
      "RMSE for forwards cluster 1 mean: $863174.0\n",
      "Mean cap hit for forwards cluster 1: $1208388\n",
      "\n",
      "RMSE for forwards cluster 2 mean: $221958.0\n",
      "Mean cap hit for forwards cluster 2: $701376\n",
      "\n",
      "RMSE for forwards cluster 3 mean: $668739.0\n",
      "Mean cap hit for forwards cluster 3: $1089655\n",
      "\n",
      "RMSE for defense cluster 0 mean: $439279.0\n",
      "Mean cap hit for defense cluster 0: $819571\n",
      "\n",
      "RMSE for defense cluster 1 mean: $1326284.0\n",
      "Mean cap hit for defense cluster 1: $1868351\n",
      "\n",
      "RMSE for defense cluster 2 mean: $2204827.0\n",
      "Mean cap hit for defense cluster 2: $4486050\n",
      "\n"
     ]
    }
   ],
   "source": [
    "#Calculate RMSE for predicting each cluster on its mean cap hit\n",
    "fmeancaphit = []\n",
    "fyclusts = []\n",
    "for x, i in enumerate(fclusts):\n",
    "    cy = yf[fkm.labels_ == x]\n",
    "    fyclusts.append(cy)\n",
    "    print('RMSE for forwards cluster {} mean: ${}'\n",
    "          .format(x, round(rmse(cy.cap_hit.mean(), cy.cap_hit))))\n",
    "    print('Mean cap hit for forwards cluster {}: ${}\\n'.format(x, round(cy.cap_hit.mean())))\n",
    "    \n",
    "dmeancaphit = []\n",
    "dyclusts = []\n",
    "for x, i in enumerate(dclusts):\n",
    "    cy = yd[dkm.labels_ == x]\n",
    "    dyclusts.append(cy)\n",
    "    print('RMSE for defense cluster {} mean: ${}'\n",
    "          .format(x, round(rmse(cy.cap_hit.mean(), cy.cap_hit))))\n",
    "    print('Mean cap hit for defense cluster {}: ${}\\n'.format(x, round(cy.cap_hit.mean())))"
   ]
  },
  {
   "cell_type": "code",
   "execution_count": 460,
   "metadata": {},
   "outputs": [],
   "source": [
    "\n",
    "#combine forward and defensive clusters to get aggregate stats\n",
    "clusts = fclusts + dclusts\n",
    "yclusts = fyclusts + dyclusts"
   ]
  },
  {
   "cell_type": "code",
   "execution_count": 533,
   "metadata": {},
   "outputs": [
    {
     "data": {
      "image/png": "[encoded data removed]",
      "text/plain": [
       "<Figure size 432x288 with 2 Axes>"
      ]
     },
     "metadata": {},
     "output_type": "display_data"
    },
    {
     "data": {
      "image/png": "[encoded data removed]",
      "text/plain": [
       "<Figure size 432x288 with 2 Axes>"
      ]
     },
     "metadata": {},
     "output_type": "display_data"
    },
    {
     "data": {
      "image/png": "[encoded data removed]",
      "text/plain": [
       "<Figure size 432x288 with 2 Axes>"
      ]
     },
     "metadata": {},
     "output_type": "display_data"
    },
    {
     "data": {
      "image/png": "[encoded data removed]",
      "text/plain": [
       "<Figure size 432x288 with 2 Axes>"
      ]
     },
     "metadata": {},
     "output_type": "display_data"
    },
    {
     "data": {
      "image/png": "[encoded data removed]",
      "text/plain": [
       "<Figure size 432x288 with 2 Axes>"
      ]
     },
     "metadata": {},
     "output_type": "display_data"
    },
    {
     "data": {
      "image/png": "[encoded data removed]",
      "text/plain": [
       "<Figure size 432x288 with 2 Axes>"
      ]
     },
     "metadata": {},
     "output_type": "display_data"
    },
    {
     "data": {
      "image/png": "[encoded data removed]",
      "text/plain": [
       "<Figure size 432x288 with 2 Axes>"
      ]
     },
     "metadata": {},
     "output_type": "display_data"
    }
   ],
   "source": [
    "for idx, c in enumerate(yclusts):\n",
    "    fig, ax = plt.subplots(1,2)\n",
    "    plt.tight_layout()\n",
    "    ax[0].hist(c['cap_pct'])\n",
    "    ax[0].set_title('Cluster {} Histogram of {}'.format(idx, 'cap_pct'))\n",
    "    ax[0].set_xlabel('Cap %')\n",
    "    ax[0].set_ylabel('Occurances')\n",
    "\n",
    "    ax[1].hist(c['length'])\n",
    "    ax[1].set_title('Cluster {} Histogram of {}'.format(idx, 'length'))\n",
    "    ax[1].set_xlabel('Length')\n",
    "    ax[1].set_ylabel('Occurances')\n",
    "    plt.show()"
   ]
  },
  {
   "cell_type": "code",
   "execution_count": 220,
   "metadata": {},
   "outputs": [
    {
     "name": "stdout",
     "output_type": "stream",
     "text": [
      "0 cap_hit\n",
      "0 length\n",
      "0 total_value\n",
      "0 signing_year\n",
      "0 signing_age\n",
      "0 signing_year_cap\n",
      "0 cap_pct\n",
      "0 signing_status\n",
      "0 GP\n",
      "0 TOI\n",
      "0 Goals\n",
      "0 Total Assists\n",
      "0 First Assists\n",
      "0 Second Assists\n",
      "0 Total Points\n",
      "0 Shots\n",
      "0 iCF\n",
      "0 iFF\n",
      "0 iSCF\n",
      "0 iHDCF\n",
      "0 Rush Attempts\n",
      "0 Rebounds Created\n",
      "0 PIM\n",
      "0 Total Penalties\n",
      "0 Minor\n",
      "0 Major\n",
      "0 Misconduct\n",
      "0 Penalties Drawn\n",
      "0 Giveaways\n",
      "0 Takeaways\n",
      "0 Hits\n",
      "0 Hits Taken\n",
      "0 Shots Blocked\n",
      "0 Faceoffs Won\n",
      "0 Faceoffs Lost\n",
      "0 Season_index\n",
      "0 sum GP\n",
      "0 sum TOI\n",
      "0 sum Goals\n",
      "0 sum Total Assists\n",
      "0 sum First Assists\n",
      "0 sum Second Assists\n",
      "0 sum Total Points\n",
      "0 sum Shots\n",
      "0 sum iCF\n",
      "0 sum iFF\n",
      "0 sum iSCF\n",
      "0 sum iHDCF\n",
      "0 sum Rush Attempts\n",
      "0 sum Rebounds Created\n",
      "0 sum PIM\n",
      "0 sum Total Penalties\n",
      "0 sum Minor\n",
      "0 sum Major\n",
      "0 sum Misconduct\n",
      "0 sum Penalties Drawn\n",
      "0 sum Giveaways\n",
      "0 sum Takeaways\n",
      "0 sum Hits\n",
      "0 sum Hits Taken\n",
      "0 sum Shots Blocked\n",
      "0 sum Faceoffs Won\n",
      "0 sum Faceoffs Lost\n",
      "0 mean GP\n",
      "0 mean TOI\n",
      "0 mean Goals\n",
      "0 mean Total Assists\n",
      "0 mean First Assists\n",
      "0 mean Second Assists\n",
      "0 mean Total Points\n",
      "0 mean Shots\n",
      "0 mean iCF\n",
      "0 mean iFF\n",
      "0 mean iSCF\n",
      "0 mean iHDCF\n",
      "0 mean Rush Attempts\n",
      "0 mean Rebounds Created\n",
      "0 mean PIM\n",
      "0 mean Total Penalties\n",
      "0 mean Minor\n",
      "0 mean Major\n",
      "0 mean Misconduct\n",
      "0 mean Penalties Drawn\n",
      "0 mean Giveaways\n",
      "0 mean Takeaways\n",
      "0 mean Hits\n",
      "0 mean Hits Taken\n",
      "0 mean Shots Blocked\n",
      "0 mean Faceoffs Won\n",
      "0 mean Faceoffs Lost\n",
      "10 mean SH%\n",
      "44 mean Faceoffs %\n",
      "0 TOI/GP\n",
      "0 CF/60 Rel\n",
      "0 CA/60 Rel\n",
      "0 CF% Rel\n",
      "0 FF/60 Rel\n",
      "0 FA/60 Rel\n",
      "0 FF% Rel\n",
      "0 SF/60 Rel\n",
      "0 SA/60 Rel\n",
      "0 SF% Rel\n",
      "0 GF/60 Rel\n",
      "0 GA/60 Rel\n",
      "0 GF% Rel\n",
      "0 SCF/60 Rel\n",
      "0 SCA/60 Rel\n",
      "0 SCF% Rel\n",
      "0 HDCF/60 Rel\n",
      "0 HDCA/60 Rel\n",
      "0 HDCF% Rel\n",
      "0 HDGF/60 Rel\n",
      "0 HDGA/60 Rel\n",
      "0 HDGF% Rel\n",
      "0 MDCF/60 Rel\n",
      "0 MDCA/60 Rel\n",
      "0 MDCF% Rel\n",
      "0 MDGF/60 Rel\n",
      "0 MDGA/60 Rel\n",
      "0 MDGF% Rel\n",
      "0 LDCF/60 Rel\n",
      "0 LDCA/60 Rel\n",
      "0 LDCF% Rel\n",
      "0 LDGF/60 Rel\n",
      "0 LDGA/60 Rel\n",
      "0 LDGF% Rel\n",
      "0 On-Ice SH%\n",
      "0 On-Ice SV%\n",
      "0 PDO\n",
      "0 Off. Zone Starts/60\n",
      "0 Neu. Zone Starts/60\n",
      "0 Def. Zone Starts/60\n",
      "0 On The Fly Starts/60\n",
      "0 Off. Zone Start %\n",
      "0 Off. Zone Faceoffs/60\n",
      "0 Neu. Zone Faceoffs/60\n",
      "0 Def. Zone Faceoffs/60\n",
      "0 Off. Zone Faceoff %\n",
      "0 3yr TOI/GP\n",
      "0 3yr CF/60 Rel\n",
      "0 3yr CA/60 Rel\n",
      "0 3yr CF% Rel\n",
      "0 3yr FF/60 Rel\n",
      "0 3yr FA/60 Rel\n",
      "0 3yr FF% Rel\n",
      "0 3yr SF/60 Rel\n",
      "0 3yr SA/60 Rel\n",
      "0 3yr SF% Rel\n",
      "0 3yr GF/60 Rel\n",
      "0 3yr GA/60 Rel\n",
      "0 3yr GF% Rel\n",
      "0 3yr SCF/60 Rel\n",
      "0 3yr SCA/60 Rel\n",
      "0 3yr SCF% Rel\n",
      "0 3yr HDCF/60 Rel\n",
      "0 3yr HDCA/60 Rel\n",
      "0 3yr HDCF% Rel\n",
      "0 3yr HDGF/60 Rel\n",
      "0 3yr HDGA/60 Rel\n",
      "0 3yr HDGF% Rel\n",
      "0 3yr MDCF/60 Rel\n",
      "0 3yr MDCA/60 Rel\n",
      "0 3yr MDCF% Rel\n",
      "0 3yr MDGF/60 Rel\n",
      "0 3yr MDGA/60 Rel\n",
      "0 3yr MDGF% Rel\n",
      "0 3yr LDCF/60 Rel\n",
      "0 3yr LDCA/60 Rel\n",
      "0 3yr LDCF% Rel\n",
      "0 3yr LDGF/60 Rel\n",
      "0 3yr LDGA/60 Rel\n",
      "0 3yr LDGF% Rel\n",
      "0 3yr On-Ice SH%\n",
      "0 3yr On-Ice SV%\n",
      "0 3yr PDO\n",
      "0 3yr Off. Zone Starts/60\n",
      "0 3yr Neu. Zone Starts/60\n",
      "0 3yr Def. Zone Starts/60\n",
      "0 3yr On The Fly Starts/60\n",
      "0 3yr Off. Zone Start %\n",
      "0 3yr Off. Zone Faceoffs/60\n",
      "0 3yr Neu. Zone Faceoffs/60\n",
      "0 3yr Def. Zone Faceoffs/60\n",
      "0 3yr Off. Zone Faceoff %\n",
      "0 IPP\n",
      "0 Giveaways/60\n",
      "0 mean Giveaways/60\n",
      "0 Takeaways/60\n",
      "0 mean Takeaways/60\n",
      "0 Shots Blocked/60\n",
      "0 mean Shots Blocked/60\n",
      "0 mean Total Points/60\n",
      "0 Total Points/60\n",
      "0 Goals/60\n",
      "0 mean Goals/60\n",
      "0 Shots/60\n",
      "0 mean Shots/60\n",
      "0 Hits/60\n",
      "0 mean Hits/60\n",
      "0 PIM/60\n",
      "0 mean PIM/60\n",
      "0 Penalties Drawn/60\n",
      "0 mean Penalties Drawn/60\n",
      "44 mean Faceoffs pct\n",
      "0 cluster\n"
     ]
    }
   ],
   "source": [
    "for co in forwards.columns:\n",
    "    print(forwards[co].isnull().sum(), co)"
   ]
  },
  {
   "cell_type": "code",
   "execution_count": 253,
   "metadata": {},
   "outputs": [],
   "source": [
    "from sklearn.preprocessing import Imputer"
   ]
  },
  {
   "cell_type": "code",
   "execution_count": 507,
   "metadata": {},
   "outputs": [
    {
     "name": "stderr",
     "output_type": "stream",
     "text": [
      "/Users/colinshanahan/anaconda3/lib/python3.6/site-packages/pandas/core/frame.py:3795: SettingWithCopyWarning: \n",
      "A value is trying to be set on a copy of a slice from a DataFrame\n",
      "\n",
      "See the caveats in the documentation: http://pandas.pydata.org/pandas-docs/stable/indexing.html#indexing-view-versus-copy\n",
      "  method=method)\n"
     ]
    }
   ],
   "source": [
    "forwards[obj_cols].replace('-', 0, inplace=True)\n",
    "defense[obj_cols].replace('-', 0, inplace=True)"
   ]
  },
  {
   "cell_type": "code",
   "execution_count": 509,
   "metadata": {},
   "outputs": [
    {
     "ename": "ValueError",
     "evalue": "could not convert string to float: '-'",
     "output_type": "error",
     "traceback": [
      "\u001b[0;31m---------------------------------------------------------------------------\u001b[0m",
      "\u001b[0;31mValueError\u001b[0m                                Traceback (most recent call last)",
      "\u001b[0;32m<ipython-input-509-42ebef70e504>\u001b[0m in \u001b[0;36m<module>\u001b[0;34m()\u001b[0m\n\u001b[1;32m     12\u001b[0m ]\n\u001b[1;32m     13\u001b[0m \u001b[0;34m\u001b[0m\u001b[0m\n\u001b[0;32m---> 14\u001b[0;31m \u001b[0mforwards\u001b[0m\u001b[0;34m[\u001b[0m\u001b[0mobj_cols\u001b[0m\u001b[0;34m]\u001b[0m \u001b[0;34m=\u001b[0m \u001b[0mimp\u001b[0m\u001b[0;34m.\u001b[0m\u001b[0mfit_transform\u001b[0m\u001b[0;34m(\u001b[0m\u001b[0mforwards\u001b[0m\u001b[0;34m[\u001b[0m\u001b[0mobj_cols\u001b[0m\u001b[0;34m]\u001b[0m\u001b[0;34m)\u001b[0m\u001b[0;34m\u001b[0m\u001b[0m\n\u001b[0m\u001b[1;32m     15\u001b[0m \u001b[0mdefense\u001b[0m\u001b[0;34m[\u001b[0m\u001b[0mobj_cols\u001b[0m\u001b[0;34m]\u001b[0m \u001b[0;34m=\u001b[0m \u001b[0mimp\u001b[0m\u001b[0;34m.\u001b[0m\u001b[0mfit_transform\u001b[0m\u001b[0;34m(\u001b[0m\u001b[0mdefense\u001b[0m\u001b[0;34m[\u001b[0m\u001b[0mobj_cols\u001b[0m\u001b[0;34m]\u001b[0m\u001b[0;34m)\u001b[0m\u001b[0;34m\u001b[0m\u001b[0m\n",
      "\u001b[0;32m~/anaconda3/lib/python3.6/site-packages/sklearn/base.py\u001b[0m in \u001b[0;36mfit_transform\u001b[0;34m(self, X, y, **fit_params)\u001b[0m\n\u001b[1;32m    515\u001b[0m         \u001b[0;32mif\u001b[0m \u001b[0my\u001b[0m \u001b[0;32mis\u001b[0m \u001b[0;32mNone\u001b[0m\u001b[0;34m:\u001b[0m\u001b[0;34m\u001b[0m\u001b[0m\n\u001b[1;32m    516\u001b[0m             \u001b[0;31m# fit method of arity 1 (unsupervised transformation)\u001b[0m\u001b[0;34m\u001b[0m\u001b[0;34m\u001b[0m\u001b[0m\n\u001b[0;32m--> 517\u001b[0;31m             \u001b[0;32mreturn\u001b[0m \u001b[0mself\u001b[0m\u001b[0;34m.\u001b[0m\u001b[0mfit\u001b[0m\u001b[0;34m(\u001b[0m\u001b[0mX\u001b[0m\u001b[0;34m,\u001b[0m \u001b[0;34m**\u001b[0m\u001b[0mfit_params\u001b[0m\u001b[0;34m)\u001b[0m\u001b[0;34m.\u001b[0m\u001b[0mtransform\u001b[0m\u001b[0;34m(\u001b[0m\u001b[0mX\u001b[0m\u001b[0;34m)\u001b[0m\u001b[0;34m\u001b[0m\u001b[0m\n\u001b[0m\u001b[1;32m    518\u001b[0m         \u001b[0;32melse\u001b[0m\u001b[0;34m:\u001b[0m\u001b[0;34m\u001b[0m\u001b[0m\n\u001b[1;32m    519\u001b[0m             \u001b[0;31m# fit method of arity 2 (supervised transformation)\u001b[0m\u001b[0;34m\u001b[0m\u001b[0;34m\u001b[0m\u001b[0m\n",
      "\u001b[0;32m~/anaconda3/lib/python3.6/site-packages/sklearn/preprocessing/imputation.py\u001b[0m in \u001b[0;36mfit\u001b[0;34m(self, X, y)\u001b[0m\n\u001b[1;32m    153\u001b[0m         \u001b[0;32mif\u001b[0m \u001b[0mself\u001b[0m\u001b[0;34m.\u001b[0m\u001b[0maxis\u001b[0m \u001b[0;34m==\u001b[0m \u001b[0;36m0\u001b[0m\u001b[0;34m:\u001b[0m\u001b[0;34m\u001b[0m\u001b[0m\n\u001b[1;32m    154\u001b[0m             X = check_array(X, accept_sparse='csc', dtype=np.float64,\n\u001b[0;32m--> 155\u001b[0;31m                             force_all_finite=False)\n\u001b[0m\u001b[1;32m    156\u001b[0m \u001b[0;34m\u001b[0m\u001b[0m\n\u001b[1;32m    157\u001b[0m             \u001b[0;32mif\u001b[0m \u001b[0msparse\u001b[0m\u001b[0;34m.\u001b[0m\u001b[0missparse\u001b[0m\u001b[0;34m(\u001b[0m\u001b[0mX\u001b[0m\u001b[0;34m)\u001b[0m\u001b[0;34m:\u001b[0m\u001b[0;34m\u001b[0m\u001b[0m\n",
      "\u001b[0;32m~/anaconda3/lib/python3.6/site-packages/sklearn/utils/validation.py\u001b[0m in \u001b[0;36mcheck_array\u001b[0;34m(array, accept_sparse, dtype, order, copy, force_all_finite, ensure_2d, allow_nd, ensure_min_samples, ensure_min_features, warn_on_dtype, estimator)\u001b[0m\n\u001b[1;32m    431\u001b[0m                                       force_all_finite)\n\u001b[1;32m    432\u001b[0m     \u001b[0;32melse\u001b[0m\u001b[0;34m:\u001b[0m\u001b[0;34m\u001b[0m\u001b[0m\n\u001b[0;32m--> 433\u001b[0;31m         \u001b[0marray\u001b[0m \u001b[0;34m=\u001b[0m \u001b[0mnp\u001b[0m\u001b[0;34m.\u001b[0m\u001b[0marray\u001b[0m\u001b[0;34m(\u001b[0m\u001b[0marray\u001b[0m\u001b[0;34m,\u001b[0m \u001b[0mdtype\u001b[0m\u001b[0;34m=\u001b[0m\u001b[0mdtype\u001b[0m\u001b[0;34m,\u001b[0m \u001b[0morder\u001b[0m\u001b[0;34m=\u001b[0m\u001b[0morder\u001b[0m\u001b[0;34m,\u001b[0m \u001b[0mcopy\u001b[0m\u001b[0;34m=\u001b[0m\u001b[0mcopy\u001b[0m\u001b[0;34m)\u001b[0m\u001b[0;34m\u001b[0m\u001b[0m\n\u001b[0m\u001b[1;32m    434\u001b[0m \u001b[0;34m\u001b[0m\u001b[0m\n\u001b[1;32m    435\u001b[0m         \u001b[0;32mif\u001b[0m \u001b[0mensure_2d\u001b[0m\u001b[0;34m:\u001b[0m\u001b[0;34m\u001b[0m\u001b[0m\n",
      "\u001b[0;31mValueError\u001b[0m: could not convert string to float: '-'"
     ]
    }
   ],
   "source": [
    "obj_cols = ['GF% Rel',\n",
    "'HDGF% Rel',\n",
    "'MDCF% Rel',\n",
    "'MDGF% Rel',\n",
    "'LDGF% Rel',\n",
    "'Off. Zone Faceoff %',\n",
    "'3yr GF% Rel',\n",
    "'3yr HDGF% Rel',\n",
    "'3yr MDCF% Rel',\n",
    "'3yr MDGF% Rel',\n",
    "'3yr LDGF% Rel',\n",
    "]\n",
    "\n",
    "forwards[obj_cols] = imp.fit_transform(forwards[obj_cols])\n",
    "defense[obj_cols] = imp.fit_transform(defense[obj_cols])"
   ]
  },
  {
   "cell_type": "code",
   "execution_count": 516,
   "metadata": {},
   "outputs": [],
   "source": [
    "clusts = []\n",
    "\n",
    "t_forwards = forwards.replace(['-', ' - '], [0, 0])\n",
    "t_defense = defense.replace(['-', ' - '], [0, 0])\n",
    "\n",
    "obj_cols = ['GF% Rel',\n",
    "'HDGF% Rel',\n",
    "'MDCF% Rel',\n",
    "'MDGF% Rel',\n",
    "'LDGF% Rel',\n",
    "'Off. Zone Faceoff %',\n",
    "'3yr GF% Rel',\n",
    "'3yr HDGF% Rel',\n",
    "'3yr MDCF% Rel',\n",
    "'3yr MDGF% Rel',\n",
    "'3yr LDGF% Rel',\n",
    "]\n",
    "\n",
    "for i in range(len(fclusts)):\n",
    "    c = t_forwards[t_forwards.cluster == i].drop([\n",
    "        'cap_hit',\n",
    "         'length',\n",
    "         'total_value',\n",
    "         'signing_year',\n",
    "         'signing_year_cap',\n",
    "         'cap_pct',\n",
    "         'Season_index', 'cluster', \n",
    "        'mean SH%','mean Faceoffs %', 'mean Faceoffs pct'\n",
    "    ], axis=1)\n",
    "    c.drop(obj_cols, axis=1, inplace=True)\n",
    "    imp = Imputer(missing_values='NaN', strategy='mean', axis=0)\n",
    "    cols = c.columns\n",
    "    c = imp.fit_transform(c)\n",
    "\n",
    "    clusts.append(c)\n",
    "    \n",
    "    \n",
    "for i in range(len(dclusts)):\n",
    "    c = t_defense[t_defense.cluster == i].drop([\n",
    "    'cap_hit',\n",
    "     'length',\n",
    "     'total_value',\n",
    "     'signing_year',\n",
    "     'signing_year_cap',\n",
    "     'cap_pct',\n",
    "     'Season_index', 'cluster', \n",
    "    'mean SH%','mean Faceoffs %', 'mean Faceoffs pct'\n",
    "    ], axis=1)\n",
    "    c.drop(obj_cols, axis=1, inplace=True)\n",
    "    imp = Imputer(missing_values='NaN', strategy='mean', axis=0)\n",
    "    cols = c.columns\n",
    "    c[c.columns] = imp.fit_transform(c)\n",
    "\n",
    "    clusts.append(c)\n",
    "#    print(len(c.columns))"
   ]
  },
  {
   "cell_type": "code",
   "execution_count": 295,
   "metadata": {},
   "outputs": [
    {
     "data": {
      "text/plain": [
       "178"
      ]
     },
     "execution_count": 295,
     "metadata": {},
     "output_type": "execute_result"
    }
   ],
   "source": [
    "len(np.concatenate(best_preds))"
   ]
  },
  {
   "cell_type": "code",
   "execution_count": 517,
   "metadata": {},
   "outputs": [
    {
     "name": "stdout",
     "output_type": "stream",
     "text": [
      "Cluster 0 stats: \n",
      "Cluster test size: 32\n",
      "Cluster train size: 177\n",
      "Cluster train mean cap hit: $4354967.0\n",
      "RMSE for predicting cluster mean: $2054399.0\n",
      "\n",
      "Random Forest RMSE: $1326726.0\n",
      "K-Nearest Neighbors RMSE: $1504387.0\n",
      "Radius Neighbors RMSE: $nan\n",
      "Linear Regression RMSE: $213345144.0\n"
     ]
    },
    {
     "name": "stderr",
     "output_type": "stream",
     "text": [
      "/Users/colinshanahan/anaconda3/lib/python3.6/site-packages/numpy/core/fromnumeric.py:3118: RuntimeWarning: Mean of empty slice.\n",
      "  out=out, **kwargs)\n",
      "/Users/colinshanahan/anaconda3/lib/python3.6/site-packages/numpy/core/_methods.py:78: RuntimeWarning: invalid value encountered in true_divide\n",
      "  ret, rcount, out=ret, casting='unsafe', subok=False)\n"
     ]
    },
    {
     "name": "stdout",
     "output_type": "stream",
     "text": [
      "Adaboost RMSE: $1177975.0\n",
      "Gradient Boost RMSE: $1091245.0\n",
      "\n",
      "Best Model: Gradient Boost - grb - $1091245.0\n",
      "\n",
      "\n",
      "---------------------------------------------------\n",
      "\n",
      "Cluster 1 stats: \n",
      "Cluster test size: 31\n",
      "Cluster train size: 174\n",
      "Cluster train mean cap hit: $1208388.0\n",
      "RMSE for predicting cluster mean: $967070.0\n",
      "\n",
      "Random Forest RMSE: $416504.0\n",
      "K-Nearest Neighbors RMSE: $687712.0\n",
      "Radius Neighbors RMSE: $nan\n",
      "Linear Regression RMSE: $12624148.0\n"
     ]
    },
    {
     "name": "stderr",
     "output_type": "stream",
     "text": [
      "/Users/colinshanahan/anaconda3/lib/python3.6/site-packages/numpy/core/fromnumeric.py:3118: RuntimeWarning: Mean of empty slice.\n",
      "  out=out, **kwargs)\n",
      "/Users/colinshanahan/anaconda3/lib/python3.6/site-packages/numpy/core/_methods.py:78: RuntimeWarning: invalid value encountered in true_divide\n",
      "  ret, rcount, out=ret, casting='unsafe', subok=False)\n"
     ]
    },
    {
     "name": "stdout",
     "output_type": "stream",
     "text": [
      "Adaboost RMSE: $441432.0\n",
      "Gradient Boost RMSE: $343145.0\n",
      "\n",
      "Best Model: Gradient Boost - grb - $343145.0\n",
      "\n",
      "\n",
      "---------------------------------------------------\n",
      "\n",
      "Cluster 2 stats: \n",
      "Cluster test size: 20\n",
      "Cluster train size: 110\n",
      "Cluster train mean cap hit: $701376.0\n",
      "RMSE for predicting cluster mean: $470448.0\n",
      "\n",
      "Random Forest RMSE: $435796.0\n",
      "K-Nearest Neighbors RMSE: $450401.0\n",
      "Radius Neighbors RMSE: $nan\n",
      "Linear Regression RMSE: $4130896648429162.0\n"
     ]
    },
    {
     "name": "stderr",
     "output_type": "stream",
     "text": [
      "/Users/colinshanahan/anaconda3/lib/python3.6/site-packages/numpy/core/fromnumeric.py:3118: RuntimeWarning: Mean of empty slice.\n",
      "  out=out, **kwargs)\n",
      "/Users/colinshanahan/anaconda3/lib/python3.6/site-packages/numpy/core/_methods.py:78: RuntimeWarning: invalid value encountered in true_divide\n",
      "  ret, rcount, out=ret, casting='unsafe', subok=False)\n"
     ]
    },
    {
     "name": "stdout",
     "output_type": "stream",
     "text": [
      "Adaboost RMSE: $454219.0\n",
      "Gradient Boost RMSE: $423719.0\n",
      "\n",
      "Best Model: Gradient Boost - grb - $423719.0\n",
      "\n",
      "\n",
      "---------------------------------------------------\n",
      "\n",
      "Cluster 3 stats: \n",
      "Cluster test size: 33\n",
      "Cluster train size: 185\n",
      "Cluster train mean cap hit: $1089655.0\n",
      "RMSE for predicting cluster mean: $696083.0\n",
      "\n",
      "Random Forest RMSE: $422439.0\n",
      "K-Nearest Neighbors RMSE: $500588.0\n",
      "Radius Neighbors RMSE: $nan\n",
      "Linear Regression RMSE: $2775618.0\n"
     ]
    },
    {
     "name": "stderr",
     "output_type": "stream",
     "text": [
      "/Users/colinshanahan/anaconda3/lib/python3.6/site-packages/numpy/core/fromnumeric.py:3118: RuntimeWarning: Mean of empty slice.\n",
      "  out=out, **kwargs)\n",
      "/Users/colinshanahan/anaconda3/lib/python3.6/site-packages/numpy/core/_methods.py:78: RuntimeWarning: invalid value encountered in true_divide\n",
      "  ret, rcount, out=ret, casting='unsafe', subok=False)\n"
     ]
    },
    {
     "name": "stdout",
     "output_type": "stream",
     "text": [
      "Adaboost RMSE: $393416.0\n",
      "Gradient Boost RMSE: $390188.0\n",
      "\n",
      "Best Model: Gradient Boost - grb - $390188.0\n",
      "\n",
      "\n",
      "---------------------------------------------------\n",
      "\n",
      "Cluster 4 stats: \n",
      "Cluster test size: 25\n",
      "Cluster train size: 136\n",
      "Cluster train mean cap hit: $819571.0\n",
      "RMSE for predicting cluster mean: $384989.0\n",
      "\n",
      "Random Forest RMSE: $135138.0\n",
      "K-Nearest Neighbors RMSE: $163859.0\n",
      "Radius Neighbors RMSE: $nan\n",
      "Linear Regression RMSE: $894375.0\n"
     ]
    },
    {
     "name": "stderr",
     "output_type": "stream",
     "text": [
      "/Users/colinshanahan/anaconda3/lib/python3.6/site-packages/numpy/core/fromnumeric.py:3118: RuntimeWarning: Mean of empty slice.\n",
      "  out=out, **kwargs)\n",
      "/Users/colinshanahan/anaconda3/lib/python3.6/site-packages/numpy/core/_methods.py:78: RuntimeWarning: invalid value encountered in true_divide\n",
      "  ret, rcount, out=ret, casting='unsafe', subok=False)\n"
     ]
    },
    {
     "name": "stdout",
     "output_type": "stream",
     "text": [
      "Adaboost RMSE: $142041.0\n",
      "Gradient Boost RMSE: $337231.0\n",
      "\n",
      "Best Model: Random Forest - rfr - $135138.0\n",
      "\n",
      "\n",
      "---------------------------------------------------\n",
      "\n",
      "Cluster 5 stats: \n",
      "Cluster test size: 25\n",
      "Cluster train size: 141\n",
      "Cluster train mean cap hit: $1868351.0\n",
      "RMSE for predicting cluster mean: $1624403.0\n",
      "\n",
      "Random Forest RMSE: $1384526.0\n",
      "K-Nearest Neighbors RMSE: $1540819.0\n",
      "Radius Neighbors RMSE: $nan\n",
      "Linear Regression RMSE: $3338019.0\n",
      "Adaboost RMSE: $1233117.0\n"
     ]
    },
    {
     "name": "stderr",
     "output_type": "stream",
     "text": [
      "/Users/colinshanahan/anaconda3/lib/python3.6/site-packages/numpy/core/fromnumeric.py:3118: RuntimeWarning: Mean of empty slice.\n",
      "  out=out, **kwargs)\n",
      "/Users/colinshanahan/anaconda3/lib/python3.6/site-packages/numpy/core/_methods.py:78: RuntimeWarning: invalid value encountered in true_divide\n",
      "  ret, rcount, out=ret, casting='unsafe', subok=False)\n"
     ]
    },
    {
     "name": "stdout",
     "output_type": "stream",
     "text": [
      "Gradient Boost RMSE: $1145459.0\n",
      "\n",
      "Best Model: Gradient Boost - grb - $1145459.0\n",
      "\n",
      "\n",
      "---------------------------------------------------\n",
      "\n",
      "Cluster 6 stats: \n",
      "Cluster test size: 13\n",
      "Cluster train size: 68\n",
      "Cluster train mean cap hit: $4486050.0\n",
      "RMSE for predicting cluster mean: $2512933.0\n",
      "\n",
      "Random Forest RMSE: $1321651.0\n",
      "K-Nearest Neighbors RMSE: $1410855.0\n",
      "Radius Neighbors RMSE: $nan\n",
      "Linear Regression RMSE: $3564468.0\n",
      "Adaboost RMSE: $1226187.0\n"
     ]
    },
    {
     "name": "stderr",
     "output_type": "stream",
     "text": [
      "/Users/colinshanahan/anaconda3/lib/python3.6/site-packages/numpy/core/fromnumeric.py:3118: RuntimeWarning: Mean of empty slice.\n",
      "  out=out, **kwargs)\n",
      "/Users/colinshanahan/anaconda3/lib/python3.6/site-packages/numpy/core/_methods.py:78: RuntimeWarning: invalid value encountered in true_divide\n",
      "  ret, rcount, out=ret, casting='unsafe', subok=False)\n"
     ]
    },
    {
     "name": "stdout",
     "output_type": "stream",
     "text": [
      "Gradient Boost RMSE: $1148337.0\n",
      "\n",
      "Best Model: Gradient Boost - grb - $1148337.0\n",
      "\n",
      "\n",
      "---------------------------------------------------\n",
      "\n"
     ]
    }
   ],
   "source": [
    "#model evaluation on each cluster\n",
    "X_trains, X_tests, y_trains, y_tests = [], [], [], []\n",
    "# rfrmodels, knnmodels, rnrmodels = [], [], []\n",
    "# linmodels = []\n",
    "# adamodels = []\n",
    "# grbmodels = []\n",
    "# rfrpreds, linpreds, adapreds, grbpreds, knnpreds, rnrpreds = [], [], [], [], [], []\n",
    "models = defaultdict()\n",
    "preds = defaultdict(np.array)\n",
    "y_len=0\n",
    "r_term = 0\n",
    "y_ordered = []\n",
    "\n",
    "best_mods = []\n",
    "best_preds = []\n",
    "\n",
    "for idx, c in enumerate(clusts):\n",
    "    rmse_list = defaultdict(float)\n",
    "    temp_y = yclusts[idx]['cap_hit']\n",
    "    X_train, X_test, y_train, y_test = train_test_split(c, temp_y\n",
    "                                                        , test_size = 0.15)\n",
    "    y_ordered.append(y_test)\n",
    "    y_len += len(y_test)\n",
    "    print('Cluster {} stats: \\nCluster test size: {}'.format(idx, len(y_test)))\n",
    "    print('Cluster train size: {}'.format(len(y_train)))\n",
    "    print('Cluster train mean cap hit: ${}'.format(round(temp_y.mean(), r_term)))\n",
    "    print('RMSE for predicting cluster mean: ${}\\n'.format(round(rmse(temp_y.mean(), y_test), r_term)))\n",
    "    \n",
    "    models['pcm'] = 'Pick mean'\n",
    "    preds['pcm'] = temp_y.mean()\n",
    "    rmse_list['Pick cluster mean - pcm'] = round(rmse(temp_y.mean(), y_test), r_term)\n",
    "    \n",
    "    X_trains.append(X_train)\n",
    "    X_tests.append(X_test)\n",
    "    y_trains.append(y_train)\n",
    "    y_tests.append(y_test)\n",
    "    \n",
    "    rfrmod = RandomForestRegressor()\n",
    "    rfrmod.fit(X_train, y_train)\n",
    "    #rfrmodels.append(rfrmod)\n",
    "    rfrp = rfrmod.predict(X_test)\n",
    "    #rfrpreds.append(rfrp)\n",
    "    models['rfr'] = rfrmod\n",
    "    preds['rfr'] = rfrp\n",
    "    rmse_list['Random Forest - rfr'] = round(rmse(rfrp, y_test), r_term)\n",
    "    print('Random Forest RMSE: ${}'.format(round(rmse(rfrp, y_test), r_term)))\n",
    "    \n",
    "    knnmod = KNeighborsRegressor(n_neighbors=5)\n",
    "    knnmod.fit(X_train, y_train)\n",
    "    #knnmodels.append(knnmod)\n",
    "    knnp = knnmod.predict(X_test)\n",
    "    #knnpreds.append(knnp)\n",
    "    models['knn'] = knnmod\n",
    "    preds['knn'] = knnp\n",
    "    rmse_list['KNearestNeighbors - knn'] = round(rmse(knnp, y_test), r_term)\n",
    "    print('K-Nearest Neighbors RMSE: ${}'.format(round(rmse(knnp, y_test), r_term)))\n",
    "    \n",
    "    rnrmod = RadiusNeighborsRegressor(radius=2.0)\n",
    "    rnrmod.fit(X_train, y_train)\n",
    "    #rnrmodels.append(rnrmod)\n",
    "    rnrp = rnrmod.predict(X_test)\n",
    "    #rnrpreds.append(rnrp)\n",
    "    models['rnr'] = rnrmod\n",
    "    preds['rnr'] = rnrp\n",
    "    if round(rmse(rnrp, y_test)) > 1000:\n",
    "        rmse_list['Radius Neighbors - rnr'] = round(rmse(rnrp, y_test), r_term)\n",
    "    print('Radius Neighbors RMSE: ${}'.format(round(rmse(rnrp, y_test), r_term)))\n",
    "    \n",
    "    linmod = LinearRegression()\n",
    "    linmod.fit(X_train, y_train)\n",
    "    #linmodels.append(linmod)\n",
    "    linp = linmod.predict(X_test)\n",
    "    #linpreds.append(linp)\n",
    "    models['lin'] = linmod\n",
    "    preds['lin'] = linp\n",
    "    rmse_list['Linear Regression - lin'] = round(rmse(linp, y_test), r_term)\n",
    "    print('Linear Regression RMSE: ${}'.format(round(rmse(linp, y_test), r_term)))\n",
    "    \n",
    "    adamod = AdaBoostRegressor()\n",
    "    adamod.fit(X_train, y_train)\n",
    "    #adamodels.append(adamod)\n",
    "    adap = adamod.predict(X_test)\n",
    "    #adapreds.append(adap)\n",
    "    models['ada'] = adamod\n",
    "    preds['ada'] = adap\n",
    "    rmse_list['AdaBoost - ada'] = round(rmse(adap, y_test), r_term)\n",
    "    print('Adaboost RMSE: ${}'.format(round(rmse(adap, y_test), r_term)))\n",
    "\n",
    "    grbmod = GradientBoostingRegressor()\n",
    "    grbmod.fit(X_train, y_train)\n",
    "    #grbmodels.append(grbmod)\n",
    "    grbp = grbmod.predict(X_test)\n",
    "    #grbpreds.append(grbp)\n",
    "    models['grb'] = grbmod\n",
    "    preds['grb'] = grbp\n",
    "    rmse_list['Gradient Boost - grb'] = round(rmse(grbp, y_test), r_term)\n",
    "    print('Gradient Boost RMSE: ${}'.format(round(rmse(grbp, y_test), r_term)))\n",
    "    \n",
    "    best_mod = min(rmse_list.items(), key=operator.itemgetter(1))[0]\n",
    "    print('\\nBest Model: {} - ${}'.format(best_mod, rmse_list[best_mod]))\n",
    "    \n",
    "    \n",
    "    best_mods.append(np.array(models[best_mod[-3:]]))\n",
    "    best_preds.append(np.array(preds[best_mod[-3:]]))\n",
    "    \n",
    "    print('\\n\\n---------------------------------------------------\\n')"
   ]
  },
  {
   "cell_type": "code",
   "execution_count": 518,
   "metadata": {},
   "outputs": [
    {
     "data": {
      "text/plain": [
       "750317.0"
      ]
     },
     "execution_count": 518,
     "metadata": {},
     "output_type": "execute_result"
    }
   ],
   "source": [
    "    \n",
    "bp = np.concatenate(best_preds)\n",
    "yo = np.concatenate(y_ordered)\n",
    "    \n",
    "round(rmse(bp, yo), r_term)"
   ]
  },
  {
   "cell_type": "code",
   "execution_count": 519,
   "metadata": {},
   "outputs": [
    {
     "name": "stdout",
     "output_type": "stream",
     "text": [
      "Cluster 0 stats: \n",
      "Cluster test size: 32\n",
      "Cluster train size: 177\n",
      "Cluster train mean cap hit: 5.82%\n",
      "RMSE for predicting cluster mean: 2.78%\n",
      "\n",
      "Random Forest RMSE: 1.48%\n",
      "K-Nearest Neighbors RMSE: 2.57%\n",
      "Radius Neighbors RMSE: nan%\n",
      "Linear Regression RMSE: 57.72%\n"
     ]
    },
    {
     "name": "stderr",
     "output_type": "stream",
     "text": [
      "/Users/colinshanahan/anaconda3/lib/python3.6/site-packages/numpy/core/fromnumeric.py:3118: RuntimeWarning: Mean of empty slice.\n",
      "  out=out, **kwargs)\n",
      "/Users/colinshanahan/anaconda3/lib/python3.6/site-packages/numpy/core/_methods.py:78: RuntimeWarning: invalid value encountered in true_divide\n",
      "  ret, rcount, out=ret, casting='unsafe', subok=False)\n"
     ]
    },
    {
     "name": "stdout",
     "output_type": "stream",
     "text": [
      "Adaboost RMSE: 1.55%\n",
      "Gradient Boost RMSE: 1.4%\n",
      "\n",
      "Best Model: Gradient Boost - grb - 1.4%\n",
      "\n",
      "\n",
      "---------------------------------------------------\n",
      "\n",
      "Cluster 1 stats: \n",
      "Cluster test size: 31\n",
      "Cluster train size: 174\n",
      "Cluster train mean cap hit: 1.6%\n",
      "RMSE for predicting cluster mean: 1.09%\n",
      "\n",
      "Random Forest RMSE: 0.81%\n",
      "K-Nearest Neighbors RMSE: 0.78%\n",
      "Radius Neighbors RMSE: nan%\n",
      "Linear Regression RMSE: 9.28%\n"
     ]
    },
    {
     "name": "stderr",
     "output_type": "stream",
     "text": [
      "/Users/colinshanahan/anaconda3/lib/python3.6/site-packages/numpy/core/fromnumeric.py:3118: RuntimeWarning: Mean of empty slice.\n",
      "  out=out, **kwargs)\n",
      "/Users/colinshanahan/anaconda3/lib/python3.6/site-packages/numpy/core/_methods.py:78: RuntimeWarning: invalid value encountered in true_divide\n",
      "  ret, rcount, out=ret, casting='unsafe', subok=False)\n"
     ]
    },
    {
     "name": "stdout",
     "output_type": "stream",
     "text": [
      "Adaboost RMSE: 0.86%\n",
      "Gradient Boost RMSE: 0.78%\n",
      "\n",
      "Best Model: KNearestNeighbors - knn - 0.78%\n",
      "\n",
      "\n",
      "---------------------------------------------------\n",
      "\n",
      "Cluster 2 stats: \n",
      "Cluster test size: 20\n",
      "Cluster train size: 110\n",
      "Cluster train mean cap hit: 0.93%\n",
      "RMSE for predicting cluster mean: 0.65%\n",
      "\n",
      "Random Forest RMSE: 0.6%\n",
      "K-Nearest Neighbors RMSE: 0.63%\n",
      "Radius Neighbors RMSE: nan%\n",
      "Linear Regression RMSE: 0.78%\n"
     ]
    },
    {
     "name": "stderr",
     "output_type": "stream",
     "text": [
      "/Users/colinshanahan/anaconda3/lib/python3.6/site-packages/numpy/core/fromnumeric.py:3118: RuntimeWarning: Mean of empty slice.\n",
      "  out=out, **kwargs)\n",
      "/Users/colinshanahan/anaconda3/lib/python3.6/site-packages/numpy/core/_methods.py:78: RuntimeWarning: invalid value encountered in true_divide\n",
      "  ret, rcount, out=ret, casting='unsafe', subok=False)\n"
     ]
    },
    {
     "name": "stdout",
     "output_type": "stream",
     "text": [
      "Adaboost RMSE: 0.6%\n",
      "Gradient Boost RMSE: 0.6%\n",
      "\n",
      "Best Model: Random Forest - rfr - 0.6%\n",
      "\n",
      "\n",
      "---------------------------------------------------\n",
      "\n",
      "Cluster 3 stats: \n",
      "Cluster test size: 33\n",
      "Cluster train size: 185\n",
      "Cluster train mean cap hit: 1.46%\n",
      "RMSE for predicting cluster mean: 1.02%\n",
      "\n",
      "Random Forest RMSE: 0.53%\n",
      "K-Nearest Neighbors RMSE: 0.82%\n",
      "Radius Neighbors RMSE: nan%\n",
      "Linear Regression RMSE: 5.28%\n"
     ]
    },
    {
     "name": "stderr",
     "output_type": "stream",
     "text": [
      "/Users/colinshanahan/anaconda3/lib/python3.6/site-packages/numpy/core/fromnumeric.py:3118: RuntimeWarning: Mean of empty slice.\n",
      "  out=out, **kwargs)\n",
      "/Users/colinshanahan/anaconda3/lib/python3.6/site-packages/numpy/core/_methods.py:78: RuntimeWarning: invalid value encountered in true_divide\n",
      "  ret, rcount, out=ret, casting='unsafe', subok=False)\n"
     ]
    },
    {
     "name": "stdout",
     "output_type": "stream",
     "text": [
      "Adaboost RMSE: 0.61%\n",
      "Gradient Boost RMSE: 0.55%\n",
      "\n",
      "Best Model: Random Forest - rfr - 0.53%\n",
      "\n",
      "\n",
      "---------------------------------------------------\n",
      "\n",
      "Cluster 4 stats: \n",
      "Cluster test size: 25\n",
      "Cluster train size: 136\n",
      "Cluster train mean cap hit: 1.1%\n",
      "RMSE for predicting cluster mean: 0.32%\n",
      "\n",
      "Random Forest RMSE: 0.22%\n",
      "K-Nearest Neighbors RMSE: 0.24%\n",
      "Radius Neighbors RMSE: nan%\n",
      "Linear Regression RMSE: 1.02%\n"
     ]
    },
    {
     "name": "stderr",
     "output_type": "stream",
     "text": [
      "/Users/colinshanahan/anaconda3/lib/python3.6/site-packages/numpy/core/fromnumeric.py:3118: RuntimeWarning: Mean of empty slice.\n",
      "  out=out, **kwargs)\n",
      "/Users/colinshanahan/anaconda3/lib/python3.6/site-packages/numpy/core/_methods.py:78: RuntimeWarning: invalid value encountered in true_divide\n",
      "  ret, rcount, out=ret, casting='unsafe', subok=False)\n"
     ]
    },
    {
     "name": "stdout",
     "output_type": "stream",
     "text": [
      "Adaboost RMSE: 0.47%\n",
      "Gradient Boost RMSE: 0.38%\n",
      "\n",
      "Best Model: Random Forest - rfr - 0.22%\n",
      "\n",
      "\n",
      "---------------------------------------------------\n",
      "\n",
      "Cluster 5 stats: \n",
      "Cluster test size: 25\n",
      "Cluster train size: 141\n",
      "Cluster train mean cap hit: 2.49%\n",
      "RMSE for predicting cluster mean: 1.84%\n",
      "\n",
      "Random Forest RMSE: 1.71%\n",
      "K-Nearest Neighbors RMSE: 1.88%\n",
      "Radius Neighbors RMSE: nan%\n",
      "Linear Regression RMSE: 4.02%\n",
      "Adaboost RMSE: 1.47%\n"
     ]
    },
    {
     "name": "stderr",
     "output_type": "stream",
     "text": [
      "/Users/colinshanahan/anaconda3/lib/python3.6/site-packages/numpy/core/fromnumeric.py:3118: RuntimeWarning: Mean of empty slice.\n",
      "  out=out, **kwargs)\n",
      "/Users/colinshanahan/anaconda3/lib/python3.6/site-packages/numpy/core/_methods.py:78: RuntimeWarning: invalid value encountered in true_divide\n",
      "  ret, rcount, out=ret, casting='unsafe', subok=False)\n"
     ]
    },
    {
     "name": "stdout",
     "output_type": "stream",
     "text": [
      "Gradient Boost RMSE: 1.56%\n",
      "\n",
      "Best Model: AdaBoost - ada - 1.47%\n",
      "\n",
      "\n",
      "---------------------------------------------------\n",
      "\n",
      "Cluster 6 stats: \n",
      "Cluster test size: 13\n",
      "Cluster train size: 68\n",
      "Cluster train mean cap hit: 6.01%\n",
      "RMSE for predicting cluster mean: 2.31%\n",
      "\n",
      "Random Forest RMSE: 1.27%\n",
      "K-Nearest Neighbors RMSE: 1.45%\n",
      "Radius Neighbors RMSE: nan%\n",
      "Linear Regression RMSE: 3.02%\n",
      "Adaboost RMSE: 0.98%\n"
     ]
    },
    {
     "name": "stderr",
     "output_type": "stream",
     "text": [
      "/Users/colinshanahan/anaconda3/lib/python3.6/site-packages/numpy/core/fromnumeric.py:3118: RuntimeWarning: Mean of empty slice.\n",
      "  out=out, **kwargs)\n",
      "/Users/colinshanahan/anaconda3/lib/python3.6/site-packages/numpy/core/_methods.py:78: RuntimeWarning: invalid value encountered in true_divide\n",
      "  ret, rcount, out=ret, casting='unsafe', subok=False)\n"
     ]
    },
    {
     "name": "stdout",
     "output_type": "stream",
     "text": [
      "Gradient Boost RMSE: 1.21%\n",
      "\n",
      "Best Model: AdaBoost - ada - 0.98%\n",
      "\n",
      "\n",
      "---------------------------------------------------\n",
      "\n",
      "Overall RMSE: 0.96%\n"
     ]
    }
   ],
   "source": [
    "#model evaluation on each cluster\n",
    "X_trains, X_tests, y_trains, y_tests = [], [], [], []\n",
    "# rfrmodels, knnmodels, rnrmodels = [], [], []\n",
    "# linmodels = []\n",
    "# adamodels = []\n",
    "# grbmodels = []\n",
    "# rfrpreds, linpreds, adapreds, grbpreds, knnpreds, rnrpreds = [], [], [], [], [], []\n",
    "models = defaultdict()\n",
    "preds = defaultdict(np.array)\n",
    "y_len=0\n",
    "r_term = 2\n",
    "y_ordered = []\n",
    "\n",
    "best_mods = []\n",
    "best_preds = []\n",
    "\n",
    "for idx, c in enumerate(clusts):\n",
    "    rmse_list = defaultdict(float)\n",
    "    temp_y = yclusts[idx]['cap_pct']\n",
    "    X_train, X_test, y_train, y_test = train_test_split(c, temp_y\n",
    "                                                        , test_size = 0.15)\n",
    "    y_ordered.append(y_test)\n",
    "    y_len += len(y_test)\n",
    "    print('Cluster {} stats: \\nCluster test size: {}'.format(idx, len(y_test)))\n",
    "    print('Cluster train size: {}'.format(len(y_train)))\n",
    "    print('Cluster train mean cap hit: {}%'.format(round(temp_y.mean(), r_term)))\n",
    "    print('RMSE for predicting cluster mean: {}%\\n'.format(round(rmse(temp_y.mean(), y_test), r_term)))\n",
    "    \n",
    "    models['pcm'] = 'Pick mean'\n",
    "    preds['pcm'] = np.ones(y_test.shape) * temp_y.mean()\n",
    "    rmse_list['Pick cluster mean - pcm'] = round(rmse(temp_y.mean(), y_test), r_term)\n",
    "    \n",
    "    X_trains.append(X_train)\n",
    "    X_tests.append(X_test)\n",
    "    y_trains.append(y_train)\n",
    "    y_tests.append(y_test)\n",
    "    \n",
    "    rfrmod = RandomForestRegressor()\n",
    "    rfrmod.fit(X_train, y_train)\n",
    "    #rfrmodels.append(rfrmod)\n",
    "    rfrp = rfrmod.predict(X_test)\n",
    "    #rfrpreds.append(rfrp)\n",
    "    models['rfr'] = rfrmod\n",
    "    preds['rfr'] = rfrp\n",
    "    rmse_list['Random Forest - rfr'] = round(rmse(rfrp, y_test), r_term)\n",
    "    print('Random Forest RMSE: {}%'.format(round(rmse(rfrp, y_test), r_term)))\n",
    "    \n",
    "    knnmod = KNeighborsRegressor(n_neighbors=5)\n",
    "    knnmod.fit(X_train, y_train)\n",
    "    #knnmodels.append(knnmod)\n",
    "    knnp = knnmod.predict(X_test)\n",
    "    #knnpreds.append(knnp)\n",
    "    models['knn'] = knnmod\n",
    "    preds['knn'] = knnp\n",
    "    rmse_list['KNearestNeighbors - knn'] = round(rmse(knnp, y_test), r_term)\n",
    "    print('K-Nearest Neighbors RMSE: {}%'.format(round(rmse(knnp, y_test), r_term)))\n",
    "    \n",
    "    rnrmod = RadiusNeighborsRegressor(radius=2.0)\n",
    "    rnrmod.fit(X_train, y_train)\n",
    "    #rnrmodels.append(rnrmod)\n",
    "    rnrp = rnrmod.predict(X_test)\n",
    "    #rnrpreds.append(rnrp)\n",
    "    models['rnr'] = rnrmod\n",
    "    preds['rnr'] = rnrp\n",
    "    if round(rmse(rnrp, y_test)) > 1000:\n",
    "        rmse_list['Radius Neighbors - rnr'] = round(rmse(rnrp, y_test), r_term)\n",
    "    print('Radius Neighbors RMSE: {}%'.format(round(rmse(rnrp, y_test), r_term)))\n",
    "    \n",
    "    linmod = LinearRegression()\n",
    "    linmod.fit(X_train, y_train)\n",
    "    #linmodels.append(linmod)\n",
    "    linp = linmod.predict(X_test)\n",
    "    #linpreds.append(linp)\n",
    "    models['lin'] = linmod\n",
    "    preds['lin'] = linp\n",
    "    rmse_list['Linear Regression - lin'] = round(rmse(linp, y_test), r_term)\n",
    "    print('Linear Regression RMSE: {}%'.format(round(rmse(linp, y_test), r_term)))\n",
    "    \n",
    "    adamod = AdaBoostRegressor()\n",
    "    adamod.fit(X_train, y_train)\n",
    "    #adamodels.append(adamod)\n",
    "    adap = adamod.predict(X_test)\n",
    "    #adapreds.append(adap)\n",
    "    models['ada'] = adamod\n",
    "    preds['ada'] = adap\n",
    "    rmse_list['AdaBoost - ada'] = round(rmse(adap, y_test), r_term)\n",
    "    print('Adaboost RMSE: {}%'.format(round(rmse(adap, y_test), r_term)))\n",
    "\n",
    "    grbmod = GradientBoostingRegressor()\n",
    "    grbmod.fit(X_train, y_train)\n",
    "    #grbmodels.append(grbmod)\n",
    "    grbp = grbmod.predict(X_test)\n",
    "    #grbpreds.append(grbp)\n",
    "    models['grb'] = grbmod\n",
    "    preds['grb'] = grbp\n",
    "    rmse_list['Gradient Boost - grb'] = round(rmse(grbp, y_test), r_term)\n",
    "    print('Gradient Boost RMSE: {}%'.format(round(rmse(grbp, y_test), r_term)))\n",
    "    \n",
    "    best_mod = min(rmse_list.items(), key=operator.itemgetter(1))[0]\n",
    "    print('\\nBest Model: {} - {}%'.format(best_mod, rmse_list[best_mod]))\n",
    "    \n",
    "    \n",
    "    best_mods.append(np.array(models[best_mod[-3:]]))\n",
    "    best_preds.append(np.array(preds[best_mod[-3:]]))\n",
    "    \n",
    "    print('\\n\\n---------------------------------------------------\\n')\n",
    "    \n",
    "bp = np.concatenate(best_preds)\n",
    "yo = np.concatenate(y_ordered)\n",
    "    \n",
    "print('Overall RMSE: {}%'.format(round(rmse(bp, yo), r_term)))"
   ]
  },
  {
   "cell_type": "code",
   "execution_count": 520,
   "metadata": {},
   "outputs": [
    {
     "data": {
      "text/plain": [
       "(179,)"
      ]
     },
     "execution_count": 520,
     "metadata": {},
     "output_type": "execute_result"
    }
   ],
   "source": [
    "bp.shape"
   ]
  },
  {
   "cell_type": "code",
   "execution_count": 475,
   "metadata": {},
   "outputs": [
    {
     "name": "stderr",
     "output_type": "stream",
     "text": [
      "/Users/colinshanahan/anaconda3/lib/python3.6/site-packages/ipykernel_launcher.py:18: FutureWarning: Using a non-tuple sequence for multidimensional indexing is deprecated; use `arr[tuple(seq)]` instead of `arr[seq]`. In the future this will be interpreted as an array index, `arr[np.array(seq)]`, which will result either in an error or a different result.\n"
     ]
    },
    {
     "ename": "IndexError",
     "evalue": "only integers, slices (`:`), ellipsis (`...`), numpy.newaxis (`None`) and integer or boolean arrays are valid indices",
     "output_type": "error",
     "traceback": [
      "\u001b[0;31m---------------------------------------------------------------------------\u001b[0m",
      "\u001b[0;31mIndexError\u001b[0m                                Traceback (most recent call last)",
      "\u001b[0;32m<ipython-input-475-8ce09e2f19e4>\u001b[0m in \u001b[0;36m<module>\u001b[0;34m()\u001b[0m\n\u001b[1;32m     16\u001b[0m \u001b[0;34m\u001b[0m\u001b[0m\n\u001b[1;32m     17\u001b[0m \u001b[0;32mfor\u001b[0m \u001b[0midx\u001b[0m\u001b[0;34m,\u001b[0m \u001b[0mc\u001b[0m \u001b[0;32min\u001b[0m \u001b[0menumerate\u001b[0m\u001b[0;34m(\u001b[0m\u001b[0mclusts\u001b[0m\u001b[0;34m)\u001b[0m\u001b[0;34m:\u001b[0m\u001b[0;34m\u001b[0m\u001b[0m\n\u001b[0;32m---> 18\u001b[0;31m     \u001b[0mx\u001b[0m \u001b[0;34m=\u001b[0m \u001b[0mc\u001b[0m\u001b[0;34m[\u001b[0m\u001b[0;34m[\u001b[0m\u001b[0;34m'mean Total Points'\u001b[0m\u001b[0;34m,\u001b[0m \u001b[0;34m'TOI/GP'\u001b[0m\u001b[0;34m,\u001b[0m \u001b[0;34m'signing_age'\u001b[0m\u001b[0;34m]\u001b[0m\u001b[0;34m]\u001b[0m\u001b[0;34m\u001b[0m\u001b[0m\n\u001b[0m\u001b[1;32m     19\u001b[0m     \u001b[0mx\u001b[0m\u001b[0;34m[\u001b[0m\u001b[0;34m'pred_cap_pct'\u001b[0m\u001b[0;34m]\u001b[0m \u001b[0;34m=\u001b[0m \u001b[0mbest_preds\u001b[0m\u001b[0;34m[\u001b[0m\u001b[0midx\u001b[0m\u001b[0;34m]\u001b[0m\u001b[0;34m\u001b[0m\u001b[0m\n\u001b[1;32m     20\u001b[0m     \u001b[0mrmse_list\u001b[0m \u001b[0;34m=\u001b[0m \u001b[0mdefaultdict\u001b[0m\u001b[0;34m(\u001b[0m\u001b[0mfloat\u001b[0m\u001b[0;34m)\u001b[0m\u001b[0;34m\u001b[0m\u001b[0m\n",
      "\u001b[0;31mIndexError\u001b[0m: only integers, slices (`:`), ellipsis (`...`), numpy.newaxis (`None`) and integer or boolean arrays are valid indices"
     ]
    }
   ],
   "source": [
    "#model evaluation on each cluster\n",
    "X_trains, X_tests, y_trains, y_tests = [], [], [], []\n",
    "# rfrmodels, knnmodels, rnrmodels = [], [], []\n",
    "# linmodels = []\n",
    "# adamodels = []\n",
    "# grbmodels = []\n",
    "# rfrpreds, linpreds, adapreds, grbpreds, knnpreds, rnrpreds = [], [], [], [], [], []\n",
    "models = defaultdict()\n",
    "preds = defaultdict(np.array)\n",
    "y_len=0\n",
    "r_term = 1\n",
    "y_ordered = []\n",
    "\n",
    "best_l_mods = []\n",
    "best_l_preds = []\n",
    "\n",
    "for idx, c in enumerate(clusts):\n",
    "    x = c[['mean Total Points', 'TOI/GP', 'signing_age']]\n",
    "    x['pred_cap_pct'] = best_preds[idx]\n",
    "    rmse_list = defaultdict(float)\n",
    "    temp_y = yclusts[idx]['length']\n",
    "    X_train, X_test, y_train, y_test = train_test_split(c, temp_y\n",
    "                                                        , test_size = 0.15)\n",
    "    y_ordered.append(y_test)\n",
    "    y_len += len(y_test)\n",
    "    print('Cluster {} stats: \\nCluster test size: {}'.format(idx, len(y_test)))\n",
    "    print('Cluster train size: {}'.format(len(y_train)))\n",
    "    print('Cluster train mean cap hit: {} years'.format(round(temp_y.mean(), r_term)))\n",
    "    print('RMSE for predicting cluster mean: {} years\\n'.format(round(rmse(temp_y.mean(), y_test), r_term)))\n",
    "    \n",
    "    models['pcm'] = 'Pick mean'\n",
    "    preds['pcm'] = np.ones(y_test.shape) * temp_y.mean()\n",
    "    rmse_list['Pick cluster mean - pcm'] = round(rmse(temp_y.mean(), y_test), r_term)\n",
    "    \n",
    "    X_trains.append(X_train)\n",
    "    X_tests.append(X_test)\n",
    "    y_trains.append(y_train)\n",
    "    y_tests.append(y_test)\n",
    "    \n",
    "    rfrmod = RandomForestRegressor()\n",
    "    rfrmod.fit(X_train, y_train)\n",
    "    #rfrmodels.append(rfrmod)\n",
    "    rfrp = rfrmod.predict(X_test)\n",
    "    #rfrpreds.append(rfrp)\n",
    "    models['rfr'] = rfrmod\n",
    "    preds['rfr'] = rfrp\n",
    "    rmse_list['Random Forest - rfr'] = round(rmse(rfrp, y_test), r_term)\n",
    "    print('Random Forest RMSE: {} years'.format(round(rmse(rfrp, y_test), r_term)))\n",
    "    \n",
    "    knnmod = KNeighborsRegressor(n_neighbors=5)\n",
    "    knnmod.fit(X_train, y_train)\n",
    "    #knnmodels.append(knnmod)\n",
    "    knnp = knnmod.predict(X_test)\n",
    "    #knnpreds.append(knnp)\n",
    "    models['knn'] = knnmod\n",
    "    preds['knn'] = knnp\n",
    "    rmse_list['KNearestNeighbors - knn'] = round(rmse(knnp, y_test), r_term)\n",
    "    print('K-Nearest Neighbors RMSE: {} years'.format(round(rmse(knnp, y_test), r_term)))\n",
    "    \n",
    "    rnrmod = RadiusNeighborsRegressor(radius=2.0)\n",
    "    rnrmod.fit(X_train, y_train)\n",
    "    #rnrmodels.append(rnrmod)\n",
    "    rnrp = rnrmod.predict(X_test)\n",
    "    #rnrpreds.append(rnrp)\n",
    "    models['rnr'] = rnrmod\n",
    "    preds['rnr'] = rnrp\n",
    "    if round(rmse(rnrp, y_test)) > 1000:\n",
    "        rmse_list['Radius Neighbors - rnr'] = round(rmse(rnrp, y_test), r_term)\n",
    "    print('Radius Neighbors RMSE: {} years'.format(round(rmse(rnrp, y_test), r_term)))\n",
    "    \n",
    "    linmod = LinearRegression()\n",
    "    linmod.fit(X_train, y_train)\n",
    "    #linmodels.append(linmod)\n",
    "    linp = linmod.predict(X_test)\n",
    "    #linpreds.append(linp)\n",
    "    models['lin'] = linmod\n",
    "    preds['lin'] = linp\n",
    "    rmse_list['Linear Regression - lin'] = round(rmse(linp, y_test), r_term)\n",
    "    print('Linear Regression RMSE: {} years'.format(round(rmse(linp, y_test), r_term)))\n",
    "    \n",
    "    adamod = AdaBoostRegressor()\n",
    "    adamod.fit(X_train, y_train)\n",
    "    #adamodels.append(adamod)\n",
    "    adap = adamod.predict(X_test)\n",
    "    #adapreds.append(adap)\n",
    "    models['ada'] = adamod\n",
    "    preds['ada'] = adap\n",
    "    rmse_list['AdaBoost - ada'] = round(rmse(adap, y_test), r_term)\n",
    "    print('Adaboost RMSE: {} years'.format(round(rmse(adap, y_test), r_term)))\n",
    "\n",
    "    grbmod = GradientBoostingRegressor()\n",
    "    grbmod.fit(X_train, y_train)\n",
    "    #grbmodels.append(grbmod)\n",
    "    grbp = grbmod.predict(X_test)\n",
    "    #grbpreds.append(grbp)\n",
    "    models['grb'] = grbmod\n",
    "    preds['grb'] = grbp\n",
    "    rmse_list['Gradient Boost - grb'] = round(rmse(grbp, y_test), r_term)\n",
    "    print('Gradient Boost RMSE: {} years'.format(round(rmse(grbp, y_test), r_term)))\n",
    "    \n",
    "    best_mod = min(rmse_list.items(), key=operator.itemgetter(1))[0]\n",
    "    print('\\nBest Model: {} - {} years'.format(best_mod, rmse_list[best_mod]))\n",
    "    \n",
    "    \n",
    "    best_l_mods.append(np.array(models[best_mod[-3:]]))\n",
    "    best_l_preds.append(np.array(preds[best_mod[-3:]]))\n",
    "    \n",
    "    print('\\n\\n---------------------------------------------------\\n')\n",
    "    \n",
    "blp = np.concatenate(best_preds)\n",
    "ylo = np.concatenate(y_ordered)\n",
    "    \n",
    "print('Overall RMSE: {} years'.format(round(rmse(bp, yo), r_term)))"
   ]
  },
  {
   "cell_type": "code",
   "execution_count": 305,
   "metadata": {},
   "outputs": [
    {
     "name": "stdout",
     "output_type": "stream",
     "text": [
      "Cluster 0 stats: \n",
      "Cluster test size: 32\n",
      "Cluster train size: 181\n",
      "Cluster train mean cap hit: 1.4 years\n",
      "RMSE for predicting cluster mean: 0.6 years\n",
      "\n",
      "Random Forest RMSE: 0.7 years\n",
      "K-Nearest Neighbors RMSE: 0.7 years\n",
      "Radius Neighbors RMSE: nan years\n",
      "Linear Regression RMSE: 4.0 years\n",
      "Adaboost RMSE: 0.7 years\n"
     ]
    },
    {
     "name": "stderr",
     "output_type": "stream",
     "text": [
      "/Users/colinshanahan/anaconda3/lib/python3.6/site-packages/numpy/core/fromnumeric.py:3118: RuntimeWarning: Mean of empty slice.\n",
      "  out=out, **kwargs)\n",
      "/Users/colinshanahan/anaconda3/lib/python3.6/site-packages/numpy/core/_methods.py:78: RuntimeWarning: invalid value encountered in true_divide\n",
      "  ret, rcount, out=ret, casting='unsafe', subok=False)\n"
     ]
    },
    {
     "name": "stdout",
     "output_type": "stream",
     "text": [
      "Gradient Boost RMSE: 0.7 years\n",
      "\n",
      "Best Model: Pick cluster mean - pcm - 0.6 years\n",
      "\n",
      "\n",
      "---------------------------------------------------\n",
      "\n",
      "Cluster 1 stats: \n",
      "Cluster test size: 26\n",
      "Cluster train size: 142\n",
      "Cluster train mean cap hit: 4.1 years\n",
      "RMSE for predicting cluster mean: 2.3 years\n",
      "\n",
      "Random Forest RMSE: 1.9 years\n",
      "K-Nearest Neighbors RMSE: 2.0 years\n",
      "Radius Neighbors RMSE: nan years\n",
      "Linear Regression RMSE: 6.7 years\n"
     ]
    },
    {
     "name": "stderr",
     "output_type": "stream",
     "text": [
      "/Users/colinshanahan/anaconda3/lib/python3.6/site-packages/numpy/core/fromnumeric.py:3118: RuntimeWarning: Mean of empty slice.\n",
      "  out=out, **kwargs)\n",
      "/Users/colinshanahan/anaconda3/lib/python3.6/site-packages/numpy/core/_methods.py:78: RuntimeWarning: invalid value encountered in true_divide\n",
      "  ret, rcount, out=ret, casting='unsafe', subok=False)\n"
     ]
    },
    {
     "name": "stdout",
     "output_type": "stream",
     "text": [
      "Adaboost RMSE: 1.8 years\n",
      "Gradient Boost RMSE: 1.8 years\n",
      "\n",
      "Best Model: AdaBoost - ada - 1.8 years\n",
      "\n",
      "\n",
      "---------------------------------------------------\n",
      "\n",
      "Cluster 2 stats: \n",
      "Cluster test size: 23\n",
      "Cluster train size: 129\n",
      "Cluster train mean cap hit: 1.8 years\n",
      "RMSE for predicting cluster mean: 0.9 years\n",
      "\n",
      "Random Forest RMSE: 0.8 years\n",
      "K-Nearest Neighbors RMSE: 0.8 years\n",
      "Radius Neighbors RMSE: 0.0 years\n",
      "Linear Regression RMSE: 4.0 years\n",
      "Adaboost RMSE: 0.8 years\n"
     ]
    },
    {
     "name": "stderr",
     "output_type": "stream",
     "text": [
      "/Users/colinshanahan/anaconda3/lib/python3.6/site-packages/numpy/core/fromnumeric.py:3118: RuntimeWarning: Mean of empty slice.\n",
      "  out=out, **kwargs)\n",
      "/Users/colinshanahan/anaconda3/lib/python3.6/site-packages/numpy/core/_methods.py:78: RuntimeWarning: invalid value encountered in true_divide\n",
      "  ret, rcount, out=ret, casting='unsafe', subok=False)\n"
     ]
    },
    {
     "name": "stdout",
     "output_type": "stream",
     "text": [
      "Gradient Boost RMSE: 0.9 years\n",
      "\n",
      "Best Model: Random Forest - rfr - 0.8 years\n",
      "\n",
      "\n",
      "---------------------------------------------------\n",
      "\n",
      "Cluster 3 stats: \n",
      "Cluster test size: 35\n",
      "Cluster train size: 194\n",
      "Cluster train mean cap hit: 1.8 years\n",
      "RMSE for predicting cluster mean: 1.0 years\n",
      "\n",
      "Random Forest RMSE: 0.8 years\n",
      "K-Nearest Neighbors RMSE: 1.0 years\n",
      "Radius Neighbors RMSE: nan years\n",
      "Linear Regression RMSE: 6.6 years\n"
     ]
    },
    {
     "name": "stderr",
     "output_type": "stream",
     "text": [
      "/Users/colinshanahan/anaconda3/lib/python3.6/site-packages/numpy/core/fromnumeric.py:3118: RuntimeWarning: Mean of empty slice.\n",
      "  out=out, **kwargs)\n",
      "/Users/colinshanahan/anaconda3/lib/python3.6/site-packages/numpy/core/_methods.py:78: RuntimeWarning: invalid value encountered in true_divide\n",
      "  ret, rcount, out=ret, casting='unsafe', subok=False)\n"
     ]
    },
    {
     "name": "stdout",
     "output_type": "stream",
     "text": [
      "Adaboost RMSE: 0.9 years\n",
      "Gradient Boost RMSE: 0.9 years\n",
      "\n",
      "Best Model: Random Forest - rfr - 0.8 years\n",
      "\n",
      "\n",
      "---------------------------------------------------\n",
      "\n",
      "Cluster 4 stats: \n",
      "Cluster test size: 29\n",
      "Cluster train size: 161\n",
      "Cluster train mean cap hit: 1.6 years\n",
      "RMSE for predicting cluster mean: 0.7 years\n",
      "\n",
      "Random Forest RMSE: 0.8 years\n",
      "K-Nearest Neighbors RMSE: 0.7 years\n",
      "Radius Neighbors RMSE: nan years\n",
      "Linear Regression RMSE: 4.5 years\n"
     ]
    },
    {
     "name": "stderr",
     "output_type": "stream",
     "text": [
      "/Users/colinshanahan/anaconda3/lib/python3.6/site-packages/numpy/core/fromnumeric.py:3118: RuntimeWarning: Mean of empty slice.\n",
      "  out=out, **kwargs)\n",
      "/Users/colinshanahan/anaconda3/lib/python3.6/site-packages/numpy/core/_methods.py:78: RuntimeWarning: invalid value encountered in true_divide\n",
      "  ret, rcount, out=ret, casting='unsafe', subok=False)\n"
     ]
    },
    {
     "name": "stdout",
     "output_type": "stream",
     "text": [
      "Adaboost RMSE: 0.8 years\n",
      "Gradient Boost RMSE: 1.1 years\n",
      "\n",
      "Best Model: Pick cluster mean - pcm - 0.7 years\n",
      "\n",
      "\n",
      "---------------------------------------------------\n",
      "\n",
      "Cluster 5 stats: \n",
      "Cluster test size: 23\n",
      "Cluster train size: 129\n",
      "Cluster train mean cap hit: 2.3 years\n",
      "RMSE for predicting cluster mean: 1.3 years\n",
      "\n",
      "Random Forest RMSE: 1.6 years\n",
      "K-Nearest Neighbors RMSE: 1.7 years\n",
      "Radius Neighbors RMSE: nan years\n",
      "Linear Regression RMSE: 6.3 years\n",
      "Adaboost RMSE: 1.4 years\n"
     ]
    },
    {
     "name": "stderr",
     "output_type": "stream",
     "text": [
      "/Users/colinshanahan/anaconda3/lib/python3.6/site-packages/numpy/core/fromnumeric.py:3118: RuntimeWarning: Mean of empty slice.\n",
      "  out=out, **kwargs)\n",
      "/Users/colinshanahan/anaconda3/lib/python3.6/site-packages/numpy/core/_methods.py:78: RuntimeWarning: invalid value encountered in true_divide\n",
      "  ret, rcount, out=ret, casting='unsafe', subok=False)\n"
     ]
    },
    {
     "name": "stdout",
     "output_type": "stream",
     "text": [
      "Gradient Boost RMSE: 1.6 years\n",
      "\n",
      "Best Model: Pick cluster mean - pcm - 1.3 years\n",
      "\n",
      "\n",
      "---------------------------------------------------\n",
      "\n",
      "Cluster 6 stats: \n",
      "Cluster test size: 10\n",
      "Cluster train size: 56\n",
      "Cluster train mean cap hit: 4.5 years\n",
      "RMSE for predicting cluster mean: 2.7 years\n",
      "\n",
      "Random Forest RMSE: 2.4 years\n",
      "K-Nearest Neighbors RMSE: 2.1 years\n",
      "Radius Neighbors RMSE: nan years\n",
      "Linear Regression RMSE: 3.7 years\n",
      "Adaboost RMSE: 2.1 years\n"
     ]
    },
    {
     "name": "stderr",
     "output_type": "stream",
     "text": [
      "/Users/colinshanahan/anaconda3/lib/python3.6/site-packages/numpy/core/fromnumeric.py:3118: RuntimeWarning: Mean of empty slice.\n",
      "  out=out, **kwargs)\n",
      "/Users/colinshanahan/anaconda3/lib/python3.6/site-packages/numpy/core/_methods.py:78: RuntimeWarning: invalid value encountered in true_divide\n",
      "  ret, rcount, out=ret, casting='unsafe', subok=False)\n"
     ]
    },
    {
     "name": "stdout",
     "output_type": "stream",
     "text": [
      "Gradient Boost RMSE: 2.2 years\n",
      "\n",
      "Best Model: KNearestNeighbors - knn - 2.1 years\n",
      "\n",
      "\n",
      "---------------------------------------------------\n",
      "\n"
     ]
    },
    {
     "ename": "ValueError",
     "evalue": "zero-dimensional arrays cannot be concatenated",
     "output_type": "error",
     "traceback": [
      "\u001b[0;31m---------------------------------------------------------------------------\u001b[0m",
      "\u001b[0;31mValueError\u001b[0m                                Traceback (most recent call last)",
      "\u001b[0;32m<ipython-input-305-066b0822903d>\u001b[0m in \u001b[0;36m<module>\u001b[0;34m()\u001b[0m\n\u001b[1;32m    106\u001b[0m     \u001b[0mprint\u001b[0m\u001b[0;34m(\u001b[0m\u001b[0;34m'\\n\\n---------------------------------------------------\\n'\u001b[0m\u001b[0;34m)\u001b[0m\u001b[0;34m\u001b[0m\u001b[0m\n\u001b[1;32m    107\u001b[0m \u001b[0;34m\u001b[0m\u001b[0m\n\u001b[0;32m--> 108\u001b[0;31m \u001b[0mbp\u001b[0m \u001b[0;34m=\u001b[0m \u001b[0mnp\u001b[0m\u001b[0;34m.\u001b[0m\u001b[0mconcatenate\u001b[0m\u001b[0;34m(\u001b[0m\u001b[0mbest_preds\u001b[0m\u001b[0;34m)\u001b[0m\u001b[0;34m\u001b[0m\u001b[0m\n\u001b[0m\u001b[1;32m    109\u001b[0m \u001b[0myo\u001b[0m \u001b[0;34m=\u001b[0m \u001b[0mnp\u001b[0m\u001b[0;34m.\u001b[0m\u001b[0mconcatenate\u001b[0m\u001b[0;34m(\u001b[0m\u001b[0my_ordered\u001b[0m\u001b[0;34m)\u001b[0m\u001b[0;34m\u001b[0m\u001b[0m\n\u001b[1;32m    110\u001b[0m \u001b[0;34m\u001b[0m\u001b[0m\n",
      "\u001b[0;31mValueError\u001b[0m: zero-dimensional arrays cannot be concatenated"
     ]
    }
   ],
   "source": [
    "#model evaluation on each cluster\n",
    "X_trains, X_tests, y_trains, y_tests = [], [], [], []\n",
    "# rfrmodels, knnmodels, rnrmodels = [], [], []\n",
    "# linmodels = []\n",
    "# adamodels = []\n",
    "# grbmodels = []\n",
    "# rfrpreds, linpreds, adapreds, grbpreds, knnpreds, rnrpreds = [], [], [], [], [], []\n",
    "models = defaultdict()\n",
    "preds = defaultdict(np.array)\n",
    "y_len=0\n",
    "r_term = 1\n",
    "y_ordered = []\n",
    "\n",
    "best_mods = []\n",
    "best_preds = []\n",
    "\n",
    "for idx, c in enumerate(clusts):\n",
    "    rmse_list = defaultdict(float)\n",
    "    temp_y = yclusts[idx]['length']\n",
    "    X_train, X_test, y_train, y_test = train_test_split(c, temp_y\n",
    "                                                        , test_size = 0.15)\n",
    "    y_ordered.append(y_test)\n",
    "    y_len += len(y_test)\n",
    "    print('Cluster {} stats: \\nCluster test size: {}'.format(idx, len(y_test)))\n",
    "    print('Cluster train size: {}'.format(len(y_train)))\n",
    "    print('Cluster train mean cap hit: {} years'.format(round(temp_y.mean(), r_term)))\n",
    "    print('RMSE for predicting cluster mean: {} years\\n'.format(round(rmse(temp_y.mean(), y_test), r_term)))\n",
    "    \n",
    "    models['pcm'] = 'Pick mean'\n",
    "    preds['pcm'] = temp_y.mean()\n",
    "    rmse_list['Pick cluster mean - pcm'] = round(rmse(temp_y.mean(), y_test), r_term)\n",
    "    \n",
    "    X_trains.append(X_train['signing_age'])\n",
    "    X_tests.append(X_test)\n",
    "    y_trains.append(y_train)\n",
    "    y_tests.append(y_test)\n",
    "    \n",
    "    rfrmod = RandomForestRegressor()\n",
    "    rfrmod.fit(X_train, y_train)\n",
    "    #rfrmodels.append(rfrmod)\n",
    "    rfrp = rfrmod.predict(X_test)\n",
    "    #rfrpreds.append(rfrp)\n",
    "    models['rfr'] = rfrmod\n",
    "    preds['rfr'] = rfrp\n",
    "    rmse_list['Random Forest - rfr'] = round(rmse(rfrp, y_test), r_term)\n",
    "    print('Random Forest RMSE: {} years'.format(round(rmse(rfrp, y_test), r_term)))\n",
    "    \n",
    "    knnmod = KNeighborsRegressor(n_neighbors=5)\n",
    "    knnmod.fit(X_train, y_train)\n",
    "    #knnmodels.append(knnmod)\n",
    "    knnp = knnmod.predict(X_test)\n",
    "    #knnpreds.append(knnp)\n",
    "    models['knn'] = knnmod\n",
    "    preds['knn'] = knnp\n",
    "    rmse_list['KNearestNeighbors - knn'] = round(rmse(knnp, y_test), r_term)\n",
    "    print('K-Nearest Neighbors RMSE: {} years'.format(round(rmse(knnp, y_test), r_term)))\n",
    "    \n",
    "    rnrmod = RadiusNeighborsRegressor(radius=2.0)\n",
    "    rnrmod.fit(X_train, y_train)\n",
    "    #rnrmodels.append(rnrmod)\n",
    "    rnrp = rnrmod.predict(X_test)\n",
    "    #rnrpreds.append(rnrp)\n",
    "    models['rnr'] = rnrmod\n",
    "    preds['rnr'] = rnrp\n",
    "    if round(rmse(rnrp, y_test)) > 1000:\n",
    "        rmse_list['Radius Neighbors - rnr'] = round(rmse(rnrp, y_test), r_term)\n",
    "    print('Radius Neighbors RMSE: {} years'.format(round(rmse(rnrp, y_test), r_term)))\n",
    "    \n",
    "    linmod = LinearRegression()\n",
    "    linmod.fit(X_train, y_train)\n",
    "    #linmodels.append(linmod)\n",
    "    linp = linmod.predict(X_test)\n",
    "    #linpreds.append(linp)\n",
    "    models['lin'] = linmod\n",
    "    preds['lin'] = linp\n",
    "    rmse_list['Linear Regression - lin'] = round(rmse(linp, y_test), r_term)\n",
    "    print('Linear Regression RMSE: {} years'.format(round(rmse(linp, y_test), r_term)))\n",
    "    \n",
    "    adamod = AdaBoostRegressor()\n",
    "    adamod.fit(X_train, y_train)\n",
    "    #adamodels.append(adamod)\n",
    "    adap = adamod.predict(X_test)\n",
    "    #adapreds.append(adap)\n",
    "    models['ada'] = adamod\n",
    "    preds['ada'] = adap\n",
    "    rmse_list['AdaBoost - ada'] = round(rmse(adap, y_test), r_term)\n",
    "    print('Adaboost RMSE: {} years'.format(round(rmse(adap, y_test), r_term)))\n",
    "\n",
    "    grbmod = GradientBoostingRegressor()\n",
    "    grbmod.fit(X_train, y_train)\n",
    "    #grbmodels.append(grbmod)\n",
    "    grbp = grbmod.predict(X_test)\n",
    "    #grbpreds.append(grbp)\n",
    "    models['grb'] = grbmod\n",
    "    preds['grb'] = grbp\n",
    "    rmse_list['Gradient Boost - grb'] = round(rmse(grbp, y_test), r_term)\n",
    "    print('Gradient Boost RMSE: {} years'.format(round(rmse(grbp, y_test), r_term)))\n",
    "    \n",
    "    best_mod = min(rmse_list.items(), key=operator.itemgetter(1))[0]\n",
    "    print('\\nBest Model: {} - {} years'.format(best_mod, rmse_list[best_mod]))\n",
    "    \n",
    "    \n",
    "    best_mods.append(models[best_mod[-3:]])\n",
    "    best_preds.append(preds[best_mod[-3:]])\n",
    "    \n",
    "    print('\\n\\n---------------------------------------------------\\n')\n",
    "    \n",
    "bp = np.concatenate(best_preds)\n",
    "yo = np.concatenate(y_ordered)\n",
    "    \n",
    "round(rmse(bp, yo), r_term)"
   ]
  },
  {
   "cell_type": "code",
   "execution_count": 545,
   "metadata": {},
   "outputs": [],
   "source": [
    "from sklearn.decomposition import PCA"
   ]
  },
  {
   "cell_type": "code",
   "execution_count": 549,
   "metadata": {},
   "outputs": [
    {
     "data": {
      "text/html": [
       "<div>\n",
       "<style scoped>\n",
       "    .dataframe tbody tr th:only-of-type {\n",
       "        vertical-align: middle;\n",
       "    }\n",
       "\n",
       "    .dataframe tbody tr th {\n",
       "        vertical-align: top;\n",
       "    }\n",
       "\n",
       "    .dataframe thead th {\n",
       "        text-align: right;\n",
       "    }\n",
       "</style>\n",
       "<table border=\"1\" class=\"dataframe\">\n",
       "  <thead>\n",
       "    <tr style=\"text-align: right;\">\n",
       "      <th></th>\n",
       "      <th>cap_hit</th>\n",
       "      <th>length</th>\n",
       "      <th>total_value</th>\n",
       "      <th>signing_year</th>\n",
       "      <th>signing_age</th>\n",
       "      <th>signing_year_cap</th>\n",
       "      <th>cap_pct</th>\n",
       "      <th>signing_status</th>\n",
       "      <th>GP</th>\n",
       "      <th>TOI</th>\n",
       "      <th>...</th>\n",
       "      <th>Shots/60</th>\n",
       "      <th>mean Shots/60</th>\n",
       "      <th>Hits/60</th>\n",
       "      <th>mean Hits/60</th>\n",
       "      <th>PIM/60</th>\n",
       "      <th>mean PIM/60</th>\n",
       "      <th>Penalties Drawn/60</th>\n",
       "      <th>mean Penalties Drawn/60</th>\n",
       "      <th>mean Faceoffs pct</th>\n",
       "      <th>cluster</th>\n",
       "    </tr>\n",
       "    <tr>\n",
       "      <th>Season_Player</th>\n",
       "      <th></th>\n",
       "      <th></th>\n",
       "      <th></th>\n",
       "      <th></th>\n",
       "      <th></th>\n",
       "      <th></th>\n",
       "      <th></th>\n",
       "      <th></th>\n",
       "      <th></th>\n",
       "      <th></th>\n",
       "      <th></th>\n",
       "      <th></th>\n",
       "      <th></th>\n",
       "      <th></th>\n",
       "      <th></th>\n",
       "      <th></th>\n",
       "      <th></th>\n",
       "      <th></th>\n",
       "      <th></th>\n",
       "      <th></th>\n",
       "      <th></th>\n",
       "    </tr>\n",
       "  </thead>\n",
       "  <tbody>\n",
       "    <tr>\n",
       "      <th>2015 Jason Chimera</th>\n",
       "      <td>2250000</td>\n",
       "      <td>2</td>\n",
       "      <td>4500000</td>\n",
       "      <td>2016</td>\n",
       "      <td>37.0</td>\n",
       "      <td>73000000</td>\n",
       "      <td>3.08</td>\n",
       "      <td>1</td>\n",
       "      <td>82.0</td>\n",
       "      <td>1152.150</td>\n",
       "      <td>...</td>\n",
       "      <td>8.592631</td>\n",
       "      <td>7.525010</td>\n",
       "      <td>5.363885</td>\n",
       "      <td>6.593175</td>\n",
       "      <td>1.145684</td>\n",
       "      <td>1.916416</td>\n",
       "      <td>0.624919</td>\n",
       "      <td>0.843926</td>\n",
       "      <td>0.872549</td>\n",
       "      <td>3</td>\n",
       "    </tr>\n",
       "    <tr>\n",
       "      <th>2014 Matt Cullen</th>\n",
       "      <td>800000</td>\n",
       "      <td>1</td>\n",
       "      <td>800000</td>\n",
       "      <td>2015</td>\n",
       "      <td>38.0</td>\n",
       "      <td>71400000</td>\n",
       "      <td>1.12</td>\n",
       "      <td>1</td>\n",
       "      <td>62.0</td>\n",
       "      <td>806.817</td>\n",
       "      <td>...</td>\n",
       "      <td>6.692968</td>\n",
       "      <td>6.815549</td>\n",
       "      <td>0.743663</td>\n",
       "      <td>1.034704</td>\n",
       "      <td>1.189861</td>\n",
       "      <td>1.304627</td>\n",
       "      <td>0.594930</td>\n",
       "      <td>0.629820</td>\n",
       "      <td>1.252616</td>\n",
       "      <td>3</td>\n",
       "    </tr>\n",
       "    <tr>\n",
       "      <th>2015 Matt Cullen</th>\n",
       "      <td>1000000</td>\n",
       "      <td>1</td>\n",
       "      <td>1000000</td>\n",
       "      <td>2016</td>\n",
       "      <td>39.0</td>\n",
       "      <td>73000000</td>\n",
       "      <td>1.37</td>\n",
       "      <td>1</td>\n",
       "      <td>82.0</td>\n",
       "      <td>1138.180</td>\n",
       "      <td>...</td>\n",
       "      <td>6.220457</td>\n",
       "      <td>6.538828</td>\n",
       "      <td>2.108630</td>\n",
       "      <td>1.300118</td>\n",
       "      <td>1.054315</td>\n",
       "      <td>1.300118</td>\n",
       "      <td>0.790736</td>\n",
       "      <td>0.669178</td>\n",
       "      <td>1.266164</td>\n",
       "      <td>1</td>\n",
       "    </tr>\n",
       "    <tr>\n",
       "      <th>2016 Matt Cullen</th>\n",
       "      <td>1000000</td>\n",
       "      <td>1</td>\n",
       "      <td>1700000</td>\n",
       "      <td>2017</td>\n",
       "      <td>40.0</td>\n",
       "      <td>75000000</td>\n",
       "      <td>1.33</td>\n",
       "      <td>1</td>\n",
       "      <td>72.0</td>\n",
       "      <td>1002.130</td>\n",
       "      <td>...</td>\n",
       "      <td>5.687885</td>\n",
       "      <td>6.168720</td>\n",
       "      <td>2.155409</td>\n",
       "      <td>1.750858</td>\n",
       "      <td>1.796174</td>\n",
       "      <td>1.343681</td>\n",
       "      <td>0.898087</td>\n",
       "      <td>0.773635</td>\n",
       "      <td>1.161895</td>\n",
       "      <td>1</td>\n",
       "    </tr>\n",
       "    <tr>\n",
       "      <th>2017 Matt Cullen</th>\n",
       "      <td>650000</td>\n",
       "      <td>1</td>\n",
       "      <td>650000</td>\n",
       "      <td>2018</td>\n",
       "      <td>41.0</td>\n",
       "      <td>79500000</td>\n",
       "      <td>0.82</td>\n",
       "      <td>1</td>\n",
       "      <td>79.0</td>\n",
       "      <td>939.483</td>\n",
       "      <td>...</td>\n",
       "      <td>6.641951</td>\n",
       "      <td>6.175740</td>\n",
       "      <td>0.894109</td>\n",
       "      <td>1.753365</td>\n",
       "      <td>1.277298</td>\n",
       "      <td>1.363728</td>\n",
       "      <td>0.638649</td>\n",
       "      <td>0.779273</td>\n",
       "      <td>1.118603</td>\n",
       "      <td>1</td>\n",
       "    </tr>\n",
       "  </tbody>\n",
       "</table>\n",
       "<p>5 rows × 205 columns</p>\n",
       "</div>"
      ],
      "text/plain": [
       "                    cap_hit  length  total_value  signing_year  signing_age  \\\n",
       "Season_Player                                                                 \n",
       "2015 Jason Chimera  2250000       2      4500000          2016         37.0   \n",
       "2014 Matt Cullen     800000       1       800000          2015         38.0   \n",
       "2015 Matt Cullen    1000000       1      1000000          2016         39.0   \n",
       "2016 Matt Cullen    1000000       1      1700000          2017         40.0   \n",
       "2017 Matt Cullen     650000       1       650000          2018         41.0   \n",
       "\n",
       "                    signing_year_cap  cap_pct  signing_status    GP       TOI  \\\n",
       "Season_Player                                                                   \n",
       "2015 Jason Chimera          73000000     3.08               1  82.0  1152.150   \n",
       "2014 Matt Cullen            71400000     1.12               1  62.0   806.817   \n",
       "2015 Matt Cullen            73000000     1.37               1  82.0  1138.180   \n",
       "2016 Matt Cullen            75000000     1.33               1  72.0  1002.130   \n",
       "2017 Matt Cullen            79500000     0.82               1  79.0   939.483   \n",
       "\n",
       "                     ...     Shots/60  mean Shots/60   Hits/60  mean Hits/60  \\\n",
       "Season_Player        ...                                                       \n",
       "2015 Jason Chimera   ...     8.592631       7.525010  5.363885      6.593175   \n",
       "2014 Matt Cullen     ...     6.692968       6.815549  0.743663      1.034704   \n",
       "2015 Matt Cullen     ...     6.220457       6.538828  2.108630      1.300118   \n",
       "2016 Matt Cullen     ...     5.687885       6.168720  2.155409      1.750858   \n",
       "2017 Matt Cullen     ...     6.641951       6.175740  0.894109      1.753365   \n",
       "\n",
       "                      PIM/60  mean PIM/60  Penalties Drawn/60  \\\n",
       "Season_Player                                                   \n",
       "2015 Jason Chimera  1.145684     1.916416            0.624919   \n",
       "2014 Matt Cullen    1.189861     1.304627            0.594930   \n",
       "2015 Matt Cullen    1.054315     1.300118            0.790736   \n",
       "2016 Matt Cullen    1.796174     1.343681            0.898087   \n",
       "2017 Matt Cullen    1.277298     1.363728            0.638649   \n",
       "\n",
       "                    mean Penalties Drawn/60  mean Faceoffs pct  cluster  \n",
       "Season_Player                                                            \n",
       "2015 Jason Chimera                 0.843926           0.872549        3  \n",
       "2014 Matt Cullen                   0.629820           1.252616        3  \n",
       "2015 Matt Cullen                   0.669178           1.266164        1  \n",
       "2016 Matt Cullen                   0.773635           1.161895        1  \n",
       "2017 Matt Cullen                   0.779273           1.118603        1  \n",
       "\n",
       "[5 rows x 205 columns]"
      ]
     },
     "execution_count": 549,
     "metadata": {},
     "output_type": "execute_result"
    }
   ],
   "source": [
    "forwards.head()"
   ]
  },
  {
   "cell_type": "code",
   "execution_count": null,
   "metadata": {},
   "outputs": [],
   "source": []
  },
  {
   "cell_type": "code",
   "execution_count": null,
   "metadata": {},
   "outputs": [],
   "source": []
  },
  {
   "cell_type": "code",
   "execution_count": null,
   "metadata": {},
   "outputs": [],
   "source": []
  },
  {
   "cell_type": "code",
   "execution_count": null,
   "metadata": {},
   "outputs": [],
   "source": []
  },
  {
   "cell_type": "code",
   "execution_count": null,
   "metadata": {},
   "outputs": [],
   "source": []
  },
  {
   "cell_type": "code",
   "execution_count": null,
   "metadata": {},
   "outputs": [],
   "source": []
  },
  {
   "cell_type": "code",
   "execution_count": null,
   "metadata": {},
   "outputs": [],
   "source": []
  },
  {
   "cell_type": "code",
   "execution_count": 546,
   "metadata": {},
   "outputs": [],
   "source": [
    "#forward clustering\n",
    "Xf = forwards[['mean Total Points/60', '3yr Off. Zone Start %', 'TOI/GP']]\n",
    "yf = forwards[['length', 'cap_hit', 'cap_pct', 'signing_year']]\n",
    "\n",
    "ss = StandardScaler()\n",
    "Xfs = ss.fit_transform(Xf)\n",
    "pca = PCA(n_components = 3).fit(Xfs)\n",
    "reduced = np.dot(Xfs, pca.components_.T)\n",
    "\n",
    "fkm = KMeans(n_clusters = 4)\n",
    "fclus = fkm.fit_transform(reduced)\n",
    "Xf['cluster'] = fkm.labels_\n",
    "forwards['cluster'] = fkm.labels_\n",
    "\n",
    "fclusts = []\n",
    "fcmeans = []\n",
    "for i in range(fkm.n_clusters):\n",
    "    fclusts.append(Xf[fkm.labels_ == i].drop('cluster', axis=1))\n",
    "    fcmeans.append(fclusts[i].mean(axis=0))"
   ]
  },
  {
   "cell_type": "code",
   "execution_count": 547,
   "metadata": {},
   "outputs": [
    {
     "data": {
      "image/png": "[encoded data removed]",
      "text/plain": [
       "<Figure size 720x432 with 1 Axes>"
      ]
     },
     "metadata": {},
     "output_type": "display_data"
    }
   ],
   "source": [
    "#plot forward clusters\n",
    "w = 0.22\n",
    "idx = fcmeans[0].index\n",
    "\n",
    "xx = np.arange(len(idx))\n",
    "\n",
    "fig = plt.figure(figsize=(10,6))\n",
    "ax = fig.add_subplot(111)\n",
    "\n",
    "#for i in fcmeans:\n",
    "ax.bar(x = xx - 2*w, height = fcmeans[0], width = w, label = 'Cluster 0')\n",
    "ax.bar(x = xx - w, height = fcmeans[1], width = w, label = 'Cluster 1')\n",
    "ax.bar(x = xx, height = fcmeans[2], width = w, label = 'Cluster 2')\n",
    "ax.bar(x = xx + w, height = fcmeans[3], width = w, label = 'Cluster 3')\n",
    "\n",
    "ax.set_xticks(xx + w/3)\n",
    "ax.set_xticklabels(idx, rotation = 60)\n",
    "\n",
    "\n",
    "ax.legend()\n",
    "\n",
    "ax.set_title('Mean stats of forward clusters')\n",
    "plt.show()"
   ]
  },
  {
   "cell_type": "code",
   "execution_count": 548,
   "metadata": {},
   "outputs": [
    {
     "data": {
      "image/png": "[encoded data removed]",
      "text/plain": [
       "<Figure size 432x288 with 1 Axes>"
      ]
     },
     "metadata": {},
     "output_type": "display_data"
    }
   ],
   "source": [
    "xax = '3yr Off. Zone Start %'\n",
    "yax = 'TOI/GP'\n",
    "zax = 'mean Total Points/60'\n",
    "a=0.4\n",
    "\n",
    "fig = plt.figure()\n",
    "ax = fig.add_subplot(111, projection = '3d')\n",
    "\n",
    "ax.scatter(forwards[forwards.cluster == 0][xax], \n",
    "            forwards[forwards.cluster == 0][yax], \n",
    "           zs = forwards[forwards.cluster == 0][zax], \n",
    "          color = 'b', label = 'FC_0', alpha=a)\n",
    "ax.scatter(forwards[forwards.cluster == 1][xax], \n",
    "            forwards[forwards.cluster == 1][yax], \n",
    "           zs = forwards[forwards.cluster == 1][zax], \n",
    "          color = 'orange', label = 'FC_1', alpha=a)\n",
    "ax.scatter(forwards[forwards.cluster == 2][xax], \n",
    "            forwards[forwards.cluster == 2][yax], \n",
    "           zs = forwards[forwards.cluster == 2][zax], \n",
    "          color = 'g', label = 'FC_2', alpha=a)\n",
    "ax.scatter(forwards[forwards.cluster == 3][xax], \n",
    "            forwards[forwards.cluster == 3][yax], \n",
    "           zs = forwards[forwards.cluster == 3][zax], \n",
    "          color = 'r', label = 'FC_3', alpha=a)\n",
    "\n",
    "ax.set_xlabel(xax)\n",
    "ax.set_ylabel(yax)\n",
    "ax.set_zlabel(zax)\n",
    "ax.set_title('Forward clusters')\n",
    "\n",
    "plt.legend()\n",
    "plt.show()"
   ]
  },
  {
   "cell_type": "code",
   "execution_count": null,
   "metadata": {},
   "outputs": [],
   "source": [
    "X2 = ss.fit_transform(X)\n",
    "\n",
    "pca = PCA(n_components = 3).fit(X2)\n",
    "reduced = np.dot(X2, pca.components_.T)\n",
    "\n",
    "KMeans().fit(reduced)"
   ]
  }
 ],
 "metadata": {
  "kernelspec": {
   "display_name": "Python 3",
   "language": "python",
   "name": "python3"
  },
  "language_info": {
   "codemirror_mode": {
    "name": "ipython",
    "version": 3
   },
   "file_extension": ".py",
   "mimetype": "text/x-python",
   "name": "python",
   "nbconvert_exporter": "python",
   "pygments_lexer": "ipython3",
   "version": "3.6.5"
  }
 },
 "nbformat": 4,
 "nbformat_minor": 2
}
