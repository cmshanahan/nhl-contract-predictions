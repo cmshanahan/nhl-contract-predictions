{
 "cells": [
  {
   "cell_type": "code",
   "execution_count": 1,
   "metadata": {},
   "outputs": [],
   "source": [
    "import numpy as np\n",
    "import pandas as pd\n",
    "import matplotlib.pyplot as plt\n",
    "import seaborn as sns\n",
    "\n",
    "%matplotlib inline"
   ]
  },
  {
   "cell_type": "code",
   "execution_count": 59,
   "metadata": {},
   "outputs": [],
   "source": [
    "from sklearn.cluster import KMeans\n",
    "from collections import defaultdict\n",
    "from sklearn.model_selection import train_test_split\n",
    "from sklearn.linear_model import LinearRegression\n",
    "from sklearn.neighbors import KNeighborsRegressor, RadiusNeighborsRegressor\n",
    "from sklearn.ensemble import RandomForestRegressor, GradientBoostingRegressor, AdaBoostRegressor\n",
    "import statsmodels.api as sm\n",
    "from sklearn.preprocessing import StandardScaler\n",
    "from scipy.spatial.distance import euclidean, cosine\n",
    "from collections import defaultdict\n",
    "import random"
   ]
  },
  {
   "cell_type": "code",
   "execution_count": 3,
   "metadata": {},
   "outputs": [],
   "source": [
    "import os\n",
    "import sys\n",
    "\n",
    "module_path = os.path.abspath(os.path.join('..'))\n",
    "if module_path not in sys.path:\n",
    "    sys.path.append(module_path)"
   ]
  },
  {
   "cell_type": "code",
   "execution_count": 4,
   "metadata": {},
   "outputs": [],
   "source": [
    "from importlib import reload\n",
    "from data_cleaning import data_cleaning as dc\n",
    "from models import clustering as cl"
   ]
  },
  {
   "cell_type": "code",
   "execution_count": 60,
   "metadata": {},
   "outputs": [],
   "source": [
    "def rmse(yhat, y):\n",
    "    ''' Return root mean squared error of a set of predictions '''\n",
    "    return np.sqrt(((yhat - y)**2).mean())"
   ]
  },
  {
   "cell_type": "code",
   "execution_count": 8,
   "metadata": {},
   "outputs": [],
   "source": [
    "contracts = dc.clean_contracts_data()"
   ]
  },
  {
   "cell_type": "code",
   "execution_count": 9,
   "metadata": {},
   "outputs": [
    {
     "data": {
      "text/plain": [
       "(1762, 28)"
      ]
     },
     "execution_count": 9,
     "metadata": {},
     "output_type": "execute_result"
    }
   ],
   "source": [
    "contracts.shape"
   ]
  },
  {
   "cell_type": "code",
   "execution_count": 10,
   "metadata": {},
   "outputs": [],
   "source": [
    "df = pd.read_csv('../data/thur_data.csv')"
   ]
  },
  {
   "cell_type": "code",
   "execution_count": 11,
   "metadata": {},
   "outputs": [
    {
     "data": {
      "text/plain": [
       "(1170, 209)"
      ]
     },
     "execution_count": 11,
     "metadata": {},
     "output_type": "execute_result"
    }
   ],
   "source": [
    "df.shape"
   ]
  },
  {
   "cell_type": "code",
   "execution_count": 12,
   "metadata": {},
   "outputs": [],
   "source": [
    "df.drop('Position', axis=1, inplace=True)\n",
    "df.set_index(df['Season_Player'], inplace=True)"
   ]
  },
  {
   "cell_type": "code",
   "execution_count": 15,
   "metadata": {},
   "outputs": [],
   "source": [
    "#extra feature engineering\n",
    "df['Giveaways/60'] = (df['Giveaways'] / df['TOI']) * 60\n",
    "df['mean Giveaways/60'] = (df['sum Giveaways'] / df['sum TOI']) * 60\n",
    "df['Takeaways/60'] = (df['Takeaways'] / df['TOI']) * 60\n",
    "df['mean Takeaways/60'] = (df['sum Takeaways'] / df['sum TOI']) * 60\n",
    "df['Shots Blocked/60'] = (df['Shots Blocked']/df['TOI']) * 60\n",
    "df['mean Shots Blocked/60'] = (df['sum Shots Blocked'] / df['sum TOI']) * 60\n",
    "df['mean Total Points/60'] = (df['sum Total Points']/df['sum TOI']) * 60\n",
    "df['Total Points/60'] = (df['Total Points']/df['TOI']) * 60\n",
    "df['Goals/60'] = (df['Goals']/df['TOI']) * 60\n",
    "df['mean Goals/60'] = (df['sum Goals']/df['sum TOI']) * 60\n",
    "df['Shots/60'] = (df['Shots']/df['TOI']) * 60\n",
    "df['mean Shots/60'] = (df['sum Shots']/df['sum TOI']) * 60\n",
    "df['Hits/60'] = (df['Hits']/df['TOI']) * 60\n",
    "df['mean Hits/60'] = (df['sum Hits']/df['sum TOI']) * 60\n",
    "df['PIM/60'] = (df['PIM']/df['TOI']) * 60\n",
    "df['mean PIM/60'] = (df['sum PIM']/df['sum TOI']) * 60\n",
    "df['Penalties Drawn/60'] = (df['Penalties Drawn']/df['TOI']) * 60\n",
    "df['mean Penalties Drawn/60'] = (df['sum Penalties Drawn']/df['sum TOI']) * 60\n",
    "df['mean Faceoffs pct'] = (df['sum Faceoffs Won'] / df['sum Faceoffs Lost'])"
   ]
  },
  {
   "cell_type": "code",
   "execution_count": 16,
   "metadata": {},
   "outputs": [
    {
     "data": {
      "text/plain": [
       "(1170, 227)"
      ]
     },
     "execution_count": 16,
     "metadata": {},
     "output_type": "execute_result"
    }
   ],
   "source": [
    "df.shape"
   ]
  },
  {
   "cell_type": "code",
   "execution_count": 43,
   "metadata": {},
   "outputs": [],
   "source": [
    "to_save = df.drop(['player_id', 'first_name', 'last_name', 'birthdate', 'team_id', \n",
    "                 'team_name', 'active', 'signing_date', 'signing_team', 'contract_level', \n",
    "                   'contract_type', 'contract_end', 'ufa_year', '3yr Season_Player', \n",
    "                   'skater', 'forward', 'expiry_status', 'season', 'year_match'\n",
    "], axis = 1)"
   ]
  },
  {
   "cell_type": "code",
   "execution_count": 44,
   "metadata": {},
   "outputs": [
    {
     "data": {
      "text/plain": [
       "(1170, 208)"
      ]
     },
     "execution_count": 44,
     "metadata": {},
     "output_type": "execute_result"
    }
   ],
   "source": [
    "to_save.shape"
   ]
  },
  {
   "cell_type": "code",
   "execution_count": 78,
   "metadata": {},
   "outputs": [],
   "source": [
    "to_save.rename({'3yr Off.\\xa0Zone Starts/60': '3yr Off. Zone Starts/60',\n",
    " '3yr Neu.\\xa0Zone Starts/60': '3yr Neu. Zone Starts/60',\n",
    " '3yr Def.\\xa0Zone Starts/60': '3yr Def. Zone Starts/60',\n",
    " '3yr On\\xa0The\\xa0Fly Starts/60': '3yr On The Fly Starts/60',\n",
    " '3yr Off.\\xa0Zone Start %': '3yr Off. Zone Start %',\n",
    " '3yr Off.\\xa0Zone Faceoffs/60': '3yr Off. Zone Faceoffs/60',\n",
    " '3yr Neu.\\xa0Zone Faceoffs/60': '3yr Neu. Zone Faceoffs/60',\n",
    " '3yr Def.\\xa0Zone Faceoffs/60': '3yr Def. Zone Faceoffs/60',\n",
    " '3yr Off.\\xa0Zone Faceoff %': '3yr Off. Zone Faceoff %'}, axis = 1, inplace=True)"
   ]
  },
  {
   "cell_type": "code",
   "execution_count": 79,
   "metadata": {},
   "outputs": [],
   "source": [
    "to_save.to_csv('../data/data_for_model.csv')"
   ]
  },
  {
   "cell_type": "code",
   "execution_count": 80,
   "metadata": {},
   "outputs": [],
   "source": [
    "test = pd.read_csv('../data/data_for_model.csv', index_col='Season_Player')"
   ]
  },
  {
   "cell_type": "code",
   "execution_count": 81,
   "metadata": {},
   "outputs": [
    {
     "data": {
      "text/html": [
       "<div>\n",
       "<style scoped>\n",
       "    .dataframe tbody tr th:only-of-type {\n",
       "        vertical-align: middle;\n",
       "    }\n",
       "\n",
       "    .dataframe tbody tr th {\n",
       "        vertical-align: top;\n",
       "    }\n",
       "\n",
       "    .dataframe thead th {\n",
       "        text-align: right;\n",
       "    }\n",
       "</style>\n",
       "<table border=\"1\" class=\"dataframe\">\n",
       "  <thead>\n",
       "    <tr style=\"text-align: right;\">\n",
       "      <th></th>\n",
       "      <th>position</th>\n",
       "      <th>cap_hit</th>\n",
       "      <th>length</th>\n",
       "      <th>total_value</th>\n",
       "      <th>Player</th>\n",
       "      <th>signing_year</th>\n",
       "      <th>signing_age</th>\n",
       "      <th>signing_year_cap</th>\n",
       "      <th>cap_pct</th>\n",
       "      <th>signing_status</th>\n",
       "      <th>...</th>\n",
       "      <th>mean Goals/60</th>\n",
       "      <th>Shots/60</th>\n",
       "      <th>mean Shots/60</th>\n",
       "      <th>Hits/60</th>\n",
       "      <th>mean Hits/60</th>\n",
       "      <th>PIM/60</th>\n",
       "      <th>mean PIM/60</th>\n",
       "      <th>Penalties Drawn/60</th>\n",
       "      <th>mean Penalties Drawn/60</th>\n",
       "      <th>mean Faceoffs pct</th>\n",
       "    </tr>\n",
       "    <tr>\n",
       "      <th>Season_Player</th>\n",
       "      <th></th>\n",
       "      <th></th>\n",
       "      <th></th>\n",
       "      <th></th>\n",
       "      <th></th>\n",
       "      <th></th>\n",
       "      <th></th>\n",
       "      <th></th>\n",
       "      <th></th>\n",
       "      <th></th>\n",
       "      <th></th>\n",
       "      <th></th>\n",
       "      <th></th>\n",
       "      <th></th>\n",
       "      <th></th>\n",
       "      <th></th>\n",
       "      <th></th>\n",
       "      <th></th>\n",
       "      <th></th>\n",
       "      <th></th>\n",
       "      <th></th>\n",
       "    </tr>\n",
       "  </thead>\n",
       "  <tbody>\n",
       "    <tr>\n",
       "      <th>2014 Francois Beauchemin</th>\n",
       "      <td>Defense</td>\n",
       "      <td>4500000</td>\n",
       "      <td>3</td>\n",
       "      <td>13500000</td>\n",
       "      <td>Francois Beauchemin</td>\n",
       "      <td>2015</td>\n",
       "      <td>35.0</td>\n",
       "      <td>71400000</td>\n",
       "      <td>6.30</td>\n",
       "      <td>UFA</td>\n",
       "      <td>...</td>\n",
       "      <td>0.300126</td>\n",
       "      <td>4.535147</td>\n",
       "      <td>4.058853</td>\n",
       "      <td>4.329004</td>\n",
       "      <td>4.258938</td>\n",
       "      <td>1.978973</td>\n",
       "      <td>1.529216</td>\n",
       "      <td>0.206143</td>\n",
       "      <td>0.271543</td>\n",
       "      <td>inf</td>\n",
       "    </tr>\n",
       "    <tr>\n",
       "      <th>2016 Francois Beauchemin</th>\n",
       "      <td>Defense</td>\n",
       "      <td>1000000</td>\n",
       "      <td>1</td>\n",
       "      <td>1700000</td>\n",
       "      <td>Francois Beauchemin</td>\n",
       "      <td>2017</td>\n",
       "      <td>37.0</td>\n",
       "      <td>75000000</td>\n",
       "      <td>1.33</td>\n",
       "      <td>UFA</td>\n",
       "      <td>...</td>\n",
       "      <td>0.274045</td>\n",
       "      <td>4.544490</td>\n",
       "      <td>4.213435</td>\n",
       "      <td>2.513240</td>\n",
       "      <td>2.923142</td>\n",
       "      <td>1.101694</td>\n",
       "      <td>1.347386</td>\n",
       "      <td>0.240996</td>\n",
       "      <td>0.228370</td>\n",
       "      <td>inf</td>\n",
       "    </tr>\n",
       "    <tr>\n",
       "      <th>2015 Brent Burns</th>\n",
       "      <td>Defense</td>\n",
       "      <td>8000000</td>\n",
       "      <td>8</td>\n",
       "      <td>64000000</td>\n",
       "      <td>Brent Burns</td>\n",
       "      <td>2016</td>\n",
       "      <td>31.0</td>\n",
       "      <td>73000000</td>\n",
       "      <td>10.96</td>\n",
       "      <td>UFA</td>\n",
       "      <td>...</td>\n",
       "      <td>0.754954</td>\n",
       "      <td>9.986562</td>\n",
       "      <td>9.642827</td>\n",
       "      <td>2.857345</td>\n",
       "      <td>4.506849</td>\n",
       "      <td>1.499399</td>\n",
       "      <td>1.738683</td>\n",
       "      <td>0.480939</td>\n",
       "      <td>0.571935</td>\n",
       "      <td>0.885714</td>\n",
       "    </tr>\n",
       "    <tr>\n",
       "      <th>2017 Zdeno Chara</th>\n",
       "      <td>Defense</td>\n",
       "      <td>5000000</td>\n",
       "      <td>1</td>\n",
       "      <td>5000000</td>\n",
       "      <td>Zdeno Chara</td>\n",
       "      <td>2018</td>\n",
       "      <td>41.0</td>\n",
       "      <td>79500000</td>\n",
       "      <td>6.29</td>\n",
       "      <td>UFA</td>\n",
       "      <td>...</td>\n",
       "      <td>0.291608</td>\n",
       "      <td>5.167619</td>\n",
       "      <td>4.912471</td>\n",
       "      <td>5.059960</td>\n",
       "      <td>4.542353</td>\n",
       "      <td>2.153174</td>\n",
       "      <td>2.130981</td>\n",
       "      <td>0.502407</td>\n",
       "      <td>0.616863</td>\n",
       "      <td>0.000000</td>\n",
       "    </tr>\n",
       "    <tr>\n",
       "      <th>2015 Jason Chimera</th>\n",
       "      <td>Left Wing</td>\n",
       "      <td>2250000</td>\n",
       "      <td>2</td>\n",
       "      <td>4500000</td>\n",
       "      <td>Jason Chimera</td>\n",
       "      <td>2016</td>\n",
       "      <td>37.0</td>\n",
       "      <td>73000000</td>\n",
       "      <td>3.08</td>\n",
       "      <td>UFA</td>\n",
       "      <td>...</td>\n",
       "      <td>0.738436</td>\n",
       "      <td>8.592631</td>\n",
       "      <td>7.525010</td>\n",
       "      <td>5.363885</td>\n",
       "      <td>6.593175</td>\n",
       "      <td>1.145684</td>\n",
       "      <td>1.916416</td>\n",
       "      <td>0.624919</td>\n",
       "      <td>0.843926</td>\n",
       "      <td>0.872549</td>\n",
       "    </tr>\n",
       "  </tbody>\n",
       "</table>\n",
       "<p>5 rows × 208 columns</p>\n",
       "</div>"
      ],
      "text/plain": [
       "                           position  cap_hit  length  total_value  \\\n",
       "Season_Player                                                       \n",
       "2014 Francois Beauchemin    Defense  4500000       3     13500000   \n",
       "2016 Francois Beauchemin    Defense  1000000       1      1700000   \n",
       "2015 Brent Burns            Defense  8000000       8     64000000   \n",
       "2017 Zdeno Chara            Defense  5000000       1      5000000   \n",
       "2015 Jason Chimera        Left Wing  2250000       2      4500000   \n",
       "\n",
       "                                       Player  signing_year  signing_age  \\\n",
       "Season_Player                                                              \n",
       "2014 Francois Beauchemin  Francois Beauchemin          2015         35.0   \n",
       "2016 Francois Beauchemin  Francois Beauchemin          2017         37.0   \n",
       "2015 Brent Burns                  Brent Burns          2016         31.0   \n",
       "2017 Zdeno Chara                  Zdeno Chara          2018         41.0   \n",
       "2015 Jason Chimera              Jason Chimera          2016         37.0   \n",
       "\n",
       "                          signing_year_cap  cap_pct signing_status  \\\n",
       "Season_Player                                                        \n",
       "2014 Francois Beauchemin          71400000     6.30            UFA   \n",
       "2016 Francois Beauchemin          75000000     1.33            UFA   \n",
       "2015 Brent Burns                  73000000    10.96            UFA   \n",
       "2017 Zdeno Chara                  79500000     6.29            UFA   \n",
       "2015 Jason Chimera                73000000     3.08            UFA   \n",
       "\n",
       "                                ...         mean Goals/60  Shots/60  \\\n",
       "Season_Player                   ...                                   \n",
       "2014 Francois Beauchemin        ...              0.300126  4.535147   \n",
       "2016 Francois Beauchemin        ...              0.274045  4.544490   \n",
       "2015 Brent Burns                ...              0.754954  9.986562   \n",
       "2017 Zdeno Chara                ...              0.291608  5.167619   \n",
       "2015 Jason Chimera              ...              0.738436  8.592631   \n",
       "\n",
       "                          mean Shots/60   Hits/60  mean Hits/60    PIM/60  \\\n",
       "Season_Player                                                               \n",
       "2014 Francois Beauchemin       4.058853  4.329004      4.258938  1.978973   \n",
       "2016 Francois Beauchemin       4.213435  2.513240      2.923142  1.101694   \n",
       "2015 Brent Burns               9.642827  2.857345      4.506849  1.499399   \n",
       "2017 Zdeno Chara               4.912471  5.059960      4.542353  2.153174   \n",
       "2015 Jason Chimera             7.525010  5.363885      6.593175  1.145684   \n",
       "\n",
       "                          mean PIM/60  Penalties Drawn/60  \\\n",
       "Season_Player                                               \n",
       "2014 Francois Beauchemin     1.529216            0.206143   \n",
       "2016 Francois Beauchemin     1.347386            0.240996   \n",
       "2015 Brent Burns             1.738683            0.480939   \n",
       "2017 Zdeno Chara             2.130981            0.502407   \n",
       "2015 Jason Chimera           1.916416            0.624919   \n",
       "\n",
       "                          mean Penalties Drawn/60  mean Faceoffs pct  \n",
       "Season_Player                                                         \n",
       "2014 Francois Beauchemin                 0.271543                inf  \n",
       "2016 Francois Beauchemin                 0.228370                inf  \n",
       "2015 Brent Burns                         0.571935           0.885714  \n",
       "2017 Zdeno Chara                         0.616863           0.000000  \n",
       "2015 Jason Chimera                       0.843926           0.872549  \n",
       "\n",
       "[5 rows x 208 columns]"
      ]
     },
     "execution_count": 81,
     "metadata": {},
     "output_type": "execute_result"
    }
   ],
   "source": [
    "test.head()"
   ]
  },
  {
   "cell_type": "code",
   "execution_count": 82,
   "metadata": {},
   "outputs": [],
   "source": [
    "df = test.drop([\n",
    "    'Player', 'Season_Player.1'\n",
    "], axis=1)"
   ]
  },
  {
   "cell_type": "code",
   "execution_count": 83,
   "metadata": {},
   "outputs": [
    {
     "data": {
      "text/plain": [
       "(1170, 206)"
      ]
     },
     "execution_count": 83,
     "metadata": {},
     "output_type": "execute_result"
    }
   ],
   "source": [
    "df.shape"
   ]
  },
  {
   "cell_type": "code",
   "execution_count": 84,
   "metadata": {},
   "outputs": [
    {
     "data": {
      "text/plain": [
       "Index(['position', 'cap_hit', 'length', 'total_value', 'signing_year',\n",
       "       'signing_age', 'signing_year_cap', 'cap_pct', 'signing_status',\n",
       "       'Season', 'GP', 'TOI', 'Goals', 'Total Assists', 'First Assists',\n",
       "       'Second Assists', 'Total Points', 'Shots', 'iCF', 'iFF'],\n",
       "      dtype='object')"
      ]
     },
     "execution_count": 84,
     "metadata": {},
     "output_type": "execute_result"
    }
   ],
   "source": [
    "df.columns[:20]"
   ]
  },
  {
   "cell_type": "code",
   "execution_count": 85,
   "metadata": {},
   "outputs": [],
   "source": [
    "#specify target column labels\n",
    "target_labels = [\n",
    "    'cap_hit', 'cap_pct', 'length', 'total_value'\n",
    "]"
   ]
  },
  {
   "cell_type": "code",
   "execution_count": 86,
   "metadata": {},
   "outputs": [
    {
     "data": {
      "text/plain": [
       "((762, 206), (408, 206))"
      ]
     },
     "execution_count": 86,
     "metadata": {},
     "output_type": "execute_result"
    }
   ],
   "source": [
    "#split into forwards and defense\n",
    "forwards = df[df.position != 'Defense']\n",
    "defense = df[df.position == 'Defense']\n",
    "forwards.shape, defense.shape"
   ]
  },
  {
   "cell_type": "code",
   "execution_count": 87,
   "metadata": {},
   "outputs": [
    {
     "name": "stderr",
     "output_type": "stream",
     "text": [
      "/Users/colinshanahan/anaconda3/lib/python3.6/site-packages/pandas/core/frame.py:3694: SettingWithCopyWarning: \n",
      "A value is trying to be set on a copy of a slice from a DataFrame\n",
      "\n",
      "See the caveats in the documentation: http://pandas.pydata.org/pandas-docs/stable/indexing.html#indexing-view-versus-copy\n",
      "  errors=errors)\n"
     ]
    }
   ],
   "source": [
    "#drop columns that aren't targets or potential features\n",
    "forwards.drop(['position', 'Season'], axis=1, inplace=True)\n",
    "defense.drop(['position', 'Season'], axis=1, inplace=True)"
   ]
  },
  {
   "cell_type": "code",
   "execution_count": 111,
   "metadata": {},
   "outputs": [
    {
     "name": "stderr",
     "output_type": "stream",
     "text": [
      "/Users/colinshanahan/anaconda3/lib/python3.6/site-packages/ipykernel_launcher.py:11: SettingWithCopyWarning: \n",
      "A value is trying to be set on a copy of a slice from a DataFrame.\n",
      "Try using .loc[row_indexer,col_indexer] = value instead\n",
      "\n",
      "See the caveats in the documentation: http://pandas.pydata.org/pandas-docs/stable/indexing.html#indexing-view-versus-copy\n",
      "  # This is added back by InteractiveShellApp.init_path()\n",
      "/Users/colinshanahan/anaconda3/lib/python3.6/site-packages/ipykernel_launcher.py:12: SettingWithCopyWarning: \n",
      "A value is trying to be set on a copy of a slice from a DataFrame.\n",
      "Try using .loc[row_indexer,col_indexer] = value instead\n",
      "\n",
      "See the caveats in the documentation: http://pandas.pydata.org/pandas-docs/stable/indexing.html#indexing-view-versus-copy\n",
      "  if sys.path[0] == '':\n"
     ]
    }
   ],
   "source": [
    "#defense clustering\n",
    "Xd = defense[['mean Total Points', 'mean Total Points/60', 'mean Goals/60', '3yr CF/60 Rel', '3yr CA/60 Rel',\n",
    "              '3yr Off. Zone Starts/60', '3yr Def. Zone Starts/60', 'mean Shots Blocked/60', 'TOI/GP']]\n",
    "yd = defense[['length', 'cap_hit', 'cap_pct']]\n",
    "\n",
    "ss = StandardScaler()\n",
    "Xds = ss.fit_transform(Xd)\n",
    "dkm = KMeans(n_clusters = 3)\n",
    "dclus = dkm.fit_transform(Xds)\n",
    "#create a cluster feature column\n",
    "Xd['cluster'] = dkm.labels_\n",
    "defense['cluster'] = dkm.labels_\n",
    "\n",
    "dclusts = []\n",
    "dcmeans = []\n",
    "for i in range(dkm.n_clusters):\n",
    "    dclusts.append(Xd[dkm.labels_ == i].drop('cluster', axis=1))\n",
    "    dcmeans.append(dclusts[i].mean(axis=0))"
   ]
  },
  {
   "cell_type": "code",
   "execution_count": 110,
   "metadata": {},
   "outputs": [
    {
     "name": "stderr",
     "output_type": "stream",
     "text": [
      "/Users/colinshanahan/anaconda3/lib/python3.6/site-packages/ipykernel_launcher.py:11: SettingWithCopyWarning: \n",
      "A value is trying to be set on a copy of a slice from a DataFrame.\n",
      "Try using .loc[row_indexer,col_indexer] = value instead\n",
      "\n",
      "See the caveats in the documentation: http://pandas.pydata.org/pandas-docs/stable/indexing.html#indexing-view-versus-copy\n",
      "  # This is added back by InteractiveShellApp.init_path()\n",
      "/Users/colinshanahan/anaconda3/lib/python3.6/site-packages/ipykernel_launcher.py:12: SettingWithCopyWarning: \n",
      "A value is trying to be set on a copy of a slice from a DataFrame.\n",
      "Try using .loc[row_indexer,col_indexer] = value instead\n",
      "\n",
      "See the caveats in the documentation: http://pandas.pydata.org/pandas-docs/stable/indexing.html#indexing-view-versus-copy\n",
      "  if sys.path[0] == '':\n"
     ]
    }
   ],
   "source": [
    "#forward clustering\n",
    "Xf = forwards[['mean Total Points', 'mean Total Points/60', 'mean Goals/60', '3yr CF/60 Rel', '3yr CA/60 Rel',\n",
    "              '3yr Off. Zone Starts/60', '3yr Def. Zone Starts/60', 'mean Shots Blocked/60', 'TOI/GP']]\n",
    "yf = forwards[['length', 'cap_hit', 'cap_pct']]\n",
    "\n",
    "ss = StandardScaler()\n",
    "Xfs = ss.fit_transform(Xf)\n",
    "\n",
    "fkm = KMeans(n_clusters = 4)\n",
    "fclus = fkm.fit_transform(Xfs)\n",
    "Xf['cluster'] = fkm.labels_\n",
    "forwards['cluster'] = fkm.labels_\n",
    "\n",
    "fclusts = []\n",
    "fcmeans = []\n",
    "for i in range(fkm.n_clusters):\n",
    "    fclusts.append(Xf[fkm.labels_ == i].drop('cluster', axis=1))\n",
    "    fcmeans.append(fclusts[i].mean(axis=0))"
   ]
  },
  {
   "cell_type": "code",
   "execution_count": 112,
   "metadata": {},
   "outputs": [
    {
     "data": {
      "image/png": "[encoded data removed]",
      "text/plain": [
       "<Figure size 720x432 with 1 Axes>"
      ]
     },
     "metadata": {},
     "output_type": "display_data"
    }
   ],
   "source": [
    "#plot forward clusters\n",
    "w = 0.22\n",
    "idx = fcmeans[0].index\n",
    "\n",
    "xx = np.arange(len(idx))\n",
    "\n",
    "fig = plt.figure(figsize=(10,6))\n",
    "ax = fig.add_subplot(111)\n",
    "\n",
    "#for i in fcmeans:\n",
    "ax.bar(x = xx - 2*w, height = fcmeans[0], width = w, label = 'Cluster 0')\n",
    "ax.bar(x = xx - w, height = fcmeans[1], width = w, label = 'Cluster 1')\n",
    "ax.bar(x = xx, height = fcmeans[2], width = w, label = 'Cluster 2')\n",
    "ax.bar(x = xx + w, height = fcmeans[3], width = w, label = 'Cluster 3')\n",
    "\n",
    "ax.set_xticks(xx + w/5)\n",
    "ax.set_xticklabels(idx, rotation = 60)\n",
    "\n",
    "\n",
    "ax.legend()\n",
    "\n",
    "ax.set_title('Mean stats of forward player clusters')\n",
    "plt.show()"
   ]
  },
  {
   "cell_type": "code",
   "execution_count": 113,
   "metadata": {},
   "outputs": [
    {
     "name": "stdout",
     "output_type": "stream",
     "text": [
      "(214, 9)\n",
      "(168, 9)\n",
      "(228, 9)\n",
      "(152, 9)\n"
     ]
    }
   ],
   "source": [
    "for i in fclusts:\n",
    "    print(i.shape)"
   ]
  },
  {
   "cell_type": "code",
   "execution_count": 114,
   "metadata": {},
   "outputs": [
    {
     "data": {
      "image/png": "[encoded data removed]",
      "text/plain": [
       "<Figure size 720x432 with 1 Axes>"
      ]
     },
     "metadata": {},
     "output_type": "display_data"
    }
   ],
   "source": [
    "#plot the defensive clusters\n",
    "w = 0.25\n",
    "idx = dcmeans[0].index\n",
    "\n",
    "xx = np.arange(len(idx))\n",
    "\n",
    "fig = plt.figure(figsize=(10,6))\n",
    "ax = fig.add_subplot(111)\n",
    "\n",
    "ax.bar(x = xx - w, height = dcmeans[0], width = w, label = 'Cluster 0')\n",
    "ax.bar(x = xx, height = dcmeans[1], width = w, label = 'Cluster 1')\n",
    "ax.bar(x = xx + w, height = dcmeans[2], width = w, label = 'Cluster 2')\n",
    "ax.set_xticks(xx + w/3)\n",
    "ax.set_xticklabels(idx, rotation = 60)\n",
    "\n",
    "\n",
    "ax.legend()\n",
    "\n",
    "ax.set_title('Mean stats of defensive player clusters')\n",
    "plt.show()"
   ]
  },
  {
   "cell_type": "code",
   "execution_count": 115,
   "metadata": {},
   "outputs": [
    {
     "name": "stdout",
     "output_type": "stream",
     "text": [
      "(152, 9)\n",
      "(190, 9)\n",
      "(66, 9)\n"
     ]
    }
   ],
   "source": [
    "for i in dclusts:\n",
    "    print(i.shape)"
   ]
  },
  {
   "cell_type": "code",
   "execution_count": 123,
   "metadata": {},
   "outputs": [
    {
     "data": {
      "image/png": "[encoded data removed]",
      "text/plain": [
       "<Figure size 432x288 with 1 Axes>"
      ]
     },
     "metadata": {},
     "output_type": "display_data"
    }
   ],
   "source": [
    "xax = '3yr Def. Zone Starts/60'\n",
    "yax = 'mean Total Points/60'\n",
    "alpha=a\n",
    "\n",
    "plt.scatter(forwards[forwards.cluster == 0][xax], \n",
    "            forwards[forwards.cluster == 0][yax], \n",
    "            color = 'b', label = 'FC_0', alpha=a)\n",
    "plt.scatter(forwards[forwards.cluster == 1][xax], \n",
    "            forwards[forwards.cluster == 1][yax], \n",
    "            color = 'orange', label = 'FC_1', alpha=a)\n",
    "plt.scatter(forwards[forwards.cluster == 2][xax], \n",
    "            forwards[forwards.cluster == 2][yax], \n",
    "            color = 'g', label = 'FC_2', alpha=a)\n",
    "plt.scatter(forwards[forwards.cluster == 3][xax], \n",
    "            forwards[forwards.cluster == 3][yax], \n",
    "            color = 'r', label = 'FC_3', alpha=a)\n",
    "\n",
    "plt.legend()\n",
    "plt.xlabel(xax)\n",
    "plt.ylabel(yax)\n",
    "plt.title('Forwards ' + yax + ' vs. ' + xax)\n",
    "\n",
    "plt.show()"
   ]
  },
  {
   "cell_type": "code",
   "execution_count": 120,
   "metadata": {},
   "outputs": [
    {
     "data": {
      "image/png": "[encoded data removed]",
      "text/plain": [
       "<Figure size 432x288 with 1 Axes>"
      ]
     },
     "metadata": {},
     "output_type": "display_data"
    }
   ],
   "source": [
    "xax = '3yr Def. Zone Starts/60'\n",
    "yax = 'mean Total Points/60'\n",
    "a = 0.5\n",
    "\n",
    "plt.scatter(defense[defense.cluster == 0][xax], \n",
    "            defense[defense.cluster == 0][yax], \n",
    "            color = 'b', label = 'DC_0', alpha=a)\n",
    "plt.scatter(defense[defense.cluster == 1][xax], \n",
    "            defense[defense.cluster == 1][yax], \n",
    "            color = 'orange', label = 'DC_1', alpha=a)\n",
    "plt.scatter(defense[defense.cluster == 2][xax], \n",
    "            defense[defense.cluster == 2][yax], \n",
    "            color = 'g', label = 'DC_2', alpha=a)\n",
    "\n",
    "\n",
    "plt.legend()\n",
    "plt.xlabel(xax)\n",
    "plt.ylabel(yax)\n",
    "plt.title('Defense ' + yax + ' vs. ' + xax)\n",
    "\n",
    "plt.show()"
   ]
  },
  {
   "cell_type": "code",
   "execution_count": 124,
   "metadata": {},
   "outputs": [
    {
     "data": {
      "text/plain": [
       "Index(['cap_hit', 'length', 'total_value', 'signing_year', 'signing_age',\n",
       "       'signing_year_cap', 'cap_pct', 'signing_status', 'GP', 'TOI',\n",
       "       ...\n",
       "       'Shots/60', 'mean Shots/60', 'Hits/60', 'mean Hits/60', 'PIM/60',\n",
       "       'mean PIM/60', 'Penalties Drawn/60', 'mean Penalties Drawn/60',\n",
       "       'mean Faceoffs pct', 'cluster'],\n",
       "      dtype='object', length=205)"
      ]
     },
     "execution_count": 124,
     "metadata": {},
     "output_type": "execute_result"
    }
   ],
   "source": []
  },
  {
   "cell_type": "code",
   "execution_count": null,
   "metadata": {},
   "outputs": [],
   "source": []
  }
 ],
 "metadata": {
  "kernelspec": {
   "display_name": "Python 3",
   "language": "python",
   "name": "python3"
  },
  "language_info": {
   "codemirror_mode": {
    "name": "ipython",
    "version": 3
   },
   "file_extension": ".py",
   "mimetype": "text/x-python",
   "name": "python",
   "nbconvert_exporter": "python",
   "pygments_lexer": "ipython3",
   "version": "3.6.5"
  }
 },
 "nbformat": 4,
 "nbformat_minor": 2
}
