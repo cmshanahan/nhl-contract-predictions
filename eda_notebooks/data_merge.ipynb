{
 "cells": [
  {
   "cell_type": "code",
   "execution_count": 2,
   "metadata": {},
   "outputs": [],
   "source": [
    "import numpy as np\n",
    "import pandas as pd\n",
    "import matplotlib.pyplot as plt\n",
    "\n",
    "%matplotlib inline"
   ]
  },
  {
   "cell_type": "code",
   "execution_count": 3,
   "metadata": {},
   "outputs": [],
   "source": [
    "from importlib import reload"
   ]
  },
  {
   "cell_type": "code",
   "execution_count": 4,
   "metadata": {},
   "outputs": [],
   "source": [
    "import os\n",
    "import sys\n",
    "\n",
    "module_path = os.path.abspath(os.path.join('..'))\n",
    "if module_path not in sys.path:\n",
    "    sys.path.append(module_path)"
   ]
  },
  {
   "cell_type": "code",
   "execution_count": 5,
   "metadata": {},
   "outputs": [],
   "source": [
    "from data_cleaning import data_cleaning as dc"
   ]
  },
  {
   "cell_type": "code",
   "execution_count": 58,
   "metadata": {},
   "outputs": [
    {
     "data": {
      "text/plain": [
       "<module 'data_cleaning.data_cleaning' from '/Users/colinshanahan/galvanize/nhl-contract-predictions/data_cleaning/data_cleaning.py'>"
      ]
     },
     "execution_count": 58,
     "metadata": {},
     "output_type": "execute_result"
    }
   ],
   "source": [
    "reload(dc)"
   ]
  },
  {
   "cell_type": "code",
   "execution_count": 59,
   "metadata": {},
   "outputs": [
    {
     "ename": "TypeError",
     "evalue": "ufunc subtract cannot use operands with types dtype('O') and dtype('<M8[ns]')",
     "output_type": "error",
     "traceback": [
      "\u001b[0;31m---------------------------------------------------------------------------\u001b[0m",
      "\u001b[0;31mTypeError\u001b[0m                                 Traceback (most recent call last)",
      "\u001b[0;32m~/anaconda3/lib/python3.6/site-packages/pandas/core/ops.py\u001b[0m in \u001b[0;36mna_op\u001b[0;34m(x, y)\u001b[0m\n\u001b[1;32m   1008\u001b[0m         \u001b[0;32mtry\u001b[0m\u001b[0;34m:\u001b[0m\u001b[0;34m\u001b[0m\u001b[0m\n\u001b[0;32m-> 1009\u001b[0;31m             \u001b[0mresult\u001b[0m \u001b[0;34m=\u001b[0m \u001b[0mexpressions\u001b[0m\u001b[0;34m.\u001b[0m\u001b[0mevaluate\u001b[0m\u001b[0;34m(\u001b[0m\u001b[0mop\u001b[0m\u001b[0;34m,\u001b[0m \u001b[0mstr_rep\u001b[0m\u001b[0;34m,\u001b[0m \u001b[0mx\u001b[0m\u001b[0;34m,\u001b[0m \u001b[0my\u001b[0m\u001b[0;34m,\u001b[0m \u001b[0;34m**\u001b[0m\u001b[0meval_kwargs\u001b[0m\u001b[0;34m)\u001b[0m\u001b[0;34m\u001b[0m\u001b[0m\n\u001b[0m\u001b[1;32m   1010\u001b[0m         \u001b[0;32mexcept\u001b[0m \u001b[0mTypeError\u001b[0m\u001b[0;34m:\u001b[0m\u001b[0;34m\u001b[0m\u001b[0m\n",
      "\u001b[0;32m~/anaconda3/lib/python3.6/site-packages/pandas/core/computation/expressions.py\u001b[0m in \u001b[0;36mevaluate\u001b[0;34m(op, op_str, a, b, use_numexpr, **eval_kwargs)\u001b[0m\n\u001b[1;32m    204\u001b[0m     \u001b[0;32mif\u001b[0m \u001b[0muse_numexpr\u001b[0m\u001b[0;34m:\u001b[0m\u001b[0;34m\u001b[0m\u001b[0m\n\u001b[0;32m--> 205\u001b[0;31m         \u001b[0;32mreturn\u001b[0m \u001b[0m_evaluate\u001b[0m\u001b[0;34m(\u001b[0m\u001b[0mop\u001b[0m\u001b[0;34m,\u001b[0m \u001b[0mop_str\u001b[0m\u001b[0;34m,\u001b[0m \u001b[0ma\u001b[0m\u001b[0;34m,\u001b[0m \u001b[0mb\u001b[0m\u001b[0;34m,\u001b[0m \u001b[0;34m**\u001b[0m\u001b[0meval_kwargs\u001b[0m\u001b[0;34m)\u001b[0m\u001b[0;34m\u001b[0m\u001b[0m\n\u001b[0m\u001b[1;32m    206\u001b[0m     \u001b[0;32mreturn\u001b[0m \u001b[0m_evaluate_standard\u001b[0m\u001b[0;34m(\u001b[0m\u001b[0mop\u001b[0m\u001b[0;34m,\u001b[0m \u001b[0mop_str\u001b[0m\u001b[0;34m,\u001b[0m \u001b[0ma\u001b[0m\u001b[0;34m,\u001b[0m \u001b[0mb\u001b[0m\u001b[0;34m)\u001b[0m\u001b[0;34m\u001b[0m\u001b[0m\n",
      "\u001b[0;32m~/anaconda3/lib/python3.6/site-packages/pandas/core/computation/expressions.py\u001b[0m in \u001b[0;36m_evaluate_numexpr\u001b[0;34m(op, op_str, a, b, truediv, reversed, **eval_kwargs)\u001b[0m\n\u001b[1;32m    119\u001b[0m     \u001b[0;32mif\u001b[0m \u001b[0mresult\u001b[0m \u001b[0;32mis\u001b[0m \u001b[0;32mNone\u001b[0m\u001b[0;34m:\u001b[0m\u001b[0;34m\u001b[0m\u001b[0m\n\u001b[0;32m--> 120\u001b[0;31m         \u001b[0mresult\u001b[0m \u001b[0;34m=\u001b[0m \u001b[0m_evaluate_standard\u001b[0m\u001b[0;34m(\u001b[0m\u001b[0mop\u001b[0m\u001b[0;34m,\u001b[0m \u001b[0mop_str\u001b[0m\u001b[0;34m,\u001b[0m \u001b[0ma\u001b[0m\u001b[0;34m,\u001b[0m \u001b[0mb\u001b[0m\u001b[0;34m)\u001b[0m\u001b[0;34m\u001b[0m\u001b[0m\n\u001b[0m\u001b[1;32m    121\u001b[0m \u001b[0;34m\u001b[0m\u001b[0m\n",
      "\u001b[0;32m~/anaconda3/lib/python3.6/site-packages/pandas/core/computation/expressions.py\u001b[0m in \u001b[0;36m_evaluate_standard\u001b[0;34m(op, op_str, a, b, **eval_kwargs)\u001b[0m\n\u001b[1;32m     64\u001b[0m     \u001b[0;32mwith\u001b[0m \u001b[0mnp\u001b[0m\u001b[0;34m.\u001b[0m\u001b[0merrstate\u001b[0m\u001b[0;34m(\u001b[0m\u001b[0mall\u001b[0m\u001b[0;34m=\u001b[0m\u001b[0;34m'ignore'\u001b[0m\u001b[0;34m)\u001b[0m\u001b[0;34m:\u001b[0m\u001b[0;34m\u001b[0m\u001b[0m\n\u001b[0;32m---> 65\u001b[0;31m         \u001b[0;32mreturn\u001b[0m \u001b[0mop\u001b[0m\u001b[0;34m(\u001b[0m\u001b[0ma\u001b[0m\u001b[0;34m,\u001b[0m \u001b[0mb\u001b[0m\u001b[0;34m)\u001b[0m\u001b[0;34m\u001b[0m\u001b[0m\n\u001b[0m\u001b[1;32m     66\u001b[0m \u001b[0;34m\u001b[0m\u001b[0m\n",
      "\u001b[0;31mTypeError\u001b[0m: ufunc subtract cannot use operands with types dtype('O') and dtype('<M8[ns]')",
      "\nDuring handling of the above exception, another exception occurred:\n",
      "\u001b[0;31mTypeError\u001b[0m                                 Traceback (most recent call last)",
      "\u001b[0;32m~/anaconda3/lib/python3.6/site-packages/pandas/core/ops.py\u001b[0m in \u001b[0;36msafe_na_op\u001b[0;34m(lvalues, rvalues)\u001b[0m\n\u001b[1;32m   1029\u001b[0m             \u001b[0;32mwith\u001b[0m \u001b[0mnp\u001b[0m\u001b[0;34m.\u001b[0m\u001b[0merrstate\u001b[0m\u001b[0;34m(\u001b[0m\u001b[0mall\u001b[0m\u001b[0;34m=\u001b[0m\u001b[0;34m'ignore'\u001b[0m\u001b[0;34m)\u001b[0m\u001b[0;34m:\u001b[0m\u001b[0;34m\u001b[0m\u001b[0m\n\u001b[0;32m-> 1030\u001b[0;31m                 \u001b[0;32mreturn\u001b[0m \u001b[0mna_op\u001b[0m\u001b[0;34m(\u001b[0m\u001b[0mlvalues\u001b[0m\u001b[0;34m,\u001b[0m \u001b[0mrvalues\u001b[0m\u001b[0;34m)\u001b[0m\u001b[0;34m\u001b[0m\u001b[0m\n\u001b[0m\u001b[1;32m   1031\u001b[0m         \u001b[0;32mexcept\u001b[0m \u001b[0mException\u001b[0m\u001b[0;34m:\u001b[0m\u001b[0;34m\u001b[0m\u001b[0m\n",
      "\u001b[0;32m~/anaconda3/lib/python3.6/site-packages/pandas/core/ops.py\u001b[0m in \u001b[0;36mna_op\u001b[0;34m(x, y)\u001b[0m\n\u001b[1;32m   1014\u001b[0m                 \u001b[0mmask\u001b[0m \u001b[0;34m=\u001b[0m \u001b[0mnotna\u001b[0m\u001b[0;34m(\u001b[0m\u001b[0mx\u001b[0m\u001b[0;34m)\u001b[0m \u001b[0;34m&\u001b[0m \u001b[0mnotna\u001b[0m\u001b[0;34m(\u001b[0m\u001b[0my\u001b[0m\u001b[0;34m)\u001b[0m\u001b[0;34m\u001b[0m\u001b[0m\n\u001b[0;32m-> 1015\u001b[0;31m                 \u001b[0mresult\u001b[0m\u001b[0;34m[\u001b[0m\u001b[0mmask\u001b[0m\u001b[0;34m]\u001b[0m \u001b[0;34m=\u001b[0m \u001b[0mop\u001b[0m\u001b[0;34m(\u001b[0m\u001b[0mx\u001b[0m\u001b[0;34m[\u001b[0m\u001b[0mmask\u001b[0m\u001b[0;34m]\u001b[0m\u001b[0;34m,\u001b[0m \u001b[0mcom\u001b[0m\u001b[0;34m.\u001b[0m\u001b[0m_values_from_object\u001b[0m\u001b[0;34m(\u001b[0m\u001b[0my\u001b[0m\u001b[0;34m[\u001b[0m\u001b[0mmask\u001b[0m\u001b[0;34m]\u001b[0m\u001b[0;34m)\u001b[0m\u001b[0;34m)\u001b[0m\u001b[0;34m\u001b[0m\u001b[0m\n\u001b[0m\u001b[1;32m   1016\u001b[0m             \u001b[0;32melse\u001b[0m\u001b[0;34m:\u001b[0m\u001b[0;34m\u001b[0m\u001b[0m\n",
      "\u001b[0;31mTypeError\u001b[0m: ufunc subtract cannot use operands with types dtype('O') and dtype('<M8[ns]')",
      "\nDuring handling of the above exception, another exception occurred:\n",
      "\u001b[0;31mTypeError\u001b[0m                                 Traceback (most recent call last)",
      "\u001b[0;32m<ipython-input-59-8887440ed32d>\u001b[0m in \u001b[0;36m<module>\u001b[0;34m()\u001b[0m\n\u001b[0;32m----> 1\u001b[0;31m \u001b[0mdf\u001b[0m \u001b[0;34m=\u001b[0m \u001b[0mdc\u001b[0m\u001b[0;34m.\u001b[0m\u001b[0mclean_data\u001b[0m\u001b[0;34m(\u001b[0m\u001b[0;34m)\u001b[0m\u001b[0;34m\u001b[0m\u001b[0m\n\u001b[0m",
      "\u001b[0;32m~/galvanize/nhl-contract-predictions/data_cleaning/data_cleaning.py\u001b[0m in \u001b[0;36mclean_data\u001b[0;34m(file)\u001b[0m\n\u001b[1;32m     66\u001b[0m \u001b[0;34m\u001b[0m\u001b[0m\n\u001b[1;32m     67\u001b[0m     \u001b[0;31m#get age at contract signing_date (not accounting for leap days)\u001b[0m\u001b[0;34m\u001b[0m\u001b[0;34m\u001b[0m\u001b[0m\n\u001b[0;32m---> 68\u001b[0;31m     \u001b[0mdf\u001b[0m\u001b[0;34m[\u001b[0m\u001b[0;34m'signing_age'\u001b[0m\u001b[0;34m]\u001b[0m \u001b[0;34m=\u001b[0m \u001b[0mdf\u001b[0m\u001b[0;34m.\u001b[0m\u001b[0msigning_date\u001b[0m \u001b[0;34m-\u001b[0m \u001b[0mdf\u001b[0m\u001b[0;34m.\u001b[0m\u001b[0mbirthdate\u001b[0m\u001b[0;34m\u001b[0m\u001b[0m\n\u001b[0m\u001b[1;32m     69\u001b[0m     \u001b[0mdf\u001b[0m\u001b[0;34m.\u001b[0m\u001b[0msigning_age\u001b[0m \u001b[0;34m=\u001b[0m \u001b[0mdf\u001b[0m\u001b[0;34m.\u001b[0m\u001b[0msigning_age\u001b[0m\u001b[0;34m.\u001b[0m\u001b[0mapply\u001b[0m\u001b[0;34m(\u001b[0m\u001b[0;32mlambda\u001b[0m \u001b[0mx\u001b[0m\u001b[0;34m:\u001b[0m \u001b[0mx\u001b[0m\u001b[0;34m.\u001b[0m\u001b[0mdays\u001b[0m \u001b[0;34m//\u001b[0m \u001b[0;36m365\u001b[0m\u001b[0;34m)\u001b[0m\u001b[0;34m\u001b[0m\u001b[0m\n\u001b[1;32m     70\u001b[0m \u001b[0;34m\u001b[0m\u001b[0m\n",
      "\u001b[0;32m~/anaconda3/lib/python3.6/site-packages/pandas/core/ops.py\u001b[0m in \u001b[0;36mwrapper\u001b[0;34m(left, right)\u001b[0m\n\u001b[1;32m   1064\u001b[0m             \u001b[0mrvalues\u001b[0m \u001b[0;34m=\u001b[0m \u001b[0mrvalues\u001b[0m\u001b[0;34m.\u001b[0m\u001b[0mvalues\u001b[0m\u001b[0;34m\u001b[0m\u001b[0m\n\u001b[1;32m   1065\u001b[0m \u001b[0;34m\u001b[0m\u001b[0m\n\u001b[0;32m-> 1066\u001b[0;31m         \u001b[0mresult\u001b[0m \u001b[0;34m=\u001b[0m \u001b[0msafe_na_op\u001b[0m\u001b[0;34m(\u001b[0m\u001b[0mlvalues\u001b[0m\u001b[0;34m,\u001b[0m \u001b[0mrvalues\u001b[0m\u001b[0;34m)\u001b[0m\u001b[0;34m\u001b[0m\u001b[0m\n\u001b[0m\u001b[1;32m   1067\u001b[0m         return construct_result(left, result,\n\u001b[1;32m   1068\u001b[0m                                 index=left.index, name=res_name, dtype=None)\n",
      "\u001b[0;32m~/anaconda3/lib/python3.6/site-packages/pandas/core/ops.py\u001b[0m in \u001b[0;36msafe_na_op\u001b[0;34m(lvalues, rvalues)\u001b[0m\n\u001b[1;32m   1032\u001b[0m             \u001b[0;32mif\u001b[0m \u001b[0mis_object_dtype\u001b[0m\u001b[0;34m(\u001b[0m\u001b[0mlvalues\u001b[0m\u001b[0;34m)\u001b[0m\u001b[0;34m:\u001b[0m\u001b[0;34m\u001b[0m\u001b[0m\n\u001b[1;32m   1033\u001b[0m                 return libalgos.arrmap_object(lvalues,\n\u001b[0;32m-> 1034\u001b[0;31m                                               lambda x: op(x, rvalues))\n\u001b[0m\u001b[1;32m   1035\u001b[0m             \u001b[0;32mraise\u001b[0m\u001b[0;34m\u001b[0m\u001b[0m\n\u001b[1;32m   1036\u001b[0m \u001b[0;34m\u001b[0m\u001b[0m\n",
      "\u001b[0;32mpandas/_libs/algos_common_helper.pxi\u001b[0m in \u001b[0;36mpandas._libs.algos.arrmap_object\u001b[0;34m()\u001b[0m\n",
      "\u001b[0;32m~/anaconda3/lib/python3.6/site-packages/pandas/core/ops.py\u001b[0m in \u001b[0;36m<lambda>\u001b[0;34m(x)\u001b[0m\n\u001b[1;32m   1032\u001b[0m             \u001b[0;32mif\u001b[0m \u001b[0mis_object_dtype\u001b[0m\u001b[0;34m(\u001b[0m\u001b[0mlvalues\u001b[0m\u001b[0;34m)\u001b[0m\u001b[0;34m:\u001b[0m\u001b[0;34m\u001b[0m\u001b[0m\n\u001b[1;32m   1033\u001b[0m                 return libalgos.arrmap_object(lvalues,\n\u001b[0;32m-> 1034\u001b[0;31m                                               lambda x: op(x, rvalues))\n\u001b[0m\u001b[1;32m   1035\u001b[0m             \u001b[0;32mraise\u001b[0m\u001b[0;34m\u001b[0m\u001b[0m\n\u001b[1;32m   1036\u001b[0m \u001b[0;34m\u001b[0m\u001b[0m\n",
      "\u001b[0;31mTypeError\u001b[0m: ufunc subtract cannot use operands with types dtype('O') and dtype('<M8[ns]')"
     ]
    }
   ],
   "source": [
    "df = dc.clean_data()"
   ]
  },
  {
   "cell_type": "code",
   "execution_count": 45,
   "metadata": {},
   "outputs": [],
   "source": [
    "dff.to_csv('../data/contracts_clean.csv', index=False, header=False)"
   ]
  },
  {
   "cell_type": "code",
   "execution_count": 43,
   "metadata": {},
   "outputs": [
    {
     "data": {
      "text/plain": [
       "contract_id                 4124\n",
       "player_id                    103\n",
       "Player            Roberto Luongo\n",
       "position              Goaltender\n",
       "length                        12\n",
       "cap_hit                  5333333\n",
       "total_value             63999996\n",
       "cap_pct                     9.39\n",
       "signing_date          2009-09-02\n",
       "signing_year                2009\n",
       "signing_age                   30\n",
       "signing_team                 NaN\n",
       "expiry_status                UFA\n",
       "signing_status               UFA\n",
       "Name: 0, dtype: object"
      ]
     },
     "execution_count": 43,
     "metadata": {},
     "output_type": "execute_result"
    }
   ],
   "source": [
    "dff.iloc[0]"
   ]
  },
  {
   "cell_type": "code",
   "execution_count": 20,
   "metadata": {},
   "outputs": [
    {
     "data": {
      "text/plain": [
       "Index(['player_id', 'first_name', 'last_name', 'position', 'birthdate',\n",
       "       'season', 'team_id', 'team_name', 'cap_hit', 'active', 'signing_date',\n",
       "       'signing_team', 'length', 'contract_level', 'contract_id',\n",
       "       'expiry_status', 'contract_type', 'contract_end', 'ufa_year',\n",
       "       'total_value', 'Player', 'signing_year', 'signing_year_cap', 'cap_pct',\n",
       "       'signing_age'],\n",
       "      dtype='object')"
      ]
     },
     "execution_count": 20,
     "metadata": {},
     "output_type": "execute_result"
    }
   ],
   "source": [
    "df.columns"
   ]
  },
  {
   "cell_type": "code",
   "execution_count": 42,
   "metadata": {},
   "outputs": [
    {
     "name": "stderr",
     "output_type": "stream",
     "text": [
      "/Users/colinshanahan/anaconda3/lib/python3.6/site-packages/ipykernel_launcher.py:1: SettingWithCopyWarning: \n",
      "A value is trying to be set on a copy of a slice from a DataFrame.\n",
      "Try using .loc[row_indexer,col_indexer] = value instead\n",
      "\n",
      "See the caveats in the documentation: http://pandas.pydata.org/pandas-docs/stable/indexing.html#indexing-view-versus-copy\n",
      "  \"\"\"Entry point for launching an IPython kernel.\n"
     ]
    }
   ],
   "source": [
    "dff['signing_date'] = pd.DatetimeIndex(dff['signing_date']).date"
   ]
  },
  {
   "cell_type": "code",
   "execution_count": null,
   "metadata": {},
   "outputs": [],
   "source": []
  },
  {
   "cell_type": "code",
   "execution_count": 22,
   "metadata": {},
   "outputs": [],
   "source": [
    "dff = df.groupby('contract_id').head(1)"
   ]
  },
  {
   "cell_type": "code",
   "execution_count": 23,
   "metadata": {},
   "outputs": [
    {
     "data": {
      "text/plain": [
       "(2004, 25)"
      ]
     },
     "execution_count": 23,
     "metadata": {},
     "output_type": "execute_result"
    }
   ],
   "source": [
    "dff.shape"
   ]
  },
  {
   "cell_type": "code",
   "execution_count": 25,
   "metadata": {},
   "outputs": [
    {
     "data": {
      "text/html": [
       "<div>\n",
       "<style scoped>\n",
       "    .dataframe tbody tr th:only-of-type {\n",
       "        vertical-align: middle;\n",
       "    }\n",
       "\n",
       "    .dataframe tbody tr th {\n",
       "        vertical-align: top;\n",
       "    }\n",
       "\n",
       "    .dataframe thead th {\n",
       "        text-align: right;\n",
       "    }\n",
       "</style>\n",
       "<table border=\"1\" class=\"dataframe\">\n",
       "  <thead>\n",
       "    <tr style=\"text-align: right;\">\n",
       "      <th></th>\n",
       "      <th>player_id</th>\n",
       "      <th>first_name</th>\n",
       "      <th>last_name</th>\n",
       "      <th>position</th>\n",
       "      <th>birthdate</th>\n",
       "      <th>season</th>\n",
       "      <th>team_id</th>\n",
       "      <th>team_name</th>\n",
       "      <th>cap_hit</th>\n",
       "      <th>active</th>\n",
       "      <th>...</th>\n",
       "      <th>expiry_status</th>\n",
       "      <th>contract_type</th>\n",
       "      <th>contract_end</th>\n",
       "      <th>ufa_year</th>\n",
       "      <th>total_value</th>\n",
       "      <th>Player</th>\n",
       "      <th>signing_year</th>\n",
       "      <th>signing_year_cap</th>\n",
       "      <th>cap_pct</th>\n",
       "      <th>signing_age</th>\n",
       "    </tr>\n",
       "  </thead>\n",
       "  <tbody>\n",
       "    <tr>\n",
       "      <th>0</th>\n",
       "      <td>103</td>\n",
       "      <td>Roberto</td>\n",
       "      <td>Luongo</td>\n",
       "      <td>Goaltender</td>\n",
       "      <td>1979-04-04</td>\n",
       "      <td>2015</td>\n",
       "      <td>14.0</td>\n",
       "      <td>Panthers</td>\n",
       "      <td>5333333</td>\n",
       "      <td>1.0</td>\n",
       "      <td>...</td>\n",
       "      <td>UFA</td>\n",
       "      <td>current</td>\n",
       "      <td>2021</td>\n",
       "      <td>2006</td>\n",
       "      <td>63999996</td>\n",
       "      <td>Roberto Luongo</td>\n",
       "      <td>2009</td>\n",
       "      <td>56800000</td>\n",
       "      <td>9.39</td>\n",
       "      <td>30</td>\n",
       "    </tr>\n",
       "    <tr>\n",
       "      <th>7</th>\n",
       "      <td>155</td>\n",
       "      <td>Ryan</td>\n",
       "      <td>Miller</td>\n",
       "      <td>Goaltender</td>\n",
       "      <td>1980-07-17</td>\n",
       "      <td>2015</td>\n",
       "      <td>25.0</td>\n",
       "      <td>Ducks</td>\n",
       "      <td>6000000</td>\n",
       "      <td>1.0</td>\n",
       "      <td>...</td>\n",
       "      <td>UFA</td>\n",
       "      <td>history</td>\n",
       "      <td>2016</td>\n",
       "      <td>2008</td>\n",
       "      <td>18000000</td>\n",
       "      <td>Ryan Miller</td>\n",
       "      <td>2014</td>\n",
       "      <td>69000000</td>\n",
       "      <td>8.70</td>\n",
       "      <td>33</td>\n",
       "    </tr>\n",
       "    <tr>\n",
       "      <th>9</th>\n",
       "      <td>155</td>\n",
       "      <td>Ryan</td>\n",
       "      <td>Miller</td>\n",
       "      <td>Goaltender</td>\n",
       "      <td>1980-07-17</td>\n",
       "      <td>2017</td>\n",
       "      <td>25.0</td>\n",
       "      <td>Ducks</td>\n",
       "      <td>2000000</td>\n",
       "      <td>1.0</td>\n",
       "      <td>...</td>\n",
       "      <td>UFA</td>\n",
       "      <td>current</td>\n",
       "      <td>2018</td>\n",
       "      <td>2008</td>\n",
       "      <td>4000000</td>\n",
       "      <td>Ryan Miller</td>\n",
       "      <td>2017</td>\n",
       "      <td>75000000</td>\n",
       "      <td>2.67</td>\n",
       "      <td>36</td>\n",
       "    </tr>\n",
       "    <tr>\n",
       "      <th>11</th>\n",
       "      <td>156</td>\n",
       "      <td>Craig</td>\n",
       "      <td>Anderson</td>\n",
       "      <td>Goaltender</td>\n",
       "      <td>1981-05-21</td>\n",
       "      <td>2015</td>\n",
       "      <td>9.0</td>\n",
       "      <td>Senators</td>\n",
       "      <td>4200000</td>\n",
       "      <td>1.0</td>\n",
       "      <td>...</td>\n",
       "      <td>UFA</td>\n",
       "      <td>history</td>\n",
       "      <td>2017</td>\n",
       "      <td>2008</td>\n",
       "      <td>12600000</td>\n",
       "      <td>Craig Anderson</td>\n",
       "      <td>2014</td>\n",
       "      <td>69000000</td>\n",
       "      <td>6.09</td>\n",
       "      <td>33</td>\n",
       "    </tr>\n",
       "    <tr>\n",
       "      <th>14</th>\n",
       "      <td>156</td>\n",
       "      <td>Craig</td>\n",
       "      <td>Anderson</td>\n",
       "      <td>Goaltender</td>\n",
       "      <td>1981-05-21</td>\n",
       "      <td>2018</td>\n",
       "      <td>9.0</td>\n",
       "      <td>Senators</td>\n",
       "      <td>4750000</td>\n",
       "      <td>1.0</td>\n",
       "      <td>...</td>\n",
       "      <td>UFA</td>\n",
       "      <td>current</td>\n",
       "      <td>2019</td>\n",
       "      <td>2008</td>\n",
       "      <td>9500000</td>\n",
       "      <td>Craig Anderson</td>\n",
       "      <td>2017</td>\n",
       "      <td>75000000</td>\n",
       "      <td>6.33</td>\n",
       "      <td>36</td>\n",
       "    </tr>\n",
       "  </tbody>\n",
       "</table>\n",
       "<p>5 rows × 25 columns</p>\n",
       "</div>"
      ],
      "text/plain": [
       "    player_id first_name last_name    position  birthdate  season  team_id  \\\n",
       "0         103    Roberto    Luongo  Goaltender 1979-04-04    2015     14.0   \n",
       "7         155       Ryan    Miller  Goaltender 1980-07-17    2015     25.0   \n",
       "9         155       Ryan    Miller  Goaltender 1980-07-17    2017     25.0   \n",
       "11        156      Craig  Anderson  Goaltender 1981-05-21    2015      9.0   \n",
       "14        156      Craig  Anderson  Goaltender 1981-05-21    2018      9.0   \n",
       "\n",
       "   team_name  cap_hit  active     ...      expiry_status contract_type  \\\n",
       "0   Panthers  5333333     1.0     ...                UFA       current   \n",
       "7      Ducks  6000000     1.0     ...                UFA       history   \n",
       "9      Ducks  2000000     1.0     ...                UFA       current   \n",
       "11  Senators  4200000     1.0     ...                UFA       history   \n",
       "14  Senators  4750000     1.0     ...                UFA       current   \n",
       "\n",
       "    contract_end ufa_year  total_value          Player signing_year  \\\n",
       "0           2021     2006     63999996  Roberto Luongo         2009   \n",
       "7           2016     2008     18000000     Ryan Miller         2014   \n",
       "9           2018     2008      4000000     Ryan Miller         2017   \n",
       "11          2017     2008     12600000  Craig Anderson         2014   \n",
       "14          2019     2008      9500000  Craig Anderson         2017   \n",
       "\n",
       "    signing_year_cap  cap_pct  signing_age  \n",
       "0           56800000     9.39           30  \n",
       "7           69000000     8.70           33  \n",
       "9           75000000     2.67           36  \n",
       "11          69000000     6.09           33  \n",
       "14          75000000     6.33           36  \n",
       "\n",
       "[5 rows x 25 columns]"
      ]
     },
     "execution_count": 25,
     "metadata": {},
     "output_type": "execute_result"
    }
   ],
   "source": [
    "dff.head()"
   ]
  },
  {
   "cell_type": "code",
   "execution_count": 26,
   "metadata": {},
   "outputs": [],
   "source": [
    "def ufa_check(x):\n",
    "    if x == True:\n",
    "        return 'UFA'\n",
    "    else:\n",
    "        return 'RFA'"
   ]
  },
  {
   "cell_type": "code",
   "execution_count": 27,
   "metadata": {},
   "outputs": [
    {
     "name": "stderr",
     "output_type": "stream",
     "text": [
      "/Users/colinshanahan/anaconda3/lib/python3.6/site-packages/ipykernel_launcher.py:1: SettingWithCopyWarning: \n",
      "A value is trying to be set on a copy of a slice from a DataFrame.\n",
      "Try using .loc[row_indexer,col_indexer] = value instead\n",
      "\n",
      "See the caveats in the documentation: http://pandas.pydata.org/pandas-docs/stable/indexing.html#indexing-view-versus-copy\n",
      "  \"\"\"Entry point for launching an IPython kernel.\n",
      "/Users/colinshanahan/anaconda3/lib/python3.6/site-packages/ipykernel_launcher.py:2: SettingWithCopyWarning: \n",
      "A value is trying to be set on a copy of a slice from a DataFrame.\n",
      "Try using .loc[row_indexer,col_indexer] = value instead\n",
      "\n",
      "See the caveats in the documentation: http://pandas.pydata.org/pandas-docs/stable/indexing.html#indexing-view-versus-copy\n",
      "  \n"
     ]
    }
   ],
   "source": [
    "dff['signing_status'] = dff['signing_year'] >= dff['ufa_year']\n",
    "dff['signing_status'] = dff['signing_status'].apply(ufa_check)"
   ]
  },
  {
   "cell_type": "code",
   "execution_count": 31,
   "metadata": {},
   "outputs": [
    {
     "data": {
      "text/html": [
       "<div>\n",
       "<style scoped>\n",
       "    .dataframe tbody tr th:only-of-type {\n",
       "        vertical-align: middle;\n",
       "    }\n",
       "\n",
       "    .dataframe tbody tr th {\n",
       "        vertical-align: top;\n",
       "    }\n",
       "\n",
       "    .dataframe thead th {\n",
       "        text-align: right;\n",
       "    }\n",
       "</style>\n",
       "<table border=\"1\" class=\"dataframe\">\n",
       "  <thead>\n",
       "    <tr style=\"text-align: right;\">\n",
       "      <th></th>\n",
       "      <th>player_id</th>\n",
       "      <th>first_name</th>\n",
       "      <th>last_name</th>\n",
       "      <th>position</th>\n",
       "      <th>birthdate</th>\n",
       "      <th>season</th>\n",
       "      <th>team_id</th>\n",
       "      <th>team_name</th>\n",
       "      <th>cap_hit</th>\n",
       "      <th>active</th>\n",
       "      <th>...</th>\n",
       "      <th>contract_type</th>\n",
       "      <th>contract_end</th>\n",
       "      <th>ufa_year</th>\n",
       "      <th>total_value</th>\n",
       "      <th>Player</th>\n",
       "      <th>signing_year</th>\n",
       "      <th>signing_year_cap</th>\n",
       "      <th>cap_pct</th>\n",
       "      <th>signing_age</th>\n",
       "      <th>signing_status</th>\n",
       "    </tr>\n",
       "  </thead>\n",
       "  <tbody>\n",
       "    <tr>\n",
       "      <th>1848</th>\n",
       "      <td>3678</td>\n",
       "      <td>Calvin</td>\n",
       "      <td>de Haan</td>\n",
       "      <td>Defense</td>\n",
       "      <td>1991-05-09</td>\n",
       "      <td>2017</td>\n",
       "      <td>5.0</td>\n",
       "      <td>Hurricanes</td>\n",
       "      <td>3300000</td>\n",
       "      <td>1.0</td>\n",
       "      <td>...</td>\n",
       "      <td>history</td>\n",
       "      <td>2017</td>\n",
       "      <td>2018</td>\n",
       "      <td>3300000</td>\n",
       "      <td>Calvin de Haan</td>\n",
       "      <td>2017</td>\n",
       "      <td>75000000</td>\n",
       "      <td>4.40</td>\n",
       "      <td>26</td>\n",
       "      <td>RFA</td>\n",
       "    </tr>\n",
       "    <tr>\n",
       "      <th>6453</th>\n",
       "      <td>16932</td>\n",
       "      <td>Calle</td>\n",
       "      <td>Rosen</td>\n",
       "      <td>Defense</td>\n",
       "      <td>1994-02-02</td>\n",
       "      <td>2019</td>\n",
       "      <td>8.0</td>\n",
       "      <td>Maple Leafs</td>\n",
       "      <td>750000</td>\n",
       "      <td>0.0</td>\n",
       "      <td>...</td>\n",
       "      <td>future</td>\n",
       "      <td>2020</td>\n",
       "      <td>2021</td>\n",
       "      <td>1500000</td>\n",
       "      <td>Calle Rosen</td>\n",
       "      <td>2018</td>\n",
       "      <td>79500000</td>\n",
       "      <td>0.94</td>\n",
       "      <td>24</td>\n",
       "      <td>RFA</td>\n",
       "    </tr>\n",
       "    <tr>\n",
       "      <th>5759</th>\n",
       "      <td>6577</td>\n",
       "      <td>Joel</td>\n",
       "      <td>Hanley</td>\n",
       "      <td>Defense</td>\n",
       "      <td>1991-06-08</td>\n",
       "      <td>2016</td>\n",
       "      <td>20.0</td>\n",
       "      <td>Stars</td>\n",
       "      <td>600000</td>\n",
       "      <td>NaN</td>\n",
       "      <td>...</td>\n",
       "      <td>history</td>\n",
       "      <td>2016</td>\n",
       "      <td>2018</td>\n",
       "      <td>600000</td>\n",
       "      <td>Joel Hanley</td>\n",
       "      <td>2016</td>\n",
       "      <td>73000000</td>\n",
       "      <td>0.82</td>\n",
       "      <td>25</td>\n",
       "      <td>RFA</td>\n",
       "    </tr>\n",
       "    <tr>\n",
       "      <th>2696</th>\n",
       "      <td>4335</td>\n",
       "      <td>Cam</td>\n",
       "      <td>Atkinson</td>\n",
       "      <td>Right Wing</td>\n",
       "      <td>1989-06-05</td>\n",
       "      <td>2015</td>\n",
       "      <td>30.0</td>\n",
       "      <td>Blue Jackets</td>\n",
       "      <td>3500000</td>\n",
       "      <td>1.0</td>\n",
       "      <td>...</td>\n",
       "      <td>history</td>\n",
       "      <td>2017</td>\n",
       "      <td>2016</td>\n",
       "      <td>10500000</td>\n",
       "      <td>Cam Atkinson</td>\n",
       "      <td>2015</td>\n",
       "      <td>71400000</td>\n",
       "      <td>4.90</td>\n",
       "      <td>25</td>\n",
       "      <td>RFA</td>\n",
       "    </tr>\n",
       "    <tr>\n",
       "      <th>816</th>\n",
       "      <td>2475</td>\n",
       "      <td>Jamie</td>\n",
       "      <td>McGinn</td>\n",
       "      <td>Left Wing</td>\n",
       "      <td>1988-08-05</td>\n",
       "      <td>2015</td>\n",
       "      <td>14.0</td>\n",
       "      <td>Panthers</td>\n",
       "      <td>2950000</td>\n",
       "      <td>1.0</td>\n",
       "      <td>...</td>\n",
       "      <td>history</td>\n",
       "      <td>2015</td>\n",
       "      <td>2016</td>\n",
       "      <td>5900000</td>\n",
       "      <td>Jamie McGinn</td>\n",
       "      <td>2014</td>\n",
       "      <td>69000000</td>\n",
       "      <td>4.28</td>\n",
       "      <td>25</td>\n",
       "      <td>RFA</td>\n",
       "    </tr>\n",
       "    <tr>\n",
       "      <th>4388</th>\n",
       "      <td>5709</td>\n",
       "      <td>Carter</td>\n",
       "      <td>Verhaeghe</td>\n",
       "      <td>Left Wing</td>\n",
       "      <td>1995-08-14</td>\n",
       "      <td>2018</td>\n",
       "      <td>17.0</td>\n",
       "      <td>Lightning</td>\n",
       "      <td>650000</td>\n",
       "      <td>NaN</td>\n",
       "      <td>...</td>\n",
       "      <td>current</td>\n",
       "      <td>2018</td>\n",
       "      <td>2023</td>\n",
       "      <td>650000</td>\n",
       "      <td>Carter Verhaeghe</td>\n",
       "      <td>2018</td>\n",
       "      <td>79500000</td>\n",
       "      <td>0.82</td>\n",
       "      <td>22</td>\n",
       "      <td>RFA</td>\n",
       "    </tr>\n",
       "    <tr>\n",
       "      <th>3355</th>\n",
       "      <td>4756</td>\n",
       "      <td>Paul</td>\n",
       "      <td>Carey</td>\n",
       "      <td>Center</td>\n",
       "      <td>1988-09-24</td>\n",
       "      <td>2018</td>\n",
       "      <td>3.0</td>\n",
       "      <td>Bruins</td>\n",
       "      <td>700000</td>\n",
       "      <td>NaN</td>\n",
       "      <td>...</td>\n",
       "      <td>current</td>\n",
       "      <td>2018</td>\n",
       "      <td>2016</td>\n",
       "      <td>700000</td>\n",
       "      <td>Paul Carey</td>\n",
       "      <td>2018</td>\n",
       "      <td>79500000</td>\n",
       "      <td>0.88</td>\n",
       "      <td>29</td>\n",
       "      <td>UFA</td>\n",
       "    </tr>\n",
       "    <tr>\n",
       "      <th>1722</th>\n",
       "      <td>3564</td>\n",
       "      <td>Jordan</td>\n",
       "      <td>Schroeder</td>\n",
       "      <td>Left Wing</td>\n",
       "      <td>1990-09-29</td>\n",
       "      <td>2017</td>\n",
       "      <td>22.0</td>\n",
       "      <td>Blackhawks</td>\n",
       "      <td>650000</td>\n",
       "      <td>0.0</td>\n",
       "      <td>...</td>\n",
       "      <td>current</td>\n",
       "      <td>2018</td>\n",
       "      <td>2018</td>\n",
       "      <td>1300000</td>\n",
       "      <td>Jordan Schroeder</td>\n",
       "      <td>2017</td>\n",
       "      <td>75000000</td>\n",
       "      <td>0.87</td>\n",
       "      <td>26</td>\n",
       "      <td>RFA</td>\n",
       "    </tr>\n",
       "  </tbody>\n",
       "</table>\n",
       "<p>8 rows × 26 columns</p>\n",
       "</div>"
      ],
      "text/plain": [
       "      player_id first_name  last_name    position  birthdate  season  team_id  \\\n",
       "1848       3678     Calvin    de Haan     Defense 1991-05-09    2017      5.0   \n",
       "6453      16932      Calle      Rosen     Defense 1994-02-02    2019      8.0   \n",
       "5759       6577       Joel     Hanley     Defense 1991-06-08    2016     20.0   \n",
       "2696       4335        Cam   Atkinson  Right Wing 1989-06-05    2015     30.0   \n",
       "816        2475      Jamie     McGinn   Left Wing 1988-08-05    2015     14.0   \n",
       "4388       5709     Carter  Verhaeghe   Left Wing 1995-08-14    2018     17.0   \n",
       "3355       4756       Paul      Carey      Center 1988-09-24    2018      3.0   \n",
       "1722       3564     Jordan  Schroeder   Left Wing 1990-09-29    2017     22.0   \n",
       "\n",
       "         team_name  cap_hit  active       ...       contract_type  \\\n",
       "1848    Hurricanes  3300000     1.0       ...             history   \n",
       "6453   Maple Leafs   750000     0.0       ...              future   \n",
       "5759         Stars   600000     NaN       ...             history   \n",
       "2696  Blue Jackets  3500000     1.0       ...             history   \n",
       "816       Panthers  2950000     1.0       ...             history   \n",
       "4388     Lightning   650000     NaN       ...             current   \n",
       "3355        Bruins   700000     NaN       ...             current   \n",
       "1722    Blackhawks   650000     0.0       ...             current   \n",
       "\n",
       "     contract_end  ufa_year total_value            Player signing_year  \\\n",
       "1848         2017      2018     3300000    Calvin de Haan         2017   \n",
       "6453         2020      2021     1500000       Calle Rosen         2018   \n",
       "5759         2016      2018      600000       Joel Hanley         2016   \n",
       "2696         2017      2016    10500000      Cam Atkinson         2015   \n",
       "816          2015      2016     5900000      Jamie McGinn         2014   \n",
       "4388         2018      2023      650000  Carter Verhaeghe         2018   \n",
       "3355         2018      2016      700000        Paul Carey         2018   \n",
       "1722         2018      2018     1300000  Jordan Schroeder         2017   \n",
       "\n",
       "     signing_year_cap  cap_pct  signing_age  signing_status  \n",
       "1848         75000000     4.40           26             RFA  \n",
       "6453         79500000     0.94           24             RFA  \n",
       "5759         73000000     0.82           25             RFA  \n",
       "2696         71400000     4.90           25             RFA  \n",
       "816          69000000     4.28           25             RFA  \n",
       "4388         79500000     0.82           22             RFA  \n",
       "3355         79500000     0.88           29             UFA  \n",
       "1722         75000000     0.87           26             RFA  \n",
       "\n",
       "[8 rows x 26 columns]"
      ]
     },
     "execution_count": 31,
     "metadata": {},
     "output_type": "execute_result"
    }
   ],
   "source": [
    "dff.sample(8)"
   ]
  },
  {
   "cell_type": "code",
   "execution_count": 24,
   "metadata": {},
   "outputs": [
    {
     "data": {
      "text/plain": [
       "Index(['player_id', 'first_name', 'last_name', 'position', 'birthdate',\n",
       "       'season', 'team_id', 'team_name', 'cap_hit', 'active', 'signing_date',\n",
       "       'signing_team', 'length', 'contract_level', 'contract_id',\n",
       "       'expiry_status', 'contract_type', 'contract_end', 'ufa_year',\n",
       "       'total_value', 'Player', 'signing_year', 'signing_year_cap', 'cap_pct',\n",
       "       'signing_age'],\n",
       "      dtype='object')"
      ]
     },
     "execution_count": 24,
     "metadata": {},
     "output_type": "execute_result"
    }
   ],
   "source": [
    "dff.columns"
   ]
  },
  {
   "cell_type": "code",
   "execution_count": 38,
   "metadata": {},
   "outputs": [],
   "source": [
    "dff = dff[['contract_id', 'player_id', 'Player', \n",
    "          'position', 'length', 'cap_hit', 'total_value', 'cap_pct',\n",
    "           'signing_date', 'signing_year', 'signing_age', 'signing_team', \n",
    "           'expiry_status', 'signing_status']]"
   ]
  },
  {
   "cell_type": "code",
   "execution_count": 33,
   "metadata": {},
   "outputs": [
    {
     "data": {
      "text/html": [
       "<div>\n",
       "<style scoped>\n",
       "    .dataframe tbody tr th:only-of-type {\n",
       "        vertical-align: middle;\n",
       "    }\n",
       "\n",
       "    .dataframe tbody tr th {\n",
       "        vertical-align: top;\n",
       "    }\n",
       "\n",
       "    .dataframe thead th {\n",
       "        text-align: right;\n",
       "    }\n",
       "</style>\n",
       "<table border=\"1\" class=\"dataframe\">\n",
       "  <thead>\n",
       "    <tr style=\"text-align: right;\">\n",
       "      <th></th>\n",
       "      <th>contract_id</th>\n",
       "      <th>player_id</th>\n",
       "      <th>Player</th>\n",
       "      <th>first_name</th>\n",
       "      <th>last_name</th>\n",
       "      <th>position</th>\n",
       "      <th>length</th>\n",
       "      <th>cap_hit</th>\n",
       "      <th>total_value</th>\n",
       "      <th>cap_pct</th>\n",
       "      <th>signing_date</th>\n",
       "      <th>signing_year</th>\n",
       "      <th>signing_age</th>\n",
       "      <th>signing_team</th>\n",
       "      <th>expiry_status</th>\n",
       "      <th>signing_status</th>\n",
       "    </tr>\n",
       "  </thead>\n",
       "  <tbody>\n",
       "    <tr>\n",
       "      <th>0</th>\n",
       "      <td>4124</td>\n",
       "      <td>103</td>\n",
       "      <td>Roberto Luongo</td>\n",
       "      <td>Roberto</td>\n",
       "      <td>Luongo</td>\n",
       "      <td>Goaltender</td>\n",
       "      <td>12</td>\n",
       "      <td>5333333</td>\n",
       "      <td>63999996</td>\n",
       "      <td>9.39</td>\n",
       "      <td>2009-09-02</td>\n",
       "      <td>2009</td>\n",
       "      <td>30</td>\n",
       "      <td>NaN</td>\n",
       "      <td>UFA</td>\n",
       "      <td>UFA</td>\n",
       "    </tr>\n",
       "    <tr>\n",
       "      <th>7</th>\n",
       "      <td>2837</td>\n",
       "      <td>155</td>\n",
       "      <td>Ryan Miller</td>\n",
       "      <td>Ryan</td>\n",
       "      <td>Miller</td>\n",
       "      <td>Goaltender</td>\n",
       "      <td>3</td>\n",
       "      <td>6000000</td>\n",
       "      <td>18000000</td>\n",
       "      <td>8.70</td>\n",
       "      <td>2014-07-01</td>\n",
       "      <td>2014</td>\n",
       "      <td>33</td>\n",
       "      <td>Vancouver Canucks</td>\n",
       "      <td>UFA</td>\n",
       "      <td>UFA</td>\n",
       "    </tr>\n",
       "    <tr>\n",
       "      <th>9</th>\n",
       "      <td>2832</td>\n",
       "      <td>155</td>\n",
       "      <td>Ryan Miller</td>\n",
       "      <td>Ryan</td>\n",
       "      <td>Miller</td>\n",
       "      <td>Goaltender</td>\n",
       "      <td>2</td>\n",
       "      <td>2000000</td>\n",
       "      <td>4000000</td>\n",
       "      <td>2.67</td>\n",
       "      <td>2017-07-01</td>\n",
       "      <td>2017</td>\n",
       "      <td>36</td>\n",
       "      <td>Anaheim Ducks</td>\n",
       "      <td>UFA</td>\n",
       "      <td>UFA</td>\n",
       "    </tr>\n",
       "    <tr>\n",
       "      <th>11</th>\n",
       "      <td>4078</td>\n",
       "      <td>156</td>\n",
       "      <td>Craig Anderson</td>\n",
       "      <td>Craig</td>\n",
       "      <td>Anderson</td>\n",
       "      <td>Goaltender</td>\n",
       "      <td>3</td>\n",
       "      <td>4200000</td>\n",
       "      <td>12600000</td>\n",
       "      <td>6.09</td>\n",
       "      <td>2014-08-25</td>\n",
       "      <td>2014</td>\n",
       "      <td>33</td>\n",
       "      <td>NaN</td>\n",
       "      <td>UFA</td>\n",
       "      <td>UFA</td>\n",
       "    </tr>\n",
       "    <tr>\n",
       "      <th>14</th>\n",
       "      <td>4079</td>\n",
       "      <td>156</td>\n",
       "      <td>Craig Anderson</td>\n",
       "      <td>Craig</td>\n",
       "      <td>Anderson</td>\n",
       "      <td>Goaltender</td>\n",
       "      <td>2</td>\n",
       "      <td>4750000</td>\n",
       "      <td>9500000</td>\n",
       "      <td>6.33</td>\n",
       "      <td>2017-09-29</td>\n",
       "      <td>2017</td>\n",
       "      <td>36</td>\n",
       "      <td>NaN</td>\n",
       "      <td>UFA</td>\n",
       "      <td>UFA</td>\n",
       "    </tr>\n",
       "  </tbody>\n",
       "</table>\n",
       "</div>"
      ],
      "text/plain": [
       "    contract_id  player_id          Player first_name last_name    position  \\\n",
       "0          4124        103  Roberto Luongo    Roberto    Luongo  Goaltender   \n",
       "7          2837        155     Ryan Miller       Ryan    Miller  Goaltender   \n",
       "9          2832        155     Ryan Miller       Ryan    Miller  Goaltender   \n",
       "11         4078        156  Craig Anderson      Craig  Anderson  Goaltender   \n",
       "14         4079        156  Craig Anderson      Craig  Anderson  Goaltender   \n",
       "\n",
       "    length  cap_hit  total_value  cap_pct signing_date  signing_year  \\\n",
       "0       12  5333333     63999996     9.39   2009-09-02          2009   \n",
       "7        3  6000000     18000000     8.70   2014-07-01          2014   \n",
       "9        2  2000000      4000000     2.67   2017-07-01          2017   \n",
       "11       3  4200000     12600000     6.09   2014-08-25          2014   \n",
       "14       2  4750000      9500000     6.33   2017-09-29          2017   \n",
       "\n",
       "    signing_age       signing_team expiry_status signing_status  \n",
       "0            30                NaN           UFA            UFA  \n",
       "7            33  Vancouver Canucks           UFA            UFA  \n",
       "9            36      Anaheim Ducks           UFA            UFA  \n",
       "11           33                NaN           UFA            UFA  \n",
       "14           36                NaN           UFA            UFA  "
      ]
     },
     "execution_count": 33,
     "metadata": {},
     "output_type": "execute_result"
    }
   ],
   "source": [
    "dff.head()"
   ]
  },
  {
   "cell_type": "code",
   "execution_count": 34,
   "metadata": {},
   "outputs": [
    {
     "data": {
      "text/plain": [
       "(2004, 16)"
      ]
     },
     "execution_count": 34,
     "metadata": {},
     "output_type": "execute_result"
    }
   ],
   "source": [
    "dff.shape"
   ]
  },
  {
   "cell_type": "code",
   "execution_count": 25,
   "metadata": {},
   "outputs": [],
   "source": [
    "df_pst = pd.read_csv('../data/all_pst.csv')"
   ]
  },
  {
   "cell_type": "code",
   "execution_count": 12,
   "metadata": {},
   "outputs": [],
   "source": [
    "df['Player'] = df['first_name'] + ' ' + df['last_name']"
   ]
  },
  {
   "cell_type": "code",
   "execution_count": 15,
   "metadata": {},
   "outputs": [
    {
     "data": {
      "text/plain": [
       "3547      Patrick Sieloff\n",
       "1621         Chad Johnson\n",
       "1902    Jakob Silfverberg\n",
       "4087        Chad Ruhwedel\n",
       "2604     Korbinian Holzer\n",
       "3952    Frederik Gauthier\n",
       "2054       Mitch Callahan\n",
       "2205        Charlie Coyle\n",
       "Name: Player, dtype: object"
      ]
     },
     "execution_count": 15,
     "metadata": {},
     "output_type": "execute_result"
    }
   ],
   "source": [
    "df['Player'].sample(8)"
   ]
  },
  {
   "cell_type": "code",
   "execution_count": null,
   "metadata": {},
   "outputs": [],
   "source": [
    "df['Player_Year'] = df['Player'] + ' ' + df['signing_year']"
   ]
  },
  {
   "cell_type": "code",
   "execution_count": 12,
   "metadata": {},
   "outputs": [
    {
     "data": {
      "text/plain": [
       "Index(['Unnamed: 0', 'Unnamed: 0.1', 'Player', 'Team', 'Position', 'GP', 'TOI',\n",
       "       'Goals', 'Total Assists', 'First Assists', 'Second Assists',\n",
       "       'Total Points', 'IPP', 'Shots', 'SH%', 'iCF', 'iFF', 'iSCF', 'iHDCF',\n",
       "       'Rush Attempts', 'Rebounds Created', 'PIM', 'Total Penalties', 'Minor',\n",
       "       'Major', 'Misconduct', 'Penalties Drawn', 'Giveaways', 'Takeaways',\n",
       "       'Hits', 'Hits Taken', 'Shots Blocked', 'Faceoffs Won', 'Faceoffs Lost',\n",
       "       'Faceoffs %'],\n",
       "      dtype='object')"
      ]
     },
     "execution_count": 12,
     "metadata": {},
     "output_type": "execute_result"
    }
   ],
   "source": [
    "df_pst.columns"
   ]
  },
  {
   "cell_type": "code",
   "execution_count": 26,
   "metadata": {},
   "outputs": [
    {
     "data": {
      "text/html": [
       "<div>\n",
       "<style scoped>\n",
       "    .dataframe tbody tr th:only-of-type {\n",
       "        vertical-align: middle;\n",
       "    }\n",
       "\n",
       "    .dataframe tbody tr th {\n",
       "        vertical-align: top;\n",
       "    }\n",
       "\n",
       "    .dataframe thead th {\n",
       "        text-align: right;\n",
       "    }\n",
       "</style>\n",
       "<table border=\"1\" class=\"dataframe\">\n",
       "  <thead>\n",
       "    <tr style=\"text-align: right;\">\n",
       "      <th></th>\n",
       "      <th>Unnamed: 0</th>\n",
       "      <th>Unnamed: 0.1</th>\n",
       "      <th>Player</th>\n",
       "      <th>Team</th>\n",
       "      <th>Position</th>\n",
       "      <th>GP</th>\n",
       "      <th>TOI</th>\n",
       "      <th>Goals</th>\n",
       "      <th>Total Assists</th>\n",
       "      <th>First Assists</th>\n",
       "      <th>...</th>\n",
       "      <th>Misconduct</th>\n",
       "      <th>Penalties Drawn</th>\n",
       "      <th>Giveaways</th>\n",
       "      <th>Takeaways</th>\n",
       "      <th>Hits</th>\n",
       "      <th>Hits Taken</th>\n",
       "      <th>Shots Blocked</th>\n",
       "      <th>Faceoffs Won</th>\n",
       "      <th>Faceoffs Lost</th>\n",
       "      <th>Faceoffs %</th>\n",
       "    </tr>\n",
       "  </thead>\n",
       "  <tbody>\n",
       "    <tr>\n",
       "      <th>0</th>\n",
       "      <td>0</td>\n",
       "      <td>2017</td>\n",
       "      <td>Connor McDavid</td>\n",
       "      <td>EDM</td>\n",
       "      <td>C</td>\n",
       "      <td>82</td>\n",
       "      <td>1766.800000</td>\n",
       "      <td>41</td>\n",
       "      <td>67</td>\n",
       "      <td>39</td>\n",
       "      <td>...</td>\n",
       "      <td>0</td>\n",
       "      <td>36</td>\n",
       "      <td>67</td>\n",
       "      <td>111</td>\n",
       "      <td>28</td>\n",
       "      <td>118</td>\n",
       "      <td>46</td>\n",
       "      <td>376</td>\n",
       "      <td>533</td>\n",
       "      <td>41.36</td>\n",
       "    </tr>\n",
       "    <tr>\n",
       "      <th>1</th>\n",
       "      <td>1</td>\n",
       "      <td>2017</td>\n",
       "      <td>Claude Giroux</td>\n",
       "      <td>PHI</td>\n",
       "      <td>C</td>\n",
       "      <td>82</td>\n",
       "      <td>1669.800000</td>\n",
       "      <td>34</td>\n",
       "      <td>68</td>\n",
       "      <td>33</td>\n",
       "      <td>...</td>\n",
       "      <td>0</td>\n",
       "      <td>26</td>\n",
       "      <td>44</td>\n",
       "      <td>34</td>\n",
       "      <td>30</td>\n",
       "      <td>54</td>\n",
       "      <td>23</td>\n",
       "      <td>638</td>\n",
       "      <td>450</td>\n",
       "      <td>58.64</td>\n",
       "    </tr>\n",
       "    <tr>\n",
       "      <th>2</th>\n",
       "      <td>2</td>\n",
       "      <td>2017</td>\n",
       "      <td>Nikita Kucherov</td>\n",
       "      <td>T.B</td>\n",
       "      <td>R</td>\n",
       "      <td>80</td>\n",
       "      <td>1585.716667</td>\n",
       "      <td>39</td>\n",
       "      <td>61</td>\n",
       "      <td>33</td>\n",
       "      <td>...</td>\n",
       "      <td>0</td>\n",
       "      <td>36</td>\n",
       "      <td>79</td>\n",
       "      <td>66</td>\n",
       "      <td>31</td>\n",
       "      <td>92</td>\n",
       "      <td>15</td>\n",
       "      <td>3</td>\n",
       "      <td>2</td>\n",
       "      <td>60.00</td>\n",
       "    </tr>\n",
       "    <tr>\n",
       "      <th>3</th>\n",
       "      <td>3</td>\n",
       "      <td>2017</td>\n",
       "      <td>Evgeni Malkin</td>\n",
       "      <td>PIT</td>\n",
       "      <td>C</td>\n",
       "      <td>78</td>\n",
       "      <td>1481.216667</td>\n",
       "      <td>42</td>\n",
       "      <td>56</td>\n",
       "      <td>32</td>\n",
       "      <td>...</td>\n",
       "      <td>1</td>\n",
       "      <td>30</td>\n",
       "      <td>73</td>\n",
       "      <td>75</td>\n",
       "      <td>48</td>\n",
       "      <td>98</td>\n",
       "      <td>32</td>\n",
       "      <td>460</td>\n",
       "      <td>592</td>\n",
       "      <td>43.73</td>\n",
       "    </tr>\n",
       "    <tr>\n",
       "      <th>4</th>\n",
       "      <td>4</td>\n",
       "      <td>2017</td>\n",
       "      <td>Nathan MacKinnon</td>\n",
       "      <td>COL</td>\n",
       "      <td>C</td>\n",
       "      <td>74</td>\n",
       "      <td>1472.983333</td>\n",
       "      <td>39</td>\n",
       "      <td>58</td>\n",
       "      <td>38</td>\n",
       "      <td>...</td>\n",
       "      <td>1</td>\n",
       "      <td>24</td>\n",
       "      <td>41</td>\n",
       "      <td>36</td>\n",
       "      <td>38</td>\n",
       "      <td>74</td>\n",
       "      <td>22</td>\n",
       "      <td>485</td>\n",
       "      <td>672</td>\n",
       "      <td>41.92</td>\n",
       "    </tr>\n",
       "  </tbody>\n",
       "</table>\n",
       "<p>5 rows × 35 columns</p>\n",
       "</div>"
      ],
      "text/plain": [
       "   Unnamed: 0  Unnamed: 0.1            Player Team Position  GP          TOI  \\\n",
       "0           0          2017    Connor McDavid  EDM        C  82  1766.800000   \n",
       "1           1          2017     Claude Giroux  PHI        C  82  1669.800000   \n",
       "2           2          2017   Nikita Kucherov  T.B        R  80  1585.716667   \n",
       "3           3          2017     Evgeni Malkin  PIT        C  78  1481.216667   \n",
       "4           4          2017  Nathan MacKinnon  COL        C  74  1472.983333   \n",
       "\n",
       "   Goals  Total Assists  First Assists     ...      Misconduct  \\\n",
       "0     41             67             39     ...               0   \n",
       "1     34             68             33     ...               0   \n",
       "2     39             61             33     ...               0   \n",
       "3     42             56             32     ...               1   \n",
       "4     39             58             38     ...               1   \n",
       "\n",
       "   Penalties Drawn Giveaways  Takeaways Hits  Hits Taken  Shots Blocked  \\\n",
       "0               36        67        111   28         118             46   \n",
       "1               26        44         34   30          54             23   \n",
       "2               36        79         66   31          92             15   \n",
       "3               30        73         75   48          98             32   \n",
       "4               24        41         36   38          74             22   \n",
       "\n",
       "   Faceoffs Won  Faceoffs Lost  Faceoffs %  \n",
       "0           376            533       41.36  \n",
       "1           638            450       58.64  \n",
       "2             3              2       60.00  \n",
       "3           460            592       43.73  \n",
       "4           485            672       41.92  \n",
       "\n",
       "[5 rows x 35 columns]"
      ]
     },
     "execution_count": 26,
     "metadata": {},
     "output_type": "execute_result"
    }
   ],
   "source": [
    "df_pst.head()"
   ]
  },
  {
   "cell_type": "code",
   "execution_count": 27,
   "metadata": {},
   "outputs": [],
   "source": [
    "df_pst.drop('Unnamed: 0', axis=1, inplace=True)"
   ]
  },
  {
   "cell_type": "code",
   "execution_count": 28,
   "metadata": {},
   "outputs": [],
   "source": [
    "df_pst['Season'] = df_pst['Unnamed: 0.1']\n",
    "df_pst.drop('Unnamed: 0.1', axis = 1, inplace=True)"
   ]
  },
  {
   "cell_type": "code",
   "execution_count": 29,
   "metadata": {},
   "outputs": [],
   "source": [
    "df_pst['Season_Player'] = str(df_pst['Season']) + ' ' + df_pst['Player']"
   ]
  },
  {
   "cell_type": "code",
   "execution_count": 30,
   "metadata": {},
   "outputs": [
    {
     "data": {
      "text/plain": [
       "Index(['Player', 'Team', 'Position', 'GP', 'TOI', 'Goals', 'Total Assists',\n",
       "       'First Assists', 'Second Assists', 'Total Points', 'IPP', 'Shots',\n",
       "       'SH%', 'iCF', 'iFF', 'iSCF', 'iHDCF', 'Rush Attempts',\n",
       "       'Rebounds Created', 'PIM', 'Total Penalties', 'Minor', 'Major',\n",
       "       'Misconduct', 'Penalties Drawn', 'Giveaways', 'Takeaways', 'Hits',\n",
       "       'Hits Taken', 'Shots Blocked', 'Faceoffs Won', 'Faceoffs Lost',\n",
       "       'Faceoffs %', 'Season', 'Season_Player'],\n",
       "      dtype='object')"
      ]
     },
     "execution_count": 30,
     "metadata": {},
     "output_type": "execute_result"
    }
   ],
   "source": [
    "df_pst.columns"
   ]
  },
  {
   "cell_type": "code",
   "execution_count": 33,
   "metadata": {},
   "outputs": [],
   "source": [
    "df_pst = df_pst[['Season_Player', 'Player', 'Season', 'Position', 'GP', 'TOI', 'Goals', \n",
    "                'Total Assists', 'First Assists', 'Second Assists', 'Total Points',\n",
    "               'IPP', 'Shots', 'SH%', 'iCF', 'iFF', 'iSCF', 'iHDCF', 'Rush Attempts',\n",
    "               'Rebounds Created', 'PIM', 'Total Penalties', 'Minor', 'Major',\n",
    "               'Misconduct', 'Penalties Drawn', 'Giveaways', 'Takeaways', 'Hits',\n",
    "               'Hits Taken', 'Shots Blocked', 'Faceoffs Won', 'Faceoffs Lost',\n",
    "               'Faceoffs %'\n",
    "                ]]"
   ]
  },
  {
   "cell_type": "code",
   "execution_count": 32,
   "metadata": {},
   "outputs": [],
   "source": [
    "df_pst['Season_Player'] = df_pst.Season\n",
    "df_pst.Season_Player = df_pst.Season_Player.apply(str)\n",
    "df_pst['Season_Player'] = df_pst.Season_Player + ' ' + df_pst.Player"
   ]
  },
  {
   "cell_type": "code",
   "execution_count": 93,
   "metadata": {},
   "outputs": [],
   "source": [
    "df_pst['_id'] = range(df_pst.shape[0])\n",
    "df_pst.drop('_id', axis =1, inplace=True)"
   ]
  },
  {
   "cell_type": "code",
   "execution_count": 34,
   "metadata": {},
   "outputs": [
    {
     "data": {
      "text/plain": [
       "'2017 Connor McDavid'"
      ]
     },
     "execution_count": 34,
     "metadata": {},
     "output_type": "execute_result"
    }
   ],
   "source": [
    "df_pst.Season_Player[0]"
   ]
  },
  {
   "cell_type": "code",
   "execution_count": 35,
   "metadata": {},
   "outputs": [
    {
     "data": {
      "text/plain": [
       "(9684, 34)"
      ]
     },
     "execution_count": 35,
     "metadata": {},
     "output_type": "execute_result"
    }
   ],
   "source": [
    "df_pst.shape"
   ]
  },
  {
   "cell_type": "code",
   "execution_count": 36,
   "metadata": {},
   "outputs": [
    {
     "data": {
      "text/plain": [
       "Season_Player       2017 Connor McDavid\n",
       "Player                   Connor McDavid\n",
       "Season                             2017\n",
       "Position                              C\n",
       "GP                                   82\n",
       "TOI                              1766.8\n",
       "Goals                                41\n",
       "Total Assists                        67\n",
       "First Assists                        39\n",
       "Second Assists                       28\n",
       "Total Points                        108\n",
       "IPP                               88.52\n",
       "Shots                               275\n",
       "SH%                               14.91\n",
       "iCF                                 434\n",
       "iFF                                 357\n",
       "iSCF                                329\n",
       "iHDCF                               173\n",
       "Rush Attempts                        18\n",
       "Rebounds Created                     34\n",
       "PIM                                  14\n",
       "Total Penalties                       7\n",
       "Minor                                 7\n",
       "Major                                 0\n",
       "Misconduct                            0\n",
       "Penalties Drawn                      36\n",
       "Giveaways                            67\n",
       "Takeaways                           111\n",
       "Hits                                 28\n",
       "Hits Taken                          118\n",
       "Shots Blocked                        46\n",
       "Faceoffs Won                        376\n",
       "Faceoffs Lost                       533\n",
       "Faceoffs %                        41.36\n",
       "Name: 0, dtype: object"
      ]
     },
     "execution_count": 36,
     "metadata": {},
     "output_type": "execute_result"
    }
   ],
   "source": [
    "df_pst.iloc[0]"
   ]
  },
  {
   "cell_type": "code",
   "execution_count": 51,
   "metadata": {},
   "outputs": [],
   "source": [
    "#remove hyphens that throw off the SQL schema and replace them with 0\n",
    "df_pst['Faceoffs %'].replace(['-'], [0], inplace=True)\n",
    "df_pst['SH%'].replace(['-'], [0], inplace=True)\n",
    "df_pst['IPP'].replace(['-'], [0], inplace=True)"
   ]
  },
  {
   "cell_type": "code",
   "execution_count": 47,
   "metadata": {},
   "outputs": [
    {
     "data": {
      "text/plain": [
       "0"
      ]
     },
     "execution_count": 47,
     "metadata": {},
     "output_type": "execute_result"
    }
   ],
   "source": [
    "(df_pst['Faceoffs %'] == '-').sum()"
   ]
  },
  {
   "cell_type": "code",
   "execution_count": 75,
   "metadata": {},
   "outputs": [
    {
     "data": {
      "text/plain": [
       "D       3305\n",
       "C       2596\n",
       "L       1912\n",
       "R       1757\n",
       "C, L      62\n",
       "C, R      32\n",
       "L, R      19\n",
       "D, R       1\n",
       "Name: Position, dtype: int64"
      ]
     },
     "execution_count": 75,
     "metadata": {},
     "output_type": "execute_result"
    }
   ],
   "source": [
    "df_pst.Position.value_counts()"
   ]
  },
  {
   "cell_type": "code",
   "execution_count": 43,
   "metadata": {},
   "outputs": [
    {
     "data": {
      "text/plain": [
       "2008 Alexandre Picard        True\n",
       "2007 Alexandre Picard        True\n",
       "2009 Alexandre Picard        True\n",
       "2017 Sebastian Aho           True\n",
       "2016 Riley Barber           False\n",
       "2007 Brad Winchester        False\n",
       "2010 Aaron Palushaj         False\n",
       "2007 Robyn Regehr           False\n",
       "2016 Nikolay Kulemin        False\n",
       "2010 Chris Summers          False\n",
       "2016 Nikita Zadorov         False\n",
       "2011 Justin Faulk           False\n",
       "2008 Antti Miettinen        False\n",
       "2017 Mirco Mueller          False\n",
       "2007 Rob Blake              False\n",
       "2013 Matt Martin            False\n",
       "2013 Philip Larsen          False\n",
       "2007 Adam Berti             False\n",
       "2014 Nicolas Deslauriers    False\n",
       "2008 Ryan Callahan          False\n",
       "2008 David Jones            False\n",
       "2011 Brendan Bell           False\n",
       "2008 Ian White              False\n",
       "2017 Mike Reilly            False\n",
       "2010 Justin Abdelkader      False\n",
       "2014 Kevin Klein            False\n",
       "2008 Eric Godard            False\n",
       "2013 R.J. Umberger          False\n",
       "2011 Ryan Smyth             False\n",
       "2017 Mark Letestu           False\n",
       "                            ...  \n",
       "2013 Ron Hainsey            False\n",
       "2008 Shane O'Brien          False\n",
       "2016 Chris Tierney          False\n",
       "2016 Kyle Brodziak          False\n",
       "2013 Tyson Barrie           False\n",
       "2013 Patrik Nemeth          False\n",
       "2007 Dennis Seidenberg      False\n",
       "2017 William Carrier        False\n",
       "2007 Paul Kariya            False\n",
       "2008 Marc Savard            False\n",
       "2016 Brandon Montour        False\n",
       "2009 Matt Pettinger         False\n",
       "2014 Nikita Zadorov         False\n",
       "2016 Jimmy Vesey            False\n",
       "2015 Noel Acciari           False\n",
       "2008 Loui Eriksson          False\n",
       "2009 Eric Brewer            False\n",
       "2011 Ryan McDonagh          False\n",
       "2014 James van Riemsdyk     False\n",
       "2016 Dmitry Orlov           False\n",
       "2017 Anthony Peluso         False\n",
       "2008 Colin Fraser           False\n",
       "2012 Erik Cole              False\n",
       "2013 Jakub Kindl            False\n",
       "2011 Mattias Ritola         False\n",
       "2010 Freddy Meyer           False\n",
       "2013 Brendan Smith          False\n",
       "2015 Stuart Percy           False\n",
       "2009 Dustin Kohn            False\n",
       "2017 Jamie Oleksiak         False\n",
       "Name: Season_Player, Length: 9680, dtype: bool"
      ]
     },
     "execution_count": 43,
     "metadata": {},
     "output_type": "execute_result"
    }
   ],
   "source": [
    "df_pst.Season_Player.value_counts() == 2"
   ]
  },
  {
   "cell_type": "markdown",
   "metadata": {},
   "source": [
    "Drop players who ended up with duplicates. There are only 2, and neither ended up in my contracts database."
   ]
  },
  {
   "cell_type": "code",
   "execution_count": 44,
   "metadata": {},
   "outputs": [],
   "source": [
    "df_pst.drop(df_pst[df_pst['Player'] == 'Alexandre Picard'].index, inplace=True)\n",
    "df_pst.drop(df_pst[df_pst['Player'] == 'Sebastian Aho'].index, inplace=True)"
   ]
  },
  {
   "cell_type": "code",
   "execution_count": 52,
   "metadata": {},
   "outputs": [],
   "source": [
    "df_pst.to_csv('../data/pst_clean.csv', header=False, index=False)"
   ]
  },
  {
   "cell_type": "code",
   "execution_count": 53,
   "metadata": {},
   "outputs": [
    {
     "data": {
      "text/plain": [
       "2234"
      ]
     },
     "execution_count": 53,
     "metadata": {},
     "output_type": "execute_result"
    }
   ],
   "source": [
    "len(df_pst.Player.unique())"
   ]
  },
  {
   "cell_type": "code",
   "execution_count": 55,
   "metadata": {},
   "outputs": [
    {
     "ename": "NameError",
     "evalue": "name 'df' is not defined",
     "output_type": "error",
     "traceback": [
      "\u001b[0;31m---------------------------------------------------------------------------\u001b[0m",
      "\u001b[0;31mNameError\u001b[0m                                 Traceback (most recent call last)",
      "\u001b[0;32m<ipython-input-55-955a28a306ee>\u001b[0m in \u001b[0;36m<module>\u001b[0;34m()\u001b[0m\n\u001b[0;32m----> 1\u001b[0;31m \u001b[0mlen\u001b[0m\u001b[0;34m(\u001b[0m\u001b[0mdf\u001b[0m\u001b[0;34m.\u001b[0m\u001b[0mplayer\u001b[0m\u001b[0;34m.\u001b[0m\u001b[0munique\u001b[0m\u001b[0;34m(\u001b[0m\u001b[0;34m)\u001b[0m\u001b[0;34m)\u001b[0m\u001b[0;34m\u001b[0m\u001b[0m\n\u001b[0m",
      "\u001b[0;31mNameError\u001b[0m: name 'df' is not defined"
     ]
    }
   ],
   "source": [
    "len(df.player.unique())"
   ]
  },
  {
   "cell_type": "code",
   "execution_count": null,
   "metadata": {},
   "outputs": [],
   "source": []
  },
  {
   "cell_type": "code",
   "execution_count": null,
   "metadata": {},
   "outputs": [],
   "source": []
  },
  {
   "cell_type": "code",
   "execution_count": 76,
   "metadata": {},
   "outputs": [],
   "source": [
    "def clean_data(file = None):\n",
    "    #load in dataframe from csv\n",
    "    if file:\n",
    "        df = pd.read_csv(file)\n",
    "    else:\n",
    "        df = pd.read_csv('../data/Contract_Details_PuckPedia_Mar_2019_Confidential.csv')\n",
    "\n",
    "    #Drop columns I won't be using\n",
    "    df.drop(['buyout_id', 'base_salary', 'p_bonuses', 's_bonuses',\n",
    "            'total_salary'], axis=1, inplace=True)\n",
    "\n",
    "    #rename Total Value column to a format I prefer\n",
    "    df['total_value'] = df[' Total Value ']\n",
    "    df.drop(' Total Value ', axis=1, inplace=True)\n",
    "\n",
    "    #create a column for full player name\n",
    "    df['Player'] = df['first_name'] + ' ' + df['last_name']\n",
    "\n",
    "    #make a function to convert money strings to ints and apply\n",
    "    money_to_int = lambda x: int(x.strip().strip('$()').replace(',', ''))\n",
    "    df['cap_hit'] = df['cap_hit'].apply(money_to_int)\n",
    "    df['total_value'] = df['total_value'].apply(money_to_int)\n",
    "\n",
    "    #convert signing date and birthdate to date format and pull out the signing year\n",
    "    df.signing_date = pd.to_datetime(df.signing_date)\n",
    "    df.birthdate = pd.to_datetime(df.birthdate)\n",
    "    df['signing_year'] = pd.DatetimeIndex(df.signing_date).year\n",
    "    \n",
    "    #get age at contract signing_date (not accounting for leap days)\n",
    "    df['signing_age'] = df.signing_date - df.birthdate\n",
    "    df.signing_age = df.signing_age.apply(lambda x: x.days // 365)\n",
    "    \n",
    "    #convert signing_date to a date instead of a datetime\n",
    "    df['signing_date'] = pd.DatetimeIndex(df['signing_date']).date\n",
    "\n",
    "    #remove row that had NaN for signing year (Defenseman Fyodor Tyutin had\n",
    "    #the contract listed in other rows also so no data is lost\n",
    "    df.drop(6991, axis=0, inplace=True)\n",
    "\n",
    "    #Make signing year an int instead of a float\n",
    "    df.signing_year = df.signing_year.apply(int)\n",
    "\n",
    "    #Manually entered league salary cap history\n",
    "    scap = {\n",
    "            2005: 39000000,\n",
    "            2006: 44000000,\n",
    "            2007: 50300000,\n",
    "            2008: 56700000,\n",
    "            2009: 56800000,\n",
    "            2010: 59400000,\n",
    "            2011: 64300000,\n",
    "            2012: 60000000,\n",
    "            2013: 64300000,\n",
    "            2014: 69000000,\n",
    "            2015: 71400000,\n",
    "            2016: 73000000,\n",
    "            2017: 75000000,\n",
    "            2018: 79500000,\n",
    "            2019: 83000000,\n",
    "           }\n",
    "\n",
    "    #Add a column for the total salary cap in a contract's year signed\n",
    "    df['signing_year_cap'] = df['signing_year'].apply(lambda x: scap[x])\n",
    "    # and a column for the percentage of the cap in the year signed\n",
    "    df['cap_pct'] = round(100 * df.cap_hit / df.signing_year_cap, 2)\n",
    "\n",
    "    #convert birthdate to pandas datetime\n",
    "    df.birthdate = pd.to_datetime(df.birthdate)\n",
    "\n",
    "    #convert current season and contract_end to single year ints for ease of\n",
    "    #calculations\n",
    "    df.season = df.season.apply(lambda x: int(x[:4]))\n",
    "    df.contract_end = df.contract_end.apply(lambda x: int(x[:4]))\n",
    "\n",
    "    #Drop some non-standard situations (i.e. suspensions, season-opening IR,\n",
    "    # salary retention adjustments)\n",
    "    df.drop(df[df.first_name.map(len) > 15].index, inplace=True)\n",
    "\n",
    "    #Drop one extremely young player\n",
    "    df.drop(df[df.ufa_year > 2030].index, inplace = True)\n",
    "\n",
    "    #Drop where ufa_year is null\n",
    "    df.drop(df[df.ufa_year.isnull()].index, inplace=True)\n",
    "    #Turn the remaining ufa years into integers\n",
    "    df.ufa_year = df.ufa_year.apply(int)\n",
    "\n",
    "    #Drop any contracts less than league minimum in 2009\n",
    "    df.drop(df[df.cap_hit < 500000].index, inplace=True)\n",
    "\n",
    "    #Replace the position names for two players whose positions don't match the rest\n",
    "    df.replace(['RW', 'LW'], ['Right Wing', 'Left Wing'], inplace=True)\n",
    "\n",
    "    #drop entry level contracts\n",
    "    df.drop(df[df.contract_level == 'entry_level'].index, inplace=True)\n",
    "\n",
    "    #Add a column for whether the contract was signed as UFA or RFA\n",
    "    df['signing_status'] = df['signing_year'] >= df['ufa_year']\n",
    "    df['signing_status'] = df['signing_status'].apply(ufa_check)\n",
    "\n",
    "\n",
    "    return df\n",
    "\n",
    "#auxillary function to check if contract was signed as UFA or RFA\n",
    "def ufa_check(x):\n",
    "    if x == True:\n",
    "        return 'UFA'\n",
    "    else:\n",
    "        return 'RFA'"
   ]
  },
  {
   "cell_type": "code",
   "execution_count": 77,
   "metadata": {},
   "outputs": [],
   "source": [
    "df = clean_data()"
   ]
  },
  {
   "cell_type": "code",
   "execution_count": 62,
   "metadata": {},
   "outputs": [],
   "source": [
    "df = pd.read_csv('../data/Contract_Details_PuckPedia_Mar_2019_Confidential.csv')"
   ]
  },
  {
   "cell_type": "code",
   "execution_count": 63,
   "metadata": {},
   "outputs": [],
   "source": [
    "df.drop(['buyout_id', 'base_salary', 'p_bonuses', 's_bonuses',\n",
    "            'total_salary'], axis=1, inplace=True)"
   ]
  },
  {
   "cell_type": "code",
   "execution_count": 64,
   "metadata": {},
   "outputs": [],
   "source": [
    "#rename Total Value column to a format I prefer\n",
    "df['total_value'] = df[' Total Value ']\n",
    "df.drop(' Total Value ', axis=1, inplace=True)"
   ]
  },
  {
   "cell_type": "code",
   "execution_count": 65,
   "metadata": {},
   "outputs": [],
   "source": [
    "#create a column for full player name\n",
    "df['Player'] = df['first_name'] + ' ' + df['last_name']"
   ]
  },
  {
   "cell_type": "code",
   "execution_count": 66,
   "metadata": {},
   "outputs": [],
   "source": [
    "#make a function to convert money strings to ints and apply\n",
    "money_to_int = lambda x: int(x.strip().strip('$()').replace(',', ''))\n",
    "df['cap_hit'] = df['cap_hit'].apply(money_to_int)\n",
    "df['total_value'] = df['total_value'].apply(money_to_int)"
   ]
  },
  {
   "cell_type": "code",
   "execution_count": 67,
   "metadata": {},
   "outputs": [],
   "source": [
    "#convert signing date to date format and pull out the signing year\n",
    "df.signing_date = pd.to_datetime(df.signing_date)\n",
    "\n",
    "#df['signing_date'] = pd.DatetimeIndex(df['signing_date']).date\n",
    "df['signing_year'] = pd.DatetimeIndex(df.signing_date).year"
   ]
  },
  {
   "cell_type": "code",
   "execution_count": 68,
   "metadata": {},
   "outputs": [],
   "source": [
    "#remove row that had NaN for signing year (Defenseman Fyodor Tyutin had\n",
    "#the contract listed in other rows also so no data is lost\n",
    "df.drop(6991, axis=0, inplace=True)"
   ]
  },
  {
   "cell_type": "code",
   "execution_count": 69,
   "metadata": {},
   "outputs": [],
   "source": [
    "#Make signing year an int instead of a float\n",
    "df.signing_year = df.signing_year.apply(int)"
   ]
  },
  {
   "cell_type": "code",
   "execution_count": 70,
   "metadata": {},
   "outputs": [],
   "source": [
    "#Manually entered league salary cap history\n",
    "scap = {\n",
    "        2005: 39000000,\n",
    "        2006: 44000000,\n",
    "        2007: 50300000,\n",
    "        2008: 56700000,\n",
    "        2009: 56800000,\n",
    "        2010: 59400000,\n",
    "        2011: 64300000,\n",
    "        2012: 60000000,\n",
    "        2013: 64300000,\n",
    "        2014: 69000000,\n",
    "        2015: 71400000,\n",
    "        2016: 73000000,\n",
    "        2017: 75000000,\n",
    "        2018: 79500000,\n",
    "        2019: 83000000,\n",
    "       }"
   ]
  },
  {
   "cell_type": "code",
   "execution_count": 71,
   "metadata": {},
   "outputs": [],
   "source": [
    "#Add a column for the total salary cap in a contract's year signed\n",
    "df['signing_year_cap'] = df['signing_year'].apply(lambda x: scap[x])\n",
    "# and a column for the percentage of the cap in the year signed\n",
    "df['cap_pct'] = round(100 * df.cap_hit / df.signing_year_cap, 2)"
   ]
  },
  {
   "cell_type": "code",
   "execution_count": 72,
   "metadata": {},
   "outputs": [],
   "source": [
    "#convert birthdate to pandas datetime\n",
    "df.birthdate = pd.to_datetime(df.birthdate)"
   ]
  },
  {
   "cell_type": "code",
   "execution_count": 73,
   "metadata": {},
   "outputs": [
    {
     "ename": "TypeError",
     "evalue": "ufunc subtract cannot use operands with types dtype('O') and dtype('<M8[ns]')",
     "output_type": "error",
     "traceback": [
      "\u001b[0;31m---------------------------------------------------------------------------\u001b[0m",
      "\u001b[0;31mTypeError\u001b[0m                                 Traceback (most recent call last)",
      "\u001b[0;32m~/anaconda3/lib/python3.6/site-packages/pandas/core/ops.py\u001b[0m in \u001b[0;36mna_op\u001b[0;34m(x, y)\u001b[0m\n\u001b[1;32m   1008\u001b[0m         \u001b[0;32mtry\u001b[0m\u001b[0;34m:\u001b[0m\u001b[0;34m\u001b[0m\u001b[0m\n\u001b[0;32m-> 1009\u001b[0;31m             \u001b[0mresult\u001b[0m \u001b[0;34m=\u001b[0m \u001b[0mexpressions\u001b[0m\u001b[0;34m.\u001b[0m\u001b[0mevaluate\u001b[0m\u001b[0;34m(\u001b[0m\u001b[0mop\u001b[0m\u001b[0;34m,\u001b[0m \u001b[0mstr_rep\u001b[0m\u001b[0;34m,\u001b[0m \u001b[0mx\u001b[0m\u001b[0;34m,\u001b[0m \u001b[0my\u001b[0m\u001b[0;34m,\u001b[0m \u001b[0;34m**\u001b[0m\u001b[0meval_kwargs\u001b[0m\u001b[0;34m)\u001b[0m\u001b[0;34m\u001b[0m\u001b[0m\n\u001b[0m\u001b[1;32m   1010\u001b[0m         \u001b[0;32mexcept\u001b[0m \u001b[0mTypeError\u001b[0m\u001b[0;34m:\u001b[0m\u001b[0;34m\u001b[0m\u001b[0m\n",
      "\u001b[0;32m~/anaconda3/lib/python3.6/site-packages/pandas/core/computation/expressions.py\u001b[0m in \u001b[0;36mevaluate\u001b[0;34m(op, op_str, a, b, use_numexpr, **eval_kwargs)\u001b[0m\n\u001b[1;32m    204\u001b[0m     \u001b[0;32mif\u001b[0m \u001b[0muse_numexpr\u001b[0m\u001b[0;34m:\u001b[0m\u001b[0;34m\u001b[0m\u001b[0m\n\u001b[0;32m--> 205\u001b[0;31m         \u001b[0;32mreturn\u001b[0m \u001b[0m_evaluate\u001b[0m\u001b[0;34m(\u001b[0m\u001b[0mop\u001b[0m\u001b[0;34m,\u001b[0m \u001b[0mop_str\u001b[0m\u001b[0;34m,\u001b[0m \u001b[0ma\u001b[0m\u001b[0;34m,\u001b[0m \u001b[0mb\u001b[0m\u001b[0;34m,\u001b[0m \u001b[0;34m**\u001b[0m\u001b[0meval_kwargs\u001b[0m\u001b[0;34m)\u001b[0m\u001b[0;34m\u001b[0m\u001b[0m\n\u001b[0m\u001b[1;32m    206\u001b[0m     \u001b[0;32mreturn\u001b[0m \u001b[0m_evaluate_standard\u001b[0m\u001b[0;34m(\u001b[0m\u001b[0mop\u001b[0m\u001b[0;34m,\u001b[0m \u001b[0mop_str\u001b[0m\u001b[0;34m,\u001b[0m \u001b[0ma\u001b[0m\u001b[0;34m,\u001b[0m \u001b[0mb\u001b[0m\u001b[0;34m)\u001b[0m\u001b[0;34m\u001b[0m\u001b[0m\n",
      "\u001b[0;32m~/anaconda3/lib/python3.6/site-packages/pandas/core/computation/expressions.py\u001b[0m in \u001b[0;36m_evaluate_numexpr\u001b[0;34m(op, op_str, a, b, truediv, reversed, **eval_kwargs)\u001b[0m\n\u001b[1;32m    119\u001b[0m     \u001b[0;32mif\u001b[0m \u001b[0mresult\u001b[0m \u001b[0;32mis\u001b[0m \u001b[0;32mNone\u001b[0m\u001b[0;34m:\u001b[0m\u001b[0;34m\u001b[0m\u001b[0m\n\u001b[0;32m--> 120\u001b[0;31m         \u001b[0mresult\u001b[0m \u001b[0;34m=\u001b[0m \u001b[0m_evaluate_standard\u001b[0m\u001b[0;34m(\u001b[0m\u001b[0mop\u001b[0m\u001b[0;34m,\u001b[0m \u001b[0mop_str\u001b[0m\u001b[0;34m,\u001b[0m \u001b[0ma\u001b[0m\u001b[0;34m,\u001b[0m \u001b[0mb\u001b[0m\u001b[0;34m)\u001b[0m\u001b[0;34m\u001b[0m\u001b[0m\n\u001b[0m\u001b[1;32m    121\u001b[0m \u001b[0;34m\u001b[0m\u001b[0m\n",
      "\u001b[0;32m~/anaconda3/lib/python3.6/site-packages/pandas/core/computation/expressions.py\u001b[0m in \u001b[0;36m_evaluate_standard\u001b[0;34m(op, op_str, a, b, **eval_kwargs)\u001b[0m\n\u001b[1;32m     64\u001b[0m     \u001b[0;32mwith\u001b[0m \u001b[0mnp\u001b[0m\u001b[0;34m.\u001b[0m\u001b[0merrstate\u001b[0m\u001b[0;34m(\u001b[0m\u001b[0mall\u001b[0m\u001b[0;34m=\u001b[0m\u001b[0;34m'ignore'\u001b[0m\u001b[0;34m)\u001b[0m\u001b[0;34m:\u001b[0m\u001b[0;34m\u001b[0m\u001b[0m\n\u001b[0;32m---> 65\u001b[0;31m         \u001b[0;32mreturn\u001b[0m \u001b[0mop\u001b[0m\u001b[0;34m(\u001b[0m\u001b[0ma\u001b[0m\u001b[0;34m,\u001b[0m \u001b[0mb\u001b[0m\u001b[0;34m)\u001b[0m\u001b[0;34m\u001b[0m\u001b[0m\n\u001b[0m\u001b[1;32m     66\u001b[0m \u001b[0;34m\u001b[0m\u001b[0m\n",
      "\u001b[0;31mTypeError\u001b[0m: ufunc subtract cannot use operands with types dtype('O') and dtype('<M8[ns]')",
      "\nDuring handling of the above exception, another exception occurred:\n",
      "\u001b[0;31mTypeError\u001b[0m                                 Traceback (most recent call last)",
      "\u001b[0;32m~/anaconda3/lib/python3.6/site-packages/pandas/core/ops.py\u001b[0m in \u001b[0;36msafe_na_op\u001b[0;34m(lvalues, rvalues)\u001b[0m\n\u001b[1;32m   1029\u001b[0m             \u001b[0;32mwith\u001b[0m \u001b[0mnp\u001b[0m\u001b[0;34m.\u001b[0m\u001b[0merrstate\u001b[0m\u001b[0;34m(\u001b[0m\u001b[0mall\u001b[0m\u001b[0;34m=\u001b[0m\u001b[0;34m'ignore'\u001b[0m\u001b[0;34m)\u001b[0m\u001b[0;34m:\u001b[0m\u001b[0;34m\u001b[0m\u001b[0m\n\u001b[0;32m-> 1030\u001b[0;31m                 \u001b[0;32mreturn\u001b[0m \u001b[0mna_op\u001b[0m\u001b[0;34m(\u001b[0m\u001b[0mlvalues\u001b[0m\u001b[0;34m,\u001b[0m \u001b[0mrvalues\u001b[0m\u001b[0;34m)\u001b[0m\u001b[0;34m\u001b[0m\u001b[0m\n\u001b[0m\u001b[1;32m   1031\u001b[0m         \u001b[0;32mexcept\u001b[0m \u001b[0mException\u001b[0m\u001b[0;34m:\u001b[0m\u001b[0;34m\u001b[0m\u001b[0m\n",
      "\u001b[0;32m~/anaconda3/lib/python3.6/site-packages/pandas/core/ops.py\u001b[0m in \u001b[0;36mna_op\u001b[0;34m(x, y)\u001b[0m\n\u001b[1;32m   1014\u001b[0m                 \u001b[0mmask\u001b[0m \u001b[0;34m=\u001b[0m \u001b[0mnotna\u001b[0m\u001b[0;34m(\u001b[0m\u001b[0mx\u001b[0m\u001b[0;34m)\u001b[0m \u001b[0;34m&\u001b[0m \u001b[0mnotna\u001b[0m\u001b[0;34m(\u001b[0m\u001b[0my\u001b[0m\u001b[0;34m)\u001b[0m\u001b[0;34m\u001b[0m\u001b[0m\n\u001b[0;32m-> 1015\u001b[0;31m                 \u001b[0mresult\u001b[0m\u001b[0;34m[\u001b[0m\u001b[0mmask\u001b[0m\u001b[0;34m]\u001b[0m \u001b[0;34m=\u001b[0m \u001b[0mop\u001b[0m\u001b[0;34m(\u001b[0m\u001b[0mx\u001b[0m\u001b[0;34m[\u001b[0m\u001b[0mmask\u001b[0m\u001b[0;34m]\u001b[0m\u001b[0;34m,\u001b[0m \u001b[0mcom\u001b[0m\u001b[0;34m.\u001b[0m\u001b[0m_values_from_object\u001b[0m\u001b[0;34m(\u001b[0m\u001b[0my\u001b[0m\u001b[0;34m[\u001b[0m\u001b[0mmask\u001b[0m\u001b[0;34m]\u001b[0m\u001b[0;34m)\u001b[0m\u001b[0;34m)\u001b[0m\u001b[0;34m\u001b[0m\u001b[0m\n\u001b[0m\u001b[1;32m   1016\u001b[0m             \u001b[0;32melse\u001b[0m\u001b[0;34m:\u001b[0m\u001b[0;34m\u001b[0m\u001b[0m\n",
      "\u001b[0;31mTypeError\u001b[0m: ufunc subtract cannot use operands with types dtype('O') and dtype('<M8[ns]')",
      "\nDuring handling of the above exception, another exception occurred:\n",
      "\u001b[0;31mTypeError\u001b[0m                                 Traceback (most recent call last)",
      "\u001b[0;32m<ipython-input-73-371462e31f39>\u001b[0m in \u001b[0;36m<module>\u001b[0;34m()\u001b[0m\n\u001b[1;32m      1\u001b[0m \u001b[0;31m#get age at contract signing_date (not accounting for leap days)\u001b[0m\u001b[0;34m\u001b[0m\u001b[0;34m\u001b[0m\u001b[0m\n\u001b[0;32m----> 2\u001b[0;31m \u001b[0mdf\u001b[0m\u001b[0;34m[\u001b[0m\u001b[0;34m'signing_age'\u001b[0m\u001b[0;34m]\u001b[0m \u001b[0;34m=\u001b[0m \u001b[0mdf\u001b[0m\u001b[0;34m.\u001b[0m\u001b[0msigning_date\u001b[0m \u001b[0;34m-\u001b[0m \u001b[0mdf\u001b[0m\u001b[0;34m.\u001b[0m\u001b[0mbirthdate\u001b[0m\u001b[0;34m\u001b[0m\u001b[0m\n\u001b[0m\u001b[1;32m      3\u001b[0m \u001b[0mdf\u001b[0m\u001b[0;34m.\u001b[0m\u001b[0msigning_age\u001b[0m \u001b[0;34m=\u001b[0m \u001b[0mdf\u001b[0m\u001b[0;34m.\u001b[0m\u001b[0msigning_age\u001b[0m\u001b[0;34m.\u001b[0m\u001b[0mapply\u001b[0m\u001b[0;34m(\u001b[0m\u001b[0;32mlambda\u001b[0m \u001b[0mx\u001b[0m\u001b[0;34m:\u001b[0m \u001b[0mx\u001b[0m\u001b[0;34m.\u001b[0m\u001b[0mdays\u001b[0m \u001b[0;34m//\u001b[0m \u001b[0;36m365\u001b[0m\u001b[0;34m)\u001b[0m\u001b[0;34m\u001b[0m\u001b[0m\n",
      "\u001b[0;32m~/anaconda3/lib/python3.6/site-packages/pandas/core/ops.py\u001b[0m in \u001b[0;36mwrapper\u001b[0;34m(left, right)\u001b[0m\n\u001b[1;32m   1064\u001b[0m             \u001b[0mrvalues\u001b[0m \u001b[0;34m=\u001b[0m \u001b[0mrvalues\u001b[0m\u001b[0;34m.\u001b[0m\u001b[0mvalues\u001b[0m\u001b[0;34m\u001b[0m\u001b[0m\n\u001b[1;32m   1065\u001b[0m \u001b[0;34m\u001b[0m\u001b[0m\n\u001b[0;32m-> 1066\u001b[0;31m         \u001b[0mresult\u001b[0m \u001b[0;34m=\u001b[0m \u001b[0msafe_na_op\u001b[0m\u001b[0;34m(\u001b[0m\u001b[0mlvalues\u001b[0m\u001b[0;34m,\u001b[0m \u001b[0mrvalues\u001b[0m\u001b[0;34m)\u001b[0m\u001b[0;34m\u001b[0m\u001b[0m\n\u001b[0m\u001b[1;32m   1067\u001b[0m         return construct_result(left, result,\n\u001b[1;32m   1068\u001b[0m                                 index=left.index, name=res_name, dtype=None)\n",
      "\u001b[0;32m~/anaconda3/lib/python3.6/site-packages/pandas/core/ops.py\u001b[0m in \u001b[0;36msafe_na_op\u001b[0;34m(lvalues, rvalues)\u001b[0m\n\u001b[1;32m   1032\u001b[0m             \u001b[0;32mif\u001b[0m \u001b[0mis_object_dtype\u001b[0m\u001b[0;34m(\u001b[0m\u001b[0mlvalues\u001b[0m\u001b[0;34m)\u001b[0m\u001b[0;34m:\u001b[0m\u001b[0;34m\u001b[0m\u001b[0m\n\u001b[1;32m   1033\u001b[0m                 return libalgos.arrmap_object(lvalues,\n\u001b[0;32m-> 1034\u001b[0;31m                                               lambda x: op(x, rvalues))\n\u001b[0m\u001b[1;32m   1035\u001b[0m             \u001b[0;32mraise\u001b[0m\u001b[0;34m\u001b[0m\u001b[0m\n\u001b[1;32m   1036\u001b[0m \u001b[0;34m\u001b[0m\u001b[0m\n",
      "\u001b[0;32mpandas/_libs/algos_common_helper.pxi\u001b[0m in \u001b[0;36mpandas._libs.algos.arrmap_object\u001b[0;34m()\u001b[0m\n",
      "\u001b[0;32m~/anaconda3/lib/python3.6/site-packages/pandas/core/ops.py\u001b[0m in \u001b[0;36m<lambda>\u001b[0;34m(x)\u001b[0m\n\u001b[1;32m   1032\u001b[0m             \u001b[0;32mif\u001b[0m \u001b[0mis_object_dtype\u001b[0m\u001b[0;34m(\u001b[0m\u001b[0mlvalues\u001b[0m\u001b[0;34m)\u001b[0m\u001b[0;34m:\u001b[0m\u001b[0;34m\u001b[0m\u001b[0m\n\u001b[1;32m   1033\u001b[0m                 return libalgos.arrmap_object(lvalues,\n\u001b[0;32m-> 1034\u001b[0;31m                                               lambda x: op(x, rvalues))\n\u001b[0m\u001b[1;32m   1035\u001b[0m             \u001b[0;32mraise\u001b[0m\u001b[0;34m\u001b[0m\u001b[0m\n\u001b[1;32m   1036\u001b[0m \u001b[0;34m\u001b[0m\u001b[0m\n",
      "\u001b[0;31mTypeError\u001b[0m: ufunc subtract cannot use operands with types dtype('O') and dtype('<M8[ns]')"
     ]
    }
   ],
   "source": [
    "#get age at contract signing_date (not accounting for leap days)\n",
    "df['signing_age'] = df.signing_date - df.birthdate\n",
    "df.signing_age = df.signing_age.apply(lambda x: x.days // 365)"
   ]
  },
  {
   "cell_type": "code",
   "execution_count": null,
   "metadata": {},
   "outputs": [],
   "source": []
  }
 ],
 "metadata": {
  "kernelspec": {
   "display_name": "Python 3",
   "language": "python",
   "name": "python3"
  },
  "language_info": {
   "codemirror_mode": {
    "name": "ipython",
    "version": 3
   },
   "file_extension": ".py",
   "mimetype": "text/x-python",
   "name": "python",
   "nbconvert_exporter": "python",
   "pygments_lexer": "ipython3",
   "version": "3.6.5"
  }
 },
 "nbformat": 4,
 "nbformat_minor": 2
}
