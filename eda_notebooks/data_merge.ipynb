{
 "cells": [
  {
   "cell_type": "code",
   "execution_count": 1,
   "metadata": {},
   "outputs": [],
   "source": [
    "import numpy as np\n",
    "import pandas as pd\n",
    "import matplotlib.pyplot as plt\n",
    "\n",
    "%matplotlib inline"
   ]
  },
  {
   "cell_type": "code",
   "execution_count": 2,
   "metadata": {},
   "outputs": [],
   "source": [
    "from importlib import reload"
   ]
  },
  {
   "cell_type": "code",
   "execution_count": 4,
   "metadata": {},
   "outputs": [],
   "source": [
    "import os\n",
    "import sys\n",
    "\n",
    "module_path = os.path.abspath(os.path.join('..'))\n",
    "if module_path not in sys.path:\n",
    "    sys.path.append(module_path)"
   ]
  },
  {
   "cell_type": "code",
   "execution_count": 5,
   "metadata": {},
   "outputs": [],
   "source": [
    "from data_cleaning import data_cleaning as dc"
   ]
  },
  {
   "cell_type": "code",
   "execution_count": 17,
   "metadata": {},
   "outputs": [
    {
     "data": {
      "text/plain": [
       "<module 'data_cleaning.data_cleaning' from '/Users/colinshanahan/galvanize/nhl-contract-predictions/data_cleaning/data_cleaning.py'>"
      ]
     },
     "execution_count": 17,
     "metadata": {},
     "output_type": "execute_result"
    }
   ],
   "source": [
    "reload(dc)"
   ]
  },
  {
   "cell_type": "code",
   "execution_count": 18,
   "metadata": {},
   "outputs": [],
   "source": [
    "df = dc.clean_data()"
   ]
  },
  {
   "cell_type": "code",
   "execution_count": 45,
   "metadata": {},
   "outputs": [],
   "source": [
    "dff.to_csv('../data/contracts_clean.csv', index=False, header=False)"
   ]
  },
  {
   "cell_type": "code",
   "execution_count": 43,
   "metadata": {},
   "outputs": [
    {
     "data": {
      "text/plain": [
       "contract_id                 4124\n",
       "player_id                    103\n",
       "Player            Roberto Luongo\n",
       "position              Goaltender\n",
       "length                        12\n",
       "cap_hit                  5333333\n",
       "total_value             63999996\n",
       "cap_pct                     9.39\n",
       "signing_date          2009-09-02\n",
       "signing_year                2009\n",
       "signing_age                   30\n",
       "signing_team                 NaN\n",
       "expiry_status                UFA\n",
       "signing_status               UFA\n",
       "Name: 0, dtype: object"
      ]
     },
     "execution_count": 43,
     "metadata": {},
     "output_type": "execute_result"
    }
   ],
   "source": [
    "dff.iloc[0]"
   ]
  },
  {
   "cell_type": "code",
   "execution_count": 20,
   "metadata": {},
   "outputs": [
    {
     "data": {
      "text/plain": [
       "Index(['player_id', 'first_name', 'last_name', 'position', 'birthdate',\n",
       "       'season', 'team_id', 'team_name', 'cap_hit', 'active', 'signing_date',\n",
       "       'signing_team', 'length', 'contract_level', 'contract_id',\n",
       "       'expiry_status', 'contract_type', 'contract_end', 'ufa_year',\n",
       "       'total_value', 'Player', 'signing_year', 'signing_year_cap', 'cap_pct',\n",
       "       'signing_age'],\n",
       "      dtype='object')"
      ]
     },
     "execution_count": 20,
     "metadata": {},
     "output_type": "execute_result"
    }
   ],
   "source": [
    "df.columns"
   ]
  },
  {
   "cell_type": "code",
   "execution_count": 42,
   "metadata": {},
   "outputs": [
    {
     "name": "stderr",
     "output_type": "stream",
     "text": [
      "/Users/colinshanahan/anaconda3/lib/python3.6/site-packages/ipykernel_launcher.py:1: SettingWithCopyWarning: \n",
      "A value is trying to be set on a copy of a slice from a DataFrame.\n",
      "Try using .loc[row_indexer,col_indexer] = value instead\n",
      "\n",
      "See the caveats in the documentation: http://pandas.pydata.org/pandas-docs/stable/indexing.html#indexing-view-versus-copy\n",
      "  \"\"\"Entry point for launching an IPython kernel.\n"
     ]
    }
   ],
   "source": [
    "dff['signing_date'] = pd.DatetimeIndex(dff['signing_date']).date"
   ]
  },
  {
   "cell_type": "code",
   "execution_count": null,
   "metadata": {},
   "outputs": [],
   "source": []
  },
  {
   "cell_type": "code",
   "execution_count": 22,
   "metadata": {},
   "outputs": [],
   "source": [
    "dff = df.groupby('contract_id').head(1)"
   ]
  },
  {
   "cell_type": "code",
   "execution_count": 23,
   "metadata": {},
   "outputs": [
    {
     "data": {
      "text/plain": [
       "(2004, 25)"
      ]
     },
     "execution_count": 23,
     "metadata": {},
     "output_type": "execute_result"
    }
   ],
   "source": [
    "dff.shape"
   ]
  },
  {
   "cell_type": "code",
   "execution_count": 25,
   "metadata": {},
   "outputs": [
    {
     "data": {
      "text/html": [
       "<div>\n",
       "<style scoped>\n",
       "    .dataframe tbody tr th:only-of-type {\n",
       "        vertical-align: middle;\n",
       "    }\n",
       "\n",
       "    .dataframe tbody tr th {\n",
       "        vertical-align: top;\n",
       "    }\n",
       "\n",
       "    .dataframe thead th {\n",
       "        text-align: right;\n",
       "    }\n",
       "</style>\n",
       "<table border=\"1\" class=\"dataframe\">\n",
       "  <thead>\n",
       "    <tr style=\"text-align: right;\">\n",
       "      <th></th>\n",
       "      <th>player_id</th>\n",
       "      <th>first_name</th>\n",
       "      <th>last_name</th>\n",
       "      <th>position</th>\n",
       "      <th>birthdate</th>\n",
       "      <th>season</th>\n",
       "      <th>team_id</th>\n",
       "      <th>team_name</th>\n",
       "      <th>cap_hit</th>\n",
       "      <th>active</th>\n",
       "      <th>...</th>\n",
       "      <th>expiry_status</th>\n",
       "      <th>contract_type</th>\n",
       "      <th>contract_end</th>\n",
       "      <th>ufa_year</th>\n",
       "      <th>total_value</th>\n",
       "      <th>Player</th>\n",
       "      <th>signing_year</th>\n",
       "      <th>signing_year_cap</th>\n",
       "      <th>cap_pct</th>\n",
       "      <th>signing_age</th>\n",
       "    </tr>\n",
       "  </thead>\n",
       "  <tbody>\n",
       "    <tr>\n",
       "      <th>0</th>\n",
       "      <td>103</td>\n",
       "      <td>Roberto</td>\n",
       "      <td>Luongo</td>\n",
       "      <td>Goaltender</td>\n",
       "      <td>1979-04-04</td>\n",
       "      <td>2015</td>\n",
       "      <td>14.0</td>\n",
       "      <td>Panthers</td>\n",
       "      <td>5333333</td>\n",
       "      <td>1.0</td>\n",
       "      <td>...</td>\n",
       "      <td>UFA</td>\n",
       "      <td>current</td>\n",
       "      <td>2021</td>\n",
       "      <td>2006</td>\n",
       "      <td>63999996</td>\n",
       "      <td>Roberto Luongo</td>\n",
       "      <td>2009</td>\n",
       "      <td>56800000</td>\n",
       "      <td>9.39</td>\n",
       "      <td>30</td>\n",
       "    </tr>\n",
       "    <tr>\n",
       "      <th>7</th>\n",
       "      <td>155</td>\n",
       "      <td>Ryan</td>\n",
       "      <td>Miller</td>\n",
       "      <td>Goaltender</td>\n",
       "      <td>1980-07-17</td>\n",
       "      <td>2015</td>\n",
       "      <td>25.0</td>\n",
       "      <td>Ducks</td>\n",
       "      <td>6000000</td>\n",
       "      <td>1.0</td>\n",
       "      <td>...</td>\n",
       "      <td>UFA</td>\n",
       "      <td>history</td>\n",
       "      <td>2016</td>\n",
       "      <td>2008</td>\n",
       "      <td>18000000</td>\n",
       "      <td>Ryan Miller</td>\n",
       "      <td>2014</td>\n",
       "      <td>69000000</td>\n",
       "      <td>8.70</td>\n",
       "      <td>33</td>\n",
       "    </tr>\n",
       "    <tr>\n",
       "      <th>9</th>\n",
       "      <td>155</td>\n",
       "      <td>Ryan</td>\n",
       "      <td>Miller</td>\n",
       "      <td>Goaltender</td>\n",
       "      <td>1980-07-17</td>\n",
       "      <td>2017</td>\n",
       "      <td>25.0</td>\n",
       "      <td>Ducks</td>\n",
       "      <td>2000000</td>\n",
       "      <td>1.0</td>\n",
       "      <td>...</td>\n",
       "      <td>UFA</td>\n",
       "      <td>current</td>\n",
       "      <td>2018</td>\n",
       "      <td>2008</td>\n",
       "      <td>4000000</td>\n",
       "      <td>Ryan Miller</td>\n",
       "      <td>2017</td>\n",
       "      <td>75000000</td>\n",
       "      <td>2.67</td>\n",
       "      <td>36</td>\n",
       "    </tr>\n",
       "    <tr>\n",
       "      <th>11</th>\n",
       "      <td>156</td>\n",
       "      <td>Craig</td>\n",
       "      <td>Anderson</td>\n",
       "      <td>Goaltender</td>\n",
       "      <td>1981-05-21</td>\n",
       "      <td>2015</td>\n",
       "      <td>9.0</td>\n",
       "      <td>Senators</td>\n",
       "      <td>4200000</td>\n",
       "      <td>1.0</td>\n",
       "      <td>...</td>\n",
       "      <td>UFA</td>\n",
       "      <td>history</td>\n",
       "      <td>2017</td>\n",
       "      <td>2008</td>\n",
       "      <td>12600000</td>\n",
       "      <td>Craig Anderson</td>\n",
       "      <td>2014</td>\n",
       "      <td>69000000</td>\n",
       "      <td>6.09</td>\n",
       "      <td>33</td>\n",
       "    </tr>\n",
       "    <tr>\n",
       "      <th>14</th>\n",
       "      <td>156</td>\n",
       "      <td>Craig</td>\n",
       "      <td>Anderson</td>\n",
       "      <td>Goaltender</td>\n",
       "      <td>1981-05-21</td>\n",
       "      <td>2018</td>\n",
       "      <td>9.0</td>\n",
       "      <td>Senators</td>\n",
       "      <td>4750000</td>\n",
       "      <td>1.0</td>\n",
       "      <td>...</td>\n",
       "      <td>UFA</td>\n",
       "      <td>current</td>\n",
       "      <td>2019</td>\n",
       "      <td>2008</td>\n",
       "      <td>9500000</td>\n",
       "      <td>Craig Anderson</td>\n",
       "      <td>2017</td>\n",
       "      <td>75000000</td>\n",
       "      <td>6.33</td>\n",
       "      <td>36</td>\n",
       "    </tr>\n",
       "  </tbody>\n",
       "</table>\n",
       "<p>5 rows × 25 columns</p>\n",
       "</div>"
      ],
      "text/plain": [
       "    player_id first_name last_name    position  birthdate  season  team_id  \\\n",
       "0         103    Roberto    Luongo  Goaltender 1979-04-04    2015     14.0   \n",
       "7         155       Ryan    Miller  Goaltender 1980-07-17    2015     25.0   \n",
       "9         155       Ryan    Miller  Goaltender 1980-07-17    2017     25.0   \n",
       "11        156      Craig  Anderson  Goaltender 1981-05-21    2015      9.0   \n",
       "14        156      Craig  Anderson  Goaltender 1981-05-21    2018      9.0   \n",
       "\n",
       "   team_name  cap_hit  active     ...      expiry_status contract_type  \\\n",
       "0   Panthers  5333333     1.0     ...                UFA       current   \n",
       "7      Ducks  6000000     1.0     ...                UFA       history   \n",
       "9      Ducks  2000000     1.0     ...                UFA       current   \n",
       "11  Senators  4200000     1.0     ...                UFA       history   \n",
       "14  Senators  4750000     1.0     ...                UFA       current   \n",
       "\n",
       "    contract_end ufa_year  total_value          Player signing_year  \\\n",
       "0           2021     2006     63999996  Roberto Luongo         2009   \n",
       "7           2016     2008     18000000     Ryan Miller         2014   \n",
       "9           2018     2008      4000000     Ryan Miller         2017   \n",
       "11          2017     2008     12600000  Craig Anderson         2014   \n",
       "14          2019     2008      9500000  Craig Anderson         2017   \n",
       "\n",
       "    signing_year_cap  cap_pct  signing_age  \n",
       "0           56800000     9.39           30  \n",
       "7           69000000     8.70           33  \n",
       "9           75000000     2.67           36  \n",
       "11          69000000     6.09           33  \n",
       "14          75000000     6.33           36  \n",
       "\n",
       "[5 rows x 25 columns]"
      ]
     },
     "execution_count": 25,
     "metadata": {},
     "output_type": "execute_result"
    }
   ],
   "source": [
    "dff.head()"
   ]
  },
  {
   "cell_type": "code",
   "execution_count": 26,
   "metadata": {},
   "outputs": [],
   "source": [
    "def ufa_check(x):\n",
    "    if x == True:\n",
    "        return 'UFA'\n",
    "    else:\n",
    "        return 'RFA'"
   ]
  },
  {
   "cell_type": "code",
   "execution_count": 27,
   "metadata": {},
   "outputs": [
    {
     "name": "stderr",
     "output_type": "stream",
     "text": [
      "/Users/colinshanahan/anaconda3/lib/python3.6/site-packages/ipykernel_launcher.py:1: SettingWithCopyWarning: \n",
      "A value is trying to be set on a copy of a slice from a DataFrame.\n",
      "Try using .loc[row_indexer,col_indexer] = value instead\n",
      "\n",
      "See the caveats in the documentation: http://pandas.pydata.org/pandas-docs/stable/indexing.html#indexing-view-versus-copy\n",
      "  \"\"\"Entry point for launching an IPython kernel.\n",
      "/Users/colinshanahan/anaconda3/lib/python3.6/site-packages/ipykernel_launcher.py:2: SettingWithCopyWarning: \n",
      "A value is trying to be set on a copy of a slice from a DataFrame.\n",
      "Try using .loc[row_indexer,col_indexer] = value instead\n",
      "\n",
      "See the caveats in the documentation: http://pandas.pydata.org/pandas-docs/stable/indexing.html#indexing-view-versus-copy\n",
      "  \n"
     ]
    }
   ],
   "source": [
    "dff['signing_status'] = dff['signing_year'] >= dff['ufa_year']\n",
    "dff['signing_status'] = dff['signing_status'].apply(ufa_check)"
   ]
  },
  {
   "cell_type": "code",
   "execution_count": 31,
   "metadata": {},
   "outputs": [
    {
     "data": {
      "text/html": [
       "<div>\n",
       "<style scoped>\n",
       "    .dataframe tbody tr th:only-of-type {\n",
       "        vertical-align: middle;\n",
       "    }\n",
       "\n",
       "    .dataframe tbody tr th {\n",
       "        vertical-align: top;\n",
       "    }\n",
       "\n",
       "    .dataframe thead th {\n",
       "        text-align: right;\n",
       "    }\n",
       "</style>\n",
       "<table border=\"1\" class=\"dataframe\">\n",
       "  <thead>\n",
       "    <tr style=\"text-align: right;\">\n",
       "      <th></th>\n",
       "      <th>player_id</th>\n",
       "      <th>first_name</th>\n",
       "      <th>last_name</th>\n",
       "      <th>position</th>\n",
       "      <th>birthdate</th>\n",
       "      <th>season</th>\n",
       "      <th>team_id</th>\n",
       "      <th>team_name</th>\n",
       "      <th>cap_hit</th>\n",
       "      <th>active</th>\n",
       "      <th>...</th>\n",
       "      <th>contract_type</th>\n",
       "      <th>contract_end</th>\n",
       "      <th>ufa_year</th>\n",
       "      <th>total_value</th>\n",
       "      <th>Player</th>\n",
       "      <th>signing_year</th>\n",
       "      <th>signing_year_cap</th>\n",
       "      <th>cap_pct</th>\n",
       "      <th>signing_age</th>\n",
       "      <th>signing_status</th>\n",
       "    </tr>\n",
       "  </thead>\n",
       "  <tbody>\n",
       "    <tr>\n",
       "      <th>1848</th>\n",
       "      <td>3678</td>\n",
       "      <td>Calvin</td>\n",
       "      <td>de Haan</td>\n",
       "      <td>Defense</td>\n",
       "      <td>1991-05-09</td>\n",
       "      <td>2017</td>\n",
       "      <td>5.0</td>\n",
       "      <td>Hurricanes</td>\n",
       "      <td>3300000</td>\n",
       "      <td>1.0</td>\n",
       "      <td>...</td>\n",
       "      <td>history</td>\n",
       "      <td>2017</td>\n",
       "      <td>2018</td>\n",
       "      <td>3300000</td>\n",
       "      <td>Calvin de Haan</td>\n",
       "      <td>2017</td>\n",
       "      <td>75000000</td>\n",
       "      <td>4.40</td>\n",
       "      <td>26</td>\n",
       "      <td>RFA</td>\n",
       "    </tr>\n",
       "    <tr>\n",
       "      <th>6453</th>\n",
       "      <td>16932</td>\n",
       "      <td>Calle</td>\n",
       "      <td>Rosen</td>\n",
       "      <td>Defense</td>\n",
       "      <td>1994-02-02</td>\n",
       "      <td>2019</td>\n",
       "      <td>8.0</td>\n",
       "      <td>Maple Leafs</td>\n",
       "      <td>750000</td>\n",
       "      <td>0.0</td>\n",
       "      <td>...</td>\n",
       "      <td>future</td>\n",
       "      <td>2020</td>\n",
       "      <td>2021</td>\n",
       "      <td>1500000</td>\n",
       "      <td>Calle Rosen</td>\n",
       "      <td>2018</td>\n",
       "      <td>79500000</td>\n",
       "      <td>0.94</td>\n",
       "      <td>24</td>\n",
       "      <td>RFA</td>\n",
       "    </tr>\n",
       "    <tr>\n",
       "      <th>5759</th>\n",
       "      <td>6577</td>\n",
       "      <td>Joel</td>\n",
       "      <td>Hanley</td>\n",
       "      <td>Defense</td>\n",
       "      <td>1991-06-08</td>\n",
       "      <td>2016</td>\n",
       "      <td>20.0</td>\n",
       "      <td>Stars</td>\n",
       "      <td>600000</td>\n",
       "      <td>NaN</td>\n",
       "      <td>...</td>\n",
       "      <td>history</td>\n",
       "      <td>2016</td>\n",
       "      <td>2018</td>\n",
       "      <td>600000</td>\n",
       "      <td>Joel Hanley</td>\n",
       "      <td>2016</td>\n",
       "      <td>73000000</td>\n",
       "      <td>0.82</td>\n",
       "      <td>25</td>\n",
       "      <td>RFA</td>\n",
       "    </tr>\n",
       "    <tr>\n",
       "      <th>2696</th>\n",
       "      <td>4335</td>\n",
       "      <td>Cam</td>\n",
       "      <td>Atkinson</td>\n",
       "      <td>Right Wing</td>\n",
       "      <td>1989-06-05</td>\n",
       "      <td>2015</td>\n",
       "      <td>30.0</td>\n",
       "      <td>Blue Jackets</td>\n",
       "      <td>3500000</td>\n",
       "      <td>1.0</td>\n",
       "      <td>...</td>\n",
       "      <td>history</td>\n",
       "      <td>2017</td>\n",
       "      <td>2016</td>\n",
       "      <td>10500000</td>\n",
       "      <td>Cam Atkinson</td>\n",
       "      <td>2015</td>\n",
       "      <td>71400000</td>\n",
       "      <td>4.90</td>\n",
       "      <td>25</td>\n",
       "      <td>RFA</td>\n",
       "    </tr>\n",
       "    <tr>\n",
       "      <th>816</th>\n",
       "      <td>2475</td>\n",
       "      <td>Jamie</td>\n",
       "      <td>McGinn</td>\n",
       "      <td>Left Wing</td>\n",
       "      <td>1988-08-05</td>\n",
       "      <td>2015</td>\n",
       "      <td>14.0</td>\n",
       "      <td>Panthers</td>\n",
       "      <td>2950000</td>\n",
       "      <td>1.0</td>\n",
       "      <td>...</td>\n",
       "      <td>history</td>\n",
       "      <td>2015</td>\n",
       "      <td>2016</td>\n",
       "      <td>5900000</td>\n",
       "      <td>Jamie McGinn</td>\n",
       "      <td>2014</td>\n",
       "      <td>69000000</td>\n",
       "      <td>4.28</td>\n",
       "      <td>25</td>\n",
       "      <td>RFA</td>\n",
       "    </tr>\n",
       "    <tr>\n",
       "      <th>4388</th>\n",
       "      <td>5709</td>\n",
       "      <td>Carter</td>\n",
       "      <td>Verhaeghe</td>\n",
       "      <td>Left Wing</td>\n",
       "      <td>1995-08-14</td>\n",
       "      <td>2018</td>\n",
       "      <td>17.0</td>\n",
       "      <td>Lightning</td>\n",
       "      <td>650000</td>\n",
       "      <td>NaN</td>\n",
       "      <td>...</td>\n",
       "      <td>current</td>\n",
       "      <td>2018</td>\n",
       "      <td>2023</td>\n",
       "      <td>650000</td>\n",
       "      <td>Carter Verhaeghe</td>\n",
       "      <td>2018</td>\n",
       "      <td>79500000</td>\n",
       "      <td>0.82</td>\n",
       "      <td>22</td>\n",
       "      <td>RFA</td>\n",
       "    </tr>\n",
       "    <tr>\n",
       "      <th>3355</th>\n",
       "      <td>4756</td>\n",
       "      <td>Paul</td>\n",
       "      <td>Carey</td>\n",
       "      <td>Center</td>\n",
       "      <td>1988-09-24</td>\n",
       "      <td>2018</td>\n",
       "      <td>3.0</td>\n",
       "      <td>Bruins</td>\n",
       "      <td>700000</td>\n",
       "      <td>NaN</td>\n",
       "      <td>...</td>\n",
       "      <td>current</td>\n",
       "      <td>2018</td>\n",
       "      <td>2016</td>\n",
       "      <td>700000</td>\n",
       "      <td>Paul Carey</td>\n",
       "      <td>2018</td>\n",
       "      <td>79500000</td>\n",
       "      <td>0.88</td>\n",
       "      <td>29</td>\n",
       "      <td>UFA</td>\n",
       "    </tr>\n",
       "    <tr>\n",
       "      <th>1722</th>\n",
       "      <td>3564</td>\n",
       "      <td>Jordan</td>\n",
       "      <td>Schroeder</td>\n",
       "      <td>Left Wing</td>\n",
       "      <td>1990-09-29</td>\n",
       "      <td>2017</td>\n",
       "      <td>22.0</td>\n",
       "      <td>Blackhawks</td>\n",
       "      <td>650000</td>\n",
       "      <td>0.0</td>\n",
       "      <td>...</td>\n",
       "      <td>current</td>\n",
       "      <td>2018</td>\n",
       "      <td>2018</td>\n",
       "      <td>1300000</td>\n",
       "      <td>Jordan Schroeder</td>\n",
       "      <td>2017</td>\n",
       "      <td>75000000</td>\n",
       "      <td>0.87</td>\n",
       "      <td>26</td>\n",
       "      <td>RFA</td>\n",
       "    </tr>\n",
       "  </tbody>\n",
       "</table>\n",
       "<p>8 rows × 26 columns</p>\n",
       "</div>"
      ],
      "text/plain": [
       "      player_id first_name  last_name    position  birthdate  season  team_id  \\\n",
       "1848       3678     Calvin    de Haan     Defense 1991-05-09    2017      5.0   \n",
       "6453      16932      Calle      Rosen     Defense 1994-02-02    2019      8.0   \n",
       "5759       6577       Joel     Hanley     Defense 1991-06-08    2016     20.0   \n",
       "2696       4335        Cam   Atkinson  Right Wing 1989-06-05    2015     30.0   \n",
       "816        2475      Jamie     McGinn   Left Wing 1988-08-05    2015     14.0   \n",
       "4388       5709     Carter  Verhaeghe   Left Wing 1995-08-14    2018     17.0   \n",
       "3355       4756       Paul      Carey      Center 1988-09-24    2018      3.0   \n",
       "1722       3564     Jordan  Schroeder   Left Wing 1990-09-29    2017     22.0   \n",
       "\n",
       "         team_name  cap_hit  active       ...       contract_type  \\\n",
       "1848    Hurricanes  3300000     1.0       ...             history   \n",
       "6453   Maple Leafs   750000     0.0       ...              future   \n",
       "5759         Stars   600000     NaN       ...             history   \n",
       "2696  Blue Jackets  3500000     1.0       ...             history   \n",
       "816       Panthers  2950000     1.0       ...             history   \n",
       "4388     Lightning   650000     NaN       ...             current   \n",
       "3355        Bruins   700000     NaN       ...             current   \n",
       "1722    Blackhawks   650000     0.0       ...             current   \n",
       "\n",
       "     contract_end  ufa_year total_value            Player signing_year  \\\n",
       "1848         2017      2018     3300000    Calvin de Haan         2017   \n",
       "6453         2020      2021     1500000       Calle Rosen         2018   \n",
       "5759         2016      2018      600000       Joel Hanley         2016   \n",
       "2696         2017      2016    10500000      Cam Atkinson         2015   \n",
       "816          2015      2016     5900000      Jamie McGinn         2014   \n",
       "4388         2018      2023      650000  Carter Verhaeghe         2018   \n",
       "3355         2018      2016      700000        Paul Carey         2018   \n",
       "1722         2018      2018     1300000  Jordan Schroeder         2017   \n",
       "\n",
       "     signing_year_cap  cap_pct  signing_age  signing_status  \n",
       "1848         75000000     4.40           26             RFA  \n",
       "6453         79500000     0.94           24             RFA  \n",
       "5759         73000000     0.82           25             RFA  \n",
       "2696         71400000     4.90           25             RFA  \n",
       "816          69000000     4.28           25             RFA  \n",
       "4388         79500000     0.82           22             RFA  \n",
       "3355         79500000     0.88           29             UFA  \n",
       "1722         75000000     0.87           26             RFA  \n",
       "\n",
       "[8 rows x 26 columns]"
      ]
     },
     "execution_count": 31,
     "metadata": {},
     "output_type": "execute_result"
    }
   ],
   "source": [
    "dff.sample(8)"
   ]
  },
  {
   "cell_type": "code",
   "execution_count": 24,
   "metadata": {},
   "outputs": [
    {
     "data": {
      "text/plain": [
       "Index(['player_id', 'first_name', 'last_name', 'position', 'birthdate',\n",
       "       'season', 'team_id', 'team_name', 'cap_hit', 'active', 'signing_date',\n",
       "       'signing_team', 'length', 'contract_level', 'contract_id',\n",
       "       'expiry_status', 'contract_type', 'contract_end', 'ufa_year',\n",
       "       'total_value', 'Player', 'signing_year', 'signing_year_cap', 'cap_pct',\n",
       "       'signing_age'],\n",
       "      dtype='object')"
      ]
     },
     "execution_count": 24,
     "metadata": {},
     "output_type": "execute_result"
    }
   ],
   "source": [
    "dff.columns"
   ]
  },
  {
   "cell_type": "code",
   "execution_count": 38,
   "metadata": {},
   "outputs": [],
   "source": [
    "dff = dff[['contract_id', 'player_id', 'Player', \n",
    "          'position', 'length', 'cap_hit', 'total_value', 'cap_pct',\n",
    "           'signing_date', 'signing_year', 'signing_age', 'signing_team', \n",
    "           'expiry_status', 'signing_status']]"
   ]
  },
  {
   "cell_type": "code",
   "execution_count": 33,
   "metadata": {},
   "outputs": [
    {
     "data": {
      "text/html": [
       "<div>\n",
       "<style scoped>\n",
       "    .dataframe tbody tr th:only-of-type {\n",
       "        vertical-align: middle;\n",
       "    }\n",
       "\n",
       "    .dataframe tbody tr th {\n",
       "        vertical-align: top;\n",
       "    }\n",
       "\n",
       "    .dataframe thead th {\n",
       "        text-align: right;\n",
       "    }\n",
       "</style>\n",
       "<table border=\"1\" class=\"dataframe\">\n",
       "  <thead>\n",
       "    <tr style=\"text-align: right;\">\n",
       "      <th></th>\n",
       "      <th>contract_id</th>\n",
       "      <th>player_id</th>\n",
       "      <th>Player</th>\n",
       "      <th>first_name</th>\n",
       "      <th>last_name</th>\n",
       "      <th>position</th>\n",
       "      <th>length</th>\n",
       "      <th>cap_hit</th>\n",
       "      <th>total_value</th>\n",
       "      <th>cap_pct</th>\n",
       "      <th>signing_date</th>\n",
       "      <th>signing_year</th>\n",
       "      <th>signing_age</th>\n",
       "      <th>signing_team</th>\n",
       "      <th>expiry_status</th>\n",
       "      <th>signing_status</th>\n",
       "    </tr>\n",
       "  </thead>\n",
       "  <tbody>\n",
       "    <tr>\n",
       "      <th>0</th>\n",
       "      <td>4124</td>\n",
       "      <td>103</td>\n",
       "      <td>Roberto Luongo</td>\n",
       "      <td>Roberto</td>\n",
       "      <td>Luongo</td>\n",
       "      <td>Goaltender</td>\n",
       "      <td>12</td>\n",
       "      <td>5333333</td>\n",
       "      <td>63999996</td>\n",
       "      <td>9.39</td>\n",
       "      <td>2009-09-02</td>\n",
       "      <td>2009</td>\n",
       "      <td>30</td>\n",
       "      <td>NaN</td>\n",
       "      <td>UFA</td>\n",
       "      <td>UFA</td>\n",
       "    </tr>\n",
       "    <tr>\n",
       "      <th>7</th>\n",
       "      <td>2837</td>\n",
       "      <td>155</td>\n",
       "      <td>Ryan Miller</td>\n",
       "      <td>Ryan</td>\n",
       "      <td>Miller</td>\n",
       "      <td>Goaltender</td>\n",
       "      <td>3</td>\n",
       "      <td>6000000</td>\n",
       "      <td>18000000</td>\n",
       "      <td>8.70</td>\n",
       "      <td>2014-07-01</td>\n",
       "      <td>2014</td>\n",
       "      <td>33</td>\n",
       "      <td>Vancouver Canucks</td>\n",
       "      <td>UFA</td>\n",
       "      <td>UFA</td>\n",
       "    </tr>\n",
       "    <tr>\n",
       "      <th>9</th>\n",
       "      <td>2832</td>\n",
       "      <td>155</td>\n",
       "      <td>Ryan Miller</td>\n",
       "      <td>Ryan</td>\n",
       "      <td>Miller</td>\n",
       "      <td>Goaltender</td>\n",
       "      <td>2</td>\n",
       "      <td>2000000</td>\n",
       "      <td>4000000</td>\n",
       "      <td>2.67</td>\n",
       "      <td>2017-07-01</td>\n",
       "      <td>2017</td>\n",
       "      <td>36</td>\n",
       "      <td>Anaheim Ducks</td>\n",
       "      <td>UFA</td>\n",
       "      <td>UFA</td>\n",
       "    </tr>\n",
       "    <tr>\n",
       "      <th>11</th>\n",
       "      <td>4078</td>\n",
       "      <td>156</td>\n",
       "      <td>Craig Anderson</td>\n",
       "      <td>Craig</td>\n",
       "      <td>Anderson</td>\n",
       "      <td>Goaltender</td>\n",
       "      <td>3</td>\n",
       "      <td>4200000</td>\n",
       "      <td>12600000</td>\n",
       "      <td>6.09</td>\n",
       "      <td>2014-08-25</td>\n",
       "      <td>2014</td>\n",
       "      <td>33</td>\n",
       "      <td>NaN</td>\n",
       "      <td>UFA</td>\n",
       "      <td>UFA</td>\n",
       "    </tr>\n",
       "    <tr>\n",
       "      <th>14</th>\n",
       "      <td>4079</td>\n",
       "      <td>156</td>\n",
       "      <td>Craig Anderson</td>\n",
       "      <td>Craig</td>\n",
       "      <td>Anderson</td>\n",
       "      <td>Goaltender</td>\n",
       "      <td>2</td>\n",
       "      <td>4750000</td>\n",
       "      <td>9500000</td>\n",
       "      <td>6.33</td>\n",
       "      <td>2017-09-29</td>\n",
       "      <td>2017</td>\n",
       "      <td>36</td>\n",
       "      <td>NaN</td>\n",
       "      <td>UFA</td>\n",
       "      <td>UFA</td>\n",
       "    </tr>\n",
       "  </tbody>\n",
       "</table>\n",
       "</div>"
      ],
      "text/plain": [
       "    contract_id  player_id          Player first_name last_name    position  \\\n",
       "0          4124        103  Roberto Luongo    Roberto    Luongo  Goaltender   \n",
       "7          2837        155     Ryan Miller       Ryan    Miller  Goaltender   \n",
       "9          2832        155     Ryan Miller       Ryan    Miller  Goaltender   \n",
       "11         4078        156  Craig Anderson      Craig  Anderson  Goaltender   \n",
       "14         4079        156  Craig Anderson      Craig  Anderson  Goaltender   \n",
       "\n",
       "    length  cap_hit  total_value  cap_pct signing_date  signing_year  \\\n",
       "0       12  5333333     63999996     9.39   2009-09-02          2009   \n",
       "7        3  6000000     18000000     8.70   2014-07-01          2014   \n",
       "9        2  2000000      4000000     2.67   2017-07-01          2017   \n",
       "11       3  4200000     12600000     6.09   2014-08-25          2014   \n",
       "14       2  4750000      9500000     6.33   2017-09-29          2017   \n",
       "\n",
       "    signing_age       signing_team expiry_status signing_status  \n",
       "0            30                NaN           UFA            UFA  \n",
       "7            33  Vancouver Canucks           UFA            UFA  \n",
       "9            36      Anaheim Ducks           UFA            UFA  \n",
       "11           33                NaN           UFA            UFA  \n",
       "14           36                NaN           UFA            UFA  "
      ]
     },
     "execution_count": 33,
     "metadata": {},
     "output_type": "execute_result"
    }
   ],
   "source": [
    "dff.head()"
   ]
  },
  {
   "cell_type": "code",
   "execution_count": 34,
   "metadata": {},
   "outputs": [
    {
     "data": {
      "text/plain": [
       "(2004, 16)"
      ]
     },
     "execution_count": 34,
     "metadata": {},
     "output_type": "execute_result"
    }
   ],
   "source": [
    "dff.shape"
   ]
  },
  {
   "cell_type": "code",
   "execution_count": 7,
   "metadata": {},
   "outputs": [],
   "source": [
    "df_pst = pd.read_csv('../data/all_pst.csv')"
   ]
  },
  {
   "cell_type": "code",
   "execution_count": 16,
   "metadata": {},
   "outputs": [
    {
     "data": {
      "text/plain": [
       "Index(['player_id', 'first_name', 'last_name', 'position', 'birthdate',\n",
       "       'season', 'team_id', 'team_name', 'cap_hit', 'active', 'signing_date',\n",
       "       'signing_team', 'length', 'contract_level', 'contract_id',\n",
       "       'expiry_status', 'contract_type', 'contract_end', 'ufa_year',\n",
       "       'total_value', 'signing_year', 'signing_year_cap', 'cap_pct',\n",
       "       'signing_age', 'Player'],\n",
       "      dtype='object')"
      ]
     },
     "execution_count": 16,
     "metadata": {},
     "output_type": "execute_result"
    }
   ],
   "source": [
    "df.columns"
   ]
  },
  {
   "cell_type": "code",
   "execution_count": 12,
   "metadata": {},
   "outputs": [],
   "source": [
    "df['Player'] = df['first_name'] + ' ' + df['last_name']"
   ]
  },
  {
   "cell_type": "code",
   "execution_count": 15,
   "metadata": {},
   "outputs": [
    {
     "data": {
      "text/plain": [
       "3547      Patrick Sieloff\n",
       "1621         Chad Johnson\n",
       "1902    Jakob Silfverberg\n",
       "4087        Chad Ruhwedel\n",
       "2604     Korbinian Holzer\n",
       "3952    Frederik Gauthier\n",
       "2054       Mitch Callahan\n",
       "2205        Charlie Coyle\n",
       "Name: Player, dtype: object"
      ]
     },
     "execution_count": 15,
     "metadata": {},
     "output_type": "execute_result"
    }
   ],
   "source": [
    "df['Player'].sample(8)"
   ]
  },
  {
   "cell_type": "code",
   "execution_count": null,
   "metadata": {},
   "outputs": [],
   "source": [
    "df['Player_Year'] = df['Player'] + ' ' + df['signing_year']"
   ]
  },
  {
   "cell_type": "code",
   "execution_count": null,
   "metadata": {},
   "outputs": [],
   "source": [
    "dfmerge = pd.merge(df, df_pst, how = 'left', on = 'Player')"
   ]
  }
 ],
 "metadata": {
  "kernelspec": {
   "display_name": "Python 3",
   "language": "python",
   "name": "python3"
  },
  "language_info": {
   "codemirror_mode": {
    "name": "ipython",
    "version": 3
   },
   "file_extension": ".py",
   "mimetype": "text/x-python",
   "name": "python",
   "nbconvert_exporter": "python",
   "pygments_lexer": "ipython3",
   "version": "3.6.5"
  }
 },
 "nbformat": 4,
 "nbformat_minor": 2
}
