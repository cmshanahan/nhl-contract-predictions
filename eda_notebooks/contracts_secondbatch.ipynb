{
 "cells": [
  {
   "cell_type": "code",
   "execution_count": 1,
   "metadata": {},
   "outputs": [],
   "source": [
    "import numpy as np\n",
    "import pandas as pd\n",
    "import matplotlib.pyplot as plt\n",
    "\n",
    "%matplotlib inline"
   ]
  },
  {
   "cell_type": "code",
   "execution_count": 2,
   "metadata": {},
   "outputs": [],
   "source": [
    "from importlib import reload"
   ]
  },
  {
   "cell_type": "code",
   "execution_count": 3,
   "metadata": {},
   "outputs": [],
   "source": [
    "import os\n",
    "import sys\n",
    "\n",
    "module_path = os.path.abspath(os.path.join('..'))\n",
    "if module_path not in sys.path:\n",
    "    sys.path.append(module_path)"
   ]
  },
  {
   "cell_type": "code",
   "execution_count": 4,
   "metadata": {},
   "outputs": [],
   "source": [
    "from data_cleaning import data_cleaning as dc"
   ]
  },
  {
   "cell_type": "code",
   "execution_count": 13,
   "metadata": {},
   "outputs": [
    {
     "data": {
      "text/plain": [
       "<module 'data_cleaning.data_cleaning' from '/Users/colinshanahan/galvanize/nhl-contract-predictions/data_cleaning/data_cleaning.py'>"
      ]
     },
     "execution_count": 13,
     "metadata": {},
     "output_type": "execute_result"
    }
   ],
   "source": [
    "reload(dc)"
   ]
  },
  {
   "cell_type": "code",
   "execution_count": 14,
   "metadata": {},
   "outputs": [
    {
     "ename": "ValueError",
     "evalue": "invalid literal for int() with base 10: '?'",
     "output_type": "error",
     "traceback": [
      "\u001b[0;31m---------------------------------------------------------------------------\u001b[0m",
      "\u001b[0;31mValueError\u001b[0m                                Traceback (most recent call last)",
      "\u001b[0;32m<ipython-input-14-58d1a98e7f0b>\u001b[0m in \u001b[0;36m<module>\u001b[0;34m()\u001b[0m\n\u001b[0;32m----> 1\u001b[0;31m \u001b[0mdf\u001b[0m \u001b[0;34m=\u001b[0m \u001b[0mdc\u001b[0m\u001b[0;34m.\u001b[0m\u001b[0mclean_data\u001b[0m\u001b[0;34m(\u001b[0m\u001b[0;34m'../data/Contract_Details_PuckPedia_Mar_2019_Confidential_2.csv'\u001b[0m\u001b[0;34m)\u001b[0m\u001b[0;34m\u001b[0m\u001b[0m\n\u001b[0m",
      "\u001b[0;32m~/galvanize/nhl-contract-predictions/data_cleaning/data_cleaning.py\u001b[0m in \u001b[0;36mclean_data\u001b[0;34m(file)\u001b[0m\n\u001b[1;32m     23\u001b[0m     \u001b[0;31m#make a function to convert money strings to ints and apply\u001b[0m\u001b[0;34m\u001b[0m\u001b[0;34m\u001b[0m\u001b[0m\n\u001b[1;32m     24\u001b[0m     \u001b[0mmoney_to_int\u001b[0m \u001b[0;34m=\u001b[0m \u001b[0;32mlambda\u001b[0m \u001b[0mx\u001b[0m\u001b[0;34m:\u001b[0m \u001b[0mint\u001b[0m\u001b[0;34m(\u001b[0m\u001b[0mx\u001b[0m\u001b[0;34m.\u001b[0m\u001b[0mstrip\u001b[0m\u001b[0;34m(\u001b[0m\u001b[0;34m)\u001b[0m\u001b[0;34m.\u001b[0m\u001b[0mstrip\u001b[0m\u001b[0;34m(\u001b[0m\u001b[0;34m'$()'\u001b[0m\u001b[0;34m)\u001b[0m\u001b[0;34m.\u001b[0m\u001b[0mreplace\u001b[0m\u001b[0;34m(\u001b[0m\u001b[0;34m','\u001b[0m\u001b[0;34m,\u001b[0m \u001b[0;34m''\u001b[0m\u001b[0;34m)\u001b[0m\u001b[0;34m)\u001b[0m\u001b[0;34m\u001b[0m\u001b[0m\n\u001b[0;32m---> 25\u001b[0;31m     \u001b[0mdf\u001b[0m\u001b[0;34m[\u001b[0m\u001b[0;34m'cap_hit'\u001b[0m\u001b[0;34m]\u001b[0m \u001b[0;34m=\u001b[0m \u001b[0mdf\u001b[0m\u001b[0;34m[\u001b[0m\u001b[0;34m'cap_hit'\u001b[0m\u001b[0;34m]\u001b[0m\u001b[0;34m.\u001b[0m\u001b[0mapply\u001b[0m\u001b[0;34m(\u001b[0m\u001b[0mmoney_to_int\u001b[0m\u001b[0;34m)\u001b[0m\u001b[0;34m\u001b[0m\u001b[0m\n\u001b[0m\u001b[1;32m     26\u001b[0m     \u001b[0mdf\u001b[0m\u001b[0;34m[\u001b[0m\u001b[0;34m'total_value'\u001b[0m\u001b[0;34m]\u001b[0m \u001b[0;34m=\u001b[0m \u001b[0mdf\u001b[0m\u001b[0;34m[\u001b[0m\u001b[0;34m'total_value'\u001b[0m\u001b[0;34m]\u001b[0m\u001b[0;34m.\u001b[0m\u001b[0mapply\u001b[0m\u001b[0;34m(\u001b[0m\u001b[0mmoney_to_int\u001b[0m\u001b[0;34m)\u001b[0m\u001b[0;34m\u001b[0m\u001b[0m\n\u001b[1;32m     27\u001b[0m \u001b[0;34m\u001b[0m\u001b[0m\n",
      "\u001b[0;32m~/anaconda3/lib/python3.6/site-packages/pandas/core/series.py\u001b[0m in \u001b[0;36mapply\u001b[0;34m(self, func, convert_dtype, args, **kwds)\u001b[0m\n\u001b[1;32m   3190\u001b[0m             \u001b[0;32melse\u001b[0m\u001b[0;34m:\u001b[0m\u001b[0;34m\u001b[0m\u001b[0m\n\u001b[1;32m   3191\u001b[0m                 \u001b[0mvalues\u001b[0m \u001b[0;34m=\u001b[0m \u001b[0mself\u001b[0m\u001b[0;34m.\u001b[0m\u001b[0mastype\u001b[0m\u001b[0;34m(\u001b[0m\u001b[0mobject\u001b[0m\u001b[0;34m)\u001b[0m\u001b[0;34m.\u001b[0m\u001b[0mvalues\u001b[0m\u001b[0;34m\u001b[0m\u001b[0m\n\u001b[0;32m-> 3192\u001b[0;31m                 \u001b[0mmapped\u001b[0m \u001b[0;34m=\u001b[0m \u001b[0mlib\u001b[0m\u001b[0;34m.\u001b[0m\u001b[0mmap_infer\u001b[0m\u001b[0;34m(\u001b[0m\u001b[0mvalues\u001b[0m\u001b[0;34m,\u001b[0m \u001b[0mf\u001b[0m\u001b[0;34m,\u001b[0m \u001b[0mconvert\u001b[0m\u001b[0;34m=\u001b[0m\u001b[0mconvert_dtype\u001b[0m\u001b[0;34m)\u001b[0m\u001b[0;34m\u001b[0m\u001b[0m\n\u001b[0m\u001b[1;32m   3193\u001b[0m \u001b[0;34m\u001b[0m\u001b[0m\n\u001b[1;32m   3194\u001b[0m         \u001b[0;32mif\u001b[0m \u001b[0mlen\u001b[0m\u001b[0;34m(\u001b[0m\u001b[0mmapped\u001b[0m\u001b[0;34m)\u001b[0m \u001b[0;32mand\u001b[0m \u001b[0misinstance\u001b[0m\u001b[0;34m(\u001b[0m\u001b[0mmapped\u001b[0m\u001b[0;34m[\u001b[0m\u001b[0;36m0\u001b[0m\u001b[0;34m]\u001b[0m\u001b[0;34m,\u001b[0m \u001b[0mSeries\u001b[0m\u001b[0;34m)\u001b[0m\u001b[0;34m:\u001b[0m\u001b[0;34m\u001b[0m\u001b[0m\n",
      "\u001b[0;32mpandas/_libs/src/inference.pyx\u001b[0m in \u001b[0;36mpandas._libs.lib.map_infer\u001b[0;34m()\u001b[0m\n",
      "\u001b[0;32m~/galvanize/nhl-contract-predictions/data_cleaning/data_cleaning.py\u001b[0m in \u001b[0;36m<lambda>\u001b[0;34m(x)\u001b[0m\n\u001b[1;32m     22\u001b[0m \u001b[0;34m\u001b[0m\u001b[0m\n\u001b[1;32m     23\u001b[0m     \u001b[0;31m#make a function to convert money strings to ints and apply\u001b[0m\u001b[0;34m\u001b[0m\u001b[0;34m\u001b[0m\u001b[0m\n\u001b[0;32m---> 24\u001b[0;31m     \u001b[0mmoney_to_int\u001b[0m \u001b[0;34m=\u001b[0m \u001b[0;32mlambda\u001b[0m \u001b[0mx\u001b[0m\u001b[0;34m:\u001b[0m \u001b[0mint\u001b[0m\u001b[0;34m(\u001b[0m\u001b[0mx\u001b[0m\u001b[0;34m.\u001b[0m\u001b[0mstrip\u001b[0m\u001b[0;34m(\u001b[0m\u001b[0;34m)\u001b[0m\u001b[0;34m.\u001b[0m\u001b[0mstrip\u001b[0m\u001b[0;34m(\u001b[0m\u001b[0;34m'$()'\u001b[0m\u001b[0;34m)\u001b[0m\u001b[0;34m.\u001b[0m\u001b[0mreplace\u001b[0m\u001b[0;34m(\u001b[0m\u001b[0;34m','\u001b[0m\u001b[0;34m,\u001b[0m \u001b[0;34m''\u001b[0m\u001b[0;34m)\u001b[0m\u001b[0;34m)\u001b[0m\u001b[0;34m\u001b[0m\u001b[0m\n\u001b[0m\u001b[1;32m     25\u001b[0m     \u001b[0mdf\u001b[0m\u001b[0;34m[\u001b[0m\u001b[0;34m'cap_hit'\u001b[0m\u001b[0;34m]\u001b[0m \u001b[0;34m=\u001b[0m \u001b[0mdf\u001b[0m\u001b[0;34m[\u001b[0m\u001b[0;34m'cap_hit'\u001b[0m\u001b[0;34m]\u001b[0m\u001b[0;34m.\u001b[0m\u001b[0mapply\u001b[0m\u001b[0;34m(\u001b[0m\u001b[0mmoney_to_int\u001b[0m\u001b[0;34m)\u001b[0m\u001b[0;34m\u001b[0m\u001b[0m\n\u001b[1;32m     26\u001b[0m     \u001b[0mdf\u001b[0m\u001b[0;34m[\u001b[0m\u001b[0;34m'total_value'\u001b[0m\u001b[0;34m]\u001b[0m \u001b[0;34m=\u001b[0m \u001b[0mdf\u001b[0m\u001b[0;34m[\u001b[0m\u001b[0;34m'total_value'\u001b[0m\u001b[0;34m]\u001b[0m\u001b[0;34m.\u001b[0m\u001b[0mapply\u001b[0m\u001b[0;34m(\u001b[0m\u001b[0mmoney_to_int\u001b[0m\u001b[0;34m)\u001b[0m\u001b[0;34m\u001b[0m\u001b[0m\n",
      "\u001b[0;31mValueError\u001b[0m: invalid literal for int() with base 10: '?'"
     ]
    }
   ],
   "source": [
    "df = dc.clean_data('../data/Contract_Details_PuckPedia_Mar_2019_Confidential_2.csv')"
   ]
  },
  {
   "cell_type": "code",
   "execution_count": 8,
   "metadata": {},
   "outputs": [],
   "source": [
    "df = pd.read_csv('../data/Contract_Details_PuckPedia_Mar_2019_Confidential_2.csv')"
   ]
  },
  {
   "cell_type": "code",
   "execution_count": 9,
   "metadata": {},
   "outputs": [
    {
     "data": {
      "text/html": [
       "<div>\n",
       "<style scoped>\n",
       "    .dataframe tbody tr th:only-of-type {\n",
       "        vertical-align: middle;\n",
       "    }\n",
       "\n",
       "    .dataframe tbody tr th {\n",
       "        vertical-align: top;\n",
       "    }\n",
       "\n",
       "    .dataframe thead th {\n",
       "        text-align: right;\n",
       "    }\n",
       "</style>\n",
       "<table border=\"1\" class=\"dataframe\">\n",
       "  <thead>\n",
       "    <tr style=\"text-align: right;\">\n",
       "      <th></th>\n",
       "      <th>player_id</th>\n",
       "      <th>first_name</th>\n",
       "      <th>last_name</th>\n",
       "      <th>position</th>\n",
       "      <th>birthdate</th>\n",
       "      <th>season</th>\n",
       "      <th>team_id</th>\n",
       "      <th>team_name</th>\n",
       "      <th>cap_hit</th>\n",
       "      <th>base_salary</th>\n",
       "      <th>...</th>\n",
       "      <th>signing_date</th>\n",
       "      <th>signing_team</th>\n",
       "      <th>length</th>\n",
       "      <th>value</th>\n",
       "      <th>contract_level</th>\n",
       "      <th>contract_id</th>\n",
       "      <th>expiry_status</th>\n",
       "      <th>contract_type</th>\n",
       "      <th>contract_end</th>\n",
       "      <th>ufa_year</th>\n",
       "    </tr>\n",
       "  </thead>\n",
       "  <tbody>\n",
       "    <tr>\n",
       "      <th>0</th>\n",
       "      <td>103</td>\n",
       "      <td>Roberto</td>\n",
       "      <td>Luongo</td>\n",
       "      <td>Goaltender</td>\n",
       "      <td>4/4/79</td>\n",
       "      <td>2006-2007</td>\n",
       "      <td>14.0</td>\n",
       "      <td>Panthers</td>\n",
       "      <td>$6,750,000</td>\n",
       "      <td>$6,000,000</td>\n",
       "      <td>...</td>\n",
       "      <td>6/29/06</td>\n",
       "      <td>Vancouver Canucks</td>\n",
       "      <td>4.0</td>\n",
       "      <td>$27,000,000</td>\n",
       "      <td>standard_level</td>\n",
       "      <td>442</td>\n",
       "      <td>UFA</td>\n",
       "      <td>history</td>\n",
       "      <td>2009-2010</td>\n",
       "      <td>2006.0</td>\n",
       "    </tr>\n",
       "    <tr>\n",
       "      <th>1</th>\n",
       "      <td>103</td>\n",
       "      <td>Roberto</td>\n",
       "      <td>Luongo</td>\n",
       "      <td>Goaltender</td>\n",
       "      <td>4/4/79</td>\n",
       "      <td>2007-2008</td>\n",
       "      <td>14.0</td>\n",
       "      <td>Panthers</td>\n",
       "      <td>$6,750,000</td>\n",
       "      <td>$6,500,000</td>\n",
       "      <td>...</td>\n",
       "      <td>6/29/06</td>\n",
       "      <td>Vancouver Canucks</td>\n",
       "      <td>4.0</td>\n",
       "      <td>$27,000,000</td>\n",
       "      <td>standard_level</td>\n",
       "      <td>442</td>\n",
       "      <td>UFA</td>\n",
       "      <td>history</td>\n",
       "      <td>2009-2010</td>\n",
       "      <td>2006.0</td>\n",
       "    </tr>\n",
       "    <tr>\n",
       "      <th>2</th>\n",
       "      <td>103</td>\n",
       "      <td>Roberto</td>\n",
       "      <td>Luongo</td>\n",
       "      <td>Goaltender</td>\n",
       "      <td>4/4/79</td>\n",
       "      <td>2008-2009</td>\n",
       "      <td>14.0</td>\n",
       "      <td>Panthers</td>\n",
       "      <td>$6,750,000</td>\n",
       "      <td>$7,000,000</td>\n",
       "      <td>...</td>\n",
       "      <td>6/29/06</td>\n",
       "      <td>Vancouver Canucks</td>\n",
       "      <td>4.0</td>\n",
       "      <td>$27,000,000</td>\n",
       "      <td>standard_level</td>\n",
       "      <td>442</td>\n",
       "      <td>UFA</td>\n",
       "      <td>history</td>\n",
       "      <td>2009-2010</td>\n",
       "      <td>2006.0</td>\n",
       "    </tr>\n",
       "    <tr>\n",
       "      <th>3</th>\n",
       "      <td>103</td>\n",
       "      <td>Roberto</td>\n",
       "      <td>Luongo</td>\n",
       "      <td>Goaltender</td>\n",
       "      <td>4/4/79</td>\n",
       "      <td>2009-2010</td>\n",
       "      <td>14.0</td>\n",
       "      <td>Panthers</td>\n",
       "      <td>$6,750,000</td>\n",
       "      <td>$7,500,000</td>\n",
       "      <td>...</td>\n",
       "      <td>6/29/06</td>\n",
       "      <td>Vancouver Canucks</td>\n",
       "      <td>4.0</td>\n",
       "      <td>$27,000,000</td>\n",
       "      <td>standard_level</td>\n",
       "      <td>442</td>\n",
       "      <td>UFA</td>\n",
       "      <td>history</td>\n",
       "      <td>2009-2010</td>\n",
       "      <td>2006.0</td>\n",
       "    </tr>\n",
       "    <tr>\n",
       "      <th>4</th>\n",
       "      <td>103</td>\n",
       "      <td>Roberto</td>\n",
       "      <td>Luongo</td>\n",
       "      <td>Goaltender</td>\n",
       "      <td>4/4/79</td>\n",
       "      <td>2010-2011</td>\n",
       "      <td>14.0</td>\n",
       "      <td>Panthers</td>\n",
       "      <td>$5,333,333</td>\n",
       "      <td>$10,000,000</td>\n",
       "      <td>...</td>\n",
       "      <td>9/2/09</td>\n",
       "      <td>NaN</td>\n",
       "      <td>12.0</td>\n",
       "      <td>$63,999,996</td>\n",
       "      <td>standard_level</td>\n",
       "      <td>4124</td>\n",
       "      <td>UFA</td>\n",
       "      <td>current</td>\n",
       "      <td>2021-2022</td>\n",
       "      <td>2006.0</td>\n",
       "    </tr>\n",
       "  </tbody>\n",
       "</table>\n",
       "<p>5 rows × 25 columns</p>\n",
       "</div>"
      ],
      "text/plain": [
       "   player_id first_name last_name    position birthdate     season  team_id  \\\n",
       "0        103    Roberto    Luongo  Goaltender    4/4/79  2006-2007     14.0   \n",
       "1        103    Roberto    Luongo  Goaltender    4/4/79  2007-2008     14.0   \n",
       "2        103    Roberto    Luongo  Goaltender    4/4/79  2008-2009     14.0   \n",
       "3        103    Roberto    Luongo  Goaltender    4/4/79  2009-2010     14.0   \n",
       "4        103    Roberto    Luongo  Goaltender    4/4/79  2010-2011     14.0   \n",
       "\n",
       "  team_name       cap_hit    base_salary   ...    signing_date  \\\n",
       "0  Panthers   $6,750,000     $6,000,000    ...         6/29/06   \n",
       "1  Panthers   $6,750,000     $6,500,000    ...         6/29/06   \n",
       "2  Panthers   $6,750,000     $7,000,000    ...         6/29/06   \n",
       "3  Panthers   $6,750,000     $7,500,000    ...         6/29/06   \n",
       "4  Panthers   $5,333,333    $10,000,000    ...          9/2/09   \n",
       "\n",
       "        signing_team length         value   contract_level contract_id  \\\n",
       "0  Vancouver Canucks    4.0   $27,000,000   standard_level         442   \n",
       "1  Vancouver Canucks    4.0   $27,000,000   standard_level         442   \n",
       "2  Vancouver Canucks    4.0   $27,000,000   standard_level         442   \n",
       "3  Vancouver Canucks    4.0   $27,000,000   standard_level         442   \n",
       "4                NaN   12.0   $63,999,996   standard_level        4124   \n",
       "\n",
       "  expiry_status  contract_type contract_end ufa_year  \n",
       "0           UFA        history    2009-2010   2006.0  \n",
       "1           UFA        history    2009-2010   2006.0  \n",
       "2           UFA        history    2009-2010   2006.0  \n",
       "3           UFA        history    2009-2010   2006.0  \n",
       "4           UFA        current    2021-2022   2006.0  \n",
       "\n",
       "[5 rows x 25 columns]"
      ]
     },
     "execution_count": 9,
     "metadata": {},
     "output_type": "execute_result"
    }
   ],
   "source": [
    "df.head()"
   ]
  },
  {
   "cell_type": "code",
   "execution_count": 15,
   "metadata": {},
   "outputs": [
    {
     "data": {
      "text/plain": [
       "Index(['player_id', 'first_name', 'last_name', 'position', 'birthdate',\n",
       "       'season', 'team_id', 'team_name', 'cap_hit', 'base_salary', 'p_bonuses',\n",
       "       's_bonuses', 'total_salary', 'active', 'buyout_id', 'signing_date',\n",
       "       'signing_team', 'length', ' value ', 'contract_level', 'contract_id',\n",
       "       'expiry_status', 'contract_type', 'contract_end', 'ufa_year'],\n",
       "      dtype='object')"
      ]
     },
     "execution_count": 15,
     "metadata": {},
     "output_type": "execute_result"
    }
   ],
   "source": [
    "df.columns"
   ]
  },
  {
   "cell_type": "code",
   "execution_count": 17,
   "metadata": {},
   "outputs": [
    {
     "data": {
      "text/plain": [
       "2865"
      ]
     },
     "execution_count": 17,
     "metadata": {},
     "output_type": "execute_result"
    }
   ],
   "source": [
    "len(set(df.contract_id[df.contract_level != 'entry_level']))"
   ]
  },
  {
   "cell_type": "code",
   "execution_count": 25,
   "metadata": {},
   "outputs": [
    {
     "data": {
      "text/html": [
       "<div>\n",
       "<style scoped>\n",
       "    .dataframe tbody tr th:only-of-type {\n",
       "        vertical-align: middle;\n",
       "    }\n",
       "\n",
       "    .dataframe tbody tr th {\n",
       "        vertical-align: top;\n",
       "    }\n",
       "\n",
       "    .dataframe thead th {\n",
       "        text-align: right;\n",
       "    }\n",
       "</style>\n",
       "<table border=\"1\" class=\"dataframe\">\n",
       "  <thead>\n",
       "    <tr style=\"text-align: right;\">\n",
       "      <th></th>\n",
       "      <th>player_id</th>\n",
       "      <th>first_name</th>\n",
       "      <th>last_name</th>\n",
       "      <th>position</th>\n",
       "      <th>birthdate</th>\n",
       "      <th>season</th>\n",
       "      <th>team_id</th>\n",
       "      <th>team_name</th>\n",
       "      <th>cap_hit</th>\n",
       "      <th>base_salary</th>\n",
       "      <th>...</th>\n",
       "      <th>signing_date</th>\n",
       "      <th>signing_team</th>\n",
       "      <th>length</th>\n",
       "      <th>value</th>\n",
       "      <th>contract_level</th>\n",
       "      <th>contract_id</th>\n",
       "      <th>expiry_status</th>\n",
       "      <th>contract_type</th>\n",
       "      <th>contract_end</th>\n",
       "      <th>ufa_year</th>\n",
       "    </tr>\n",
       "  </thead>\n",
       "  <tbody>\n",
       "    <tr>\n",
       "      <th>1303</th>\n",
       "      <td>1437</td>\n",
       "      <td>Alexander</td>\n",
       "      <td>Radulov</td>\n",
       "      <td>Right Wing</td>\n",
       "      <td>7/5/86</td>\n",
       "      <td>2011-2012</td>\n",
       "      <td>20.0</td>\n",
       "      <td>Stars</td>\n",
       "      <td>?</td>\n",
       "      <td>$984,200</td>\n",
       "      <td>...</td>\n",
       "      <td>NaN</td>\n",
       "      <td>NaN</td>\n",
       "      <td>NaN</td>\n",
       "      <td>NaN</td>\n",
       "      <td>standard_level</td>\n",
       "      <td>2132</td>\n",
       "      <td>NaN</td>\n",
       "      <td>history</td>\n",
       "      <td>2011-2012</td>\n",
       "      <td>2013.0</td>\n",
       "    </tr>\n",
       "  </tbody>\n",
       "</table>\n",
       "<p>1 rows × 25 columns</p>\n",
       "</div>"
      ],
      "text/plain": [
       "      player_id first_name last_name    position birthdate     season  \\\n",
       "1303       1437  Alexander   Radulov  Right Wing    7/5/86  2011-2012   \n",
       "\n",
       "      team_id team_name cap_hit base_salary   ...    signing_date  \\\n",
       "1303     20.0     Stars      ?    $984,200    ...             NaN   \n",
       "\n",
       "     signing_team length   value   contract_level contract_id expiry_status  \\\n",
       "1303          NaN    NaN      NaN  standard_level        2132           NaN   \n",
       "\n",
       "      contract_type contract_end ufa_year  \n",
       "1303        history    2011-2012   2013.0  \n",
       "\n",
       "[1 rows x 25 columns]"
      ]
     },
     "execution_count": 25,
     "metadata": {},
     "output_type": "execute_result"
    }
   ],
   "source": [
    "df[df.cap_hit == ' ? ']"
   ]
  },
  {
   "cell_type": "code",
   "execution_count": 28,
   "metadata": {},
   "outputs": [
    {
     "ename": "SyntaxError",
     "evalue": "invalid syntax (<ipython-input-28-5dd581b82a66>, line 1)",
     "output_type": "error",
     "traceback": [
      "\u001b[0;36m  File \u001b[0;32m\"<ipython-input-28-5dd581b82a66>\"\u001b[0;36m, line \u001b[0;32m1\u001b[0m\n\u001b[0;31m    df.length = df.length.apply(lambda x: if x.isnull(): x = 0 else: int(x))\u001b[0m\n\u001b[0m                                           ^\u001b[0m\n\u001b[0;31mSyntaxError\u001b[0m\u001b[0;31m:\u001b[0m invalid syntax\n"
     ]
    }
   ],
   "source": [
    "df.length = df.length.apply(lambda x: if x.isnull(): x = 0 else: int(x))"
   ]
  },
  {
   "cell_type": "code",
   "execution_count": null,
   "metadata": {},
   "outputs": [],
   "source": [
    "df.length.isn"
   ]
  }
 ],
 "metadata": {
  "kernelspec": {
   "display_name": "Python 3",
   "language": "python",
   "name": "python3"
  },
  "language_info": {
   "codemirror_mode": {
    "name": "ipython",
    "version": 3
   },
   "file_extension": ".py",
   "mimetype": "text/x-python",
   "name": "python",
   "nbconvert_exporter": "python",
   "pygments_lexer": "ipython3",
   "version": "3.6.5"
  }
 },
 "nbformat": 4,
 "nbformat_minor": 2
}
