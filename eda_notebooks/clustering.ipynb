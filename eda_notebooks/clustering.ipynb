{
 "cells": [
  {
   "cell_type": "code",
   "execution_count": 10,
   "metadata": {},
   "outputs": [],
   "source": [
    "import numpy as np\n",
    "import pandas as pd\n",
    "import matplotlib.pyplot as plt\n",
    "import seaborn as sns\n",
    "\n",
    "%matplotlib inline"
   ]
  },
  {
   "cell_type": "code",
   "execution_count": 501,
   "metadata": {},
   "outputs": [],
   "source": [
    "from collections import defaultdict\n",
    "from sklearn.model_selection import train_test_split\n",
    "from sklearn.linear_model import LinearRegression\n",
    "from sklearn.neighbors import KNeighborsRegressor, RadiusNeighborsRegressor\n",
    "from sklearn.ensemble import RandomForestRegressor, GradientBoostingRegressor, AdaBoostRegressor\n",
    "import statsmodels.api as sm\n",
    "from sklearn.preprocessing import StandardScaler\n",
    "from scipy.spatial.distance import euclidean, cosine\n",
    "from collections import defaultdict\n",
    "import random"
   ]
  },
  {
   "cell_type": "code",
   "execution_count": 12,
   "metadata": {},
   "outputs": [],
   "source": [
    "df = pd.read_csv('../data/thur_data.csv')"
   ]
  },
  {
   "cell_type": "code",
   "execution_count": 51,
   "metadata": {},
   "outputs": [
    {
     "data": {
      "text/plain": [
       "(1170, 208)"
      ]
     },
     "execution_count": 51,
     "metadata": {},
     "output_type": "execute_result"
    }
   ],
   "source": [
    "df.shape"
   ]
  },
  {
   "cell_type": "code",
   "execution_count": 13,
   "metadata": {},
   "outputs": [
    {
     "data": {
      "text/html": [
       "<div>\n",
       "<style scoped>\n",
       "    .dataframe tbody tr th:only-of-type {\n",
       "        vertical-align: middle;\n",
       "    }\n",
       "\n",
       "    .dataframe tbody tr th {\n",
       "        vertical-align: top;\n",
       "    }\n",
       "\n",
       "    .dataframe thead th {\n",
       "        text-align: right;\n",
       "    }\n",
       "</style>\n",
       "<table border=\"1\" class=\"dataframe\">\n",
       "  <thead>\n",
       "    <tr style=\"text-align: right;\">\n",
       "      <th></th>\n",
       "      <th>player_id</th>\n",
       "      <th>first_name</th>\n",
       "      <th>last_name</th>\n",
       "      <th>position</th>\n",
       "      <th>birthdate</th>\n",
       "      <th>season</th>\n",
       "      <th>team_id</th>\n",
       "      <th>team_name</th>\n",
       "      <th>cap_hit</th>\n",
       "      <th>active</th>\n",
       "      <th>...</th>\n",
       "      <th>3yr On The Fly Starts/60</th>\n",
       "      <th>3yr Off. Zone Start %</th>\n",
       "      <th>3yr Off. Zone Faceoffs/60</th>\n",
       "      <th>3yr Neu. Zone Faceoffs/60</th>\n",
       "      <th>3yr Def. Zone Faceoffs/60</th>\n",
       "      <th>3yr Off. Zone Faceoff %</th>\n",
       "      <th>3yr Season_Player</th>\n",
       "      <th>skater</th>\n",
       "      <th>forward</th>\n",
       "      <th>IPP</th>\n",
       "    </tr>\n",
       "  </thead>\n",
       "  <tbody>\n",
       "    <tr>\n",
       "      <th>0</th>\n",
       "      <td>257</td>\n",
       "      <td>Francois</td>\n",
       "      <td>Beauchemin</td>\n",
       "      <td>Defense</td>\n",
       "      <td>1980-06-04</td>\n",
       "      <td>2015</td>\n",
       "      <td>NaN</td>\n",
       "      <td>NaN</td>\n",
       "      <td>4500000</td>\n",
       "      <td>1.0</td>\n",
       "      <td>...</td>\n",
       "      <td>37.42</td>\n",
       "      <td>44.15</td>\n",
       "      <td>18.72</td>\n",
       "      <td>19.48</td>\n",
       "      <td>22.41</td>\n",
       "      <td>45.52</td>\n",
       "      <td>2014 Francois Beauchemin</td>\n",
       "      <td>1</td>\n",
       "      <td>0</td>\n",
       "      <td>37.10</td>\n",
       "    </tr>\n",
       "    <tr>\n",
       "      <th>1</th>\n",
       "      <td>257</td>\n",
       "      <td>Francois</td>\n",
       "      <td>Beauchemin</td>\n",
       "      <td>Defense</td>\n",
       "      <td>1980-06-04</td>\n",
       "      <td>2017</td>\n",
       "      <td>NaN</td>\n",
       "      <td>NaN</td>\n",
       "      <td>1000000</td>\n",
       "      <td>1.0</td>\n",
       "      <td>...</td>\n",
       "      <td>38.43</td>\n",
       "      <td>40.28</td>\n",
       "      <td>18.01</td>\n",
       "      <td>18.32</td>\n",
       "      <td>24.65</td>\n",
       "      <td>42.21</td>\n",
       "      <td>2016 Francois Beauchemin</td>\n",
       "      <td>1</td>\n",
       "      <td>0</td>\n",
       "      <td>31.58</td>\n",
       "    </tr>\n",
       "    <tr>\n",
       "      <th>2</th>\n",
       "      <td>355</td>\n",
       "      <td>Brent</td>\n",
       "      <td>Burns</td>\n",
       "      <td>Defense</td>\n",
       "      <td>1985-03-09</td>\n",
       "      <td>2017</td>\n",
       "      <td>21.0</td>\n",
       "      <td>Sharks</td>\n",
       "      <td>8000000</td>\n",
       "      <td>1.0</td>\n",
       "      <td>...</td>\n",
       "      <td>33.86</td>\n",
       "      <td>59.57</td>\n",
       "      <td>24.67</td>\n",
       "      <td>19.01</td>\n",
       "      <td>18.78</td>\n",
       "      <td>56.77</td>\n",
       "      <td>2015 Brent Burns</td>\n",
       "      <td>1</td>\n",
       "      <td>0</td>\n",
       "      <td>59.52</td>\n",
       "    </tr>\n",
       "    <tr>\n",
       "      <th>3</th>\n",
       "      <td>371</td>\n",
       "      <td>Zdeno</td>\n",
       "      <td>Chara</td>\n",
       "      <td>Defense</td>\n",
       "      <td>1977-03-18</td>\n",
       "      <td>2018</td>\n",
       "      <td>3.0</td>\n",
       "      <td>Bruins</td>\n",
       "      <td>5000000</td>\n",
       "      <td>1.0</td>\n",
       "      <td>...</td>\n",
       "      <td>38.14</td>\n",
       "      <td>35.86</td>\n",
       "      <td>15.98</td>\n",
       "      <td>18.46</td>\n",
       "      <td>26.87</td>\n",
       "      <td>37.29</td>\n",
       "      <td>2017 Zdeno Chara</td>\n",
       "      <td>1</td>\n",
       "      <td>0</td>\n",
       "      <td>31.17</td>\n",
       "    </tr>\n",
       "    <tr>\n",
       "      <th>4</th>\n",
       "      <td>375</td>\n",
       "      <td>Jason</td>\n",
       "      <td>Chimera</td>\n",
       "      <td>Left Wing</td>\n",
       "      <td>1979-05-02</td>\n",
       "      <td>2016</td>\n",
       "      <td>NaN</td>\n",
       "      <td>NaN</td>\n",
       "      <td>2250000</td>\n",
       "      <td>1.0</td>\n",
       "      <td>...</td>\n",
       "      <td>48.74</td>\n",
       "      <td>54.90</td>\n",
       "      <td>17.71</td>\n",
       "      <td>19.89</td>\n",
       "      <td>16.46</td>\n",
       "      <td>51.83</td>\n",
       "      <td>2015 Jason Chimera</td>\n",
       "      <td>1</td>\n",
       "      <td>1</td>\n",
       "      <td>76.92</td>\n",
       "    </tr>\n",
       "  </tbody>\n",
       "</table>\n",
       "<p>5 rows × 209 columns</p>\n",
       "</div>"
      ],
      "text/plain": [
       "   player_id first_name   last_name   position   birthdate  season  team_id  \\\n",
       "0        257   Francois  Beauchemin    Defense  1980-06-04    2015      NaN   \n",
       "1        257   Francois  Beauchemin    Defense  1980-06-04    2017      NaN   \n",
       "2        355      Brent       Burns    Defense  1985-03-09    2017     21.0   \n",
       "3        371      Zdeno       Chara    Defense  1977-03-18    2018      3.0   \n",
       "4        375      Jason     Chimera  Left Wing  1979-05-02    2016      NaN   \n",
       "\n",
       "  team_name  cap_hit  active  ...   3yr On The Fly Starts/60  \\\n",
       "0       NaN  4500000     1.0  ...                      37.42   \n",
       "1       NaN  1000000     1.0  ...                      38.43   \n",
       "2    Sharks  8000000     1.0  ...                      33.86   \n",
       "3    Bruins  5000000     1.0  ...                      38.14   \n",
       "4       NaN  2250000     1.0  ...                      48.74   \n",
       "\n",
       "  3yr Off. Zone Start %  3yr Off. Zone Faceoffs/60 3yr Neu. Zone Faceoffs/60  \\\n",
       "0                 44.15                      18.72                     19.48   \n",
       "1                 40.28                      18.01                     18.32   \n",
       "2                 59.57                      24.67                     19.01   \n",
       "3                 35.86                      15.98                     18.46   \n",
       "4                 54.90                      17.71                     19.89   \n",
       "\n",
       "  3yr Def. Zone Faceoffs/60 3yr Off. Zone Faceoff %         3yr Season_Player  \\\n",
       "0                     22.41                   45.52  2014 Francois Beauchemin   \n",
       "1                     24.65                   42.21  2016 Francois Beauchemin   \n",
       "2                     18.78                   56.77          2015 Brent Burns   \n",
       "3                     26.87                   37.29          2017 Zdeno Chara   \n",
       "4                     16.46                   51.83        2015 Jason Chimera   \n",
       "\n",
       "   skater  forward    IPP  \n",
       "0       1        0  37.10  \n",
       "1       1        0  31.58  \n",
       "2       1        0  59.52  \n",
       "3       1        0  31.17  \n",
       "4       1        1  76.92  \n",
       "\n",
       "[5 rows x 209 columns]"
      ]
     },
     "execution_count": 13,
     "metadata": {},
     "output_type": "execute_result"
    }
   ],
   "source": [
    "df.head()"
   ]
  },
  {
   "cell_type": "code",
   "execution_count": 24,
   "metadata": {},
   "outputs": [],
   "source": [
    "df.drop('Position', axis=1, inplace=True)"
   ]
  },
  {
   "cell_type": "code",
   "execution_count": 26,
   "metadata": {},
   "outputs": [],
   "source": [
    "defense = df[df.position == 'Defense']\n",
    "forwards = df[df.position != 'Defense']"
   ]
  },
  {
   "cell_type": "code",
   "execution_count": 33,
   "metadata": {},
   "outputs": [],
   "source": [
    "defense.set_index(defense['Season_Player'], inplace=True)\n",
    "forwards.set_index(forwards['Season_Player'], inplace=True)"
   ]
  },
  {
   "cell_type": "code",
   "execution_count": 31,
   "metadata": {},
   "outputs": [
    {
     "data": {
      "text/plain": [
       "['player_id',\n",
       " 'first_name',\n",
       " 'last_name',\n",
       " 'position',\n",
       " 'birthdate',\n",
       " 'season',\n",
       " 'team_id',\n",
       " 'team_name',\n",
       " 'cap_hit',\n",
       " 'active',\n",
       " 'signing_date',\n",
       " 'signing_team',\n",
       " 'length',\n",
       " 'contract_level',\n",
       " 'expiry_status',\n",
       " 'contract_type',\n",
       " 'contract_end',\n",
       " 'ufa_year',\n",
       " 'total_value',\n",
       " 'Player',\n",
       " 'signing_year',\n",
       " 'signing_age',\n",
       " 'signing_year_cap',\n",
       " 'cap_pct',\n",
       " 'signing_status',\n",
       " 'year_match',\n",
       " 'Season_Player',\n",
       " 'Season',\n",
       " 'GP',\n",
       " 'TOI',\n",
       " 'Goals',\n",
       " 'Total Assists',\n",
       " 'First Assists',\n",
       " 'Second Assists',\n",
       " 'Total Points',\n",
       " 'Shots',\n",
       " 'iCF',\n",
       " 'iFF',\n",
       " 'iSCF',\n",
       " 'iHDCF',\n",
       " 'Rush Attempts',\n",
       " 'Rebounds Created',\n",
       " 'PIM',\n",
       " 'Total Penalties',\n",
       " 'Minor',\n",
       " 'Major',\n",
       " 'Misconduct',\n",
       " 'Penalties Drawn',\n",
       " 'Giveaways',\n",
       " 'Takeaways',\n",
       " 'Hits',\n",
       " 'Hits Taken',\n",
       " 'Shots Blocked',\n",
       " 'Faceoffs Won',\n",
       " 'Faceoffs Lost',\n",
       " 'Season_index',\n",
       " 'sum GP',\n",
       " 'sum TOI',\n",
       " 'sum Goals',\n",
       " 'sum Total Assists',\n",
       " 'sum First Assists',\n",
       " 'sum Second Assists',\n",
       " 'sum Total Points',\n",
       " 'sum Shots',\n",
       " 'sum iCF',\n",
       " 'sum iFF',\n",
       " 'sum iSCF',\n",
       " 'sum iHDCF',\n",
       " 'sum Rush Attempts',\n",
       " 'sum Rebounds Created',\n",
       " 'sum PIM',\n",
       " 'sum Total Penalties',\n",
       " 'sum Minor',\n",
       " 'sum Major',\n",
       " 'sum Misconduct',\n",
       " 'sum Penalties Drawn',\n",
       " 'sum Giveaways',\n",
       " 'sum Takeaways',\n",
       " 'sum Hits',\n",
       " 'sum Hits Taken',\n",
       " 'sum Shots Blocked',\n",
       " 'sum Faceoffs Won',\n",
       " 'sum Faceoffs Lost',\n",
       " 'mean GP',\n",
       " 'mean TOI',\n",
       " 'mean Goals',\n",
       " 'mean Total Assists',\n",
       " 'mean First Assists',\n",
       " 'mean Second Assists',\n",
       " 'mean Total Points',\n",
       " 'mean Shots',\n",
       " 'mean iCF',\n",
       " 'mean iFF',\n",
       " 'mean iSCF',\n",
       " 'mean iHDCF',\n",
       " 'mean Rush Attempts',\n",
       " 'mean Rebounds Created',\n",
       " 'mean PIM',\n",
       " 'mean Total Penalties',\n",
       " 'mean Minor',\n",
       " 'mean Major',\n",
       " 'mean Misconduct',\n",
       " 'mean Penalties Drawn',\n",
       " 'mean Giveaways',\n",
       " 'mean Takeaways',\n",
       " 'mean Hits',\n",
       " 'mean Hits Taken',\n",
       " 'mean Shots Blocked',\n",
       " 'mean Faceoffs Won',\n",
       " 'mean Faceoffs Lost',\n",
       " 'mean SH%',\n",
       " 'mean Faceoffs %',\n",
       " 'TOI/GP',\n",
       " 'CF/60 Rel',\n",
       " 'CA/60 Rel',\n",
       " 'CF% Rel',\n",
       " 'FF/60 Rel',\n",
       " 'FA/60 Rel',\n",
       " 'FF% Rel',\n",
       " 'SF/60 Rel',\n",
       " 'SA/60 Rel',\n",
       " 'SF% Rel',\n",
       " 'GF/60 Rel',\n",
       " 'GA/60 Rel',\n",
       " 'GF% Rel',\n",
       " 'SCF/60 Rel',\n",
       " 'SCA/60 Rel',\n",
       " 'SCF% Rel',\n",
       " 'HDCF/60 Rel',\n",
       " 'HDCA/60 Rel',\n",
       " 'HDCF% Rel',\n",
       " 'HDGF/60 Rel',\n",
       " 'HDGA/60 Rel',\n",
       " 'HDGF% Rel',\n",
       " 'MDCF/60 Rel',\n",
       " 'MDCA/60 Rel',\n",
       " 'MDCF% Rel',\n",
       " 'MDGF/60 Rel',\n",
       " 'MDGA/60 Rel',\n",
       " 'MDGF% Rel',\n",
       " 'LDCF/60 Rel',\n",
       " 'LDCA/60 Rel',\n",
       " 'LDCF% Rel',\n",
       " 'LDGF/60 Rel',\n",
       " 'LDGA/60 Rel',\n",
       " 'LDGF% Rel',\n",
       " 'On-Ice SH%',\n",
       " 'On-Ice SV%',\n",
       " 'PDO',\n",
       " 'Off.\\xa0Zone Starts/60',\n",
       " 'Neu.\\xa0Zone Starts/60',\n",
       " 'Def.\\xa0Zone Starts/60',\n",
       " 'On\\xa0The\\xa0Fly Starts/60',\n",
       " 'Off.\\xa0Zone Start %',\n",
       " 'Off.\\xa0Zone Faceoffs/60',\n",
       " 'Neu.\\xa0Zone Faceoffs/60',\n",
       " 'Def.\\xa0Zone Faceoffs/60',\n",
       " 'Off.\\xa0Zone Faceoff %',\n",
       " '3yr TOI/GP',\n",
       " '3yr CF/60 Rel',\n",
       " '3yr CA/60 Rel',\n",
       " '3yr CF% Rel',\n",
       " '3yr FF/60 Rel',\n",
       " '3yr FA/60 Rel',\n",
       " '3yr FF% Rel',\n",
       " '3yr SF/60 Rel',\n",
       " '3yr SA/60 Rel',\n",
       " '3yr SF% Rel',\n",
       " '3yr GF/60 Rel',\n",
       " '3yr GA/60 Rel',\n",
       " '3yr GF% Rel',\n",
       " '3yr SCF/60 Rel',\n",
       " '3yr SCA/60 Rel',\n",
       " '3yr SCF% Rel',\n",
       " '3yr HDCF/60 Rel',\n",
       " '3yr HDCA/60 Rel',\n",
       " '3yr HDCF% Rel',\n",
       " '3yr HDGF/60 Rel',\n",
       " '3yr HDGA/60 Rel',\n",
       " '3yr HDGF% Rel',\n",
       " '3yr MDCF/60 Rel',\n",
       " '3yr MDCA/60 Rel',\n",
       " '3yr MDCF% Rel',\n",
       " '3yr MDGF/60 Rel',\n",
       " '3yr MDGA/60 Rel',\n",
       " '3yr MDGF% Rel',\n",
       " '3yr LDCF/60 Rel',\n",
       " '3yr LDCA/60 Rel',\n",
       " '3yr LDCF% Rel',\n",
       " '3yr LDGF/60 Rel',\n",
       " '3yr LDGA/60 Rel',\n",
       " '3yr LDGF% Rel',\n",
       " '3yr On-Ice SH%',\n",
       " '3yr On-Ice SV%',\n",
       " '3yr PDO',\n",
       " '3yr Off.\\xa0Zone Starts/60',\n",
       " '3yr Neu.\\xa0Zone Starts/60',\n",
       " '3yr Def.\\xa0Zone Starts/60',\n",
       " '3yr On\\xa0The\\xa0Fly Starts/60',\n",
       " '3yr Off.\\xa0Zone Start %',\n",
       " '3yr Off.\\xa0Zone Faceoffs/60',\n",
       " '3yr Neu.\\xa0Zone Faceoffs/60',\n",
       " '3yr Def.\\xa0Zone Faceoffs/60',\n",
       " '3yr Off.\\xa0Zone Faceoff %',\n",
       " '3yr Season_Player',\n",
       " 'skater',\n",
       " 'forward',\n",
       " 'IPP']"
      ]
     },
     "execution_count": 31,
     "metadata": {},
     "output_type": "execute_result"
    }
   ],
   "source": [
    "list(defense.columns)"
   ]
  },
  {
   "cell_type": "code",
   "execution_count": 14,
   "metadata": {},
   "outputs": [],
   "source": [
    "from sklearn.cluster import KMeans"
   ]
  },
  {
   "cell_type": "code",
   "execution_count": 28,
   "metadata": {},
   "outputs": [],
   "source": [
    "dkm = KMeans(n_clusters = 3)"
   ]
  },
  {
   "cell_type": "code",
   "execution_count": 39,
   "metadata": {},
   "outputs": [
    {
     "data": {
      "text/plain": [
       "(408, 208)"
      ]
     },
     "execution_count": 39,
     "metadata": {},
     "output_type": "execute_result"
    }
   ],
   "source": [
    "defense.shape"
   ]
  },
  {
   "cell_type": "code",
   "execution_count": 161,
   "metadata": {},
   "outputs": [
    {
     "name": "stderr",
     "output_type": "stream",
     "text": [
      "/Users/colinshanahan/anaconda3/lib/python3.6/site-packages/ipykernel_launcher.py:1: SettingWithCopyWarning: \n",
      "A value is trying to be set on a copy of a slice from a DataFrame.\n",
      "Try using .loc[row_indexer,col_indexer] = value instead\n",
      "\n",
      "See the caveats in the documentation: http://pandas.pydata.org/pandas-docs/stable/indexing.html#indexing-view-versus-copy\n",
      "  \"\"\"Entry point for launching an IPython kernel.\n",
      "/Users/colinshanahan/anaconda3/lib/python3.6/site-packages/ipykernel_launcher.py:2: SettingWithCopyWarning: \n",
      "A value is trying to be set on a copy of a slice from a DataFrame.\n",
      "Try using .loc[row_indexer,col_indexer] = value instead\n",
      "\n",
      "See the caveats in the documentation: http://pandas.pydata.org/pandas-docs/stable/indexing.html#indexing-view-versus-copy\n",
      "  \n",
      "/Users/colinshanahan/anaconda3/lib/python3.6/site-packages/ipykernel_launcher.py:3: SettingWithCopyWarning: \n",
      "A value is trying to be set on a copy of a slice from a DataFrame.\n",
      "Try using .loc[row_indexer,col_indexer] = value instead\n",
      "\n",
      "See the caveats in the documentation: http://pandas.pydata.org/pandas-docs/stable/indexing.html#indexing-view-versus-copy\n",
      "  This is separate from the ipykernel package so we can avoid doing imports until\n",
      "/Users/colinshanahan/anaconda3/lib/python3.6/site-packages/ipykernel_launcher.py:4: SettingWithCopyWarning: \n",
      "A value is trying to be set on a copy of a slice from a DataFrame.\n",
      "Try using .loc[row_indexer,col_indexer] = value instead\n",
      "\n",
      "See the caveats in the documentation: http://pandas.pydata.org/pandas-docs/stable/indexing.html#indexing-view-versus-copy\n",
      "  after removing the cwd from sys.path.\n"
     ]
    }
   ],
   "source": [
    "defense['mean Giveaways/60'] = (defense['sum Giveaways'] / defense['sum TOI']) * 60\n",
    "defense['mean Takeaways/60'] = (defense['sum Takeaways'] / defense['sum TOI']) * 60\n",
    "defense['mean Shots Blocked/60'] = (defense['sum Shots Blocked'] / defense ['sum TOI']) * 60\n",
    "defense['mean TP/60'] = (defense['sum Total Points']/defense['sum TOI']) * 60"
   ]
  },
  {
   "cell_type": "code",
   "execution_count": 429,
   "metadata": {},
   "outputs": [],
   "source": [
    "Xd = defense[['mean Total Points', 'mean TP/60', 'TOI/GP', '3yr CF/60 Rel', '3yr CA/60 Rel', \n",
    "             'mean Giveaways/60', 'mean Takeaways/60', '3yr Off.\\xa0Zone Starts/60', \n",
    "             '3yr Def.\\xa0Zone Starts/60', 'mean Shots Blocked/60']]\n",
    "yd = defense[['length', 'cap_hit', 'cap_pct']]"
   ]
  },
  {
   "cell_type": "code",
   "execution_count": 430,
   "metadata": {},
   "outputs": [],
   "source": [
    "ss = StandardScaler()\n",
    "Xds = ss.fit_transform(Xd)"
   ]
  },
  {
   "cell_type": "code",
   "execution_count": 431,
   "metadata": {},
   "outputs": [],
   "source": [
    "dclus = dkm.fit_transform(Xds)"
   ]
  },
  {
   "cell_type": "code",
   "execution_count": 432,
   "metadata": {},
   "outputs": [
    {
     "name": "stderr",
     "output_type": "stream",
     "text": [
      "/Users/colinshanahan/anaconda3/lib/python3.6/site-packages/ipykernel_launcher.py:1: SettingWithCopyWarning: \n",
      "A value is trying to be set on a copy of a slice from a DataFrame.\n",
      "Try using .loc[row_indexer,col_indexer] = value instead\n",
      "\n",
      "See the caveats in the documentation: http://pandas.pydata.org/pandas-docs/stable/indexing.html#indexing-view-versus-copy\n",
      "  \"\"\"Entry point for launching an IPython kernel.\n"
     ]
    }
   ],
   "source": [
    "Xd['cluster'] = dkm.labels_"
   ]
  },
  {
   "cell_type": "code",
   "execution_count": 433,
   "metadata": {},
   "outputs": [],
   "source": [
    "dclus0 = Xd[dkm.labels_ == 0].drop('cluster', axis=1)"
   ]
  },
  {
   "cell_type": "code",
   "execution_count": 434,
   "metadata": {},
   "outputs": [],
   "source": [
    "dclus1 = Xd[dkm.labels_ == 1].drop('cluster', axis=1)"
   ]
  },
  {
   "cell_type": "code",
   "execution_count": 435,
   "metadata": {},
   "outputs": [],
   "source": [
    "dclus2 = Xd[dkm.labels_ == 2].drop('cluster', axis=1)"
   ]
  },
  {
   "cell_type": "code",
   "execution_count": 436,
   "metadata": {},
   "outputs": [],
   "source": [
    "dc0means, dc1means, dc2means = dclus0.mean(axis=0), dclus1.mean(axis=0), dclus2.mean(axis=0)"
   ]
  },
  {
   "cell_type": "code",
   "execution_count": 437,
   "metadata": {},
   "outputs": [
    {
     "data": {
      "text/plain": [
       "Index(['mean Total Points', 'mean TP/60', 'TOI/GP', '3yr CF/60 Rel',\n",
       "       '3yr CA/60 Rel', 'mean Giveaways/60', 'mean Takeaways/60',\n",
       "       '3yr Off. Zone Starts/60', '3yr Def. Zone Starts/60',\n",
       "       'mean Shots Blocked/60'],\n",
       "      dtype='object')"
      ]
     },
     "execution_count": 437,
     "metadata": {},
     "output_type": "execute_result"
    }
   ],
   "source": [
    "dc0means.index"
   ]
  },
  {
   "cell_type": "code",
   "execution_count": 438,
   "metadata": {},
   "outputs": [
    {
     "data": {
      "text/plain": [
       "mean Total Points           5.235544\n",
       "mean TP/60                  0.716380\n",
       "TOI/GP                     14.703093\n",
       "3yr CF/60 Rel              -1.808929\n",
       "3yr CA/60 Rel              -2.636378\n",
       "mean Giveaways/60           1.671953\n",
       "mean Takeaways/60           0.792217\n",
       "3yr Off. Zone Starts/60     9.657245\n",
       "3yr Def. Zone Starts/60     7.602092\n",
       "mean Shots Blocked/60       3.786495\n",
       "dtype: float64"
      ]
     },
     "execution_count": 438,
     "metadata": {},
     "output_type": "execute_result"
    }
   ],
   "source": [
    "dc0means"
   ]
  },
  {
   "cell_type": "code",
   "execution_count": 439,
   "metadata": {},
   "outputs": [],
   "source": [
    "dclusts = []\n",
    "dcmeans = []\n",
    "for i in range(dkm.n_clusters):\n",
    "    dclusts.append(Xd[dkm.labels_ == i].drop('cluster', axis=1))\n",
    "    dcmeans.append(dclusts[i].mean(axis=0))"
   ]
  },
  {
   "cell_type": "code",
   "execution_count": 440,
   "metadata": {},
   "outputs": [
    {
     "data": {
      "image/png": "[encoded data removed]",
      "text/plain": [
       "<Figure size 720x432 with 1 Axes>"
      ]
     },
     "metadata": {},
     "output_type": "display_data"
    }
   ],
   "source": [
    "w = 0.25\n",
    "idx = dcmeans[0].index\n",
    "\n",
    "xx = np.arange(len(idx))\n",
    "\n",
    "fig = plt.figure(figsize=(10,6))\n",
    "ax = fig.add_subplot(111)\n",
    "\n",
    "ax.bar(x = xx - w, height = dcmeans[0], width = w, label = 'Cluster 0')\n",
    "ax.bar(x = xx, height = dcmeans[1], width = w, label = 'Cluster 1')\n",
    "ax.bar(x = xx + w, height = dcmeans[2], width = w, label = 'Cluster 2')\n",
    "ax.set_xticks(xx + w/3)\n",
    "ax.set_xticklabels(idx, rotation = 60)\n",
    "\n",
    "\n",
    "ax.legend()\n",
    "\n",
    "ax.set_title('Mean stats of defensive player clusters')\n",
    "plt.show()"
   ]
  },
  {
   "cell_type": "code",
   "execution_count": 441,
   "metadata": {},
   "outputs": [
    {
     "data": {
      "text/plain": [
       "((196, 10), (59, 10), (153, 10))"
      ]
     },
     "execution_count": 441,
     "metadata": {},
     "output_type": "execute_result"
    }
   ],
   "source": [
    "dclus0.shape, dclus1.shape, dclus2.shape"
   ]
  },
  {
   "cell_type": "code",
   "execution_count": 442,
   "metadata": {},
   "outputs": [
    {
     "name": "stderr",
     "output_type": "stream",
     "text": [
      "/Users/colinshanahan/anaconda3/lib/python3.6/site-packages/ipykernel_launcher.py:1: SettingWithCopyWarning: \n",
      "A value is trying to be set on a copy of a slice from a DataFrame.\n",
      "Try using .loc[row_indexer,col_indexer] = value instead\n",
      "\n",
      "See the caveats in the documentation: http://pandas.pydata.org/pandas-docs/stable/indexing.html#indexing-view-versus-copy\n",
      "  \"\"\"Entry point for launching an IPython kernel.\n",
      "/Users/colinshanahan/anaconda3/lib/python3.6/site-packages/ipykernel_launcher.py:2: SettingWithCopyWarning: \n",
      "A value is trying to be set on a copy of a slice from a DataFrame.\n",
      "Try using .loc[row_indexer,col_indexer] = value instead\n",
      "\n",
      "See the caveats in the documentation: http://pandas.pydata.org/pandas-docs/stable/indexing.html#indexing-view-versus-copy\n",
      "  \n",
      "/Users/colinshanahan/anaconda3/lib/python3.6/site-packages/ipykernel_launcher.py:3: SettingWithCopyWarning: \n",
      "A value is trying to be set on a copy of a slice from a DataFrame.\n",
      "Try using .loc[row_indexer,col_indexer] = value instead\n",
      "\n",
      "See the caveats in the documentation: http://pandas.pydata.org/pandas-docs/stable/indexing.html#indexing-view-versus-copy\n",
      "  This is separate from the ipykernel package so we can avoid doing imports until\n",
      "/Users/colinshanahan/anaconda3/lib/python3.6/site-packages/ipykernel_launcher.py:4: SettingWithCopyWarning: \n",
      "A value is trying to be set on a copy of a slice from a DataFrame.\n",
      "Try using .loc[row_indexer,col_indexer] = value instead\n",
      "\n",
      "See the caveats in the documentation: http://pandas.pydata.org/pandas-docs/stable/indexing.html#indexing-view-versus-copy\n",
      "  after removing the cwd from sys.path.\n"
     ]
    }
   ],
   "source": [
    "forwards['mean Giveaways/60'] = (forwards['sum Giveaways'] / forwards['sum TOI']) * 60\n",
    "forwards['mean Takeaways/60'] = (forwards['sum Takeaways'] / forwards['sum TOI']) * 60\n",
    "forwards['mean Shots Blocked/60'] = (forwards['sum Shots Blocked'] / forwards ['sum TOI']) * 60\n",
    "forwards['mean TP/60'] = (forwards['sum Total Points']/forwards['sum TOI']) * 60"
   ]
  },
  {
   "cell_type": "code",
   "execution_count": 443,
   "metadata": {},
   "outputs": [],
   "source": [
    "Xf = forwards[['mean Total Points', 'mean TP/60', 'TOI/GP', '3yr CF/60 Rel', '3yr CA/60 Rel', \n",
    "             'mean Giveaways/60', 'mean Takeaways/60', '3yr Off.\\xa0Zone Starts/60', \n",
    "             '3yr Def.\\xa0Zone Starts/60', 'mean Shots Blocked/60']]\n",
    "yf = forwards[['length', 'cap_hit', 'cap_pct']]"
   ]
  },
  {
   "cell_type": "code",
   "execution_count": 444,
   "metadata": {},
   "outputs": [],
   "source": [
    "ss = StandardScaler()\n",
    "Xfs = ss.fit_transform(Xf)"
   ]
  },
  {
   "cell_type": "code",
   "execution_count": 445,
   "metadata": {},
   "outputs": [],
   "source": [
    "fkm = KMeans(n_clusters = 4)"
   ]
  },
  {
   "cell_type": "code",
   "execution_count": 446,
   "metadata": {},
   "outputs": [],
   "source": [
    "fclus = fkm.fit_transform(Xfs)"
   ]
  },
  {
   "cell_type": "code",
   "execution_count": 447,
   "metadata": {},
   "outputs": [
    {
     "name": "stderr",
     "output_type": "stream",
     "text": [
      "/Users/colinshanahan/anaconda3/lib/python3.6/site-packages/ipykernel_launcher.py:1: SettingWithCopyWarning: \n",
      "A value is trying to be set on a copy of a slice from a DataFrame.\n",
      "Try using .loc[row_indexer,col_indexer] = value instead\n",
      "\n",
      "See the caveats in the documentation: http://pandas.pydata.org/pandas-docs/stable/indexing.html#indexing-view-versus-copy\n",
      "  \"\"\"Entry point for launching an IPython kernel.\n"
     ]
    }
   ],
   "source": [
    "Xf['cluster'] = fkm.labels_"
   ]
  },
  {
   "cell_type": "code",
   "execution_count": 448,
   "metadata": {},
   "outputs": [
    {
     "data": {
      "text/plain": [
       "4"
      ]
     },
     "execution_count": 448,
     "metadata": {},
     "output_type": "execute_result"
    }
   ],
   "source": [
    "fkm.n_clusters"
   ]
  },
  {
   "cell_type": "code",
   "execution_count": 449,
   "metadata": {},
   "outputs": [],
   "source": [
    "fclusts = []\n",
    "fcmeans = []\n",
    "for i in range(fkm.n_clusters):\n",
    "    fclusts.append(Xf[fkm.labels_ == i].drop('cluster', axis=1))\n",
    "    fcmeans.append(fclusts[i].mean(axis=0))"
   ]
  },
  {
   "cell_type": "code",
   "execution_count": 450,
   "metadata": {},
   "outputs": [
    {
     "data": {
      "text/plain": [
       "Index(['mean Total Points', 'mean TP/60', 'TOI/GP', '3yr CF/60 Rel',\n",
       "       '3yr CA/60 Rel', 'mean Giveaways/60', 'mean Takeaways/60',\n",
       "       '3yr Off. Zone Starts/60', '3yr Def. Zone Starts/60',\n",
       "       'mean Shots Blocked/60'],\n",
       "      dtype='object')"
      ]
     },
     "execution_count": 450,
     "metadata": {},
     "output_type": "execute_result"
    }
   ],
   "source": [
    "fcmeans[0].index"
   ]
  },
  {
   "cell_type": "code",
   "execution_count": 451,
   "metadata": {},
   "outputs": [
    {
     "data": {
      "image/png": "[encoded data removed]",
      "text/plain": [
       "<Figure size 720x432 with 1 Axes>"
      ]
     },
     "metadata": {},
     "output_type": "display_data"
    }
   ],
   "source": [
    "w = 0.22\n",
    "idx = fcmeans[0].index\n",
    "\n",
    "xx = np.arange(len(idx))\n",
    "\n",
    "fig = plt.figure(figsize=(10,6))\n",
    "ax = fig.add_subplot(111)\n",
    "\n",
    "#for i in fcmeans:\n",
    "ax.bar(x = xx - 2*w, height = fcmeans[0], width = w, label = 'Cluster 0')\n",
    "ax.bar(x = xx - w, height = fcmeans[1], width = w, label = 'Cluster 1')\n",
    "ax.bar(x = xx, height = fcmeans[2], width = w, label = 'Cluster 2')\n",
    "ax.bar(x = xx + w, height = fcmeans[3], width = w, label = 'Cluster 3')\n",
    "\n",
    "ax.set_xticks(xx + w/5)\n",
    "ax.set_xticklabels(idx, rotation = 60)\n",
    "\n",
    "\n",
    "ax.legend()\n",
    "\n",
    "ax.set_title('Mean stats of forward player clusters')\n",
    "plt.show()"
   ]
  },
  {
   "cell_type": "code",
   "execution_count": 452,
   "metadata": {},
   "outputs": [
    {
     "name": "stdout",
     "output_type": "stream",
     "text": [
      "(210, 10)\n",
      "(243, 10)\n",
      "(153, 10)\n",
      "(156, 10)\n"
     ]
    }
   ],
   "source": [
    "for i in fclusts:\n",
    "    print(i.shape)"
   ]
  },
  {
   "cell_type": "code",
   "execution_count": 262,
   "metadata": {},
   "outputs": [],
   "source": [
    "def k_means(X, k=5, max_iter=1000):\n",
    "    \"\"\"Performs k means\n",
    "    Args:\n",
    "    - X - feature matrix\n",
    "    - k - number of clusters\n",
    "    - max_iter - maximum iterations\n",
    "    Returns:\n",
    "    - clusters - dict mapping cluster centers to observations\n",
    "    \"\"\"\n",
    "    centers = [tuple(pt) for pt in random.sample(list(X), k)]\n",
    "    for i in range(max_iter):\n",
    "        clusters = defaultdict(list)\n",
    "\n",
    "        for datapoint in X:\n",
    "            distances = [euclidean(datapoint, center) for center in centers]\n",
    "            center = centers[np.argmin(distances)]\n",
    "            clusters[center].append(datapoint)\n",
    "\n",
    "        new_centers = []\n",
    "        for center, pts in clusters.items():\n",
    "            new_center = np.mean(pts, axis=0)\n",
    "            new_centers.append(tuple(new_center))\n",
    "\n",
    "        if set(new_centers) == set(centers):\n",
    "            break\n",
    "\n",
    "        centers = new_centers\n",
    "\n",
    "    return clusters"
   ]
  },
  {
   "cell_type": "code",
   "execution_count": 254,
   "metadata": {},
   "outputs": [],
   "source": [
    "def sse(clusters):\n",
    "    \"\"\"Sum squared euclidean distance of all points to their cluster center\"\"\"\n",
    "    sum_squared_residuals = 0\n",
    "    for center, pts in clusters.items():\n",
    "        for pt in pts:\n",
    "            sum_squared_residuals += euclidean(pt, center)**2\n",
    "    return sum_squared_residuals"
   ]
  },
  {
   "cell_type": "code",
   "execution_count": 255,
   "metadata": {},
   "outputs": [],
   "source": [
    "def plot_k_sse(X, min_k, max_k):\n",
    "    \"\"\"Plots sse for values of k between min_k and max_k\n",
    "    Args:\n",
    "    - X - feature matrix\n",
    "    - min_k, max_k - smallest and largest k to plot sse for\n",
    "    \"\"\"\n",
    "    k_values = range(min_k, max_k+1)\n",
    "    sse_values = []\n",
    "    for k in k_values:\n",
    "        clusters = k_means(X, k=k)\n",
    "        sse_values.append(sse(clusters))\n",
    "    plt.plot(k_values, sse_values)\n",
    "    plt.xlabel('k')\n",
    "    plt.ylabel('sum squared error')\n",
    "    plt.show()"
   ]
  },
  {
   "cell_type": "markdown",
   "metadata": {},
   "source": [
    "## Elbow plot for defense"
   ]
  },
  {
   "cell_type": "code",
   "execution_count": 314,
   "metadata": {},
   "outputs": [
    {
     "data": {
      "image/png": "[encoded data removed]",
      "text/plain": [
       "<Figure size 432x288 with 1 Axes>"
      ]
     },
     "metadata": {},
     "output_type": "display_data"
    }
   ],
   "source": [
    "plot_k_sse(Xds, 1, 10)"
   ]
  },
  {
   "cell_type": "markdown",
   "metadata": {},
   "source": [
    "## Elbow plot for Forwards"
   ]
  },
  {
   "cell_type": "code",
   "execution_count": 315,
   "metadata": {},
   "outputs": [
    {
     "data": {
      "image/png": "[encoded data removed]",
      "text/plain": [
       "<Figure size 432x288 with 1 Axes>"
      ]
     },
     "metadata": {},
     "output_type": "display_data"
    }
   ],
   "source": [
    "plot_k_sse(Xfs, 1, 10)"
   ]
  },
  {
   "cell_type": "code",
   "execution_count": null,
   "metadata": {},
   "outputs": [],
   "source": []
  },
  {
   "cell_type": "markdown",
   "metadata": {},
   "source": [
    "### Let's compare improvement from clustering to a benchmark of predicting the mean or median cap hit for every player."
   ]
  },
  {
   "cell_type": "code",
   "execution_count": 453,
   "metadata": {},
   "outputs": [],
   "source": [
    "allmean = df.cap_hit.mean()\n",
    "allmed = df.cap_hit.median()\n",
    "formean = forwards.cap_hit.mean()\n",
    "formed = forwards.cap_hit.median()\n",
    "defmean = defense.cap_hit.mean()\n",
    "defmed = defense.cap_hit.median()"
   ]
  },
  {
   "cell_type": "code",
   "execution_count": 454,
   "metadata": {},
   "outputs": [
    {
     "data": {
      "text/plain": [
       "((762, 212), (408, 212))"
      ]
     },
     "execution_count": 454,
     "metadata": {},
     "output_type": "execute_result"
    }
   ],
   "source": [
    "forwards.shape, defense.shape"
   ]
  },
  {
   "cell_type": "code",
   "execution_count": 481,
   "metadata": {},
   "outputs": [],
   "source": [
    "def rmse(yhat, y):\n",
    "    return np.sqrt(((yhat - y)**2).mean())"
   ]
  },
  {
   "cell_type": "code",
   "execution_count": 456,
   "metadata": {},
   "outputs": [
    {
     "data": {
      "text/plain": [
       "[(1959058.6435897436, 900000.0),\n",
       " (1950959.7598425196, 900000.0),\n",
       " (1974184.5, 900000.0)]"
      ]
     },
     "execution_count": 456,
     "metadata": {},
     "output_type": "execute_result"
    }
   ],
   "source": [
    "[(allmean, allmed), (formean, formed), (defmean, defmed)]"
   ]
  },
  {
   "cell_type": "code",
   "execution_count": 457,
   "metadata": {},
   "outputs": [
    {
     "name": "stdout",
     "output_type": "stream",
     "text": [
      "RMSE for predicting all means: $1941304.0\n",
      "RMSE for predicting all medians: $2211395.0\n"
     ]
    }
   ],
   "source": [
    "print('RMSE for predicting all means: ${}'.format(rmse(allmean, df.cap_hit)))\n",
    "print('RMSE for predicting all medians: ${}'.format(rmse(allmed, df.cap_hit)))"
   ]
  },
  {
   "cell_type": "code",
   "execution_count": 458,
   "metadata": {},
   "outputs": [
    {
     "name": "stdout",
     "output_type": "stream",
     "text": [
      "RMSE for predicting forward means: $1972515.0\n",
      "RMSE for predicting forward medians: $2235024.0\n"
     ]
    }
   ],
   "source": [
    "print('RMSE for predicting forward means: ${}'.format(rmse(formean, forwards.cap_hit)))\n",
    "print('RMSE for predicting forward medians: ${}'.format(rmse(formed, forwards.cap_hit)))"
   ]
  },
  {
   "cell_type": "code",
   "execution_count": 459,
   "metadata": {},
   "outputs": [
    {
     "name": "stdout",
     "output_type": "stream",
     "text": [
      "RMSE for predicting defense means: $1881534.0\n",
      "RMSE for predicting defense medians: $2166574.0\n"
     ]
    }
   ],
   "source": [
    "print('RMSE for predicting defense means: ${}'.format(rmse(defmean, defense.cap_hit)))\n",
    "print('RMSE for predicting defense medians: ${}'.format(rmse(defmed, defense.cap_hit)))"
   ]
  },
  {
   "cell_type": "code",
   "execution_count": null,
   "metadata": {},
   "outputs": [],
   "source": []
  },
  {
   "cell_type": "code",
   "execution_count": 460,
   "metadata": {},
   "outputs": [
    {
     "name": "stdout",
     "output_type": "stream",
     "text": [
      "RMSE for forwards cluster 0 mean: $1094386.0\n",
      "Mean cap hit for forwards cluster 0: $1578632\n",
      "RMSE for forwards cluster 1 mean: $280971.0\n",
      "Mean cap hit for forwards cluster 1: $743249\n",
      "RMSE for forwards cluster 2 mean: $961046.0\n",
      "Mean cap hit for forwards cluster 2: $1323167\n",
      "RMSE for forwards cluster 3 mean: $2128344.0\n",
      "Mean cap hit for forwards cluster 3: $4949133\n",
      "RMSE for defense cluster 0 mean: $576466.0\n",
      "Mean cap hit for defense cluster 0: $904482\n",
      "RMSE for defense cluster 1 mean: $1911022.0\n",
      "Mean cap hit for defense cluster 1: $5075623\n",
      "RMSE for defense cluster 2 mean: $1549498.0\n",
      "Mean cap hit for defense cluster 2: $2148543\n"
     ]
    }
   ],
   "source": [
    "fmeancaphit = []\n",
    "fyclusts = []\n",
    "for x, i in enumerate(fclusts):\n",
    "    cy = yf[fkm.labels_ == x]\n",
    "    fyclusts.append(cy)\n",
    "    print('RMSE for forwards cluster {} mean: ${}'\n",
    "          .format(x, rmse(cy.cap_hit.mean(), cy.cap_hit)))\n",
    "    print('Mean cap hit for forwards cluster {}: ${}'.format(x, round(cy.cap_hit.mean())))\n",
    "\n",
    "dmeancaphit = []\n",
    "dyclusts = []\n",
    "for x, i in enumerate(dclusts):\n",
    "    cy = yd[dkm.labels_ == x]\n",
    "    dyclusts.append(cy)\n",
    "    print('RMSE for defense cluster {} mean: ${}'\n",
    "          .format(x, rmse(cy.cap_hit.mean(), cy.cap_hit)))\n",
    "    print('Mean cap hit for defense cluster {}: ${}'.format(x, round(cy.cap_hit.mean())))"
   ]
  },
  {
   "cell_type": "code",
   "execution_count": null,
   "metadata": {},
   "outputs": [],
   "source": []
  },
  {
   "cell_type": "markdown",
   "metadata": {},
   "source": [
    "### Okay, now let's try running a separate model for each cluster."
   ]
  },
  {
   "cell_type": "code",
   "execution_count": 461,
   "metadata": {},
   "outputs": [],
   "source": [
    "clusts = fclusts + dclusts\n",
    "yclusts = fyclusts + dyclusts"
   ]
  },
  {
   "cell_type": "code",
   "execution_count": 512,
   "metadata": {},
   "outputs": [
    {
     "data": {
      "text/plain": [
       "((156, 10), (59, 10), (1170, 208))"
      ]
     },
     "execution_count": 512,
     "metadata": {},
     "output_type": "execute_result"
    }
   ],
   "source": [
    "clusts[3].shape, clusts[5].shape, df.shape"
   ]
  },
  {
   "cell_type": "code",
   "execution_count": 513,
   "metadata": {},
   "outputs": [
    {
     "name": "stdout",
     "output_type": "stream",
     "text": [
      "Cluster 0 stats: \n",
      "Cluster test size: 32\n",
      "Cluster train size: 178\n",
      "Random Forest RMSE: $516468.0\n",
      "K-Nearest Neighbors RMSE: $504628.0\n",
      "Radius Neighbors RMSE: $nan\n",
      "Linear Regression RMSE: $577108.0\n",
      "Adaboost RMSE: $381679.0\n",
      "Gradient Boost RMSE: $387666.0\n",
      "Cluster 1 stats: \n",
      "Cluster test size: 37\n",
      "Cluster train size: 206\n",
      "Random Forest RMSE: $332789.0\n",
      "K-Nearest Neighbors RMSE: $315434.0\n",
      "Radius Neighbors RMSE: $0.0\n",
      "Linear Regression RMSE: $301659.0\n",
      "Adaboost RMSE: $320302.0\n"
     ]
    },
    {
     "name": "stderr",
     "output_type": "stream",
     "text": [
      "/Users/colinshanahan/anaconda3/lib/python3.6/site-packages/numpy/core/fromnumeric.py:3118: RuntimeWarning: Mean of empty slice.\n",
      "  out=out, **kwargs)\n",
      "/Users/colinshanahan/anaconda3/lib/python3.6/site-packages/numpy/core/_methods.py:78: RuntimeWarning: invalid value encountered in true_divide\n",
      "  ret, rcount, out=ret, casting='unsafe', subok=False)\n",
      "/Users/colinshanahan/anaconda3/lib/python3.6/site-packages/numpy/core/fromnumeric.py:3118: RuntimeWarning: Mean of empty slice.\n",
      "  out=out, **kwargs)\n",
      "/Users/colinshanahan/anaconda3/lib/python3.6/site-packages/numpy/core/_methods.py:78: RuntimeWarning: invalid value encountered in true_divide\n",
      "  ret, rcount, out=ret, casting='unsafe', subok=False)\n"
     ]
    },
    {
     "name": "stdout",
     "output_type": "stream",
     "text": [
      "Gradient Boost RMSE: $310849.0\n",
      "Cluster 2 stats: \n",
      "Cluster test size: 23\n",
      "Cluster train size: 130\n",
      "Random Forest RMSE: $842966.0\n",
      "K-Nearest Neighbors RMSE: $911291.0\n",
      "Radius Neighbors RMSE: $nan\n",
      "Linear Regression RMSE: $866728.0\n",
      "Adaboost RMSE: $713730.0\n",
      "Gradient Boost RMSE: $802926.0\n",
      "Cluster 3 stats: \n",
      "Cluster test size: 24\n",
      "Cluster train size: 132\n",
      "Random Forest RMSE: $1266861.0\n",
      "K-Nearest Neighbors RMSE: $1472069.0\n",
      "Radius Neighbors RMSE: $nan\n",
      "Linear Regression RMSE: $1158005.0\n",
      "Adaboost RMSE: $1293523.0\n",
      "Gradient Boost RMSE: $1312436.0\n",
      "Cluster 4 stats: \n",
      "Cluster test size: 30\n",
      "Cluster train size: 166\n",
      "Random Forest RMSE: $332806.0\n",
      "K-Nearest Neighbors RMSE: $204226.0\n",
      "Radius Neighbors RMSE: $nan\n"
     ]
    },
    {
     "name": "stderr",
     "output_type": "stream",
     "text": [
      "/Users/colinshanahan/anaconda3/lib/python3.6/site-packages/numpy/core/fromnumeric.py:3118: RuntimeWarning: Mean of empty slice.\n",
      "  out=out, **kwargs)\n",
      "/Users/colinshanahan/anaconda3/lib/python3.6/site-packages/numpy/core/_methods.py:78: RuntimeWarning: invalid value encountered in true_divide\n",
      "  ret, rcount, out=ret, casting='unsafe', subok=False)\n",
      "/Users/colinshanahan/anaconda3/lib/python3.6/site-packages/numpy/core/fromnumeric.py:3118: RuntimeWarning: Mean of empty slice.\n",
      "  out=out, **kwargs)\n",
      "/Users/colinshanahan/anaconda3/lib/python3.6/site-packages/numpy/core/_methods.py:78: RuntimeWarning: invalid value encountered in true_divide\n",
      "  ret, rcount, out=ret, casting='unsafe', subok=False)\n",
      "/Users/colinshanahan/anaconda3/lib/python3.6/site-packages/numpy/core/fromnumeric.py:3118: RuntimeWarning: Mean of empty slice.\n",
      "  out=out, **kwargs)\n",
      "/Users/colinshanahan/anaconda3/lib/python3.6/site-packages/numpy/core/_methods.py:78: RuntimeWarning: invalid value encountered in true_divide\n",
      "  ret, rcount, out=ret, casting='unsafe', subok=False)\n"
     ]
    },
    {
     "name": "stdout",
     "output_type": "stream",
     "text": [
      "Linear Regression RMSE: $337065.0\n",
      "Adaboost RMSE: $391164.0\n",
      "Gradient Boost RMSE: $241678.0\n",
      "Cluster 5 stats: \n",
      "Cluster test size: 9\n",
      "Cluster train size: 50\n",
      "Random Forest RMSE: $1874022.0\n",
      "K-Nearest Neighbors RMSE: $1994924.0\n",
      "Radius Neighbors RMSE: $nan\n",
      "Linear Regression RMSE: $1706830.0\n",
      "Adaboost RMSE: $1601626.0\n",
      "Gradient Boost RMSE: $1822188.0\n",
      "Cluster 6 stats: \n",
      "Cluster test size: 23\n",
      "Cluster train size: 130\n",
      "Random Forest RMSE: $1390746.0\n",
      "K-Nearest Neighbors RMSE: $1116944.0\n",
      "Radius Neighbors RMSE: $nan\n",
      "Linear Regression RMSE: $1279291.0\n",
      "Adaboost RMSE: $1347880.0\n",
      "Gradient Boost RMSE: $1348123.0\n"
     ]
    },
    {
     "name": "stderr",
     "output_type": "stream",
     "text": [
      "/Users/colinshanahan/anaconda3/lib/python3.6/site-packages/numpy/core/fromnumeric.py:3118: RuntimeWarning: Mean of empty slice.\n",
      "  out=out, **kwargs)\n",
      "/Users/colinshanahan/anaconda3/lib/python3.6/site-packages/numpy/core/_methods.py:78: RuntimeWarning: invalid value encountered in true_divide\n",
      "  ret, rcount, out=ret, casting='unsafe', subok=False)\n",
      "/Users/colinshanahan/anaconda3/lib/python3.6/site-packages/numpy/core/fromnumeric.py:3118: RuntimeWarning: Mean of empty slice.\n",
      "  out=out, **kwargs)\n",
      "/Users/colinshanahan/anaconda3/lib/python3.6/site-packages/numpy/core/_methods.py:78: RuntimeWarning: invalid value encountered in true_divide\n",
      "  ret, rcount, out=ret, casting='unsafe', subok=False)\n"
     ]
    }
   ],
   "source": [
    "X_trains, X_tests, y_trains, y_tests = [], [], [], []\n",
    "rfmodels, knnmodels, rnrmodels = [], [], []\n",
    "linmodels = []\n",
    "adamodels = []\n",
    "grbmodels = []\n",
    "rfpreds, linpreds, adapreds, grbpreds, knnpreds, rnrpreds = [], [], [], [], [], []\n",
    "y_len=0\n",
    "for idx, c in enumerate(clusts):\n",
    "    X_train, X_test, y_train, y_test = train_test_split(c, yclusts[idx]['cap_hit']\n",
    "                                                        , test_size = 0.15)\n",
    "    y_len += len(y_test)\n",
    "    print('Cluster {} stats: \\nCluster test size: {}'.format(idx, len(y_test)))\n",
    "    print('Cluster train size: {}'.format(len(y_train)))\n",
    "    \n",
    "    X_trains.append(X_train)\n",
    "    X_tests.append(X_test)\n",
    "    y_trains.append(y_train)\n",
    "    y_tests.append(y_test)\n",
    "    \n",
    "    rfmod = RandomForestRegressor()\n",
    "    rfmod.fit(X_train, y_train)\n",
    "    rfmodels.append(rfmod)\n",
    "    rfp = rfmod.predict(X_test)\n",
    "    rfpreds.append(rfp)\n",
    "    print('Random Forest RMSE: ${}'.format(round(rmse(rfp, y_test))))\n",
    "    \n",
    "    knnmod = KNeighborsRegressor(n_neighbors=5)\n",
    "    knnmod.fit(X_train, y_train)\n",
    "    knnmodels.append(knnmod)\n",
    "    knnp = knnmod.predict(X_test)\n",
    "    knnpreds.append(knnp)\n",
    "    print('K-Nearest Neighbors RMSE: ${}'.format(round(rmse(knnp, y_test))))\n",
    "    \n",
    "    rnrmod = RadiusNeighborsRegressor(radius=1.0)\n",
    "    rnrmod.fit(X_train, y_train)\n",
    "    rnrmodels.append(rnrmod)\n",
    "    rnrp = rnrmod.predict(X_test)\n",
    "    rnrpreds.append(rnrp)\n",
    "    print('Radius Neighbors RMSE: ${}'.format(round(rmse(rnrp, y_test))))\n",
    "    \n",
    "    linmod = LinearRegression()\n",
    "    linmod.fit(X_train, y_train)\n",
    "    linmodels.append(linmod)\n",
    "    linp = linmod.predict(X_test)\n",
    "    linpreds.append(linp)\n",
    "    print('Linear Regression RMSE: ${}'.format(round(rmse(linp, y_test))))\n",
    "    \n",
    "    adamod = AdaBoostRegressor()\n",
    "    adamod.fit(X_train, y_train)\n",
    "    adamodels.append(adamod)\n",
    "    adap = adamod.predict(X_test)\n",
    "    adapreds.append(adap)\n",
    "    print('Adaboost RMSE: ${}'.format(round(rmse(adap, y_test))))\n",
    "\n",
    "    grbmod = GradientBoostingRegressor()\n",
    "    grbmod.fit(X_train, y_train)\n",
    "    grbmodels.append(grbmod)\n",
    "    grbp = grbmod.predict(X_test)\n",
    "    grbpreds.append(grbp)\n",
    "    print('Gradient Boost RMSE: ${}'.format(round(rmse(grbp, y_test))))"
   ]
  },
  {
   "cell_type": "code",
   "execution_count": 485,
   "metadata": {},
   "outputs": [],
   "source": [
    "modlist = ['Random Forest', 'k Nearest Neighbors', 'Radius Neighbors', \n",
    "          'Linear Regression', 'AdaBoost', 'Gradient Boost']"
   ]
  },
  {
   "cell_type": "code",
   "execution_count": 486,
   "metadata": {},
   "outputs": [],
   "source": [
    "y_test = np.concatenate(y_tests)\n",
    "rfpred = np.concatenate(rfpreds)\n",
    "knnpred = np.concatenate(knnpreds)\n",
    "rnrpred = np.concatenate(rnrpreds)\n",
    "linpred = np.concatenate(linpreds)\n",
    "adapred = np.concatenate(adapreds)\n",
    "grbpred = np.concatenate(grbpreds)\n",
    "\n",
    "predlist = {\n",
    "    'Random Forest': rfpred, \n",
    "    'k Nearest Neighbors': knnpred, \n",
    "    'Radius Neighbors': rnrpred, \n",
    "    'Linear Regression': linpred, \n",
    "    'AdaBoost': adapred, \n",
    "    'Gradient Boost': grbpred\n",
    "}"
   ]
  },
  {
   "cell_type": "code",
   "execution_count": 488,
   "metadata": {},
   "outputs": [
    {
     "name": "stdout",
     "output_type": "stream",
     "text": [
      "Overall RMSE for Random Forest is: $876793.27\n",
      "Overall RMSE for k Nearest Neighbors is: $882156.28\n",
      "Overall RMSE for Radius Neighbors is: $nan\n",
      "Overall RMSE for Linear Regression is: $854703.2\n",
      "Overall RMSE for AdaBoost is: $931105.85\n",
      "Overall RMSE for Gradient Boost is: $899509.64\n"
     ]
    }
   ],
   "source": [
    "for m in predlist: \n",
    "    print('Overall RMSE for {} is: ${}'.format(m, \n",
    "                                               round(rmse(predlist[m], y_test), 2)))"
   ]
  },
  {
   "cell_type": "code",
   "execution_count": 489,
   "metadata": {},
   "outputs": [
    {
     "data": {
      "text/plain": [
       "(array([1, 2]), array([3, 4]))"
      ]
     },
     "execution_count": 489,
     "metadata": {},
     "output_type": "execute_result"
    }
   ],
   "source": [
    "a1, a2"
   ]
  },
  {
   "cell_type": "code",
   "execution_count": 497,
   "metadata": {},
   "outputs": [],
   "source": [
    "xxx = X.apply(np.diff, axis=0)"
   ]
  },
  {
   "cell_type": "code",
   "execution_count": 500,
   "metadata": {},
   "outputs": [
    {
     "data": {
      "text/plain": [
       "(761, 11)"
      ]
     },
     "execution_count": 500,
     "metadata": {},
     "output_type": "execute_result"
    }
   ],
   "source": [
    "xxx.shape"
   ]
  },
  {
   "cell_type": "code",
   "execution_count": 509,
   "metadata": {},
   "outputs": [
    {
     "data": {
      "text/plain": [
       "['player_id',\n",
       " 'first_name',\n",
       " 'last_name',\n",
       " 'position',\n",
       " 'birthdate',\n",
       " 'season',\n",
       " 'team_id',\n",
       " 'team_name',\n",
       " 'cap_hit',\n",
       " 'active',\n",
       " 'signing_date',\n",
       " 'signing_team',\n",
       " 'length',\n",
       " 'contract_level',\n",
       " 'expiry_status',\n",
       " 'contract_type',\n",
       " 'contract_end',\n",
       " 'ufa_year',\n",
       " 'total_value',\n",
       " 'Player',\n",
       " 'signing_year',\n",
       " 'signing_age',\n",
       " 'signing_year_cap',\n",
       " 'cap_pct',\n",
       " 'signing_status',\n",
       " 'year_match',\n",
       " 'Season_Player',\n",
       " 'Season',\n",
       " 'GP',\n",
       " 'TOI',\n",
       " 'Goals',\n",
       " 'Total Assists',\n",
       " 'First Assists',\n",
       " 'Second Assists',\n",
       " 'Total Points',\n",
       " 'Shots',\n",
       " 'iCF',\n",
       " 'iFF',\n",
       " 'iSCF',\n",
       " 'iHDCF',\n",
       " 'Rush Attempts',\n",
       " 'Rebounds Created',\n",
       " 'PIM',\n",
       " 'Total Penalties',\n",
       " 'Minor',\n",
       " 'Major',\n",
       " 'Misconduct',\n",
       " 'Penalties Drawn',\n",
       " 'Giveaways',\n",
       " 'Takeaways',\n",
       " 'Hits',\n",
       " 'Hits Taken',\n",
       " 'Shots Blocked',\n",
       " 'Faceoffs Won',\n",
       " 'Faceoffs Lost',\n",
       " 'Season_index',\n",
       " 'sum GP',\n",
       " 'sum TOI',\n",
       " 'sum Goals',\n",
       " 'sum Total Assists',\n",
       " 'sum First Assists',\n",
       " 'sum Second Assists',\n",
       " 'sum Total Points',\n",
       " 'sum Shots',\n",
       " 'sum iCF',\n",
       " 'sum iFF',\n",
       " 'sum iSCF',\n",
       " 'sum iHDCF',\n",
       " 'sum Rush Attempts',\n",
       " 'sum Rebounds Created',\n",
       " 'sum PIM',\n",
       " 'sum Total Penalties',\n",
       " 'sum Minor',\n",
       " 'sum Major',\n",
       " 'sum Misconduct',\n",
       " 'sum Penalties Drawn',\n",
       " 'sum Giveaways',\n",
       " 'sum Takeaways',\n",
       " 'sum Hits',\n",
       " 'sum Hits Taken',\n",
       " 'sum Shots Blocked',\n",
       " 'sum Faceoffs Won',\n",
       " 'sum Faceoffs Lost',\n",
       " 'mean GP',\n",
       " 'mean TOI',\n",
       " 'mean Goals',\n",
       " 'mean Total Assists',\n",
       " 'mean First Assists',\n",
       " 'mean Second Assists',\n",
       " 'mean Total Points',\n",
       " 'mean Shots',\n",
       " 'mean iCF',\n",
       " 'mean iFF',\n",
       " 'mean iSCF',\n",
       " 'mean iHDCF',\n",
       " 'mean Rush Attempts',\n",
       " 'mean Rebounds Created',\n",
       " 'mean PIM',\n",
       " 'mean Total Penalties',\n",
       " 'mean Minor',\n",
       " 'mean Major',\n",
       " 'mean Misconduct',\n",
       " 'mean Penalties Drawn',\n",
       " 'mean Giveaways',\n",
       " 'mean Takeaways',\n",
       " 'mean Hits',\n",
       " 'mean Hits Taken',\n",
       " 'mean Shots Blocked',\n",
       " 'mean Faceoffs Won',\n",
       " 'mean Faceoffs Lost',\n",
       " 'mean SH%',\n",
       " 'mean Faceoffs %',\n",
       " 'TOI/GP',\n",
       " 'CF/60 Rel',\n",
       " 'CA/60 Rel',\n",
       " 'CF% Rel',\n",
       " 'FF/60 Rel',\n",
       " 'FA/60 Rel',\n",
       " 'FF% Rel',\n",
       " 'SF/60 Rel',\n",
       " 'SA/60 Rel',\n",
       " 'SF% Rel',\n",
       " 'GF/60 Rel',\n",
       " 'GA/60 Rel',\n",
       " 'GF% Rel',\n",
       " 'SCF/60 Rel',\n",
       " 'SCA/60 Rel',\n",
       " 'SCF% Rel',\n",
       " 'HDCF/60 Rel',\n",
       " 'HDCA/60 Rel',\n",
       " 'HDCF% Rel',\n",
       " 'HDGF/60 Rel',\n",
       " 'HDGA/60 Rel',\n",
       " 'HDGF% Rel',\n",
       " 'MDCF/60 Rel',\n",
       " 'MDCA/60 Rel',\n",
       " 'MDCF% Rel',\n",
       " 'MDGF/60 Rel',\n",
       " 'MDGA/60 Rel',\n",
       " 'MDGF% Rel',\n",
       " 'LDCF/60 Rel',\n",
       " 'LDCA/60 Rel',\n",
       " 'LDCF% Rel',\n",
       " 'LDGF/60 Rel',\n",
       " 'LDGA/60 Rel',\n",
       " 'LDGF% Rel',\n",
       " 'On-Ice SH%',\n",
       " 'On-Ice SV%',\n",
       " 'PDO',\n",
       " 'Off.\\xa0Zone Starts/60',\n",
       " 'Neu.\\xa0Zone Starts/60',\n",
       " 'Def.\\xa0Zone Starts/60',\n",
       " 'On\\xa0The\\xa0Fly Starts/60',\n",
       " 'Off.\\xa0Zone Start %',\n",
       " 'Off.\\xa0Zone Faceoffs/60',\n",
       " 'Neu.\\xa0Zone Faceoffs/60',\n",
       " 'Def.\\xa0Zone Faceoffs/60',\n",
       " 'Off.\\xa0Zone Faceoff %',\n",
       " '3yr TOI/GP',\n",
       " '3yr CF/60 Rel',\n",
       " '3yr CA/60 Rel',\n",
       " '3yr CF% Rel',\n",
       " '3yr FF/60 Rel',\n",
       " '3yr FA/60 Rel',\n",
       " '3yr FF% Rel',\n",
       " '3yr SF/60 Rel',\n",
       " '3yr SA/60 Rel',\n",
       " '3yr SF% Rel',\n",
       " '3yr GF/60 Rel',\n",
       " '3yr GA/60 Rel',\n",
       " '3yr GF% Rel',\n",
       " '3yr SCF/60 Rel',\n",
       " '3yr SCA/60 Rel',\n",
       " '3yr SCF% Rel',\n",
       " '3yr HDCF/60 Rel',\n",
       " '3yr HDCA/60 Rel',\n",
       " '3yr HDCF% Rel',\n",
       " '3yr HDGF/60 Rel',\n",
       " '3yr HDGA/60 Rel',\n",
       " '3yr HDGF% Rel',\n",
       " '3yr MDCF/60 Rel',\n",
       " '3yr MDCA/60 Rel',\n",
       " '3yr MDCF% Rel',\n",
       " '3yr MDGF/60 Rel',\n",
       " '3yr MDGA/60 Rel',\n",
       " '3yr MDGF% Rel',\n",
       " '3yr LDCF/60 Rel',\n",
       " '3yr LDCA/60 Rel',\n",
       " '3yr LDCF% Rel',\n",
       " '3yr LDGF/60 Rel',\n",
       " '3yr LDGA/60 Rel',\n",
       " '3yr LDGF% Rel',\n",
       " '3yr On-Ice SH%',\n",
       " '3yr On-Ice SV%',\n",
       " '3yr PDO',\n",
       " '3yr Off.\\xa0Zone Starts/60',\n",
       " '3yr Neu.\\xa0Zone Starts/60',\n",
       " '3yr Def.\\xa0Zone Starts/60',\n",
       " '3yr On\\xa0The\\xa0Fly Starts/60',\n",
       " '3yr Off.\\xa0Zone Start %',\n",
       " '3yr Off.\\xa0Zone Faceoffs/60',\n",
       " '3yr Neu.\\xa0Zone Faceoffs/60',\n",
       " '3yr Def.\\xa0Zone Faceoffs/60',\n",
       " '3yr Off.\\xa0Zone Faceoff %',\n",
       " '3yr Season_Player',\n",
       " 'skater',\n",
       " 'forward',\n",
       " 'IPP']"
      ]
     },
     "execution_count": 509,
     "metadata": {},
     "output_type": "execute_result"
    }
   ],
   "source": [
    "list(df.columns)"
   ]
  },
  {
   "cell_type": "code",
   "execution_count": null,
   "metadata": {},
   "outputs": [],
   "source": []
  }
 ],
 "metadata": {
  "kernelspec": {
   "display_name": "Python 3",
   "language": "python",
   "name": "python3"
  },
  "language_info": {
   "codemirror_mode": {
    "name": "ipython",
    "version": 3
   },
   "file_extension": ".py",
   "mimetype": "text/x-python",
   "name": "python",
   "nbconvert_exporter": "python",
   "pygments_lexer": "ipython3",
   "version": "3.6.5"
  }
 },
 "nbformat": 4,
 "nbformat_minor": 2
}
