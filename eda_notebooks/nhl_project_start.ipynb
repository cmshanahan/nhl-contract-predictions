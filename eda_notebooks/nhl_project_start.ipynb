{
 "cells": [
  {
   "cell_type": "code",
   "execution_count": 1,
   "metadata": {},
   "outputs": [],
   "source": [
    "import numpy as np\n",
    "import pandas as pd\n",
    "import matplotlib.pyplot as plt\n",
    "\n",
    "%matplotlib inline"
   ]
  },
  {
   "cell_type": "code",
   "execution_count": 2,
   "metadata": {},
   "outputs": [],
   "source": [
    "import requests\n",
    "from bs4 import BeautifulSoup"
   ]
  },
  {
   "cell_type": "code",
   "execution_count": 3,
   "metadata": {},
   "outputs": [],
   "source": [
    "import ast"
   ]
  },
  {
   "cell_type": "code",
   "execution_count": 4,
   "metadata": {},
   "outputs": [],
   "source": [
    "import json\n",
    "from collections import defaultdict"
   ]
  },
  {
   "cell_type": "code",
   "execution_count": 5,
   "metadata": {},
   "outputs": [
    {
     "data": {
      "text/plain": [
       "bs4.BeautifulSoup"
      ]
     },
     "execution_count": 5,
     "metadata": {},
     "output_type": "execute_result"
    }
   ],
   "source": [
    "teams = requests.get('https://statsapi.web.nhl.com/api/v1/teams/')\n",
    "soup = BeautifulSoup(teams.content, 'html.parser')\n",
    "type(soup)"
   ]
  },
  {
   "cell_type": "code",
   "execution_count": 6,
   "metadata": {},
   "outputs": [],
   "source": [
    "j = json.loads(teams.content)"
   ]
  },
  {
   "cell_type": "code",
   "execution_count": 7,
   "metadata": {},
   "outputs": [],
   "source": [
    "active_team_ids = []\n",
    "team_name_ids = defaultdict(str)\n",
    "team_info = defaultdict(dict)\n",
    "for i in j['teams']:\n",
    "    _id = i['id']\n",
    "    active_team_ids.append(_id)\n",
    "    team_name_ids[_id] = i['name']\n",
    "    team_info[_id] = i"
   ]
  },
  {
   "cell_type": "code",
   "execution_count": 8,
   "metadata": {},
   "outputs": [
    {
     "data": {
      "text/plain": [
       "31"
      ]
     },
     "execution_count": 8,
     "metadata": {},
     "output_type": "execute_result"
    }
   ],
   "source": [
    "len(active_team_ids)"
   ]
  },
  {
   "cell_type": "code",
   "execution_count": 250,
   "metadata": {},
   "outputs": [
    {
     "data": {
      "text/plain": [
       "defaultdict(str,\n",
       "            {1: 'New Jersey Devils',\n",
       "             2: 'New York Islanders',\n",
       "             3: 'New York Rangers',\n",
       "             4: 'Philadelphia Flyers',\n",
       "             5: 'Pittsburgh Penguins',\n",
       "             6: 'Boston Bruins',\n",
       "             7: 'Buffalo Sabres',\n",
       "             8: 'Montréal Canadiens',\n",
       "             9: 'Ottawa Senators',\n",
       "             10: 'Toronto Maple Leafs',\n",
       "             12: 'Carolina Hurricanes',\n",
       "             13: 'Florida Panthers',\n",
       "             14: 'Tampa Bay Lightning',\n",
       "             15: 'Washington Capitals',\n",
       "             16: 'Chicago Blackhawks',\n",
       "             17: 'Detroit Red Wings',\n",
       "             18: 'Nashville Predators',\n",
       "             19: 'St. Louis Blues',\n",
       "             20: 'Calgary Flames',\n",
       "             21: 'Colorado Avalanche',\n",
       "             22: 'Edmonton Oilers',\n",
       "             23: 'Vancouver Canucks',\n",
       "             24: 'Anaheim Ducks',\n",
       "             25: 'Dallas Stars',\n",
       "             26: 'Los Angeles Kings',\n",
       "             28: 'San Jose Sharks',\n",
       "             29: 'Columbus Blue Jackets',\n",
       "             30: 'Minnesota Wild',\n",
       "             52: 'Winnipeg Jets',\n",
       "             53: 'Arizona Coyotes',\n",
       "             54: 'Vegas Golden Knights'})"
      ]
     },
     "execution_count": 250,
     "metadata": {},
     "output_type": "execute_result"
    }
   ],
   "source": [
    "team_name_ids"
   ]
  },
  {
   "cell_type": "code",
   "execution_count": 9,
   "metadata": {},
   "outputs": [],
   "source": [
    "# roster = requests.get('https://statsapi.web.nhl.com/api/v1/teams/1?expand=team.roster')\n",
    "# r = json.loads(roster.content)\n",
    "# roster = r['teams'][0]['roster']['roster']\n",
    "# roster[0]['person']\n",
    "\n",
    "rosters = defaultdict(list)\n",
    "for teamid in active_team_ids:\n",
    "    bstring = requests.get('https://statsapi.web.nhl.com/api/v1/teams/{}?expand=team.roster'\n",
    "                          .format(teamid))\n",
    "    r = json.loads(bstring.content)\n",
    "    rosters[teamid] = r['teams'][0]['roster']['roster']"
   ]
  },
  {
   "cell_type": "code",
   "execution_count": 10,
   "metadata": {},
   "outputs": [
    {
     "data": {
      "text/plain": [
       "8475791"
      ]
     },
     "execution_count": 10,
     "metadata": {},
     "output_type": "execute_result"
    }
   ],
   "source": [
    "rosters[1][0]['person']['id']"
   ]
  },
  {
   "cell_type": "code",
   "execution_count": 251,
   "metadata": {},
   "outputs": [
    {
     "data": {
      "text/plain": [
       "{'person': {'id': 8469619,\n",
       "  'fullName': 'Dennis Seidenberg',\n",
       "  'link': '/api/v1/people/8469619'},\n",
       " 'jerseyNumber': '44',\n",
       " 'position': {'code': 'D',\n",
       "  'name': 'Defenseman',\n",
       "  'type': 'Defenseman',\n",
       "  'abbreviation': 'D'}}"
      ]
     },
     "execution_count": 251,
     "metadata": {},
     "output_type": "execute_result"
    }
   ],
   "source": [
    "rosters[2][0]"
   ]
  },
  {
   "cell_type": "code",
   "execution_count": 252,
   "metadata": {},
   "outputs": [],
   "source": [
    "players_by_id = defaultdict(str)\n",
    "ids_by_player = defaultdict(int)\n",
    "\n",
    "#for each roster\n",
    "for r in team_name_ids:\n",
    "    #for each player in that roster\n",
    "    for p in rosters[r]:\n",
    "        #get NHL id and player name\n",
    "        _id = p['person']['id']\n",
    "        player = p['person']['fullName']\n",
    "        \n",
    "        #store in dictionaries\n",
    "        players_by_id[_id] = player\n",
    "        ids_by_player[player] = _id\n"
   ]
  },
  {
   "cell_type": "code",
   "execution_count": 258,
   "metadata": {},
   "outputs": [
    {
     "data": {
      "text/plain": [
       "8470794"
      ]
     },
     "execution_count": 258,
     "metadata": {},
     "output_type": "execute_result"
    }
   ],
   "source": [
    "ids_by_player['Joe Pavelski']"
   ]
  },
  {
   "cell_type": "code",
   "execution_count": 259,
   "metadata": {},
   "outputs": [
    {
     "data": {
      "text/plain": [
       "787"
      ]
     },
     "execution_count": 259,
     "metadata": {},
     "output_type": "execute_result"
    }
   ],
   "source": [
    "len(ids_by_player)"
   ]
  },
  {
   "cell_type": "code",
   "execution_count": 267,
   "metadata": {},
   "outputs": [
    {
     "data": {
      "text/plain": [
       "36058"
      ]
     },
     "execution_count": 267,
     "metadata": {},
     "output_type": "execute_result"
    }
   ],
   "source": [
    "8480907-8444849"
   ]
  },
  {
   "cell_type": "code",
   "execution_count": 270,
   "metadata": {},
   "outputs": [
    {
     "data": {
      "text/plain": [
       "32700"
      ]
     },
     "execution_count": 270,
     "metadata": {},
     "output_type": "execute_result"
    }
   ],
   "source": [
    "8480908 - 8448208"
   ]
  },
  {
   "cell_type": "code",
   "execution_count": 269,
   "metadata": {},
   "outputs": [],
   "source": [
    "#8448208 - Jaromir Jagr"
   ]
  },
  {
   "cell_type": "code",
   "execution_count": null,
   "metadata": {},
   "outputs": [],
   "source": [
    "for i in range(8448208, 8480908):"
   ]
  },
  {
   "cell_type": "code",
   "execution_count": null,
   "metadata": {},
   "outputs": [],
   "source": []
  },
  {
   "cell_type": "code",
   "execution_count": 12,
   "metadata": {},
   "outputs": [
    {
     "data": {
      "text/plain": [
       "[{'type': {'displayName': 'statsSingleSeason'},\n",
       "  'splits': [{'season': '20182019',\n",
       "    'stat': {'timeOnIce': '649:40',\n",
       "     'assists': 26,\n",
       "     'goals': 11,\n",
       "     'pim': 16,\n",
       "     'shots': 113,\n",
       "     'games': 33,\n",
       "     'hits': 22,\n",
       "     'powerPlayGoals': 1,\n",
       "     'powerPlayPoints': 12,\n",
       "     'powerPlayTimeOnIce': '112:11',\n",
       "     'evenTimeOnIce': '536:05',\n",
       "     'penaltyMinutes': '16',\n",
       "     'faceOffPct': 44.82,\n",
       "     'shotPct': 9.7,\n",
       "     'gameWinningGoals': 3,\n",
       "     'overTimeGoals': 0,\n",
       "     'shortHandedGoals': 0,\n",
       "     'shortHandedPoints': 0,\n",
       "     'shortHandedTimeOnIce': '01:24',\n",
       "     'blocked': 29,\n",
       "     'plusMinus': -6,\n",
       "     'points': 37,\n",
       "     'shifts': 727,\n",
       "     'timeOnIcePerGame': '19:41',\n",
       "     'evenTimeOnIcePerGame': '16:14',\n",
       "     'shortHandedTimeOnIcePerGame': '00:02',\n",
       "     'powerPlayTimeOnIcePerGame': '03:23'}}]}]"
      ]
     },
     "execution_count": 12,
     "metadata": {},
     "output_type": "execute_result"
    }
   ],
   "source": [
    "ps = requests.get('https://statsapi.web.nhl.com/api/v1/people/{}/stats?stats=statsSingleSeason&Season=20182019'.format(8475791))\n",
    "ps = json.loads(ps.content)['stats']\n",
    "ps"
   ]
  },
  {
   "cell_type": "code",
   "execution_count": 276,
   "metadata": {},
   "outputs": [
    {
     "data": {
      "text/plain": [
       "{'copyright': 'NHL and the NHL Shield are registered trademarks of the National Hockey League. NHL and NHL team marks are the property of the NHL and its teams. © NHL 2019. All Rights Reserved.',\n",
       " 'people': [{'id': 8477932,\n",
       "   'fullName': 'Aaron Ekblad',\n",
       "   'link': '/api/v1/people/8477932',\n",
       "   'firstName': 'Aaron',\n",
       "   'lastName': 'Ekblad',\n",
       "   'primaryNumber': '5',\n",
       "   'birthDate': '1996-02-07',\n",
       "   'currentAge': 23,\n",
       "   'birthCity': 'Windsor',\n",
       "   'birthStateProvince': 'ON',\n",
       "   'birthCountry': 'CAN',\n",
       "   'nationality': 'CAN',\n",
       "   'height': '6\\' 4\"',\n",
       "   'weight': 220,\n",
       "   'active': True,\n",
       "   'alternateCaptain': True,\n",
       "   'captain': False,\n",
       "   'rookie': False,\n",
       "   'shootsCatches': 'R',\n",
       "   'rosterStatus': 'Y',\n",
       "   'currentTeam': {'id': 13,\n",
       "    'name': 'Florida Panthers',\n",
       "    'link': '/api/v1/teams/13'},\n",
       "   'primaryPosition': {'code': 'D',\n",
       "    'name': 'Defenseman',\n",
       "    'type': 'Defenseman',\n",
       "    'abbreviation': 'D'}}]}"
      ]
     },
     "execution_count": 276,
     "metadata": {},
     "output_type": "execute_result"
    }
   ],
   "source": [
    "p = requests.get('https://statsapi.web.nhl.com/api/v1/people/{}/'.format(8477932))\n",
    "p = json.loads(p.content)\n",
    "p"
   ]
  },
  {
   "cell_type": "code",
   "execution_count": 14,
   "metadata": {},
   "outputs": [],
   "source": [
    "#rasmus dahlin - 8480839"
   ]
  },
  {
   "cell_type": "code",
   "execution_count": 15,
   "metadata": {},
   "outputs": [
    {
     "data": {
      "text/plain": [
       "{\n",
       "  \"copyright\" : \"NHL and the NHL Shield are registered trademarks of the National Hockey League. NHL and NHL team marks are the property of the NHL and its teams. Â© NHL 2019. All Rights Reserved.\",\n",
       "  \"people\" : [ {\n",
       "    \"id\" : 8444849,\n",
       "    \"fullName\" : \"N.E. Pierson\",\n",
       "    \"link\" : \"/api/v1/people/8444849\",\n",
       "    \"firstName\" : \"N.E.\",\n",
       "    \"lastName\" : \"Pierson\",\n",
       "    \"primaryNumber\" : \"4\",\n",
       "    \"birthDate\" : \"1916-10-08\",\n",
       "    \"birthCity\" : \"Toronto\",\n",
       "    \"birthStateProvince\" : \"ON\",\n",
       "    \"birthCountry\" : \"CAN\",\n",
       "    \"nationality\" : \"CAN\",\n",
       "    \"height\" : \"6' 1\\\"\",\n",
       "    \"weight\" : 195,\n",
       "    \"active\" : false,\n",
       "    \"rookie\" : false,\n",
       "    \"shootsCatches\" : \"L\",\n",
       "    \"rosterStatus\" : \"N\",\n",
       "    \"primaryPosition\" : {\n",
       "      \"code\" : \"D\",\n",
       "      \"name\" : \"Defenseman\",\n",
       "      \"type\" : \"Defenseman\",\n",
       "      \"abbreviation\" : \"D\"\n",
       "    }\n",
       "  } ]\n",
       "}"
      ]
     },
     "execution_count": 15,
     "metadata": {},
     "output_type": "execute_result"
    }
   ],
   "source": [
    "#lowest player id I can find\n",
    "ddddd = requests.get('https://statsapi.web.nhl.com/api/v1/people/8444849')\n",
    "soddup = BeautifulSoup(ddddd.content, 'html.parser')\n",
    "soddup"
   ]
  },
  {
   "cell_type": "code",
   "execution_count": 16,
   "metadata": {},
   "outputs": [
    {
     "data": {
      "text/plain": [
       "{\n",
       "  \"copyright\" : \"NHL and the NHL Shield are registered trademarks of the National Hockey League. NHL and NHL team marks are the property of the NHL and its teams. Â© NHL 2019. All Rights Reserved.\",\n",
       "  \"people\" : [ {\n",
       "    \"id\" : 8480907,\n",
       "    \"fullName\" : \"Kayle Hayton\",\n",
       "    \"link\" : \"/api/v1/people/8480907\",\n",
       "    \"firstName\" : \"Kayle\",\n",
       "    \"lastName\" : \"Hayton\",\n",
       "    \"birthDate\" : \"1994-05-12\",\n",
       "    \"birthCity\" : \"Denver\",\n",
       "    \"birthStateProvince\" : \"CO\",\n",
       "    \"birthCountry\" : \"USA\",\n",
       "    \"nationality\" : \"USA\",\n",
       "    \"height\" : \"6' 0\\\"\",\n",
       "    \"weight\" : 161,\n",
       "    \"active\" : false,\n",
       "    \"rookie\" : true,\n",
       "    \"shootsCatches\" : \"L\",\n",
       "    \"rosterStatus\" : \"N\",\n",
       "    \"primaryPosition\" : {\n",
       "      \"code\" : \"G\",\n",
       "      \"name\" : \"Goalie\",\n",
       "      \"type\" : \"Goalie\",\n",
       "      \"abbreviation\" : \"G\"\n",
       "    }\n",
       "  } ]\n",
       "}"
      ]
     },
     "execution_count": 16,
     "metadata": {},
     "output_type": "execute_result"
    }
   ],
   "source": [
    "#highest player id I can find\n",
    "ddddd = requests.get('https://statsapi.web.nhl.com/api/v1/people/8480907')\n",
    "soddup = BeautifulSoup(ddddd.content, 'html.parser')\n",
    "soddup"
   ]
  },
  {
   "cell_type": "code",
   "execution_count": 17,
   "metadata": {},
   "outputs": [
    {
     "data": {
      "text/plain": [
       "{\n",
       "  \"copyright\" : \"NHL and the NHL Shield are registered trademarks of the National Hockey League. NHL and NHL team marks are the property of the NHL and its teams. Â© NHL 2019. All Rights Reserved.\",\n",
       "  \"people\" : [ {\n",
       "    \"id\" : 8480812,\n",
       "    \"fullName\" : \"Eric Florchuk\",\n",
       "    \"link\" : \"/api/v1/people/8480812\",\n",
       "    \"firstName\" : \"Eric\",\n",
       "    \"lastName\" : \"Florchuk\",\n",
       "    \"primaryNumber\" : \"58\",\n",
       "    \"birthDate\" : \"2000-01-10\",\n",
       "    \"currentAge\" : 19,\n",
       "    \"birthCity\" : \"Edmonton\",\n",
       "    \"birthStateProvince\" : \"AB\",\n",
       "    \"birthCountry\" : \"CAN\",\n",
       "    \"nationality\" : \"CAN\",\n",
       "    \"height\" : \"6' 2\\\"\",\n",
       "    \"weight\" : 175,\n",
       "    \"active\" : true,\n",
       "    \"alternateCaptain\" : false,\n",
       "    \"captain\" : false,\n",
       "    \"rookie\" : true,\n",
       "    \"shootsCatches\" : \"L\",\n",
       "    \"rosterStatus\" : \"N\",\n",
       "    \"currentTeam\" : {\n",
       "      \"id\" : 15,\n",
       "      \"name\" : \"Washington Capitals\",\n",
       "      \"link\" : \"/api/v1/teams/15\"\n",
       "    },\n",
       "    \"primaryPosition\" : {\n",
       "      \"code\" : \"C\",\n",
       "      \"name\" : \"Center\",\n",
       "      \"type\" : \"Forward\",\n",
       "      \"abbreviation\" : \"C\"\n",
       "    }\n",
       "  } ]\n",
       "}"
      ]
     },
     "execution_count": 17,
     "metadata": {},
     "output_type": "execute_result"
    }
   ],
   "source": [
    "#most recently drafted player (mr. irrelevant in 2018 draft)\n",
    "ddddd = requests.get('https://statsapi.web.nhl.com/api/v1/people/8480812')\n",
    "soddup = BeautifulSoup(ddddd.content, 'html.parser')\n",
    "soddup"
   ]
  },
  {
   "cell_type": "code",
   "execution_count": 20,
   "metadata": {},
   "outputs": [
    {
     "data": {
      "text/plain": [
       "(7294, 25)"
      ]
     },
     "execution_count": 20,
     "metadata": {},
     "output_type": "execute_result"
    }
   ],
   "source": [
    "df = pd.read_csv('../data/Contract_Details_PuckPedia_Mar_2019_Confidential.csv')\n",
    "df.shape"
   ]
  },
  {
   "cell_type": "code",
   "execution_count": 21,
   "metadata": {},
   "outputs": [
    {
     "data": {
      "text/html": [
       "<div>\n",
       "<style scoped>\n",
       "    .dataframe tbody tr th:only-of-type {\n",
       "        vertical-align: middle;\n",
       "    }\n",
       "\n",
       "    .dataframe tbody tr th {\n",
       "        vertical-align: top;\n",
       "    }\n",
       "\n",
       "    .dataframe thead th {\n",
       "        text-align: right;\n",
       "    }\n",
       "</style>\n",
       "<table border=\"1\" class=\"dataframe\">\n",
       "  <thead>\n",
       "    <tr style=\"text-align: right;\">\n",
       "      <th></th>\n",
       "      <th>player_id</th>\n",
       "      <th>first_name</th>\n",
       "      <th>last_name</th>\n",
       "      <th>position</th>\n",
       "      <th>birthdate</th>\n",
       "      <th>season</th>\n",
       "      <th>team_id</th>\n",
       "      <th>team_name</th>\n",
       "      <th>cap_hit</th>\n",
       "      <th>base_salary</th>\n",
       "      <th>...</th>\n",
       "      <th>signing_date</th>\n",
       "      <th>signing_team</th>\n",
       "      <th>length</th>\n",
       "      <th>Total Value</th>\n",
       "      <th>contract_level</th>\n",
       "      <th>contract_id</th>\n",
       "      <th>expiry_status</th>\n",
       "      <th>contract_type</th>\n",
       "      <th>contract_end</th>\n",
       "      <th>ufa_year</th>\n",
       "    </tr>\n",
       "  </thead>\n",
       "  <tbody>\n",
       "    <tr>\n",
       "      <th>0</th>\n",
       "      <td>103</td>\n",
       "      <td>Roberto</td>\n",
       "      <td>Luongo</td>\n",
       "      <td>Goaltender</td>\n",
       "      <td>4/4/79</td>\n",
       "      <td>2015-2016</td>\n",
       "      <td>14.0</td>\n",
       "      <td>Panthers</td>\n",
       "      <td>$5,333,333</td>\n",
       "      <td>$6,714,000</td>\n",
       "      <td>...</td>\n",
       "      <td>9/2/09</td>\n",
       "      <td>NaN</td>\n",
       "      <td>12</td>\n",
       "      <td>$63,999,996</td>\n",
       "      <td>standard_level</td>\n",
       "      <td>4124</td>\n",
       "      <td>UFA</td>\n",
       "      <td>current</td>\n",
       "      <td>2021-2022</td>\n",
       "      <td>2006.0</td>\n",
       "    </tr>\n",
       "    <tr>\n",
       "      <th>1</th>\n",
       "      <td>103</td>\n",
       "      <td>Roberto</td>\n",
       "      <td>Luongo</td>\n",
       "      <td>Goaltender</td>\n",
       "      <td>4/4/79</td>\n",
       "      <td>2016-2017</td>\n",
       "      <td>14.0</td>\n",
       "      <td>Panthers</td>\n",
       "      <td>$5,333,333</td>\n",
       "      <td>$6,714,000</td>\n",
       "      <td>...</td>\n",
       "      <td>9/2/09</td>\n",
       "      <td>NaN</td>\n",
       "      <td>12</td>\n",
       "      <td>$63,999,996</td>\n",
       "      <td>standard_level</td>\n",
       "      <td>4124</td>\n",
       "      <td>UFA</td>\n",
       "      <td>current</td>\n",
       "      <td>2021-2022</td>\n",
       "      <td>2006.0</td>\n",
       "    </tr>\n",
       "    <tr>\n",
       "      <th>2</th>\n",
       "      <td>103</td>\n",
       "      <td>Roberto</td>\n",
       "      <td>Luongo</td>\n",
       "      <td>Goaltender</td>\n",
       "      <td>4/4/79</td>\n",
       "      <td>2017-2018</td>\n",
       "      <td>14.0</td>\n",
       "      <td>Panthers</td>\n",
       "      <td>$5,333,333</td>\n",
       "      <td>$6,714,000</td>\n",
       "      <td>...</td>\n",
       "      <td>9/2/09</td>\n",
       "      <td>NaN</td>\n",
       "      <td>12</td>\n",
       "      <td>$63,999,996</td>\n",
       "      <td>standard_level</td>\n",
       "      <td>4124</td>\n",
       "      <td>UFA</td>\n",
       "      <td>current</td>\n",
       "      <td>2021-2022</td>\n",
       "      <td>2006.0</td>\n",
       "    </tr>\n",
       "    <tr>\n",
       "      <th>3</th>\n",
       "      <td>103</td>\n",
       "      <td>Roberto</td>\n",
       "      <td>Luongo</td>\n",
       "      <td>Goaltender</td>\n",
       "      <td>4/4/79</td>\n",
       "      <td>2018-2019</td>\n",
       "      <td>14.0</td>\n",
       "      <td>Panthers</td>\n",
       "      <td>$5,333,333</td>\n",
       "      <td>$3,382,000</td>\n",
       "      <td>...</td>\n",
       "      <td>9/2/09</td>\n",
       "      <td>NaN</td>\n",
       "      <td>12</td>\n",
       "      <td>$63,999,996</td>\n",
       "      <td>standard_level</td>\n",
       "      <td>4124</td>\n",
       "      <td>UFA</td>\n",
       "      <td>current</td>\n",
       "      <td>2021-2022</td>\n",
       "      <td>2006.0</td>\n",
       "    </tr>\n",
       "    <tr>\n",
       "      <th>4</th>\n",
       "      <td>103</td>\n",
       "      <td>Roberto</td>\n",
       "      <td>Luongo</td>\n",
       "      <td>Goaltender</td>\n",
       "      <td>4/4/79</td>\n",
       "      <td>2019-2020</td>\n",
       "      <td>14.0</td>\n",
       "      <td>Panthers</td>\n",
       "      <td>$5,333,333</td>\n",
       "      <td>$1,618,000</td>\n",
       "      <td>...</td>\n",
       "      <td>9/2/09</td>\n",
       "      <td>NaN</td>\n",
       "      <td>12</td>\n",
       "      <td>$63,999,996</td>\n",
       "      <td>standard_level</td>\n",
       "      <td>4124</td>\n",
       "      <td>UFA</td>\n",
       "      <td>current</td>\n",
       "      <td>2021-2022</td>\n",
       "      <td>2006.0</td>\n",
       "    </tr>\n",
       "  </tbody>\n",
       "</table>\n",
       "<p>5 rows × 25 columns</p>\n",
       "</div>"
      ],
      "text/plain": [
       "   player_id first_name last_name    position birthdate     season  team_id  \\\n",
       "0        103    Roberto    Luongo  Goaltender    4/4/79  2015-2016     14.0   \n",
       "1        103    Roberto    Luongo  Goaltender    4/4/79  2016-2017     14.0   \n",
       "2        103    Roberto    Luongo  Goaltender    4/4/79  2017-2018     14.0   \n",
       "3        103    Roberto    Luongo  Goaltender    4/4/79  2018-2019     14.0   \n",
       "4        103    Roberto    Luongo  Goaltender    4/4/79  2019-2020     14.0   \n",
       "\n",
       "  team_name       cap_hit   base_salary   ...    signing_date signing_team  \\\n",
       "0  Panthers   $5,333,333    $6,714,000    ...          9/2/09          NaN   \n",
       "1  Panthers   $5,333,333    $6,714,000    ...          9/2/09          NaN   \n",
       "2  Panthers   $5,333,333    $6,714,000    ...          9/2/09          NaN   \n",
       "3  Panthers   $5,333,333    $3,382,000    ...          9/2/09          NaN   \n",
       "4  Panthers   $5,333,333    $1,618,000    ...          9/2/09          NaN   \n",
       "\n",
       "  length   Total Value   contract_level contract_id expiry_status  \\\n",
       "0     12   $63,999,996   standard_level        4124           UFA   \n",
       "1     12   $63,999,996   standard_level        4124           UFA   \n",
       "2     12   $63,999,996   standard_level        4124           UFA   \n",
       "3     12   $63,999,996   standard_level        4124           UFA   \n",
       "4     12   $63,999,996   standard_level        4124           UFA   \n",
       "\n",
       "   contract_type contract_end ufa_year  \n",
       "0        current    2021-2022   2006.0  \n",
       "1        current    2021-2022   2006.0  \n",
       "2        current    2021-2022   2006.0  \n",
       "3        current    2021-2022   2006.0  \n",
       "4        current    2021-2022   2006.0  \n",
       "\n",
       "[5 rows x 25 columns]"
      ]
     },
     "execution_count": 21,
     "metadata": {},
     "output_type": "execute_result"
    }
   ],
   "source": [
    "df.head()"
   ]
  },
  {
   "cell_type": "code",
   "execution_count": 22,
   "metadata": {},
   "outputs": [
    {
     "name": "stdout",
     "output_type": "stream",
     "text": [
      "<class 'pandas.core.frame.DataFrame'>\n",
      "RangeIndex: 7294 entries, 0 to 7293\n",
      "Data columns (total 25 columns):\n",
      "player_id         7294 non-null int64\n",
      "first_name        7294 non-null object\n",
      "last_name         7294 non-null object\n",
      "position          7294 non-null object\n",
      "birthdate         7294 non-null object\n",
      "season            7294 non-null object\n",
      "team_id           6790 non-null float64\n",
      "team_name         6787 non-null object\n",
      "cap_hit           7294 non-null object\n",
      "base_salary       7261 non-null object\n",
      "p_bonuses         5063 non-null object\n",
      "s_bonuses         5597 non-null object\n",
      "total_salary      7004 non-null object\n",
      "active            5435 non-null float64\n",
      "buyout_id         88 non-null float64\n",
      "signing_date      7293 non-null object\n",
      "signing_team      5318 non-null object\n",
      "length            7294 non-null int64\n",
      " Total Value      7294 non-null object\n",
      "contract_level    7294 non-null object\n",
      "contract_id       7294 non-null int64\n",
      "expiry_status     7294 non-null object\n",
      "contract_type     7294 non-null object\n",
      "contract_end      7294 non-null object\n",
      "ufa_year          7282 non-null float64\n",
      "dtypes: float64(4), int64(3), object(18)\n",
      "memory usage: 1.4+ MB\n"
     ]
    }
   ],
   "source": [
    "df.info()"
   ]
  },
  {
   "cell_type": "code",
   "execution_count": 23,
   "metadata": {},
   "outputs": [],
   "source": [
    "df.drop('buyout_id', axis=1, inplace=True)"
   ]
  },
  {
   "cell_type": "code",
   "execution_count": 47,
   "metadata": {},
   "outputs": [],
   "source": [
    "df.drop(['base_salary', 'p_bonuses', 's_bonuses', 'total_salary'], axis=1, inplace=True)"
   ]
  },
  {
   "cell_type": "code",
   "execution_count": 24,
   "metadata": {},
   "outputs": [
    {
     "data": {
      "text/plain": [
       "2018-2019    1571\n",
       "2017-2018    1492\n",
       "2016-2017    1248\n",
       "2015-2016    1041\n",
       "2019-2020     942\n",
       "2020-2021     518\n",
       "2021-2022     241\n",
       "2022-2023     108\n",
       "2023-2024      67\n",
       "2024-2025      40\n",
       "2025-2026      18\n",
       "2026-2027       8\n",
       "Name: season, dtype: int64"
      ]
     },
     "execution_count": 24,
     "metadata": {},
     "output_type": "execute_result"
    }
   ],
   "source": [
    "df['season'].value_counts()"
   ]
  },
  {
   "cell_type": "code",
   "execution_count": 25,
   "metadata": {},
   "outputs": [
    {
     "data": {
      "text/plain": [
       "3099"
      ]
     },
     "execution_count": 25,
     "metadata": {},
     "output_type": "execute_result"
    }
   ],
   "source": [
    "len(df.contract_id.unique())"
   ]
  },
  {
   "cell_type": "code",
   "execution_count": 260,
   "metadata": {},
   "outputs": [
    {
     "data": {
      "text/plain": [
       "1054"
      ]
     },
     "execution_count": 260,
     "metadata": {},
     "output_type": "execute_result"
    }
   ],
   "source": [
    "len(df.player_id.unique())"
   ]
  },
  {
   "cell_type": "code",
   "execution_count": 26,
   "metadata": {},
   "outputs": [
    {
     "data": {
      "text/plain": [
       "array([4124, 2837, 2832, ..., 4946, 4953, 4959])"
      ]
     },
     "execution_count": 26,
     "metadata": {},
     "output_type": "execute_result"
    }
   ],
   "source": [
    "df.contract_id.unique()"
   ]
  },
  {
   "cell_type": "code",
   "execution_count": 27,
   "metadata": {},
   "outputs": [
    {
     "data": {
      "text/html": [
       "<div>\n",
       "<style scoped>\n",
       "    .dataframe tbody tr th:only-of-type {\n",
       "        vertical-align: middle;\n",
       "    }\n",
       "\n",
       "    .dataframe tbody tr th {\n",
       "        vertical-align: top;\n",
       "    }\n",
       "\n",
       "    .dataframe thead th {\n",
       "        text-align: right;\n",
       "    }\n",
       "</style>\n",
       "<table border=\"1\" class=\"dataframe\">\n",
       "  <thead>\n",
       "    <tr style=\"text-align: right;\">\n",
       "      <th></th>\n",
       "      <th>player_id</th>\n",
       "      <th>team_id</th>\n",
       "      <th>active</th>\n",
       "      <th>length</th>\n",
       "      <th>contract_id</th>\n",
       "      <th>ufa_year</th>\n",
       "    </tr>\n",
       "  </thead>\n",
       "  <tbody>\n",
       "    <tr>\n",
       "      <th>count</th>\n",
       "      <td>7294.000000</td>\n",
       "      <td>6790.000000</td>\n",
       "      <td>5435.000000</td>\n",
       "      <td>7294.000000</td>\n",
       "      <td>7294.000000</td>\n",
       "      <td>7282.000000</td>\n",
       "    </tr>\n",
       "    <tr>\n",
       "      <th>mean</th>\n",
       "      <td>6161.511242</td>\n",
       "      <td>25.057437</td>\n",
       "      <td>0.791904</td>\n",
       "      <td>3.472854</td>\n",
       "      <td>2658.519331</td>\n",
       "      <td>2019.384647</td>\n",
       "    </tr>\n",
       "    <tr>\n",
       "      <th>std</th>\n",
       "      <td>4610.409723</td>\n",
       "      <td>48.731077</td>\n",
       "      <td>0.405983</td>\n",
       "      <td>2.109511</td>\n",
       "      <td>1506.091994</td>\n",
       "      <td>4.637166</td>\n",
       "    </tr>\n",
       "    <tr>\n",
       "      <th>min</th>\n",
       "      <td>103.000000</td>\n",
       "      <td>0.000000</td>\n",
       "      <td>0.000000</td>\n",
       "      <td>1.000000</td>\n",
       "      <td>1.000000</td>\n",
       "      <td>1997.000000</td>\n",
       "    </tr>\n",
       "    <tr>\n",
       "      <th>25%</th>\n",
       "      <td>3673.000000</td>\n",
       "      <td>8.000000</td>\n",
       "      <td>1.000000</td>\n",
       "      <td>2.000000</td>\n",
       "      <td>1325.000000</td>\n",
       "      <td>2016.000000</td>\n",
       "    </tr>\n",
       "    <tr>\n",
       "      <th>50%</th>\n",
       "      <td>4852.000000</td>\n",
       "      <td>16.000000</td>\n",
       "      <td>1.000000</td>\n",
       "      <td>3.000000</td>\n",
       "      <td>2696.500000</td>\n",
       "      <td>2020.000000</td>\n",
       "    </tr>\n",
       "    <tr>\n",
       "      <th>75%</th>\n",
       "      <td>6415.750000</td>\n",
       "      <td>24.000000</td>\n",
       "      <td>1.000000</td>\n",
       "      <td>4.000000</td>\n",
       "      <td>4122.000000</td>\n",
       "      <td>2023.000000</td>\n",
       "    </tr>\n",
       "    <tr>\n",
       "      <th>max</th>\n",
       "      <td>17912.000000</td>\n",
       "      <td>269.000000</td>\n",
       "      <td>1.000000</td>\n",
       "      <td>14.000000</td>\n",
       "      <td>4960.000000</td>\n",
       "      <td>2046.000000</td>\n",
       "    </tr>\n",
       "  </tbody>\n",
       "</table>\n",
       "</div>"
      ],
      "text/plain": [
       "          player_id      team_id       active       length  contract_id  \\\n",
       "count   7294.000000  6790.000000  5435.000000  7294.000000  7294.000000   \n",
       "mean    6161.511242    25.057437     0.791904     3.472854  2658.519331   \n",
       "std     4610.409723    48.731077     0.405983     2.109511  1506.091994   \n",
       "min      103.000000     0.000000     0.000000     1.000000     1.000000   \n",
       "25%     3673.000000     8.000000     1.000000     2.000000  1325.000000   \n",
       "50%     4852.000000    16.000000     1.000000     3.000000  2696.500000   \n",
       "75%     6415.750000    24.000000     1.000000     4.000000  4122.000000   \n",
       "max    17912.000000   269.000000     1.000000    14.000000  4960.000000   \n",
       "\n",
       "          ufa_year  \n",
       "count  7282.000000  \n",
       "mean   2019.384647  \n",
       "std       4.637166  \n",
       "min    1997.000000  \n",
       "25%    2016.000000  \n",
       "50%    2020.000000  \n",
       "75%    2023.000000  \n",
       "max    2046.000000  "
      ]
     },
     "execution_count": 27,
     "metadata": {},
     "output_type": "execute_result"
    }
   ],
   "source": [
    "df.describe()"
   ]
  },
  {
   "cell_type": "code",
   "execution_count": 77,
   "metadata": {},
   "outputs": [],
   "source": [
    "money_to_int = lambda x: int(x.strip().strip('$()').replace(',', ''))"
   ]
  },
  {
   "cell_type": "code",
   "execution_count": 78,
   "metadata": {},
   "outputs": [
    {
     "data": {
      "text/plain": [
       "5333333"
      ]
     },
     "execution_count": 78,
     "metadata": {},
     "output_type": "execute_result"
    }
   ],
   "source": [
    "money_to_int(' $5,333,333 ')"
   ]
  },
  {
   "cell_type": "code",
   "execution_count": 74,
   "metadata": {},
   "outputs": [
    {
     "data": {
      "text/plain": [
       "5333333"
      ]
     },
     "execution_count": 74,
     "metadata": {},
     "output_type": "execute_result"
    }
   ],
   "source": [
    "int('$(5,333,333)'.strip(' $()').replace(',', ''))"
   ]
  },
  {
   "cell_type": "code",
   "execution_count": 51,
   "metadata": {},
   "outputs": [
    {
     "data": {
      "text/html": [
       "<div>\n",
       "<style scoped>\n",
       "    .dataframe tbody tr th:only-of-type {\n",
       "        vertical-align: middle;\n",
       "    }\n",
       "\n",
       "    .dataframe tbody tr th {\n",
       "        vertical-align: top;\n",
       "    }\n",
       "\n",
       "    .dataframe thead th {\n",
       "        text-align: right;\n",
       "    }\n",
       "</style>\n",
       "<table border=\"1\" class=\"dataframe\">\n",
       "  <thead>\n",
       "    <tr style=\"text-align: right;\">\n",
       "      <th></th>\n",
       "      <th>player_id</th>\n",
       "      <th>first_name</th>\n",
       "      <th>last_name</th>\n",
       "      <th>position</th>\n",
       "      <th>birthdate</th>\n",
       "      <th>season</th>\n",
       "      <th>team_id</th>\n",
       "      <th>team_name</th>\n",
       "      <th>cap_hit</th>\n",
       "      <th>active</th>\n",
       "      <th>signing_date</th>\n",
       "      <th>signing_team</th>\n",
       "      <th>length</th>\n",
       "      <th>Total Value</th>\n",
       "      <th>contract_level</th>\n",
       "      <th>contract_id</th>\n",
       "      <th>expiry_status</th>\n",
       "      <th>contract_type</th>\n",
       "      <th>contract_end</th>\n",
       "      <th>ufa_year</th>\n",
       "    </tr>\n",
       "  </thead>\n",
       "  <tbody>\n",
       "    <tr>\n",
       "      <th>0</th>\n",
       "      <td>103</td>\n",
       "      <td>Roberto</td>\n",
       "      <td>Luongo</td>\n",
       "      <td>Goaltender</td>\n",
       "      <td>4/4/79</td>\n",
       "      <td>2015-2016</td>\n",
       "      <td>14.0</td>\n",
       "      <td>Panthers</td>\n",
       "      <td>$5,333,333</td>\n",
       "      <td>1.0</td>\n",
       "      <td>9/2/09</td>\n",
       "      <td>NaN</td>\n",
       "      <td>12</td>\n",
       "      <td>$63,999,996</td>\n",
       "      <td>standard_level</td>\n",
       "      <td>4124</td>\n",
       "      <td>UFA</td>\n",
       "      <td>current</td>\n",
       "      <td>2021-2022</td>\n",
       "      <td>2006.0</td>\n",
       "    </tr>\n",
       "    <tr>\n",
       "      <th>1</th>\n",
       "      <td>103</td>\n",
       "      <td>Roberto</td>\n",
       "      <td>Luongo</td>\n",
       "      <td>Goaltender</td>\n",
       "      <td>4/4/79</td>\n",
       "      <td>2016-2017</td>\n",
       "      <td>14.0</td>\n",
       "      <td>Panthers</td>\n",
       "      <td>$5,333,333</td>\n",
       "      <td>1.0</td>\n",
       "      <td>9/2/09</td>\n",
       "      <td>NaN</td>\n",
       "      <td>12</td>\n",
       "      <td>$63,999,996</td>\n",
       "      <td>standard_level</td>\n",
       "      <td>4124</td>\n",
       "      <td>UFA</td>\n",
       "      <td>current</td>\n",
       "      <td>2021-2022</td>\n",
       "      <td>2006.0</td>\n",
       "    </tr>\n",
       "    <tr>\n",
       "      <th>2</th>\n",
       "      <td>103</td>\n",
       "      <td>Roberto</td>\n",
       "      <td>Luongo</td>\n",
       "      <td>Goaltender</td>\n",
       "      <td>4/4/79</td>\n",
       "      <td>2017-2018</td>\n",
       "      <td>14.0</td>\n",
       "      <td>Panthers</td>\n",
       "      <td>$5,333,333</td>\n",
       "      <td>1.0</td>\n",
       "      <td>9/2/09</td>\n",
       "      <td>NaN</td>\n",
       "      <td>12</td>\n",
       "      <td>$63,999,996</td>\n",
       "      <td>standard_level</td>\n",
       "      <td>4124</td>\n",
       "      <td>UFA</td>\n",
       "      <td>current</td>\n",
       "      <td>2021-2022</td>\n",
       "      <td>2006.0</td>\n",
       "    </tr>\n",
       "    <tr>\n",
       "      <th>3</th>\n",
       "      <td>103</td>\n",
       "      <td>Roberto</td>\n",
       "      <td>Luongo</td>\n",
       "      <td>Goaltender</td>\n",
       "      <td>4/4/79</td>\n",
       "      <td>2018-2019</td>\n",
       "      <td>14.0</td>\n",
       "      <td>Panthers</td>\n",
       "      <td>$5,333,333</td>\n",
       "      <td>1.0</td>\n",
       "      <td>9/2/09</td>\n",
       "      <td>NaN</td>\n",
       "      <td>12</td>\n",
       "      <td>$63,999,996</td>\n",
       "      <td>standard_level</td>\n",
       "      <td>4124</td>\n",
       "      <td>UFA</td>\n",
       "      <td>current</td>\n",
       "      <td>2021-2022</td>\n",
       "      <td>2006.0</td>\n",
       "    </tr>\n",
       "    <tr>\n",
       "      <th>4</th>\n",
       "      <td>103</td>\n",
       "      <td>Roberto</td>\n",
       "      <td>Luongo</td>\n",
       "      <td>Goaltender</td>\n",
       "      <td>4/4/79</td>\n",
       "      <td>2019-2020</td>\n",
       "      <td>14.0</td>\n",
       "      <td>Panthers</td>\n",
       "      <td>$5,333,333</td>\n",
       "      <td>1.0</td>\n",
       "      <td>9/2/09</td>\n",
       "      <td>NaN</td>\n",
       "      <td>12</td>\n",
       "      <td>$63,999,996</td>\n",
       "      <td>standard_level</td>\n",
       "      <td>4124</td>\n",
       "      <td>UFA</td>\n",
       "      <td>current</td>\n",
       "      <td>2021-2022</td>\n",
       "      <td>2006.0</td>\n",
       "    </tr>\n",
       "  </tbody>\n",
       "</table>\n",
       "</div>"
      ],
      "text/plain": [
       "   player_id first_name last_name    position birthdate     season  team_id  \\\n",
       "0        103    Roberto    Luongo  Goaltender    4/4/79  2015-2016     14.0   \n",
       "1        103    Roberto    Luongo  Goaltender    4/4/79  2016-2017     14.0   \n",
       "2        103    Roberto    Luongo  Goaltender    4/4/79  2017-2018     14.0   \n",
       "3        103    Roberto    Luongo  Goaltender    4/4/79  2018-2019     14.0   \n",
       "4        103    Roberto    Luongo  Goaltender    4/4/79  2019-2020     14.0   \n",
       "\n",
       "  team_name       cap_hit  active signing_date signing_team  length  \\\n",
       "0  Panthers   $5,333,333      1.0       9/2/09          NaN      12   \n",
       "1  Panthers   $5,333,333      1.0       9/2/09          NaN      12   \n",
       "2  Panthers   $5,333,333      1.0       9/2/09          NaN      12   \n",
       "3  Panthers   $5,333,333      1.0       9/2/09          NaN      12   \n",
       "4  Panthers   $5,333,333      1.0       9/2/09          NaN      12   \n",
       "\n",
       "    Total Value   contract_level  contract_id expiry_status contract_type  \\\n",
       "0   $63,999,996   standard_level         4124           UFA       current   \n",
       "1   $63,999,996   standard_level         4124           UFA       current   \n",
       "2   $63,999,996   standard_level         4124           UFA       current   \n",
       "3   $63,999,996   standard_level         4124           UFA       current   \n",
       "4   $63,999,996   standard_level         4124           UFA       current   \n",
       "\n",
       "  contract_end  ufa_year  \n",
       "0    2021-2022    2006.0  \n",
       "1    2021-2022    2006.0  \n",
       "2    2021-2022    2006.0  \n",
       "3    2021-2022    2006.0  \n",
       "4    2021-2022    2006.0  "
      ]
     },
     "execution_count": 51,
     "metadata": {},
     "output_type": "execute_result"
    }
   ],
   "source": [
    "df.head()"
   ]
  },
  {
   "cell_type": "code",
   "execution_count": 58,
   "metadata": {},
   "outputs": [
    {
     "data": {
      "text/plain": [
       "0        $63,999,996 \n",
       "1        $63,999,996 \n",
       "2        $63,999,996 \n",
       "3        $63,999,996 \n",
       "4        $63,999,996 \n",
       "5        $63,999,996 \n",
       "6        $63,999,996 \n",
       "7        $18,000,000 \n",
       "8        $18,000,000 \n",
       "9         $4,000,000 \n",
       "10        $4,000,000 \n",
       "11       $12,600,000 \n",
       "12       $12,600,000 \n",
       "13       $12,600,000 \n",
       "14        $9,500,000 \n",
       "15        $9,500,000 \n",
       "16          $575,000 \n",
       "17          $700,000 \n",
       "18          $650,000 \n",
       "19          $650,000 \n",
       "20       $23,000,000 \n",
       "21       $23,000,000 \n",
       "22       $23,000,000 \n",
       "23       $23,000,000 \n",
       "24       $21,000,000 \n",
       "25       $21,000,000 \n",
       "26       $21,000,000 \n",
       "27       $29,500,000 \n",
       "28       $29,500,000 \n",
       "29       $29,500,000 \n",
       "            ...      \n",
       "7264      $2,277,498 \n",
       "7265      $2,277,498 \n",
       "7266      $1,535,000 \n",
       "7267      $1,535,000 \n",
       "7268        $575,000 \n",
       "7269        $700,000 \n",
       "7270      $1,350,000 \n",
       "7271      $1,350,000 \n",
       "7272     $(1,875,000)\n",
       "7273      $2,900,000 \n",
       "7274      $2,775,000 \n",
       "7275      $2,775,000 \n",
       "7276      $2,775,000 \n",
       "7277      $2,642,499 \n",
       "7278      $2,642,499 \n",
       "7279      $2,642,499 \n",
       "7280        $792,500 \n",
       "7281        $925,000 \n",
       "7282      $1,850,000 \n",
       "7283      $1,850,000 \n",
       "7284      $1,850,000 \n",
       "7285      $1,850,000 \n",
       "7286      $1,600,000 \n",
       "7287      $1,600,000 \n",
       "7288      $2,427,498 \n",
       "7289      $2,427,498 \n",
       "7290      $2,427,498 \n",
       "7291      $1,635,000 \n",
       "7292      $1,635,000 \n",
       "7293        $925,000 \n",
       "Name:  Total Value , Length: 7294, dtype: object"
      ]
     },
     "execution_count": 58,
     "metadata": {},
     "output_type": "execute_result"
    }
   ],
   "source": [
    "df[' Total Value ']"
   ]
  },
  {
   "cell_type": "code",
   "execution_count": 59,
   "metadata": {},
   "outputs": [],
   "source": [
    "df['total_value'] = df[' Total Value ']\n",
    "df.drop(' Total Value ', axis=1, inplace=True)"
   ]
  },
  {
   "cell_type": "code",
   "execution_count": 79,
   "metadata": {},
   "outputs": [],
   "source": [
    "df['cap_hit'] = df['cap_hit'].apply(money_to_int)\n",
    "df['total_value'] = df['total_value'].apply(money_to_int)"
   ]
  },
  {
   "cell_type": "code",
   "execution_count": null,
   "metadata": {},
   "outputs": [],
   "source": []
  },
  {
   "cell_type": "code",
   "execution_count": 83,
   "metadata": {},
   "outputs": [
    {
     "data": {
      "text/html": [
       "<div>\n",
       "<style scoped>\n",
       "    .dataframe tbody tr th:only-of-type {\n",
       "        vertical-align: middle;\n",
       "    }\n",
       "\n",
       "    .dataframe tbody tr th {\n",
       "        vertical-align: top;\n",
       "    }\n",
       "\n",
       "    .dataframe thead th {\n",
       "        text-align: right;\n",
       "    }\n",
       "</style>\n",
       "<table border=\"1\" class=\"dataframe\">\n",
       "  <thead>\n",
       "    <tr style=\"text-align: right;\">\n",
       "      <th></th>\n",
       "      <th>player_id</th>\n",
       "      <th>first_name</th>\n",
       "      <th>last_name</th>\n",
       "      <th>position</th>\n",
       "      <th>birthdate</th>\n",
       "      <th>season</th>\n",
       "      <th>team_id</th>\n",
       "      <th>team_name</th>\n",
       "      <th>cap_hit</th>\n",
       "      <th>active</th>\n",
       "      <th>signing_date</th>\n",
       "      <th>signing_team</th>\n",
       "      <th>length</th>\n",
       "      <th>contract_level</th>\n",
       "      <th>contract_id</th>\n",
       "      <th>expiry_status</th>\n",
       "      <th>contract_type</th>\n",
       "      <th>contract_end</th>\n",
       "      <th>ufa_year</th>\n",
       "      <th>total_value</th>\n",
       "    </tr>\n",
       "  </thead>\n",
       "  <tbody>\n",
       "    <tr>\n",
       "      <th>0</th>\n",
       "      <td>103</td>\n",
       "      <td>Roberto</td>\n",
       "      <td>Luongo</td>\n",
       "      <td>Goaltender</td>\n",
       "      <td>4/4/79</td>\n",
       "      <td>2015-2016</td>\n",
       "      <td>14.0</td>\n",
       "      <td>Panthers</td>\n",
       "      <td>5333333</td>\n",
       "      <td>1.0</td>\n",
       "      <td>9/2/09</td>\n",
       "      <td>NaN</td>\n",
       "      <td>12</td>\n",
       "      <td>standard_level</td>\n",
       "      <td>4124</td>\n",
       "      <td>UFA</td>\n",
       "      <td>current</td>\n",
       "      <td>2021-2022</td>\n",
       "      <td>2006.0</td>\n",
       "      <td>63999996</td>\n",
       "    </tr>\n",
       "    <tr>\n",
       "      <th>1</th>\n",
       "      <td>103</td>\n",
       "      <td>Roberto</td>\n",
       "      <td>Luongo</td>\n",
       "      <td>Goaltender</td>\n",
       "      <td>4/4/79</td>\n",
       "      <td>2016-2017</td>\n",
       "      <td>14.0</td>\n",
       "      <td>Panthers</td>\n",
       "      <td>5333333</td>\n",
       "      <td>1.0</td>\n",
       "      <td>9/2/09</td>\n",
       "      <td>NaN</td>\n",
       "      <td>12</td>\n",
       "      <td>standard_level</td>\n",
       "      <td>4124</td>\n",
       "      <td>UFA</td>\n",
       "      <td>current</td>\n",
       "      <td>2021-2022</td>\n",
       "      <td>2006.0</td>\n",
       "      <td>63999996</td>\n",
       "    </tr>\n",
       "    <tr>\n",
       "      <th>2</th>\n",
       "      <td>103</td>\n",
       "      <td>Roberto</td>\n",
       "      <td>Luongo</td>\n",
       "      <td>Goaltender</td>\n",
       "      <td>4/4/79</td>\n",
       "      <td>2017-2018</td>\n",
       "      <td>14.0</td>\n",
       "      <td>Panthers</td>\n",
       "      <td>5333333</td>\n",
       "      <td>1.0</td>\n",
       "      <td>9/2/09</td>\n",
       "      <td>NaN</td>\n",
       "      <td>12</td>\n",
       "      <td>standard_level</td>\n",
       "      <td>4124</td>\n",
       "      <td>UFA</td>\n",
       "      <td>current</td>\n",
       "      <td>2021-2022</td>\n",
       "      <td>2006.0</td>\n",
       "      <td>63999996</td>\n",
       "    </tr>\n",
       "    <tr>\n",
       "      <th>3</th>\n",
       "      <td>103</td>\n",
       "      <td>Roberto</td>\n",
       "      <td>Luongo</td>\n",
       "      <td>Goaltender</td>\n",
       "      <td>4/4/79</td>\n",
       "      <td>2018-2019</td>\n",
       "      <td>14.0</td>\n",
       "      <td>Panthers</td>\n",
       "      <td>5333333</td>\n",
       "      <td>1.0</td>\n",
       "      <td>9/2/09</td>\n",
       "      <td>NaN</td>\n",
       "      <td>12</td>\n",
       "      <td>standard_level</td>\n",
       "      <td>4124</td>\n",
       "      <td>UFA</td>\n",
       "      <td>current</td>\n",
       "      <td>2021-2022</td>\n",
       "      <td>2006.0</td>\n",
       "      <td>63999996</td>\n",
       "    </tr>\n",
       "    <tr>\n",
       "      <th>4</th>\n",
       "      <td>103</td>\n",
       "      <td>Roberto</td>\n",
       "      <td>Luongo</td>\n",
       "      <td>Goaltender</td>\n",
       "      <td>4/4/79</td>\n",
       "      <td>2019-2020</td>\n",
       "      <td>14.0</td>\n",
       "      <td>Panthers</td>\n",
       "      <td>5333333</td>\n",
       "      <td>1.0</td>\n",
       "      <td>9/2/09</td>\n",
       "      <td>NaN</td>\n",
       "      <td>12</td>\n",
       "      <td>standard_level</td>\n",
       "      <td>4124</td>\n",
       "      <td>UFA</td>\n",
       "      <td>current</td>\n",
       "      <td>2021-2022</td>\n",
       "      <td>2006.0</td>\n",
       "      <td>63999996</td>\n",
       "    </tr>\n",
       "  </tbody>\n",
       "</table>\n",
       "</div>"
      ],
      "text/plain": [
       "   player_id first_name last_name    position birthdate     season  team_id  \\\n",
       "0        103    Roberto    Luongo  Goaltender    4/4/79  2015-2016     14.0   \n",
       "1        103    Roberto    Luongo  Goaltender    4/4/79  2016-2017     14.0   \n",
       "2        103    Roberto    Luongo  Goaltender    4/4/79  2017-2018     14.0   \n",
       "3        103    Roberto    Luongo  Goaltender    4/4/79  2018-2019     14.0   \n",
       "4        103    Roberto    Luongo  Goaltender    4/4/79  2019-2020     14.0   \n",
       "\n",
       "  team_name  cap_hit  active signing_date signing_team  length  \\\n",
       "0  Panthers  5333333     1.0       9/2/09          NaN      12   \n",
       "1  Panthers  5333333     1.0       9/2/09          NaN      12   \n",
       "2  Panthers  5333333     1.0       9/2/09          NaN      12   \n",
       "3  Panthers  5333333     1.0       9/2/09          NaN      12   \n",
       "4  Panthers  5333333     1.0       9/2/09          NaN      12   \n",
       "\n",
       "   contract_level  contract_id expiry_status contract_type contract_end  \\\n",
       "0  standard_level         4124           UFA       current    2021-2022   \n",
       "1  standard_level         4124           UFA       current    2021-2022   \n",
       "2  standard_level         4124           UFA       current    2021-2022   \n",
       "3  standard_level         4124           UFA       current    2021-2022   \n",
       "4  standard_level         4124           UFA       current    2021-2022   \n",
       "\n",
       "   ufa_year  total_value  \n",
       "0    2006.0     63999996  \n",
       "1    2006.0     63999996  \n",
       "2    2006.0     63999996  \n",
       "3    2006.0     63999996  \n",
       "4    2006.0     63999996  "
      ]
     },
     "execution_count": 83,
     "metadata": {},
     "output_type": "execute_result"
    }
   ],
   "source": [
    "df.head()"
   ]
  },
  {
   "cell_type": "code",
   "execution_count": 34,
   "metadata": {},
   "outputs": [
    {
     "name": "stdout",
     "output_type": "stream",
     "text": [
      "<class 'str'>\n",
      "1/28/09\n"
     ]
    }
   ],
   "source": [
    "print(type(df.signing_date[0]))\n",
    "print(df.signing_date[140])"
   ]
  },
  {
   "cell_type": "code",
   "execution_count": 84,
   "metadata": {},
   "outputs": [],
   "source": [
    "df.signing_date = pd.to_datetime(df.signing_date)"
   ]
  },
  {
   "cell_type": "code",
   "execution_count": 119,
   "metadata": {},
   "outputs": [],
   "source": [
    "df.birthdate = pd.to_datetime(df.birthdate)"
   ]
  },
  {
   "cell_type": "code",
   "execution_count": 120,
   "metadata": {},
   "outputs": [
    {
     "data": {
      "text/html": [
       "<div>\n",
       "<style scoped>\n",
       "    .dataframe tbody tr th:only-of-type {\n",
       "        vertical-align: middle;\n",
       "    }\n",
       "\n",
       "    .dataframe tbody tr th {\n",
       "        vertical-align: top;\n",
       "    }\n",
       "\n",
       "    .dataframe thead th {\n",
       "        text-align: right;\n",
       "    }\n",
       "</style>\n",
       "<table border=\"1\" class=\"dataframe\">\n",
       "  <thead>\n",
       "    <tr style=\"text-align: right;\">\n",
       "      <th></th>\n",
       "      <th>player_id</th>\n",
       "      <th>first_name</th>\n",
       "      <th>last_name</th>\n",
       "      <th>position</th>\n",
       "      <th>birthdate</th>\n",
       "      <th>season</th>\n",
       "      <th>team_id</th>\n",
       "      <th>team_name</th>\n",
       "      <th>cap_hit</th>\n",
       "      <th>active</th>\n",
       "      <th>...</th>\n",
       "      <th>length</th>\n",
       "      <th>contract_level</th>\n",
       "      <th>contract_id</th>\n",
       "      <th>expiry_status</th>\n",
       "      <th>contract_type</th>\n",
       "      <th>contract_end</th>\n",
       "      <th>ufa_year</th>\n",
       "      <th>total_value</th>\n",
       "      <th>signing_year</th>\n",
       "      <th>signing_year_cap</th>\n",
       "    </tr>\n",
       "  </thead>\n",
       "  <tbody>\n",
       "    <tr>\n",
       "      <th>0</th>\n",
       "      <td>103</td>\n",
       "      <td>Roberto</td>\n",
       "      <td>Luongo</td>\n",
       "      <td>Goaltender</td>\n",
       "      <td>1979-04-04</td>\n",
       "      <td>2015-2016</td>\n",
       "      <td>14.0</td>\n",
       "      <td>Panthers</td>\n",
       "      <td>5333333</td>\n",
       "      <td>1.0</td>\n",
       "      <td>...</td>\n",
       "      <td>12</td>\n",
       "      <td>standard_level</td>\n",
       "      <td>4124</td>\n",
       "      <td>UFA</td>\n",
       "      <td>current</td>\n",
       "      <td>2021-2022</td>\n",
       "      <td>2006.0</td>\n",
       "      <td>63999996</td>\n",
       "      <td>2009</td>\n",
       "      <td>56800000</td>\n",
       "    </tr>\n",
       "    <tr>\n",
       "      <th>1</th>\n",
       "      <td>103</td>\n",
       "      <td>Roberto</td>\n",
       "      <td>Luongo</td>\n",
       "      <td>Goaltender</td>\n",
       "      <td>1979-04-04</td>\n",
       "      <td>2016-2017</td>\n",
       "      <td>14.0</td>\n",
       "      <td>Panthers</td>\n",
       "      <td>5333333</td>\n",
       "      <td>1.0</td>\n",
       "      <td>...</td>\n",
       "      <td>12</td>\n",
       "      <td>standard_level</td>\n",
       "      <td>4124</td>\n",
       "      <td>UFA</td>\n",
       "      <td>current</td>\n",
       "      <td>2021-2022</td>\n",
       "      <td>2006.0</td>\n",
       "      <td>63999996</td>\n",
       "      <td>2009</td>\n",
       "      <td>56800000</td>\n",
       "    </tr>\n",
       "    <tr>\n",
       "      <th>2</th>\n",
       "      <td>103</td>\n",
       "      <td>Roberto</td>\n",
       "      <td>Luongo</td>\n",
       "      <td>Goaltender</td>\n",
       "      <td>1979-04-04</td>\n",
       "      <td>2017-2018</td>\n",
       "      <td>14.0</td>\n",
       "      <td>Panthers</td>\n",
       "      <td>5333333</td>\n",
       "      <td>1.0</td>\n",
       "      <td>...</td>\n",
       "      <td>12</td>\n",
       "      <td>standard_level</td>\n",
       "      <td>4124</td>\n",
       "      <td>UFA</td>\n",
       "      <td>current</td>\n",
       "      <td>2021-2022</td>\n",
       "      <td>2006.0</td>\n",
       "      <td>63999996</td>\n",
       "      <td>2009</td>\n",
       "      <td>56800000</td>\n",
       "    </tr>\n",
       "    <tr>\n",
       "      <th>3</th>\n",
       "      <td>103</td>\n",
       "      <td>Roberto</td>\n",
       "      <td>Luongo</td>\n",
       "      <td>Goaltender</td>\n",
       "      <td>1979-04-04</td>\n",
       "      <td>2018-2019</td>\n",
       "      <td>14.0</td>\n",
       "      <td>Panthers</td>\n",
       "      <td>5333333</td>\n",
       "      <td>1.0</td>\n",
       "      <td>...</td>\n",
       "      <td>12</td>\n",
       "      <td>standard_level</td>\n",
       "      <td>4124</td>\n",
       "      <td>UFA</td>\n",
       "      <td>current</td>\n",
       "      <td>2021-2022</td>\n",
       "      <td>2006.0</td>\n",
       "      <td>63999996</td>\n",
       "      <td>2009</td>\n",
       "      <td>56800000</td>\n",
       "    </tr>\n",
       "    <tr>\n",
       "      <th>4</th>\n",
       "      <td>103</td>\n",
       "      <td>Roberto</td>\n",
       "      <td>Luongo</td>\n",
       "      <td>Goaltender</td>\n",
       "      <td>1979-04-04</td>\n",
       "      <td>2019-2020</td>\n",
       "      <td>14.0</td>\n",
       "      <td>Panthers</td>\n",
       "      <td>5333333</td>\n",
       "      <td>1.0</td>\n",
       "      <td>...</td>\n",
       "      <td>12</td>\n",
       "      <td>standard_level</td>\n",
       "      <td>4124</td>\n",
       "      <td>UFA</td>\n",
       "      <td>current</td>\n",
       "      <td>2021-2022</td>\n",
       "      <td>2006.0</td>\n",
       "      <td>63999996</td>\n",
       "      <td>2009</td>\n",
       "      <td>56800000</td>\n",
       "    </tr>\n",
       "  </tbody>\n",
       "</table>\n",
       "<p>5 rows × 22 columns</p>\n",
       "</div>"
      ],
      "text/plain": [
       "   player_id first_name last_name    position  birthdate     season  team_id  \\\n",
       "0        103    Roberto    Luongo  Goaltender 1979-04-04  2015-2016     14.0   \n",
       "1        103    Roberto    Luongo  Goaltender 1979-04-04  2016-2017     14.0   \n",
       "2        103    Roberto    Luongo  Goaltender 1979-04-04  2017-2018     14.0   \n",
       "3        103    Roberto    Luongo  Goaltender 1979-04-04  2018-2019     14.0   \n",
       "4        103    Roberto    Luongo  Goaltender 1979-04-04  2019-2020     14.0   \n",
       "\n",
       "  team_name  cap_hit  active        ...        length  contract_level  \\\n",
       "0  Panthers  5333333     1.0        ...            12  standard_level   \n",
       "1  Panthers  5333333     1.0        ...            12  standard_level   \n",
       "2  Panthers  5333333     1.0        ...            12  standard_level   \n",
       "3  Panthers  5333333     1.0        ...            12  standard_level   \n",
       "4  Panthers  5333333     1.0        ...            12  standard_level   \n",
       "\n",
       "   contract_id expiry_status  contract_type contract_end ufa_year total_value  \\\n",
       "0         4124           UFA        current    2021-2022   2006.0    63999996   \n",
       "1         4124           UFA        current    2021-2022   2006.0    63999996   \n",
       "2         4124           UFA        current    2021-2022   2006.0    63999996   \n",
       "3         4124           UFA        current    2021-2022   2006.0    63999996   \n",
       "4         4124           UFA        current    2021-2022   2006.0    63999996   \n",
       "\n",
       "   signing_year  signing_year_cap  \n",
       "0          2009          56800000  \n",
       "1          2009          56800000  \n",
       "2          2009          56800000  \n",
       "3          2009          56800000  \n",
       "4          2009          56800000  \n",
       "\n",
       "[5 rows x 22 columns]"
      ]
     },
     "execution_count": 120,
     "metadata": {},
     "output_type": "execute_result"
    }
   ],
   "source": [
    "df.head()"
   ]
  },
  {
   "cell_type": "code",
   "execution_count": 88,
   "metadata": {},
   "outputs": [],
   "source": [
    "df['signing_year'] = pd.DatetimeIndex(df.signing_date).year"
   ]
  },
  {
   "cell_type": "code",
   "execution_count": 91,
   "metadata": {},
   "outputs": [
    {
     "data": {
      "text/plain": [
       "2017.0    1568\n",
       "2018.0    1516\n",
       "2016.0    1412\n",
       "2015.0    1186\n",
       "2014.0     691\n",
       "2013.0     430\n",
       "2012.0     200\n",
       "2019.0     161\n",
       "2011.0      55\n",
       "2009.0      37\n",
       "2010.0      29\n",
       "2008.0       8\n",
       "Name: signing_year, dtype: int64"
      ]
     },
     "execution_count": 91,
     "metadata": {},
     "output_type": "execute_result"
    }
   ],
   "source": [
    "df.signing_year.value_counts()"
   ]
  },
  {
   "cell_type": "code",
   "execution_count": 102,
   "metadata": {},
   "outputs": [
    {
     "data": {
      "text/html": [
       "<div>\n",
       "<style scoped>\n",
       "    .dataframe tbody tr th:only-of-type {\n",
       "        vertical-align: middle;\n",
       "    }\n",
       "\n",
       "    .dataframe tbody tr th {\n",
       "        vertical-align: top;\n",
       "    }\n",
       "\n",
       "    .dataframe thead th {\n",
       "        text-align: right;\n",
       "    }\n",
       "</style>\n",
       "<table border=\"1\" class=\"dataframe\">\n",
       "  <thead>\n",
       "    <tr style=\"text-align: right;\">\n",
       "      <th></th>\n",
       "      <th>player_id</th>\n",
       "      <th>first_name</th>\n",
       "      <th>last_name</th>\n",
       "      <th>position</th>\n",
       "      <th>birthdate</th>\n",
       "      <th>season</th>\n",
       "      <th>team_id</th>\n",
       "      <th>team_name</th>\n",
       "      <th>cap_hit</th>\n",
       "      <th>active</th>\n",
       "      <th>...</th>\n",
       "      <th>signing_team</th>\n",
       "      <th>length</th>\n",
       "      <th>contract_level</th>\n",
       "      <th>contract_id</th>\n",
       "      <th>expiry_status</th>\n",
       "      <th>contract_type</th>\n",
       "      <th>contract_end</th>\n",
       "      <th>ufa_year</th>\n",
       "      <th>total_value</th>\n",
       "      <th>signing_year</th>\n",
       "    </tr>\n",
       "  </thead>\n",
       "  <tbody>\n",
       "  </tbody>\n",
       "</table>\n",
       "<p>0 rows × 21 columns</p>\n",
       "</div>"
      ],
      "text/plain": [
       "Empty DataFrame\n",
       "Columns: [player_id, first_name, last_name, position, birthdate, season, team_id, team_name, cap_hit, active, signing_date, signing_team, length, contract_level, contract_id, expiry_status, contract_type, contract_end, ufa_year, total_value, signing_year]\n",
       "Index: []\n",
       "\n",
       "[0 rows x 21 columns]"
      ]
     },
     "execution_count": 102,
     "metadata": {},
     "output_type": "execute_result"
    }
   ],
   "source": [
    "df[df.signing_year.isnull()]"
   ]
  },
  {
   "cell_type": "code",
   "execution_count": 101,
   "metadata": {},
   "outputs": [],
   "source": [
    "df.drop(6991, axis=0, inplace=True)"
   ]
  },
  {
   "cell_type": "code",
   "execution_count": 112,
   "metadata": {},
   "outputs": [],
   "source": [
    "df.signing_year = df.signing_year.apply(int)"
   ]
  },
  {
   "cell_type": "code",
   "execution_count": null,
   "metadata": {},
   "outputs": [],
   "source": [
    "#get length of players on all rosters\n",
    "#unique combos of first/last names in contracts?\n"
   ]
  },
  {
   "cell_type": "code",
   "execution_count": 42,
   "metadata": {},
   "outputs": [
    {
     "data": {
      "text/plain": [
       "'5333333'"
      ]
     },
     "execution_count": 42,
     "metadata": {},
     "output_type": "execute_result"
    }
   ],
   "source": [
    "'$5,333,333'.replace(',', '').strip('$')"
   ]
  },
  {
   "cell_type": "code",
   "execution_count": 113,
   "metadata": {},
   "outputs": [],
   "source": [
    "scap = {\n",
    "        2005: 39000000, \n",
    "        2006: 44000000, \n",
    "        2007: 50300000,\n",
    "        2008: 56700000,\n",
    "        2009: 56800000,\n",
    "        2010: 59400000,\n",
    "        2011: 64300000,\n",
    "        2012: 60000000,\n",
    "        2013: 64300000,\n",
    "        2014: 69000000,\n",
    "        2015: 71400000,\n",
    "        2016: 73000000,\n",
    "        2017: 75000000,\n",
    "        2018: 79500000,\n",
    "        2019: 83000000,\n",
    "       }"
   ]
  },
  {
   "cell_type": "code",
   "execution_count": 115,
   "metadata": {},
   "outputs": [],
   "source": [
    "df['signing_year_cap'] = df['signing_year'].apply(lambda x: scap[x])"
   ]
  },
  {
   "cell_type": "code",
   "execution_count": 130,
   "metadata": {},
   "outputs": [
    {
     "data": {
      "text/html": [
       "<div>\n",
       "<style scoped>\n",
       "    .dataframe tbody tr th:only-of-type {\n",
       "        vertical-align: middle;\n",
       "    }\n",
       "\n",
       "    .dataframe tbody tr th {\n",
       "        vertical-align: top;\n",
       "    }\n",
       "\n",
       "    .dataframe thead th {\n",
       "        text-align: right;\n",
       "    }\n",
       "</style>\n",
       "<table border=\"1\" class=\"dataframe\">\n",
       "  <thead>\n",
       "    <tr style=\"text-align: right;\">\n",
       "      <th></th>\n",
       "      <th>player_id</th>\n",
       "      <th>first_name</th>\n",
       "      <th>last_name</th>\n",
       "      <th>position</th>\n",
       "      <th>birthdate</th>\n",
       "      <th>season</th>\n",
       "      <th>team_id</th>\n",
       "      <th>team_name</th>\n",
       "      <th>cap_hit</th>\n",
       "      <th>active</th>\n",
       "      <th>...</th>\n",
       "      <th>contract_level</th>\n",
       "      <th>contract_id</th>\n",
       "      <th>expiry_status</th>\n",
       "      <th>contract_type</th>\n",
       "      <th>contract_end</th>\n",
       "      <th>ufa_year</th>\n",
       "      <th>total_value</th>\n",
       "      <th>signing_year</th>\n",
       "      <th>signing_year_cap</th>\n",
       "      <th>signing_age</th>\n",
       "    </tr>\n",
       "  </thead>\n",
       "  <tbody>\n",
       "    <tr>\n",
       "      <th>2354</th>\n",
       "      <td>3974</td>\n",
       "      <td>John</td>\n",
       "      <td>Ramage</td>\n",
       "      <td>Defense</td>\n",
       "      <td>1991-02-07</td>\n",
       "      <td>2018-2019</td>\n",
       "      <td>13.0</td>\n",
       "      <td>Devils</td>\n",
       "      <td>650000</td>\n",
       "      <td>0.0</td>\n",
       "      <td>...</td>\n",
       "      <td>standard_level</td>\n",
       "      <td>4402</td>\n",
       "      <td>UFA</td>\n",
       "      <td>current</td>\n",
       "      <td>2018-2019</td>\n",
       "      <td>2018.0</td>\n",
       "      <td>650000</td>\n",
       "      <td>2018</td>\n",
       "      <td>79500000</td>\n",
       "      <td>1997-05-25</td>\n",
       "    </tr>\n",
       "    <tr>\n",
       "      <th>2376</th>\n",
       "      <td>3993</td>\n",
       "      <td>Chris</td>\n",
       "      <td>Wagner</td>\n",
       "      <td>Right Wing</td>\n",
       "      <td>1991-05-27</td>\n",
       "      <td>2016-2017</td>\n",
       "      <td>3.0</td>\n",
       "      <td>Bruins</td>\n",
       "      <td>637500</td>\n",
       "      <td>1.0</td>\n",
       "      <td>...</td>\n",
       "      <td>standard_level</td>\n",
       "      <td>2800</td>\n",
       "      <td>UFA</td>\n",
       "      <td>history</td>\n",
       "      <td>2017-2018</td>\n",
       "      <td>2018.0</td>\n",
       "      <td>1275000</td>\n",
       "      <td>2016</td>\n",
       "      <td>73000000</td>\n",
       "      <td>1994-11-07</td>\n",
       "    </tr>\n",
       "    <tr>\n",
       "      <th>1530</th>\n",
       "      <td>3347</td>\n",
       "      <td>Ryan</td>\n",
       "      <td>O'Reilly</td>\n",
       "      <td>Center</td>\n",
       "      <td>1991-02-07</td>\n",
       "      <td>2020-2021</td>\n",
       "      <td>16.0</td>\n",
       "      <td>Blues</td>\n",
       "      <td>7500000</td>\n",
       "      <td>1.0</td>\n",
       "      <td>...</td>\n",
       "      <td>standard_level</td>\n",
       "      <td>121</td>\n",
       "      <td>UFA</td>\n",
       "      <td>current</td>\n",
       "      <td>2022-2023</td>\n",
       "      <td>2017.0</td>\n",
       "      <td>52500000</td>\n",
       "      <td>2015</td>\n",
       "      <td>71400000</td>\n",
       "      <td>1994-05-27</td>\n",
       "    </tr>\n",
       "    <tr>\n",
       "      <th>2722</th>\n",
       "      <td>4370</td>\n",
       "      <td>Ryan</td>\n",
       "      <td>Nugent-Hopkins</td>\n",
       "      <td>Center</td>\n",
       "      <td>1993-04-12</td>\n",
       "      <td>2017-2018</td>\n",
       "      <td>24.0</td>\n",
       "      <td>Oilers</td>\n",
       "      <td>6000000</td>\n",
       "      <td>1.0</td>\n",
       "      <td>...</td>\n",
       "      <td>standard_level</td>\n",
       "      <td>3109</td>\n",
       "      <td>UFA</td>\n",
       "      <td>current</td>\n",
       "      <td>2020-2021</td>\n",
       "      <td>2018.0</td>\n",
       "      <td>42000000</td>\n",
       "      <td>2013</td>\n",
       "      <td>64300000</td>\n",
       "      <td>1990-06-10</td>\n",
       "    </tr>\n",
       "    <tr>\n",
       "      <th>3583</th>\n",
       "      <td>4832</td>\n",
       "      <td>Jordan</td>\n",
       "      <td>Martinook</td>\n",
       "      <td>Left Wing</td>\n",
       "      <td>1992-07-25</td>\n",
       "      <td>2016-2017</td>\n",
       "      <td>5.0</td>\n",
       "      <td>Hurricanes</td>\n",
       "      <td>612500</td>\n",
       "      <td>1.0</td>\n",
       "      <td>...</td>\n",
       "      <td>standard_level</td>\n",
       "      <td>2896</td>\n",
       "      <td>RFA</td>\n",
       "      <td>history</td>\n",
       "      <td>2016-2017</td>\n",
       "      <td>2020.0</td>\n",
       "      <td>1225000</td>\n",
       "      <td>2015</td>\n",
       "      <td>71400000</td>\n",
       "      <td>1992-12-26</td>\n",
       "    </tr>\n",
       "    <tr>\n",
       "      <th>5215</th>\n",
       "      <td>6356</td>\n",
       "      <td>Dean</td>\n",
       "      <td>Kukan</td>\n",
       "      <td>Defense</td>\n",
       "      <td>1993-07-08</td>\n",
       "      <td>2017-2018</td>\n",
       "      <td>30.0</td>\n",
       "      <td>Blue Jackets</td>\n",
       "      <td>700000</td>\n",
       "      <td>1.0</td>\n",
       "      <td>...</td>\n",
       "      <td>standard_level</td>\n",
       "      <td>1189</td>\n",
       "      <td>RFA</td>\n",
       "      <td>history</td>\n",
       "      <td>2017-2018</td>\n",
       "      <td>2021.0</td>\n",
       "      <td>700000</td>\n",
       "      <td>2017</td>\n",
       "      <td>75000000</td>\n",
       "      <td>1993-12-03</td>\n",
       "    </tr>\n",
       "    <tr>\n",
       "      <th>3550</th>\n",
       "      <td>4817</td>\n",
       "      <td>Ludwig</td>\n",
       "      <td>Bystrom</td>\n",
       "      <td>Defense</td>\n",
       "      <td>1994-07-20</td>\n",
       "      <td>2015-2016</td>\n",
       "      <td>14.0</td>\n",
       "      <td>Panthers</td>\n",
       "      <td>775000</td>\n",
       "      <td>NaN</td>\n",
       "      <td>...</td>\n",
       "      <td>entry_level</td>\n",
       "      <td>2234</td>\n",
       "      <td>RFA</td>\n",
       "      <td>history</td>\n",
       "      <td>2016-2017</td>\n",
       "      <td>2022.0</td>\n",
       "      <td>2775000</td>\n",
       "      <td>2012</td>\n",
       "      <td>60000000</td>\n",
       "      <td>1987-12-29</td>\n",
       "    </tr>\n",
       "    <tr>\n",
       "      <th>4509</th>\n",
       "      <td>5781</td>\n",
       "      <td>Merrick</td>\n",
       "      <td>Madsen</td>\n",
       "      <td>Goaltender</td>\n",
       "      <td>1995-08-22</td>\n",
       "      <td>2018-2019</td>\n",
       "      <td>19.0</td>\n",
       "      <td>Coyotes</td>\n",
       "      <td>767500</td>\n",
       "      <td>NaN</td>\n",
       "      <td>...</td>\n",
       "      <td>entry_level</td>\n",
       "      <td>4819</td>\n",
       "      <td>RFA</td>\n",
       "      <td>current</td>\n",
       "      <td>2019-2020</td>\n",
       "      <td>2023.0</td>\n",
       "      <td>1535000</td>\n",
       "      <td>2018</td>\n",
       "      <td>79500000</td>\n",
       "      <td>1992-07-30</td>\n",
       "    </tr>\n",
       "    <tr>\n",
       "      <th>6365</th>\n",
       "      <td>16811</td>\n",
       "      <td>Zack</td>\n",
       "      <td>MacEwen</td>\n",
       "      <td>Center</td>\n",
       "      <td>1996-07-08</td>\n",
       "      <td>2018-2019</td>\n",
       "      <td>26.0</td>\n",
       "      <td>Canucks</td>\n",
       "      <td>847500</td>\n",
       "      <td>NaN</td>\n",
       "      <td>...</td>\n",
       "      <td>entry_level</td>\n",
       "      <td>3541</td>\n",
       "      <td>RFA</td>\n",
       "      <td>current</td>\n",
       "      <td>2019-2020</td>\n",
       "      <td>2024.0</td>\n",
       "      <td>2987500</td>\n",
       "      <td>2017</td>\n",
       "      <td>75000000</td>\n",
       "      <td>1990-08-27</td>\n",
       "    </tr>\n",
       "    <tr>\n",
       "      <th>895</th>\n",
       "      <td>2529</td>\n",
       "      <td>Thomas</td>\n",
       "      <td>Hickey</td>\n",
       "      <td>Defense</td>\n",
       "      <td>1989-02-08</td>\n",
       "      <td>2021-2022</td>\n",
       "      <td>4.0</td>\n",
       "      <td>Islanders</td>\n",
       "      <td>2500000</td>\n",
       "      <td>1.0</td>\n",
       "      <td>...</td>\n",
       "      <td>standard_level</td>\n",
       "      <td>4324</td>\n",
       "      <td>UFA</td>\n",
       "      <td>current</td>\n",
       "      <td>2021-2022</td>\n",
       "      <td>2016.0</td>\n",
       "      <td>10000000</td>\n",
       "      <td>2018</td>\n",
       "      <td>79500000</td>\n",
       "      <td>1999-05-24</td>\n",
       "    </tr>\n",
       "  </tbody>\n",
       "</table>\n",
       "<p>10 rows × 23 columns</p>\n",
       "</div>"
      ],
      "text/plain": [
       "      player_id first_name       last_name    position  birthdate     season  \\\n",
       "2354       3974       John          Ramage     Defense 1991-02-07  2018-2019   \n",
       "2376       3993      Chris          Wagner  Right Wing 1991-05-27  2016-2017   \n",
       "1530       3347       Ryan        O'Reilly      Center 1991-02-07  2020-2021   \n",
       "2722       4370       Ryan  Nugent-Hopkins      Center 1993-04-12  2017-2018   \n",
       "3583       4832     Jordan       Martinook   Left Wing 1992-07-25  2016-2017   \n",
       "5215       6356       Dean           Kukan     Defense 1993-07-08  2017-2018   \n",
       "3550       4817     Ludwig         Bystrom     Defense 1994-07-20  2015-2016   \n",
       "4509       5781    Merrick          Madsen  Goaltender 1995-08-22  2018-2019   \n",
       "6365      16811       Zack         MacEwen      Center 1996-07-08  2018-2019   \n",
       "895        2529     Thomas          Hickey     Defense 1989-02-08  2021-2022   \n",
       "\n",
       "      team_id     team_name  cap_hit  active     ...       contract_level  \\\n",
       "2354     13.0        Devils   650000     0.0     ...       standard_level   \n",
       "2376      3.0        Bruins   637500     1.0     ...       standard_level   \n",
       "1530     16.0         Blues  7500000     1.0     ...       standard_level   \n",
       "2722     24.0        Oilers  6000000     1.0     ...       standard_level   \n",
       "3583      5.0    Hurricanes   612500     1.0     ...       standard_level   \n",
       "5215     30.0  Blue Jackets   700000     1.0     ...       standard_level   \n",
       "3550     14.0      Panthers   775000     NaN     ...          entry_level   \n",
       "4509     19.0       Coyotes   767500     NaN     ...          entry_level   \n",
       "6365     26.0       Canucks   847500     NaN     ...          entry_level   \n",
       "895       4.0     Islanders  2500000     1.0     ...       standard_level   \n",
       "\n",
       "     contract_id  expiry_status contract_type  contract_end ufa_year  \\\n",
       "2354        4402            UFA       current     2018-2019   2018.0   \n",
       "2376        2800            UFA       history     2017-2018   2018.0   \n",
       "1530         121            UFA       current     2022-2023   2017.0   \n",
       "2722        3109            UFA       current     2020-2021   2018.0   \n",
       "3583        2896            RFA       history     2016-2017   2020.0   \n",
       "5215        1189            RFA       history     2017-2018   2021.0   \n",
       "3550        2234            RFA       history     2016-2017   2022.0   \n",
       "4509        4819            RFA       current     2019-2020   2023.0   \n",
       "6365        3541            RFA       current     2019-2020   2024.0   \n",
       "895         4324            UFA       current     2021-2022   2016.0   \n",
       "\n",
       "     total_value signing_year  signing_year_cap  signing_age  \n",
       "2354      650000         2018          79500000   1997-05-25  \n",
       "2376     1275000         2016          73000000   1994-11-07  \n",
       "1530    52500000         2015          71400000   1994-05-27  \n",
       "2722    42000000         2013          64300000   1990-06-10  \n",
       "3583     1225000         2015          71400000   1992-12-26  \n",
       "5215      700000         2017          75000000   1993-12-03  \n",
       "3550     2775000         2012          60000000   1987-12-29  \n",
       "4509     1535000         2018          79500000   1992-07-30  \n",
       "6365     2987500         2017          75000000   1990-08-27  \n",
       "895     10000000         2018          79500000   1999-05-24  \n",
       "\n",
       "[10 rows x 23 columns]"
      ]
     },
     "execution_count": 130,
     "metadata": {},
     "output_type": "execute_result"
    }
   ],
   "source": [
    "df.sample(10)"
   ]
  },
  {
   "cell_type": "code",
   "execution_count": 135,
   "metadata": {},
   "outputs": [],
   "source": [
    "df['signing_age'] = df.signing_date - df.birthdate"
   ]
  },
  {
   "cell_type": "code",
   "execution_count": 148,
   "metadata": {},
   "outputs": [
    {
     "data": {
      "text/plain": [
       "30"
      ]
     },
     "execution_count": 148,
     "metadata": {},
     "output_type": "execute_result"
    }
   ],
   "source": [
    "df.signing_age[0]"
   ]
  },
  {
   "cell_type": "code",
   "execution_count": 145,
   "metadata": {},
   "outputs": [],
   "source": [
    "df.signing_age = df.signing_age.apply(lambda x: x.days // 365)"
   ]
  },
  {
   "cell_type": "code",
   "execution_count": 138,
   "metadata": {},
   "outputs": [
    {
     "data": {
      "text/plain": [
       "30"
      ]
     },
     "execution_count": 138,
     "metadata": {},
     "output_type": "execute_result"
    }
   ],
   "source": [
    "11109//365"
   ]
  },
  {
   "cell_type": "code",
   "execution_count": 147,
   "metadata": {},
   "outputs": [
    {
     "data": {
      "text/plain": [
       "0    30\n",
       "1    30\n",
       "2    30\n",
       "3    30\n",
       "4    30\n",
       "5    30\n",
       "6    30\n",
       "7    33\n",
       "8    33\n",
       "9    36\n",
       "Name: signing_age, dtype: int64"
      ]
     },
     "execution_count": 147,
     "metadata": {},
     "output_type": "execute_result"
    }
   ],
   "source": [
    "df.signing_age[:10]"
   ]
  },
  {
   "cell_type": "code",
   "execution_count": 171,
   "metadata": {},
   "outputs": [
    {
     "data": {
      "text/html": [
       "<div>\n",
       "<style scoped>\n",
       "    .dataframe tbody tr th:only-of-type {\n",
       "        vertical-align: middle;\n",
       "    }\n",
       "\n",
       "    .dataframe tbody tr th {\n",
       "        vertical-align: top;\n",
       "    }\n",
       "\n",
       "    .dataframe thead th {\n",
       "        text-align: right;\n",
       "    }\n",
       "</style>\n",
       "<table border=\"1\" class=\"dataframe\">\n",
       "  <thead>\n",
       "    <tr style=\"text-align: right;\">\n",
       "      <th></th>\n",
       "      <th>player_id</th>\n",
       "      <th>first_name</th>\n",
       "      <th>last_name</th>\n",
       "      <th>position</th>\n",
       "      <th>birthdate</th>\n",
       "      <th>season</th>\n",
       "      <th>team_id</th>\n",
       "      <th>team_name</th>\n",
       "      <th>cap_hit</th>\n",
       "      <th>active</th>\n",
       "      <th>...</th>\n",
       "      <th>contract_level</th>\n",
       "      <th>contract_id</th>\n",
       "      <th>expiry_status</th>\n",
       "      <th>contract_type</th>\n",
       "      <th>contract_end</th>\n",
       "      <th>ufa_year</th>\n",
       "      <th>total_value</th>\n",
       "      <th>signing_year</th>\n",
       "      <th>signing_year_cap</th>\n",
       "      <th>signing_age</th>\n",
       "    </tr>\n",
       "  </thead>\n",
       "  <tbody>\n",
       "    <tr>\n",
       "      <th>0</th>\n",
       "      <td>103</td>\n",
       "      <td>Roberto</td>\n",
       "      <td>Luongo</td>\n",
       "      <td>Goaltender</td>\n",
       "      <td>1979-04-04</td>\n",
       "      <td>2015</td>\n",
       "      <td>14.0</td>\n",
       "      <td>Panthers</td>\n",
       "      <td>5333333</td>\n",
       "      <td>1.0</td>\n",
       "      <td>...</td>\n",
       "      <td>standard_level</td>\n",
       "      <td>4124</td>\n",
       "      <td>UFA</td>\n",
       "      <td>current</td>\n",
       "      <td>2021-2022</td>\n",
       "      <td>2006.0</td>\n",
       "      <td>63999996</td>\n",
       "      <td>2009</td>\n",
       "      <td>56800000</td>\n",
       "      <td>30</td>\n",
       "    </tr>\n",
       "    <tr>\n",
       "      <th>1</th>\n",
       "      <td>103</td>\n",
       "      <td>Roberto</td>\n",
       "      <td>Luongo</td>\n",
       "      <td>Goaltender</td>\n",
       "      <td>1979-04-04</td>\n",
       "      <td>2016</td>\n",
       "      <td>14.0</td>\n",
       "      <td>Panthers</td>\n",
       "      <td>5333333</td>\n",
       "      <td>1.0</td>\n",
       "      <td>...</td>\n",
       "      <td>standard_level</td>\n",
       "      <td>4124</td>\n",
       "      <td>UFA</td>\n",
       "      <td>current</td>\n",
       "      <td>2021-2022</td>\n",
       "      <td>2006.0</td>\n",
       "      <td>63999996</td>\n",
       "      <td>2009</td>\n",
       "      <td>56800000</td>\n",
       "      <td>30</td>\n",
       "    </tr>\n",
       "    <tr>\n",
       "      <th>2</th>\n",
       "      <td>103</td>\n",
       "      <td>Roberto</td>\n",
       "      <td>Luongo</td>\n",
       "      <td>Goaltender</td>\n",
       "      <td>1979-04-04</td>\n",
       "      <td>2017</td>\n",
       "      <td>14.0</td>\n",
       "      <td>Panthers</td>\n",
       "      <td>5333333</td>\n",
       "      <td>1.0</td>\n",
       "      <td>...</td>\n",
       "      <td>standard_level</td>\n",
       "      <td>4124</td>\n",
       "      <td>UFA</td>\n",
       "      <td>current</td>\n",
       "      <td>2021-2022</td>\n",
       "      <td>2006.0</td>\n",
       "      <td>63999996</td>\n",
       "      <td>2009</td>\n",
       "      <td>56800000</td>\n",
       "      <td>30</td>\n",
       "    </tr>\n",
       "    <tr>\n",
       "      <th>3</th>\n",
       "      <td>103</td>\n",
       "      <td>Roberto</td>\n",
       "      <td>Luongo</td>\n",
       "      <td>Goaltender</td>\n",
       "      <td>1979-04-04</td>\n",
       "      <td>2018</td>\n",
       "      <td>14.0</td>\n",
       "      <td>Panthers</td>\n",
       "      <td>5333333</td>\n",
       "      <td>1.0</td>\n",
       "      <td>...</td>\n",
       "      <td>standard_level</td>\n",
       "      <td>4124</td>\n",
       "      <td>UFA</td>\n",
       "      <td>current</td>\n",
       "      <td>2021-2022</td>\n",
       "      <td>2006.0</td>\n",
       "      <td>63999996</td>\n",
       "      <td>2009</td>\n",
       "      <td>56800000</td>\n",
       "      <td>30</td>\n",
       "    </tr>\n",
       "    <tr>\n",
       "      <th>4</th>\n",
       "      <td>103</td>\n",
       "      <td>Roberto</td>\n",
       "      <td>Luongo</td>\n",
       "      <td>Goaltender</td>\n",
       "      <td>1979-04-04</td>\n",
       "      <td>2019</td>\n",
       "      <td>14.0</td>\n",
       "      <td>Panthers</td>\n",
       "      <td>5333333</td>\n",
       "      <td>1.0</td>\n",
       "      <td>...</td>\n",
       "      <td>standard_level</td>\n",
       "      <td>4124</td>\n",
       "      <td>UFA</td>\n",
       "      <td>current</td>\n",
       "      <td>2021-2022</td>\n",
       "      <td>2006.0</td>\n",
       "      <td>63999996</td>\n",
       "      <td>2009</td>\n",
       "      <td>56800000</td>\n",
       "      <td>30</td>\n",
       "    </tr>\n",
       "  </tbody>\n",
       "</table>\n",
       "<p>5 rows × 23 columns</p>\n",
       "</div>"
      ],
      "text/plain": [
       "   player_id first_name last_name    position  birthdate  season  team_id  \\\n",
       "0        103    Roberto    Luongo  Goaltender 1979-04-04    2015     14.0   \n",
       "1        103    Roberto    Luongo  Goaltender 1979-04-04    2016     14.0   \n",
       "2        103    Roberto    Luongo  Goaltender 1979-04-04    2017     14.0   \n",
       "3        103    Roberto    Luongo  Goaltender 1979-04-04    2018     14.0   \n",
       "4        103    Roberto    Luongo  Goaltender 1979-04-04    2019     14.0   \n",
       "\n",
       "  team_name  cap_hit  active     ...       contract_level contract_id  \\\n",
       "0  Panthers  5333333     1.0     ...       standard_level        4124   \n",
       "1  Panthers  5333333     1.0     ...       standard_level        4124   \n",
       "2  Panthers  5333333     1.0     ...       standard_level        4124   \n",
       "3  Panthers  5333333     1.0     ...       standard_level        4124   \n",
       "4  Panthers  5333333     1.0     ...       standard_level        4124   \n",
       "\n",
       "   expiry_status contract_type  contract_end ufa_year total_value  \\\n",
       "0            UFA       current     2021-2022   2006.0    63999996   \n",
       "1            UFA       current     2021-2022   2006.0    63999996   \n",
       "2            UFA       current     2021-2022   2006.0    63999996   \n",
       "3            UFA       current     2021-2022   2006.0    63999996   \n",
       "4            UFA       current     2021-2022   2006.0    63999996   \n",
       "\n",
       "  signing_year  signing_year_cap  signing_age  \n",
       "0         2009          56800000           30  \n",
       "1         2009          56800000           30  \n",
       "2         2009          56800000           30  \n",
       "3         2009          56800000           30  \n",
       "4         2009          56800000           30  \n",
       "\n",
       "[5 rows x 23 columns]"
      ]
     },
     "execution_count": 171,
     "metadata": {},
     "output_type": "execute_result"
    }
   ],
   "source": [
    "df.head()"
   ]
  },
  {
   "cell_type": "code",
   "execution_count": 170,
   "metadata": {},
   "outputs": [],
   "source": [
    "df.season = df.season.apply(lambda x: int(x[:4]))"
   ]
  },
  {
   "cell_type": "code",
   "execution_count": 181,
   "metadata": {},
   "outputs": [],
   "source": [
    "df.contract_end = df.contract_end.apply(lambda x: int(x[:4]))"
   ]
  },
  {
   "cell_type": "code",
   "execution_count": 176,
   "metadata": {},
   "outputs": [
    {
     "data": {
      "text/plain": [
       "3     2710\n",
       "2     1451\n",
       "1      935\n",
       "6      509\n",
       "5      494\n",
       "4      464\n",
       "8      336\n",
       "7      287\n",
       "13      34\n",
       "12      29\n",
       "10      21\n",
       "11      12\n",
       "14      11\n",
       "Name: length, dtype: int64"
      ]
     },
     "execution_count": 176,
     "metadata": {},
     "output_type": "execute_result"
    }
   ],
   "source": [
    "df.length.value_counts()"
   ]
  },
  {
   "cell_type": "code",
   "execution_count": 182,
   "metadata": {},
   "outputs": [
    {
     "data": {
      "text/plain": [
       "2018    1432\n",
       "2019    1260\n",
       "2017    1113\n",
       "2020    1043\n",
       "2016     722\n",
       "2021     607\n",
       "2015     382\n",
       "2022     252\n",
       "2023     169\n",
       "2024     168\n",
       "2025      81\n",
       "2026      64\n",
       "Name: contract_end, dtype: int64"
      ]
     },
     "execution_count": 182,
     "metadata": {},
     "output_type": "execute_result"
    }
   ],
   "source": [
    "df.contract_end.value_counts()"
   ]
  },
  {
   "cell_type": "code",
   "execution_count": 183,
   "metadata": {},
   "outputs": [
    {
     "data": {
      "text/plain": [
       "0"
      ]
     },
     "execution_count": 183,
     "metadata": {},
     "output_type": "execute_result"
    }
   ],
   "source": [
    "df.contract_end.isnull().sum()"
   ]
  },
  {
   "cell_type": "code",
   "execution_count": 186,
   "metadata": {},
   "outputs": [],
   "source": [
    "def ufa_year_int(x):\n",
    "    if type(x) != int:\n",
    "        return x\n",
    "    else:\n",
    "        return int(x)"
   ]
  },
  {
   "cell_type": "code",
   "execution_count": 187,
   "metadata": {},
   "outputs": [],
   "source": [
    "df.ufa_year = df.ufa_year.apply(ufa_year_int)"
   ]
  },
  {
   "cell_type": "code",
   "execution_count": null,
   "metadata": {},
   "outputs": [],
   "source": [
    "df.drop()"
   ]
  },
  {
   "cell_type": "code",
   "execution_count": 189,
   "metadata": {},
   "outputs": [
    {
     "data": {
      "text/plain": [
       "12"
      ]
     },
     "execution_count": 189,
     "metadata": {},
     "output_type": "execute_result"
    }
   ],
   "source": [
    "df.ufa_year.isnull().sum()"
   ]
  },
  {
   "cell_type": "code",
   "execution_count": 198,
   "metadata": {},
   "outputs": [],
   "source": [
    "df.drop(df[df.first_name.map(len) > 15].index, inplace=True)"
   ]
  },
  {
   "cell_type": "code",
   "execution_count": 202,
   "metadata": {},
   "outputs": [],
   "source": [
    "df.drop(df[df.ufa_year > 2030].index, inplace = True)"
   ]
  },
  {
   "cell_type": "code",
   "execution_count": 203,
   "metadata": {},
   "outputs": [],
   "source": [
    "df.drop(df[df.ufa_year.isnull()].index, inplace=True)"
   ]
  },
  {
   "cell_type": "code",
   "execution_count": 205,
   "metadata": {},
   "outputs": [],
   "source": [
    "df.ufa_year = df.ufa_year.apply(int)"
   ]
  },
  {
   "cell_type": "code",
   "execution_count": 207,
   "metadata": {},
   "outputs": [
    {
     "data": {
      "text/plain": [
       "RFA              3608\n",
       "UFA              3496\n",
       "UFA (Group 6)      69\n",
       "UFA (NO QO)        65\n",
       "UFA no QO          30\n",
       "Name: expiry_status, dtype: int64"
      ]
     },
     "execution_count": 207,
     "metadata": {},
     "output_type": "execute_result"
    }
   ],
   "source": [
    "df.expiry_status.value_counts()"
   ]
  },
  {
   "cell_type": "code",
   "execution_count": 212,
   "metadata": {},
   "outputs": [
    {
     "name": "stdout",
     "output_type": "stream",
     "text": [
      "<class 'pandas.core.frame.DataFrame'>\n",
      "Int64Index: 7268 entries, 0 to 7290\n",
      "Data columns (total 23 columns):\n",
      "player_id           7268 non-null int64\n",
      "first_name          7268 non-null object\n",
      "last_name           7268 non-null object\n",
      "position            7268 non-null object\n",
      "birthdate           7268 non-null datetime64[ns]\n",
      "season              7268 non-null int64\n",
      "team_id             6773 non-null float64\n",
      "team_name           6770 non-null object\n",
      "cap_hit             7268 non-null int64\n",
      "active              5421 non-null float64\n",
      "signing_date        7268 non-null datetime64[ns]\n",
      "signing_team        5318 non-null object\n",
      "length              7268 non-null int64\n",
      "contract_level      7268 non-null object\n",
      "contract_id         7268 non-null int64\n",
      "expiry_status       7268 non-null object\n",
      "contract_type       7268 non-null object\n",
      "contract_end        7268 non-null int64\n",
      "ufa_year            7268 non-null int64\n",
      "total_value         7268 non-null int64\n",
      "signing_year        7268 non-null int64\n",
      "signing_year_cap    7268 non-null int64\n",
      "signing_age         7268 non-null int64\n",
      "dtypes: datetime64[ns](2), float64(2), int64(11), object(8)\n",
      "memory usage: 1.3+ MB\n"
     ]
    }
   ],
   "source": [
    "df.info()"
   ]
  },
  {
   "cell_type": "code",
   "execution_count": 224,
   "metadata": {},
   "outputs": [],
   "source": [
    "df.drop(df[df.cap_hit < 500000].index, inplace=True)"
   ]
  },
  {
   "cell_type": "code",
   "execution_count": 225,
   "metadata": {},
   "outputs": [],
   "source": [
    "dfun = df.groupby('contract_id').head(1)"
   ]
  },
  {
   "cell_type": "code",
   "execution_count": 226,
   "metadata": {},
   "outputs": [
    {
     "data": {
      "text/html": [
       "<div>\n",
       "<style scoped>\n",
       "    .dataframe tbody tr th:only-of-type {\n",
       "        vertical-align: middle;\n",
       "    }\n",
       "\n",
       "    .dataframe tbody tr th {\n",
       "        vertical-align: top;\n",
       "    }\n",
       "\n",
       "    .dataframe thead th {\n",
       "        text-align: right;\n",
       "    }\n",
       "</style>\n",
       "<table border=\"1\" class=\"dataframe\">\n",
       "  <thead>\n",
       "    <tr style=\"text-align: right;\">\n",
       "      <th></th>\n",
       "      <th>player_id</th>\n",
       "      <th>first_name</th>\n",
       "      <th>last_name</th>\n",
       "      <th>position</th>\n",
       "      <th>birthdate</th>\n",
       "      <th>season</th>\n",
       "      <th>team_id</th>\n",
       "      <th>team_name</th>\n",
       "      <th>cap_hit</th>\n",
       "      <th>active</th>\n",
       "      <th>...</th>\n",
       "      <th>contract_level</th>\n",
       "      <th>contract_id</th>\n",
       "      <th>expiry_status</th>\n",
       "      <th>contract_type</th>\n",
       "      <th>contract_end</th>\n",
       "      <th>ufa_year</th>\n",
       "      <th>total_value</th>\n",
       "      <th>signing_year</th>\n",
       "      <th>signing_year_cap</th>\n",
       "      <th>signing_age</th>\n",
       "    </tr>\n",
       "  </thead>\n",
       "  <tbody>\n",
       "    <tr>\n",
       "      <th>0</th>\n",
       "      <td>103</td>\n",
       "      <td>Roberto</td>\n",
       "      <td>Luongo</td>\n",
       "      <td>Goaltender</td>\n",
       "      <td>1979-04-04</td>\n",
       "      <td>2015</td>\n",
       "      <td>14.0</td>\n",
       "      <td>Panthers</td>\n",
       "      <td>5333333</td>\n",
       "      <td>1.0</td>\n",
       "      <td>...</td>\n",
       "      <td>standard_level</td>\n",
       "      <td>4124</td>\n",
       "      <td>UFA</td>\n",
       "      <td>current</td>\n",
       "      <td>2021</td>\n",
       "      <td>2006</td>\n",
       "      <td>63999996</td>\n",
       "      <td>2009</td>\n",
       "      <td>56800000</td>\n",
       "      <td>30</td>\n",
       "    </tr>\n",
       "    <tr>\n",
       "      <th>7</th>\n",
       "      <td>155</td>\n",
       "      <td>Ryan</td>\n",
       "      <td>Miller</td>\n",
       "      <td>Goaltender</td>\n",
       "      <td>1980-07-17</td>\n",
       "      <td>2015</td>\n",
       "      <td>25.0</td>\n",
       "      <td>Ducks</td>\n",
       "      <td>6000000</td>\n",
       "      <td>1.0</td>\n",
       "      <td>...</td>\n",
       "      <td>standard_level</td>\n",
       "      <td>2837</td>\n",
       "      <td>UFA</td>\n",
       "      <td>history</td>\n",
       "      <td>2016</td>\n",
       "      <td>2008</td>\n",
       "      <td>18000000</td>\n",
       "      <td>2014</td>\n",
       "      <td>69000000</td>\n",
       "      <td>33</td>\n",
       "    </tr>\n",
       "    <tr>\n",
       "      <th>9</th>\n",
       "      <td>155</td>\n",
       "      <td>Ryan</td>\n",
       "      <td>Miller</td>\n",
       "      <td>Goaltender</td>\n",
       "      <td>1980-07-17</td>\n",
       "      <td>2017</td>\n",
       "      <td>25.0</td>\n",
       "      <td>Ducks</td>\n",
       "      <td>2000000</td>\n",
       "      <td>1.0</td>\n",
       "      <td>...</td>\n",
       "      <td>standard_level</td>\n",
       "      <td>2832</td>\n",
       "      <td>UFA</td>\n",
       "      <td>current</td>\n",
       "      <td>2018</td>\n",
       "      <td>2008</td>\n",
       "      <td>4000000</td>\n",
       "      <td>2017</td>\n",
       "      <td>75000000</td>\n",
       "      <td>36</td>\n",
       "    </tr>\n",
       "    <tr>\n",
       "      <th>11</th>\n",
       "      <td>156</td>\n",
       "      <td>Craig</td>\n",
       "      <td>Anderson</td>\n",
       "      <td>Goaltender</td>\n",
       "      <td>1981-05-21</td>\n",
       "      <td>2015</td>\n",
       "      <td>9.0</td>\n",
       "      <td>Senators</td>\n",
       "      <td>4200000</td>\n",
       "      <td>1.0</td>\n",
       "      <td>...</td>\n",
       "      <td>standard_level</td>\n",
       "      <td>4078</td>\n",
       "      <td>UFA</td>\n",
       "      <td>history</td>\n",
       "      <td>2017</td>\n",
       "      <td>2008</td>\n",
       "      <td>12600000</td>\n",
       "      <td>2014</td>\n",
       "      <td>69000000</td>\n",
       "      <td>33</td>\n",
       "    </tr>\n",
       "    <tr>\n",
       "      <th>14</th>\n",
       "      <td>156</td>\n",
       "      <td>Craig</td>\n",
       "      <td>Anderson</td>\n",
       "      <td>Goaltender</td>\n",
       "      <td>1981-05-21</td>\n",
       "      <td>2018</td>\n",
       "      <td>9.0</td>\n",
       "      <td>Senators</td>\n",
       "      <td>4750000</td>\n",
       "      <td>1.0</td>\n",
       "      <td>...</td>\n",
       "      <td>standard_level</td>\n",
       "      <td>4079</td>\n",
       "      <td>UFA</td>\n",
       "      <td>current</td>\n",
       "      <td>2019</td>\n",
       "      <td>2008</td>\n",
       "      <td>9500000</td>\n",
       "      <td>2017</td>\n",
       "      <td>75000000</td>\n",
       "      <td>36</td>\n",
       "    </tr>\n",
       "  </tbody>\n",
       "</table>\n",
       "<p>5 rows × 23 columns</p>\n",
       "</div>"
      ],
      "text/plain": [
       "    player_id first_name last_name    position  birthdate  season  team_id  \\\n",
       "0         103    Roberto    Luongo  Goaltender 1979-04-04    2015     14.0   \n",
       "7         155       Ryan    Miller  Goaltender 1980-07-17    2015     25.0   \n",
       "9         155       Ryan    Miller  Goaltender 1980-07-17    2017     25.0   \n",
       "11        156      Craig  Anderson  Goaltender 1981-05-21    2015      9.0   \n",
       "14        156      Craig  Anderson  Goaltender 1981-05-21    2018      9.0   \n",
       "\n",
       "   team_name  cap_hit  active     ...       contract_level contract_id  \\\n",
       "0   Panthers  5333333     1.0     ...       standard_level        4124   \n",
       "7      Ducks  6000000     1.0     ...       standard_level        2837   \n",
       "9      Ducks  2000000     1.0     ...       standard_level        2832   \n",
       "11  Senators  4200000     1.0     ...       standard_level        4078   \n",
       "14  Senators  4750000     1.0     ...       standard_level        4079   \n",
       "\n",
       "    expiry_status contract_type  contract_end ufa_year total_value  \\\n",
       "0             UFA       current          2021     2006    63999996   \n",
       "7             UFA       history          2016     2008    18000000   \n",
       "9             UFA       current          2018     2008     4000000   \n",
       "11            UFA       history          2017     2008    12600000   \n",
       "14            UFA       current          2019     2008     9500000   \n",
       "\n",
       "    signing_year  signing_year_cap  signing_age  \n",
       "0           2009          56800000           30  \n",
       "7           2014          69000000           33  \n",
       "9           2017          75000000           36  \n",
       "11          2014          69000000           33  \n",
       "14          2017          75000000           36  \n",
       "\n",
       "[5 rows x 23 columns]"
      ]
     },
     "execution_count": 226,
     "metadata": {},
     "output_type": "execute_result"
    }
   ],
   "source": [
    "dfun.head()"
   ]
  },
  {
   "cell_type": "code",
   "execution_count": 227,
   "metadata": {},
   "outputs": [
    {
     "data": {
      "text/plain": [
       "(3080, 23)"
      ]
     },
     "execution_count": 227,
     "metadata": {},
     "output_type": "execute_result"
    }
   ],
   "source": [
    "dfun.shape"
   ]
  },
  {
   "cell_type": "code",
   "execution_count": 228,
   "metadata": {},
   "outputs": [],
   "source": [
    "df.replace(['RW', 'LW'], ['Right Wing', 'Left Wing'], inplace=True)"
   ]
  },
  {
   "cell_type": "code",
   "execution_count": 229,
   "metadata": {},
   "outputs": [],
   "source": [
    "df.drop(df[df.contract_level == 'entry_level'].index, inplace=True)"
   ]
  },
  {
   "cell_type": "code",
   "execution_count": 231,
   "metadata": {},
   "outputs": [
    {
     "data": {
      "text/plain": [
       "standard_level    4328\n",
       "Name: contract_level, dtype: int64"
      ]
     },
     "execution_count": 231,
     "metadata": {},
     "output_type": "execute_result"
    }
   ],
   "source": [
    "df.contract_level.value_counts()"
   ]
  },
  {
   "cell_type": "code",
   "execution_count": 230,
   "metadata": {},
   "outputs": [
    {
     "data": {
      "text/plain": [
       "(4328, 23)"
      ]
     },
     "execution_count": 230,
     "metadata": {},
     "output_type": "execute_result"
    }
   ],
   "source": [
    "df.shape"
   ]
  },
  {
   "cell_type": "code",
   "execution_count": 234,
   "metadata": {},
   "outputs": [],
   "source": [
    "df['cap_pct'] = round(100 * df.cap_hit / df.signing_year_cap, 2)"
   ]
  },
  {
   "cell_type": "code",
   "execution_count": 236,
   "metadata": {},
   "outputs": [
    {
     "data": {
      "text/html": [
       "<div>\n",
       "<style scoped>\n",
       "    .dataframe tbody tr th:only-of-type {\n",
       "        vertical-align: middle;\n",
       "    }\n",
       "\n",
       "    .dataframe tbody tr th {\n",
       "        vertical-align: top;\n",
       "    }\n",
       "\n",
       "    .dataframe thead th {\n",
       "        text-align: right;\n",
       "    }\n",
       "</style>\n",
       "<table border=\"1\" class=\"dataframe\">\n",
       "  <thead>\n",
       "    <tr style=\"text-align: right;\">\n",
       "      <th></th>\n",
       "      <th>player_id</th>\n",
       "      <th>first_name</th>\n",
       "      <th>last_name</th>\n",
       "      <th>position</th>\n",
       "      <th>birthdate</th>\n",
       "      <th>season</th>\n",
       "      <th>team_id</th>\n",
       "      <th>team_name</th>\n",
       "      <th>cap_hit</th>\n",
       "      <th>active</th>\n",
       "      <th>...</th>\n",
       "      <th>contract_id</th>\n",
       "      <th>expiry_status</th>\n",
       "      <th>contract_type</th>\n",
       "      <th>contract_end</th>\n",
       "      <th>ufa_year</th>\n",
       "      <th>total_value</th>\n",
       "      <th>signing_year</th>\n",
       "      <th>signing_year_cap</th>\n",
       "      <th>signing_age</th>\n",
       "      <th>cap_pct</th>\n",
       "    </tr>\n",
       "  </thead>\n",
       "  <tbody>\n",
       "    <tr>\n",
       "      <th>2246</th>\n",
       "      <td>3916</td>\n",
       "      <td>Ryan</td>\n",
       "      <td>Spooner</td>\n",
       "      <td>Center</td>\n",
       "      <td>1992-01-30</td>\n",
       "      <td>2019</td>\n",
       "      <td>26.0</td>\n",
       "      <td>Canucks</td>\n",
       "      <td>4000000</td>\n",
       "      <td>1.0</td>\n",
       "      <td>...</td>\n",
       "      <td>4566</td>\n",
       "      <td>UFA</td>\n",
       "      <td>current</td>\n",
       "      <td>2019</td>\n",
       "      <td>2019</td>\n",
       "      <td>8000000</td>\n",
       "      <td>2018</td>\n",
       "      <td>79500000</td>\n",
       "      <td>26</td>\n",
       "      <td>5.03</td>\n",
       "    </tr>\n",
       "    <tr>\n",
       "      <th>692</th>\n",
       "      <td>2043</td>\n",
       "      <td>Keith</td>\n",
       "      <td>Yandle</td>\n",
       "      <td>Defense</td>\n",
       "      <td>1986-09-09</td>\n",
       "      <td>2015</td>\n",
       "      <td>14.0</td>\n",
       "      <td>Panthers</td>\n",
       "      <td>5250000</td>\n",
       "      <td>1.0</td>\n",
       "      <td>...</td>\n",
       "      <td>430</td>\n",
       "      <td>UFA</td>\n",
       "      <td>history</td>\n",
       "      <td>2015</td>\n",
       "      <td>2014</td>\n",
       "      <td>26250000</td>\n",
       "      <td>2011</td>\n",
       "      <td>64300000</td>\n",
       "      <td>24</td>\n",
       "      <td>8.16</td>\n",
       "    </tr>\n",
       "    <tr>\n",
       "      <th>828</th>\n",
       "      <td>2486</td>\n",
       "      <td>Andrew</td>\n",
       "      <td>MacDonald</td>\n",
       "      <td>Defense</td>\n",
       "      <td>1986-09-07</td>\n",
       "      <td>2016</td>\n",
       "      <td>12.0</td>\n",
       "      <td>Flyers</td>\n",
       "      <td>5000000</td>\n",
       "      <td>1.0</td>\n",
       "      <td>...</td>\n",
       "      <td>1589</td>\n",
       "      <td>UFA</td>\n",
       "      <td>current</td>\n",
       "      <td>2019</td>\n",
       "      <td>2014</td>\n",
       "      <td>30000000</td>\n",
       "      <td>2014</td>\n",
       "      <td>69000000</td>\n",
       "      <td>27</td>\n",
       "      <td>7.25</td>\n",
       "    </tr>\n",
       "    <tr>\n",
       "      <th>123</th>\n",
       "      <td>630</td>\n",
       "      <td>Ron</td>\n",
       "      <td>Hainsey</td>\n",
       "      <td>Defense</td>\n",
       "      <td>1981-03-24</td>\n",
       "      <td>2018</td>\n",
       "      <td>8.0</td>\n",
       "      <td>Maple Leafs</td>\n",
       "      <td>3000000</td>\n",
       "      <td>1.0</td>\n",
       "      <td>...</td>\n",
       "      <td>921</td>\n",
       "      <td>UFA</td>\n",
       "      <td>current</td>\n",
       "      <td>2018</td>\n",
       "      <td>2008</td>\n",
       "      <td>6000000</td>\n",
       "      <td>2017</td>\n",
       "      <td>75000000</td>\n",
       "      <td>36</td>\n",
       "      <td>4.00</td>\n",
       "    </tr>\n",
       "    <tr>\n",
       "      <th>4388</th>\n",
       "      <td>5709</td>\n",
       "      <td>Carter</td>\n",
       "      <td>Verhaeghe</td>\n",
       "      <td>Left Wing</td>\n",
       "      <td>1995-08-14</td>\n",
       "      <td>2018</td>\n",
       "      <td>17.0</td>\n",
       "      <td>Lightning</td>\n",
       "      <td>650000</td>\n",
       "      <td>NaN</td>\n",
       "      <td>...</td>\n",
       "      <td>4769</td>\n",
       "      <td>RFA</td>\n",
       "      <td>current</td>\n",
       "      <td>2018</td>\n",
       "      <td>2023</td>\n",
       "      <td>650000</td>\n",
       "      <td>2018</td>\n",
       "      <td>79500000</td>\n",
       "      <td>22</td>\n",
       "      <td>0.82</td>\n",
       "    </tr>\n",
       "    <tr>\n",
       "      <th>4693</th>\n",
       "      <td>6041</td>\n",
       "      <td>Jake</td>\n",
       "      <td>Virtanen</td>\n",
       "      <td>Right Wing</td>\n",
       "      <td>1996-08-17</td>\n",
       "      <td>2019</td>\n",
       "      <td>26.0</td>\n",
       "      <td>Canucks</td>\n",
       "      <td>1250000</td>\n",
       "      <td>1.0</td>\n",
       "      <td>...</td>\n",
       "      <td>4553</td>\n",
       "      <td>RFA</td>\n",
       "      <td>current</td>\n",
       "      <td>2019</td>\n",
       "      <td>2023</td>\n",
       "      <td>2500000</td>\n",
       "      <td>2018</td>\n",
       "      <td>79500000</td>\n",
       "      <td>21</td>\n",
       "      <td>1.57</td>\n",
       "    </tr>\n",
       "    <tr>\n",
       "      <th>659</th>\n",
       "      <td>1909</td>\n",
       "      <td>Kris</td>\n",
       "      <td>Letang</td>\n",
       "      <td>Defense</td>\n",
       "      <td>1987-04-24</td>\n",
       "      <td>2015</td>\n",
       "      <td>7.0</td>\n",
       "      <td>Penguins</td>\n",
       "      <td>7250000</td>\n",
       "      <td>1.0</td>\n",
       "      <td>...</td>\n",
       "      <td>1716</td>\n",
       "      <td>UFA</td>\n",
       "      <td>current</td>\n",
       "      <td>2021</td>\n",
       "      <td>2014</td>\n",
       "      <td>58000000</td>\n",
       "      <td>2013</td>\n",
       "      <td>64300000</td>\n",
       "      <td>26</td>\n",
       "      <td>11.28</td>\n",
       "    </tr>\n",
       "  </tbody>\n",
       "</table>\n",
       "<p>7 rows × 24 columns</p>\n",
       "</div>"
      ],
      "text/plain": [
       "      player_id first_name  last_name    position  birthdate  season  team_id  \\\n",
       "2246       3916       Ryan    Spooner      Center 1992-01-30    2019     26.0   \n",
       "692        2043      Keith     Yandle     Defense 1986-09-09    2015     14.0   \n",
       "828        2486     Andrew  MacDonald     Defense 1986-09-07    2016     12.0   \n",
       "123         630        Ron    Hainsey     Defense 1981-03-24    2018      8.0   \n",
       "4388       5709     Carter  Verhaeghe   Left Wing 1995-08-14    2018     17.0   \n",
       "4693       6041       Jake   Virtanen  Right Wing 1996-08-17    2019     26.0   \n",
       "659        1909       Kris     Letang     Defense 1987-04-24    2015      7.0   \n",
       "\n",
       "        team_name  cap_hit  active   ...    contract_id expiry_status  \\\n",
       "2246      Canucks  4000000     1.0   ...           4566           UFA   \n",
       "692      Panthers  5250000     1.0   ...            430           UFA   \n",
       "828        Flyers  5000000     1.0   ...           1589           UFA   \n",
       "123   Maple Leafs  3000000     1.0   ...            921           UFA   \n",
       "4388    Lightning   650000     NaN   ...           4769           RFA   \n",
       "4693      Canucks  1250000     1.0   ...           4553           RFA   \n",
       "659      Penguins  7250000     1.0   ...           1716           UFA   \n",
       "\n",
       "      contract_type contract_end  ufa_year total_value signing_year  \\\n",
       "2246        current         2019      2019     8000000         2018   \n",
       "692         history         2015      2014    26250000         2011   \n",
       "828         current         2019      2014    30000000         2014   \n",
       "123         current         2018      2008     6000000         2017   \n",
       "4388        current         2018      2023      650000         2018   \n",
       "4693        current         2019      2023     2500000         2018   \n",
       "659         current         2021      2014    58000000         2013   \n",
       "\n",
       "      signing_year_cap  signing_age  cap_pct  \n",
       "2246          79500000           26     5.03  \n",
       "692           64300000           24     8.16  \n",
       "828           69000000           27     7.25  \n",
       "123           75000000           36     4.00  \n",
       "4388          79500000           22     0.82  \n",
       "4693          79500000           21     1.57  \n",
       "659           64300000           26    11.28  \n",
       "\n",
       "[7 rows x 24 columns]"
      ]
     },
     "execution_count": 236,
     "metadata": {},
     "output_type": "execute_result"
    }
   ],
   "source": [
    "df.sample(7)"
   ]
  },
  {
   "cell_type": "code",
   "execution_count": null,
   "metadata": {},
   "outputs": [],
   "source": []
  },
  {
   "cell_type": "code",
   "execution_count": 152,
   "metadata": {},
   "outputs": [
    {
     "data": {
      "text/plain": [
       "Defense       2336\n",
       "Center        1900\n",
       "Left Wing     1182\n",
       "Right Wing    1123\n",
       "Goaltender     744\n",
       "LW               4\n",
       "RW               4\n",
       "Name: position, dtype: int64"
      ]
     },
     "execution_count": 152,
     "metadata": {},
     "output_type": "execute_result"
    }
   ],
   "source": [
    "df.position.value_counts()"
   ]
  },
  {
   "cell_type": "code",
   "execution_count": 168,
   "metadata": {},
   "outputs": [
    {
     "data": {
      "text/html": [
       "<div>\n",
       "<style scoped>\n",
       "    .dataframe tbody tr th:only-of-type {\n",
       "        vertical-align: middle;\n",
       "    }\n",
       "\n",
       "    .dataframe tbody tr th {\n",
       "        vertical-align: top;\n",
       "    }\n",
       "\n",
       "    .dataframe thead th {\n",
       "        text-align: right;\n",
       "    }\n",
       "</style>\n",
       "<table border=\"1\" class=\"dataframe\">\n",
       "  <thead>\n",
       "    <tr style=\"text-align: right;\">\n",
       "      <th></th>\n",
       "      <th>player_id</th>\n",
       "      <th>first_name</th>\n",
       "      <th>last_name</th>\n",
       "      <th>position</th>\n",
       "      <th>birthdate</th>\n",
       "      <th>season</th>\n",
       "      <th>team_id</th>\n",
       "      <th>team_name</th>\n",
       "      <th>cap_hit</th>\n",
       "      <th>active</th>\n",
       "      <th>...</th>\n",
       "      <th>contract_level</th>\n",
       "      <th>contract_id</th>\n",
       "      <th>expiry_status</th>\n",
       "      <th>contract_type</th>\n",
       "      <th>contract_end</th>\n",
       "      <th>ufa_year</th>\n",
       "      <th>total_value</th>\n",
       "      <th>signing_year</th>\n",
       "      <th>signing_year_cap</th>\n",
       "      <th>signing_age</th>\n",
       "    </tr>\n",
       "  </thead>\n",
       "  <tbody>\n",
       "    <tr>\n",
       "      <th>6985</th>\n",
       "      <td>17545</td>\n",
       "      <td>Alexander</td>\n",
       "      <td>Semin</td>\n",
       "      <td>RW</td>\n",
       "      <td>1984-03-03</td>\n",
       "      <td>2015-2016</td>\n",
       "      <td>NaN</td>\n",
       "      <td>NaN</td>\n",
       "      <td>1100000</td>\n",
       "      <td>NaN</td>\n",
       "      <td>...</td>\n",
       "      <td>standard_level</td>\n",
       "      <td>4258</td>\n",
       "      <td>UFA</td>\n",
       "      <td>history</td>\n",
       "      <td>2015-2016</td>\n",
       "      <td>2011.0</td>\n",
       "      <td>1100000</td>\n",
       "      <td>2015</td>\n",
       "      <td>71400000</td>\n",
       "      <td>31</td>\n",
       "    </tr>\n",
       "    <tr>\n",
       "      <th>6986</th>\n",
       "      <td>17545</td>\n",
       "      <td>Alexander</td>\n",
       "      <td>Semin</td>\n",
       "      <td>RW</td>\n",
       "      <td>1984-03-03</td>\n",
       "      <td>2015-2016</td>\n",
       "      <td>NaN</td>\n",
       "      <td>NaN</td>\n",
       "      <td>7000000</td>\n",
       "      <td>NaN</td>\n",
       "      <td>...</td>\n",
       "      <td>standard_level</td>\n",
       "      <td>4257</td>\n",
       "      <td>UFA</td>\n",
       "      <td>history</td>\n",
       "      <td>2017-2018</td>\n",
       "      <td>2011.0</td>\n",
       "      <td>35000000</td>\n",
       "      <td>2013</td>\n",
       "      <td>64300000</td>\n",
       "      <td>29</td>\n",
       "    </tr>\n",
       "    <tr>\n",
       "      <th>6987</th>\n",
       "      <td>17545</td>\n",
       "      <td>Alexander</td>\n",
       "      <td>Semin</td>\n",
       "      <td>RW</td>\n",
       "      <td>1984-03-03</td>\n",
       "      <td>2016-2017</td>\n",
       "      <td>NaN</td>\n",
       "      <td>NaN</td>\n",
       "      <td>7000000</td>\n",
       "      <td>NaN</td>\n",
       "      <td>...</td>\n",
       "      <td>standard_level</td>\n",
       "      <td>4257</td>\n",
       "      <td>UFA</td>\n",
       "      <td>history</td>\n",
       "      <td>2017-2018</td>\n",
       "      <td>2011.0</td>\n",
       "      <td>35000000</td>\n",
       "      <td>2013</td>\n",
       "      <td>64300000</td>\n",
       "      <td>29</td>\n",
       "    </tr>\n",
       "    <tr>\n",
       "      <th>6988</th>\n",
       "      <td>17545</td>\n",
       "      <td>Alexander</td>\n",
       "      <td>Semin</td>\n",
       "      <td>RW</td>\n",
       "      <td>1984-03-03</td>\n",
       "      <td>2017-2018</td>\n",
       "      <td>NaN</td>\n",
       "      <td>NaN</td>\n",
       "      <td>7000000</td>\n",
       "      <td>NaN</td>\n",
       "      <td>...</td>\n",
       "      <td>standard_level</td>\n",
       "      <td>4257</td>\n",
       "      <td>UFA</td>\n",
       "      <td>history</td>\n",
       "      <td>2017-2018</td>\n",
       "      <td>2011.0</td>\n",
       "      <td>35000000</td>\n",
       "      <td>2013</td>\n",
       "      <td>64300000</td>\n",
       "      <td>29</td>\n",
       "    </tr>\n",
       "  </tbody>\n",
       "</table>\n",
       "<p>4 rows × 23 columns</p>\n",
       "</div>"
      ],
      "text/plain": [
       "      player_id first_name last_name position  birthdate     season  team_id  \\\n",
       "6985      17545  Alexander     Semin       RW 1984-03-03  2015-2016      NaN   \n",
       "6986      17545  Alexander     Semin       RW 1984-03-03  2015-2016      NaN   \n",
       "6987      17545  Alexander     Semin       RW 1984-03-03  2016-2017      NaN   \n",
       "6988      17545  Alexander     Semin       RW 1984-03-03  2017-2018      NaN   \n",
       "\n",
       "     team_name  cap_hit  active     ...       contract_level contract_id  \\\n",
       "6985       NaN  1100000     NaN     ...       standard_level        4258   \n",
       "6986       NaN  7000000     NaN     ...       standard_level        4257   \n",
       "6987       NaN  7000000     NaN     ...       standard_level        4257   \n",
       "6988       NaN  7000000     NaN     ...       standard_level        4257   \n",
       "\n",
       "      expiry_status contract_type  contract_end ufa_year total_value  \\\n",
       "6985            UFA       history     2015-2016   2011.0     1100000   \n",
       "6986            UFA       history     2017-2018   2011.0    35000000   \n",
       "6987            UFA       history     2017-2018   2011.0    35000000   \n",
       "6988            UFA       history     2017-2018   2011.0    35000000   \n",
       "\n",
       "     signing_year  signing_year_cap  signing_age  \n",
       "6985         2015          71400000           31  \n",
       "6986         2013          64300000           29  \n",
       "6987         2013          64300000           29  \n",
       "6988         2013          64300000           29  \n",
       "\n",
       "[4 rows x 23 columns]"
      ]
     },
     "execution_count": 168,
     "metadata": {},
     "output_type": "execute_result"
    }
   ],
   "source": [
    "df[df.position == 'RW']"
   ]
  },
  {
   "cell_type": "code",
   "execution_count": 208,
   "metadata": {},
   "outputs": [
    {
     "data": {
      "text/plain": [
       "1950"
      ]
     },
     "execution_count": 208,
     "metadata": {},
     "output_type": "execute_result"
    }
   ],
   "source": [
    "df.signing_team.isnull().sum()"
   ]
  },
  {
   "cell_type": "code",
   "execution_count": 211,
   "metadata": {},
   "outputs": [
    {
     "data": {
      "text/plain": [
       "(5318, Columbus Blue Jackets    215\n",
       " Boston Bruins            203\n",
       " Nashville Predators      202\n",
       " Anaheim Ducks            201\n",
       " Tampa Bay Lightning      196\n",
       " Los Angeles Kings        191\n",
       " Philadelphia Flyers      190\n",
       " New York Islanders       190\n",
       " Toronto Maple Leafs      189\n",
       " Vancouver Canucks        188\n",
       " St. Louis Blues          188\n",
       " New Jersey Devils        180\n",
       " Washington Capitals      179\n",
       " Montreal Canadiens       176\n",
       " Detroit Red Wings        173\n",
       " Florida Panthers         173\n",
       " Chicago Blackhawks       172\n",
       " Ottawa Senators          170\n",
       " Edmonton Oilers          165\n",
       " San Jose Sharks          164\n",
       " Minnesota Wild           163\n",
       " Pittsburgh Penguins      163\n",
       " Dallas Stars             162\n",
       " Arizona Coyotes          160\n",
       " Winnipeg Jets            155\n",
       " Colorado Avalanche       154\n",
       " Calgary Flames           153\n",
       " New York Rangers         152\n",
       " Carolina Hurricanes      151\n",
       " Buffalo Sabres           138\n",
       " Vegas Golden Knights      60\n",
       " Atlanta Thrashers          2\n",
       " Name: signing_team, dtype: int64)"
      ]
     },
     "execution_count": 211,
     "metadata": {},
     "output_type": "execute_result"
    }
   ],
   "source": [
    "df.signing_team.value_counts().sum(), df.signing_team.value_counts()"
   ]
  },
  {
   "cell_type": "code",
   "execution_count": 158,
   "metadata": {},
   "outputs": [],
   "source": [
    "dfd = df[df.position == 'Defense']"
   ]
  },
  {
   "cell_type": "code",
   "execution_count": 164,
   "metadata": {},
   "outputs": [],
   "source": [
    "dff = df[(df.position == 'Center') | (df.position == 'Left Wing') | \n",
    "         (df.position == 'Right Wing')]"
   ]
  },
  {
   "cell_type": "code",
   "execution_count": 261,
   "metadata": {},
   "outputs": [
    {
     "data": {
      "text/html": [
       "<div>\n",
       "<style scoped>\n",
       "    .dataframe tbody tr th:only-of-type {\n",
       "        vertical-align: middle;\n",
       "    }\n",
       "\n",
       "    .dataframe tbody tr th {\n",
       "        vertical-align: top;\n",
       "    }\n",
       "\n",
       "    .dataframe thead th {\n",
       "        text-align: right;\n",
       "    }\n",
       "</style>\n",
       "<table border=\"1\" class=\"dataframe\">\n",
       "  <thead>\n",
       "    <tr style=\"text-align: right;\">\n",
       "      <th></th>\n",
       "      <th>player_id</th>\n",
       "      <th>first_name</th>\n",
       "      <th>last_name</th>\n",
       "      <th>position</th>\n",
       "      <th>birthdate</th>\n",
       "      <th>season</th>\n",
       "      <th>team_id</th>\n",
       "      <th>team_name</th>\n",
       "      <th>cap_hit</th>\n",
       "      <th>active</th>\n",
       "      <th>...</th>\n",
       "      <th>contract_id</th>\n",
       "      <th>expiry_status</th>\n",
       "      <th>contract_type</th>\n",
       "      <th>contract_end</th>\n",
       "      <th>ufa_year</th>\n",
       "      <th>total_value</th>\n",
       "      <th>signing_year</th>\n",
       "      <th>signing_year_cap</th>\n",
       "      <th>signing_age</th>\n",
       "      <th>cap_pct</th>\n",
       "    </tr>\n",
       "  </thead>\n",
       "  <tbody>\n",
       "    <tr>\n",
       "      <th>219</th>\n",
       "      <td>1089</td>\n",
       "      <td>Joe</td>\n",
       "      <td>Thornton</td>\n",
       "      <td>Center</td>\n",
       "      <td>1979-07-02</td>\n",
       "      <td>2015</td>\n",
       "      <td>21.0</td>\n",
       "      <td>Sharks</td>\n",
       "      <td>6750000</td>\n",
       "      <td>1.0</td>\n",
       "      <td>...</td>\n",
       "      <td>3350</td>\n",
       "      <td>UFA</td>\n",
       "      <td>history</td>\n",
       "      <td>2016</td>\n",
       "      <td>2005</td>\n",
       "      <td>20250000</td>\n",
       "      <td>2014</td>\n",
       "      <td>69000000</td>\n",
       "      <td>34</td>\n",
       "      <td>9.78</td>\n",
       "    </tr>\n",
       "    <tr>\n",
       "      <th>220</th>\n",
       "      <td>1089</td>\n",
       "      <td>Joe</td>\n",
       "      <td>Thornton</td>\n",
       "      <td>Center</td>\n",
       "      <td>1979-07-02</td>\n",
       "      <td>2016</td>\n",
       "      <td>21.0</td>\n",
       "      <td>Sharks</td>\n",
       "      <td>6750000</td>\n",
       "      <td>1.0</td>\n",
       "      <td>...</td>\n",
       "      <td>3350</td>\n",
       "      <td>UFA</td>\n",
       "      <td>history</td>\n",
       "      <td>2016</td>\n",
       "      <td>2005</td>\n",
       "      <td>20250000</td>\n",
       "      <td>2014</td>\n",
       "      <td>69000000</td>\n",
       "      <td>34</td>\n",
       "      <td>9.78</td>\n",
       "    </tr>\n",
       "    <tr>\n",
       "      <th>221</th>\n",
       "      <td>1089</td>\n",
       "      <td>Joe</td>\n",
       "      <td>Thornton</td>\n",
       "      <td>Center</td>\n",
       "      <td>1979-07-02</td>\n",
       "      <td>2017</td>\n",
       "      <td>21.0</td>\n",
       "      <td>Sharks</td>\n",
       "      <td>8000000</td>\n",
       "      <td>1.0</td>\n",
       "      <td>...</td>\n",
       "      <td>3345</td>\n",
       "      <td>UFA</td>\n",
       "      <td>history</td>\n",
       "      <td>2017</td>\n",
       "      <td>2005</td>\n",
       "      <td>8000000</td>\n",
       "      <td>2017</td>\n",
       "      <td>75000000</td>\n",
       "      <td>38</td>\n",
       "      <td>10.67</td>\n",
       "    </tr>\n",
       "    <tr>\n",
       "      <th>222</th>\n",
       "      <td>1089</td>\n",
       "      <td>Joe</td>\n",
       "      <td>Thornton</td>\n",
       "      <td>Center</td>\n",
       "      <td>1979-07-02</td>\n",
       "      <td>2018</td>\n",
       "      <td>21.0</td>\n",
       "      <td>Sharks</td>\n",
       "      <td>5000000</td>\n",
       "      <td>1.0</td>\n",
       "      <td>...</td>\n",
       "      <td>4412</td>\n",
       "      <td>UFA</td>\n",
       "      <td>current</td>\n",
       "      <td>2018</td>\n",
       "      <td>2005</td>\n",
       "      <td>5000000</td>\n",
       "      <td>2018</td>\n",
       "      <td>79500000</td>\n",
       "      <td>39</td>\n",
       "      <td>6.29</td>\n",
       "    </tr>\n",
       "  </tbody>\n",
       "</table>\n",
       "<p>4 rows × 24 columns</p>\n",
       "</div>"
      ],
      "text/plain": [
       "     player_id first_name last_name position  birthdate  season  team_id  \\\n",
       "219       1089        Joe  Thornton   Center 1979-07-02    2015     21.0   \n",
       "220       1089        Joe  Thornton   Center 1979-07-02    2016     21.0   \n",
       "221       1089        Joe  Thornton   Center 1979-07-02    2017     21.0   \n",
       "222       1089        Joe  Thornton   Center 1979-07-02    2018     21.0   \n",
       "\n",
       "    team_name  cap_hit  active   ...    contract_id expiry_status  \\\n",
       "219    Sharks  6750000     1.0   ...           3350           UFA   \n",
       "220    Sharks  6750000     1.0   ...           3350           UFA   \n",
       "221    Sharks  8000000     1.0   ...           3345           UFA   \n",
       "222    Sharks  5000000     1.0   ...           4412           UFA   \n",
       "\n",
       "     contract_type contract_end  ufa_year total_value signing_year  \\\n",
       "219        history         2016      2005    20250000         2014   \n",
       "220        history         2016      2005    20250000         2014   \n",
       "221        history         2017      2005     8000000         2017   \n",
       "222        current         2018      2005     5000000         2018   \n",
       "\n",
       "     signing_year_cap  signing_age  cap_pct  \n",
       "219          69000000           34     9.78  \n",
       "220          69000000           34     9.78  \n",
       "221          75000000           38    10.67  \n",
       "222          79500000           39     6.29  \n",
       "\n",
       "[4 rows x 24 columns]"
      ]
     },
     "execution_count": 261,
     "metadata": {},
     "output_type": "execute_result"
    }
   ],
   "source": [
    "df[df.last_name == 'Thornton']"
   ]
  },
  {
   "cell_type": "code",
   "execution_count": 262,
   "metadata": {},
   "outputs": [],
   "source": [
    "dfraw = pd.read_csv('../data/Contract_Details_PuckPedia_Mar_2019_Confidential.csv')"
   ]
  },
  {
   "cell_type": "code",
   "execution_count": 265,
   "metadata": {},
   "outputs": [
    {
     "data": {
      "text/html": [
       "<div>\n",
       "<style scoped>\n",
       "    .dataframe tbody tr th:only-of-type {\n",
       "        vertical-align: middle;\n",
       "    }\n",
       "\n",
       "    .dataframe tbody tr th {\n",
       "        vertical-align: top;\n",
       "    }\n",
       "\n",
       "    .dataframe thead th {\n",
       "        text-align: right;\n",
       "    }\n",
       "</style>\n",
       "<table border=\"1\" class=\"dataframe\">\n",
       "  <thead>\n",
       "    <tr style=\"text-align: right;\">\n",
       "      <th></th>\n",
       "      <th>player_id</th>\n",
       "      <th>first_name</th>\n",
       "      <th>last_name</th>\n",
       "      <th>position</th>\n",
       "      <th>birthdate</th>\n",
       "      <th>season</th>\n",
       "      <th>team_id</th>\n",
       "      <th>team_name</th>\n",
       "      <th>cap_hit</th>\n",
       "      <th>base_salary</th>\n",
       "      <th>...</th>\n",
       "      <th>signing_date</th>\n",
       "      <th>signing_team</th>\n",
       "      <th>length</th>\n",
       "      <th>Total Value</th>\n",
       "      <th>contract_level</th>\n",
       "      <th>contract_id</th>\n",
       "      <th>expiry_status</th>\n",
       "      <th>contract_type</th>\n",
       "      <th>contract_end</th>\n",
       "      <th>ufa_year</th>\n",
       "    </tr>\n",
       "  </thead>\n",
       "  <tbody>\n",
       "    <tr>\n",
       "      <th>219</th>\n",
       "      <td>1089</td>\n",
       "      <td>Joe</td>\n",
       "      <td>Thornton</td>\n",
       "      <td>Center</td>\n",
       "      <td>7/2/79</td>\n",
       "      <td>2015-2016</td>\n",
       "      <td>21.0</td>\n",
       "      <td>Sharks</td>\n",
       "      <td>$6,750,000</td>\n",
       "      <td>$6,750,000</td>\n",
       "      <td>...</td>\n",
       "      <td>1/24/14</td>\n",
       "      <td>San Jose Sharks</td>\n",
       "      <td>3</td>\n",
       "      <td>$20,250,000</td>\n",
       "      <td>standard_level</td>\n",
       "      <td>3350</td>\n",
       "      <td>UFA</td>\n",
       "      <td>history</td>\n",
       "      <td>2016-2017</td>\n",
       "      <td>2005.0</td>\n",
       "    </tr>\n",
       "    <tr>\n",
       "      <th>220</th>\n",
       "      <td>1089</td>\n",
       "      <td>Joe</td>\n",
       "      <td>Thornton</td>\n",
       "      <td>Center</td>\n",
       "      <td>7/2/79</td>\n",
       "      <td>2016-2017</td>\n",
       "      <td>21.0</td>\n",
       "      <td>Sharks</td>\n",
       "      <td>$6,750,000</td>\n",
       "      <td>$6,750,000</td>\n",
       "      <td>...</td>\n",
       "      <td>1/24/14</td>\n",
       "      <td>San Jose Sharks</td>\n",
       "      <td>3</td>\n",
       "      <td>$20,250,000</td>\n",
       "      <td>standard_level</td>\n",
       "      <td>3350</td>\n",
       "      <td>UFA</td>\n",
       "      <td>history</td>\n",
       "      <td>2016-2017</td>\n",
       "      <td>2005.0</td>\n",
       "    </tr>\n",
       "    <tr>\n",
       "      <th>221</th>\n",
       "      <td>1089</td>\n",
       "      <td>Joe</td>\n",
       "      <td>Thornton</td>\n",
       "      <td>Center</td>\n",
       "      <td>7/2/79</td>\n",
       "      <td>2017-2018</td>\n",
       "      <td>21.0</td>\n",
       "      <td>Sharks</td>\n",
       "      <td>$8,000,000</td>\n",
       "      <td>$6,750,000</td>\n",
       "      <td>...</td>\n",
       "      <td>7/2/17</td>\n",
       "      <td>San Jose Sharks</td>\n",
       "      <td>1</td>\n",
       "      <td>$8,000,000</td>\n",
       "      <td>standard_level</td>\n",
       "      <td>3345</td>\n",
       "      <td>UFA</td>\n",
       "      <td>history</td>\n",
       "      <td>2017-2018</td>\n",
       "      <td>2005.0</td>\n",
       "    </tr>\n",
       "    <tr>\n",
       "      <th>222</th>\n",
       "      <td>1089</td>\n",
       "      <td>Joe</td>\n",
       "      <td>Thornton</td>\n",
       "      <td>Center</td>\n",
       "      <td>7/2/79</td>\n",
       "      <td>2018-2019</td>\n",
       "      <td>21.0</td>\n",
       "      <td>Sharks</td>\n",
       "      <td>$5,000,000</td>\n",
       "      <td>$5,000,000</td>\n",
       "      <td>...</td>\n",
       "      <td>7/2/18</td>\n",
       "      <td>NaN</td>\n",
       "      <td>1</td>\n",
       "      <td>$5,000,000</td>\n",
       "      <td>standard_level</td>\n",
       "      <td>4412</td>\n",
       "      <td>UFA</td>\n",
       "      <td>current</td>\n",
       "      <td>2018-2019</td>\n",
       "      <td>2005.0</td>\n",
       "    </tr>\n",
       "  </tbody>\n",
       "</table>\n",
       "<p>4 rows × 25 columns</p>\n",
       "</div>"
      ],
      "text/plain": [
       "     player_id first_name last_name position birthdate     season  team_id  \\\n",
       "219       1089        Joe  Thornton   Center    7/2/79  2015-2016     21.0   \n",
       "220       1089        Joe  Thornton   Center    7/2/79  2016-2017     21.0   \n",
       "221       1089        Joe  Thornton   Center    7/2/79  2017-2018     21.0   \n",
       "222       1089        Joe  Thornton   Center    7/2/79  2018-2019     21.0   \n",
       "\n",
       "    team_name       cap_hit   base_salary   ...    signing_date  \\\n",
       "219    Sharks   $6,750,000    $6,750,000    ...         1/24/14   \n",
       "220    Sharks   $6,750,000    $6,750,000    ...         1/24/14   \n",
       "221    Sharks   $8,000,000    $6,750,000    ...          7/2/17   \n",
       "222    Sharks   $5,000,000    $5,000,000    ...          7/2/18   \n",
       "\n",
       "        signing_team length   Total Value   contract_level contract_id  \\\n",
       "219  San Jose Sharks      3   $20,250,000   standard_level        3350   \n",
       "220  San Jose Sharks      3   $20,250,000   standard_level        3350   \n",
       "221  San Jose Sharks      1    $8,000,000   standard_level        3345   \n",
       "222              NaN      1    $5,000,000   standard_level        4412   \n",
       "\n",
       "    expiry_status  contract_type contract_end ufa_year  \n",
       "219           UFA        history    2016-2017   2005.0  \n",
       "220           UFA        history    2016-2017   2005.0  \n",
       "221           UFA        history    2017-2018   2005.0  \n",
       "222           UFA        current    2018-2019   2005.0  \n",
       "\n",
       "[4 rows x 25 columns]"
      ]
     },
     "execution_count": 265,
     "metadata": {},
     "output_type": "execute_result"
    }
   ],
   "source": [
    "dfraw[dfraw.last_name == 'Thornton']"
   ]
  },
  {
   "cell_type": "code",
   "execution_count": 266,
   "metadata": {},
   "outputs": [
    {
     "data": {
      "text/plain": [
       "2018-2019    1571\n",
       "2017-2018    1492\n",
       "2016-2017    1248\n",
       "2015-2016    1041\n",
       "2019-2020     942\n",
       "2020-2021     518\n",
       "2021-2022     241\n",
       "2022-2023     108\n",
       "2023-2024      67\n",
       "2024-2025      40\n",
       "2025-2026      18\n",
       "2026-2027       8\n",
       "Name: season, dtype: int64"
      ]
     },
     "execution_count": 266,
     "metadata": {},
     "output_type": "execute_result"
    }
   ],
   "source": [
    "dfraw.season.value_counts()"
   ]
  },
  {
   "cell_type": "code",
   "execution_count": null,
   "metadata": {},
   "outputs": [],
   "source": []
  },
  {
   "cell_type": "code",
   "execution_count": 282,
   "metadata": {},
   "outputs": [],
   "source": [
    "df = df.groupby('contract_id').head(1)"
   ]
  },
  {
   "cell_type": "code",
   "execution_count": 283,
   "metadata": {},
   "outputs": [
    {
     "data": {
      "text/plain": [
       "(2004, 24)"
      ]
     },
     "execution_count": 283,
     "metadata": {},
     "output_type": "execute_result"
    }
   ],
   "source": [
    "df.shape"
   ]
  },
  {
   "cell_type": "code",
   "execution_count": 284,
   "metadata": {},
   "outputs": [
    {
     "data": {
      "text/plain": [
       "Defense       631\n",
       "Center        500\n",
       "Left Wing     326\n",
       "Right Wing    305\n",
       "Goaltender    242\n",
       "Name: position, dtype: int64"
      ]
     },
     "execution_count": 284,
     "metadata": {},
     "output_type": "execute_result"
    }
   ],
   "source": [
    "df.position.value_counts()"
   ]
  },
  {
   "cell_type": "code",
   "execution_count": 286,
   "metadata": {},
   "outputs": [
    {
     "name": "stderr",
     "output_type": "stream",
     "text": [
      "/Users/colinshanahan/anaconda3/lib/python3.6/site-packages/ipykernel_launcher.py:1: SettingWithCopyWarning: \n",
      "A value is trying to be set on a copy of a slice from a DataFrame.\n",
      "Try using .loc[row_indexer,col_indexer] = value instead\n",
      "\n",
      "See the caveats in the documentation: http://pandas.pydata.org/pandas-docs/stable/indexing.html#indexing-view-versus-copy\n",
      "  \"\"\"Entry point for launching an IPython kernel.\n",
      "/Users/colinshanahan/anaconda3/lib/python3.6/site-packages/ipykernel_launcher.py:2: SettingWithCopyWarning: \n",
      "A value is trying to be set on a copy of a slice from a DataFrame.\n",
      "Try using .loc[row_indexer,col_indexer] = value instead\n",
      "\n",
      "See the caveats in the documentation: http://pandas.pydata.org/pandas-docs/stable/indexing.html#indexing-view-versus-copy\n",
      "  \n"
     ]
    }
   ],
   "source": [
    "df['skater'] = df.position != 'Goaltender'\n",
    "df['forward'] = (df.position != 'Goaltender') & (df.position != 'Defense')"
   ]
  },
  {
   "cell_type": "code",
   "execution_count": 288,
   "metadata": {},
   "outputs": [
    {
     "data": {
      "text/html": [
       "<div>\n",
       "<style scoped>\n",
       "    .dataframe tbody tr th:only-of-type {\n",
       "        vertical-align: middle;\n",
       "    }\n",
       "\n",
       "    .dataframe tbody tr th {\n",
       "        vertical-align: top;\n",
       "    }\n",
       "\n",
       "    .dataframe thead th {\n",
       "        text-align: right;\n",
       "    }\n",
       "</style>\n",
       "<table border=\"1\" class=\"dataframe\">\n",
       "  <thead>\n",
       "    <tr style=\"text-align: right;\">\n",
       "      <th></th>\n",
       "      <th>player_id</th>\n",
       "      <th>first_name</th>\n",
       "      <th>last_name</th>\n",
       "      <th>position</th>\n",
       "      <th>birthdate</th>\n",
       "      <th>season</th>\n",
       "      <th>team_id</th>\n",
       "      <th>team_name</th>\n",
       "      <th>cap_hit</th>\n",
       "      <th>active</th>\n",
       "      <th>...</th>\n",
       "      <th>contract_type</th>\n",
       "      <th>contract_end</th>\n",
       "      <th>ufa_year</th>\n",
       "      <th>total_value</th>\n",
       "      <th>signing_year</th>\n",
       "      <th>signing_year_cap</th>\n",
       "      <th>signing_age</th>\n",
       "      <th>cap_pct</th>\n",
       "      <th>skater</th>\n",
       "      <th>forward</th>\n",
       "    </tr>\n",
       "  </thead>\n",
       "  <tbody>\n",
       "    <tr>\n",
       "      <th>80</th>\n",
       "      <td>402</td>\n",
       "      <td>Matt</td>\n",
       "      <td>Cullen</td>\n",
       "      <td>Center</td>\n",
       "      <td>1976-11-02</td>\n",
       "      <td>2018</td>\n",
       "      <td>7.0</td>\n",
       "      <td>Penguins</td>\n",
       "      <td>650000</td>\n",
       "      <td>1.0</td>\n",
       "      <td>...</td>\n",
       "      <td>current</td>\n",
       "      <td>2018</td>\n",
       "      <td>2004</td>\n",
       "      <td>650000</td>\n",
       "      <td>2018</td>\n",
       "      <td>79500000</td>\n",
       "      <td>41</td>\n",
       "      <td>0.82</td>\n",
       "      <td>True</td>\n",
       "      <td>True</td>\n",
       "    </tr>\n",
       "    <tr>\n",
       "      <th>3455</th>\n",
       "      <td>4792</td>\n",
       "      <td>Teuvo</td>\n",
       "      <td>Teravainen</td>\n",
       "      <td>Left Wing</td>\n",
       "      <td>1994-09-11</td>\n",
       "      <td>2017</td>\n",
       "      <td>5.0</td>\n",
       "      <td>Hurricanes</td>\n",
       "      <td>2860000</td>\n",
       "      <td>1.0</td>\n",
       "      <td>...</td>\n",
       "      <td>current</td>\n",
       "      <td>2018</td>\n",
       "      <td>2022</td>\n",
       "      <td>5720000</td>\n",
       "      <td>2017</td>\n",
       "      <td>75000000</td>\n",
       "      <td>22</td>\n",
       "      <td>3.81</td>\n",
       "      <td>True</td>\n",
       "      <td>True</td>\n",
       "    </tr>\n",
       "    <tr>\n",
       "      <th>3543</th>\n",
       "      <td>4812</td>\n",
       "      <td>Phillip</td>\n",
       "      <td>Di Giuseppe</td>\n",
       "      <td>Left Wing</td>\n",
       "      <td>1993-10-09</td>\n",
       "      <td>2017</td>\n",
       "      <td>27.0</td>\n",
       "      <td>Predators</td>\n",
       "      <td>725000</td>\n",
       "      <td>NaN</td>\n",
       "      <td>...</td>\n",
       "      <td>history</td>\n",
       "      <td>2017</td>\n",
       "      <td>2021</td>\n",
       "      <td>725000</td>\n",
       "      <td>2017</td>\n",
       "      <td>75000000</td>\n",
       "      <td>23</td>\n",
       "      <td>0.97</td>\n",
       "      <td>True</td>\n",
       "      <td>True</td>\n",
       "    </tr>\n",
       "    <tr>\n",
       "      <th>3532</th>\n",
       "      <td>4808</td>\n",
       "      <td>Ville</td>\n",
       "      <td>Pokka</td>\n",
       "      <td>Defense</td>\n",
       "      <td>1994-06-03</td>\n",
       "      <td>2017</td>\n",
       "      <td>0.0</td>\n",
       "      <td>NaN</td>\n",
       "      <td>650000</td>\n",
       "      <td>0.0</td>\n",
       "      <td>...</td>\n",
       "      <td>history</td>\n",
       "      <td>2017</td>\n",
       "      <td>2021</td>\n",
       "      <td>650000</td>\n",
       "      <td>2017</td>\n",
       "      <td>75000000</td>\n",
       "      <td>23</td>\n",
       "      <td>0.87</td>\n",
       "      <td>True</td>\n",
       "      <td>False</td>\n",
       "    </tr>\n",
       "    <tr>\n",
       "      <th>2685</th>\n",
       "      <td>4330</td>\n",
       "      <td>Tom</td>\n",
       "      <td>Kuhnhackl</td>\n",
       "      <td>Right Wing</td>\n",
       "      <td>1992-01-21</td>\n",
       "      <td>2016</td>\n",
       "      <td>4.0</td>\n",
       "      <td>Islanders</td>\n",
       "      <td>625000</td>\n",
       "      <td>1.0</td>\n",
       "      <td>...</td>\n",
       "      <td>history</td>\n",
       "      <td>2017</td>\n",
       "      <td>2019</td>\n",
       "      <td>1250000</td>\n",
       "      <td>2016</td>\n",
       "      <td>73000000</td>\n",
       "      <td>24</td>\n",
       "      <td>0.86</td>\n",
       "      <td>True</td>\n",
       "      <td>True</td>\n",
       "    </tr>\n",
       "    <tr>\n",
       "      <th>1715</th>\n",
       "      <td>3562</td>\n",
       "      <td>Carter</td>\n",
       "      <td>Hutton</td>\n",
       "      <td>Goaltender</td>\n",
       "      <td>1985-12-19</td>\n",
       "      <td>2016</td>\n",
       "      <td>10.0</td>\n",
       "      <td>Sabres</td>\n",
       "      <td>1125000</td>\n",
       "      <td>1.0</td>\n",
       "      <td>...</td>\n",
       "      <td>history</td>\n",
       "      <td>2017</td>\n",
       "      <td>2013</td>\n",
       "      <td>2250000</td>\n",
       "      <td>2016</td>\n",
       "      <td>73000000</td>\n",
       "      <td>30</td>\n",
       "      <td>1.54</td>\n",
       "      <td>False</td>\n",
       "      <td>False</td>\n",
       "    </tr>\n",
       "    <tr>\n",
       "      <th>2593</th>\n",
       "      <td>4221</td>\n",
       "      <td>Zac</td>\n",
       "      <td>Rinaldo</td>\n",
       "      <td>Left Wing</td>\n",
       "      <td>1990-06-15</td>\n",
       "      <td>2018</td>\n",
       "      <td>27.0</td>\n",
       "      <td>Predators</td>\n",
       "      <td>650000</td>\n",
       "      <td>1.0</td>\n",
       "      <td>...</td>\n",
       "      <td>current</td>\n",
       "      <td>2018</td>\n",
       "      <td>2017</td>\n",
       "      <td>650000</td>\n",
       "      <td>2018</td>\n",
       "      <td>79500000</td>\n",
       "      <td>28</td>\n",
       "      <td>0.82</td>\n",
       "      <td>True</td>\n",
       "      <td>True</td>\n",
       "    </tr>\n",
       "    <tr>\n",
       "      <th>930</th>\n",
       "      <td>2543</td>\n",
       "      <td>Kris</td>\n",
       "      <td>Russell</td>\n",
       "      <td>Defense</td>\n",
       "      <td>1987-05-02</td>\n",
       "      <td>2017</td>\n",
       "      <td>24.0</td>\n",
       "      <td>Oilers</td>\n",
       "      <td>4000000</td>\n",
       "      <td>1.0</td>\n",
       "      <td>...</td>\n",
       "      <td>current</td>\n",
       "      <td>2020</td>\n",
       "      <td>2014</td>\n",
       "      <td>16000000</td>\n",
       "      <td>2017</td>\n",
       "      <td>75000000</td>\n",
       "      <td>30</td>\n",
       "      <td>5.33</td>\n",
       "      <td>True</td>\n",
       "      <td>False</td>\n",
       "    </tr>\n",
       "    <tr>\n",
       "      <th>808</th>\n",
       "      <td>2469</td>\n",
       "      <td>Trevor</td>\n",
       "      <td>Lewis</td>\n",
       "      <td>Center</td>\n",
       "      <td>1987-01-08</td>\n",
       "      <td>2015</td>\n",
       "      <td>23.0</td>\n",
       "      <td>Kings</td>\n",
       "      <td>1525000</td>\n",
       "      <td>1.0</td>\n",
       "      <td>...</td>\n",
       "      <td>history</td>\n",
       "      <td>2015</td>\n",
       "      <td>2014</td>\n",
       "      <td>3050000</td>\n",
       "      <td>2014</td>\n",
       "      <td>69000000</td>\n",
       "      <td>27</td>\n",
       "      <td>2.21</td>\n",
       "      <td>True</td>\n",
       "      <td>True</td>\n",
       "    </tr>\n",
       "    <tr>\n",
       "      <th>2508</th>\n",
       "      <td>4100</td>\n",
       "      <td>Zac</td>\n",
       "      <td>Dalpe</td>\n",
       "      <td>Center</td>\n",
       "      <td>1989-11-01</td>\n",
       "      <td>2015</td>\n",
       "      <td>30.0</td>\n",
       "      <td>Blue Jackets</td>\n",
       "      <td>600000</td>\n",
       "      <td>NaN</td>\n",
       "      <td>...</td>\n",
       "      <td>history</td>\n",
       "      <td>2015</td>\n",
       "      <td>2017</td>\n",
       "      <td>600000</td>\n",
       "      <td>2015</td>\n",
       "      <td>71400000</td>\n",
       "      <td>25</td>\n",
       "      <td>0.84</td>\n",
       "      <td>True</td>\n",
       "      <td>True</td>\n",
       "    </tr>\n",
       "  </tbody>\n",
       "</table>\n",
       "<p>10 rows × 26 columns</p>\n",
       "</div>"
      ],
      "text/plain": [
       "      player_id first_name    last_name    position  birthdate  season  \\\n",
       "80          402       Matt       Cullen      Center 1976-11-02    2018   \n",
       "3455       4792      Teuvo   Teravainen   Left Wing 1994-09-11    2017   \n",
       "3543       4812    Phillip  Di Giuseppe   Left Wing 1993-10-09    2017   \n",
       "3532       4808      Ville        Pokka     Defense 1994-06-03    2017   \n",
       "2685       4330        Tom    Kuhnhackl  Right Wing 1992-01-21    2016   \n",
       "1715       3562     Carter       Hutton  Goaltender 1985-12-19    2016   \n",
       "2593       4221        Zac      Rinaldo   Left Wing 1990-06-15    2018   \n",
       "930        2543       Kris      Russell     Defense 1987-05-02    2017   \n",
       "808        2469     Trevor        Lewis      Center 1987-01-08    2015   \n",
       "2508       4100        Zac        Dalpe      Center 1989-11-01    2015   \n",
       "\n",
       "      team_id     team_name  cap_hit  active   ...    contract_type  \\\n",
       "80        7.0      Penguins   650000     1.0   ...          current   \n",
       "3455      5.0    Hurricanes  2860000     1.0   ...          current   \n",
       "3543     27.0     Predators   725000     NaN   ...          history   \n",
       "3532      0.0           NaN   650000     0.0   ...          history   \n",
       "2685      4.0     Islanders   625000     1.0   ...          history   \n",
       "1715     10.0        Sabres  1125000     1.0   ...          history   \n",
       "2593     27.0     Predators   650000     1.0   ...          current   \n",
       "930      24.0        Oilers  4000000     1.0   ...          current   \n",
       "808      23.0         Kings  1525000     1.0   ...          history   \n",
       "2508     30.0  Blue Jackets   600000     NaN   ...          history   \n",
       "\n",
       "     contract_end  ufa_year total_value  signing_year signing_year_cap  \\\n",
       "80           2018      2004      650000          2018         79500000   \n",
       "3455         2018      2022     5720000          2017         75000000   \n",
       "3543         2017      2021      725000          2017         75000000   \n",
       "3532         2017      2021      650000          2017         75000000   \n",
       "2685         2017      2019     1250000          2016         73000000   \n",
       "1715         2017      2013     2250000          2016         73000000   \n",
       "2593         2018      2017      650000          2018         79500000   \n",
       "930          2020      2014    16000000          2017         75000000   \n",
       "808          2015      2014     3050000          2014         69000000   \n",
       "2508         2015      2017      600000          2015         71400000   \n",
       "\n",
       "     signing_age  cap_pct  skater  forward  \n",
       "80            41     0.82    True     True  \n",
       "3455          22     3.81    True     True  \n",
       "3543          23     0.97    True     True  \n",
       "3532          23     0.87    True    False  \n",
       "2685          24     0.86    True     True  \n",
       "1715          30     1.54   False    False  \n",
       "2593          28     0.82    True     True  \n",
       "930           30     5.33    True    False  \n",
       "808           27     2.21    True     True  \n",
       "2508          25     0.84    True     True  \n",
       "\n",
       "[10 rows x 26 columns]"
      ]
     },
     "execution_count": 288,
     "metadata": {},
     "output_type": "execute_result"
    }
   ],
   "source": [
    "df.sample(10)"
   ]
  },
  {
   "cell_type": "code",
   "execution_count": 298,
   "metadata": {},
   "outputs": [
    {
     "data": {
      "text/plain": [
       "True     1131\n",
       "False     873\n",
       "Name: forward, dtype: int64"
      ]
     },
     "execution_count": 298,
     "metadata": {},
     "output_type": "execute_result"
    }
   ],
   "source": [
    "df.forward.value_counts()"
   ]
  },
  {
   "cell_type": "code",
   "execution_count": null,
   "metadata": {},
   "outputs": [],
   "source": []
  },
  {
   "cell_type": "code",
   "execution_count": null,
   "metadata": {},
   "outputs": [],
   "source": []
  },
  {
   "cell_type": "markdown",
   "metadata": {},
   "source": [
    "### Let's make a very bad linear regression model so we can close the loop"
   ]
  },
  {
   "cell_type": "code",
   "execution_count": 336,
   "metadata": {},
   "outputs": [],
   "source": [
    "X = df[['signing_age', 'skater', 'forward']]\n",
    "y = df['cap_pct']"
   ]
  },
  {
   "cell_type": "markdown",
   "metadata": {},
   "source": [
    "To start, we're predicting Cap% of a contract as a target based off of the features: Player age at contract signing, and with dummy variables for position"
   ]
  },
  {
   "cell_type": "code",
   "execution_count": 307,
   "metadata": {},
   "outputs": [
    {
     "data": {
      "image/png": "[encoded data removed]",
      "text/plain": [
       "<Figure size 432x288 with 1 Axes>"
      ]
     },
     "metadata": {},
     "output_type": "display_data"
    }
   ],
   "source": [
    "plt.hist(y)\n",
    "plt.title('Histogram of Cap % for contracts')\n",
    "plt.show()"
   ]
  },
  {
   "cell_type": "code",
   "execution_count": 337,
   "metadata": {},
   "outputs": [],
   "source": [
    "#Only run if using statsmodels OLS\n",
    "X = sm.add_constant(X)\n",
    "X.replace([True, False], [1, 0], inplace=True)"
   ]
  },
  {
   "cell_type": "code",
   "execution_count": 290,
   "metadata": {},
   "outputs": [],
   "source": [
    "from sklearn.model_selection import train_test_split"
   ]
  },
  {
   "cell_type": "code",
   "execution_count": 338,
   "metadata": {},
   "outputs": [],
   "source": [
    "X_train, X_test, y_train, y_test = train_test_split(X, y, \n",
    "                                                    test_size = 0.2, random_state = 20)"
   ]
  },
  {
   "cell_type": "code",
   "execution_count": 293,
   "metadata": {},
   "outputs": [],
   "source": [
    "import statsmodels.api as sm\n",
    "from sklearn.linear_model import LinearRegression"
   ]
  },
  {
   "cell_type": "code",
   "execution_count": 328,
   "metadata": {},
   "outputs": [
    {
     "data": {
      "text/plain": [
       "LinearRegression(copy_X=True, fit_intercept=True, n_jobs=1, normalize=False)"
      ]
     },
     "execution_count": 328,
     "metadata": {},
     "output_type": "execute_result"
    }
   ],
   "source": [
    "model = LinearRegression()\n",
    "model.fit(X_train, y_train)"
   ]
  },
  {
   "cell_type": "code",
   "execution_count": 329,
   "metadata": {},
   "outputs": [
    {
     "data": {
      "text/plain": [
       "0.0072104855928579745"
      ]
     },
     "execution_count": 329,
     "metadata": {},
     "output_type": "execute_result"
    }
   ],
   "source": [
    "model.score(X_test, y_test)"
   ]
  },
  {
   "cell_type": "code",
   "execution_count": 311,
   "metadata": {},
   "outputs": [],
   "source": [
    "def rmse(yhat, y):\n",
    "    return np.sqrt(((yhat - y)**2).mean())"
   ]
  },
  {
   "cell_type": "code",
   "execution_count": 330,
   "metadata": {},
   "outputs": [
    {
     "data": {
      "text/plain": [
       "3.084044424139567"
      ]
     },
     "execution_count": 330,
     "metadata": {},
     "output_type": "execute_result"
    }
   ],
   "source": [
    "rmse(model.predict(X_test), y_test)"
   ]
  },
  {
   "cell_type": "code",
   "execution_count": 325,
   "metadata": {},
   "outputs": [],
   "source": [
    "preds = model.predict(X_test)"
   ]
  },
  {
   "cell_type": "code",
   "execution_count": 318,
   "metadata": {},
   "outputs": [
    {
     "data": {
      "text/plain": [
       "2.930249376558604"
      ]
     },
     "execution_count": 318,
     "metadata": {},
     "output_type": "execute_result"
    }
   ],
   "source": [
    "y_test.mean()"
   ]
  },
  {
   "cell_type": "code",
   "execution_count": 319,
   "metadata": {},
   "outputs": [
    {
     "data": {
      "text/plain": [
       "3.099090259682004"
      ]
     },
     "execution_count": 319,
     "metadata": {},
     "output_type": "execute_result"
    }
   ],
   "source": []
  },
  {
   "cell_type": "code",
   "execution_count": 339,
   "metadata": {},
   "outputs": [
    {
     "data": {
      "text/html": [
       "<div>\n",
       "<style scoped>\n",
       "    .dataframe tbody tr th:only-of-type {\n",
       "        vertical-align: middle;\n",
       "    }\n",
       "\n",
       "    .dataframe tbody tr th {\n",
       "        vertical-align: top;\n",
       "    }\n",
       "\n",
       "    .dataframe thead th {\n",
       "        text-align: right;\n",
       "    }\n",
       "</style>\n",
       "<table border=\"1\" class=\"dataframe\">\n",
       "  <thead>\n",
       "    <tr style=\"text-align: right;\">\n",
       "      <th></th>\n",
       "      <th>const</th>\n",
       "      <th>signing_age</th>\n",
       "      <th>skater</th>\n",
       "      <th>forward</th>\n",
       "    </tr>\n",
       "  </thead>\n",
       "  <tbody>\n",
       "    <tr>\n",
       "      <th>2865</th>\n",
       "      <td>1.0</td>\n",
       "      <td>23</td>\n",
       "      <td>1</td>\n",
       "      <td>1</td>\n",
       "    </tr>\n",
       "    <tr>\n",
       "      <th>3555</th>\n",
       "      <td>1.0</td>\n",
       "      <td>22</td>\n",
       "      <td>1</td>\n",
       "      <td>0</td>\n",
       "    </tr>\n",
       "    <tr>\n",
       "      <th>2853</th>\n",
       "      <td>1.0</td>\n",
       "      <td>23</td>\n",
       "      <td>1</td>\n",
       "      <td>1</td>\n",
       "    </tr>\n",
       "    <tr>\n",
       "      <th>2544</th>\n",
       "      <td>1.0</td>\n",
       "      <td>28</td>\n",
       "      <td>1</td>\n",
       "      <td>0</td>\n",
       "    </tr>\n",
       "    <tr>\n",
       "      <th>1201</th>\n",
       "      <td>1.0</td>\n",
       "      <td>31</td>\n",
       "      <td>0</td>\n",
       "      <td>0</td>\n",
       "    </tr>\n",
       "  </tbody>\n",
       "</table>\n",
       "</div>"
      ],
      "text/plain": [
       "      const  signing_age  skater  forward\n",
       "2865    1.0           23       1        1\n",
       "3555    1.0           22       1        0\n",
       "2853    1.0           23       1        1\n",
       "2544    1.0           28       1        0\n",
       "1201    1.0           31       0        0"
      ]
     },
     "execution_count": 339,
     "metadata": {},
     "output_type": "execute_result"
    }
   ],
   "source": [
    "X_train.head()"
   ]
  },
  {
   "cell_type": "code",
   "execution_count": 340,
   "metadata": {},
   "outputs": [],
   "source": [
    "model = sm.OLS(y_train.values, X_train.values)\n",
    "results = model.fit()"
   ]
  },
  {
   "cell_type": "code",
   "execution_count": 341,
   "metadata": {},
   "outputs": [
    {
     "data": {
      "text/html": [
       "<table class=\"simpletable\">\n",
       "<caption>OLS Regression Results</caption>\n",
       "<tr>\n",
       "  <th>Dep. Variable:</th>            <td>y</td>        <th>  R-squared:         </th> <td>   0.005</td>\n",
       "</tr>\n",
       "<tr>\n",
       "  <th>Model:</th>                   <td>OLS</td>       <th>  Adj. R-squared:    </th> <td>   0.004</td>\n",
       "</tr>\n",
       "<tr>\n",
       "  <th>Method:</th>             <td>Least Squares</td>  <th>  F-statistic:       </th> <td>   2.914</td>\n",
       "</tr>\n",
       "<tr>\n",
       "  <th>Date:</th>             <td>Wed, 27 Mar 2019</td> <th>  Prob (F-statistic):</th>  <td>0.0332</td> \n",
       "</tr>\n",
       "<tr>\n",
       "  <th>Time:</th>                 <td>10:17:48</td>     <th>  Log-Likelihood:    </th> <td> -3995.2</td>\n",
       "</tr>\n",
       "<tr>\n",
       "  <th>No. Observations:</th>      <td>  1603</td>      <th>  AIC:               </th> <td>   7998.</td>\n",
       "</tr>\n",
       "<tr>\n",
       "  <th>Df Residuals:</th>          <td>  1599</td>      <th>  BIC:               </th> <td>   8020.</td>\n",
       "</tr>\n",
       "<tr>\n",
       "  <th>Df Model:</th>              <td>     3</td>      <th>                     </th>     <td> </td>   \n",
       "</tr>\n",
       "<tr>\n",
       "  <th>Covariance Type:</th>      <td>nonrobust</td>    <th>                     </th>     <td> </td>   \n",
       "</tr>\n",
       "</table>\n",
       "<table class=\"simpletable\">\n",
       "<tr>\n",
       "    <td></td>       <th>coef</th>     <th>std err</th>      <th>t</th>      <th>P>|t|</th>  <th>[0.025</th>    <th>0.975]</th>  \n",
       "</tr>\n",
       "<tr>\n",
       "  <th>const</th> <td>    1.1590</td> <td>    0.615</td> <td>    1.885</td> <td> 0.060</td> <td>   -0.047</td> <td>    2.365</td>\n",
       "</tr>\n",
       "<tr>\n",
       "  <th>x1</th>    <td>    0.0590</td> <td>    0.021</td> <td>    2.777</td> <td> 0.006</td> <td>    0.017</td> <td>    0.101</td>\n",
       "</tr>\n",
       "<tr>\n",
       "  <th>x2</th>    <td>    0.1322</td> <td>    0.256</td> <td>    0.516</td> <td> 0.606</td> <td>   -0.371</td> <td>    0.635</td>\n",
       "</tr>\n",
       "<tr>\n",
       "  <th>x3</th>    <td>    0.1112</td> <td>    0.162</td> <td>    0.686</td> <td> 0.493</td> <td>   -0.207</td> <td>    0.429</td>\n",
       "</tr>\n",
       "</table>\n",
       "<table class=\"simpletable\">\n",
       "<tr>\n",
       "  <th>Omnibus:</th>       <td>426.467</td> <th>  Durbin-Watson:     </th> <td>   2.034</td> \n",
       "</tr>\n",
       "<tr>\n",
       "  <th>Prob(Omnibus):</th> <td> 0.000</td>  <th>  Jarque-Bera (JB):  </th> <td> 874.642</td> \n",
       "</tr>\n",
       "<tr>\n",
       "  <th>Skew:</th>          <td> 1.564</td>  <th>  Prob(JB):          </th> <td>1.19e-190</td>\n",
       "</tr>\n",
       "<tr>\n",
       "  <th>Kurtosis:</th>      <td> 4.820</td>  <th>  Cond. No.          </th> <td>    226.</td> \n",
       "</tr>\n",
       "</table><br/><br/>Warnings:<br/>[1] Standard Errors assume that the covariance matrix of the errors is correctly specified."
      ],
      "text/plain": [
       "<class 'statsmodels.iolib.summary.Summary'>\n",
       "\"\"\"\n",
       "                            OLS Regression Results                            \n",
       "==============================================================================\n",
       "Dep. Variable:                      y   R-squared:                       0.005\n",
       "Model:                            OLS   Adj. R-squared:                  0.004\n",
       "Method:                 Least Squares   F-statistic:                     2.914\n",
       "Date:                Wed, 27 Mar 2019   Prob (F-statistic):             0.0332\n",
       "Time:                        10:17:48   Log-Likelihood:                -3995.2\n",
       "No. Observations:                1603   AIC:                             7998.\n",
       "Df Residuals:                    1599   BIC:                             8020.\n",
       "Df Model:                           3                                         \n",
       "Covariance Type:            nonrobust                                         \n",
       "==============================================================================\n",
       "                 coef    std err          t      P>|t|      [0.025      0.975]\n",
       "------------------------------------------------------------------------------\n",
       "const          1.1590      0.615      1.885      0.060      -0.047       2.365\n",
       "x1             0.0590      0.021      2.777      0.006       0.017       0.101\n",
       "x2             0.1322      0.256      0.516      0.606      -0.371       0.635\n",
       "x3             0.1112      0.162      0.686      0.493      -0.207       0.429\n",
       "==============================================================================\n",
       "Omnibus:                      426.467   Durbin-Watson:                   2.034\n",
       "Prob(Omnibus):                  0.000   Jarque-Bera (JB):              874.642\n",
       "Skew:                           1.564   Prob(JB):                    1.19e-190\n",
       "Kurtosis:                       4.820   Cond. No.                         226.\n",
       "==============================================================================\n",
       "\n",
       "Warnings:\n",
       "[1] Standard Errors assume that the covariance matrix of the errors is correctly specified.\n",
       "\"\"\""
      ]
     },
     "execution_count": 341,
     "metadata": {},
     "output_type": "execute_result"
    }
   ],
   "source": [
    "results.summary()"
   ]
  },
  {
   "cell_type": "code",
   "execution_count": 342,
   "metadata": {},
   "outputs": [
    {
     "data": {
      "text/plain": [
       "1054"
      ]
     },
     "execution_count": 342,
     "metadata": {},
     "output_type": "execute_result"
    }
   ],
   "source": [
    "len(df.player_id.unique())"
   ]
  },
  {
   "cell_type": "code",
   "execution_count": null,
   "metadata": {},
   "outputs": [],
   "source": []
  }
 ],
 "metadata": {
  "kernelspec": {
   "display_name": "Python 3",
   "language": "python",
   "name": "python3"
  },
  "language_info": {
   "codemirror_mode": {
    "name": "ipython",
    "version": 3
   },
   "file_extension": ".py",
   "mimetype": "text/x-python",
   "name": "python",
   "nbconvert_exporter": "python",
   "pygments_lexer": "ipython3",
   "version": "3.6.5"
  }
 },
 "nbformat": 4,
 "nbformat_minor": 2
}
