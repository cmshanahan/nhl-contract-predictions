{
 "cells": [
  {
   "cell_type": "code",
   "execution_count": 1,
   "metadata": {},
   "outputs": [],
   "source": [
    "import numpy as np\n",
    "import pandas as pd\n",
    "import matplotlib.pyplot as plt\n",
    "\n",
    "%matplotlib inline"
   ]
  },
  {
   "cell_type": "code",
   "execution_count": 2,
   "metadata": {},
   "outputs": [],
   "source": [
    "import requests\n",
    "from bs4 import BeautifulSoup"
   ]
  },
  {
   "cell_type": "code",
   "execution_count": 3,
   "metadata": {},
   "outputs": [],
   "source": [
    "import ast"
   ]
  },
  {
   "cell_type": "code",
   "execution_count": 4,
   "metadata": {},
   "outputs": [],
   "source": [
    "import json\n",
    "from collections import defaultdict"
   ]
  },
  {
   "cell_type": "code",
   "execution_count": 5,
   "metadata": {},
   "outputs": [
    {
     "data": {
      "text/plain": [
       "bs4.BeautifulSoup"
      ]
     },
     "execution_count": 5,
     "metadata": {},
     "output_type": "execute_result"
    }
   ],
   "source": [
    "teams = requests.get('https://statsapi.web.nhl.com/api/v1/teams/')\n",
    "soup = BeautifulSoup(teams.content, 'html.parser')\n",
    "type(soup)"
   ]
  },
  {
   "cell_type": "code",
   "execution_count": 6,
   "metadata": {},
   "outputs": [],
   "source": [
    "j = json.loads(teams.content)"
   ]
  },
  {
   "cell_type": "code",
   "execution_count": 7,
   "metadata": {},
   "outputs": [],
   "source": [
    "active_team_ids = []\n",
    "team_name_ids = defaultdict(str)\n",
    "team_info = defaultdict(dict)\n",
    "for i in j['teams']:\n",
    "    _id = i['id']\n",
    "    active_team_ids.append(_id)\n",
    "    team_name_ids[_id] = i['name']\n",
    "    team_info[_id] = i"
   ]
  },
  {
   "cell_type": "code",
   "execution_count": 8,
   "metadata": {},
   "outputs": [
    {
     "data": {
      "text/plain": [
       "31"
      ]
     },
     "execution_count": 8,
     "metadata": {},
     "output_type": "execute_result"
    }
   ],
   "source": [
    "len(active_team_ids)"
   ]
  },
  {
   "cell_type": "code",
   "execution_count": 9,
   "metadata": {},
   "outputs": [],
   "source": [
    "# roster = requests.get('https://statsapi.web.nhl.com/api/v1/teams/1?expand=team.roster')\n",
    "# r = json.loads(roster.content)\n",
    "# roster = r['teams'][0]['roster']['roster']\n",
    "# roster[0]['person']\n",
    "\n",
    "rosters = defaultdict(list)\n",
    "for teamid in active_team_ids:\n",
    "    bstring = requests.get('https://statsapi.web.nhl.com/api/v1/teams/{}?expand=team.roster'\n",
    "                          .format(teamid))\n",
    "    r = json.loads(bstring.content)\n",
    "    rosters[teamid] = r['teams'][0]['roster']['roster']"
   ]
  },
  {
   "cell_type": "code",
   "execution_count": 10,
   "metadata": {},
   "outputs": [
    {
     "data": {
      "text/plain": [
       "8475791"
      ]
     },
     "execution_count": 10,
     "metadata": {},
     "output_type": "execute_result"
    }
   ],
   "source": [
    "rosters[1][0]['person']['id']"
   ]
  },
  {
   "cell_type": "code",
   "execution_count": 11,
   "metadata": {},
   "outputs": [
    {
     "ename": "SyntaxError",
     "evalue": "invalid syntax (<ipython-input-11-12c6d9765085>, line 2)",
     "output_type": "error",
     "traceback": [
      "\u001b[0;36m  File \u001b[0;32m\"<ipython-input-11-12c6d9765085>\"\u001b[0;36m, line \u001b[0;32m2\u001b[0m\n\u001b[0;31m    for p in\u001b[0m\n\u001b[0m             ^\u001b[0m\n\u001b[0;31mSyntaxError\u001b[0m\u001b[0;31m:\u001b[0m invalid syntax\n"
     ]
    }
   ],
   "source": [
    "# stats\n",
    "# for p in "
   ]
  },
  {
   "cell_type": "code",
   "execution_count": null,
   "metadata": {},
   "outputs": [],
   "source": [
    "ps = requests.get('https://statsapi.web.nhl.com/api/v1/people/{}/stats?stats=statsSingleSeason&Season=20182019'.format(8475791))\n",
    "ps = json.loads(ps.content)['stats']\n",
    "ps"
   ]
  },
  {
   "cell_type": "code",
   "execution_count": null,
   "metadata": {},
   "outputs": [],
   "source": [
    "p = requests.get('https://statsapi.web.nhl.com/api/v1/people/{}/'.format(8475791))\n",
    "p = json.loads(p.content)\n",
    "p"
   ]
  },
  {
   "cell_type": "code",
   "execution_count": null,
   "metadata": {},
   "outputs": [],
   "source": [
    "#rasmus dahlin - 8480839"
   ]
  },
  {
   "cell_type": "code",
   "execution_count": null,
   "metadata": {},
   "outputs": [],
   "source": [
    "#lowest player id I can find\n",
    "ddddd = requests.get('https://statsapi.web.nhl.com/api/v1/people/8444849')\n",
    "soddup = BeautifulSoup(ddddd.content, 'html.parser')\n",
    "soddup"
   ]
  },
  {
   "cell_type": "code",
   "execution_count": null,
   "metadata": {},
   "outputs": [],
   "source": [
    "#highest player id I can find\n",
    "ddddd = requests.get('https://statsapi.web.nhl.com/api/v1/people/8480907')\n",
    "soddup = BeautifulSoup(ddddd.content, 'html.parser')\n",
    "soddup"
   ]
  },
  {
   "cell_type": "code",
   "execution_count": null,
   "metadata": {},
   "outputs": [],
   "source": [
    "#most recently drafted player (mr. irrelevant in 2018 draft)\n",
    "ddddd = requests.get('https://statsapi.web.nhl.com/api/v1/people/8480812')\n",
    "soddup = BeautifulSoup(ddddd.content, 'html.parser')\n",
    "soddup"
   ]
  },
  {
   "cell_type": "code",
   "execution_count": null,
   "metadata": {},
   "outputs": [],
   "source": [
    "test = pd"
   ]
  }
 ],
 "metadata": {
  "kernelspec": {
   "display_name": "Python 3",
   "language": "python",
   "name": "python3"
  },
  "language_info": {
   "codemirror_mode": {
    "name": "ipython",
    "version": 3
   },
   "file_extension": ".py",
   "mimetype": "text/x-python",
   "name": "python",
   "nbconvert_exporter": "python",
   "pygments_lexer": "ipython3",
   "version": "3.6.5"
  }
 },
 "nbformat": 4,
 "nbformat_minor": 2
}
