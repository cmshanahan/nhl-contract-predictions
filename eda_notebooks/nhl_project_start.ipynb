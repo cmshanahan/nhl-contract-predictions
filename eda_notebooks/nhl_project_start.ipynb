{
 "cells": [
  {
   "cell_type": "code",
   "execution_count": 1,
   "metadata": {},
   "outputs": [],
   "source": [
    "import numpy as np\n",
    "import pandas as pd\n",
    "import matplotlib.pyplot as plt\n",
    "\n",
    "%matplotlib inline"
   ]
  },
  {
   "cell_type": "code",
   "execution_count": 2,
   "metadata": {},
   "outputs": [],
   "source": [
    "import requests\n",
    "from bs4 import BeautifulSoup"
   ]
  },
  {
   "cell_type": "code",
   "execution_count": 3,
   "metadata": {},
   "outputs": [],
   "source": [
    "import ast"
   ]
  },
  {
   "cell_type": "code",
   "execution_count": 4,
   "metadata": {},
   "outputs": [],
   "source": [
    "import json\n",
    "from collections import defaultdict"
   ]
  },
  {
   "cell_type": "code",
   "execution_count": 5,
   "metadata": {},
   "outputs": [
    {
     "data": {
      "text/plain": [
       "bs4.BeautifulSoup"
      ]
     },
     "execution_count": 5,
     "metadata": {},
     "output_type": "execute_result"
    }
   ],
   "source": [
    "teams = requests.get('https://statsapi.web.nhl.com/api/v1/teams/')\n",
    "soup = BeautifulSoup(teams.content, 'html.parser')\n",
    "type(soup)"
   ]
  },
  {
   "cell_type": "code",
   "execution_count": 6,
   "metadata": {},
   "outputs": [],
   "source": [
    "j = json.loads(teams.content)"
   ]
  },
  {
   "cell_type": "code",
   "execution_count": 7,
   "metadata": {},
   "outputs": [],
   "source": [
    "active_team_ids = []\n",
    "team_name_ids = defaultdict(str)\n",
    "team_info = defaultdict(dict)\n",
    "for i in j['teams']:\n",
    "    _id = i['id']\n",
    "    active_team_ids.append(_id)\n",
    "    team_name_ids[_id] = i['name']\n",
    "    team_info[_id] = i"
   ]
  },
  {
   "cell_type": "code",
   "execution_count": 8,
   "metadata": {},
   "outputs": [
    {
     "data": {
      "text/plain": [
       "31"
      ]
     },
     "execution_count": 8,
     "metadata": {},
     "output_type": "execute_result"
    }
   ],
   "source": [
    "len(active_team_ids)"
   ]
  },
  {
   "cell_type": "code",
   "execution_count": 9,
   "metadata": {},
   "outputs": [],
   "source": [
    "# roster = requests.get('https://statsapi.web.nhl.com/api/v1/teams/1?expand=team.roster')\n",
    "# r = json.loads(roster.content)\n",
    "# roster = r['teams'][0]['roster']['roster']\n",
    "# roster[0]['person']\n",
    "\n",
    "rosters = defaultdict(list)\n",
    "for teamid in active_team_ids:\n",
    "    bstring = requests.get('https://statsapi.web.nhl.com/api/v1/teams/{}?expand=team.roster'\n",
    "                          .format(teamid))\n",
    "    r = json.loads(bstring.content)\n",
    "    rosters[teamid] = r['teams'][0]['roster']['roster']"
   ]
  },
  {
   "cell_type": "code",
   "execution_count": 10,
   "metadata": {},
   "outputs": [
    {
     "data": {
      "text/plain": [
       "8475791"
      ]
     },
     "execution_count": 10,
     "metadata": {},
     "output_type": "execute_result"
    }
   ],
   "source": [
    "rosters[1][0]['person']['id']"
   ]
  },
  {
   "cell_type": "code",
   "execution_count": 11,
   "metadata": {},
   "outputs": [
    {
     "ename": "SyntaxError",
     "evalue": "invalid syntax (<ipython-input-11-12c6d9765085>, line 2)",
     "output_type": "error",
     "traceback": [
      "\u001b[0;36m  File \u001b[0;32m\"<ipython-input-11-12c6d9765085>\"\u001b[0;36m, line \u001b[0;32m2\u001b[0m\n\u001b[0;31m    for p in\u001b[0m\n\u001b[0m             ^\u001b[0m\n\u001b[0;31mSyntaxError\u001b[0m\u001b[0;31m:\u001b[0m invalid syntax\n"
     ]
    }
   ],
   "source": [
    "# stats\n",
    "# for p in "
   ]
  },
  {
   "cell_type": "code",
   "execution_count": 12,
   "metadata": {},
   "outputs": [
    {
     "data": {
      "text/plain": [
       "[{'type': {'displayName': 'statsSingleSeason'},\n",
       "  'splits': [{'season': '20182019',\n",
       "    'stat': {'timeOnIce': '649:40',\n",
       "     'assists': 26,\n",
       "     'goals': 11,\n",
       "     'pim': 16,\n",
       "     'shots': 113,\n",
       "     'games': 33,\n",
       "     'hits': 22,\n",
       "     'powerPlayGoals': 1,\n",
       "     'powerPlayPoints': 12,\n",
       "     'powerPlayTimeOnIce': '112:11',\n",
       "     'evenTimeOnIce': '536:05',\n",
       "     'penaltyMinutes': '16',\n",
       "     'faceOffPct': 44.82,\n",
       "     'shotPct': 9.7,\n",
       "     'gameWinningGoals': 3,\n",
       "     'overTimeGoals': 0,\n",
       "     'shortHandedGoals': 0,\n",
       "     'shortHandedPoints': 0,\n",
       "     'shortHandedTimeOnIce': '01:24',\n",
       "     'blocked': 29,\n",
       "     'plusMinus': -6,\n",
       "     'points': 37,\n",
       "     'shifts': 727,\n",
       "     'timeOnIcePerGame': '19:41',\n",
       "     'evenTimeOnIcePerGame': '16:14',\n",
       "     'shortHandedTimeOnIcePerGame': '00:02',\n",
       "     'powerPlayTimeOnIcePerGame': '03:23'}}]}]"
      ]
     },
     "execution_count": 12,
     "metadata": {},
     "output_type": "execute_result"
    }
   ],
   "source": [
    "ps = requests.get('https://statsapi.web.nhl.com/api/v1/people/{}/stats?stats=statsSingleSeason&Season=20182019'.format(8475791))\n",
    "ps = json.loads(ps.content)['stats']\n",
    "ps"
   ]
  },
  {
   "cell_type": "code",
   "execution_count": 13,
   "metadata": {},
   "outputs": [
    {
     "data": {
      "text/plain": [
       "{'copyright': 'NHL and the NHL Shield are registered trademarks of the National Hockey League. NHL and NHL team marks are the property of the NHL and its teams. © NHL 2019. All Rights Reserved.',\n",
       " 'people': [{'id': 8475791,\n",
       "   'fullName': 'Taylor Hall',\n",
       "   'link': '/api/v1/people/8475791',\n",
       "   'firstName': 'Taylor',\n",
       "   'lastName': 'Hall',\n",
       "   'primaryNumber': '9',\n",
       "   'birthDate': '1991-11-14',\n",
       "   'currentAge': 27,\n",
       "   'birthCity': 'Calgary',\n",
       "   'birthStateProvince': 'AB',\n",
       "   'birthCountry': 'CAN',\n",
       "   'nationality': 'CAN',\n",
       "   'height': '6\\' 1\"',\n",
       "   'weight': 205,\n",
       "   'active': True,\n",
       "   'alternateCaptain': True,\n",
       "   'captain': False,\n",
       "   'rookie': False,\n",
       "   'shootsCatches': 'L',\n",
       "   'rosterStatus': 'I',\n",
       "   'currentTeam': {'id': 1,\n",
       "    'name': 'New Jersey Devils',\n",
       "    'link': '/api/v1/teams/1'},\n",
       "   'primaryPosition': {'code': 'L',\n",
       "    'name': 'Left Wing',\n",
       "    'type': 'Forward',\n",
       "    'abbreviation': 'LW'}}]}"
      ]
     },
     "execution_count": 13,
     "metadata": {},
     "output_type": "execute_result"
    }
   ],
   "source": [
    "p = requests.get('https://statsapi.web.nhl.com/api/v1/people/{}/'.format(8475791))\n",
    "p = json.loads(p.content)\n",
    "p"
   ]
  },
  {
   "cell_type": "code",
   "execution_count": 14,
   "metadata": {},
   "outputs": [],
   "source": [
    "#rasmus dahlin - 8480839"
   ]
  },
  {
   "cell_type": "code",
   "execution_count": 15,
   "metadata": {},
   "outputs": [
    {
     "data": {
      "text/plain": [
       "{\n",
       "  \"copyright\" : \"NHL and the NHL Shield are registered trademarks of the National Hockey League. NHL and NHL team marks are the property of the NHL and its teams. Â© NHL 2019. All Rights Reserved.\",\n",
       "  \"people\" : [ {\n",
       "    \"id\" : 8444849,\n",
       "    \"fullName\" : \"N.E. Pierson\",\n",
       "    \"link\" : \"/api/v1/people/8444849\",\n",
       "    \"firstName\" : \"N.E.\",\n",
       "    \"lastName\" : \"Pierson\",\n",
       "    \"primaryNumber\" : \"4\",\n",
       "    \"birthDate\" : \"1916-10-08\",\n",
       "    \"birthCity\" : \"Toronto\",\n",
       "    \"birthStateProvince\" : \"ON\",\n",
       "    \"birthCountry\" : \"CAN\",\n",
       "    \"nationality\" : \"CAN\",\n",
       "    \"height\" : \"6' 1\\\"\",\n",
       "    \"weight\" : 195,\n",
       "    \"active\" : false,\n",
       "    \"rookie\" : false,\n",
       "    \"shootsCatches\" : \"L\",\n",
       "    \"rosterStatus\" : \"N\",\n",
       "    \"primaryPosition\" : {\n",
       "      \"code\" : \"D\",\n",
       "      \"name\" : \"Defenseman\",\n",
       "      \"type\" : \"Defenseman\",\n",
       "      \"abbreviation\" : \"D\"\n",
       "    }\n",
       "  } ]\n",
       "}"
      ]
     },
     "execution_count": 15,
     "metadata": {},
     "output_type": "execute_result"
    }
   ],
   "source": [
    "#lowest player id I can find\n",
    "ddddd = requests.get('https://statsapi.web.nhl.com/api/v1/people/8444849')\n",
    "soddup = BeautifulSoup(ddddd.content, 'html.parser')\n",
    "soddup"
   ]
  },
  {
   "cell_type": "code",
   "execution_count": 16,
   "metadata": {},
   "outputs": [
    {
     "data": {
      "text/plain": [
       "{\n",
       "  \"copyright\" : \"NHL and the NHL Shield are registered trademarks of the National Hockey League. NHL and NHL team marks are the property of the NHL and its teams. Â© NHL 2019. All Rights Reserved.\",\n",
       "  \"people\" : [ {\n",
       "    \"id\" : 8480907,\n",
       "    \"fullName\" : \"Kayle Hayton\",\n",
       "    \"link\" : \"/api/v1/people/8480907\",\n",
       "    \"firstName\" : \"Kayle\",\n",
       "    \"lastName\" : \"Hayton\",\n",
       "    \"birthDate\" : \"1994-05-12\",\n",
       "    \"birthCity\" : \"Denver\",\n",
       "    \"birthStateProvince\" : \"CO\",\n",
       "    \"birthCountry\" : \"USA\",\n",
       "    \"nationality\" : \"USA\",\n",
       "    \"height\" : \"6' 0\\\"\",\n",
       "    \"weight\" : 161,\n",
       "    \"active\" : false,\n",
       "    \"rookie\" : true,\n",
       "    \"shootsCatches\" : \"L\",\n",
       "    \"rosterStatus\" : \"N\",\n",
       "    \"primaryPosition\" : {\n",
       "      \"code\" : \"G\",\n",
       "      \"name\" : \"Goalie\",\n",
       "      \"type\" : \"Goalie\",\n",
       "      \"abbreviation\" : \"G\"\n",
       "    }\n",
       "  } ]\n",
       "}"
      ]
     },
     "execution_count": 16,
     "metadata": {},
     "output_type": "execute_result"
    }
   ],
   "source": [
    "#highest player id I can find\n",
    "ddddd = requests.get('https://statsapi.web.nhl.com/api/v1/people/8480907')\n",
    "soddup = BeautifulSoup(ddddd.content, 'html.parser')\n",
    "soddup"
   ]
  },
  {
   "cell_type": "code",
   "execution_count": 17,
   "metadata": {},
   "outputs": [
    {
     "data": {
      "text/plain": [
       "{\n",
       "  \"copyright\" : \"NHL and the NHL Shield are registered trademarks of the National Hockey League. NHL and NHL team marks are the property of the NHL and its teams. Â© NHL 2019. All Rights Reserved.\",\n",
       "  \"people\" : [ {\n",
       "    \"id\" : 8480812,\n",
       "    \"fullName\" : \"Eric Florchuk\",\n",
       "    \"link\" : \"/api/v1/people/8480812\",\n",
       "    \"firstName\" : \"Eric\",\n",
       "    \"lastName\" : \"Florchuk\",\n",
       "    \"primaryNumber\" : \"58\",\n",
       "    \"birthDate\" : \"2000-01-10\",\n",
       "    \"currentAge\" : 19,\n",
       "    \"birthCity\" : \"Edmonton\",\n",
       "    \"birthStateProvince\" : \"AB\",\n",
       "    \"birthCountry\" : \"CAN\",\n",
       "    \"nationality\" : \"CAN\",\n",
       "    \"height\" : \"6' 2\\\"\",\n",
       "    \"weight\" : 175,\n",
       "    \"active\" : true,\n",
       "    \"alternateCaptain\" : false,\n",
       "    \"captain\" : false,\n",
       "    \"rookie\" : true,\n",
       "    \"shootsCatches\" : \"L\",\n",
       "    \"rosterStatus\" : \"N\",\n",
       "    \"currentTeam\" : {\n",
       "      \"id\" : 15,\n",
       "      \"name\" : \"Washington Capitals\",\n",
       "      \"link\" : \"/api/v1/teams/15\"\n",
       "    },\n",
       "    \"primaryPosition\" : {\n",
       "      \"code\" : \"C\",\n",
       "      \"name\" : \"Center\",\n",
       "      \"type\" : \"Forward\",\n",
       "      \"abbreviation\" : \"C\"\n",
       "    }\n",
       "  } ]\n",
       "}"
      ]
     },
     "execution_count": 17,
     "metadata": {},
     "output_type": "execute_result"
    }
   ],
   "source": [
    "#most recently drafted player (mr. irrelevant in 2018 draft)\n",
    "ddddd = requests.get('https://statsapi.web.nhl.com/api/v1/people/8480812')\n",
    "soddup = BeautifulSoup(ddddd.content, 'html.parser')\n",
    "soddup"
   ]
  },
  {
   "cell_type": "code",
   "execution_count": 20,
   "metadata": {},
   "outputs": [
    {
     "data": {
      "text/plain": [
       "(7294, 25)"
      ]
     },
     "execution_count": 20,
     "metadata": {},
     "output_type": "execute_result"
    }
   ],
   "source": [
    "df = pd.read_csv('../data/Contract_Details_PuckPedia_Mar_2019_Confidential.csv')\n",
    "df.shape"
   ]
  },
  {
   "cell_type": "code",
   "execution_count": 21,
   "metadata": {},
   "outputs": [
    {
     "data": {
      "text/html": [
       "<div>\n",
       "<style scoped>\n",
       "    .dataframe tbody tr th:only-of-type {\n",
       "        vertical-align: middle;\n",
       "    }\n",
       "\n",
       "    .dataframe tbody tr th {\n",
       "        vertical-align: top;\n",
       "    }\n",
       "\n",
       "    .dataframe thead th {\n",
       "        text-align: right;\n",
       "    }\n",
       "</style>\n",
       "<table border=\"1\" class=\"dataframe\">\n",
       "  <thead>\n",
       "    <tr style=\"text-align: right;\">\n",
       "      <th></th>\n",
       "      <th>player_id</th>\n",
       "      <th>first_name</th>\n",
       "      <th>last_name</th>\n",
       "      <th>position</th>\n",
       "      <th>birthdate</th>\n",
       "      <th>season</th>\n",
       "      <th>team_id</th>\n",
       "      <th>team_name</th>\n",
       "      <th>cap_hit</th>\n",
       "      <th>base_salary</th>\n",
       "      <th>...</th>\n",
       "      <th>signing_date</th>\n",
       "      <th>signing_team</th>\n",
       "      <th>length</th>\n",
       "      <th>Total Value</th>\n",
       "      <th>contract_level</th>\n",
       "      <th>contract_id</th>\n",
       "      <th>expiry_status</th>\n",
       "      <th>contract_type</th>\n",
       "      <th>contract_end</th>\n",
       "      <th>ufa_year</th>\n",
       "    </tr>\n",
       "  </thead>\n",
       "  <tbody>\n",
       "    <tr>\n",
       "      <th>0</th>\n",
       "      <td>103</td>\n",
       "      <td>Roberto</td>\n",
       "      <td>Luongo</td>\n",
       "      <td>Goaltender</td>\n",
       "      <td>4/4/79</td>\n",
       "      <td>2015-2016</td>\n",
       "      <td>14.0</td>\n",
       "      <td>Panthers</td>\n",
       "      <td>$5,333,333</td>\n",
       "      <td>$6,714,000</td>\n",
       "      <td>...</td>\n",
       "      <td>9/2/09</td>\n",
       "      <td>NaN</td>\n",
       "      <td>12</td>\n",
       "      <td>$63,999,996</td>\n",
       "      <td>standard_level</td>\n",
       "      <td>4124</td>\n",
       "      <td>UFA</td>\n",
       "      <td>current</td>\n",
       "      <td>2021-2022</td>\n",
       "      <td>2006.0</td>\n",
       "    </tr>\n",
       "    <tr>\n",
       "      <th>1</th>\n",
       "      <td>103</td>\n",
       "      <td>Roberto</td>\n",
       "      <td>Luongo</td>\n",
       "      <td>Goaltender</td>\n",
       "      <td>4/4/79</td>\n",
       "      <td>2016-2017</td>\n",
       "      <td>14.0</td>\n",
       "      <td>Panthers</td>\n",
       "      <td>$5,333,333</td>\n",
       "      <td>$6,714,000</td>\n",
       "      <td>...</td>\n",
       "      <td>9/2/09</td>\n",
       "      <td>NaN</td>\n",
       "      <td>12</td>\n",
       "      <td>$63,999,996</td>\n",
       "      <td>standard_level</td>\n",
       "      <td>4124</td>\n",
       "      <td>UFA</td>\n",
       "      <td>current</td>\n",
       "      <td>2021-2022</td>\n",
       "      <td>2006.0</td>\n",
       "    </tr>\n",
       "    <tr>\n",
       "      <th>2</th>\n",
       "      <td>103</td>\n",
       "      <td>Roberto</td>\n",
       "      <td>Luongo</td>\n",
       "      <td>Goaltender</td>\n",
       "      <td>4/4/79</td>\n",
       "      <td>2017-2018</td>\n",
       "      <td>14.0</td>\n",
       "      <td>Panthers</td>\n",
       "      <td>$5,333,333</td>\n",
       "      <td>$6,714,000</td>\n",
       "      <td>...</td>\n",
       "      <td>9/2/09</td>\n",
       "      <td>NaN</td>\n",
       "      <td>12</td>\n",
       "      <td>$63,999,996</td>\n",
       "      <td>standard_level</td>\n",
       "      <td>4124</td>\n",
       "      <td>UFA</td>\n",
       "      <td>current</td>\n",
       "      <td>2021-2022</td>\n",
       "      <td>2006.0</td>\n",
       "    </tr>\n",
       "    <tr>\n",
       "      <th>3</th>\n",
       "      <td>103</td>\n",
       "      <td>Roberto</td>\n",
       "      <td>Luongo</td>\n",
       "      <td>Goaltender</td>\n",
       "      <td>4/4/79</td>\n",
       "      <td>2018-2019</td>\n",
       "      <td>14.0</td>\n",
       "      <td>Panthers</td>\n",
       "      <td>$5,333,333</td>\n",
       "      <td>$3,382,000</td>\n",
       "      <td>...</td>\n",
       "      <td>9/2/09</td>\n",
       "      <td>NaN</td>\n",
       "      <td>12</td>\n",
       "      <td>$63,999,996</td>\n",
       "      <td>standard_level</td>\n",
       "      <td>4124</td>\n",
       "      <td>UFA</td>\n",
       "      <td>current</td>\n",
       "      <td>2021-2022</td>\n",
       "      <td>2006.0</td>\n",
       "    </tr>\n",
       "    <tr>\n",
       "      <th>4</th>\n",
       "      <td>103</td>\n",
       "      <td>Roberto</td>\n",
       "      <td>Luongo</td>\n",
       "      <td>Goaltender</td>\n",
       "      <td>4/4/79</td>\n",
       "      <td>2019-2020</td>\n",
       "      <td>14.0</td>\n",
       "      <td>Panthers</td>\n",
       "      <td>$5,333,333</td>\n",
       "      <td>$1,618,000</td>\n",
       "      <td>...</td>\n",
       "      <td>9/2/09</td>\n",
       "      <td>NaN</td>\n",
       "      <td>12</td>\n",
       "      <td>$63,999,996</td>\n",
       "      <td>standard_level</td>\n",
       "      <td>4124</td>\n",
       "      <td>UFA</td>\n",
       "      <td>current</td>\n",
       "      <td>2021-2022</td>\n",
       "      <td>2006.0</td>\n",
       "    </tr>\n",
       "  </tbody>\n",
       "</table>\n",
       "<p>5 rows × 25 columns</p>\n",
       "</div>"
      ],
      "text/plain": [
       "   player_id first_name last_name    position birthdate     season  team_id  \\\n",
       "0        103    Roberto    Luongo  Goaltender    4/4/79  2015-2016     14.0   \n",
       "1        103    Roberto    Luongo  Goaltender    4/4/79  2016-2017     14.0   \n",
       "2        103    Roberto    Luongo  Goaltender    4/4/79  2017-2018     14.0   \n",
       "3        103    Roberto    Luongo  Goaltender    4/4/79  2018-2019     14.0   \n",
       "4        103    Roberto    Luongo  Goaltender    4/4/79  2019-2020     14.0   \n",
       "\n",
       "  team_name       cap_hit   base_salary   ...    signing_date signing_team  \\\n",
       "0  Panthers   $5,333,333    $6,714,000    ...          9/2/09          NaN   \n",
       "1  Panthers   $5,333,333    $6,714,000    ...          9/2/09          NaN   \n",
       "2  Panthers   $5,333,333    $6,714,000    ...          9/2/09          NaN   \n",
       "3  Panthers   $5,333,333    $3,382,000    ...          9/2/09          NaN   \n",
       "4  Panthers   $5,333,333    $1,618,000    ...          9/2/09          NaN   \n",
       "\n",
       "  length   Total Value   contract_level contract_id expiry_status  \\\n",
       "0     12   $63,999,996   standard_level        4124           UFA   \n",
       "1     12   $63,999,996   standard_level        4124           UFA   \n",
       "2     12   $63,999,996   standard_level        4124           UFA   \n",
       "3     12   $63,999,996   standard_level        4124           UFA   \n",
       "4     12   $63,999,996   standard_level        4124           UFA   \n",
       "\n",
       "   contract_type contract_end ufa_year  \n",
       "0        current    2021-2022   2006.0  \n",
       "1        current    2021-2022   2006.0  \n",
       "2        current    2021-2022   2006.0  \n",
       "3        current    2021-2022   2006.0  \n",
       "4        current    2021-2022   2006.0  \n",
       "\n",
       "[5 rows x 25 columns]"
      ]
     },
     "execution_count": 21,
     "metadata": {},
     "output_type": "execute_result"
    }
   ],
   "source": [
    "df.head()"
   ]
  },
  {
   "cell_type": "code",
   "execution_count": 22,
   "metadata": {},
   "outputs": [
    {
     "name": "stdout",
     "output_type": "stream",
     "text": [
      "<class 'pandas.core.frame.DataFrame'>\n",
      "RangeIndex: 7294 entries, 0 to 7293\n",
      "Data columns (total 25 columns):\n",
      "player_id         7294 non-null int64\n",
      "first_name        7294 non-null object\n",
      "last_name         7294 non-null object\n",
      "position          7294 non-null object\n",
      "birthdate         7294 non-null object\n",
      "season            7294 non-null object\n",
      "team_id           6790 non-null float64\n",
      "team_name         6787 non-null object\n",
      "cap_hit           7294 non-null object\n",
      "base_salary       7261 non-null object\n",
      "p_bonuses         5063 non-null object\n",
      "s_bonuses         5597 non-null object\n",
      "total_salary      7004 non-null object\n",
      "active            5435 non-null float64\n",
      "buyout_id         88 non-null float64\n",
      "signing_date      7293 non-null object\n",
      "signing_team      5318 non-null object\n",
      "length            7294 non-null int64\n",
      " Total Value      7294 non-null object\n",
      "contract_level    7294 non-null object\n",
      "contract_id       7294 non-null int64\n",
      "expiry_status     7294 non-null object\n",
      "contract_type     7294 non-null object\n",
      "contract_end      7294 non-null object\n",
      "ufa_year          7282 non-null float64\n",
      "dtypes: float64(4), int64(3), object(18)\n",
      "memory usage: 1.4+ MB\n"
     ]
    }
   ],
   "source": [
    "df.info()"
   ]
  },
  {
   "cell_type": "code",
   "execution_count": 23,
   "metadata": {},
   "outputs": [],
   "source": [
    "df.drop('buyout_id', axis=1, inplace=True)"
   ]
  },
  {
   "cell_type": "code",
   "execution_count": 24,
   "metadata": {},
   "outputs": [
    {
     "data": {
      "text/plain": [
       "2018-2019    1571\n",
       "2017-2018    1492\n",
       "2016-2017    1248\n",
       "2015-2016    1041\n",
       "2019-2020     942\n",
       "2020-2021     518\n",
       "2021-2022     241\n",
       "2022-2023     108\n",
       "2023-2024      67\n",
       "2024-2025      40\n",
       "2025-2026      18\n",
       "2026-2027       8\n",
       "Name: season, dtype: int64"
      ]
     },
     "execution_count": 24,
     "metadata": {},
     "output_type": "execute_result"
    }
   ],
   "source": [
    "df['season'].value_counts()"
   ]
  },
  {
   "cell_type": "code",
   "execution_count": null,
   "metadata": {},
   "outputs": [],
   "source": []
  },
  {
   "cell_type": "code",
   "execution_count": null,
   "metadata": {},
   "outputs": [],
   "source": [
    "#get length of players on all rosters\n",
    "#unique combos of first/last names in contracts?\n"
   ]
  }
 ],
 "metadata": {
  "kernelspec": {
   "display_name": "Python 3",
   "language": "python",
   "name": "python3"
  },
  "language_info": {
   "codemirror_mode": {
    "name": "ipython",
    "version": 3
   },
   "file_extension": ".py",
   "mimetype": "text/x-python",
   "name": "python",
   "nbconvert_exporter": "python",
   "pygments_lexer": "ipython3",
   "version": "3.6.5"
  }
 },
 "nbformat": 4,
 "nbformat_minor": 2
}
