{
 "cells": [
  {
   "cell_type": "code",
   "execution_count": 1,
   "metadata": {},
   "outputs": [],
   "source": [
    "import numpy as np\n",
    "import pandas as pd\n",
    "import matplotlib.pyplot as plt\n",
    "\n",
    "%matplotlib inline"
   ]
  },
  {
   "cell_type": "code",
   "execution_count": 2,
   "metadata": {},
   "outputs": [],
   "source": [
    "import random"
   ]
  },
  {
   "cell_type": "markdown",
   "metadata": {},
   "source": [
    "Goal:  \n",
    "Create a dataframe that has a row for each player for a given season plus one for career  \n",
    "Will also include features for the least 3 years averaged"
   ]
  },
  {
   "cell_type": "code",
   "execution_count": 33,
   "metadata": {},
   "outputs": [],
   "source": [
    "df_pst = pd.read_csv('../data/nat_stat_trick/2017_pst_nst.csv')\n",
    "df_oirel = pd.read_csv('../data/nat_stat_trick/2017_oirel_nst.csv')\n",
    "df_woirel = pd.read_csv('../data/nat_stat_trick/2017wind_oirel_nst.csv')"
   ]
  },
  {
   "cell_type": "code",
   "execution_count": 14,
   "metadata": {},
   "outputs": [
    {
     "data": {
      "text/html": [
       "<div>\n",
       "<style scoped>\n",
       "    .dataframe tbody tr th:only-of-type {\n",
       "        vertical-align: middle;\n",
       "    }\n",
       "\n",
       "    .dataframe tbody tr th {\n",
       "        vertical-align: top;\n",
       "    }\n",
       "\n",
       "    .dataframe thead th {\n",
       "        text-align: right;\n",
       "    }\n",
       "</style>\n",
       "<table border=\"1\" class=\"dataframe\">\n",
       "  <thead>\n",
       "    <tr style=\"text-align: right;\">\n",
       "      <th></th>\n",
       "      <th>Unnamed: 0</th>\n",
       "      <th>Player</th>\n",
       "      <th>Team</th>\n",
       "      <th>Position</th>\n",
       "      <th>GP</th>\n",
       "      <th>TOI</th>\n",
       "      <th>Goals</th>\n",
       "      <th>Total Assists</th>\n",
       "      <th>First Assists</th>\n",
       "      <th>Second Assists</th>\n",
       "      <th>...</th>\n",
       "      <th>Misconduct</th>\n",
       "      <th>Penalties Drawn</th>\n",
       "      <th>Giveaways</th>\n",
       "      <th>Takeaways</th>\n",
       "      <th>Hits</th>\n",
       "      <th>Hits Taken</th>\n",
       "      <th>Shots Blocked</th>\n",
       "      <th>Faceoffs Won</th>\n",
       "      <th>Faceoffs Lost</th>\n",
       "      <th>Faceoffs %</th>\n",
       "    </tr>\n",
       "  </thead>\n",
       "  <tbody>\n",
       "    <tr>\n",
       "      <th>0</th>\n",
       "      <td>769</td>\n",
       "      <td>Connor McDavid</td>\n",
       "      <td>EDM</td>\n",
       "      <td>C</td>\n",
       "      <td>82</td>\n",
       "      <td>1766.800000</td>\n",
       "      <td>41</td>\n",
       "      <td>67</td>\n",
       "      <td>39</td>\n",
       "      <td>28</td>\n",
       "      <td>...</td>\n",
       "      <td>0</td>\n",
       "      <td>36</td>\n",
       "      <td>67</td>\n",
       "      <td>111</td>\n",
       "      <td>28</td>\n",
       "      <td>118</td>\n",
       "      <td>46</td>\n",
       "      <td>376</td>\n",
       "      <td>533</td>\n",
       "      <td>41.36</td>\n",
       "    </tr>\n",
       "    <tr>\n",
       "      <th>1</th>\n",
       "      <td>169</td>\n",
       "      <td>Claude Giroux</td>\n",
       "      <td>PHI</td>\n",
       "      <td>C</td>\n",
       "      <td>82</td>\n",
       "      <td>1669.800000</td>\n",
       "      <td>34</td>\n",
       "      <td>68</td>\n",
       "      <td>33</td>\n",
       "      <td>35</td>\n",
       "      <td>...</td>\n",
       "      <td>0</td>\n",
       "      <td>26</td>\n",
       "      <td>44</td>\n",
       "      <td>34</td>\n",
       "      <td>30</td>\n",
       "      <td>54</td>\n",
       "      <td>23</td>\n",
       "      <td>638</td>\n",
       "      <td>450</td>\n",
       "      <td>58.64</td>\n",
       "    </tr>\n",
       "    <tr>\n",
       "      <th>2</th>\n",
       "      <td>484</td>\n",
       "      <td>Nikita Kucherov</td>\n",
       "      <td>T.B</td>\n",
       "      <td>R</td>\n",
       "      <td>80</td>\n",
       "      <td>1585.716667</td>\n",
       "      <td>39</td>\n",
       "      <td>61</td>\n",
       "      <td>33</td>\n",
       "      <td>28</td>\n",
       "      <td>...</td>\n",
       "      <td>0</td>\n",
       "      <td>36</td>\n",
       "      <td>79</td>\n",
       "      <td>66</td>\n",
       "      <td>31</td>\n",
       "      <td>92</td>\n",
       "      <td>15</td>\n",
       "      <td>3</td>\n",
       "      <td>2</td>\n",
       "      <td>60.00</td>\n",
       "    </tr>\n",
       "    <tr>\n",
       "      <th>3</th>\n",
       "      <td>91</td>\n",
       "      <td>Evgeni Malkin</td>\n",
       "      <td>PIT</td>\n",
       "      <td>C</td>\n",
       "      <td>78</td>\n",
       "      <td>1481.216667</td>\n",
       "      <td>42</td>\n",
       "      <td>56</td>\n",
       "      <td>32</td>\n",
       "      <td>24</td>\n",
       "      <td>...</td>\n",
       "      <td>1</td>\n",
       "      <td>30</td>\n",
       "      <td>73</td>\n",
       "      <td>75</td>\n",
       "      <td>48</td>\n",
       "      <td>98</td>\n",
       "      <td>32</td>\n",
       "      <td>460</td>\n",
       "      <td>592</td>\n",
       "      <td>43.73</td>\n",
       "    </tr>\n",
       "    <tr>\n",
       "      <th>4</th>\n",
       "      <td>659</td>\n",
       "      <td>Nathan MacKinnon</td>\n",
       "      <td>COL</td>\n",
       "      <td>C</td>\n",
       "      <td>74</td>\n",
       "      <td>1472.983333</td>\n",
       "      <td>39</td>\n",
       "      <td>58</td>\n",
       "      <td>38</td>\n",
       "      <td>20</td>\n",
       "      <td>...</td>\n",
       "      <td>1</td>\n",
       "      <td>24</td>\n",
       "      <td>41</td>\n",
       "      <td>36</td>\n",
       "      <td>38</td>\n",
       "      <td>74</td>\n",
       "      <td>22</td>\n",
       "      <td>485</td>\n",
       "      <td>672</td>\n",
       "      <td>41.92</td>\n",
       "    </tr>\n",
       "  </tbody>\n",
       "</table>\n",
       "<p>5 rows × 34 columns</p>\n",
       "</div>"
      ],
      "text/plain": [
       "   Unnamed: 0            Player Team Position  GP          TOI  Goals  \\\n",
       "0         769    Connor McDavid  EDM        C  82  1766.800000     41   \n",
       "1         169     Claude Giroux  PHI        C  82  1669.800000     34   \n",
       "2         484   Nikita Kucherov  T.B        R  80  1585.716667     39   \n",
       "3          91     Evgeni Malkin  PIT        C  78  1481.216667     42   \n",
       "4         659  Nathan MacKinnon  COL        C  74  1472.983333     39   \n",
       "\n",
       "   Total Assists  First Assists  Second Assists     ...      Misconduct  \\\n",
       "0             67             39              28     ...               0   \n",
       "1             68             33              35     ...               0   \n",
       "2             61             33              28     ...               0   \n",
       "3             56             32              24     ...               1   \n",
       "4             58             38              20     ...               1   \n",
       "\n",
       "  Penalties Drawn  Giveaways Takeaways  Hits  Hits Taken  Shots Blocked  \\\n",
       "0              36         67       111    28         118             46   \n",
       "1              26         44        34    30          54             23   \n",
       "2              36         79        66    31          92             15   \n",
       "3              30         73        75    48          98             32   \n",
       "4              24         41        36    38          74             22   \n",
       "\n",
       "   Faceoffs Won  Faceoffs Lost  Faceoffs %  \n",
       "0           376            533       41.36  \n",
       "1           638            450       58.64  \n",
       "2             3              2       60.00  \n",
       "3           460            592       43.73  \n",
       "4           485            672       41.92  \n",
       "\n",
       "[5 rows x 34 columns]"
      ]
     },
     "execution_count": 14,
     "metadata": {},
     "output_type": "execute_result"
    }
   ],
   "source": [
    "df_pst.head()"
   ]
  },
  {
   "cell_type": "code",
   "execution_count": 34,
   "metadata": {},
   "outputs": [],
   "source": [
    "df_pst['Unnamed: 0'] = 2017\n",
    "df_oirel['Unnamed: 0'] = 2017\n",
    "df_woirel['Unnamed: 0'] = 2017"
   ]
  },
  {
   "cell_type": "code",
   "execution_count": 29,
   "metadata": {},
   "outputs": [
    {
     "data": {
      "text/plain": [
       "(890, 34)"
      ]
     },
     "execution_count": 29,
     "metadata": {},
     "output_type": "execute_result"
    }
   ],
   "source": [
    "df_pst.shape"
   ]
  },
  {
   "cell_type": "code",
   "execution_count": 31,
   "metadata": {},
   "outputs": [
    {
     "data": {
      "text/html": [
       "<div>\n",
       "<style scoped>\n",
       "    .dataframe tbody tr th:only-of-type {\n",
       "        vertical-align: middle;\n",
       "    }\n",
       "\n",
       "    .dataframe tbody tr th {\n",
       "        vertical-align: top;\n",
       "    }\n",
       "\n",
       "    .dataframe thead th {\n",
       "        text-align: right;\n",
       "    }\n",
       "</style>\n",
       "<table border=\"1\" class=\"dataframe\">\n",
       "  <thead>\n",
       "    <tr style=\"text-align: right;\">\n",
       "      <th></th>\n",
       "      <th>Unnamed: 0</th>\n",
       "      <th>Player</th>\n",
       "      <th>Team</th>\n",
       "      <th>Position</th>\n",
       "      <th>GP</th>\n",
       "      <th>TOI</th>\n",
       "      <th>Goals</th>\n",
       "      <th>Total Assists</th>\n",
       "      <th>First Assists</th>\n",
       "      <th>Second Assists</th>\n",
       "      <th>...</th>\n",
       "      <th>Misconduct</th>\n",
       "      <th>Penalties Drawn</th>\n",
       "      <th>Giveaways</th>\n",
       "      <th>Takeaways</th>\n",
       "      <th>Hits</th>\n",
       "      <th>Hits Taken</th>\n",
       "      <th>Shots Blocked</th>\n",
       "      <th>Faceoffs Won</th>\n",
       "      <th>Faceoffs Lost</th>\n",
       "      <th>Faceoffs %</th>\n",
       "    </tr>\n",
       "  </thead>\n",
       "  <tbody>\n",
       "    <tr>\n",
       "      <th>0</th>\n",
       "      <td>2017</td>\n",
       "      <td>Connor McDavid</td>\n",
       "      <td>EDM</td>\n",
       "      <td>C</td>\n",
       "      <td>82</td>\n",
       "      <td>1766.800000</td>\n",
       "      <td>41</td>\n",
       "      <td>67</td>\n",
       "      <td>39</td>\n",
       "      <td>28</td>\n",
       "      <td>...</td>\n",
       "      <td>0</td>\n",
       "      <td>36</td>\n",
       "      <td>67</td>\n",
       "      <td>111</td>\n",
       "      <td>28</td>\n",
       "      <td>118</td>\n",
       "      <td>46</td>\n",
       "      <td>376</td>\n",
       "      <td>533</td>\n",
       "      <td>41.36</td>\n",
       "    </tr>\n",
       "    <tr>\n",
       "      <th>1</th>\n",
       "      <td>2017</td>\n",
       "      <td>Claude Giroux</td>\n",
       "      <td>PHI</td>\n",
       "      <td>C</td>\n",
       "      <td>82</td>\n",
       "      <td>1669.800000</td>\n",
       "      <td>34</td>\n",
       "      <td>68</td>\n",
       "      <td>33</td>\n",
       "      <td>35</td>\n",
       "      <td>...</td>\n",
       "      <td>0</td>\n",
       "      <td>26</td>\n",
       "      <td>44</td>\n",
       "      <td>34</td>\n",
       "      <td>30</td>\n",
       "      <td>54</td>\n",
       "      <td>23</td>\n",
       "      <td>638</td>\n",
       "      <td>450</td>\n",
       "      <td>58.64</td>\n",
       "    </tr>\n",
       "    <tr>\n",
       "      <th>2</th>\n",
       "      <td>2017</td>\n",
       "      <td>Nikita Kucherov</td>\n",
       "      <td>T.B</td>\n",
       "      <td>R</td>\n",
       "      <td>80</td>\n",
       "      <td>1585.716667</td>\n",
       "      <td>39</td>\n",
       "      <td>61</td>\n",
       "      <td>33</td>\n",
       "      <td>28</td>\n",
       "      <td>...</td>\n",
       "      <td>0</td>\n",
       "      <td>36</td>\n",
       "      <td>79</td>\n",
       "      <td>66</td>\n",
       "      <td>31</td>\n",
       "      <td>92</td>\n",
       "      <td>15</td>\n",
       "      <td>3</td>\n",
       "      <td>2</td>\n",
       "      <td>60.00</td>\n",
       "    </tr>\n",
       "    <tr>\n",
       "      <th>3</th>\n",
       "      <td>2017</td>\n",
       "      <td>Evgeni Malkin</td>\n",
       "      <td>PIT</td>\n",
       "      <td>C</td>\n",
       "      <td>78</td>\n",
       "      <td>1481.216667</td>\n",
       "      <td>42</td>\n",
       "      <td>56</td>\n",
       "      <td>32</td>\n",
       "      <td>24</td>\n",
       "      <td>...</td>\n",
       "      <td>1</td>\n",
       "      <td>30</td>\n",
       "      <td>73</td>\n",
       "      <td>75</td>\n",
       "      <td>48</td>\n",
       "      <td>98</td>\n",
       "      <td>32</td>\n",
       "      <td>460</td>\n",
       "      <td>592</td>\n",
       "      <td>43.73</td>\n",
       "    </tr>\n",
       "    <tr>\n",
       "      <th>4</th>\n",
       "      <td>2017</td>\n",
       "      <td>Nathan MacKinnon</td>\n",
       "      <td>COL</td>\n",
       "      <td>C</td>\n",
       "      <td>74</td>\n",
       "      <td>1472.983333</td>\n",
       "      <td>39</td>\n",
       "      <td>58</td>\n",
       "      <td>38</td>\n",
       "      <td>20</td>\n",
       "      <td>...</td>\n",
       "      <td>1</td>\n",
       "      <td>24</td>\n",
       "      <td>41</td>\n",
       "      <td>36</td>\n",
       "      <td>38</td>\n",
       "      <td>74</td>\n",
       "      <td>22</td>\n",
       "      <td>485</td>\n",
       "      <td>672</td>\n",
       "      <td>41.92</td>\n",
       "    </tr>\n",
       "  </tbody>\n",
       "</table>\n",
       "<p>5 rows × 34 columns</p>\n",
       "</div>"
      ],
      "text/plain": [
       "   Unnamed: 0            Player Team Position  GP          TOI  Goals  \\\n",
       "0        2017    Connor McDavid  EDM        C  82  1766.800000     41   \n",
       "1        2017     Claude Giroux  PHI        C  82  1669.800000     34   \n",
       "2        2017   Nikita Kucherov  T.B        R  80  1585.716667     39   \n",
       "3        2017     Evgeni Malkin  PIT        C  78  1481.216667     42   \n",
       "4        2017  Nathan MacKinnon  COL        C  74  1472.983333     39   \n",
       "\n",
       "   Total Assists  First Assists  Second Assists     ...      Misconduct  \\\n",
       "0             67             39              28     ...               0   \n",
       "1             68             33              35     ...               0   \n",
       "2             61             33              28     ...               0   \n",
       "3             56             32              24     ...               1   \n",
       "4             58             38              20     ...               1   \n",
       "\n",
       "  Penalties Drawn  Giveaways Takeaways  Hits  Hits Taken  Shots Blocked  \\\n",
       "0              36         67       111    28         118             46   \n",
       "1              26         44        34    30          54             23   \n",
       "2              36         79        66    31          92             15   \n",
       "3              30         73        75    48          98             32   \n",
       "4              24         41        36    38          74             22   \n",
       "\n",
       "   Faceoffs Won  Faceoffs Lost  Faceoffs %  \n",
       "0           376            533       41.36  \n",
       "1           638            450       58.64  \n",
       "2             3              2       60.00  \n",
       "3           460            592       43.73  \n",
       "4           485            672       41.92  \n",
       "\n",
       "[5 rows x 34 columns]"
      ]
     },
     "execution_count": 31,
     "metadata": {},
     "output_type": "execute_result"
    }
   ],
   "source": [
    "df_pst.head()"
   ]
  },
  {
   "cell_type": "code",
   "execution_count": 25,
   "metadata": {},
   "outputs": [
    {
     "data": {
      "text/plain": [
       "(890, 34)"
      ]
     },
     "execution_count": 25,
     "metadata": {},
     "output_type": "execute_result"
    }
   ],
   "source": [
    "df_pst.shape"
   ]
  },
  {
   "cell_type": "code",
   "execution_count": 35,
   "metadata": {},
   "outputs": [],
   "source": [
    "for y in range(2016, 2006, -1):\n",
    "    if y > 2008:\n",
    "        twoirel = pd.read_csv('../data/nat_stat_trick/{}wind_oirel_nst.csv'.format(y))\n",
    "        twoirel['Unnamed: 0'] = y\n",
    "        df_woirel = pd.concat((df_woirel, twoirel))\n",
    "    \n",
    "    tpst = pd.read_csv('../data/nat_stat_trick/{}_pst_nst.csv'.format(y))\n",
    "    toirel = pd.read_csv('../data/nat_stat_trick/{}_oirel_nst.csv'.format(y))\n",
    "\n",
    "    tpst['Unnamed: 0'] = y\n",
    "    toirel['Unnamed: 0'] = y\n",
    "\n",
    "    df_pst = pd.concat((df_pst, tpst))\n",
    "    df_oirel = pd.concat((df_oirel, toirel))\n"
   ]
  },
  {
   "cell_type": "code",
   "execution_count": 36,
   "metadata": {},
   "outputs": [
    {
     "data": {
      "text/plain": [
       "(9684, 34)"
      ]
     },
     "execution_count": 36,
     "metadata": {},
     "output_type": "execute_result"
    }
   ],
   "source": [
    "df_pst.shape"
   ]
  },
  {
   "cell_type": "code",
   "execution_count": 37,
   "metadata": {},
   "outputs": [
    {
     "data": {
      "text/plain": [
       "(9684, 52)"
      ]
     },
     "execution_count": 37,
     "metadata": {},
     "output_type": "execute_result"
    }
   ],
   "source": [
    "df_oirel.shape"
   ]
  },
  {
   "cell_type": "code",
   "execution_count": 38,
   "metadata": {},
   "outputs": [
    {
     "data": {
      "text/plain": [
       "(10354, 52)"
      ]
     },
     "execution_count": 38,
     "metadata": {},
     "output_type": "execute_result"
    }
   ],
   "source": [
    "df_woirel.shape"
   ]
  },
  {
   "cell_type": "code",
   "execution_count": 39,
   "metadata": {},
   "outputs": [
    {
     "name": "stdout",
     "output_type": "stream",
     "text": [
      "<class 'pandas.core.frame.DataFrame'>\n",
      "Int64Index: 9684 entries, 0 to 851\n",
      "Data columns (total 34 columns):\n",
      "Unnamed: 0          9684 non-null int64\n",
      "Player              9684 non-null object\n",
      "Team                9684 non-null object\n",
      "Position            9684 non-null object\n",
      "GP                  9684 non-null int64\n",
      "TOI                 9684 non-null float64\n",
      "Goals               9684 non-null int64\n",
      "Total Assists       9684 non-null int64\n",
      "First Assists       9684 non-null int64\n",
      "Second Assists      9684 non-null int64\n",
      "Total Points        9684 non-null int64\n",
      "IPP                 9684 non-null object\n",
      "Shots               9684 non-null int64\n",
      "SH%                 9684 non-null object\n",
      "iCF                 9684 non-null int64\n",
      "iFF                 9684 non-null int64\n",
      "iSCF                9684 non-null int64\n",
      "iHDCF               9684 non-null int64\n",
      "Rush Attempts       9684 non-null int64\n",
      "Rebounds Created    9684 non-null int64\n",
      "PIM                 9684 non-null int64\n",
      "Total Penalties     9684 non-null int64\n",
      "Minor               9684 non-null int64\n",
      "Major               9684 non-null int64\n",
      "Misconduct          9684 non-null int64\n",
      "Penalties Drawn     9684 non-null int64\n",
      "Giveaways           9684 non-null int64\n",
      "Takeaways           9684 non-null int64\n",
      "Hits                9684 non-null int64\n",
      "Hits Taken          9684 non-null int64\n",
      "Shots Blocked       9684 non-null int64\n",
      "Faceoffs Won        9684 non-null int64\n",
      "Faceoffs Lost       9684 non-null int64\n",
      "Faceoffs %          9684 non-null object\n",
      "dtypes: float64(1), int64(27), object(6)\n",
      "memory usage: 2.6+ MB\n"
     ]
    }
   ],
   "source": [
    "df_pst.info()"
   ]
  },
  {
   "cell_type": "code",
   "execution_count": 40,
   "metadata": {},
   "outputs": [
    {
     "data": {
      "text/plain": [
       "D       3305\n",
       "C       2596\n",
       "L       1912\n",
       "R       1757\n",
       "C, L      62\n",
       "C, R      32\n",
       "L, R      19\n",
       "D, R       1\n",
       "Name: Position, dtype: int64"
      ]
     },
     "execution_count": 40,
     "metadata": {},
     "output_type": "execute_result"
    }
   ],
   "source": [
    "df_pst.Position.value_counts()"
   ]
  },
  {
   "cell_type": "code",
   "execution_count": 41,
   "metadata": {},
   "outputs": [
    {
     "name": "stdout",
     "output_type": "stream",
     "text": [
      "<class 'pandas.core.frame.DataFrame'>\n",
      "Int64Index: 10354 entries, 0 to 1175\n",
      "Data columns (total 52 columns):\n",
      "Unnamed: 0               10354 non-null int64\n",
      "Player                   10354 non-null object\n",
      "Team                     10354 non-null object\n",
      "Position                 10354 non-null object\n",
      "GP                       10354 non-null int64\n",
      "TOI                      10354 non-null float64\n",
      "TOI/GP                   10354 non-null float64\n",
      "CF/60 Rel                10354 non-null float64\n",
      "CA/60 Rel                10354 non-null float64\n",
      "CF% Rel                  10354 non-null object\n",
      "FF/60 Rel                10354 non-null float64\n",
      "FA/60 Rel                10354 non-null float64\n",
      "FF% Rel                  10354 non-null object\n",
      "SF/60 Rel                10354 non-null float64\n",
      "SA/60 Rel                10354 non-null float64\n",
      "SF% Rel                  10354 non-null object\n",
      "GF/60 Rel                10354 non-null float64\n",
      "GA/60 Rel                10354 non-null float64\n",
      "GF% Rel                  10354 non-null object\n",
      "SCF/60 Rel               10354 non-null float64\n",
      "SCA/60 Rel               10354 non-null float64\n",
      "SCF% Rel                 10354 non-null object\n",
      "HDCF/60 Rel              10354 non-null float64\n",
      "HDCA/60 Rel              10354 non-null float64\n",
      "HDCF% Rel                10354 non-null object\n",
      "HDGF/60 Rel              10354 non-null float64\n",
      "HDGA/60 Rel              10354 non-null float64\n",
      "HDGF% Rel                10354 non-null object\n",
      "MDCF/60 Rel              10354 non-null float64\n",
      "MDCA/60 Rel              10354 non-null float64\n",
      "MDCF% Rel                10354 non-null object\n",
      "MDGF/60 Rel              10354 non-null float64\n",
      "MDGA/60 Rel              10354 non-null float64\n",
      "MDGF% Rel                10354 non-null object\n",
      "LDCF/60 Rel              10354 non-null float64\n",
      "LDCA/60 Rel              10354 non-null float64\n",
      "LDCF% Rel                10354 non-null object\n",
      "LDGF/60 Rel              10354 non-null float64\n",
      "LDGA/60 Rel              10354 non-null float64\n",
      "LDGF% Rel                10354 non-null object\n",
      "On-Ice SH%               10354 non-null object\n",
      "On-Ice SV%               10354 non-null object\n",
      "PDO                      10354 non-null object\n",
      "Off. Zone Starts/60      10354 non-null float64\n",
      "Neu. Zone Starts/60      10354 non-null float64\n",
      "Def. Zone Starts/60      10354 non-null float64\n",
      "On The Fly Starts/60     10354 non-null float64\n",
      "Off. Zone Start %        10354 non-null object\n",
      "Off. Zone Faceoffs/60    10354 non-null float64\n",
      "Neu. Zone Faceoffs/60    10354 non-null float64\n",
      "Def. Zone Faceoffs/60    10354 non-null float64\n",
      "Off. Zone Faceoff %      10354 non-null object\n",
      "dtypes: float64(31), int64(2), object(19)\n",
      "memory usage: 4.2+ MB\n"
     ]
    }
   ],
   "source": [
    "df_woirel.info()"
   ]
  },
  {
   "cell_type": "code",
   "execution_count": 42,
   "metadata": {},
   "outputs": [],
   "source": [
    "careers = df_pst.groupby('Player').sum()"
   ]
  },
  {
   "cell_type": "code",
   "execution_count": 44,
   "metadata": {},
   "outputs": [
    {
     "data": {
      "text/plain": [
       "(2236, 28)"
      ]
     },
     "execution_count": 44,
     "metadata": {},
     "output_type": "execute_result"
    }
   ],
   "source": [
    "careers.shape"
   ]
  },
  {
   "cell_type": "code",
   "execution_count": 46,
   "metadata": {},
   "outputs": [
    {
     "name": "stdout",
     "output_type": "stream",
     "text": [
      "<class 'pandas.core.frame.DataFrame'>\n",
      "Index: 2236 entries, A.J. Greer to Zenon Konopka\n",
      "Data columns (total 28 columns):\n",
      "Unnamed: 0          2236 non-null int64\n",
      "GP                  2236 non-null int64\n",
      "TOI                 2236 non-null float64\n",
      "Goals               2236 non-null int64\n",
      "Total Assists       2236 non-null int64\n",
      "First Assists       2236 non-null int64\n",
      "Second Assists      2236 non-null int64\n",
      "Total Points        2236 non-null int64\n",
      "Shots               2236 non-null int64\n",
      "iCF                 2236 non-null int64\n",
      "iFF                 2236 non-null int64\n",
      "iSCF                2236 non-null int64\n",
      "iHDCF               2236 non-null int64\n",
      "Rush Attempts       2236 non-null int64\n",
      "Rebounds Created    2236 non-null int64\n",
      "PIM                 2236 non-null int64\n",
      "Total Penalties     2236 non-null int64\n",
      "Minor               2236 non-null int64\n",
      "Major               2236 non-null int64\n",
      "Misconduct          2236 non-null int64\n",
      "Penalties Drawn     2236 non-null int64\n",
      "Giveaways           2236 non-null int64\n",
      "Takeaways           2236 non-null int64\n",
      "Hits                2236 non-null int64\n",
      "Hits Taken          2236 non-null int64\n",
      "Shots Blocked       2236 non-null int64\n",
      "Faceoffs Won        2236 non-null int64\n",
      "Faceoffs Lost       2236 non-null int64\n",
      "dtypes: float64(1), int64(27)\n",
      "memory usage: 506.6+ KB\n"
     ]
    }
   ],
   "source": [
    "careers.info()"
   ]
  },
  {
   "cell_type": "code",
   "execution_count": 47,
   "metadata": {},
   "outputs": [
    {
     "name": "stdout",
     "output_type": "stream",
     "text": [
      "<class 'pandas.core.frame.DataFrame'>\n",
      "Int64Index: 9684 entries, 0 to 851\n",
      "Data columns (total 52 columns):\n",
      "Unnamed: 0               9684 non-null int64\n",
      "Player                   9684 non-null object\n",
      "Team                     9684 non-null object\n",
      "Position                 9684 non-null object\n",
      "GP                       9684 non-null int64\n",
      "TOI                      9684 non-null float64\n",
      "TOI/GP                   9684 non-null float64\n",
      "CF/60 Rel                9684 non-null float64\n",
      "CA/60 Rel                9684 non-null float64\n",
      "CF% Rel                  9684 non-null object\n",
      "FF/60 Rel                9684 non-null float64\n",
      "FA/60 Rel                9684 non-null float64\n",
      "FF% Rel                  9684 non-null object\n",
      "SF/60 Rel                9684 non-null float64\n",
      "SA/60 Rel                9684 non-null float64\n",
      "SF% Rel                  9684 non-null object\n",
      "GF/60 Rel                9684 non-null float64\n",
      "GA/60 Rel                9684 non-null float64\n",
      "GF% Rel                  9684 non-null object\n",
      "SCF/60 Rel               9684 non-null float64\n",
      "SCA/60 Rel               9684 non-null float64\n",
      "SCF% Rel                 9684 non-null object\n",
      "HDCF/60 Rel              9684 non-null float64\n",
      "HDCA/60 Rel              9684 non-null float64\n",
      "HDCF% Rel                9684 non-null object\n",
      "HDGF/60 Rel              9684 non-null float64\n",
      "HDGA/60 Rel              9684 non-null float64\n",
      "HDGF% Rel                9684 non-null object\n",
      "MDCF/60 Rel              9684 non-null float64\n",
      "MDCA/60 Rel              9684 non-null float64\n",
      "MDCF% Rel                9684 non-null object\n",
      "MDGF/60 Rel              9684 non-null float64\n",
      "MDGA/60 Rel              9684 non-null float64\n",
      "MDGF% Rel                9684 non-null object\n",
      "LDCF/60 Rel              9684 non-null float64\n",
      "LDCA/60 Rel              9684 non-null float64\n",
      "LDCF% Rel                9684 non-null object\n",
      "LDGF/60 Rel              9684 non-null float64\n",
      "LDGA/60 Rel              9684 non-null float64\n",
      "LDGF% Rel                9684 non-null object\n",
      "On-Ice SH%               9684 non-null object\n",
      "On-Ice SV%               9684 non-null object\n",
      "PDO                      9684 non-null object\n",
      "Off. Zone Starts/60      9684 non-null float64\n",
      "Neu. Zone Starts/60      9684 non-null float64\n",
      "Def. Zone Starts/60      9684 non-null float64\n",
      "On The Fly Starts/60     9684 non-null float64\n",
      "Off. Zone Start %        9684 non-null object\n",
      "Off. Zone Faceoffs/60    9684 non-null float64\n",
      "Neu. Zone Faceoffs/60    9684 non-null float64\n",
      "Def. Zone Faceoffs/60    9684 non-null float64\n",
      "Off. Zone Faceoff %      9684 non-null object\n",
      "dtypes: float64(31), int64(2), object(19)\n",
      "memory usage: 3.9+ MB\n"
     ]
    }
   ],
   "source": [
    "df_oirel.info()"
   ]
  },
  {
   "cell_type": "code",
   "execution_count": null,
   "metadata": {},
   "outputs": [],
   "source": []
  },
  {
   "cell_type": "code",
   "execution_count": null,
   "metadata": {},
   "outputs": [],
   "source": []
  },
  {
   "cell_type": "code",
   "execution_count": null,
   "metadata": {},
   "outputs": [],
   "source": []
  },
  {
   "cell_type": "markdown",
   "metadata": {},
   "source": [
    "### EDA / Plotting"
   ]
  },
  {
   "cell_type": "code",
   "execution_count": 50,
   "metadata": {},
   "outputs": [
    {
     "data": {
      "image/png": "[encoded data removed]",
      "text/plain": [
       "<Figure size 432x288 with 1 Axes>"
      ]
     },
     "metadata": {},
     "output_type": "display_data"
    }
   ],
   "source": [
    "plt.hist(df_pst['Goals'], bins = 20)\n",
    "plt.show()"
   ]
  },
  {
   "cell_type": "code",
   "execution_count": 52,
   "metadata": {},
   "outputs": [
    {
     "data": {
      "image/png": "[encoded data removed]",
      "text/plain": [
       "<Figure size 432x288 with 1 Axes>"
      ]
     },
     "metadata": {},
     "output_type": "display_data"
    }
   ],
   "source": [
    "plt.hist(df_pst['Total Assists'], bins = 20)\n",
    "plt.show()"
   ]
  },
  {
   "cell_type": "code",
   "execution_count": 53,
   "metadata": {},
   "outputs": [
    {
     "data": {
      "text/plain": [
       "(71424, 121805)"
      ]
     },
     "execution_count": 53,
     "metadata": {},
     "output_type": "execute_result"
    }
   ],
   "source": [
    "df_pst['Goals'].sum(), df_pst['Total Assists'].sum()"
   ]
  },
  {
   "cell_type": "code",
   "execution_count": 58,
   "metadata": {},
   "outputs": [
    {
     "data": {
      "image/png": "[encoded data removed]",
      "text/plain": [
       "<Figure size 432x288 with 1 Axes>"
      ]
     },
     "metadata": {},
     "output_type": "display_data"
    }
   ],
   "source": [
    "plt.scatter(df_pst['PIM'], df_pst['Total Points'], alpha = 0.3)\n",
    "plt.xlabel('PIM')\n",
    "plt.ylabel('Total Points')\n",
    "plt.show()"
   ]
  },
  {
   "cell_type": "code",
   "execution_count": 60,
   "metadata": {},
   "outputs": [
    {
     "data": {
      "image/png": "[encoded data removed]",
      "text/plain": [
       "<Figure size 432x288 with 1 Axes>"
      ]
     },
     "metadata": {},
     "output_type": "display_data"
    }
   ],
   "source": [
    "plt.scatter(df_oirel['CA/60 Rel'], df_oirel['CF/60 Rel'], alpha = 0.4)\n",
    "plt.xlabel('CA/60 Rel')\n",
    "plt.ylabel('CF/60 Rel')\n",
    "plt.show()"
   ]
  },
  {
   "cell_type": "code",
   "execution_count": 61,
   "metadata": {},
   "outputs": [
    {
     "data": {
      "image/png": "[encoded data removed]",
      "text/plain": [
       "<Figure size 432x288 with 1 Axes>"
      ]
     },
     "metadata": {},
     "output_type": "display_data"
    }
   ],
   "source": [
    "plt.scatter(df_pst['iCF'], df_pst['Giveaways'], alpha = 0.4)\n",
    "plt.xlabel('individual Corsi For')\n",
    "plt.ylabel('Giveaways')\n",
    "plt.show()"
   ]
  },
  {
   "cell_type": "code",
   "execution_count": 63,
   "metadata": {},
   "outputs": [
    {
     "data": {
      "image/png": "[encoded data removed]",
      "text/plain": [
       "<Figure size 432x288 with 1 Axes>"
      ]
     },
     "metadata": {},
     "output_type": "display_data"
    }
   ],
   "source": [
    "plt.scatter(df_pst[df_pst.Position == 'D']['iCF'], df_pst[df_pst.Position == 'D']['Giveaways'], alpha = 0.4)\n",
    "plt.xlabel('individual Corsi For')\n",
    "plt.ylabel('Giveaways')\n",
    "plt.title('Defense only')\n",
    "plt.show()"
   ]
  },
  {
   "cell_type": "code",
   "execution_count": 64,
   "metadata": {},
   "outputs": [],
   "source": [
    "df_pst.to_csv('../data/all_pst.csv')\n",
    "df_oirel.to_csv('../data/all_oirel.csv')\n",
    "df_woirel.to_csv('../data/all_woirel.csv')"
   ]
  },
  {
   "cell_type": "code",
   "execution_count": null,
   "metadata": {},
   "outputs": [],
   "source": []
  }
 ],
 "metadata": {
  "kernelspec": {
   "display_name": "Python 3",
   "language": "python",
   "name": "python3"
  },
  "language_info": {
   "codemirror_mode": {
    "name": "ipython",
    "version": 3
   },
   "file_extension": ".py",
   "mimetype": "text/x-python",
   "name": "python",
   "nbconvert_exporter": "python",
   "pygments_lexer": "ipython3",
   "version": "3.6.5"
  }
 },
 "nbformat": 4,
 "nbformat_minor": 2
}
