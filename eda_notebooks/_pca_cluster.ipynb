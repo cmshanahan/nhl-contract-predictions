{
 "cells": [
  {
   "cell_type": "code",
   "execution_count": 2,
   "metadata": {},
   "outputs": [],
   "source": [
    "import numpy as np\n",
    "import pandas as pd\n",
    "from collections import defaultdict\n",
    "import random\n",
    "import operator\n",
    "from sklearn.preprocessing import StandardScaler, Imputer\n",
    "from scipy.spatial.distance import euclidean, cosine\n",
    "from sklearn.model_selection import train_test_split"
   ]
  },
  {
   "cell_type": "code",
   "execution_count": 4,
   "metadata": {},
   "outputs": [],
   "source": [
    "from sklearn.decomposition import PCA\n",
    "from sklearn.cluster import KMeans\n",
    "from sklearn.linear_model import LinearRegression\n",
    "from sklearn.neighbors import KNeighborsRegressor, RadiusNeighborsRegressor\n",
    "from sklearn.ensemble import RandomForestRegressor, GradientBoostingRegressor, AdaBoostRegressor\n"
   ]
  },
  {
   "cell_type": "code",
   "execution_count": 526,
   "metadata": {},
   "outputs": [],
   "source": [
    "import matplotlib.pyplot as plt\n",
    "from mpl_toolkits.mplot3d import Axes3D\n",
    "%matplotlib inline"
   ]
  },
  {
   "cell_type": "code",
   "execution_count": 520,
   "metadata": {},
   "outputs": [],
   "source": [
    "import warnings\n",
    "warnings.simplefilter('ignore')"
   ]
  },
  {
   "cell_type": "code",
   "execution_count": 5,
   "metadata": {},
   "outputs": [],
   "source": [
    "import os\n",
    "import sys\n",
    "\n",
    "module_path = os.path.abspath(os.path.join('..'))\n",
    "if module_path not in sys.path:\n",
    "    sys.path.append(module_path)"
   ]
  },
  {
   "cell_type": "code",
   "execution_count": 68,
   "metadata": {},
   "outputs": [],
   "source": [
    "def rmse(yhat, y, round_to = None):\n",
    "    ''' Return root mean squared error of a set of predictions '''\n",
    "    err = np.sqrt(((yhat - y)**2).mean())\n",
    "    if round_to:\n",
    "        return round(err, round_to)\n",
    "    else:\n",
    "        return err"
   ]
  },
  {
   "cell_type": "code",
   "execution_count": 511,
   "metadata": {},
   "outputs": [],
   "source": [
    "df = pd.read_csv('../data/data_for_model.csv', index_col='Season_Player')\n",
    "df.drop([\n",
    "    'Player', 'Season_Player.1', 'Season', 'Season_index'\n",
    "], axis=1, inplace=True)"
   ]
  },
  {
   "cell_type": "code",
   "execution_count": 512,
   "metadata": {},
   "outputs": [],
   "source": [
    "df['forward'] = (df['position'] != 'Defense')"
   ]
  },
  {
   "cell_type": "code",
   "execution_count": 513,
   "metadata": {},
   "outputs": [],
   "source": [
    "df['signing_status'] = df.signing_status.apply(lambda x: 1 if 'UFA' else 0)"
   ]
  },
  {
   "cell_type": "code",
   "execution_count": 514,
   "metadata": {},
   "outputs": [],
   "source": [
    "#These columns were causing problems\n",
    "df.drop(['mean SH%', 'IPP', 'mean Faceoffs pct'], axis =1, inplace = True)"
   ]
  },
  {
   "cell_type": "code",
   "execution_count": 638,
   "metadata": {},
   "outputs": [],
   "source": [
    "ycols = ['cap_hit', 'length', 'total_value', 'cap_pct', 'signing_year_cap']\n",
    "xcols = ['forward', 'signing_age', 'signing_status'] + list(df.columns)[10:]\n",
    "#xcols = ['forward', 'signing_age', 'mean Total Points/60', 'TOI/GP', 'Off. Zone Start %']"
   ]
  },
  {
   "cell_type": "code",
   "execution_count": 639,
   "metadata": {},
   "outputs": [],
   "source": [
    "X, y = df[xcols], df[ycols]"
   ]
  },
  {
   "cell_type": "code",
   "execution_count": 517,
   "metadata": {},
   "outputs": [
    {
     "data": {
      "text/plain": [
       "(1170, 197)"
      ]
     },
     "execution_count": 517,
     "metadata": {},
     "output_type": "execute_result"
    }
   ],
   "source": [
    "X.shape"
   ]
  },
  {
   "cell_type": "code",
   "execution_count": 505,
   "metadata": {},
   "outputs": [
    {
     "data": {
      "text/plain": [
       "('mean SH%', 'IPP', 'mean Faceoffs pct')"
      ]
     },
     "execution_count": 505,
     "metadata": {},
     "output_type": "execute_result"
    }
   ],
   "source": [
    "xcols[83], xcols[177], xcols[196]"
   ]
  },
  {
   "cell_type": "code",
   "execution_count": 640,
   "metadata": {},
   "outputs": [],
   "source": [
    "X.replace('-', 0, inplace=True)\n",
    "\n",
    "X = X.apply(pd.to_numeric)\n",
    "\n",
    "imp = Imputer(missing_values='NaN', strategy='mean', axis=0, verbose = 1)\n",
    "X = imp.fit_transform(X)"
   ]
  },
  {
   "cell_type": "code",
   "execution_count": 635,
   "metadata": {},
   "outputs": [
    {
     "data": {
      "text/plain": [
       "(1170, 5)"
      ]
     },
     "execution_count": 635,
     "metadata": {},
     "output_type": "execute_result"
    }
   ],
   "source": [
    "X.shape"
   ]
  },
  {
   "cell_type": "code",
   "execution_count": 641,
   "metadata": {},
   "outputs": [],
   "source": [
    "X_train, X_test, yp_train, yp_test, yl_train, yl_test, scap_train, scap_test = (\n",
    "    train_test_split(X, y['cap_pct'], y['length'], y['signing_year_cap'], \n",
    "                     test_size = 0.15))"
   ]
  },
  {
   "cell_type": "code",
   "execution_count": 626,
   "metadata": {},
   "outputs": [
    {
     "data": {
      "text/plain": [
       "((994, 4), (994,), (994,), (994,))"
      ]
     },
     "execution_count": 626,
     "metadata": {},
     "output_type": "execute_result"
    }
   ],
   "source": [
    "X_train.shape, yp_train.shape, yl_train.shape, scap_train.shape"
   ]
  },
  {
   "cell_type": "code",
   "execution_count": 577,
   "metadata": {},
   "outputs": [],
   "source": [
    "def predict_global_mean(yp_train, yp_test, yl_train, yl_test):\n",
    "    pcmp = yp_train.mean()\n",
    "    p_rmse = rmse(pcmp, yp_test, 2)\n",
    "    print('RMSE pick mean cap_pct: {}%'.format(p_rmse))\n",
    "    print('    translates to 2019 Cap Hit of: ${}'.format(p_rmse * 83000000 // 100))\n",
    "    pcml = yl_train.mean()\n",
    "    print('RMSE pick mean length: {} years'.format(rmse(pcml, yl_test, 1)))\n",
    "    return pcmp, pcml"
   ]
  },
  {
   "cell_type": "code",
   "execution_count": 565,
   "metadata": {},
   "outputs": [
    {
     "name": "stdout",
     "output_type": "stream",
     "text": [
      "RMSE pick mean cap_pct: 2.82%\n",
      "    translates to 2019 Cap Hit of: 2340600.0\n",
      "RMSE pick mean length: 1.7 years\n"
     ]
    },
    {
     "data": {
      "text/plain": [
       "(2.596197183098589, 2.2515090543259557)"
      ]
     },
     "execution_count": 565,
     "metadata": {},
     "output_type": "execute_result"
    }
   ],
   "source": [
    "predict_global_mean(yp_train, yp_test, yl_train, yl_test)"
   ]
  },
  {
   "cell_type": "code",
   "execution_count": 709,
   "metadata": {},
   "outputs": [],
   "source": [
    "reg_list = [LinearRegression, RandomForestRegressor, GradientBoostingRegressor, AdaBoostRegressor, KNeighborsRegressor]\n",
    "\n",
    "def run_regressor(split, m = GradientBoostingRegressor):\n",
    "    '''\n",
    "    Run a list of regression models for salary cap percent and contract length. \n",
    "    Predicted cap_pct is used as a feature for contract length.\n",
    "    '''\n",
    "    X_tr, X_te, yp_tr, yp_te, yl_tr, yl_te, scap_tr, scap_te = split \n",
    "    if m == LinearRegression:\n",
    "        print(m.__name__)\n",
    "        run_lin_regressor()\n",
    "    else:\n",
    "        print(m.__name__)\n",
    "        model = m()\n",
    "        model.fit(X_tr, yp_tr)\n",
    "        cap_preds = model.predict(X_te)\n",
    "        p_rmse = rmse(cap_preds, yp_te, 2)\n",
    "        print('RMSE Cap_pct: {}%'.format(p_rmse))\n",
    "        print('    translates to 2019 Cap Hit of: ${}'.format(p_rmse * 83000000 // 100))\n",
    "        \n",
    "\n",
    "        Xl_tr, Xl_te = X_tr.copy(), X_te.copy()\n",
    "        Xl_tr = np.hstack((Xl_tr, model.predict(Xl_tr).reshape(-1,1)))\n",
    "        Xl_te = np.hstack((Xl_te, cap_preds.reshape(-1,1)))\n",
    "\n",
    "        l_model = m()\n",
    "        l_model.fit(Xl_tr, yl_tr)\n",
    "        length_preds = l_model.predict(Xl_te)\n",
    "        l_rmse = rmse(length_preds, yl_te, 1)\n",
    "        print('RMSE Length: {} years'.format(rmse(length_preds, yl_te, 1)))\n",
    "        \n",
    "        return p_rmse, l_rmse\n",
    "    \n",
    "def run_lin_regressor():\n",
    "    X_tr, X_te, yp_tr, yp_te, yl_tr, yl_te, scap_tr, scap_te = split\n",
    "    model = LinearRegression()\n",
    "    model.fit(X_tr, yp_tr)\n",
    "    cap_preds = model.predict(X_te)\n",
    "    p_rmse = rmse(cap_preds, yp_te, 2)\n",
    "    print('RMSE Cap_pct: {}%'.format(p_rmse))\n",
    "    print('    translates to 2019 Cap Hit of: ${}'.format(p_rmse * 83000000 // 100))\n",
    "\n",
    "    Xl_tr, Xl_te = X_tr.copy(), X_te.copy()\n",
    "    Xl_tr = np.hstack((Xl_tr, model.predict(Xl_tr).reshape(-1,1), (Xl_tr[:,1]**2).reshape(-1,1)))\n",
    "    Xl_te = np.hstack((Xl_te, cap_preds.reshape(-1,1), (Xl_te[:,1]**2).reshape(-1,1)))\n",
    "\n",
    "    l_model = LinearRegression()\n",
    "    l_model.fit(Xl_tr, yl_tr)\n",
    "    length_preds = l_model.predict(Xl_te)\n",
    "    l_rmse = rmse(length_preds, yl_te, 1)\n",
    "    print('RMSE Length: {} years'.format(rmse(length_preds, yl_te, 1)))\n",
    "    \n",
    "    return p_rmse, l_rmse"
   ]
  },
  {
   "cell_type": "code",
   "execution_count": 717,
   "metadata": {},
   "outputs": [
    {
     "name": "stdout",
     "output_type": "stream",
     "text": [
      "RMSE pick mean cap_pct: 2.75%\n",
      "    translates to 2019 Cap Hit of: $2282500.0\n",
      "RMSE pick mean length: 1.8 years\n",
      "\n",
      "LinearRegression\n",
      "RMSE Cap_pct: 1.12%\n",
      "    translates to 2019 Cap Hit of: $929600.0\n",
      "RMSE Length: 1.3 years\n",
      "\n",
      "RandomForestRegressor\n",
      "RMSE Cap_pct: 0.99%\n",
      "    translates to 2019 Cap Hit of: $821700.0\n",
      "RMSE Length: 1.1 years\n",
      "\n",
      "GradientBoostingRegressor\n",
      "RMSE Cap_pct: 0.81%\n",
      "    translates to 2019 Cap Hit of: $672300.0\n",
      "RMSE Length: 1.0 years\n",
      "\n",
      "AdaBoostRegressor\n",
      "RMSE Cap_pct: 1.19%\n",
      "    translates to 2019 Cap Hit of: $987700.0\n",
      "RMSE Length: 1.2 years\n",
      "\n",
      "KNeighborsRegressor\n",
      "RMSE Cap_pct: 1.31%\n",
      "    translates to 2019 Cap Hit of: $1087300.0\n",
      "RMSE Length: 1.3 years\n",
      "\n"
     ]
    }
   ],
   "source": [
    "split = (\n",
    "    train_test_split(X, y['cap_pct'], y['length'], y['signing_year_cap'], \n",
    "                     test_size = 0.15))\n",
    "\n",
    "X_train, X_test, yp_train, yp_test, yl_train, yl_test, scap_train, scap_test = split\n",
    "\n",
    "predict_global_mean(yp_train, yp_test, yl_train, yl_test)\n",
    "print()\n",
    "\n",
    "for r in reg_list:\n",
    "    run_regressor(split, r)\n",
    "    print()"
   ]
  },
  {
   "cell_type": "code",
   "execution_count": 718,
   "metadata": {},
   "outputs": [
    {
     "name": "stdout",
     "output_type": "stream",
     "text": [
      "GradientBoostingRegressor\n",
      "RMSE Cap_pct: 0.81%\n",
      "    translates to 2019 Cap Hit of: $672300.0\n",
      "LinearRegression\n",
      "RMSE Length: 1.2 years\n"
     ]
    }
   ],
   "source": [
    "print('GradientBoostingRegressor')\n",
    "model = GradientBoostingRegressor(n_estimators = 100)\n",
    "model.fit(X_train, yp_train)\n",
    "cap_preds = model.predict(X_test)\n",
    "p_rmse = rmse(cap_preds, yp_test, 2)\n",
    "print('RMSE Cap_pct: {}%'.format(p_rmse))\n",
    "print('    translates to 2019 Cap Hit of: ${}'.format(p_rmse * 83000000 // 100))\n",
    "\n",
    "\n",
    "Xl_train, Xl_test = X_train.copy(), X_test.copy()\n",
    "Xl_train = np.hstack((Xl_train, model.predict(Xl_train).reshape(-1,1), (Xl_train[:,1]**2).reshape(-1,1)))\n",
    "Xl_test = np.hstack((Xl_test, cap_preds.reshape(-1,1), (Xl_test[:,1]**2).reshape(-1,1)))\n",
    "\n",
    "print('LinearRegression')\n",
    "l_model = LinearRegression()\n",
    "l_model.fit(Xl_train, yl_train)\n",
    "length_preds = l_model.predict(Xl_test)\n",
    "print('RMSE Length: {} years'.format(rmse(length_preds, yl_test, 1)))"
   ]
  },
  {
   "cell_type": "code",
   "execution_count": 522,
   "metadata": {},
   "outputs": [
    {
     "data": {
      "text/plain": [
       "(994, 198)"
      ]
     },
     "execution_count": 522,
     "metadata": {},
     "output_type": "execute_result"
    }
   ],
   "source": [
    "X2.shape"
   ]
  },
  {
   "cell_type": "code",
   "execution_count": 418,
   "metadata": {},
   "outputs": [
    {
     "data": {
      "text/plain": [
       "(994, 3)"
      ]
     },
     "execution_count": 418,
     "metadata": {},
     "output_type": "execute_result"
    }
   ],
   "source": [
    "reduced.shape"
   ]
  },
  {
   "cell_type": "code",
   "execution_count": 421,
   "metadata": {},
   "outputs": [
    {
     "data": {
      "text/plain": [
       "200"
      ]
     },
     "execution_count": 421,
     "metadata": {},
     "output_type": "execute_result"
    }
   ],
   "source": [
    "len(xcols)"
   ]
  },
  {
   "cell_type": "code",
   "execution_count": 671,
   "metadata": {},
   "outputs": [],
   "source": [
    "X2 = ss.fit_transform(X_train)\n",
    "\n",
    "pca = PCA(n_components = 3).fit(X2)\n",
    "reduced = np.dot(X2, pca.components_.T)\n",
    "\n",
    "km = KMeans(n_clusters = 3)\n",
    "clus = km.fit_transform(reduced)\n",
    "X2 = np.hstack((X2, km.labels_.reshape(-1,1)))\n",
    "reduced = np.hstack((reduced, km.labels_.reshape(-1,1)))\n",
    "#forwards['cluster'] = fkm.labels_\n",
    "\n",
    "clusts = []\n",
    "cmeans = []\n",
    "for i in range(km.n_clusters):\n",
    "    clusts.append(X2[km.labels_ == i])\n",
    "    cmeans.append(clusts[i].mean(axis=0))\n",
    "\n",
    "\n",
    "X2df = pd.DataFrame(X2, columns = xcols + ['cluster'])"
   ]
  },
  {
   "cell_type": "code",
   "execution_count": 675,
   "metadata": {},
   "outputs": [
    {
     "data": {
      "image/png": "[encoded data removed]",
      "text/plain": [
       "<Figure size 432x288 with 1 Axes>"
      ]
     },
     "metadata": {},
     "output_type": "display_data"
    }
   ],
   "source": [
    "xax = 'Principal Component 1'\n",
    "yax = 'Principal Component 2'\n",
    "a = 0.5\n",
    "\n",
    "for i in range(km.n_clusters):\n",
    "    plt.scatter(reduced[reduced[:,3] == i][:,0],\n",
    "              reduced[reduced[:,3] == i][:,1], \n",
    "              label = 'Cluster {}'.format(i), alpha = a)\n",
    "\n",
    "\n",
    "plt.legend()\n",
    "plt.xlabel(xax)\n",
    "plt.ylabel(yax)\n",
    "plt.title('Players: ' + yax + ' vs. ' + xax)\n",
    "\n",
    "plt.show()"
   ]
  },
  {
   "cell_type": "code",
   "execution_count": 673,
   "metadata": {},
   "outputs": [
    {
     "data": {
      "text/plain": [
       "(994, 4)"
      ]
     },
     "execution_count": 673,
     "metadata": {},
     "output_type": "execute_result"
    }
   ],
   "source": [
    "reduced.shape"
   ]
  },
  {
   "cell_type": "code",
   "execution_count": 674,
   "metadata": {},
   "outputs": [
    {
     "data": {
      "image/png": "[encoded data removed]",
      "text/plain": [
       "<Figure size 432x288 with 1 Axes>"
      ]
     },
     "metadata": {},
     "output_type": "display_data"
    }
   ],
   "source": [
    "xax = 'Principal Component 1'\n",
    "yax = 'Principal Component 2'\n",
    "zax = 'Principal Component 3'\n",
    "a=0.4\n",
    "\n",
    "fig = plt.figure()\n",
    "ax = fig.add_subplot(111, projection = '3d')\n",
    "\n",
    "for i in range(km.n_clusters):\n",
    "    ax.scatter(reduced[reduced[:,3] == i][:,0], \n",
    "               reduced[reduced[:,3] == i][:,1], \n",
    "                zs = reduced[reduced[:,3] == i][:,2], \n",
    "              label = 'Cluster {}'.format(i), alpha = a)\n",
    "\n",
    "ax.set_xlabel(xax)\n",
    "ax.set_ylabel(yax)\n",
    "ax.set_zlabel(zax)\n",
    "ax.set_title('Player clusters')\n",
    "\n",
    "plt.legend()\n",
    "plt.show()"
   ]
  },
  {
   "cell_type": "code",
   "execution_count": 710,
   "metadata": {},
   "outputs": [
    {
     "name": "stdout",
     "output_type": "stream",
     "text": [
      "RMSE pick mean cap_pct: 2.52%\n",
      "    translates to 2019 Cap Hit of: $2091600.0\n",
      "RMSE pick mean length: 1.8 years\n",
      "\n",
      "cluster 0  -----------------\n",
      "LinearRegression\n",
      "RMSE Cap_pct: 1.2%\n",
      "    translates to 2019 Cap Hit of: $996000.0\n",
      "RMSE Length: 1.3 years\n",
      "\n",
      "RandomForestRegressor\n",
      "RMSE Cap_pct: 1.43%\n",
      "    translates to 2019 Cap Hit of: $1186900.0\n",
      "RMSE Length: 1.6 years\n",
      "\n",
      "GradientBoostingRegressor\n",
      "RMSE Cap_pct: 1.57%\n",
      "    translates to 2019 Cap Hit of: $1303100.0\n",
      "RMSE Length: 1.7 years\n",
      "\n",
      "AdaBoostRegressor\n",
      "RMSE Cap_pct: 1.43%\n",
      "    translates to 2019 Cap Hit of: $1186900.0\n",
      "RMSE Length: 1.7 years\n",
      "\n",
      "KNeighborsRegressor\n",
      "RMSE Cap_pct: 2.06%\n",
      "    translates to 2019 Cap Hit of: $1709800.0\n",
      "RMSE Length: 2.2 years\n",
      "\n",
      "cluster 1  -----------------\n",
      "LinearRegression\n",
      "RMSE Cap_pct: 1.2%\n",
      "    translates to 2019 Cap Hit of: $996000.0\n",
      "RMSE Length: 1.3 years\n",
      "\n",
      "RandomForestRegressor\n",
      "RMSE Cap_pct: 0.91%\n",
      "    translates to 2019 Cap Hit of: $755300.0\n",
      "RMSE Length: 1.2 years\n",
      "\n",
      "GradientBoostingRegressor\n",
      "RMSE Cap_pct: 0.67%\n",
      "    translates to 2019 Cap Hit of: $556100.0\n",
      "RMSE Length: 1.0 years\n",
      "\n",
      "AdaBoostRegressor\n",
      "RMSE Cap_pct: 0.74%\n",
      "    translates to 2019 Cap Hit of: $614200.0\n",
      "RMSE Length: 1.0 years\n",
      "\n",
      "KNeighborsRegressor\n",
      "RMSE Cap_pct: 1.08%\n",
      "    translates to 2019 Cap Hit of: $896400.0\n",
      "RMSE Length: 1.1 years\n",
      "\n",
      "cluster 2  -----------------\n",
      "LinearRegression\n",
      "RMSE Cap_pct: 1.2%\n",
      "    translates to 2019 Cap Hit of: $996000.0\n",
      "RMSE Length: 1.3 years\n",
      "\n",
      "RandomForestRegressor\n",
      "RMSE Cap_pct: 1.54%\n",
      "    translates to 2019 Cap Hit of: $1278200.0\n",
      "RMSE Length: 1.8 years\n",
      "\n",
      "GradientBoostingRegressor\n",
      "RMSE Cap_pct: 1.39%\n",
      "    translates to 2019 Cap Hit of: $1153699.0\n",
      "RMSE Length: 1.6 years\n",
      "\n",
      "AdaBoostRegressor\n",
      "RMSE Cap_pct: 1.7%\n",
      "    translates to 2019 Cap Hit of: $1411000.0\n",
      "RMSE Length: 1.8 years\n",
      "\n",
      "KNeighborsRegressor\n",
      "RMSE Cap_pct: 1.58%\n",
      "    translates to 2019 Cap Hit of: $1311400.0\n",
      "RMSE Length: 1.8 years\n",
      "\n",
      "cluster 3  -----------------\n",
      "LinearRegression\n",
      "RMSE Cap_pct: 1.2%\n",
      "    translates to 2019 Cap Hit of: $996000.0\n",
      "RMSE Length: 1.3 years\n",
      "\n",
      "RandomForestRegressor\n",
      "RMSE Cap_pct: 0.17%\n",
      "    translates to 2019 Cap Hit of: $141100.0\n",
      "RMSE Length: 0.7 years\n",
      "\n",
      "GradientBoostingRegressor\n",
      "RMSE Cap_pct: 0.19%\n",
      "    translates to 2019 Cap Hit of: $157700.0\n",
      "RMSE Length: 0.6 years\n",
      "\n",
      "AdaBoostRegressor\n",
      "RMSE Cap_pct: 0.15%\n",
      "    translates to 2019 Cap Hit of: $124500.0\n",
      "RMSE Length: 0.6 years\n",
      "\n",
      "KNeighborsRegressor\n",
      "RMSE Cap_pct: 0.18%\n",
      "    translates to 2019 Cap Hit of: $149400.0\n",
      "RMSE Length: 0.6 years\n",
      "\n",
      "cluster 4  -----------------\n",
      "LinearRegression\n",
      "RMSE Cap_pct: 1.2%\n",
      "    translates to 2019 Cap Hit of: $996000.0\n",
      "RMSE Length: 1.3 years\n",
      "\n",
      "RandomForestRegressor\n",
      "RMSE Cap_pct: 0.45%\n",
      "    translates to 2019 Cap Hit of: $373500.0\n",
      "RMSE Length: 0.6 years\n",
      "\n",
      "GradientBoostingRegressor\n",
      "RMSE Cap_pct: 0.33%\n",
      "    translates to 2019 Cap Hit of: $273900.0\n",
      "RMSE Length: 0.7 years\n",
      "\n",
      "AdaBoostRegressor\n",
      "RMSE Cap_pct: 0.37%\n",
      "    translates to 2019 Cap Hit of: $307100.0\n",
      "RMSE Length: 0.5 years\n",
      "\n",
      "KNeighborsRegressor\n",
      "RMSE Cap_pct: 0.47%\n",
      "    translates to 2019 Cap Hit of: $390100.0\n",
      "RMSE Length: 0.5 years\n",
      "\n"
     ]
    }
   ],
   "source": [
    "X_train, X_test, yp_train, yp_test, yl_train, yl_test, scap_train, scap_test = (\n",
    "    train_test_split(X, y['cap_pct'], y['length'], y['signing_year_cap'], \n",
    "                     test_size = 0.15))\n",
    "split = X_train, X_test, yp_train, yp_test, yl_train, yl_test, scap_train, scap_test\n",
    "\n",
    "X_train_s = ss.fit_transform(X_train)\n",
    "X_test_s = ss.transform(X_test)\n",
    "\n",
    "pca = PCA(n_components = 3).fit(X_train_s)\n",
    "reduced = np.dot(X_train_s, pca.components_.T)\n",
    "red_test = np.dot(X_test_s, pca.components_.T)\n",
    "\n",
    "km = KMeans(n_clusters = 5)\n",
    "clus = km.fit_transform(reduced)\n",
    "X_train_s = np.hstack((X_train_s, km.labels_.reshape(-1,1)))\n",
    "reduced = np.hstack((reduced, km.labels_.reshape(-1,1)))\n",
    "#forwards['cluster'] = fkm.labels_\n",
    "X_train = np.hstack((X_train, km.labels_.reshape(-1,1)))\n",
    "X_test_s = np.hstack((X_test_s, km.predict(red_test).reshape(-1,1)))\n",
    "X_test = np.hstack((X_test, km.predict(red_test).reshape(-1,1)))\n",
    "\n",
    "clusts = []\n",
    "cmeans = []\n",
    "for i in range(km.n_clusters):\n",
    "    clusts.append(X_train_s[km.labels_ == i])\n",
    "    cmeans.append(clusts[i].mean(axis=0))\n",
    "\n",
    "predict_global_mean(yp_train, yp_test, yl_train, yl_test)\n",
    "print()\n",
    "\n",
    "split = X_train_s, X_test_s, yp_train, yp_test, yl_train, yl_test, scap_train, scap_test\n",
    "\n",
    "for i in range(km.n_clusters):\n",
    "    print('cluster '+str(i) + '  -----------------')\n",
    "    div_list = [X_train_s[X_train_s[:,-1] == i], 0, \n",
    "                yp_train[X_train_s[:,-1] == i], 0,\n",
    "               yl_train[X_train_s[:,-1] == i], 0,\n",
    "               scap_train[X_train_s[:,-1] == i], 0]\n",
    "    for idx, div in enumerate(split):\n",
    "        if idx % 2 != 0:\n",
    "            div_list[idx] = div[X_test_s[:,-1] == i]\n",
    "    for r in reg_list:\n",
    "        run_regressor(div_list, r)\n",
    "        print()"
   ]
  },
  {
   "cell_type": "code",
   "execution_count": 714,
   "metadata": {},
   "outputs": [
    {
     "name": "stdout",
     "output_type": "stream",
     "text": [
      "GradientBoostingRegressor\n",
      "RMSE Cap_pct: 0.98%\n",
      "    translates to 2019 Cap Hit of: $813400.0\n",
      "LinearRegression\n",
      "RMSE Length: 1.1 years\n"
     ]
    }
   ],
   "source": [
    "print('GradientBoostingRegressor')\n",
    "model = GradientBoostingRegressor(n_estimators = 100)\n",
    "model.fit(X_train, yp_train)\n",
    "cap_preds = model.predict(X_test)\n",
    "p_rmse = rmse(cap_preds, yp_test, 2)\n",
    "print('RMSE Cap_pct: {}%'.format(p_rmse))\n",
    "print('    translates to 2019 Cap Hit of: ${}'.format(p_rmse * 83000000 // 100))\n",
    "\n",
    "\n",
    "Xl_train, Xl_test = X_train.copy(), X_test.copy()\n",
    "Xl_train = np.hstack((Xl_train, model.predict(Xl_train).reshape(-1,1), (Xl_train[:,1]**2).reshape(-1,1)))\n",
    "Xl_test = np.hstack((Xl_test, cap_preds.reshape(-1,1), (Xl_test[:,1]**2).reshape(-1,1)))\n",
    "\n",
    "print('LinearRegression')\n",
    "l_model = LinearRegression()\n",
    "l_model.fit(Xl_train, yl_train)\n",
    "length_preds = l_model.predict(Xl_test)\n",
    "print('RMSE Length: {} years'.format(rmse(length_preds, yl_test, 1)))"
   ]
  },
  {
   "cell_type": "code",
   "execution_count": 607,
   "metadata": {},
   "outputs": [],
   "source": [
    "from sklearn.linear_model import LassoCV, RidgeCV"
   ]
  },
  {
   "cell_type": "code",
   "execution_count": 608,
   "metadata": {},
   "outputs": [],
   "source": [
    "las = LassoCV()"
   ]
  },
  {
   "cell_type": "code",
   "execution_count": 609,
   "metadata": {},
   "outputs": [
    {
     "data": {
      "text/plain": [
       "LassoCV(alphas=None, copy_X=True, cv=None, eps=0.001, fit_intercept=True,\n",
       "    max_iter=1000, n_alphas=100, n_jobs=1, normalize=False, positive=False,\n",
       "    precompute='auto', random_state=None, selection='cyclic', tol=0.0001,\n",
       "    verbose=False)"
      ]
     },
     "execution_count": 609,
     "metadata": {},
     "output_type": "execute_result"
    }
   ],
   "source": [
    "las.fit(X_train, yp_train)"
   ]
  },
  {
   "cell_type": "code",
   "execution_count": 615,
   "metadata": {},
   "outputs": [
    {
     "data": {
      "text/plain": [
       "4"
      ]
     },
     "execution_count": 615,
     "metadata": {},
     "output_type": "execute_result"
    }
   ],
   "source": [
    "sum(abs(las.coef_) > 0.001)"
   ]
  },
  {
   "cell_type": "code",
   "execution_count": null,
   "metadata": {},
   "outputs": [],
   "source": [
    "las.f"
   ]
  },
  {
   "cell_type": "code",
   "execution_count": 616,
   "metadata": {},
   "outputs": [
    {
     "data": {
      "text/plain": [
       "RidgeCV(alphas=(0.1, 1.0, 10.0), cv=None, fit_intercept=True, gcv_mode=None,\n",
       "    normalize=False, scoring=None, store_cv_values=False)"
      ]
     },
     "execution_count": 616,
     "metadata": {},
     "output_type": "execute_result"
    }
   ],
   "source": [
    "rid = RidgeCV()\n",
    "rid.fit(X_train, yp_train)"
   ]
  },
  {
   "cell_type": "code",
   "execution_count": 619,
   "metadata": {},
   "outputs": [
    {
     "data": {
      "text/plain": [
       "14"
      ]
     },
     "execution_count": 619,
     "metadata": {},
     "output_type": "execute_result"
    }
   ],
   "source": [
    "sum(abs(rid.coef_) > 0.1)"
   ]
  },
  {
   "cell_type": "code",
   "execution_count": 620,
   "metadata": {},
   "outputs": [
    {
     "name": "stdout",
     "output_type": "stream",
     "text": [
      "RMSE Cap_pct: 1.14%\n",
      "    translates to 2019 Cap Hit of: $946199.0\n"
     ]
    }
   ],
   "source": [
    "cap_preds = las.predict(X_test)\n",
    "p_rmse = rmse(cap_preds, yp_test, 2)\n",
    "print('RMSE Cap_pct: {}%'.format(p_rmse))\n",
    "print('    translates to 2019 Cap Hit of: ${}'.format(p_rmse * 83000000 // 100))"
   ]
  },
  {
   "cell_type": "code",
   "execution_count": 621,
   "metadata": {},
   "outputs": [
    {
     "name": "stdout",
     "output_type": "stream",
     "text": [
      "RMSE Cap_pct: 1.14%\n",
      "    translates to 2019 Cap Hit of: $946199.0\n"
     ]
    }
   ],
   "source": [
    "cap_preds = rid.predict(X_test)\n",
    "p_rmse = rmse(cap_preds, yp_test, 2)\n",
    "print('RMSE Cap_pct: {}%'.format(p_rmse))\n",
    "print('    translates to 2019 Cap Hit of: ${}'.format(p_rmse * 83000000 // 100))"
   ]
  },
  {
   "cell_type": "code",
   "execution_count": null,
   "metadata": {},
   "outputs": [],
   "source": []
  },
  {
   "cell_type": "code",
   "execution_count": 721,
   "metadata": {},
   "outputs": [
    {
     "name": "stdout",
     "output_type": "stream",
     "text": [
      "RMSE pick mean cap_pct: 2.7%\n",
      "    translates to 2019 Cap Hit of: $2241000.0\n",
      "RMSE pick mean length: 1.8 years\n",
      "\n",
      "GradientBoostingRegressor\n",
      "RMSE Cap_pct: 0.84%\n",
      "    translates to 2019 Cap Hit of: $697200.0\n",
      "RMSE Length: 1.1 years\n"
     ]
    },
    {
     "data": {
      "text/plain": [
       "(0.84, 1.1)"
      ]
     },
     "execution_count": 721,
     "metadata": {},
     "output_type": "execute_result"
    }
   ],
   "source": [
    "split = (\n",
    "    train_test_split(X, y['cap_pct'], y['length'], y['signing_year_cap'], \n",
    "                     test_size = 0.15))\n",
    "\n",
    "X_train, X_test, yp_train, yp_test, yl_train, yl_test, scap_train, scap_test = split\n",
    "\n",
    "predict_global_mean(yp_train, yp_test, yl_train, yl_test)\n",
    "print()\n",
    "\n",
    "run_regressor(split, GradientBoostingRegressor)"
   ]
  },
  {
   "cell_type": "code",
   "execution_count": 722,
   "metadata": {},
   "outputs": [],
   "source": [
    "from sklearn.model_selection import GridSearchCV, KFold, cross_validate"
   ]
  },
  {
   "cell_type": "code",
   "execution_count": null,
   "metadata": {},
   "outputs": [],
   "source": []
  },
  {
   "cell_type": "code",
   "execution_count": 749,
   "metadata": {},
   "outputs": [],
   "source": [
    "class SalaryLengthPredictor():\n",
    "    def __init__(self, m = GradientBoostingRegressor, year = 2019):\n",
    "        self.m = m\n",
    "        \n",
    "        self.scap = {\n",
    "            2005: 39000000,\n",
    "            2006: 44000000,\n",
    "            2007: 50300000,\n",
    "            2008: 56700000,\n",
    "            2009: 56800000,\n",
    "            2010: 59400000,\n",
    "            2011: 64300000,\n",
    "            2012: 60000000,\n",
    "            2013: 64300000,\n",
    "            2014: 69000000,\n",
    "            2015: 71400000,\n",
    "            2016: 73000000,\n",
    "            2017: 75000000,\n",
    "            2018: 79500000,\n",
    "            2019: 83000000,\n",
    "           }\n",
    "        self.year = year\n",
    "        self.year_cap = self.scap[year]\n",
    "        pass\n",
    "    \n",
    "    def fit(self, X_train, yp_train, yl_train):\n",
    "        '''\n",
    "        Fit a model (default sklearn's GradientBoostingRegressor) for salary cap_pct\n",
    "        and contract length\n",
    "        '''\n",
    "        self.X_train = X_train\n",
    "        self.yp_train = yp_train\n",
    "        self.yl_train = yl_train\n",
    "        \n",
    "        self.sal_model = self.m()\n",
    "        self.sal_model.fit(X_train, yp_train)\n",
    "        \n",
    "        Xl_train = X_train.copy()\n",
    "        Xl_train = np.hstack((Xl_train, self.sal_model.predict(Xl_train).reshape(-1,1)))\n",
    "\n",
    "        self.len_model = self.m()\n",
    "        self.len_model.fit(Xl_train, yl_train)\n",
    "        pass\n",
    "    \n",
    "    def predict(self, X):\n",
    "        '''\n",
    "        Predict salary cap_pct and contract length\n",
    "        '''\n",
    "        self.cap_preds = self.sal_model.predict(X)\n",
    "        Xl_test = X.copy()\n",
    "        Xl_test = np.hstack((Xl_test, self.cap_preds.reshape(-1,1)))\n",
    "        self.length_preds = self.len_model.predict(Xl_test)        \n",
    "        \n",
    "        return self.cap_preds, self.length_preds\n",
    "    \n",
    "    def score(self, X_test, yp_test, yl_test):\n",
    "        '''\n",
    "        Return RMSE for salary cap_pct, equivalent salary in $ for 2019 (default), \n",
    "        and RMSE for contract length\n",
    "        '''\n",
    "        cap_preds, len_preds = self.predict(X_test)\n",
    "        self.p_rmse = self.rmse(cap_preds, yp_test, 2)\n",
    "        self.cap_hit = self.p_rmse * self.year_cap // 100\n",
    "        self.l_rmse = self.rmse(len_preds, yl_test, 1)\n",
    "        print('RMSE Cap_pct: {}%'.format(self.p_rmse))\n",
    "        print('    translates to {} Cap Hit of: ${}'.format(self.year, self.cap_hit))\n",
    "        print('RMSE Length: {} years'.format(self.l_rmse))\n",
    "        return self.p_rmse, self.cap_hit, self.l_rmse\n",
    "    \n",
    "    def rmse(self, yhat, y, round_to = None):\n",
    "        ''' Return root mean squared error of a set of predictions '''\n",
    "        err = np.sqrt(((yhat - y)**2).mean())\n",
    "        if round_to:\n",
    "            return round(err, round_to)\n",
    "        else:\n",
    "            return err"
   ]
  },
  {
   "cell_type": "code",
   "execution_count": 750,
   "metadata": {},
   "outputs": [
    {
     "name": "stdout",
     "output_type": "stream",
     "text": [
      "RMSE pick mean cap_pct: 2.45%\n",
      "    translates to 2019 Cap Hit of: $2033500.0\n",
      "RMSE pick mean length: 1.7 years\n",
      "\n"
     ]
    }
   ],
   "source": [
    "split = (\n",
    "    train_test_split(X, y['cap_pct'], y['length'], y['signing_year_cap'], \n",
    "                     test_size = 0.15))\n",
    "\n",
    "X_train, X_test, yp_train, yp_test, yl_train, yl_test, scap_train, scap_test = split\n",
    "\n",
    "predict_global_mean(yp_train, yp_test, yl_train, yl_test)\n",
    "print()\n",
    "\n",
    "model = SalaryLengthPredictor()"
   ]
  },
  {
   "cell_type": "code",
   "execution_count": 751,
   "metadata": {},
   "outputs": [],
   "source": [
    "model.fit(X_train, yp_train, yl_train)"
   ]
  },
  {
   "cell_type": "code",
   "execution_count": 752,
   "metadata": {},
   "outputs": [],
   "source": [
    "preds = model.predict(X_test)"
   ]
  },
  {
   "cell_type": "code",
   "execution_count": 753,
   "metadata": {},
   "outputs": [
    {
     "data": {
      "text/plain": [
       "((176,), (176,))"
      ]
     },
     "execution_count": 753,
     "metadata": {},
     "output_type": "execute_result"
    }
   ],
   "source": [
    "model.cap_preds.shape, yp_test.shape"
   ]
  },
  {
   "cell_type": "code",
   "execution_count": 754,
   "metadata": {},
   "outputs": [
    {
     "name": "stdout",
     "output_type": "stream",
     "text": [
      "RMSE Cap_pct: 0.99%\n",
      "    translates to 2019 Cap Hit of: $821700.0\n",
      "RMSE Length: 1.1 years\n"
     ]
    },
    {
     "data": {
      "text/plain": [
       "(0.99, 821700.0, 1.1)"
      ]
     },
     "execution_count": 754,
     "metadata": {},
     "output_type": "execute_result"
    }
   ],
   "source": [
    "model.score(X_test, yp_test, yl_test)"
   ]
  },
  {
   "cell_type": "code",
   "execution_count": null,
   "metadata": {},
   "outputs": [],
   "source": [
    "GridSearchCV(GradientBoostingRegressor, \n",
    "            )"
   ]
  }
 ],
 "metadata": {
  "kernelspec": {
   "display_name": "Python 3",
   "language": "python",
   "name": "python3"
  },
  "language_info": {
   "codemirror_mode": {
    "name": "ipython",
    "version": 3
   },
   "file_extension": ".py",
   "mimetype": "text/x-python",
   "name": "python",
   "nbconvert_exporter": "python",
   "pygments_lexer": "ipython3",
   "version": "3.6.5"
  }
 },
 "nbformat": 4,
 "nbformat_minor": 2
}
