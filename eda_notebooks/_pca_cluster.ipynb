{
 "cells": [
  {
   "cell_type": "code",
   "execution_count": 2,
   "metadata": {},
   "outputs": [],
   "source": [
    "import numpy as np\n",
    "import pandas as pd\n",
    "from collections import defaultdict\n",
    "import random\n",
    "import operator\n",
    "from sklearn.preprocessing import StandardScaler, Imputer\n",
    "from scipy.spatial.distance import euclidean, cosine\n",
    "from sklearn.model_selection import train_test_split"
   ]
  },
  {
   "cell_type": "code",
   "execution_count": 3,
   "metadata": {},
   "outputs": [
    {
     "name": "stderr",
     "output_type": "stream",
     "text": [
      "/Users/colinshanahan/anaconda3/lib/python3.6/site-packages/sklearn/ensemble/weight_boosting.py:29: DeprecationWarning: numpy.core.umath_tests is an internal NumPy module and should not be imported. It will be removed in a future NumPy release.\n",
      "  from numpy.core.umath_tests import inner1d\n"
     ]
    }
   ],
   "source": [
    "from sklearn.decomposition import PCA\n",
    "from sklearn.cluster import KMeans\n",
    "from sklearn.linear_model import LinearRegression\n",
    "from sklearn.neighbors import KNeighborsRegressor, RadiusNeighborsRegressor\n",
    "from sklearn.ensemble import RandomForestRegressor, GradientBoostingRegressor, AdaBoostRegressor\n"
   ]
  },
  {
   "cell_type": "code",
   "execution_count": 82,
   "metadata": {},
   "outputs": [],
   "source": [
    "import matplotlib.pyplot as plt\n",
    "from mpl_toolkits.mplot3d import Axes3D\n",
    "import seaborn as sns\n",
    "%matplotlib inline"
   ]
  },
  {
   "cell_type": "code",
   "execution_count": 5,
   "metadata": {},
   "outputs": [],
   "source": [
    "import warnings\n",
    "warnings.simplefilter('ignore')"
   ]
  },
  {
   "cell_type": "code",
   "execution_count": 6,
   "metadata": {},
   "outputs": [],
   "source": [
    "import os\n",
    "import sys\n",
    "\n",
    "module_path = os.path.abspath(os.path.join('..'))\n",
    "if module_path not in sys.path:\n",
    "    sys.path.append(module_path)"
   ]
  },
  {
   "cell_type": "code",
   "execution_count": 68,
   "metadata": {},
   "outputs": [],
   "source": [
    "def rmse(yhat, y, round_to = None):\n",
    "    ''' Return root mean squared error of a set of predictions '''\n",
    "    err = np.sqrt(((yhat - y)**2).mean())\n",
    "    if round_to:\n",
    "        return round(err, round_to)\n",
    "    else:\n",
    "        return err"
   ]
  },
  {
   "cell_type": "code",
   "execution_count": 7,
   "metadata": {},
   "outputs": [],
   "source": [
    "df = pd.read_csv('../data/data_for_model.csv', index_col='Season_Player')\n",
    "df.drop([\n",
    "    'Player', 'Season_Player.1', 'Season', 'Season_index'\n",
    "], axis=1, inplace=True)"
   ]
  },
  {
   "cell_type": "code",
   "execution_count": 8,
   "metadata": {},
   "outputs": [],
   "source": [
    "df['forward'] = (df['position'] != 'Defense')"
   ]
  },
  {
   "cell_type": "code",
   "execution_count": 9,
   "metadata": {},
   "outputs": [],
   "source": [
    "df['signing_status'] = df.signing_status.apply(lambda x: 1 if 'UFA' else 0)"
   ]
  },
  {
   "cell_type": "code",
   "execution_count": 10,
   "metadata": {},
   "outputs": [],
   "source": [
    "#These columns were causing problems\n",
    "df.drop(['mean SH%', 'IPP', 'mean Faceoffs pct'], axis =1, inplace = True)"
   ]
  },
  {
   "cell_type": "code",
   "execution_count": 98,
   "metadata": {},
   "outputs": [],
   "source": [
    "ycols = ['cap_hit', 'length', 'total_value', 'cap_pct', 'signing_year_cap']\n",
    "xcols = ['forward', 'signing_age', 'signing_status'] + list(df.columns)[9:]\n",
    "#xcols = ['forward', 'signing_age', 'mean Total Points/60', 'TOI/GP', 'Off. Zone Start %']"
   ]
  },
  {
   "cell_type": "code",
   "execution_count": 99,
   "metadata": {},
   "outputs": [
    {
     "data": {
      "text/plain": [
       "['forward',\n",
       " 'signing_age',\n",
       " 'signing_status',\n",
       " 'GP',\n",
       " 'TOI',\n",
       " 'Goals',\n",
       " 'Total Assists',\n",
       " 'First Assists',\n",
       " 'Second Assists',\n",
       " 'Total Points',\n",
       " 'Shots',\n",
       " 'iCF',\n",
       " 'iFF',\n",
       " 'iSCF',\n",
       " 'iHDCF',\n",
       " 'Rush Attempts',\n",
       " 'Rebounds Created',\n",
       " 'PIM',\n",
       " 'Total Penalties',\n",
       " 'Minor',\n",
       " 'Major',\n",
       " 'Misconduct',\n",
       " 'Penalties Drawn',\n",
       " 'Giveaways',\n",
       " 'Takeaways',\n",
       " 'Hits',\n",
       " 'Hits Taken',\n",
       " 'Shots Blocked',\n",
       " 'Faceoffs Won',\n",
       " 'Faceoffs Lost',\n",
       " 'sum GP',\n",
       " 'sum TOI',\n",
       " 'sum Goals',\n",
       " 'sum Total Assists',\n",
       " 'sum First Assists',\n",
       " 'sum Second Assists',\n",
       " 'sum Total Points',\n",
       " 'sum Shots',\n",
       " 'sum iCF',\n",
       " 'sum iFF',\n",
       " 'sum iSCF',\n",
       " 'sum iHDCF',\n",
       " 'sum Rush Attempts',\n",
       " 'sum Rebounds Created',\n",
       " 'sum PIM',\n",
       " 'sum Total Penalties',\n",
       " 'sum Minor',\n",
       " 'sum Major',\n",
       " 'sum Misconduct',\n",
       " 'sum Penalties Drawn',\n",
       " 'sum Giveaways',\n",
       " 'sum Takeaways',\n",
       " 'sum Hits',\n",
       " 'sum Hits Taken',\n",
       " 'sum Shots Blocked',\n",
       " 'sum Faceoffs Won',\n",
       " 'sum Faceoffs Lost',\n",
       " 'mean GP',\n",
       " 'mean TOI',\n",
       " 'mean Goals',\n",
       " 'mean Total Assists',\n",
       " 'mean First Assists',\n",
       " 'mean Second Assists',\n",
       " 'mean Total Points',\n",
       " 'mean Shots',\n",
       " 'mean iCF',\n",
       " 'mean iFF',\n",
       " 'mean iSCF',\n",
       " 'mean iHDCF',\n",
       " 'mean Rush Attempts',\n",
       " 'mean Rebounds Created',\n",
       " 'mean PIM',\n",
       " 'mean Total Penalties',\n",
       " 'mean Minor',\n",
       " 'mean Major',\n",
       " 'mean Misconduct',\n",
       " 'mean Penalties Drawn',\n",
       " 'mean Giveaways',\n",
       " 'mean Takeaways',\n",
       " 'mean Hits',\n",
       " 'mean Hits Taken',\n",
       " 'mean Shots Blocked',\n",
       " 'mean Faceoffs Won',\n",
       " 'mean Faceoffs Lost',\n",
       " 'mean Faceoffs %',\n",
       " 'TOI/GP',\n",
       " 'CF/60 Rel',\n",
       " 'CA/60 Rel',\n",
       " 'CF% Rel',\n",
       " 'FF/60 Rel',\n",
       " 'FA/60 Rel',\n",
       " 'FF% Rel',\n",
       " 'SF/60 Rel',\n",
       " 'SA/60 Rel',\n",
       " 'SF% Rel',\n",
       " 'GF/60 Rel',\n",
       " 'GA/60 Rel',\n",
       " 'GF% Rel',\n",
       " 'SCF/60 Rel',\n",
       " 'SCA/60 Rel',\n",
       " 'SCF% Rel',\n",
       " 'HDCF/60 Rel',\n",
       " 'HDCA/60 Rel',\n",
       " 'HDCF% Rel',\n",
       " 'HDGF/60 Rel',\n",
       " 'HDGA/60 Rel',\n",
       " 'HDGF% Rel',\n",
       " 'MDCF/60 Rel',\n",
       " 'MDCA/60 Rel',\n",
       " 'MDCF% Rel',\n",
       " 'MDGF/60 Rel',\n",
       " 'MDGA/60 Rel',\n",
       " 'MDGF% Rel',\n",
       " 'LDCF/60 Rel',\n",
       " 'LDCA/60 Rel',\n",
       " 'LDCF% Rel',\n",
       " 'LDGF/60 Rel',\n",
       " 'LDGA/60 Rel',\n",
       " 'LDGF% Rel',\n",
       " 'On-Ice SH%',\n",
       " 'On-Ice SV%',\n",
       " 'PDO',\n",
       " 'Off. Zone Starts/60',\n",
       " 'Neu. Zone Starts/60',\n",
       " 'Def. Zone Starts/60',\n",
       " 'On The Fly Starts/60',\n",
       " 'Off. Zone Start %',\n",
       " 'Off. Zone Faceoffs/60',\n",
       " 'Neu. Zone Faceoffs/60',\n",
       " 'Def. Zone Faceoffs/60',\n",
       " 'Off. Zone Faceoff %',\n",
       " '3yr TOI/GP',\n",
       " '3yr CF/60 Rel',\n",
       " '3yr CA/60 Rel',\n",
       " '3yr CF% Rel',\n",
       " '3yr FF/60 Rel',\n",
       " '3yr FA/60 Rel',\n",
       " '3yr FF% Rel',\n",
       " '3yr SF/60 Rel',\n",
       " '3yr SA/60 Rel',\n",
       " '3yr SF% Rel',\n",
       " '3yr GF/60 Rel',\n",
       " '3yr GA/60 Rel',\n",
       " '3yr GF% Rel',\n",
       " '3yr SCF/60 Rel',\n",
       " '3yr SCA/60 Rel',\n",
       " '3yr SCF% Rel',\n",
       " '3yr HDCF/60 Rel',\n",
       " '3yr HDCA/60 Rel',\n",
       " '3yr HDCF% Rel',\n",
       " '3yr HDGF/60 Rel',\n",
       " '3yr HDGA/60 Rel',\n",
       " '3yr HDGF% Rel',\n",
       " '3yr MDCF/60 Rel',\n",
       " '3yr MDCA/60 Rel',\n",
       " '3yr MDCF% Rel',\n",
       " '3yr MDGF/60 Rel',\n",
       " '3yr MDGA/60 Rel',\n",
       " '3yr MDGF% Rel',\n",
       " '3yr LDCF/60 Rel',\n",
       " '3yr LDCA/60 Rel',\n",
       " '3yr LDCF% Rel',\n",
       " '3yr LDGF/60 Rel',\n",
       " '3yr LDGA/60 Rel',\n",
       " '3yr LDGF% Rel',\n",
       " '3yr On-Ice SH%',\n",
       " '3yr On-Ice SV%',\n",
       " '3yr PDO',\n",
       " '3yr Off. Zone Starts/60',\n",
       " '3yr Neu. Zone Starts/60',\n",
       " '3yr Def. Zone Starts/60',\n",
       " '3yr On The Fly Starts/60',\n",
       " '3yr Off. Zone Start %',\n",
       " '3yr Off. Zone Faceoffs/60',\n",
       " '3yr Neu. Zone Faceoffs/60',\n",
       " '3yr Def. Zone Faceoffs/60',\n",
       " '3yr Off. Zone Faceoff %',\n",
       " 'Giveaways/60',\n",
       " 'mean Giveaways/60',\n",
       " 'Takeaways/60',\n",
       " 'mean Takeaways/60',\n",
       " 'Shots Blocked/60',\n",
       " 'mean Shots Blocked/60',\n",
       " 'mean Total Points/60',\n",
       " 'Total Points/60',\n",
       " 'Goals/60',\n",
       " 'mean Goals/60',\n",
       " 'Shots/60',\n",
       " 'mean Shots/60',\n",
       " 'Hits/60',\n",
       " 'mean Hits/60',\n",
       " 'PIM/60',\n",
       " 'mean PIM/60',\n",
       " 'Penalties Drawn/60',\n",
       " 'mean Penalties Drawn/60',\n",
       " 'Goalness',\n",
       " 'mean Goalness',\n",
       " 'forward']"
      ]
     },
     "execution_count": 99,
     "metadata": {},
     "output_type": "execute_result"
    }
   ],
   "source": [
    "xcols"
   ]
  },
  {
   "cell_type": "code",
   "execution_count": 12,
   "metadata": {},
   "outputs": [],
   "source": [
    "X, y = df[xcols], df[ycols]"
   ]
  },
  {
   "cell_type": "code",
   "execution_count": 517,
   "metadata": {},
   "outputs": [
    {
     "data": {
      "text/plain": [
       "(1170, 197)"
      ]
     },
     "execution_count": 517,
     "metadata": {},
     "output_type": "execute_result"
    }
   ],
   "source": [
    "X.shape"
   ]
  },
  {
   "cell_type": "code",
   "execution_count": 505,
   "metadata": {},
   "outputs": [
    {
     "data": {
      "text/plain": [
       "('mean SH%', 'IPP', 'mean Faceoffs pct')"
      ]
     },
     "execution_count": 505,
     "metadata": {},
     "output_type": "execute_result"
    }
   ],
   "source": [
    "xcols[83], xcols[177], xcols[196]"
   ]
  },
  {
   "cell_type": "code",
   "execution_count": 13,
   "metadata": {},
   "outputs": [],
   "source": [
    "X.replace('-', 0, inplace=True)\n",
    "\n",
    "X = X.apply(pd.to_numeric)\n",
    "\n",
    "imp = Imputer(missing_values='NaN', strategy='mean', axis=0, verbose = 1)\n",
    "X = imp.fit_transform(X)"
   ]
  },
  {
   "cell_type": "code",
   "execution_count": 635,
   "metadata": {},
   "outputs": [
    {
     "data": {
      "text/plain": [
       "(1170, 5)"
      ]
     },
     "execution_count": 635,
     "metadata": {},
     "output_type": "execute_result"
    }
   ],
   "source": [
    "X.shape"
   ]
  },
  {
   "cell_type": "code",
   "execution_count": 641,
   "metadata": {},
   "outputs": [],
   "source": [
    "X_train, X_test, yp_train, yp_test, yl_train, yl_test, scap_train, scap_test = (\n",
    "    train_test_split(X, y['cap_pct'], y['length'], y['signing_year_cap'], \n",
    "                     test_size = 0.15))"
   ]
  },
  {
   "cell_type": "code",
   "execution_count": 626,
   "metadata": {},
   "outputs": [
    {
     "data": {
      "text/plain": [
       "((994, 4), (994,), (994,), (994,))"
      ]
     },
     "execution_count": 626,
     "metadata": {},
     "output_type": "execute_result"
    }
   ],
   "source": [
    "X_train.shape, yp_train.shape, yl_train.shape, scap_train.shape"
   ]
  },
  {
   "cell_type": "code",
   "execution_count": 14,
   "metadata": {},
   "outputs": [],
   "source": [
    "def predict_global_mean(yp_train, yp_test, yl_train, yl_test):\n",
    "    pcmp = yp_train.mean()\n",
    "    p_rmse = rmse(pcmp, yp_test, 2)\n",
    "    print('RMSE pick mean cap_pct: {}%'.format(p_rmse))\n",
    "    print('    translates to 2019 Cap Hit of: ${}'.format(p_rmse * 83000000 // 100))\n",
    "    pcml = yl_train.mean()\n",
    "    print('RMSE pick mean length: {} years'.format(rmse(pcml, yl_test, 1)))\n",
    "    return pcmp, pcml"
   ]
  },
  {
   "cell_type": "code",
   "execution_count": 565,
   "metadata": {},
   "outputs": [
    {
     "name": "stdout",
     "output_type": "stream",
     "text": [
      "RMSE pick mean cap_pct: 2.82%\n",
      "    translates to 2019 Cap Hit of: 2340600.0\n",
      "RMSE pick mean length: 1.7 years\n"
     ]
    },
    {
     "data": {
      "text/plain": [
       "(2.596197183098589, 2.2515090543259557)"
      ]
     },
     "execution_count": 565,
     "metadata": {},
     "output_type": "execute_result"
    }
   ],
   "source": [
    "predict_global_mean(yp_train, yp_test, yl_train, yl_test)"
   ]
  },
  {
   "cell_type": "code",
   "execution_count": 15,
   "metadata": {},
   "outputs": [],
   "source": [
    "reg_list = [LinearRegression, RandomForestRegressor, GradientBoostingRegressor, AdaBoostRegressor, KNeighborsRegressor]\n",
    "\n",
    "def run_regressor(split, m = GradientBoostingRegressor):\n",
    "    '''\n",
    "    Run a list of regression models for salary cap percent and contract length. \n",
    "    Predicted cap_pct is used as a feature for contract length.\n",
    "    '''\n",
    "    X_tr, X_te, yp_tr, yp_te, yl_tr, yl_te, scap_tr, scap_te = split \n",
    "    if m == LinearRegression:\n",
    "        print(m.__name__)\n",
    "        run_lin_regressor()\n",
    "    else:\n",
    "        print(m.__name__)\n",
    "        model = m()\n",
    "        model.fit(X_tr, yp_tr)\n",
    "        cap_preds = model.predict(X_te)\n",
    "        p_rmse = rmse(cap_preds, yp_te, 2)\n",
    "        print('RMSE Cap_pct: {}%'.format(p_rmse))\n",
    "        print('    translates to 2019 Cap Hit of: ${}'.format(p_rmse * 83000000 // 100))\n",
    "        \n",
    "\n",
    "        Xl_tr, Xl_te = X_tr.copy(), X_te.copy()\n",
    "        Xl_tr = np.hstack((Xl_tr, model.predict(Xl_tr).reshape(-1,1)))\n",
    "        Xl_te = np.hstack((Xl_te, cap_preds.reshape(-1,1)))\n",
    "\n",
    "        l_model = m()\n",
    "        l_model.fit(Xl_tr, yl_tr)\n",
    "        length_preds = l_model.predict(Xl_te)\n",
    "        l_rmse = rmse(length_preds, yl_te, 1)\n",
    "        print('RMSE Length: {} years'.format(rmse(length_preds, yl_te, 1)))\n",
    "        \n",
    "        return p_rmse, l_rmse\n",
    "    \n",
    "def run_lin_regressor():\n",
    "    X_tr, X_te, yp_tr, yp_te, yl_tr, yl_te, scap_tr, scap_te = split\n",
    "    model = LinearRegression()\n",
    "    model.fit(X_tr, yp_tr)\n",
    "    cap_preds = model.predict(X_te)\n",
    "    p_rmse = rmse(cap_preds, yp_te, 2)\n",
    "    print('RMSE Cap_pct: {}%'.format(p_rmse))\n",
    "    print('    translates to 2019 Cap Hit of: ${}'.format(p_rmse * 83000000 // 100))\n",
    "\n",
    "    Xl_tr, Xl_te = X_tr.copy(), X_te.copy()\n",
    "    Xl_tr = np.hstack((Xl_tr, model.predict(Xl_tr).reshape(-1,1), (Xl_tr[:,1]**2).reshape(-1,1)))\n",
    "    Xl_te = np.hstack((Xl_te, cap_preds.reshape(-1,1), (Xl_te[:,1]**2).reshape(-1,1)))\n",
    "\n",
    "    l_model = LinearRegression()\n",
    "    l_model.fit(Xl_tr, yl_tr)\n",
    "    length_preds = l_model.predict(Xl_te)\n",
    "    l_rmse = rmse(length_preds, yl_te, 1)\n",
    "    print('RMSE Length: {} years'.format(rmse(length_preds, yl_te, 1)))\n",
    "    \n",
    "    return p_rmse, l_rmse"
   ]
  },
  {
   "cell_type": "code",
   "execution_count": 717,
   "metadata": {},
   "outputs": [
    {
     "name": "stdout",
     "output_type": "stream",
     "text": [
      "RMSE pick mean cap_pct: 2.75%\n",
      "    translates to 2019 Cap Hit of: $2282500.0\n",
      "RMSE pick mean length: 1.8 years\n",
      "\n",
      "LinearRegression\n",
      "RMSE Cap_pct: 1.12%\n",
      "    translates to 2019 Cap Hit of: $929600.0\n",
      "RMSE Length: 1.3 years\n",
      "\n",
      "RandomForestRegressor\n",
      "RMSE Cap_pct: 0.99%\n",
      "    translates to 2019 Cap Hit of: $821700.0\n",
      "RMSE Length: 1.1 years\n",
      "\n",
      "GradientBoostingRegressor\n",
      "RMSE Cap_pct: 0.81%\n",
      "    translates to 2019 Cap Hit of: $672300.0\n",
      "RMSE Length: 1.0 years\n",
      "\n",
      "AdaBoostRegressor\n",
      "RMSE Cap_pct: 1.19%\n",
      "    translates to 2019 Cap Hit of: $987700.0\n",
      "RMSE Length: 1.2 years\n",
      "\n",
      "KNeighborsRegressor\n",
      "RMSE Cap_pct: 1.31%\n",
      "    translates to 2019 Cap Hit of: $1087300.0\n",
      "RMSE Length: 1.3 years\n",
      "\n"
     ]
    }
   ],
   "source": [
    "split = (\n",
    "    train_test_split(X, y['cap_pct'], y['length'], y['signing_year_cap'], \n",
    "                     test_size = 0.15))\n",
    "\n",
    "X_train, X_test, yp_train, yp_test, yl_train, yl_test, scap_train, scap_test = split\n",
    "\n",
    "predict_global_mean(yp_train, yp_test, yl_train, yl_test)\n",
    "print()\n",
    "\n",
    "for r in reg_list:\n",
    "    run_regressor(split, r)\n",
    "    print()"
   ]
  },
  {
   "cell_type": "code",
   "execution_count": 718,
   "metadata": {},
   "outputs": [
    {
     "name": "stdout",
     "output_type": "stream",
     "text": [
      "GradientBoostingRegressor\n",
      "RMSE Cap_pct: 0.81%\n",
      "    translates to 2019 Cap Hit of: $672300.0\n",
      "LinearRegression\n",
      "RMSE Length: 1.2 years\n"
     ]
    }
   ],
   "source": [
    "print('GradientBoostingRegressor')\n",
    "model = GradientBoostingRegressor(n_estimators = 100)\n",
    "model.fit(X_train, yp_train)\n",
    "cap_preds = model.predict(X_test)\n",
    "p_rmse = rmse(cap_preds, yp_test, 2)\n",
    "print('RMSE Cap_pct: {}%'.format(p_rmse))\n",
    "print('    translates to 2019 Cap Hit of: ${}'.format(p_rmse * 83000000 // 100))\n",
    "\n",
    "\n",
    "Xl_train, Xl_test = X_train.copy(), X_test.copy()\n",
    "Xl_train = np.hstack((Xl_train, model.predict(Xl_train).reshape(-1,1), (Xl_train[:,1]**2).reshape(-1,1)))\n",
    "Xl_test = np.hstack((Xl_test, cap_preds.reshape(-1,1), (Xl_test[:,1]**2).reshape(-1,1)))\n",
    "\n",
    "print('LinearRegression')\n",
    "l_model = LinearRegression()\n",
    "l_model.fit(Xl_train, yl_train)\n",
    "length_preds = l_model.predict(Xl_test)\n",
    "print('RMSE Length: {} years'.format(rmse(length_preds, yl_test, 1)))"
   ]
  },
  {
   "cell_type": "code",
   "execution_count": 522,
   "metadata": {},
   "outputs": [
    {
     "data": {
      "text/plain": [
       "(994, 198)"
      ]
     },
     "execution_count": 522,
     "metadata": {},
     "output_type": "execute_result"
    }
   ],
   "source": [
    "X2.shape"
   ]
  },
  {
   "cell_type": "code",
   "execution_count": 418,
   "metadata": {},
   "outputs": [
    {
     "data": {
      "text/plain": [
       "(994, 3)"
      ]
     },
     "execution_count": 418,
     "metadata": {},
     "output_type": "execute_result"
    }
   ],
   "source": [
    "reduced.shape"
   ]
  },
  {
   "cell_type": "code",
   "execution_count": 421,
   "metadata": {},
   "outputs": [
    {
     "data": {
      "text/plain": [
       "200"
      ]
     },
     "execution_count": 421,
     "metadata": {},
     "output_type": "execute_result"
    }
   ],
   "source": [
    "len(xcols)"
   ]
  },
  {
   "cell_type": "code",
   "execution_count": 671,
   "metadata": {},
   "outputs": [],
   "source": [
    "X2 = ss.fit_transform(X_train)\n",
    "\n",
    "pca = PCA(n_components = 3).fit(X2)\n",
    "reduced = np.dot(X2, pca.components_.T)\n",
    "\n",
    "km = KMeans(n_clusters = 3)\n",
    "clus = km.fit_transform(reduced)\n",
    "X2 = np.hstack((X2, km.labels_.reshape(-1,1)))\n",
    "reduced = np.hstack((reduced, km.labels_.reshape(-1,1)))\n",
    "#forwards['cluster'] = fkm.labels_\n",
    "\n",
    "clusts = []\n",
    "cmeans = []\n",
    "for i in range(km.n_clusters):\n",
    "    clusts.append(X2[km.labels_ == i])\n",
    "    cmeans.append(clusts[i].mean(axis=0))\n",
    "\n",
    "\n",
    "X2df = pd.DataFrame(X2, columns = xcols + ['cluster'])"
   ]
  },
  {
   "cell_type": "code",
   "execution_count": 675,
   "metadata": {},
   "outputs": [
    {
     "data": {
      "image/png": "[encoded data removed]",
      "text/plain": [
       "<Figure size 432x288 with 1 Axes>"
      ]
     },
     "metadata": {},
     "output_type": "display_data"
    }
   ],
   "source": [
    "xax = 'Principal Component 1'\n",
    "yax = 'Principal Component 2'\n",
    "a = 0.5\n",
    "\n",
    "for i in range(km.n_clusters):\n",
    "    plt.scatter(reduced[reduced[:,3] == i][:,0],\n",
    "              reduced[reduced[:,3] == i][:,1], \n",
    "              label = 'Cluster {}'.format(i), alpha = a)\n",
    "\n",
    "\n",
    "plt.legend()\n",
    "plt.xlabel(xax)\n",
    "plt.ylabel(yax)\n",
    "plt.title('Players: ' + yax + ' vs. ' + xax)\n",
    "\n",
    "plt.show()"
   ]
  },
  {
   "cell_type": "code",
   "execution_count": 673,
   "metadata": {},
   "outputs": [
    {
     "data": {
      "text/plain": [
       "(994, 4)"
      ]
     },
     "execution_count": 673,
     "metadata": {},
     "output_type": "execute_result"
    }
   ],
   "source": [
    "reduced.shape"
   ]
  },
  {
   "cell_type": "code",
   "execution_count": 674,
   "metadata": {},
   "outputs": [
    {
     "data": {
      "image/png": "[encoded data removed]",
      "text/plain": [
       "<Figure size 432x288 with 1 Axes>"
      ]
     },
     "metadata": {},
     "output_type": "display_data"
    }
   ],
   "source": [
    "xax = 'Principal Component 1'\n",
    "yax = 'Principal Component 2'\n",
    "zax = 'Principal Component 3'\n",
    "a=0.4\n",
    "\n",
    "fig = plt.figure()\n",
    "ax = fig.add_subplot(111, projection = '3d')\n",
    "\n",
    "for i in range(km.n_clusters):\n",
    "    ax.scatter(reduced[reduced[:,3] == i][:,0], \n",
    "               reduced[reduced[:,3] == i][:,1], \n",
    "                zs = reduced[reduced[:,3] == i][:,2], \n",
    "              label = 'Cluster {}'.format(i), alpha = a)\n",
    "\n",
    "ax.set_xlabel(xax)\n",
    "ax.set_ylabel(yax)\n",
    "ax.set_zlabel(zax)\n",
    "ax.set_title('Player clusters')\n",
    "\n",
    "plt.legend()\n",
    "plt.show()"
   ]
  },
  {
   "cell_type": "code",
   "execution_count": 710,
   "metadata": {},
   "outputs": [
    {
     "name": "stdout",
     "output_type": "stream",
     "text": [
      "RMSE pick mean cap_pct: 2.52%\n",
      "    translates to 2019 Cap Hit of: $2091600.0\n",
      "RMSE pick mean length: 1.8 years\n",
      "\n",
      "cluster 0  -----------------\n",
      "LinearRegression\n",
      "RMSE Cap_pct: 1.2%\n",
      "    translates to 2019 Cap Hit of: $996000.0\n",
      "RMSE Length: 1.3 years\n",
      "\n",
      "RandomForestRegressor\n",
      "RMSE Cap_pct: 1.43%\n",
      "    translates to 2019 Cap Hit of: $1186900.0\n",
      "RMSE Length: 1.6 years\n",
      "\n",
      "GradientBoostingRegressor\n",
      "RMSE Cap_pct: 1.57%\n",
      "    translates to 2019 Cap Hit of: $1303100.0\n",
      "RMSE Length: 1.7 years\n",
      "\n",
      "AdaBoostRegressor\n",
      "RMSE Cap_pct: 1.43%\n",
      "    translates to 2019 Cap Hit of: $1186900.0\n",
      "RMSE Length: 1.7 years\n",
      "\n",
      "KNeighborsRegressor\n",
      "RMSE Cap_pct: 2.06%\n",
      "    translates to 2019 Cap Hit of: $1709800.0\n",
      "RMSE Length: 2.2 years\n",
      "\n",
      "cluster 1  -----------------\n",
      "LinearRegression\n",
      "RMSE Cap_pct: 1.2%\n",
      "    translates to 2019 Cap Hit of: $996000.0\n",
      "RMSE Length: 1.3 years\n",
      "\n",
      "RandomForestRegressor\n",
      "RMSE Cap_pct: 0.91%\n",
      "    translates to 2019 Cap Hit of: $755300.0\n",
      "RMSE Length: 1.2 years\n",
      "\n",
      "GradientBoostingRegressor\n",
      "RMSE Cap_pct: 0.67%\n",
      "    translates to 2019 Cap Hit of: $556100.0\n",
      "RMSE Length: 1.0 years\n",
      "\n",
      "AdaBoostRegressor\n",
      "RMSE Cap_pct: 0.74%\n",
      "    translates to 2019 Cap Hit of: $614200.0\n",
      "RMSE Length: 1.0 years\n",
      "\n",
      "KNeighborsRegressor\n",
      "RMSE Cap_pct: 1.08%\n",
      "    translates to 2019 Cap Hit of: $896400.0\n",
      "RMSE Length: 1.1 years\n",
      "\n",
      "cluster 2  -----------------\n",
      "LinearRegression\n",
      "RMSE Cap_pct: 1.2%\n",
      "    translates to 2019 Cap Hit of: $996000.0\n",
      "RMSE Length: 1.3 years\n",
      "\n",
      "RandomForestRegressor\n",
      "RMSE Cap_pct: 1.54%\n",
      "    translates to 2019 Cap Hit of: $1278200.0\n",
      "RMSE Length: 1.8 years\n",
      "\n",
      "GradientBoostingRegressor\n",
      "RMSE Cap_pct: 1.39%\n",
      "    translates to 2019 Cap Hit of: $1153699.0\n",
      "RMSE Length: 1.6 years\n",
      "\n",
      "AdaBoostRegressor\n",
      "RMSE Cap_pct: 1.7%\n",
      "    translates to 2019 Cap Hit of: $1411000.0\n",
      "RMSE Length: 1.8 years\n",
      "\n",
      "KNeighborsRegressor\n",
      "RMSE Cap_pct: 1.58%\n",
      "    translates to 2019 Cap Hit of: $1311400.0\n",
      "RMSE Length: 1.8 years\n",
      "\n",
      "cluster 3  -----------------\n",
      "LinearRegression\n",
      "RMSE Cap_pct: 1.2%\n",
      "    translates to 2019 Cap Hit of: $996000.0\n",
      "RMSE Length: 1.3 years\n",
      "\n",
      "RandomForestRegressor\n",
      "RMSE Cap_pct: 0.17%\n",
      "    translates to 2019 Cap Hit of: $141100.0\n",
      "RMSE Length: 0.7 years\n",
      "\n",
      "GradientBoostingRegressor\n",
      "RMSE Cap_pct: 0.19%\n",
      "    translates to 2019 Cap Hit of: $157700.0\n",
      "RMSE Length: 0.6 years\n",
      "\n",
      "AdaBoostRegressor\n",
      "RMSE Cap_pct: 0.15%\n",
      "    translates to 2019 Cap Hit of: $124500.0\n",
      "RMSE Length: 0.6 years\n",
      "\n",
      "KNeighborsRegressor\n",
      "RMSE Cap_pct: 0.18%\n",
      "    translates to 2019 Cap Hit of: $149400.0\n",
      "RMSE Length: 0.6 years\n",
      "\n",
      "cluster 4  -----------------\n",
      "LinearRegression\n",
      "RMSE Cap_pct: 1.2%\n",
      "    translates to 2019 Cap Hit of: $996000.0\n",
      "RMSE Length: 1.3 years\n",
      "\n",
      "RandomForestRegressor\n",
      "RMSE Cap_pct: 0.45%\n",
      "    translates to 2019 Cap Hit of: $373500.0\n",
      "RMSE Length: 0.6 years\n",
      "\n",
      "GradientBoostingRegressor\n",
      "RMSE Cap_pct: 0.33%\n",
      "    translates to 2019 Cap Hit of: $273900.0\n",
      "RMSE Length: 0.7 years\n",
      "\n",
      "AdaBoostRegressor\n",
      "RMSE Cap_pct: 0.37%\n",
      "    translates to 2019 Cap Hit of: $307100.0\n",
      "RMSE Length: 0.5 years\n",
      "\n",
      "KNeighborsRegressor\n",
      "RMSE Cap_pct: 0.47%\n",
      "    translates to 2019 Cap Hit of: $390100.0\n",
      "RMSE Length: 0.5 years\n",
      "\n"
     ]
    }
   ],
   "source": [
    "X_train, X_test, yp_train, yp_test, yl_train, yl_test, scap_train, scap_test = (\n",
    "    train_test_split(X, y['cap_pct'], y['length'], y['signing_year_cap'], \n",
    "                     test_size = 0.15))\n",
    "split = X_train, X_test, yp_train, yp_test, yl_train, yl_test, scap_train, scap_test\n",
    "\n",
    "X_train_s = ss.fit_transform(X_train)\n",
    "X_test_s = ss.transform(X_test)\n",
    "\n",
    "pca = PCA(n_components = 3).fit(X_train_s)\n",
    "reduced = np.dot(X_train_s, pca.components_.T)\n",
    "red_test = np.dot(X_test_s, pca.components_.T)\n",
    "\n",
    "km = KMeans(n_clusters = 5)\n",
    "clus = km.fit_transform(reduced)\n",
    "X_train_s = np.hstack((X_train_s, km.labels_.reshape(-1,1)))\n",
    "reduced = np.hstack((reduced, km.labels_.reshape(-1,1)))\n",
    "#forwards['cluster'] = fkm.labels_\n",
    "X_train = np.hstack((X_train, km.labels_.reshape(-1,1)))\n",
    "X_test_s = np.hstack((X_test_s, km.predict(red_test).reshape(-1,1)))\n",
    "X_test = np.hstack((X_test, km.predict(red_test).reshape(-1,1)))\n",
    "\n",
    "clusts = []\n",
    "cmeans = []\n",
    "for i in range(km.n_clusters):\n",
    "    clusts.append(X_train_s[km.labels_ == i])\n",
    "    cmeans.append(clusts[i].mean(axis=0))\n",
    "\n",
    "predict_global_mean(yp_train, yp_test, yl_train, yl_test)\n",
    "print()\n",
    "\n",
    "split = X_train_s, X_test_s, yp_train, yp_test, yl_train, yl_test, scap_train, scap_test\n",
    "\n",
    "for i in range(km.n_clusters):\n",
    "    print('cluster '+str(i) + '  -----------------')\n",
    "    div_list = [X_train_s[X_train_s[:,-1] == i], 0, \n",
    "                yp_train[X_train_s[:,-1] == i], 0,\n",
    "               yl_train[X_train_s[:,-1] == i], 0,\n",
    "               scap_train[X_train_s[:,-1] == i], 0]\n",
    "    for idx, div in enumerate(split):\n",
    "        if idx % 2 != 0:\n",
    "            div_list[idx] = div[X_test_s[:,-1] == i]\n",
    "    for r in reg_list:\n",
    "        run_regressor(div_list, r)\n",
    "        print()"
   ]
  },
  {
   "cell_type": "code",
   "execution_count": 607,
   "metadata": {},
   "outputs": [],
   "source": [
    "from sklearn.linear_model import LassoCV, RidgeCV"
   ]
  },
  {
   "cell_type": "code",
   "execution_count": 608,
   "metadata": {},
   "outputs": [],
   "source": [
    "las = LassoCV()"
   ]
  },
  {
   "cell_type": "code",
   "execution_count": 609,
   "metadata": {},
   "outputs": [
    {
     "data": {
      "text/plain": [
       "LassoCV(alphas=None, copy_X=True, cv=None, eps=0.001, fit_intercept=True,\n",
       "    max_iter=1000, n_alphas=100, n_jobs=1, normalize=False, positive=False,\n",
       "    precompute='auto', random_state=None, selection='cyclic', tol=0.0001,\n",
       "    verbose=False)"
      ]
     },
     "execution_count": 609,
     "metadata": {},
     "output_type": "execute_result"
    }
   ],
   "source": [
    "las.fit(X_train, yp_train)"
   ]
  },
  {
   "cell_type": "code",
   "execution_count": 615,
   "metadata": {},
   "outputs": [
    {
     "data": {
      "text/plain": [
       "4"
      ]
     },
     "execution_count": 615,
     "metadata": {},
     "output_type": "execute_result"
    }
   ],
   "source": [
    "sum(abs(las.coef_) > 0.001)"
   ]
  },
  {
   "cell_type": "code",
   "execution_count": null,
   "metadata": {},
   "outputs": [],
   "source": [
    "las.f"
   ]
  },
  {
   "cell_type": "code",
   "execution_count": 616,
   "metadata": {},
   "outputs": [
    {
     "data": {
      "text/plain": [
       "RidgeCV(alphas=(0.1, 1.0, 10.0), cv=None, fit_intercept=True, gcv_mode=None,\n",
       "    normalize=False, scoring=None, store_cv_values=False)"
      ]
     },
     "execution_count": 616,
     "metadata": {},
     "output_type": "execute_result"
    }
   ],
   "source": [
    "rid = RidgeCV()\n",
    "rid.fit(X_train, yp_train)"
   ]
  },
  {
   "cell_type": "code",
   "execution_count": 619,
   "metadata": {},
   "outputs": [
    {
     "data": {
      "text/plain": [
       "14"
      ]
     },
     "execution_count": 619,
     "metadata": {},
     "output_type": "execute_result"
    }
   ],
   "source": [
    "sum(abs(rid.coef_) > 0.1)"
   ]
  },
  {
   "cell_type": "code",
   "execution_count": 620,
   "metadata": {},
   "outputs": [
    {
     "name": "stdout",
     "output_type": "stream",
     "text": [
      "RMSE Cap_pct: 1.14%\n",
      "    translates to 2019 Cap Hit of: $946199.0\n"
     ]
    }
   ],
   "source": [
    "cap_preds = las.predict(X_test)\n",
    "p_rmse = rmse(cap_preds, yp_test, 2)\n",
    "print('RMSE Cap_pct: {}%'.format(p_rmse))\n",
    "print('    translates to 2019 Cap Hit of: ${}'.format(p_rmse * 83000000 // 100))"
   ]
  },
  {
   "cell_type": "code",
   "execution_count": 621,
   "metadata": {},
   "outputs": [
    {
     "name": "stdout",
     "output_type": "stream",
     "text": [
      "RMSE Cap_pct: 1.14%\n",
      "    translates to 2019 Cap Hit of: $946199.0\n"
     ]
    }
   ],
   "source": [
    "cap_preds = rid.predict(X_test)\n",
    "p_rmse = rmse(cap_preds, yp_test, 2)\n",
    "print('RMSE Cap_pct: {}%'.format(p_rmse))\n",
    "print('    translates to 2019 Cap Hit of: ${}'.format(p_rmse * 83000000 // 100))"
   ]
  },
  {
   "cell_type": "code",
   "execution_count": null,
   "metadata": {},
   "outputs": [],
   "source": []
  },
  {
   "cell_type": "code",
   "execution_count": 799,
   "metadata": {},
   "outputs": [
    {
     "name": "stdout",
     "output_type": "stream",
     "text": [
      "RMSE pick mean cap_pct: 2.53%\n",
      "    translates to 2019 Cap Hit of: $2099899.0\n",
      "RMSE pick mean length: 1.7 years\n",
      "\n",
      "MY MODEL\n",
      "RMSE Cap_pct: 0.98%\n",
      "    translates to 2019 Cap Hit of: $813400.0\n",
      "RMSE Length: 1.1 years\n",
      "\n",
      "SEPARATE MODELS\n",
      "RMSE Cap_pct: 0.99%\n",
      "    translates to 2019 Cap Hit of: $821700.0\n",
      "RMSE Length: 1.1 years\n"
     ]
    }
   ],
   "source": [
    "split = (\n",
    "    train_test_split(X, y['cap_pct'], y['length'], y['signing_year_cap'], \n",
    "                     test_size = 0.15))\n",
    "\n",
    "X_train, X_test, yp_train, yp_test, yl_train, yl_test, scap_train, scap_test = split\n",
    "\n",
    "predict_global_mean(yp_train, yp_test, yl_train, yl_test)\n",
    "print()\n",
    "print('MY MODEL')\n",
    "sl_model = SalaryLengthPredictor()\n",
    "sl_model.fit(X_train, yp_train, yl_train)\n",
    "sl_model.score(X_test, yp_test, yl_test)\n",
    "print()\n",
    "print('SEPARATE MODELS')\n",
    "s_mod = GradientBoostingRegressor()\n",
    "s_mod.fit(X_train, yp_train)\n",
    "l_mod = GradientBoostingRegressor()\n",
    "l_mod.fit(X_train, yl_train)\n",
    "s_rmse = rmse(s_mod.predict(X_test), yp_test, 2)\n",
    "l_rmse = rmse(l_mod.predict(X_test), yl_test, 1)\n",
    "print('RMSE Cap_pct: {}%'.format(s_rmse))\n",
    "print('    translates to {} Cap Hit of: ${}'.format(2019, s_rmse * 83000000 // 100))\n",
    "print('RMSE Length: {} years'.format(l_rmse))"
   ]
  },
  {
   "cell_type": "code",
   "execution_count": 795,
   "metadata": {},
   "outputs": [],
   "source": [
    "from sklearn.model_selection import GridSearchCV, KFold, cross_validate"
   ]
  },
  {
   "cell_type": "code",
   "execution_count": null,
   "metadata": {},
   "outputs": [],
   "source": []
  },
  {
   "cell_type": "code",
   "execution_count": 16,
   "metadata": {},
   "outputs": [],
   "source": [
    "class SalaryLengthPredictor():\n",
    "    def __init__(self, m = GradientBoostingRegressor, year = 2019):\n",
    "        self.m = m\n",
    "        \n",
    "        self.scap = {\n",
    "            2005: 39000000,\n",
    "            2006: 44000000,\n",
    "            2007: 50300000,\n",
    "            2008: 56700000,\n",
    "            2009: 56800000,\n",
    "            2010: 59400000,\n",
    "            2011: 64300000,\n",
    "            2012: 60000000,\n",
    "            2013: 64300000,\n",
    "            2014: 69000000,\n",
    "            2015: 71400000,\n",
    "            2016: 73000000,\n",
    "            2017: 75000000,\n",
    "            2018: 79500000,\n",
    "            2019: 83000000,\n",
    "           }\n",
    "        self.year = year\n",
    "        self.year_cap = self.scap[year]\n",
    "        pass\n",
    "    \n",
    "    def fit(self, X_train, yp_train, yl_train):\n",
    "        '''\n",
    "        Fit a model (default sklearn's GradientBoostingRegressor) for salary cap_pct\n",
    "        and contract length\n",
    "        '''\n",
    "        self.X_train = X_train\n",
    "        self.yp_train = yp_train\n",
    "        self.yl_train = yl_train\n",
    "        \n",
    "        self.sal_model = self.m()\n",
    "        self.sal_model.fit(X_train, yp_train)\n",
    "        \n",
    "        Xl_train = X_train.copy()\n",
    "        Xl_train = np.hstack((Xl_train, self.sal_model.predict(Xl_train).reshape(-1,1)))\n",
    "\n",
    "        self.len_model = self.m()\n",
    "        self.len_model.fit(Xl_train, yl_train)\n",
    "        pass\n",
    "    \n",
    "    def predict(self, X):\n",
    "        '''\n",
    "        Predict salary cap_pct and contract length\n",
    "        '''\n",
    "        self.cap_preds = self.sal_model.predict(X)\n",
    "        Xl_test = X.copy()\n",
    "        Xl_test = np.hstack((Xl_test, self.cap_preds.reshape(-1,1)))\n",
    "        self.length_preds = self.len_model.predict(Xl_test)        \n",
    "        \n",
    "        return self.cap_preds, self.length_preds\n",
    "    \n",
    "    def score(self, X_test, yp_test, yl_test):\n",
    "        '''\n",
    "        Return RMSE for salary cap_pct, equivalent salary in $ for 2019 (default), \n",
    "        and RMSE for contract length\n",
    "        '''\n",
    "        cap_preds, length_preds = self.predict(X_test)\n",
    "        self.p_rmse = self.rmse(cap_preds, yp_test, 2)\n",
    "        self.cap_hit = self.p_rmse * self.year_cap // 100\n",
    "        self.l_rmse = self.rmse(length_preds, yl_test, 1)\n",
    "        print('RMSE Cap_pct: {}%'.format(self.p_rmse))\n",
    "        print('    translates to {} Cap Hit of: ${}'.format(self.year, self.cap_hit))\n",
    "        print('RMSE Length: {} years'.format(self.l_rmse))\n",
    "        return self.p_rmse, self.cap_hit, self.l_rmse\n",
    "    \n",
    "    def rmse(self, yhat, y, round_to = None):\n",
    "        ''' Return root mean squared error of a set of predictions '''\n",
    "        err = np.sqrt(((yhat - y)**2).mean())\n",
    "        if round_to:\n",
    "            return round(err, round_to)\n",
    "        else:\n",
    "            return err"
   ]
  },
  {
   "cell_type": "code",
   "execution_count": 786,
   "metadata": {},
   "outputs": [
    {
     "ename": "SyntaxError",
     "evalue": "invalid syntax (<ipython-input-786-0d1cf846a1ae>, line 2)",
     "output_type": "error",
     "traceback": [
      "\u001b[0;36m  File \u001b[0;32m\"<ipython-input-786-0d1cf846a1ae>\"\u001b[0;36m, line \u001b[0;32m2\u001b[0m\n\u001b[0;31m    def __init__(self, , n_iter = 50, m = GradientBoostingRegressor, year = 2019):\u001b[0m\n\u001b[0m                       ^\u001b[0m\n\u001b[0;31mSyntaxError\u001b[0m\u001b[0;31m:\u001b[0m invalid syntax\n"
     ]
    }
   ],
   "source": [
    "'''\n",
    "The idea here was to borrow the methodology of NMF to run multi-target regression predictions \n",
    "back and forth until it converges. I'm not sure how to make it work so I'll come back to it later.\n",
    "'''\n",
    "\n",
    "class SalaryLengthPredictor_NMF():\n",
    "    def __init__(self, n_iter = 50, m = GradientBoostingRegressor, year = 2019):\n",
    "        self.m = m\n",
    "        self.n_iter = n_iter\n",
    "        self.scap = {\n",
    "            2005: 39000000,\n",
    "            2006: 44000000,\n",
    "            2007: 50300000,\n",
    "            2008: 56700000,\n",
    "            2009: 56800000,\n",
    "            2010: 59400000,\n",
    "            2011: 64300000,\n",
    "            2012: 60000000,\n",
    "            2013: 64300000,\n",
    "            2014: 69000000,\n",
    "            2015: 71400000,\n",
    "            2016: 73000000,\n",
    "            2017: 75000000,\n",
    "            2018: 79500000,\n",
    "            2019: 83000000,\n",
    "           }\n",
    "        self.year = year\n",
    "        self.year_cap = self.scap[year]\n",
    "        pass\n",
    "    \n",
    "    def fit(self, X_train, yp_train, yl_train):\n",
    "        '''\n",
    "        Fit a model (default sklearn's GradientBoostingRegressor) for salary cap_pct\n",
    "        and contract length\n",
    "        '''\n",
    "        self.X_train = X_train\n",
    "        self.yp_train = yp_train\n",
    "        self.yl_train = yl_train\n",
    "        \n",
    "        #initialize random columns for pred_cap_pct [:,-2], and pred_length [:,-1]\n",
    "        cp = np.random.random(size = (X_train.shape[0],1)) * 15\n",
    "        cl = np.random.random(size = (X_train.shape[0],1)) * 8\n",
    "        \n",
    "        for it in range(n_iter):\n",
    "            self.X_train = np.hstack((X_train, cl))\n",
    "        \n",
    "            self.sal_model = self.m()\n",
    "            self.sal_model.fit(X_train, yp_train)\n",
    "            \n",
    "            cp = self.sal_model.predict(X_train)\n",
    "            X_train = np.delete(X_train, [X_train.shape[1]-1], 1)\n",
    "            X_train = np.hstack((X_train, cp.reshape(-1,1)))\n",
    "\n",
    "            self.len_model = self.m()\n",
    "            self.len_model.fit(X_train, yl_train)\n",
    "            cl = self.len_model.predict(X_train)\n",
    "            X_train = np.delete(X_train, [X_train.shape[1]-1], 1)\n",
    "            \n",
    "        #store final pred_cap_pct, and pred_length  \n",
    "        self.cp = cp\n",
    "        self.cl = cl\n",
    "        pass\n",
    "    \n",
    "    def predict(self, X):\n",
    "        '''\n",
    "        Predict salary cap_pct and contract length\n",
    "        '''\n",
    "        self.cap_preds = self.sal_model.predict(np.hstack((X, self.cl.reshape(-1,1)))\n",
    "#         Xl_test = X.copy()\n",
    "#         Xl_test = np.hstack((Xl_test, self.cap_preds.reshape(-1,1)))\n",
    "        self.length_preds = self.len_model.predict(np.hstack((X, self.cp.reshape(-1,1))))        \n",
    "        \n",
    "        return self.cap_preds, self.length_preds\n",
    "    \n",
    "    def score(self, X_test, yp_test, yl_test):\n",
    "        '''\n",
    "        Return RMSE for salary cap_pct, equivalent salary in $ for 2019 (default), \n",
    "        and RMSE for contract length\n",
    "        '''\n",
    "        cap_preds, length_preds = self.predict(X_test)\n",
    "        self.p_rmse = self.rmse(cap_preds, yp_test, 2)\n",
    "        self.cap_hit = self.p_rmse * self.year_cap // 100\n",
    "        self.l_rmse = self.rmse(length_preds, yl_test, 1)\n",
    "        print('RMSE Cap_pct: {}%'.format(self.p_rmse))\n",
    "        print('    translates to {} Cap Hit of: ${}'.format(self.year, self.cap_hit))\n",
    "        print('RMSE Length: {} years'.format(self.l_rmse))\n",
    "        return self.p_rmse, self.cap_hit, self.l_rmse\n",
    "    \n",
    "    def rmse(self, yhat, y, round_to = None):\n",
    "        ''' Return root mean squared error of a set of predictions '''\n",
    "        err = np.sqrt(((yhat - y)**2).mean())\n",
    "        if round_to:\n",
    "            return round(err, round_to)\n",
    "        else:\n",
    "            return err"
   ]
  },
  {
   "cell_type": "code",
   "execution_count": 772,
   "metadata": {},
   "outputs": [
    {
     "data": {
      "text/plain": [
       "array([[1, 2, 3],\n",
       "       [4, 5, 6]])"
      ]
     },
     "execution_count": 772,
     "metadata": {},
     "output_type": "execute_result"
    }
   ],
   "source": [
    "a = np.array([[1,2,3], [4,5,6]])\n",
    "a"
   ]
  },
  {
   "cell_type": "code",
   "execution_count": 781,
   "metadata": {},
   "outputs": [
    {
     "name": "stdout",
     "output_type": "stream",
     "text": [
      "[[1 2 3]\n",
      " [4 5 6]]\n",
      "[[2 3]\n",
      " [5 6]]\n",
      "[3 6]\n"
     ]
    }
   ],
   "source": [
    "c = a[:,-1]\n",
    "b = np.delete(a, [0], 1)\n",
    "print(a)\n",
    "print(b)\n",
    "print(c)"
   ]
  },
  {
   "cell_type": "code",
   "execution_count": 835,
   "metadata": {},
   "outputs": [
    {
     "name": "stdout",
     "output_type": "stream",
     "text": [
      "RMSE pick mean cap_pct: 2.63%\n",
      "    translates to 2019 Cap Hit of: $2182900.0\n",
      "RMSE pick mean length: 1.7 years\n",
      "\n"
     ]
    }
   ],
   "source": [
    "split = (\n",
    "    train_test_split(X, y['cap_pct'], y['length'], y['signing_year_cap'], \n",
    "                     test_size = 0.15))\n",
    "\n",
    "X_train, X_test, yp_train, yp_test, yl_train, yl_test, scap_train, scap_test = split\n",
    "\n",
    "predict_global_mean(yp_train, yp_test, yl_train, yl_test)\n",
    "print()\n",
    "\n",
    "model = SalaryLengthPredictor()"
   ]
  },
  {
   "cell_type": "code",
   "execution_count": 836,
   "metadata": {},
   "outputs": [],
   "source": [
    "model.fit(X_train, yp_train, yl_train)"
   ]
  },
  {
   "cell_type": "code",
   "execution_count": 837,
   "metadata": {},
   "outputs": [],
   "source": [
    "preds = model.predict(X_test)"
   ]
  },
  {
   "cell_type": "code",
   "execution_count": 838,
   "metadata": {},
   "outputs": [
    {
     "data": {
      "text/plain": [
       "(0, 0)"
      ]
     },
     "execution_count": 838,
     "metadata": {},
     "output_type": "execute_result"
    }
   ],
   "source": [
    "sum(model.cap_preds < 0), sum(model.length_preds < 0)"
   ]
  },
  {
   "cell_type": "code",
   "execution_count": 839,
   "metadata": {},
   "outputs": [
    {
     "data": {
      "text/plain": [
       "((176,), (176,))"
      ]
     },
     "execution_count": 839,
     "metadata": {},
     "output_type": "execute_result"
    }
   ],
   "source": [
    "model.cap_preds.shape, yp_test.shape"
   ]
  },
  {
   "cell_type": "code",
   "execution_count": 840,
   "metadata": {},
   "outputs": [
    {
     "name": "stdout",
     "output_type": "stream",
     "text": [
      "RMSE Cap_pct: 0.94%\n",
      "    translates to 2019 Cap Hit of: $780200.0\n",
      "RMSE Length: 1.0 years\n"
     ]
    },
    {
     "data": {
      "text/plain": [
       "(0.94, 780200.0, 1.0)"
      ]
     },
     "execution_count": 840,
     "metadata": {},
     "output_type": "execute_result"
    }
   ],
   "source": [
    "model.score(X_test, yp_test, yl_test)"
   ]
  },
  {
   "cell_type": "code",
   "execution_count": 826,
   "metadata": {},
   "outputs": [],
   "source": [
    "GradientBoostingRegressor()\n",
    "\n",
    "params = {\n",
    "    'learning_rate': [0.5, 0.1, 0.05], \n",
    "    'n_estimators': [50, 100, 500], \n",
    "    'max_depth': [2, 3, 5],\n",
    "    'min_samples_split': [2, 3, 5],\n",
    "    'subsample': [1, 0.5, 0.25], \n",
    "    'min_impurity_decrease': [0, 0.01, 0.1, 0.3], \n",
    "    'max_features': [None, 0.5, 'sqrt']\n",
    "}\n",
    "\n",
    "params_short = {\n",
    "    'learning_rate': [0.05, 0.01], \n",
    "    'n_estimators': [10, 100, 250], \n",
    "    'max_depth': [2, 3],\n",
    "    'min_samples_leaf': [1, 3], \n",
    "    'subsample': [1, 0.25], \n",
    "}"
   ]
  },
  {
   "cell_type": "code",
   "execution_count": 827,
   "metadata": {},
   "outputs": [
    {
     "data": {
      "text/plain": [
       "GridSearchCV(cv=None, error_score='raise',\n",
       "       estimator=GradientBoostingRegressor(alpha=0.9, criterion='friedman_mse', init=None,\n",
       "             learning_rate=0.1, loss='ls', max_depth=3, max_features=None,\n",
       "             max_leaf_nodes=None, min_impurity_decrease=0.0,\n",
       "             min_impurity_split=None, min_samples_leaf=1,\n",
       "             min_samples_split=2, min_weight_fraction_leaf=0.0,\n",
       "             n_estimators=100, presort='auto', random_state=None,\n",
       "             subsample=1.0, verbose=0, warm_start=False),\n",
       "       fit_params=None, iid=True, n_jobs=1,\n",
       "       param_grid={'learning_rate': [0.5, 0.1, 0.05], 'n_estimators': [50, 100, 500], 'max_depth': [2, 3, 5], 'min_samples_split': [2, 3, 5], 'subsample': [1, 0.5, 0.25], 'min_impurity_decrease': [0, 0.01, 0.1, 0.3], 'max_features': [None, 0.5, 'sqrt']},\n",
       "       pre_dispatch='2*n_jobs', refit=True, return_train_score='warn',\n",
       "       scoring=None, verbose=0)"
      ]
     },
     "execution_count": 827,
     "metadata": {},
     "output_type": "execute_result"
    }
   ],
   "source": [
    "s_mo = GradientBoostingRegressor()\n",
    "l_mo = GradientBoostingRegressor()\n",
    "s_gs = GridSearchCV(s_mo, param_grid=params)\n",
    "s_gs.fit(X_train, yp_train)"
   ]
  },
  {
   "cell_type": "code",
   "execution_count": 829,
   "metadata": {},
   "outputs": [
    {
     "data": {
      "text/plain": [
       "GridSearchCV(cv=None, error_score='raise',\n",
       "       estimator=GradientBoostingRegressor(alpha=0.9, criterion='friedman_mse', init=None,\n",
       "             learning_rate=0.1, loss='ls', max_depth=3, max_features=None,\n",
       "             max_leaf_nodes=None, min_impurity_decrease=0.0,\n",
       "             min_impurity_split=None, min_samples_leaf=1,\n",
       "             min_samples_split=2, min_weight_fraction_leaf=0.0,\n",
       "             n_estimators=100, presort='auto', random_state=None,\n",
       "             subsample=1.0, verbose=0, warm_start=False),\n",
       "       fit_params=None, iid=True, n_jobs=1,\n",
       "       param_grid={'learning_rate': [0.5, 0.1, 0.05], 'n_estimators': [50, 100, 500], 'max_depth': [2, 3, 5], 'min_samples_split': [2, 3, 5], 'subsample': [1, 0.5, 0.25], 'min_impurity_decrease': [0, 0.01, 0.1, 0.3], 'max_features': [None, 0.5, 'sqrt']},\n",
       "       pre_dispatch='2*n_jobs', refit=True, return_train_score='warn',\n",
       "       scoring=None, verbose=0)"
      ]
     },
     "execution_count": 829,
     "metadata": {},
     "output_type": "execute_result"
    }
   ],
   "source": [
    "l_gs = GridSearchCV(l_mo, param_grid=params)\n",
    "l_gs.fit(X_train, yl_train)"
   ]
  },
  {
   "cell_type": "code",
   "execution_count": 714,
   "metadata": {},
   "outputs": [
    {
     "name": "stdout",
     "output_type": "stream",
     "text": [
      "GradientBoostingRegressor\n",
      "RMSE Cap_pct: 0.98%\n",
      "    translates to 2019 Cap Hit of: $813400.0\n",
      "LinearRegression\n",
      "RMSE Length: 1.1 years\n"
     ]
    }
   ],
   "source": [
    "print('GradientBoostingRegressor')\n",
    "model = GradientBoostingRegressor(n_estimators = 100)\n",
    "model.fit(X_train, yp_train)\n",
    "cap_preds = model.predict(X_test)\n",
    "p_rmse = rmse(cap_preds, yp_test, 2)\n",
    "print('RMSE Cap_pct: {}%'.format(p_rmse))\n",
    "print('    translates to 2019 Cap Hit of: ${}'.format(p_rmse * 83000000 // 100))\n",
    "\n",
    "\n",
    "Xl_train, Xl_test = X_train.copy(), X_test.copy()\n",
    "Xl_preds = model.predict(Xl_train)\n",
    "Xl_train = np.hstack((Xl_train, Xl_preds.reshape(-1,1), (Xl_preds**2).reshape(-1,1), (Xl_train[:,1]**2).reshape(-1,1)))\n",
    "Xl_test = np.hstack((Xl_test, cap_preds.reshape(-1,1), (cap_preds**2).reshape(-1,1), (Xl_test[:,1]**2).reshape(-1,1)))\n",
    "\n",
    "print('LinearRegression')\n",
    "l_model = LinearRegression()\n",
    "l_model.fit(Xl_train, yl_train)\n",
    "length_preds = l_model.predict(Xl_test)\n",
    "print('RMSE Length: {} years'.format(rmse(length_preds, yl_test, 1)))"
   ]
  },
  {
   "cell_type": "code",
   "execution_count": 820,
   "metadata": {},
   "outputs": [
    {
     "data": {
      "text/plain": [
       "GridSearchCV(cv=None, error_score='raise',\n",
       "       estimator=GradientBoostingRegressor(alpha=0.9, criterion='friedman_mse', init=None,\n",
       "             learning_rate=0.1, loss='ls', max_depth=3, max_features=None,\n",
       "             max_leaf_nodes=None, min_impurity_decrease=0.0,\n",
       "             min_impurity_split=None, min_samples_leaf=1,\n",
       "             min_samples_split=2, min_weight_fraction_leaf=0.0,\n",
       "             n_estimators=100, presort='auto', random_state=None,\n",
       "             subsample=1.0, verbose=0, warm_start=False),\n",
       "       fit_params=None, iid=True, n_jobs=1,\n",
       "       param_grid={'learning_rate': [0.05, 0.01], 'n_estimators': [10, 100, 250], 'max_depth': [2, 3], 'min_samples_leaf': [1, 3], 'subsample': [1, 0.25]},\n",
       "       pre_dispatch='2*n_jobs', refit=True, return_train_score='warn',\n",
       "       scoring=None, verbose=0)"
      ]
     },
     "execution_count": 820,
     "metadata": {},
     "output_type": "execute_result"
    }
   ],
   "source": [
    "gs.fit(X_train, yp_train)"
   ]
  },
  {
   "cell_type": "code",
   "execution_count": 784,
   "metadata": {},
   "outputs": [],
   "source": [
    "kw = {\n",
    "    'learning_rate': 0.1,\n",
    "    'n_estimators': 250, \n",
    "    'max_depth': 4, \n",
    "    'min_impurity_decrease': 0.05\n",
    "}\n",
    "\n",
    "kw2 = {\n",
    "    'learning_rate': 0.05,\n",
    "    'n_estimators': 500, \n",
    "    'max_depth': 3, \n",
    "    'min_impurity_decrease': 0.0\n",
    "}"
   ]
  },
  {
   "cell_type": "code",
   "execution_count": 782,
   "metadata": {},
   "outputs": [
    {
     "name": "stdout",
     "output_type": "stream",
     "text": [
      "GradientBoostingRegressor\n",
      "RMSE Cap_pct: 0.83%\n",
      "    translates to 2019 Cap Hit of: $688900.0\n"
     ]
    }
   ],
   "source": [
    "print('GradientBoostingRegressor')\n",
    "model = GradientBoostingRegressor(**kw)\n",
    "model.fit(X_train, yp_train)\n",
    "cap_preds = model.predict(X_test)\n",
    "p_rmse = rmse(cap_preds, yp_test, 2)\n",
    "print('RMSE Cap_pct: {}%'.format(p_rmse))\n",
    "print('    translates to 2019 Cap Hit of: ${}'.format(p_rmse * 83000000 // 100))"
   ]
  },
  {
   "cell_type": "code",
   "execution_count": 785,
   "metadata": {},
   "outputs": [
    {
     "name": "stdout",
     "output_type": "stream",
     "text": [
      "GradientBoostingRegressor\n",
      "RMSE Cap_pct: 0.81%\n",
      "    translates to 2019 Cap Hit of: $672300.0\n"
     ]
    }
   ],
   "source": [
    "print('GradientBoostingRegressor')\n",
    "model = GradientBoostingRegressor(**kw2)\n",
    "model.fit(X_train, yp_train)\n",
    "cap_preds = model.predict(X_test)\n",
    "p_rmse = rmse(cap_preds, yp_test, 2)\n",
    "print('RMSE Cap_pct: {}%'.format(p_rmse))\n",
    "print('    translates to 2019 Cap Hit of: ${}'.format(p_rmse * 83000000 // 100))"
   ]
  },
  {
   "cell_type": "code",
   "execution_count": 830,
   "metadata": {},
   "outputs": [],
   "source": [
    "estimator=GradientBoostingRegressor(alpha=0.9, criterion='friedman_mse', init=None,\n",
    "             learning_rate=0.1, loss='ls', max_depth=3, max_features=None,\n",
    "             max_leaf_nodes=None, min_impurity_decrease=0.0,\n",
    "             min_impurity_split=None, min_samples_leaf=1,\n",
    "             min_samples_split=2, min_weight_fraction_leaf=0.0,\n",
    "             n_estimators=100, presort='auto', random_state=None,\n",
    "             subsample=1.0, verbose=0, warm_start=False),"
   ]
  },
  {
   "cell_type": "code",
   "execution_count": 832,
   "metadata": {},
   "outputs": [],
   "source": [
    "kwt = {'alpha': 0.9, 'criterion': 'friedman_mse', 'init':None,\n",
    "             'learning_rate':0.1, 'loss':'ls', 'max_depth':3, 'max_features':None,\n",
    "             'max_leaf_nodes':None, 'min_impurity_decrease':0.0,\n",
    "             'min_impurity_split':None, 'min_samples_leaf':1,\n",
    "             'min_samples_split':2, 'min_weight_fraction_leaf':0.0,\n",
    "             'n_estimators':100, 'presort':'auto', 'random_state':None,\n",
    "             'subsample':1.0, 'verbose':0, 'warm_start':False}"
   ]
  },
  {
   "cell_type": "code",
   "execution_count": 833,
   "metadata": {},
   "outputs": [],
   "source": [
    "gm = GradientBoostingRegressor(**kwt)"
   ]
  },
  {
   "cell_type": "code",
   "execution_count": 834,
   "metadata": {},
   "outputs": [],
   "source": [
    "import rfpimp"
   ]
  },
  {
   "cell_type": "code",
   "execution_count": 854,
   "metadata": {},
   "outputs": [],
   "source": [
    "X_train_df = pd.DataFrame(X_train, columns = xcols)\n",
    "X_test_df = pd.DataFrame(X_test, columns = xcols)\n",
    "\n",
    "sal_imp = rfpimp.importances(model.sal_model, X_test_df, yp_test)\n",
    "X_test_df['pred_cap_pct'] = model.sal_model.predict(X_test)\n",
    "len_imp = rfpimp.importances(model.len_model, X_test_df, yl_test)"
   ]
  },
  {
   "cell_type": "code",
   "execution_count": 855,
   "metadata": {},
   "outputs": [
    {
     "data": {
      "text/html": [
       "<div>\n",
       "<style scoped>\n",
       "    .dataframe tbody tr th:only-of-type {\n",
       "        vertical-align: middle;\n",
       "    }\n",
       "\n",
       "    .dataframe tbody tr th {\n",
       "        vertical-align: top;\n",
       "    }\n",
       "\n",
       "    .dataframe thead th {\n",
       "        text-align: right;\n",
       "    }\n",
       "</style>\n",
       "<table border=\"1\" class=\"dataframe\">\n",
       "  <thead>\n",
       "    <tr style=\"text-align: right;\">\n",
       "      <th></th>\n",
       "      <th>Importance</th>\n",
       "    </tr>\n",
       "    <tr>\n",
       "      <th>Feature</th>\n",
       "      <th></th>\n",
       "    </tr>\n",
       "  </thead>\n",
       "  <tbody>\n",
       "    <tr>\n",
       "      <th>TOI/GP</th>\n",
       "      <td>0.083884</td>\n",
       "    </tr>\n",
       "    <tr>\n",
       "      <th>Total Points</th>\n",
       "      <td>0.074436</td>\n",
       "    </tr>\n",
       "    <tr>\n",
       "      <th>TOI</th>\n",
       "      <td>0.039254</td>\n",
       "    </tr>\n",
       "    <tr>\n",
       "      <th>3yr TOI/GP</th>\n",
       "      <td>0.029348</td>\n",
       "    </tr>\n",
       "    <tr>\n",
       "      <th>iCF</th>\n",
       "      <td>0.016902</td>\n",
       "    </tr>\n",
       "    <tr>\n",
       "      <th>mean Total Points</th>\n",
       "      <td>0.015494</td>\n",
       "    </tr>\n",
       "    <tr>\n",
       "      <th>signing_age</th>\n",
       "      <td>0.014185</td>\n",
       "    </tr>\n",
       "    <tr>\n",
       "      <th>Total Assists</th>\n",
       "      <td>0.006414</td>\n",
       "    </tr>\n",
       "    <tr>\n",
       "      <th>sum Takeaways</th>\n",
       "      <td>0.006384</td>\n",
       "    </tr>\n",
       "    <tr>\n",
       "      <th>sum Total Points</th>\n",
       "      <td>0.006111</td>\n",
       "    </tr>\n",
       "    <tr>\n",
       "      <th>On The Fly Starts/60</th>\n",
       "      <td>0.005415</td>\n",
       "    </tr>\n",
       "    <tr>\n",
       "      <th>On-Ice SH%</th>\n",
       "      <td>0.005124</td>\n",
       "    </tr>\n",
       "    <tr>\n",
       "      <th>mean Second Assists</th>\n",
       "      <td>0.004944</td>\n",
       "    </tr>\n",
       "    <tr>\n",
       "      <th>SCF/60 Rel</th>\n",
       "      <td>0.003914</td>\n",
       "    </tr>\n",
       "    <tr>\n",
       "      <th>mean TOI</th>\n",
       "      <td>0.003796</td>\n",
       "    </tr>\n",
       "    <tr>\n",
       "      <th>mean Total Assists</th>\n",
       "      <td>0.003345</td>\n",
       "    </tr>\n",
       "    <tr>\n",
       "      <th>Penalties Drawn/60</th>\n",
       "      <td>0.002286</td>\n",
       "    </tr>\n",
       "    <tr>\n",
       "      <th>mean iSCF</th>\n",
       "      <td>0.002213</td>\n",
       "    </tr>\n",
       "    <tr>\n",
       "      <th>mean Hits Taken</th>\n",
       "      <td>0.002184</td>\n",
       "    </tr>\n",
       "    <tr>\n",
       "      <th>3yr On The Fly Starts/60</th>\n",
       "      <td>0.002098</td>\n",
       "    </tr>\n",
       "    <tr>\n",
       "      <th>Goals/60</th>\n",
       "      <td>0.002092</td>\n",
       "    </tr>\n",
       "    <tr>\n",
       "      <th>sum Shots Blocked</th>\n",
       "      <td>0.002036</td>\n",
       "    </tr>\n",
       "    <tr>\n",
       "      <th>Giveaways</th>\n",
       "      <td>0.001900</td>\n",
       "    </tr>\n",
       "    <tr>\n",
       "      <th>mean Total Points/60</th>\n",
       "      <td>0.001860</td>\n",
       "    </tr>\n",
       "    <tr>\n",
       "      <th>3yr Off. Zone Start %</th>\n",
       "      <td>0.001779</td>\n",
       "    </tr>\n",
       "    <tr>\n",
       "      <th>iFF</th>\n",
       "      <td>0.001755</td>\n",
       "    </tr>\n",
       "    <tr>\n",
       "      <th>mean Goalness</th>\n",
       "      <td>0.001511</td>\n",
       "    </tr>\n",
       "    <tr>\n",
       "      <th>sum Giveaways</th>\n",
       "      <td>0.001475</td>\n",
       "    </tr>\n",
       "    <tr>\n",
       "      <th>Second Assists</th>\n",
       "      <td>0.001401</td>\n",
       "    </tr>\n",
       "    <tr>\n",
       "      <th>LDGA/60 Rel</th>\n",
       "      <td>0.001372</td>\n",
       "    </tr>\n",
       "    <tr>\n",
       "      <th>...</th>\n",
       "      <td>...</td>\n",
       "    </tr>\n",
       "    <tr>\n",
       "      <th>HDGF/60 Rel</th>\n",
       "      <td>-0.000146</td>\n",
       "    </tr>\n",
       "    <tr>\n",
       "      <th>mean iCF</th>\n",
       "      <td>-0.000172</td>\n",
       "    </tr>\n",
       "    <tr>\n",
       "      <th>MDCF/60 Rel</th>\n",
       "      <td>-0.000177</td>\n",
       "    </tr>\n",
       "    <tr>\n",
       "      <th>3yr On-Ice SV%</th>\n",
       "      <td>-0.000185</td>\n",
       "    </tr>\n",
       "    <tr>\n",
       "      <th>sum iFF</th>\n",
       "      <td>-0.000202</td>\n",
       "    </tr>\n",
       "    <tr>\n",
       "      <th>LDCF/60 Rel</th>\n",
       "      <td>-0.000204</td>\n",
       "    </tr>\n",
       "    <tr>\n",
       "      <th>iSCF</th>\n",
       "      <td>-0.000235</td>\n",
       "    </tr>\n",
       "    <tr>\n",
       "      <th>sum First Assists</th>\n",
       "      <td>-0.000292</td>\n",
       "    </tr>\n",
       "    <tr>\n",
       "      <th>sum Total Penalties</th>\n",
       "      <td>-0.000303</td>\n",
       "    </tr>\n",
       "    <tr>\n",
       "      <th>MDGA/60 Rel</th>\n",
       "      <td>-0.000308</td>\n",
       "    </tr>\n",
       "    <tr>\n",
       "      <th>Hits Taken</th>\n",
       "      <td>-0.000403</td>\n",
       "    </tr>\n",
       "    <tr>\n",
       "      <th>sum Faceoffs Lost</th>\n",
       "      <td>-0.000463</td>\n",
       "    </tr>\n",
       "    <tr>\n",
       "      <th>3yr Off. Zone Faceoffs/60</th>\n",
       "      <td>-0.000544</td>\n",
       "    </tr>\n",
       "    <tr>\n",
       "      <th>mean Rebounds Created</th>\n",
       "      <td>-0.000688</td>\n",
       "    </tr>\n",
       "    <tr>\n",
       "      <th>GF% Rel</th>\n",
       "      <td>-0.000691</td>\n",
       "    </tr>\n",
       "    <tr>\n",
       "      <th>LDGF% Rel</th>\n",
       "      <td>-0.000761</td>\n",
       "    </tr>\n",
       "    <tr>\n",
       "      <th>mean Shots Blocked</th>\n",
       "      <td>-0.000766</td>\n",
       "    </tr>\n",
       "    <tr>\n",
       "      <th>3yr LDGF% Rel</th>\n",
       "      <td>-0.000798</td>\n",
       "    </tr>\n",
       "    <tr>\n",
       "      <th>3yr GA/60 Rel</th>\n",
       "      <td>-0.000833</td>\n",
       "    </tr>\n",
       "    <tr>\n",
       "      <th>sum iSCF</th>\n",
       "      <td>-0.000852</td>\n",
       "    </tr>\n",
       "    <tr>\n",
       "      <th>sum iHDCF</th>\n",
       "      <td>-0.001047</td>\n",
       "    </tr>\n",
       "    <tr>\n",
       "      <th>SA/60 Rel</th>\n",
       "      <td>-0.001194</td>\n",
       "    </tr>\n",
       "    <tr>\n",
       "      <th>MDCA/60 Rel</th>\n",
       "      <td>-0.001328</td>\n",
       "    </tr>\n",
       "    <tr>\n",
       "      <th>Takeaways/60</th>\n",
       "      <td>-0.001480</td>\n",
       "    </tr>\n",
       "    <tr>\n",
       "      <th>sum Hits</th>\n",
       "      <td>-0.001570</td>\n",
       "    </tr>\n",
       "    <tr>\n",
       "      <th>3yr On-Ice SH%</th>\n",
       "      <td>-0.001629</td>\n",
       "    </tr>\n",
       "    <tr>\n",
       "      <th>HDGA/60 Rel</th>\n",
       "      <td>-0.001723</td>\n",
       "    </tr>\n",
       "    <tr>\n",
       "      <th>3yr PDO</th>\n",
       "      <td>-0.001999</td>\n",
       "    </tr>\n",
       "    <tr>\n",
       "      <th>Shots Blocked</th>\n",
       "      <td>-0.002266</td>\n",
       "    </tr>\n",
       "    <tr>\n",
       "      <th>mean Giveaways</th>\n",
       "      <td>-0.002405</td>\n",
       "    </tr>\n",
       "  </tbody>\n",
       "</table>\n",
       "<p>197 rows × 1 columns</p>\n",
       "</div>"
      ],
      "text/plain": [
       "                           Importance\n",
       "Feature                              \n",
       "TOI/GP                       0.083884\n",
       "Total Points                 0.074436\n",
       "TOI                          0.039254\n",
       "3yr TOI/GP                   0.029348\n",
       "iCF                          0.016902\n",
       "mean Total Points            0.015494\n",
       "signing_age                  0.014185\n",
       "Total Assists                0.006414\n",
       "sum Takeaways                0.006384\n",
       "sum Total Points             0.006111\n",
       "On The Fly Starts/60         0.005415\n",
       "On-Ice SH%                   0.005124\n",
       "mean Second Assists          0.004944\n",
       "SCF/60 Rel                   0.003914\n",
       "mean TOI                     0.003796\n",
       "mean Total Assists           0.003345\n",
       "Penalties Drawn/60           0.002286\n",
       "mean iSCF                    0.002213\n",
       "mean Hits Taken              0.002184\n",
       "3yr On The Fly Starts/60     0.002098\n",
       "Goals/60                     0.002092\n",
       "sum Shots Blocked            0.002036\n",
       "Giveaways                    0.001900\n",
       "mean Total Points/60         0.001860\n",
       "3yr Off. Zone Start %        0.001779\n",
       "iFF                          0.001755\n",
       "mean Goalness                0.001511\n",
       "sum Giveaways                0.001475\n",
       "Second Assists               0.001401\n",
       "LDGA/60 Rel                  0.001372\n",
       "...                               ...\n",
       "HDGF/60 Rel                 -0.000146\n",
       "mean iCF                    -0.000172\n",
       "MDCF/60 Rel                 -0.000177\n",
       "3yr On-Ice SV%              -0.000185\n",
       "sum iFF                     -0.000202\n",
       "LDCF/60 Rel                 -0.000204\n",
       "iSCF                        -0.000235\n",
       "sum First Assists           -0.000292\n",
       "sum Total Penalties         -0.000303\n",
       "MDGA/60 Rel                 -0.000308\n",
       "Hits Taken                  -0.000403\n",
       "sum Faceoffs Lost           -0.000463\n",
       "3yr Off. Zone Faceoffs/60   -0.000544\n",
       "mean Rebounds Created       -0.000688\n",
       "GF% Rel                     -0.000691\n",
       "LDGF% Rel                   -0.000761\n",
       "mean Shots Blocked          -0.000766\n",
       "3yr LDGF% Rel               -0.000798\n",
       "3yr GA/60 Rel               -0.000833\n",
       "sum iSCF                    -0.000852\n",
       "sum iHDCF                   -0.001047\n",
       "SA/60 Rel                   -0.001194\n",
       "MDCA/60 Rel                 -0.001328\n",
       "Takeaways/60                -0.001480\n",
       "sum Hits                    -0.001570\n",
       "3yr On-Ice SH%              -0.001629\n",
       "HDGA/60 Rel                 -0.001723\n",
       "3yr PDO                     -0.001999\n",
       "Shots Blocked               -0.002266\n",
       "mean Giveaways              -0.002405\n",
       "\n",
       "[197 rows x 1 columns]"
      ]
     },
     "execution_count": 855,
     "metadata": {},
     "output_type": "execute_result"
    }
   ],
   "source": [
    "sal_imp"
   ]
  },
  {
   "cell_type": "code",
   "execution_count": 856,
   "metadata": {},
   "outputs": [
    {
     "data": {
      "text/html": [
       "<div>\n",
       "<style scoped>\n",
       "    .dataframe tbody tr th:only-of-type {\n",
       "        vertical-align: middle;\n",
       "    }\n",
       "\n",
       "    .dataframe tbody tr th {\n",
       "        vertical-align: top;\n",
       "    }\n",
       "\n",
       "    .dataframe thead th {\n",
       "        text-align: right;\n",
       "    }\n",
       "</style>\n",
       "<table border=\"1\" class=\"dataframe\">\n",
       "  <thead>\n",
       "    <tr style=\"text-align: right;\">\n",
       "      <th></th>\n",
       "      <th>Importance</th>\n",
       "    </tr>\n",
       "    <tr>\n",
       "      <th>Feature</th>\n",
       "      <th></th>\n",
       "    </tr>\n",
       "  </thead>\n",
       "  <tbody>\n",
       "    <tr>\n",
       "      <th>pred_cap_pct</th>\n",
       "      <td>1.192037</td>\n",
       "    </tr>\n",
       "    <tr>\n",
       "      <th>signing_age</th>\n",
       "      <td>0.032302</td>\n",
       "    </tr>\n",
       "    <tr>\n",
       "      <th>GF% Rel</th>\n",
       "      <td>0.015758</td>\n",
       "    </tr>\n",
       "    <tr>\n",
       "      <th>sum Hits Taken</th>\n",
       "      <td>0.013761</td>\n",
       "    </tr>\n",
       "    <tr>\n",
       "      <th>mean GP</th>\n",
       "      <td>0.010093</td>\n",
       "    </tr>\n",
       "    <tr>\n",
       "      <th>3yr Def. Zone Starts/60</th>\n",
       "      <td>0.008656</td>\n",
       "    </tr>\n",
       "    <tr>\n",
       "      <th>Hits Taken</th>\n",
       "      <td>0.008456</td>\n",
       "    </tr>\n",
       "    <tr>\n",
       "      <th>Shots/60</th>\n",
       "      <td>0.007334</td>\n",
       "    </tr>\n",
       "    <tr>\n",
       "      <th>3yr SF% Rel</th>\n",
       "      <td>0.007307</td>\n",
       "    </tr>\n",
       "    <tr>\n",
       "      <th>mean Faceoffs %</th>\n",
       "      <td>0.007175</td>\n",
       "    </tr>\n",
       "    <tr>\n",
       "      <th>PIM/60</th>\n",
       "      <td>0.006686</td>\n",
       "    </tr>\n",
       "    <tr>\n",
       "      <th>Hits</th>\n",
       "      <td>0.004774</td>\n",
       "    </tr>\n",
       "    <tr>\n",
       "      <th>3yr CF% Rel</th>\n",
       "      <td>0.004015</td>\n",
       "    </tr>\n",
       "    <tr>\n",
       "      <th>Shots Blocked</th>\n",
       "      <td>0.003787</td>\n",
       "    </tr>\n",
       "    <tr>\n",
       "      <th>mean Second Assists</th>\n",
       "      <td>0.003375</td>\n",
       "    </tr>\n",
       "    <tr>\n",
       "      <th>CA/60 Rel</th>\n",
       "      <td>0.003176</td>\n",
       "    </tr>\n",
       "    <tr>\n",
       "      <th>mean Goals</th>\n",
       "      <td>0.003130</td>\n",
       "    </tr>\n",
       "    <tr>\n",
       "      <th>3yr FF/60 Rel</th>\n",
       "      <td>0.003021</td>\n",
       "    </tr>\n",
       "    <tr>\n",
       "      <th>sum Total Points</th>\n",
       "      <td>0.002975</td>\n",
       "    </tr>\n",
       "    <tr>\n",
       "      <th>mean TOI</th>\n",
       "      <td>0.002892</td>\n",
       "    </tr>\n",
       "    <tr>\n",
       "      <th>mean Penalties Drawn</th>\n",
       "      <td>0.002348</td>\n",
       "    </tr>\n",
       "    <tr>\n",
       "      <th>sum Second Assists</th>\n",
       "      <td>0.002223</td>\n",
       "    </tr>\n",
       "    <tr>\n",
       "      <th>sum Penalties Drawn</th>\n",
       "      <td>0.002184</td>\n",
       "    </tr>\n",
       "    <tr>\n",
       "      <th>sum First Assists</th>\n",
       "      <td>0.002037</td>\n",
       "    </tr>\n",
       "    <tr>\n",
       "      <th>mean Total Assists</th>\n",
       "      <td>0.001977</td>\n",
       "    </tr>\n",
       "    <tr>\n",
       "      <th>sum Rebounds Created</th>\n",
       "      <td>0.001946</td>\n",
       "    </tr>\n",
       "    <tr>\n",
       "      <th>sum Minor</th>\n",
       "      <td>0.001925</td>\n",
       "    </tr>\n",
       "    <tr>\n",
       "      <th>3yr Off. Zone Faceoffs/60</th>\n",
       "      <td>0.001891</td>\n",
       "    </tr>\n",
       "    <tr>\n",
       "      <th>HDCF/60 Rel</th>\n",
       "      <td>0.001843</td>\n",
       "    </tr>\n",
       "    <tr>\n",
       "      <th>sum iCF</th>\n",
       "      <td>0.001532</td>\n",
       "    </tr>\n",
       "    <tr>\n",
       "      <th>...</th>\n",
       "      <td>...</td>\n",
       "    </tr>\n",
       "    <tr>\n",
       "      <th>CF% Rel</th>\n",
       "      <td>-0.001048</td>\n",
       "    </tr>\n",
       "    <tr>\n",
       "      <th>Total Points/60</th>\n",
       "      <td>-0.001191</td>\n",
       "    </tr>\n",
       "    <tr>\n",
       "      <th>sum Hits</th>\n",
       "      <td>-0.001215</td>\n",
       "    </tr>\n",
       "    <tr>\n",
       "      <th>PIM</th>\n",
       "      <td>-0.001347</td>\n",
       "    </tr>\n",
       "    <tr>\n",
       "      <th>3yr SF/60 Rel</th>\n",
       "      <td>-0.001354</td>\n",
       "    </tr>\n",
       "    <tr>\n",
       "      <th>mean First Assists</th>\n",
       "      <td>-0.001400</td>\n",
       "    </tr>\n",
       "    <tr>\n",
       "      <th>Def. Zone Starts/60</th>\n",
       "      <td>-0.001471</td>\n",
       "    </tr>\n",
       "    <tr>\n",
       "      <th>3yr Neu. Zone Starts/60</th>\n",
       "      <td>-0.001554</td>\n",
       "    </tr>\n",
       "    <tr>\n",
       "      <th>sum GP</th>\n",
       "      <td>-0.001564</td>\n",
       "    </tr>\n",
       "    <tr>\n",
       "      <th>3yr HDCA/60 Rel</th>\n",
       "      <td>-0.001579</td>\n",
       "    </tr>\n",
       "    <tr>\n",
       "      <th>Rush Attempts</th>\n",
       "      <td>-0.001598</td>\n",
       "    </tr>\n",
       "    <tr>\n",
       "      <th>TOI/GP</th>\n",
       "      <td>-0.001601</td>\n",
       "    </tr>\n",
       "    <tr>\n",
       "      <th>HDGF% Rel</th>\n",
       "      <td>-0.001750</td>\n",
       "    </tr>\n",
       "    <tr>\n",
       "      <th>MDCF/60 Rel</th>\n",
       "      <td>-0.001780</td>\n",
       "    </tr>\n",
       "    <tr>\n",
       "      <th>3yr Def. Zone Faceoffs/60</th>\n",
       "      <td>-0.001916</td>\n",
       "    </tr>\n",
       "    <tr>\n",
       "      <th>3yr Off. Zone Starts/60</th>\n",
       "      <td>-0.001935</td>\n",
       "    </tr>\n",
       "    <tr>\n",
       "      <th>mean Goals/60</th>\n",
       "      <td>-0.001963</td>\n",
       "    </tr>\n",
       "    <tr>\n",
       "      <th>MDCA/60 Rel</th>\n",
       "      <td>-0.002054</td>\n",
       "    </tr>\n",
       "    <tr>\n",
       "      <th>sum Shots</th>\n",
       "      <td>-0.002177</td>\n",
       "    </tr>\n",
       "    <tr>\n",
       "      <th>LDGA/60 Rel</th>\n",
       "      <td>-0.002275</td>\n",
       "    </tr>\n",
       "    <tr>\n",
       "      <th>mean Giveaways/60</th>\n",
       "      <td>-0.002288</td>\n",
       "    </tr>\n",
       "    <tr>\n",
       "      <th>On-Ice SH%</th>\n",
       "      <td>-0.002535</td>\n",
       "    </tr>\n",
       "    <tr>\n",
       "      <th>iCF</th>\n",
       "      <td>-0.002866</td>\n",
       "    </tr>\n",
       "    <tr>\n",
       "      <th>MDGF% Rel</th>\n",
       "      <td>-0.004197</td>\n",
       "    </tr>\n",
       "    <tr>\n",
       "      <th>3yr TOI/GP</th>\n",
       "      <td>-0.004836</td>\n",
       "    </tr>\n",
       "    <tr>\n",
       "      <th>Hits/60</th>\n",
       "      <td>-0.006242</td>\n",
       "    </tr>\n",
       "    <tr>\n",
       "      <th>3yr Neu. Zone Faceoffs/60</th>\n",
       "      <td>-0.007993</td>\n",
       "    </tr>\n",
       "    <tr>\n",
       "      <th>Shots Blocked/60</th>\n",
       "      <td>-0.008470</td>\n",
       "    </tr>\n",
       "    <tr>\n",
       "      <th>3yr LDCA/60 Rel</th>\n",
       "      <td>-0.014084</td>\n",
       "    </tr>\n",
       "    <tr>\n",
       "      <th>sum Giveaways</th>\n",
       "      <td>-0.015637</td>\n",
       "    </tr>\n",
       "  </tbody>\n",
       "</table>\n",
       "<p>198 rows × 1 columns</p>\n",
       "</div>"
      ],
      "text/plain": [
       "                           Importance\n",
       "Feature                              \n",
       "pred_cap_pct                 1.192037\n",
       "signing_age                  0.032302\n",
       "GF% Rel                      0.015758\n",
       "sum Hits Taken               0.013761\n",
       "mean GP                      0.010093\n",
       "3yr Def. Zone Starts/60      0.008656\n",
       "Hits Taken                   0.008456\n",
       "Shots/60                     0.007334\n",
       "3yr SF% Rel                  0.007307\n",
       "mean Faceoffs %              0.007175\n",
       "PIM/60                       0.006686\n",
       "Hits                         0.004774\n",
       "3yr CF% Rel                  0.004015\n",
       "Shots Blocked                0.003787\n",
       "mean Second Assists          0.003375\n",
       "CA/60 Rel                    0.003176\n",
       "mean Goals                   0.003130\n",
       "3yr FF/60 Rel                0.003021\n",
       "sum Total Points             0.002975\n",
       "mean TOI                     0.002892\n",
       "mean Penalties Drawn         0.002348\n",
       "sum Second Assists           0.002223\n",
       "sum Penalties Drawn          0.002184\n",
       "sum First Assists            0.002037\n",
       "mean Total Assists           0.001977\n",
       "sum Rebounds Created         0.001946\n",
       "sum Minor                    0.001925\n",
       "3yr Off. Zone Faceoffs/60    0.001891\n",
       "HDCF/60 Rel                  0.001843\n",
       "sum iCF                      0.001532\n",
       "...                               ...\n",
       "CF% Rel                     -0.001048\n",
       "Total Points/60             -0.001191\n",
       "sum Hits                    -0.001215\n",
       "PIM                         -0.001347\n",
       "3yr SF/60 Rel               -0.001354\n",
       "mean First Assists          -0.001400\n",
       "Def. Zone Starts/60         -0.001471\n",
       "3yr Neu. Zone Starts/60     -0.001554\n",
       "sum GP                      -0.001564\n",
       "3yr HDCA/60 Rel             -0.001579\n",
       "Rush Attempts               -0.001598\n",
       "TOI/GP                      -0.001601\n",
       "HDGF% Rel                   -0.001750\n",
       "MDCF/60 Rel                 -0.001780\n",
       "3yr Def. Zone Faceoffs/60   -0.001916\n",
       "3yr Off. Zone Starts/60     -0.001935\n",
       "mean Goals/60               -0.001963\n",
       "MDCA/60 Rel                 -0.002054\n",
       "sum Shots                   -0.002177\n",
       "LDGA/60 Rel                 -0.002275\n",
       "mean Giveaways/60           -0.002288\n",
       "On-Ice SH%                  -0.002535\n",
       "iCF                         -0.002866\n",
       "MDGF% Rel                   -0.004197\n",
       "3yr TOI/GP                  -0.004836\n",
       "Hits/60                     -0.006242\n",
       "3yr Neu. Zone Faceoffs/60   -0.007993\n",
       "Shots Blocked/60            -0.008470\n",
       "3yr LDCA/60 Rel             -0.014084\n",
       "sum Giveaways               -0.015637\n",
       "\n",
       "[198 rows x 1 columns]"
      ]
     },
     "execution_count": 856,
     "metadata": {},
     "output_type": "execute_result"
    }
   ],
   "source": [
    "len_imp"
   ]
  },
  {
   "cell_type": "code",
   "execution_count": 849,
   "metadata": {},
   "outputs": [
    {
     "data": {
      "text/html": [
       "<div>\n",
       "<style scoped>\n",
       "    .dataframe tbody tr th:only-of-type {\n",
       "        vertical-align: middle;\n",
       "    }\n",
       "\n",
       "    .dataframe tbody tr th {\n",
       "        vertical-align: top;\n",
       "    }\n",
       "\n",
       "    .dataframe thead th {\n",
       "        text-align: right;\n",
       "    }\n",
       "</style>\n",
       "<table border=\"1\" class=\"dataframe\">\n",
       "  <thead>\n",
       "    <tr style=\"text-align: right;\">\n",
       "      <th></th>\n",
       "      <th>Importance</th>\n",
       "    </tr>\n",
       "    <tr>\n",
       "      <th>Feature</th>\n",
       "      <th></th>\n",
       "    </tr>\n",
       "  </thead>\n",
       "  <tbody>\n",
       "    <tr>\n",
       "      <th>TOI/GP</th>\n",
       "      <td>0.082342</td>\n",
       "    </tr>\n",
       "    <tr>\n",
       "      <th>Total Points</th>\n",
       "      <td>0.082056</td>\n",
       "    </tr>\n",
       "    <tr>\n",
       "      <th>TOI</th>\n",
       "      <td>0.046952</td>\n",
       "    </tr>\n",
       "    <tr>\n",
       "      <th>mean Total Points</th>\n",
       "      <td>0.026065</td>\n",
       "    </tr>\n",
       "    <tr>\n",
       "      <th>Total Assists</th>\n",
       "      <td>0.021713</td>\n",
       "    </tr>\n",
       "    <tr>\n",
       "      <th>3yr TOI/GP</th>\n",
       "      <td>0.017159</td>\n",
       "    </tr>\n",
       "    <tr>\n",
       "      <th>signing_age</th>\n",
       "      <td>0.013035</td>\n",
       "    </tr>\n",
       "    <tr>\n",
       "      <th>iCF</th>\n",
       "      <td>0.012647</td>\n",
       "    </tr>\n",
       "    <tr>\n",
       "      <th>sum Total Points</th>\n",
       "      <td>0.008180</td>\n",
       "    </tr>\n",
       "    <tr>\n",
       "      <th>mean Second Assists</th>\n",
       "      <td>0.006607</td>\n",
       "    </tr>\n",
       "    <tr>\n",
       "      <th>mean GP</th>\n",
       "      <td>0.005477</td>\n",
       "    </tr>\n",
       "    <tr>\n",
       "      <th>mean TOI</th>\n",
       "      <td>0.005441</td>\n",
       "    </tr>\n",
       "    <tr>\n",
       "      <th>3yr On The Fly Starts/60</th>\n",
       "      <td>0.004532</td>\n",
       "    </tr>\n",
       "    <tr>\n",
       "      <th>Shots Blocked</th>\n",
       "      <td>0.004002</td>\n",
       "    </tr>\n",
       "    <tr>\n",
       "      <th>On The Fly Starts/60</th>\n",
       "      <td>0.003896</td>\n",
       "    </tr>\n",
       "    <tr>\n",
       "      <th>On-Ice SH%</th>\n",
       "      <td>0.003717</td>\n",
       "    </tr>\n",
       "    <tr>\n",
       "      <th>mean Total Assists</th>\n",
       "      <td>0.003490</td>\n",
       "    </tr>\n",
       "    <tr>\n",
       "      <th>sum Takeaways</th>\n",
       "      <td>0.002889</td>\n",
       "    </tr>\n",
       "    <tr>\n",
       "      <th>sum Faceoffs Won</th>\n",
       "      <td>0.002516</td>\n",
       "    </tr>\n",
       "    <tr>\n",
       "      <th>3yr On-Ice SH%</th>\n",
       "      <td>0.002514</td>\n",
       "    </tr>\n",
       "    <tr>\n",
       "      <th>iFF</th>\n",
       "      <td>0.002419</td>\n",
       "    </tr>\n",
       "    <tr>\n",
       "      <th>mean iSCF</th>\n",
       "      <td>0.002028</td>\n",
       "    </tr>\n",
       "    <tr>\n",
       "      <th>mean Total Points/60</th>\n",
       "      <td>0.001966</td>\n",
       "    </tr>\n",
       "    <tr>\n",
       "      <th>Goals</th>\n",
       "      <td>0.001945</td>\n",
       "    </tr>\n",
       "    <tr>\n",
       "      <th>mean Faceoffs Won</th>\n",
       "      <td>0.001908</td>\n",
       "    </tr>\n",
       "    <tr>\n",
       "      <th>Goals/60</th>\n",
       "      <td>0.001761</td>\n",
       "    </tr>\n",
       "    <tr>\n",
       "      <th>sum Rush Attempts</th>\n",
       "      <td>0.001745</td>\n",
       "    </tr>\n",
       "    <tr>\n",
       "      <th>sum PIM</th>\n",
       "      <td>0.001734</td>\n",
       "    </tr>\n",
       "    <tr>\n",
       "      <th>Giveaways</th>\n",
       "      <td>0.001693</td>\n",
       "    </tr>\n",
       "    <tr>\n",
       "      <th>Penalties Drawn/60</th>\n",
       "      <td>0.001640</td>\n",
       "    </tr>\n",
       "    <tr>\n",
       "      <th>...</th>\n",
       "      <td>...</td>\n",
       "    </tr>\n",
       "    <tr>\n",
       "      <th>sum Misconduct</th>\n",
       "      <td>0.000000</td>\n",
       "    </tr>\n",
       "    <tr>\n",
       "      <th>sum Goals</th>\n",
       "      <td>0.000000</td>\n",
       "    </tr>\n",
       "    <tr>\n",
       "      <th>Takeaways</th>\n",
       "      <td>0.000000</td>\n",
       "    </tr>\n",
       "    <tr>\n",
       "      <th>Misconduct</th>\n",
       "      <td>0.000000</td>\n",
       "    </tr>\n",
       "    <tr>\n",
       "      <th>Major</th>\n",
       "      <td>0.000000</td>\n",
       "    </tr>\n",
       "    <tr>\n",
       "      <th>signing_status</th>\n",
       "      <td>0.000000</td>\n",
       "    </tr>\n",
       "    <tr>\n",
       "      <th>3yr HDGA/60 Rel</th>\n",
       "      <td>0.000000</td>\n",
       "    </tr>\n",
       "    <tr>\n",
       "      <th>HDCA/60 Rel</th>\n",
       "      <td>0.000000</td>\n",
       "    </tr>\n",
       "    <tr>\n",
       "      <th>HDGF% Rel</th>\n",
       "      <td>0.000000</td>\n",
       "    </tr>\n",
       "    <tr>\n",
       "      <th>Off. Zone Faceoffs/60</th>\n",
       "      <td>0.000000</td>\n",
       "    </tr>\n",
       "    <tr>\n",
       "      <th>3yr HDGF/60 Rel</th>\n",
       "      <td>0.000000</td>\n",
       "    </tr>\n",
       "    <tr>\n",
       "      <th>3yr HDCF/60 Rel</th>\n",
       "      <td>0.000000</td>\n",
       "    </tr>\n",
       "    <tr>\n",
       "      <th>3yr SCF% Rel</th>\n",
       "      <td>0.000000</td>\n",
       "    </tr>\n",
       "    <tr>\n",
       "      <th>3yr SCA/60 Rel</th>\n",
       "      <td>0.000000</td>\n",
       "    </tr>\n",
       "    <tr>\n",
       "      <th>3yr GF% Rel</th>\n",
       "      <td>0.000000</td>\n",
       "    </tr>\n",
       "    <tr>\n",
       "      <th>3yr FF% Rel</th>\n",
       "      <td>0.000000</td>\n",
       "    </tr>\n",
       "    <tr>\n",
       "      <th>3yr CF% Rel</th>\n",
       "      <td>0.000000</td>\n",
       "    </tr>\n",
       "    <tr>\n",
       "      <th>MDCF% Rel</th>\n",
       "      <td>0.000000</td>\n",
       "    </tr>\n",
       "    <tr>\n",
       "      <th>Def. Zone Faceoffs/60</th>\n",
       "      <td>0.000000</td>\n",
       "    </tr>\n",
       "    <tr>\n",
       "      <th>Off. Zone Start %</th>\n",
       "      <td>0.000000</td>\n",
       "    </tr>\n",
       "    <tr>\n",
       "      <th>Def. Zone Starts/60</th>\n",
       "      <td>0.000000</td>\n",
       "    </tr>\n",
       "    <tr>\n",
       "      <th>Neu. Zone Starts/60</th>\n",
       "      <td>0.000000</td>\n",
       "    </tr>\n",
       "    <tr>\n",
       "      <th>Off. Zone Starts/60</th>\n",
       "      <td>0.000000</td>\n",
       "    </tr>\n",
       "    <tr>\n",
       "      <th>LDGF/60 Rel</th>\n",
       "      <td>0.000000</td>\n",
       "    </tr>\n",
       "    <tr>\n",
       "      <th>MDGF/60 Rel</th>\n",
       "      <td>0.000000</td>\n",
       "    </tr>\n",
       "    <tr>\n",
       "      <th>forward</th>\n",
       "      <td>0.000000</td>\n",
       "    </tr>\n",
       "    <tr>\n",
       "      <th>GF/60 Rel</th>\n",
       "      <td>-0.000003</td>\n",
       "    </tr>\n",
       "    <tr>\n",
       "      <th>3yr FF/60 Rel</th>\n",
       "      <td>-0.000008</td>\n",
       "    </tr>\n",
       "    <tr>\n",
       "      <th>SCF% Rel</th>\n",
       "      <td>-0.000014</td>\n",
       "    </tr>\n",
       "    <tr>\n",
       "      <th>sum iSCF</th>\n",
       "      <td>-0.000040</td>\n",
       "    </tr>\n",
       "  </tbody>\n",
       "</table>\n",
       "<p>197 rows × 1 columns</p>\n",
       "</div>"
      ],
      "text/plain": [
       "                          Importance\n",
       "Feature                             \n",
       "TOI/GP                      0.082342\n",
       "Total Points                0.082056\n",
       "TOI                         0.046952\n",
       "mean Total Points           0.026065\n",
       "Total Assists               0.021713\n",
       "3yr TOI/GP                  0.017159\n",
       "signing_age                 0.013035\n",
       "iCF                         0.012647\n",
       "sum Total Points            0.008180\n",
       "mean Second Assists         0.006607\n",
       "mean GP                     0.005477\n",
       "mean TOI                    0.005441\n",
       "3yr On The Fly Starts/60    0.004532\n",
       "Shots Blocked               0.004002\n",
       "On The Fly Starts/60        0.003896\n",
       "On-Ice SH%                  0.003717\n",
       "mean Total Assists          0.003490\n",
       "sum Takeaways               0.002889\n",
       "sum Faceoffs Won            0.002516\n",
       "3yr On-Ice SH%              0.002514\n",
       "iFF                         0.002419\n",
       "mean iSCF                   0.002028\n",
       "mean Total Points/60        0.001966\n",
       "Goals                       0.001945\n",
       "mean Faceoffs Won           0.001908\n",
       "Goals/60                    0.001761\n",
       "sum Rush Attempts           0.001745\n",
       "sum PIM                     0.001734\n",
       "Giveaways                   0.001693\n",
       "Penalties Drawn/60          0.001640\n",
       "...                              ...\n",
       "sum Misconduct              0.000000\n",
       "sum Goals                   0.000000\n",
       "Takeaways                   0.000000\n",
       "Misconduct                  0.000000\n",
       "Major                       0.000000\n",
       "signing_status              0.000000\n",
       "3yr HDGA/60 Rel             0.000000\n",
       "HDCA/60 Rel                 0.000000\n",
       "HDGF% Rel                   0.000000\n",
       "Off. Zone Faceoffs/60       0.000000\n",
       "3yr HDGF/60 Rel             0.000000\n",
       "3yr HDCF/60 Rel             0.000000\n",
       "3yr SCF% Rel                0.000000\n",
       "3yr SCA/60 Rel              0.000000\n",
       "3yr GF% Rel                 0.000000\n",
       "3yr FF% Rel                 0.000000\n",
       "3yr CF% Rel                 0.000000\n",
       "MDCF% Rel                   0.000000\n",
       "Def. Zone Faceoffs/60       0.000000\n",
       "Off. Zone Start %           0.000000\n",
       "Def. Zone Starts/60         0.000000\n",
       "Neu. Zone Starts/60         0.000000\n",
       "Off. Zone Starts/60         0.000000\n",
       "LDGF/60 Rel                 0.000000\n",
       "MDGF/60 Rel                 0.000000\n",
       "forward                     0.000000\n",
       "GF/60 Rel                  -0.000003\n",
       "3yr FF/60 Rel              -0.000008\n",
       "SCF% Rel                   -0.000014\n",
       "sum iSCF                   -0.000040\n",
       "\n",
       "[197 rows x 1 columns]"
      ]
     },
     "execution_count": 849,
     "metadata": {},
     "output_type": "execute_result"
    }
   ],
   "source": [
    "rfpimp.importances(model.sal_model, X_train_df, yp_train)"
   ]
  },
  {
   "cell_type": "code",
   "execution_count": 850,
   "metadata": {},
   "outputs": [
    {
     "data": {
      "text/html": [
       "<div>\n",
       "<style scoped>\n",
       "    .dataframe tbody tr th:only-of-type {\n",
       "        vertical-align: middle;\n",
       "    }\n",
       "\n",
       "    .dataframe tbody tr th {\n",
       "        vertical-align: top;\n",
       "    }\n",
       "\n",
       "    .dataframe thead th {\n",
       "        text-align: right;\n",
       "    }\n",
       "</style>\n",
       "<table border=\"1\" class=\"dataframe\">\n",
       "  <thead>\n",
       "    <tr style=\"text-align: right;\">\n",
       "      <th></th>\n",
       "      <th>Importance</th>\n",
       "    </tr>\n",
       "    <tr>\n",
       "      <th>Feature</th>\n",
       "      <th></th>\n",
       "    </tr>\n",
       "  </thead>\n",
       "  <tbody>\n",
       "    <tr>\n",
       "      <th>pred_cap_pct</th>\n",
       "      <td>1.240697</td>\n",
       "    </tr>\n",
       "    <tr>\n",
       "      <th>signing_age</th>\n",
       "      <td>0.056229</td>\n",
       "    </tr>\n",
       "    <tr>\n",
       "      <th>Hits Taken</th>\n",
       "      <td>0.023402</td>\n",
       "    </tr>\n",
       "    <tr>\n",
       "      <th>Shots Blocked</th>\n",
       "      <td>0.016592</td>\n",
       "    </tr>\n",
       "    <tr>\n",
       "      <th>sum Shots</th>\n",
       "      <td>0.016430</td>\n",
       "    </tr>\n",
       "    <tr>\n",
       "      <th>3yr LDCA/60 Rel</th>\n",
       "      <td>0.010425</td>\n",
       "    </tr>\n",
       "    <tr>\n",
       "      <th>3yr SF% Rel</th>\n",
       "      <td>0.007054</td>\n",
       "    </tr>\n",
       "    <tr>\n",
       "      <th>3yr CF% Rel</th>\n",
       "      <td>0.005517</td>\n",
       "    </tr>\n",
       "    <tr>\n",
       "      <th>LDGA/60 Rel</th>\n",
       "      <td>0.005265</td>\n",
       "    </tr>\n",
       "    <tr>\n",
       "      <th>mean Faceoffs %</th>\n",
       "      <td>0.004982</td>\n",
       "    </tr>\n",
       "    <tr>\n",
       "      <th>sum Giveaways</th>\n",
       "      <td>0.004955</td>\n",
       "    </tr>\n",
       "    <tr>\n",
       "      <th>mean Penalties Drawn</th>\n",
       "      <td>0.004821</td>\n",
       "    </tr>\n",
       "    <tr>\n",
       "      <th>Total Penalties</th>\n",
       "      <td>0.004130</td>\n",
       "    </tr>\n",
       "    <tr>\n",
       "      <th>sum Total Points</th>\n",
       "      <td>0.004126</td>\n",
       "    </tr>\n",
       "    <tr>\n",
       "      <th>3yr Neu. Zone Faceoffs/60</th>\n",
       "      <td>0.003959</td>\n",
       "    </tr>\n",
       "    <tr>\n",
       "      <th>Hits/60</th>\n",
       "      <td>0.003921</td>\n",
       "    </tr>\n",
       "    <tr>\n",
       "      <th>On The Fly Starts/60</th>\n",
       "      <td>0.003838</td>\n",
       "    </tr>\n",
       "    <tr>\n",
       "      <th>3yr Def. Zone Starts/60</th>\n",
       "      <td>0.003727</td>\n",
       "    </tr>\n",
       "    <tr>\n",
       "      <th>mean Hits Taken</th>\n",
       "      <td>0.003506</td>\n",
       "    </tr>\n",
       "    <tr>\n",
       "      <th>mean Giveaways/60</th>\n",
       "      <td>0.003382</td>\n",
       "    </tr>\n",
       "    <tr>\n",
       "      <th>iCF</th>\n",
       "      <td>0.003308</td>\n",
       "    </tr>\n",
       "    <tr>\n",
       "      <th>sum Hits Taken</th>\n",
       "      <td>0.003203</td>\n",
       "    </tr>\n",
       "    <tr>\n",
       "      <th>3yr Def. Zone Faceoffs/60</th>\n",
       "      <td>0.002856</td>\n",
       "    </tr>\n",
       "    <tr>\n",
       "      <th>PIM/60</th>\n",
       "      <td>0.002768</td>\n",
       "    </tr>\n",
       "    <tr>\n",
       "      <th>mean TOI</th>\n",
       "      <td>0.002765</td>\n",
       "    </tr>\n",
       "    <tr>\n",
       "      <th>MDGF% Rel</th>\n",
       "      <td>0.002727</td>\n",
       "    </tr>\n",
       "    <tr>\n",
       "      <th>mean GP</th>\n",
       "      <td>0.002638</td>\n",
       "    </tr>\n",
       "    <tr>\n",
       "      <th>CA/60 Rel</th>\n",
       "      <td>0.002621</td>\n",
       "    </tr>\n",
       "    <tr>\n",
       "      <th>3yr LDGF/60 Rel</th>\n",
       "      <td>0.002585</td>\n",
       "    </tr>\n",
       "    <tr>\n",
       "      <th>On-Ice SH%</th>\n",
       "      <td>0.002569</td>\n",
       "    </tr>\n",
       "    <tr>\n",
       "      <th>...</th>\n",
       "      <td>...</td>\n",
       "    </tr>\n",
       "    <tr>\n",
       "      <th>Off. Zone Faceoffs/60</th>\n",
       "      <td>0.000000</td>\n",
       "    </tr>\n",
       "    <tr>\n",
       "      <th>3yr LDCF/60 Rel</th>\n",
       "      <td>0.000000</td>\n",
       "    </tr>\n",
       "    <tr>\n",
       "      <th>HDCA/60 Rel</th>\n",
       "      <td>0.000000</td>\n",
       "    </tr>\n",
       "    <tr>\n",
       "      <th>HDCF% Rel</th>\n",
       "      <td>0.000000</td>\n",
       "    </tr>\n",
       "    <tr>\n",
       "      <th>SF% Rel</th>\n",
       "      <td>0.000000</td>\n",
       "    </tr>\n",
       "    <tr>\n",
       "      <th>SA/60 Rel</th>\n",
       "      <td>0.000000</td>\n",
       "    </tr>\n",
       "    <tr>\n",
       "      <th>SF/60 Rel</th>\n",
       "      <td>0.000000</td>\n",
       "    </tr>\n",
       "    <tr>\n",
       "      <th>LDCF/60 Rel</th>\n",
       "      <td>0.000000</td>\n",
       "    </tr>\n",
       "    <tr>\n",
       "      <th>FA/60 Rel</th>\n",
       "      <td>0.000000</td>\n",
       "    </tr>\n",
       "    <tr>\n",
       "      <th>LDCF% Rel</th>\n",
       "      <td>0.000000</td>\n",
       "    </tr>\n",
       "    <tr>\n",
       "      <th>CF/60 Rel</th>\n",
       "      <td>0.000000</td>\n",
       "    </tr>\n",
       "    <tr>\n",
       "      <th>mean Shots Blocked</th>\n",
       "      <td>0.000000</td>\n",
       "    </tr>\n",
       "    <tr>\n",
       "      <th>mean Misconduct</th>\n",
       "      <td>0.000000</td>\n",
       "    </tr>\n",
       "    <tr>\n",
       "      <th>mean Major</th>\n",
       "      <td>0.000000</td>\n",
       "    </tr>\n",
       "    <tr>\n",
       "      <th>forward</th>\n",
       "      <td>0.000000</td>\n",
       "    </tr>\n",
       "    <tr>\n",
       "      <th>mean PIM</th>\n",
       "      <td>0.000000</td>\n",
       "    </tr>\n",
       "    <tr>\n",
       "      <th>3yr FF% Rel</th>\n",
       "      <td>0.000000</td>\n",
       "    </tr>\n",
       "    <tr>\n",
       "      <th>mean iSCF</th>\n",
       "      <td>0.000000</td>\n",
       "    </tr>\n",
       "    <tr>\n",
       "      <th>mean iFF</th>\n",
       "      <td>0.000000</td>\n",
       "    </tr>\n",
       "    <tr>\n",
       "      <th>mean iCF</th>\n",
       "      <td>0.000000</td>\n",
       "    </tr>\n",
       "    <tr>\n",
       "      <th>3yr GF% Rel</th>\n",
       "      <td>0.000000</td>\n",
       "    </tr>\n",
       "    <tr>\n",
       "      <th>3yr SCA/60 Rel</th>\n",
       "      <td>0.000000</td>\n",
       "    </tr>\n",
       "    <tr>\n",
       "      <th>3yr SCF% Rel</th>\n",
       "      <td>0.000000</td>\n",
       "    </tr>\n",
       "    <tr>\n",
       "      <th>mean Shots</th>\n",
       "      <td>0.000000</td>\n",
       "    </tr>\n",
       "    <tr>\n",
       "      <th>3yr HDGA/60 Rel</th>\n",
       "      <td>0.000000</td>\n",
       "    </tr>\n",
       "    <tr>\n",
       "      <th>3yr MDCF% Rel</th>\n",
       "      <td>0.000000</td>\n",
       "    </tr>\n",
       "    <tr>\n",
       "      <th>3yr MDCA/60 Rel</th>\n",
       "      <td>-0.000009</td>\n",
       "    </tr>\n",
       "    <tr>\n",
       "      <th>mean Faceoffs Won</th>\n",
       "      <td>-0.000010</td>\n",
       "    </tr>\n",
       "    <tr>\n",
       "      <th>sum Faceoffs Won</th>\n",
       "      <td>-0.000013</td>\n",
       "    </tr>\n",
       "    <tr>\n",
       "      <th>3yr HDGF/60 Rel</th>\n",
       "      <td>-0.000027</td>\n",
       "    </tr>\n",
       "  </tbody>\n",
       "</table>\n",
       "<p>198 rows × 1 columns</p>\n",
       "</div>"
      ],
      "text/plain": [
       "                           Importance\n",
       "Feature                              \n",
       "pred_cap_pct                 1.240697\n",
       "signing_age                  0.056229\n",
       "Hits Taken                   0.023402\n",
       "Shots Blocked                0.016592\n",
       "sum Shots                    0.016430\n",
       "3yr LDCA/60 Rel              0.010425\n",
       "3yr SF% Rel                  0.007054\n",
       "3yr CF% Rel                  0.005517\n",
       "LDGA/60 Rel                  0.005265\n",
       "mean Faceoffs %              0.004982\n",
       "sum Giveaways                0.004955\n",
       "mean Penalties Drawn         0.004821\n",
       "Total Penalties              0.004130\n",
       "sum Total Points             0.004126\n",
       "3yr Neu. Zone Faceoffs/60    0.003959\n",
       "Hits/60                      0.003921\n",
       "On The Fly Starts/60         0.003838\n",
       "3yr Def. Zone Starts/60      0.003727\n",
       "mean Hits Taken              0.003506\n",
       "mean Giveaways/60            0.003382\n",
       "iCF                          0.003308\n",
       "sum Hits Taken               0.003203\n",
       "3yr Def. Zone Faceoffs/60    0.002856\n",
       "PIM/60                       0.002768\n",
       "mean TOI                     0.002765\n",
       "MDGF% Rel                    0.002727\n",
       "mean GP                      0.002638\n",
       "CA/60 Rel                    0.002621\n",
       "3yr LDGF/60 Rel              0.002585\n",
       "On-Ice SH%                   0.002569\n",
       "...                               ...\n",
       "Off. Zone Faceoffs/60        0.000000\n",
       "3yr LDCF/60 Rel              0.000000\n",
       "HDCA/60 Rel                  0.000000\n",
       "HDCF% Rel                    0.000000\n",
       "SF% Rel                      0.000000\n",
       "SA/60 Rel                    0.000000\n",
       "SF/60 Rel                    0.000000\n",
       "LDCF/60 Rel                  0.000000\n",
       "FA/60 Rel                    0.000000\n",
       "LDCF% Rel                    0.000000\n",
       "CF/60 Rel                    0.000000\n",
       "mean Shots Blocked           0.000000\n",
       "mean Misconduct              0.000000\n",
       "mean Major                   0.000000\n",
       "forward                      0.000000\n",
       "mean PIM                     0.000000\n",
       "3yr FF% Rel                  0.000000\n",
       "mean iSCF                    0.000000\n",
       "mean iFF                     0.000000\n",
       "mean iCF                     0.000000\n",
       "3yr GF% Rel                  0.000000\n",
       "3yr SCA/60 Rel               0.000000\n",
       "3yr SCF% Rel                 0.000000\n",
       "mean Shots                   0.000000\n",
       "3yr HDGA/60 Rel              0.000000\n",
       "3yr MDCF% Rel                0.000000\n",
       "3yr MDCA/60 Rel             -0.000009\n",
       "mean Faceoffs Won           -0.000010\n",
       "sum Faceoffs Won            -0.000013\n",
       "3yr HDGF/60 Rel             -0.000027\n",
       "\n",
       "[198 rows x 1 columns]"
      ]
     },
     "execution_count": 850,
     "metadata": {},
     "output_type": "execute_result"
    }
   ],
   "source": [
    "X_train_df['pred_cap_pct'] = model.sal_model.predict(X_train)\n",
    "rfpimp.importances(model.len_model, X_train_df, yl_train)"
   ]
  },
  {
   "cell_type": "code",
   "execution_count": 17,
   "metadata": {},
   "outputs": [
    {
     "data": {
      "text/plain": [
       "(1170, 204)"
      ]
     },
     "execution_count": 17,
     "metadata": {},
     "output_type": "execute_result"
    }
   ],
   "source": [
    "df.shape"
   ]
  },
  {
   "cell_type": "code",
   "execution_count": 19,
   "metadata": {},
   "outputs": [
    {
     "data": {
      "image/png": "[encoded data removed]",
      "text/plain": [
       "<Figure size 432x288 with 1 Axes>"
      ]
     },
     "metadata": {},
     "output_type": "display_data"
    }
   ],
   "source": [
    "plt.scatter(df['TOI/GP'], df['cap_pct'])\n",
    "plt.title('Cap_pct vs. TOI/GP')\n",
    "plt.show()"
   ]
  },
  {
   "cell_type": "code",
   "execution_count": 24,
   "metadata": {},
   "outputs": [
    {
     "data": {
      "image/png": "[encoded data removed]",
      "text/plain": [
       "<Figure size 432x288 with 1 Axes>"
      ]
     },
     "metadata": {},
     "output_type": "display_data"
    }
   ],
   "source": [
    "plt.plot(df.groupby('cap_pct')['TOI/GP'].mean())\n",
    "plt.show()"
   ]
  },
  {
   "cell_type": "code",
   "execution_count": 58,
   "metadata": {},
   "outputs": [],
   "source": [
    "cutdf = df.copy()\n",
    "toibins = np.arange(1,12) * 2.5\n",
    "cutdf['TOIbin'] = pd.cut(df['TOI/GP'], toibins)\n",
    "means = cutdf.groupby('TOIbin')['cap_pct'].mean()"
   ]
  },
  {
   "cell_type": "code",
   "execution_count": 63,
   "metadata": {},
   "outputs": [
    {
     "data": {
      "image/png": "[encoded data removed]",
      "text/plain": [
       "<Figure size 432x288 with 1 Axes>"
      ]
     },
     "metadata": {},
     "output_type": "display_data"
    }
   ],
   "source": [
    "plt.plot(toibins[:-1], means, color = 'cyan', label = 'TOI/GP')\n",
    "plt.xlabel('Time on Ice per Game')\n",
    "plt.ylabel('avg Salary Cap %')\n",
    "plt.title('Salary vs. TOI / GP')\n",
    "plt.legend()\n",
    "plt.show()"
   ]
  },
  {
   "cell_type": "code",
   "execution_count": 62,
   "metadata": {},
   "outputs": [
    {
     "data": {
      "image/png": "[encoded data removed]",
      "text/plain": [
       "<Figure size 432x288 with 1 Axes>"
      ]
     },
     "metadata": {},
     "output_type": "display_data"
    }
   ],
   "source": [
    "plt.plot(means, toibins[:-1], color = 'cyan', label = 'TOI/GP')\n",
    "plt.ylabel('Time on Ice per Game')\n",
    "plt.xlabel('avg Salary Cap %')\n",
    "plt.title('Salary vs. TOI / GP')\n",
    "plt.legend()\n",
    "plt.show()"
   ]
  },
  {
   "cell_type": "code",
   "execution_count": 49,
   "metadata": {},
   "outputs": [
    {
     "data": {
      "text/plain": [
       "TOIbin\n",
       "(2.5, 5.0]       0.832500\n",
       "(5.0, 7.5]       0.888108\n",
       "(7.5, 10.0]      0.940082\n",
       "(10.0, 12.5]     1.099641\n",
       "(12.5, 15.0]     1.641133\n",
       "(15.0, 17.5]     3.107593\n",
       "(17.5, 20.0]     5.054012\n",
       "(20.0, 22.5]     6.291692\n",
       "(22.5, 25.0]     7.254545\n",
       "(25.0, 27.5]    10.412000\n",
       "Name: cap_pct, dtype: float64"
      ]
     },
     "execution_count": 49,
     "metadata": {},
     "output_type": "execute_result"
    }
   ],
   "source": [
    "means"
   ]
  },
  {
   "cell_type": "code",
   "execution_count": 64,
   "metadata": {},
   "outputs": [
    {
     "data": {
      "text/plain": [
       "(16.67, 0.77)"
      ]
     },
     "execution_count": 64,
     "metadata": {},
     "output_type": "execute_result"
    }
   ],
   "source": [
    "df['cap_pct'].max(), df['cap_pct'].min()"
   ]
  },
  {
   "cell_type": "code",
   "execution_count": 88,
   "metadata": {},
   "outputs": [],
   "source": [
    "pctbins = np.linspace(0.75, 16.75, 15)\n",
    "cutdf = df.copy()\n",
    "#toibins = np.arange(1,12) * 2.5\n",
    "cutdf['pctbin'] = pd.cut(df['cap_pct'], pctbins)\n",
    "means = cutdf.groupby('pctbin')[['TOI/GP', 'Total Points', 'iCF', 'signing_age']].mean()"
   ]
  },
  {
   "cell_type": "code",
   "execution_count": 89,
   "metadata": {},
   "outputs": [
    {
     "data": {
      "image/png": "[encoded data removed]",
      "text/plain": [
       "<Figure size 432x288 with 1 Axes>"
      ]
     },
     "metadata": {},
     "output_type": "display_data"
    }
   ],
   "source": [
    "plt.plot(pctbins[:-1], means['TOI/GP'], color = 'cyan', label = 'TOI/GP')\n",
    "plt.plot(pctbins[:-1], means['Total Points'], color = 'r', label = 'Total Points')\n",
    "plt.plot(pctbins[:-1], means['iCF'], color = 'g', label = 'iCF')\n",
    "plt.plot(pctbins[:-1], means['signing_age'], color = 'orange', label = 'Signing Age')\n",
    "plt.ylabel('Stats')\n",
    "plt.xlabel('avg Salary Cap %')\n",
    "plt.title('Stats vs. Salary')\n",
    "plt.legend()\n",
    "plt.semilogy()\n",
    "plt.show()"
   ]
  },
  {
   "cell_type": "code",
   "execution_count": 90,
   "metadata": {},
   "outputs": [
    {
     "data": {
      "image/png": "[encoded data removed]",
      "text/plain": [
       "<Figure size 432x288 with 1 Axes>"
      ]
     },
     "metadata": {},
     "output_type": "display_data"
    }
   ],
   "source": [
    "plt.plot(pctbins[:-1], means['TOI/GP'], color = 'cyan', label = 'TOI/GP')\n",
    "#plt.plot(pctbins[:-1], means['Total Points'], color = 'r', label = 'Total Points')\n",
    "#plt.plot(pctbins[:-1], means['iCF'], color = 'g', label = 'iCF')\n",
    "plt.plot(pctbins[:-1], means['signing_age'], color = 'orange', label = 'Signing Age')\n",
    "plt.ylabel('Stats')\n",
    "plt.xlabel('avg Salary Cap %')\n",
    "plt.title('Stats vs. Salary')\n",
    "plt.legend()\n",
    "#plt.semilogy()\n",
    "plt.show()"
   ]
  },
  {
   "cell_type": "code",
   "execution_count": 91,
   "metadata": {},
   "outputs": [
    {
     "data": {
      "image/png": "[encoded data removed]",
      "text/plain": [
       "<Figure size 432x288 with 1 Axes>"
      ]
     },
     "metadata": {},
     "output_type": "display_data"
    }
   ],
   "source": [
    "plt.plot(means['TOI/GP'], pctbins[:-1], color = 'cyan', label = 'TOI/GP')\n",
    "plt.plot(means['Total Points'], pctbins[:-1], color = 'r', label = 'Total Points')\n",
    "plt.plot(means['iCF'], pctbins[:-1], color = 'g', label = 'iCF')\n",
    "plt.plot(means['signing_age'], pctbins[:-1], color = 'orange', label = 'Signing Age')\n",
    "plt.xlabel('Stats')\n",
    "plt.ylabel('avg Salary Cap %')\n",
    "plt.title('Salary vs. Stats')\n",
    "plt.legend()\n",
    "plt.semilogx()\n",
    "plt.show()"
   ]
  },
  {
   "cell_type": "code",
   "execution_count": 92,
   "metadata": {},
   "outputs": [
    {
     "data": {
      "image/png": "[encoded data removed]",
      "text/plain": [
       "<Figure size 432x288 with 1 Axes>"
      ]
     },
     "metadata": {},
     "output_type": "display_data"
    }
   ],
   "source": [
    "plt.plot(means['TOI/GP'], pctbins[:-1], color = 'cyan', label = 'TOI/GP')\n",
    "#plt.plot(means['Total Points'], pctbins[:-1], color = 'r', label = 'Total Points')\n",
    "#plt.plot(means['iCF'], pctbins[:-1], color = 'g', label = 'iCF')\n",
    "plt.plot(means['signing_age'], pctbins[:-1], color = 'orange', label = 'Signing Age')\n",
    "plt.xlabel('Stats')\n",
    "plt.ylabel('avg Salary Cap %')\n",
    "plt.title('Salary vs. Stats')\n",
    "plt.legend()\n",
    "#plt.semilogx()\n",
    "plt.show()"
   ]
  },
  {
   "cell_type": "code",
   "execution_count": 94,
   "metadata": {},
   "outputs": [],
   "source": [
    "import io"
   ]
  },
  {
   "cell_type": "code",
   "execution_count": 96,
   "metadata": {},
   "outputs": [
    {
     "ename": "NameError",
     "evalue": "name 'model' is not defined",
     "output_type": "error",
     "traceback": [
      "\u001b[0;31m---------------------------------------------------------------------------\u001b[0m",
      "\u001b[0;31mNameError\u001b[0m                                 Traceback (most recent call last)",
      "\u001b[0;32m<ipython-input-96-fff7d0be1ab3>\u001b[0m in \u001b[0;36m<module>\u001b[0;34m()\u001b[0m\n\u001b[1;32m      1\u001b[0m \u001b[0mout\u001b[0m \u001b[0;34m=\u001b[0m \u001b[0mio\u001b[0m\u001b[0;34m.\u001b[0m\u001b[0mStringIO\u001b[0m\u001b[0;34m(\u001b[0m\u001b[0;34m)\u001b[0m\u001b[0;34m\u001b[0m\u001b[0m\n\u001b[0;32m----> 2\u001b[0;31m \u001b[0mout\u001b[0m \u001b[0;34m=\u001b[0m \u001b[0mmodel\u001b[0m\u001b[0;34m.\u001b[0m\u001b[0msal_model\u001b[0m\u001b[0;34m.\u001b[0m\u001b[0mexport_graphviz\u001b[0m\u001b[0;34m(\u001b[0m\u001b[0mclf\u001b[0m\u001b[0;34m,\u001b[0m \u001b[0mout_file\u001b[0m\u001b[0;34m=\u001b[0m\u001b[0mout\u001b[0m\u001b[0;34m)\u001b[0m\u001b[0;34m\u001b[0m\u001b[0m\n\u001b[0m",
      "\u001b[0;31mNameError\u001b[0m: name 'model' is not defined"
     ]
    }
   ],
   "source": [
    "out = io.StringIO()\n",
    "out = model.sal_model.export_graphviz(clf, out_file=out)"
   ]
  },
  {
   "cell_type": "code",
   "execution_count": null,
   "metadata": {},
   "outputs": [],
   "source": []
  }
 ],
 "metadata": {
  "kernelspec": {
   "display_name": "Python 3",
   "language": "python",
   "name": "python3"
  },
  "language_info": {
   "codemirror_mode": {
    "name": "ipython",
    "version": 3
   },
   "file_extension": ".py",
   "mimetype": "text/x-python",
   "name": "python",
   "nbconvert_exporter": "python",
   "pygments_lexer": "ipython3",
   "version": "3.6.5"
  }
 },
 "nbformat": 4,
 "nbformat_minor": 2
}
